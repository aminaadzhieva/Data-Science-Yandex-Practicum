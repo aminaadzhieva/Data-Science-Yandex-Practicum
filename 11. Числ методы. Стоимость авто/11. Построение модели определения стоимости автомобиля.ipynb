{
 "cells": [
  {
   "cell_type": "markdown",
   "metadata": {
    "id": "9YybtSBugtJI"
   },
   "source": [
    "# Определение стоимости автомобилей\n",
    "\n",
    "**Цель исследования** - Разработка системы рекомендации стоимости автомобиля на основе его описания.\n",
    "\n",
    "**Датафрейм:** Исторические данные сервиса по продаже автомобилей с пробегом. \n",
    "\n",
    "**План работы:**\n",
    "1. Импорт данных.\n",
    "2. Изучение и предобрабокта.\n",
    "3. Подготовка выборки для обучения.\n",
    "4. Обучение моделей.\n",
    "5. Анализ моделей.\n",
    "6. Вывод."
   ]
  },
  {
   "cell_type": "markdown",
   "metadata": {
    "id": "O2aRiQ_FvkRY"
   },
   "source": [
    "## Импорт данных:"
   ]
  },
  {
   "cell_type": "code",
   "execution_count": 1,
   "metadata": {},
   "outputs": [
    {
     "name": "stdout",
     "output_type": "stream",
     "text": [
      "Requirement already satisfied: scikit-learn==1.1.3 in c:\\users\\amish\\appdata\\local\\programs\\python\\python310\\lib\\site-packages (1.1.3)\n",
      "Requirement already satisfied: numpy>=1.17.3 in c:\\users\\amish\\appdata\\local\\programs\\python\\python310\\lib\\site-packages (from scikit-learn==1.1.3) (1.24.2)\n",
      "Requirement already satisfied: scipy>=1.3.2 in c:\\users\\amish\\appdata\\local\\programs\\python\\python310\\lib\\site-packages (from scikit-learn==1.1.3) (1.10.1)\n",
      "Requirement already satisfied: joblib>=1.0.0 in c:\\users\\amish\\appdata\\local\\programs\\python\\python310\\lib\\site-packages (from scikit-learn==1.1.3) (1.2.0)\n",
      "Requirement already satisfied: threadpoolctl>=2.0.0 in c:\\users\\amish\\appdata\\local\\programs\\python\\python310\\lib\\site-packages (from scikit-learn==1.1.3) (3.1.0)\n"
     ]
    },
    {
     "name": "stderr",
     "output_type": "stream",
     "text": [
      "\n",
      "[notice] A new release of pip is available: 23.1.2 -> 23.2.1\n",
      "[notice] To update, run: python.exe -m pip install --upgrade pip\n"
     ]
    }
   ],
   "source": [
    "# Импортируем библиоотеки:\n",
    "import pandas as pd \n",
    "import numpy as np \n",
    "import matplotlib.pyplot as plt\n",
    "import seaborn as sns\n",
    "\n",
    "import warnings\n",
    "\n",
    "import time \n",
    "\n",
    "from sklearn.model_selection import cross_val_score\n",
    "from sklearn.model_selection import RepeatedKFold\n",
    "from sklearn.metrics import mean_squared_error\n",
    "from sklearn.metrics import mean_squared_error as mse\n",
    "from sklearn.model_selection import train_test_split, GridSearchCV\n",
    "from sklearn.pipeline import make_pipeline\n",
    "from sklearn.compose import make_column_transformer\n",
    "from sklearn.preprocessing import (\n",
    "    OneHotEncoder,\n",
    "    OrdinalEncoder,\n",
    "    StandardScaler\n",
    ")\n",
    "\n",
    "\n",
    "from catboost import CatBoostRegressor \n",
    "from lightgbm import LGBMRegressor\n",
    "from sklearn.linear_model import LinearRegression\n",
    "!pip install scikit-learn==1.1.3\n",
    "\n",
    "from catboost import CatBoostRegressor, Pool\n",
    "\n",
    "warnings.filterwarnings(\"ignore\")\n",
    "\n",
    "RND = 12345"
   ]
  },
  {
   "cell_type": "code",
   "execution_count": 4,
   "metadata": {
    "id": "bQm2nhSvki0g"
   },
   "outputs": [],
   "source": [
    "df = pd.read_csv('https://code.s3.yandex.net/datasets/autos.csv')"
   ]
  },
  {
   "cell_type": "markdown",
   "metadata": {
    "id": "tI4zDtUddX4k"
   },
   "source": [
    "## Изучение и предобработка данных:"
   ]
  },
  {
   "cell_type": "markdown",
   "metadata": {
    "id": "_yHWvYa2k_2W"
   },
   "source": [
    "Изучу данные на предмет пропусков, дубликатов, изучу столбцы на информативность."
   ]
  },
  {
   "cell_type": "code",
   "execution_count": 5,
   "metadata": {
    "colab": {
     "base_uri": "https://localhost:8080/",
     "height": 0
    },
    "id": "BfT4vimIk1Dh",
    "outputId": "6ec87a6c-b410-4b72-9c7d-44cb74735526"
   },
   "outputs": [
    {
     "data": {
      "text/html": [
       "<div>\n",
       "<style scoped>\n",
       "    .dataframe tbody tr th:only-of-type {\n",
       "        vertical-align: middle;\n",
       "    }\n",
       "\n",
       "    .dataframe tbody tr th {\n",
       "        vertical-align: top;\n",
       "    }\n",
       "\n",
       "    .dataframe thead th {\n",
       "        text-align: right;\n",
       "    }\n",
       "</style>\n",
       "<table border=\"1\" class=\"dataframe\">\n",
       "  <thead>\n",
       "    <tr style=\"text-align: right;\">\n",
       "      <th></th>\n",
       "      <th>DateCrawled</th>\n",
       "      <th>Price</th>\n",
       "      <th>VehicleType</th>\n",
       "      <th>RegistrationYear</th>\n",
       "      <th>Gearbox</th>\n",
       "      <th>Power</th>\n",
       "      <th>Model</th>\n",
       "      <th>Kilometer</th>\n",
       "      <th>RegistrationMonth</th>\n",
       "      <th>FuelType</th>\n",
       "      <th>Brand</th>\n",
       "      <th>Repaired</th>\n",
       "      <th>DateCreated</th>\n",
       "      <th>NumberOfPictures</th>\n",
       "      <th>PostalCode</th>\n",
       "      <th>LastSeen</th>\n",
       "    </tr>\n",
       "  </thead>\n",
       "  <tbody>\n",
       "    <tr>\n",
       "      <th>0</th>\n",
       "      <td>2016-03-24 11:52:17</td>\n",
       "      <td>480</td>\n",
       "      <td>NaN</td>\n",
       "      <td>1993</td>\n",
       "      <td>manual</td>\n",
       "      <td>0</td>\n",
       "      <td>golf</td>\n",
       "      <td>150000</td>\n",
       "      <td>0</td>\n",
       "      <td>petrol</td>\n",
       "      <td>volkswagen</td>\n",
       "      <td>NaN</td>\n",
       "      <td>2016-03-24 00:00:00</td>\n",
       "      <td>0</td>\n",
       "      <td>70435</td>\n",
       "      <td>2016-04-07 03:16:57</td>\n",
       "    </tr>\n",
       "    <tr>\n",
       "      <th>1</th>\n",
       "      <td>2016-03-24 10:58:45</td>\n",
       "      <td>18300</td>\n",
       "      <td>coupe</td>\n",
       "      <td>2011</td>\n",
       "      <td>manual</td>\n",
       "      <td>190</td>\n",
       "      <td>NaN</td>\n",
       "      <td>125000</td>\n",
       "      <td>5</td>\n",
       "      <td>gasoline</td>\n",
       "      <td>audi</td>\n",
       "      <td>yes</td>\n",
       "      <td>2016-03-24 00:00:00</td>\n",
       "      <td>0</td>\n",
       "      <td>66954</td>\n",
       "      <td>2016-04-07 01:46:50</td>\n",
       "    </tr>\n",
       "    <tr>\n",
       "      <th>2</th>\n",
       "      <td>2016-03-14 12:52:21</td>\n",
       "      <td>9800</td>\n",
       "      <td>suv</td>\n",
       "      <td>2004</td>\n",
       "      <td>auto</td>\n",
       "      <td>163</td>\n",
       "      <td>grand</td>\n",
       "      <td>125000</td>\n",
       "      <td>8</td>\n",
       "      <td>gasoline</td>\n",
       "      <td>jeep</td>\n",
       "      <td>NaN</td>\n",
       "      <td>2016-03-14 00:00:00</td>\n",
       "      <td>0</td>\n",
       "      <td>90480</td>\n",
       "      <td>2016-04-05 12:47:46</td>\n",
       "    </tr>\n",
       "    <tr>\n",
       "      <th>3</th>\n",
       "      <td>2016-03-17 16:54:04</td>\n",
       "      <td>1500</td>\n",
       "      <td>small</td>\n",
       "      <td>2001</td>\n",
       "      <td>manual</td>\n",
       "      <td>75</td>\n",
       "      <td>golf</td>\n",
       "      <td>150000</td>\n",
       "      <td>6</td>\n",
       "      <td>petrol</td>\n",
       "      <td>volkswagen</td>\n",
       "      <td>no</td>\n",
       "      <td>2016-03-17 00:00:00</td>\n",
       "      <td>0</td>\n",
       "      <td>91074</td>\n",
       "      <td>2016-03-17 17:40:17</td>\n",
       "    </tr>\n",
       "    <tr>\n",
       "      <th>4</th>\n",
       "      <td>2016-03-31 17:25:20</td>\n",
       "      <td>3600</td>\n",
       "      <td>small</td>\n",
       "      <td>2008</td>\n",
       "      <td>manual</td>\n",
       "      <td>69</td>\n",
       "      <td>fabia</td>\n",
       "      <td>90000</td>\n",
       "      <td>7</td>\n",
       "      <td>gasoline</td>\n",
       "      <td>skoda</td>\n",
       "      <td>no</td>\n",
       "      <td>2016-03-31 00:00:00</td>\n",
       "      <td>0</td>\n",
       "      <td>60437</td>\n",
       "      <td>2016-04-06 10:17:21</td>\n",
       "    </tr>\n",
       "  </tbody>\n",
       "</table>\n",
       "</div>"
      ],
      "text/plain": [
       "           DateCrawled  Price VehicleType  RegistrationYear Gearbox  Power   \n",
       "0  2016-03-24 11:52:17    480         NaN              1993  manual      0  \\\n",
       "1  2016-03-24 10:58:45  18300       coupe              2011  manual    190   \n",
       "2  2016-03-14 12:52:21   9800         suv              2004    auto    163   \n",
       "3  2016-03-17 16:54:04   1500       small              2001  manual     75   \n",
       "4  2016-03-31 17:25:20   3600       small              2008  manual     69   \n",
       "\n",
       "   Model  Kilometer  RegistrationMonth  FuelType       Brand Repaired   \n",
       "0   golf     150000                  0    petrol  volkswagen      NaN  \\\n",
       "1    NaN     125000                  5  gasoline        audi      yes   \n",
       "2  grand     125000                  8  gasoline        jeep      NaN   \n",
       "3   golf     150000                  6    petrol  volkswagen       no   \n",
       "4  fabia      90000                  7  gasoline       skoda       no   \n",
       "\n",
       "           DateCreated  NumberOfPictures  PostalCode             LastSeen  \n",
       "0  2016-03-24 00:00:00                 0       70435  2016-04-07 03:16:57  \n",
       "1  2016-03-24 00:00:00                 0       66954  2016-04-07 01:46:50  \n",
       "2  2016-03-14 00:00:00                 0       90480  2016-04-05 12:47:46  \n",
       "3  2016-03-17 00:00:00                 0       91074  2016-03-17 17:40:17  \n",
       "4  2016-03-31 00:00:00                 0       60437  2016-04-06 10:17:21  "
      ]
     },
     "execution_count": 5,
     "metadata": {},
     "output_type": "execute_result"
    }
   ],
   "source": [
    "df.head()"
   ]
  },
  {
   "cell_type": "code",
   "execution_count": 6,
   "metadata": {
    "colab": {
     "base_uri": "https://localhost:8080/"
    },
    "id": "lMX0WI3FnXnH",
    "outputId": "c48c914b-cd84-4529-b3a1-2c20cd5b7ee2"
   },
   "outputs": [
    {
     "name": "stdout",
     "output_type": "stream",
     "text": [
      "<class 'pandas.core.frame.DataFrame'>\n",
      "RangeIndex: 354369 entries, 0 to 354368\n",
      "Data columns (total 16 columns):\n",
      " #   Column             Non-Null Count   Dtype \n",
      "---  ------             --------------   ----- \n",
      " 0   DateCrawled        354369 non-null  object\n",
      " 1   Price              354369 non-null  int64 \n",
      " 2   VehicleType        316879 non-null  object\n",
      " 3   RegistrationYear   354369 non-null  int64 \n",
      " 4   Gearbox            334536 non-null  object\n",
      " 5   Power              354369 non-null  int64 \n",
      " 6   Model              334664 non-null  object\n",
      " 7   Kilometer          354369 non-null  int64 \n",
      " 8   RegistrationMonth  354369 non-null  int64 \n",
      " 9   FuelType           321474 non-null  object\n",
      " 10  Brand              354369 non-null  object\n",
      " 11  Repaired           283215 non-null  object\n",
      " 12  DateCreated        354369 non-null  object\n",
      " 13  NumberOfPictures   354369 non-null  int64 \n",
      " 14  PostalCode         354369 non-null  int64 \n",
      " 15  LastSeen           354369 non-null  object\n",
      "dtypes: int64(7), object(9)\n",
      "memory usage: 43.3+ MB\n"
     ]
    }
   ],
   "source": [
    "df.info()"
   ]
  },
  {
   "cell_type": "markdown",
   "metadata": {
    "id": "3Z3RxjowlU64"
   },
   "source": [
    "Месяц регистрации автомобиля, количество фотографий автомобиля, и дата последней активности пользователя, дата скачивания анкеты из базы, дата создания анкеты - это неинформативные столбцы, на цене весомо не сказываются, а вот качество этих данных может страдать, и скорость работы модели также будет замедляться."
   ]
  },
  {
   "cell_type": "code",
   "execution_count": 7,
   "metadata": {
    "id": "nqHuBJhGl-5X"
   },
   "outputs": [],
   "source": [
    "# Удалим неинформативные столбцы:\n",
    "df = df.drop([\"DateCrawled\",\"DateCreated\",\"LastSeen\",\"NumberOfPictures\",\"PostalCode\"],axis = 1)"
   ]
  },
  {
   "cell_type": "code",
   "execution_count": 8,
   "metadata": {
    "colab": {
     "base_uri": "https://localhost:8080/"
    },
    "id": "_k5btVKelNbw",
    "outputId": "82c1ed62-e00c-428c-c487-833cf0985297"
   },
   "outputs": [
    {
     "name": "stdout",
     "output_type": "stream",
     "text": [
      "<class 'pandas.core.frame.DataFrame'>\n",
      "RangeIndex: 354369 entries, 0 to 354368\n",
      "Data columns (total 11 columns):\n",
      " #   Column             Non-Null Count   Dtype \n",
      "---  ------             --------------   ----- \n",
      " 0   Price              354369 non-null  int64 \n",
      " 1   VehicleType        316879 non-null  object\n",
      " 2   RegistrationYear   354369 non-null  int64 \n",
      " 3   Gearbox            334536 non-null  object\n",
      " 4   Power              354369 non-null  int64 \n",
      " 5   Model              334664 non-null  object\n",
      " 6   Kilometer          354369 non-null  int64 \n",
      " 7   RegistrationMonth  354369 non-null  int64 \n",
      " 8   FuelType           321474 non-null  object\n",
      " 9   Brand              354369 non-null  object\n",
      " 10  Repaired           283215 non-null  object\n",
      "dtypes: int64(5), object(6)\n",
      "memory usage: 29.7+ MB\n"
     ]
    }
   ],
   "source": [
    "# Проверим результат:\n",
    "df.info()"
   ]
  },
  {
   "cell_type": "code",
   "execution_count": 9,
   "metadata": {
    "colab": {
     "base_uri": "https://localhost:8080/"
    },
    "id": "k3H3u-Hdntpd",
    "outputId": "ec6c268f-e41d-4b7e-cb4d-421e2862580d"
   },
   "outputs": [
    {
     "data": {
      "text/plain": [
       "27543"
      ]
     },
     "execution_count": 9,
     "metadata": {},
     "output_type": "execute_result"
    }
   ],
   "source": [
    "# Проверим датасет на дубликаты:\n",
    "df.duplicated().sum()"
   ]
  },
  {
   "cell_type": "markdown",
   "metadata": {
    "id": "vjusUb-Jp8zt"
   },
   "source": [
    "В датасете из данных в 354368 строк 19 дубликатов, попробую их удалить и проверить метрики качества. Если все норм, то оставлю удаление."
   ]
  },
  {
   "cell_type": "code",
   "execution_count": 10,
   "metadata": {
    "id": "peKaAGhmqOKY"
   },
   "outputs": [],
   "source": [
    "# Удаляем дубликаты:\n",
    "df = df.drop_duplicates()"
   ]
  },
  {
   "cell_type": "code",
   "execution_count": 11,
   "metadata": {
    "colab": {
     "base_uri": "https://localhost:8080/"
    },
    "id": "iowR4DUXqVIn",
    "outputId": "f50d5fc3-c920-4711-ab05-fcdbf051d1f2"
   },
   "outputs": [
    {
     "data": {
      "text/plain": [
       "0"
      ]
     },
     "execution_count": 11,
     "metadata": {},
     "output_type": "execute_result"
    }
   ],
   "source": [
    "df.duplicated().sum()"
   ]
  },
  {
   "cell_type": "code",
   "execution_count": 12,
   "metadata": {
    "colab": {
     "base_uri": "https://localhost:8080/"
    },
    "id": "BNMafaB3eL3D",
    "outputId": "23f16ce7-f731-443c-ac9a-94e145d8db32"
   },
   "outputs": [
    {
     "data": {
      "text/plain": [
       "Price                    0\n",
       "VehicleType          35249\n",
       "RegistrationYear         0\n",
       "Gearbox              17578\n",
       "Power                    0\n",
       "Model                18532\n",
       "Kilometer                0\n",
       "RegistrationMonth        0\n",
       "FuelType             31122\n",
       "Brand                    0\n",
       "Repaired             66427\n",
       "dtype: int64"
      ]
     },
     "execution_count": 12,
     "metadata": {},
     "output_type": "execute_result"
    }
   ],
   "source": [
    "# Проверим нулевые значения: \n",
    "df.isna().sum()"
   ]
  },
  {
   "cell_type": "markdown",
   "metadata": {
    "id": "m1Zzw5cjqnxE"
   },
   "source": [
    "Обработаю каждый столбец отдельно:"
   ]
  },
  {
   "cell_type": "code",
   "execution_count": 13,
   "metadata": {
    "colab": {
     "base_uri": "https://localhost:8080/"
    },
    "id": "3r9BeqUKqtuC",
    "outputId": "4024c5ca-559d-493a-be8b-b953e6a48254"
   },
   "outputs": [
    {
     "data": {
      "text/plain": [
       "array([nan, 'coupe', 'suv', 'small', 'sedan', 'convertible', 'bus',\n",
       "       'wagon', 'other'], dtype=object)"
      ]
     },
     "execution_count": 13,
     "metadata": {},
     "output_type": "execute_result"
    }
   ],
   "source": [
    "# Посмотрю уникальные значения отдельно столбца:\n",
    "df.VehicleType.unique()"
   ]
  },
  {
   "cell_type": "markdown",
   "metadata": {
    "id": "vEsBYDxzrSmN"
   },
   "source": [
    "Считаю абсолютно неверным строки с пропусками в этом столбце, потому что это будет огромная потеря данных, но и заменить не на что, единственно возможный вариант из известных нам - это заглушка, поставлю заглушку."
   ]
  },
  {
   "cell_type": "code",
   "execution_count": 14,
   "metadata": {
    "id": "VHy39erVr6dV"
   },
   "outputs": [],
   "source": [
    "# Заменю все пропуски в этом стобце на nan:\n",
    "df['VehicleType']=df['VehicleType'].fillna('other')"
   ]
  },
  {
   "cell_type": "code",
   "execution_count": 15,
   "metadata": {
    "colab": {
     "base_uri": "https://localhost:8080/"
    },
    "id": "zWTTko2YsKHC",
    "outputId": "96906b99-5b8f-48d7-a551-f462d2520cea"
   },
   "outputs": [
    {
     "data": {
      "text/plain": [
       "0"
      ]
     },
     "execution_count": 15,
     "metadata": {},
     "output_type": "execute_result"
    }
   ],
   "source": [
    "# Проверка:\n",
    "df.VehicleType.isna().sum()"
   ]
  },
  {
   "cell_type": "markdown",
   "metadata": {
    "id": "mQ55RrGrwOc9"
   },
   "source": [
    "Проделаю то же самое со столбцом FuelType:"
   ]
  },
  {
   "cell_type": "code",
   "execution_count": 16,
   "metadata": {
    "colab": {
     "base_uri": "https://localhost:8080/"
    },
    "id": "HNL-DJ8vv3qf",
    "outputId": "814fc959-3223-4b01-d2a1-603df09c0114"
   },
   "outputs": [
    {
     "data": {
      "text/plain": [
       "array(['petrol', 'gasoline', nan, 'lpg', 'other', 'hybrid', 'cng',\n",
       "       'electric'], dtype=object)"
      ]
     },
     "execution_count": 16,
     "metadata": {},
     "output_type": "execute_result"
    }
   ],
   "source": [
    "df.FuelType.unique()"
   ]
  },
  {
   "cell_type": "code",
   "execution_count": 17,
   "metadata": {
    "colab": {
     "base_uri": "https://localhost:8080/"
    },
    "id": "7gx6-3nfwDx_",
    "outputId": "f869526b-d767-43a3-b6be-cd272526c388"
   },
   "outputs": [
    {
     "data": {
      "text/plain": [
       "FuelType\n",
       "petrol      200260\n",
       "gasoline     89464\n",
       "lpg           4934\n",
       "cng            529\n",
       "hybrid         228\n",
       "other          200\n",
       "electric        89\n",
       "Name: count, dtype: int64"
      ]
     },
     "execution_count": 17,
     "metadata": {},
     "output_type": "execute_result"
    }
   ],
   "source": [
    "df.FuelType.value_counts()"
   ]
  },
  {
   "cell_type": "markdown",
   "metadata": {
    "id": "jN6Pcracwa1u"
   },
   "source": [
    "Эти данные также очень важны для ценообразования, и пропуски в огромном количестве, поэтому тоже поставлю заглушку."
   ]
  },
  {
   "cell_type": "code",
   "execution_count": 18,
   "metadata": {
    "id": "wDA_hA3fwllK"
   },
   "outputs": [],
   "source": [
    "df['FuelType']=df['FuelType'].fillna('nan')"
   ]
  },
  {
   "cell_type": "code",
   "execution_count": 19,
   "metadata": {
    "colab": {
     "base_uri": "https://localhost:8080/"
    },
    "id": "XN47zmHUwwlI",
    "outputId": "5658681b-127f-46da-f62b-c96a6b0c7813"
   },
   "outputs": [
    {
     "data": {
      "text/plain": [
       "0"
      ]
     },
     "execution_count": 19,
     "metadata": {},
     "output_type": "execute_result"
    }
   ],
   "source": [
    "df.FuelType.isna().sum()"
   ]
  },
  {
   "cell_type": "markdown",
   "metadata": {
    "id": "qMmZm8Mlw8ys"
   },
   "source": [
    "И ровно то же самое сделаю со столбцом Repaired, просто не хочется терять такаой огромный массив данных."
   ]
  },
  {
   "cell_type": "code",
   "execution_count": 20,
   "metadata": {
    "id": "maHg5rL1xGsw"
   },
   "outputs": [],
   "source": [
    "df['Repaired']=df['Repaired'].fillna('nan')"
   ]
  },
  {
   "cell_type": "code",
   "execution_count": 21,
   "metadata": {
    "colab": {
     "base_uri": "https://localhost:8080/"
    },
    "id": "ZNUumYwTxLU5",
    "outputId": "8cfc6727-d3a5-43b9-d633-9a74f50eb6a9"
   },
   "outputs": [
    {
     "data": {
      "text/plain": [
       "0"
      ]
     },
     "execution_count": 21,
     "metadata": {},
     "output_type": "execute_result"
    }
   ],
   "source": [
    "df.Repaired.isna().sum()"
   ]
  },
  {
   "cell_type": "markdown",
   "metadata": {
    "id": "b-GzfuyIuvA2"
   },
   "source": [
    "Что касается пропусков в столбцах модель и тип коробки передач - пропусков здесь не критически много, а эти признаки на ценообразование влияют прямолинейно, поэтому здесь рискнем удалить столбцы с пропусками. Все проверим на метриках качества после."
   ]
  },
  {
   "cell_type": "code",
   "execution_count": 22,
   "metadata": {
    "id": "bKuE0fzisgaf"
   },
   "outputs": [],
   "source": [
    "df.dropna(subset=['Gearbox'], inplace=True)\n",
    "df.dropna(subset=['Model'], inplace=True)"
   ]
  },
  {
   "cell_type": "code",
   "execution_count": 23,
   "metadata": {
    "colab": {
     "base_uri": "https://localhost:8080/"
    },
    "id": "Xpq-jeUMx-Xv",
    "outputId": "a09d607c-a6e3-48f1-e4f3-8c3bb66d8fd5"
   },
   "outputs": [
    {
     "data": {
      "text/plain": [
       "Price                0\n",
       "VehicleType          0\n",
       "RegistrationYear     0\n",
       "Gearbox              0\n",
       "Power                0\n",
       "Model                0\n",
       "Kilometer            0\n",
       "RegistrationMonth    0\n",
       "FuelType             0\n",
       "Brand                0\n",
       "Repaired             0\n",
       "dtype: int64"
      ]
     },
     "execution_count": 23,
     "metadata": {},
     "output_type": "execute_result"
    }
   ],
   "source": [
    "# Финальная провверка по пропускам:\n",
    "df.isna().sum()"
   ]
  },
  {
   "cell_type": "code",
   "execution_count": 24,
   "metadata": {
    "colab": {
     "base_uri": "https://localhost:8080/"
    },
    "id": "MFB8JOhp4bMm",
    "outputId": "b8506b3b-237f-4c76-8c2a-033a2eb20730"
   },
   "outputs": [
    {
     "name": "stdout",
     "output_type": "stream",
     "text": [
      "<class 'pandas.core.frame.DataFrame'>\n",
      "Index: 294249 entries, 0 to 354368\n",
      "Data columns (total 11 columns):\n",
      " #   Column             Non-Null Count   Dtype \n",
      "---  ------             --------------   ----- \n",
      " 0   Price              294249 non-null  int64 \n",
      " 1   VehicleType        294249 non-null  object\n",
      " 2   RegistrationYear   294249 non-null  int64 \n",
      " 3   Gearbox            294249 non-null  object\n",
      " 4   Power              294249 non-null  int64 \n",
      " 5   Model              294249 non-null  object\n",
      " 6   Kilometer          294249 non-null  int64 \n",
      " 7   RegistrationMonth  294249 non-null  int64 \n",
      " 8   FuelType           294249 non-null  object\n",
      " 9   Brand              294249 non-null  object\n",
      " 10  Repaired           294249 non-null  object\n",
      "dtypes: int64(5), object(6)\n",
      "memory usage: 26.9+ MB\n"
     ]
    }
   ],
   "source": [
    "df.info()"
   ]
  },
  {
   "cell_type": "code",
   "execution_count": 25,
   "metadata": {},
   "outputs": [
    {
     "data": {
      "text/html": [
       "<div>\n",
       "<style scoped>\n",
       "    .dataframe tbody tr th:only-of-type {\n",
       "        vertical-align: middle;\n",
       "    }\n",
       "\n",
       "    .dataframe tbody tr th {\n",
       "        vertical-align: top;\n",
       "    }\n",
       "\n",
       "    .dataframe thead th {\n",
       "        text-align: right;\n",
       "    }\n",
       "</style>\n",
       "<table border=\"1\" class=\"dataframe\">\n",
       "  <thead>\n",
       "    <tr style=\"text-align: right;\">\n",
       "      <th></th>\n",
       "      <th>Price</th>\n",
       "      <th>RegistrationYear</th>\n",
       "      <th>Power</th>\n",
       "      <th>Kilometer</th>\n",
       "      <th>RegistrationMonth</th>\n",
       "    </tr>\n",
       "  </thead>\n",
       "  <tbody>\n",
       "    <tr>\n",
       "      <th>count</th>\n",
       "      <td>294249.000000</td>\n",
       "      <td>294249.000000</td>\n",
       "      <td>294249.000000</td>\n",
       "      <td>294249.000000</td>\n",
       "      <td>294249.000000</td>\n",
       "    </tr>\n",
       "    <tr>\n",
       "      <th>mean</th>\n",
       "      <td>4589.428134</td>\n",
       "      <td>2003.395063</td>\n",
       "      <td>114.783343</td>\n",
       "      <td>128804.023123</td>\n",
       "      <td>5.886260</td>\n",
       "    </tr>\n",
       "    <tr>\n",
       "      <th>std</th>\n",
       "      <td>4565.873196</td>\n",
       "      <td>30.397166</td>\n",
       "      <td>191.514785</td>\n",
       "      <td>36687.184148</td>\n",
       "      <td>3.638556</td>\n",
       "    </tr>\n",
       "    <tr>\n",
       "      <th>min</th>\n",
       "      <td>0.000000</td>\n",
       "      <td>1000.000000</td>\n",
       "      <td>0.000000</td>\n",
       "      <td>5000.000000</td>\n",
       "      <td>0.000000</td>\n",
       "    </tr>\n",
       "    <tr>\n",
       "      <th>25%</th>\n",
       "      <td>1200.000000</td>\n",
       "      <td>1999.000000</td>\n",
       "      <td>75.000000</td>\n",
       "      <td>125000.000000</td>\n",
       "      <td>3.000000</td>\n",
       "    </tr>\n",
       "    <tr>\n",
       "      <th>50%</th>\n",
       "      <td>2900.000000</td>\n",
       "      <td>2003.000000</td>\n",
       "      <td>105.000000</td>\n",
       "      <td>150000.000000</td>\n",
       "      <td>6.000000</td>\n",
       "    </tr>\n",
       "    <tr>\n",
       "      <th>75%</th>\n",
       "      <td>6600.000000</td>\n",
       "      <td>2008.000000</td>\n",
       "      <td>143.000000</td>\n",
       "      <td>150000.000000</td>\n",
       "      <td>9.000000</td>\n",
       "    </tr>\n",
       "    <tr>\n",
       "      <th>max</th>\n",
       "      <td>20000.000000</td>\n",
       "      <td>9000.000000</td>\n",
       "      <td>20000.000000</td>\n",
       "      <td>150000.000000</td>\n",
       "      <td>12.000000</td>\n",
       "    </tr>\n",
       "  </tbody>\n",
       "</table>\n",
       "</div>"
      ],
      "text/plain": [
       "               Price  RegistrationYear          Power      Kilometer   \n",
       "count  294249.000000     294249.000000  294249.000000  294249.000000  \\\n",
       "mean     4589.428134       2003.395063     114.783343  128804.023123   \n",
       "std      4565.873196         30.397166     191.514785   36687.184148   \n",
       "min         0.000000       1000.000000       0.000000    5000.000000   \n",
       "25%      1200.000000       1999.000000      75.000000  125000.000000   \n",
       "50%      2900.000000       2003.000000     105.000000  150000.000000   \n",
       "75%      6600.000000       2008.000000     143.000000  150000.000000   \n",
       "max     20000.000000       9000.000000   20000.000000  150000.000000   \n",
       "\n",
       "       RegistrationMonth  \n",
       "count      294249.000000  \n",
       "mean            5.886260  \n",
       "std             3.638556  \n",
       "min             0.000000  \n",
       "25%             3.000000  \n",
       "50%             6.000000  \n",
       "75%             9.000000  \n",
       "max            12.000000  "
      ]
     },
     "execution_count": 25,
     "metadata": {},
     "output_type": "execute_result"
    }
   ],
   "source": [
    "#изучим датасет, определим, какие столбцы нуждаются в анализе на выбросы:\n",
    "df.describe()"
   ]
  },
  {
   "cell_type": "markdown",
   "metadata": {},
   "source": [
    "В Power присутствуют аномальные значения (20 000). Значения из столбца Price обладают высоким стандартным отклонениям - изучим эти столбцы на выбросы.\n",
    "\n",
    "Также очень странные значения года регистрации, и в месяце есть нули, можно заменить нули на единицу, а год регистрации ограничить интервалом."
   ]
  },
  {
   "cell_type": "code",
   "execution_count": 26,
   "metadata": {},
   "outputs": [],
   "source": [
    "#Создам функцию для ограничения RegistrationYear:\n",
    "def RegistrationYear(value):\n",
    "    if value > 2016:\n",
    "        return 2016\n",
    "    elif value < 1970:\n",
    "        return 1970\n",
    "    else:\n",
    "        return value\n",
    "df[\"RegistrationYear\"] = df[\"RegistrationYear\"].apply(RegistrationYear)\n",
    "# RegistrationMonth\n",
    "df.loc[df['RegistrationMonth'] == 0, 'RegistrationMonth'] = 1"
   ]
  },
  {
   "cell_type": "markdown",
   "metadata": {},
   "source": [
    "Если метрики качества нас не удовлетворят, вернусь к этой ячейке, возможно нужен другой интервал года."
   ]
  },
  {
   "cell_type": "markdown",
   "metadata": {},
   "source": [
    "Для анализа данных в столбце прайс на выбросы использую ящик с усами:"
   ]
  },
  {
   "cell_type": "code",
   "execution_count": 27,
   "metadata": {},
   "outputs": [
    {
     "data": {
      "image/png": "[encoded data removed]",
      "text/plain": [
       "<Figure size 1200x700 with 1 Axes>"
      ]
     },
     "metadata": {},
     "output_type": "display_data"
    }
   ],
   "source": [
    "df.boxplot(['Price'],figsize=(12,7))\n",
    "\n",
    "plt.show()"
   ]
  },
  {
   "cell_type": "code",
   "execution_count": 28,
   "metadata": {},
   "outputs": [],
   "source": [
    "#Можно удалить значения  меньше 10, это неадекватная цена для евро:\n",
    "df = df.query('Price> 10')"
   ]
  },
  {
   "cell_type": "code",
   "execution_count": 29,
   "metadata": {},
   "outputs": [
    {
     "data": {
      "text/plain": [
       "Text(0, 0.5, 'кол-во')"
      ]
     },
     "execution_count": 29,
     "metadata": {},
     "output_type": "execute_result"
    }
   ],
   "source": [
    "#Посмотрю на пауэр через квантили:\n",
    "quantile_1 = df['Power'].quantile(0.25)\n",
    "quantile_3 = df['Power'].quantile(0.75)\n",
    "IQR = quantile_3 - quantile_1\n",
    "fig, ax = plt.subplots()\n",
    "df['Power'].plot(kind = 'hist', bins = 100, grid = True, range = (quantile_1 - IQR, quantile_3 + 3*IQR), figsize = (12, 6))\n",
    "ax.set_xlabel('ЛС')\n",
    "ax.set_ylabel('кол-во')"
   ]
  },
  {
   "cell_type": "code",
   "execution_count": 30,
   "metadata": {},
   "outputs": [],
   "source": [
    "#Судя по графику, выбросы по максимум можно убрать ограничив ЛС до 320 ЛС:\n",
    "df = df.query('Power <= 320')"
   ]
  },
  {
   "cell_type": "code",
   "execution_count": 31,
   "metadata": {},
   "outputs": [
    {
     "data": {
      "text/html": [
       "<div>\n",
       "<style scoped>\n",
       "    .dataframe tbody tr th:only-of-type {\n",
       "        vertical-align: middle;\n",
       "    }\n",
       "\n",
       "    .dataframe tbody tr th {\n",
       "        vertical-align: top;\n",
       "    }\n",
       "\n",
       "    .dataframe thead th {\n",
       "        text-align: right;\n",
       "    }\n",
       "</style>\n",
       "<table border=\"1\" class=\"dataframe\">\n",
       "  <thead>\n",
       "    <tr style=\"text-align: right;\">\n",
       "      <th></th>\n",
       "      <th>Price</th>\n",
       "      <th>RegistrationYear</th>\n",
       "      <th>Power</th>\n",
       "      <th>Kilometer</th>\n",
       "      <th>RegistrationMonth</th>\n",
       "    </tr>\n",
       "  </thead>\n",
       "  <tbody>\n",
       "    <tr>\n",
       "      <th>count</th>\n",
       "      <td>285225.000000</td>\n",
       "      <td>285225.000000</td>\n",
       "      <td>285225.000000</td>\n",
       "      <td>285225.000000</td>\n",
       "      <td>285225.000000</td>\n",
       "    </tr>\n",
       "    <tr>\n",
       "      <th>mean</th>\n",
       "      <td>4664.324719</td>\n",
       "      <td>2003.240207</td>\n",
       "      <td>110.181050</td>\n",
       "      <td>128697.361732</td>\n",
       "      <td>5.990618</td>\n",
       "    </tr>\n",
       "    <tr>\n",
       "      <th>std</th>\n",
       "      <td>4529.142530</td>\n",
       "      <td>6.748853</td>\n",
       "      <td>57.127451</td>\n",
       "      <td>36595.228002</td>\n",
       "      <td>3.510524</td>\n",
       "    </tr>\n",
       "    <tr>\n",
       "      <th>min</th>\n",
       "      <td>11.000000</td>\n",
       "      <td>1970.000000</td>\n",
       "      <td>0.000000</td>\n",
       "      <td>5000.000000</td>\n",
       "      <td>1.000000</td>\n",
       "    </tr>\n",
       "    <tr>\n",
       "      <th>25%</th>\n",
       "      <td>1250.000000</td>\n",
       "      <td>1999.000000</td>\n",
       "      <td>75.000000</td>\n",
       "      <td>125000.000000</td>\n",
       "      <td>3.000000</td>\n",
       "    </tr>\n",
       "    <tr>\n",
       "      <th>50%</th>\n",
       "      <td>2995.000000</td>\n",
       "      <td>2003.000000</td>\n",
       "      <td>105.000000</td>\n",
       "      <td>150000.000000</td>\n",
       "      <td>6.000000</td>\n",
       "    </tr>\n",
       "    <tr>\n",
       "      <th>75%</th>\n",
       "      <td>6700.000000</td>\n",
       "      <td>2008.000000</td>\n",
       "      <td>143.000000</td>\n",
       "      <td>150000.000000</td>\n",
       "      <td>9.000000</td>\n",
       "    </tr>\n",
       "    <tr>\n",
       "      <th>max</th>\n",
       "      <td>20000.000000</td>\n",
       "      <td>2016.000000</td>\n",
       "      <td>320.000000</td>\n",
       "      <td>150000.000000</td>\n",
       "      <td>12.000000</td>\n",
       "    </tr>\n",
       "  </tbody>\n",
       "</table>\n",
       "</div>"
      ],
      "text/plain": [
       "               Price  RegistrationYear          Power      Kilometer   \n",
       "count  285225.000000     285225.000000  285225.000000  285225.000000  \\\n",
       "mean     4664.324719       2003.240207     110.181050  128697.361732   \n",
       "std      4529.142530          6.748853      57.127451   36595.228002   \n",
       "min        11.000000       1970.000000       0.000000    5000.000000   \n",
       "25%      1250.000000       1999.000000      75.000000  125000.000000   \n",
       "50%      2995.000000       2003.000000     105.000000  150000.000000   \n",
       "75%      6700.000000       2008.000000     143.000000  150000.000000   \n",
       "max     20000.000000       2016.000000     320.000000  150000.000000   \n",
       "\n",
       "       RegistrationMonth  \n",
       "count      285225.000000  \n",
       "mean            5.990618  \n",
       "std             3.510524  \n",
       "min             1.000000  \n",
       "25%             3.000000  \n",
       "50%             6.000000  \n",
       "75%             9.000000  \n",
       "max            12.000000  "
      ]
     },
     "execution_count": 31,
     "metadata": {},
     "output_type": "execute_result"
    }
   ],
   "source": [
    "#Финальная проверка:\n",
    "df.describe()"
   ]
  },
  {
   "cell_type": "markdown",
   "metadata": {
    "id": "lbSTVT_QdlYI"
   },
   "source": [
    "## Подготовка выборки для обучения моделей:\n"
   ]
  },
  {
   "cell_type": "markdown",
   "metadata": {},
   "source": [
    "Проведу масштабирование:"
   ]
  },
  {
   "cell_type": "code",
   "execution_count": 32,
   "metadata": {},
   "outputs": [],
   "source": [
    "#Разделю датасет на фичи и таргет:\n",
    "features = df.drop('Price', axis=1)\n",
    "target = df['Price']"
   ]
  },
  {
   "cell_type": "code",
   "execution_count": 33,
   "metadata": {
    "id": "G7T9wbKPDvpq"
   },
   "outputs": [],
   "source": [
    "# Разделю фичи на тест и трэйн:\n",
    "train_features, test_features, train_target, test_target = train_test_split(features, target,\n",
    "                                                                                                test_size = 0.25,\n",
    "                                                                                                random_state = 42)"
   ]
  },
  {
   "cell_type": "code",
   "execution_count": 34,
   "metadata": {},
   "outputs": [
    {
     "name": "stdout",
     "output_type": "stream",
     "text": [
      "['VehicleType', 'Gearbox', 'Model', 'FuelType', 'Brand', 'Repaired']\n"
     ]
    }
   ],
   "source": [
    "ohe_features_lin = train_features.select_dtypes(include='object').columns.to_list()\n",
    "print(ohe_features_lin)"
   ]
  },
  {
   "cell_type": "code",
   "execution_count": 35,
   "metadata": {},
   "outputs": [
    {
     "data": {
      "text/plain": [
       "['RegistrationYear', 'Power', 'Kilometer', 'RegistrationMonth']"
      ]
     },
     "execution_count": 35,
     "metadata": {},
     "output_type": "execute_result"
    }
   ],
   "source": [
    "num_features = train_features.select_dtypes(exclude='object').columns.to_list()\n",
    "num_features"
   ]
  },
  {
   "cell_type": "code",
   "execution_count": 36,
   "metadata": {},
   "outputs": [],
   "source": [
    "X_train_lin = train_features.copy()\n",
    "X_test_lin = test_features.copy()"
   ]
  },
  {
   "cell_type": "code",
   "execution_count": 37,
   "metadata": {},
   "outputs": [
    {
     "data": {
      "text/html": [
       "<div>\n",
       "<style scoped>\n",
       "    .dataframe tbody tr th:only-of-type {\n",
       "        vertical-align: middle;\n",
       "    }\n",
       "\n",
       "    .dataframe tbody tr th {\n",
       "        vertical-align: top;\n",
       "    }\n",
       "\n",
       "    .dataframe thead th {\n",
       "        text-align: right;\n",
       "    }\n",
       "</style>\n",
       "<table border=\"1\" class=\"dataframe\">\n",
       "  <thead>\n",
       "    <tr style=\"text-align: right;\">\n",
       "      <th></th>\n",
       "      <th>VehicleType_convertible</th>\n",
       "      <th>VehicleType_coupe</th>\n",
       "      <th>VehicleType_other</th>\n",
       "      <th>VehicleType_sedan</th>\n",
       "      <th>VehicleType_small</th>\n",
       "      <th>VehicleType_suv</th>\n",
       "      <th>VehicleType_wagon</th>\n",
       "      <th>Gearbox_manual</th>\n",
       "      <th>Model_145</th>\n",
       "      <th>Model_147</th>\n",
       "      <th>...</th>\n",
       "      <th>Brand_toyota</th>\n",
       "      <th>Brand_trabant</th>\n",
       "      <th>Brand_volkswagen</th>\n",
       "      <th>Brand_volvo</th>\n",
       "      <th>Repaired_no</th>\n",
       "      <th>Repaired_yes</th>\n",
       "      <th>RegistrationYear</th>\n",
       "      <th>Power</th>\n",
       "      <th>Kilometer</th>\n",
       "      <th>RegistrationMonth</th>\n",
       "    </tr>\n",
       "  </thead>\n",
       "  <tbody>\n",
       "    <tr>\n",
       "      <th>0</th>\n",
       "      <td>0.0</td>\n",
       "      <td>0.0</td>\n",
       "      <td>0.0</td>\n",
       "      <td>1.0</td>\n",
       "      <td>0.0</td>\n",
       "      <td>0.0</td>\n",
       "      <td>0.0</td>\n",
       "      <td>1.0</td>\n",
       "      <td>0.0</td>\n",
       "      <td>0.0</td>\n",
       "      <td>...</td>\n",
       "      <td>0.0</td>\n",
       "      <td>0.0</td>\n",
       "      <td>0.0</td>\n",
       "      <td>0.0</td>\n",
       "      <td>1.0</td>\n",
       "      <td>0.0</td>\n",
       "      <td>0.706661</td>\n",
       "      <td>1.048695</td>\n",
       "      <td>-1.057672</td>\n",
       "      <td>1.138803</td>\n",
       "    </tr>\n",
       "    <tr>\n",
       "      <th>1</th>\n",
       "      <td>0.0</td>\n",
       "      <td>0.0</td>\n",
       "      <td>0.0</td>\n",
       "      <td>0.0</td>\n",
       "      <td>1.0</td>\n",
       "      <td>0.0</td>\n",
       "      <td>0.0</td>\n",
       "      <td>1.0</td>\n",
       "      <td>0.0</td>\n",
       "      <td>0.0</td>\n",
       "      <td>...</td>\n",
       "      <td>0.0</td>\n",
       "      <td>0.0</td>\n",
       "      <td>0.0</td>\n",
       "      <td>0.0</td>\n",
       "      <td>1.0</td>\n",
       "      <td>0.0</td>\n",
       "      <td>0.706661</td>\n",
       "      <td>-0.176423</td>\n",
       "      <td>-0.784497</td>\n",
       "      <td>0.569254</td>\n",
       "    </tr>\n",
       "    <tr>\n",
       "      <th>2</th>\n",
       "      <td>0.0</td>\n",
       "      <td>0.0</td>\n",
       "      <td>0.0</td>\n",
       "      <td>0.0</td>\n",
       "      <td>1.0</td>\n",
       "      <td>0.0</td>\n",
       "      <td>0.0</td>\n",
       "      <td>1.0</td>\n",
       "      <td>0.0</td>\n",
       "      <td>0.0</td>\n",
       "      <td>...</td>\n",
       "      <td>0.0</td>\n",
       "      <td>0.0</td>\n",
       "      <td>0.0</td>\n",
       "      <td>0.0</td>\n",
       "      <td>1.0</td>\n",
       "      <td>0.0</td>\n",
       "      <td>-0.183835</td>\n",
       "      <td>-0.613965</td>\n",
       "      <td>0.581379</td>\n",
       "      <td>0.854029</td>\n",
       "    </tr>\n",
       "    <tr>\n",
       "      <th>3</th>\n",
       "      <td>1.0</td>\n",
       "      <td>0.0</td>\n",
       "      <td>0.0</td>\n",
       "      <td>0.0</td>\n",
       "      <td>0.0</td>\n",
       "      <td>0.0</td>\n",
       "      <td>0.0</td>\n",
       "      <td>1.0</td>\n",
       "      <td>0.0</td>\n",
       "      <td>0.0</td>\n",
       "      <td>...</td>\n",
       "      <td>0.0</td>\n",
       "      <td>0.0</td>\n",
       "      <td>0.0</td>\n",
       "      <td>0.0</td>\n",
       "      <td>1.0</td>\n",
       "      <td>0.0</td>\n",
       "      <td>0.409829</td>\n",
       "      <td>0.926184</td>\n",
       "      <td>-0.101559</td>\n",
       "      <td>-1.139392</td>\n",
       "    </tr>\n",
       "    <tr>\n",
       "      <th>4</th>\n",
       "      <td>1.0</td>\n",
       "      <td>0.0</td>\n",
       "      <td>0.0</td>\n",
       "      <td>0.0</td>\n",
       "      <td>0.0</td>\n",
       "      <td>0.0</td>\n",
       "      <td>0.0</td>\n",
       "      <td>1.0</td>\n",
       "      <td>0.0</td>\n",
       "      <td>0.0</td>\n",
       "      <td>...</td>\n",
       "      <td>0.0</td>\n",
       "      <td>0.0</td>\n",
       "      <td>0.0</td>\n",
       "      <td>0.0</td>\n",
       "      <td>0.0</td>\n",
       "      <td>0.0</td>\n",
       "      <td>-0.183835</td>\n",
       "      <td>-0.036409</td>\n",
       "      <td>0.581379</td>\n",
       "      <td>-0.854617</td>\n",
       "    </tr>\n",
       "  </tbody>\n",
       "</table>\n",
       "<p>5 rows × 307 columns</p>\n",
       "</div>"
      ],
      "text/plain": [
       "   VehicleType_convertible  VehicleType_coupe  VehicleType_other   \n",
       "0                      0.0                0.0                0.0  \\\n",
       "1                      0.0                0.0                0.0   \n",
       "2                      0.0                0.0                0.0   \n",
       "3                      1.0                0.0                0.0   \n",
       "4                      1.0                0.0                0.0   \n",
       "\n",
       "   VehicleType_sedan  VehicleType_small  VehicleType_suv  VehicleType_wagon   \n",
       "0                1.0                0.0              0.0                0.0  \\\n",
       "1                0.0                1.0              0.0                0.0   \n",
       "2                0.0                1.0              0.0                0.0   \n",
       "3                0.0                0.0              0.0                0.0   \n",
       "4                0.0                0.0              0.0                0.0   \n",
       "\n",
       "   Gearbox_manual  Model_145  Model_147  ...  Brand_toyota  Brand_trabant   \n",
       "0             1.0        0.0        0.0  ...           0.0            0.0  \\\n",
       "1             1.0        0.0        0.0  ...           0.0            0.0   \n",
       "2             1.0        0.0        0.0  ...           0.0            0.0   \n",
       "3             1.0        0.0        0.0  ...           0.0            0.0   \n",
       "4             1.0        0.0        0.0  ...           0.0            0.0   \n",
       "\n",
       "   Brand_volkswagen  Brand_volvo  Repaired_no  Repaired_yes  RegistrationYear   \n",
       "0               0.0          0.0          1.0           0.0          0.706661  \\\n",
       "1               0.0          0.0          1.0           0.0          0.706661   \n",
       "2               0.0          0.0          1.0           0.0         -0.183835   \n",
       "3               0.0          0.0          1.0           0.0          0.409829   \n",
       "4               0.0          0.0          0.0           0.0         -0.183835   \n",
       "\n",
       "      Power  Kilometer  RegistrationMonth  \n",
       "0  1.048695  -1.057672           1.138803  \n",
       "1 -0.176423  -0.784497           0.569254  \n",
       "2 -0.613965   0.581379           0.854029  \n",
       "3  0.926184  -0.101559          -1.139392  \n",
       "4 -0.036409   0.581379          -0.854617  \n",
       "\n",
       "[5 rows x 307 columns]"
      ]
     },
     "execution_count": 37,
     "metadata": {},
     "output_type": "execute_result"
    }
   ],
   "source": [
    "# признак repaired уже бинарный, его не будем кодировать/масштабировать\n",
    "# добавляем remainder='passthrough, чтобы он не пропал \n",
    "col_transformer_lin = make_column_transformer(\n",
    "    (\n",
    "        OneHotEncoder(drop='first', handle_unknown='ignore'),\n",
    "        ohe_features_lin\n",
    "    ),\n",
    "    (\n",
    "        StandardScaler(), \n",
    "        num_features\n",
    "    ),\n",
    "    remainder='passthrough',\n",
    "    verbose_feature_names_out=False\n",
    ")\n",
    "\n",
    "# всё готово в пару строк кода\n",
    "X_train_lin = pd.DataFrame.sparse.from_spmatrix(\n",
    "    col_transformer_lin.fit_transform(X_train_lin),\n",
    "    columns=col_transformer_lin.get_feature_names_out()\n",
    ")\n",
    "\n",
    "# смотрим на результат\n",
    "X_train_lin.head()"
   ]
  },
  {
   "cell_type": "markdown",
   "metadata": {},
   "source": [
    "Ниже с выборкой для LightGBM я поработала."
   ]
  },
  {
   "cell_type": "markdown",
   "metadata": {
    "id": "mrSgCbhlPVWO"
   },
   "source": [
    "Отлично, с предобработкой данных закончили. К этому этапу буду возвращаться по мере необходимости, отталкиваясь от качества предсказаний модели. "
   ]
  },
  {
   "cell_type": "markdown",
   "metadata": {
    "id": "lQ_js5VSvxsw"
   },
   "source": [
    "## Обучение моделей:"
   ]
  },
  {
   "cell_type": "markdown",
   "metadata": {
    "id": "M1ar0vzp3gdU"
   },
   "source": [
    "Я попробую поискать лучшие RMSE при линейной регрессии, при градиентном бустинге с помощью CatBoost и LightGBM. + Рассчитаю везде время обучения и предсказания модели. "
   ]
  },
  {
   "cell_type": "code",
   "execution_count": 38,
   "metadata": {
    "id": "qCffhjaA5Io6"
   },
   "outputs": [],
   "source": [
    "# Но для начала напишу функцию для расчёта RMSE:\n",
    "def rmse(test,predict):\n",
    "    return ((mean_squared_error(test,predict))**0.5)"
   ]
  },
  {
   "cell_type": "code",
   "execution_count": 39,
   "metadata": {
    "colab": {
     "base_uri": "https://localhost:8080/"
    },
    "id": "FzU9OA8Vd0nP",
    "outputId": "bc618298-b663-411a-e209-920175f28a2b"
   },
   "outputs": [
    {
     "name": "stdout",
     "output_type": "stream",
     "text": [
      "CPU times: total: 172 ms\n",
      "Wall time: 3.29 s\n"
     ]
    }
   ],
   "source": [
    "%%time\n",
    "start = time.time()\n",
    "model_1=LinearRegression()\n",
    "model_1.fit(X_train_lin,train_target)\n",
    "end = time.time()\n",
    "t_1=round(end-start,2)\n"
   ]
  },
  {
   "cell_type": "code",
   "execution_count": 40,
   "metadata": {
    "colab": {
     "base_uri": "https://localhost:8080/"
    },
    "id": "_efTErVy4cJu",
    "outputId": "b59d3914-77e9-41eb-8132-6c010c5c2635"
   },
   "outputs": [
    {
     "name": "stdout",
     "output_type": "stream",
     "text": [
      "CPU times: total: 0 ns\n",
      "Wall time: 34.2 ms\n"
     ]
    }
   ],
   "source": [
    "%%time\n",
    "start = time.time()\n",
    "predict_1=model_1.predict(X_train_lin)\n",
    "end = time.time()\n",
    "t_1_p=round(end-start,2)"
   ]
  },
  {
   "cell_type": "code",
   "execution_count": 41,
   "metadata": {
    "colab": {
     "base_uri": "https://localhost:8080/"
    },
    "id": "nzeqIlF45Fvt",
    "outputId": "70d1c561-5693-4a9d-9124-bb1d5aa1dca2"
   },
   "outputs": [
    {
     "name": "stdout",
     "output_type": "stream",
     "text": [
      "RMSE модели Линейная Регрессия равна: 2583.7706899899977\n"
     ]
    }
   ],
   "source": [
    "rmse_1 = rmse(train_target, predict_1)\n",
    "print('RMSE модели Линейная Регрессия равна:', rmse_1)"
   ]
  },
  {
   "cell_type": "markdown",
   "metadata": {
    "id": "LXcgWIzI58py"
   },
   "source": [
    "Не совсем то, что нам нужно. Пойдем дальше."
   ]
  },
  {
   "cell_type": "code",
   "execution_count": 42,
   "metadata": {},
   "outputs": [],
   "source": [
    "def catboost_regr(features, target):\n",
    "    model = CatBoostRegressor()\n",
    "    params = {\n",
    "            'n_estimators' : [50, 100],\n",
    "            'verbose' : [0],\n",
    "            'random_state' : [RND],\n",
    "            'max_depth' : [5, 7, 10]\n",
    "    }\n",
    "    grid_cv = GridSearchCV(estimator=model, \n",
    "    param_grid=params, cv=3, n_jobs=-1, scoring='neg_mean_squared_error')\n",
    "    grid_cv.fit(features, target, cat_features=[\"VehicleType\",\"Gearbox\",\n",
    "                                                             \"Model\",\"FuelType\",\n",
    "                                                             \"Brand\",\"Repaired\"], verbose=10)\n",
    "    print('Лучшие гиерпараметры: ', grid_cv.best_params_)\n",
    "    print('RMSE: {:.2f}'.format((-grid_cv.best_score_) ** 0.5))\n",
    "    return grid_cv.best_params_"
   ]
  },
  {
   "cell_type": "code",
   "execution_count": 43,
   "metadata": {},
   "outputs": [
    {
     "name": "stdout",
     "output_type": "stream",
     "text": [
      "Learning rate set to 0.5\n",
      "0:\tlearn: 3071.5293552\ttotal: 245ms\tremaining: 24.2s\n",
      "10:\tlearn: 1713.8936937\ttotal: 1.15s\tremaining: 9.3s\n",
      "20:\tlearn: 1610.1770408\ttotal: 2.03s\tremaining: 7.63s\n",
      "30:\tlearn: 1555.0544260\ttotal: 2.9s\tremaining: 6.46s\n",
      "40:\tlearn: 1522.1927274\ttotal: 3.77s\tremaining: 5.43s\n",
      "50:\tlearn: 1496.7755073\ttotal: 4.66s\tremaining: 4.47s\n",
      "60:\tlearn: 1473.8097182\ttotal: 5.54s\tremaining: 3.54s\n",
      "70:\tlearn: 1453.2425017\ttotal: 6.42s\tremaining: 2.62s\n",
      "80:\tlearn: 1437.2555919\ttotal: 7.29s\tremaining: 1.71s\n",
      "90:\tlearn: 1424.3156578\ttotal: 8.17s\tremaining: 808ms\n",
      "99:\tlearn: 1410.4911384\ttotal: 8.96s\tremaining: 0us\n",
      "Лучшие гиерпараметры:  {'max_depth': 10, 'n_estimators': 100, 'random_state': 12345, 'verbose': 0}\n",
      "RMSE: 1602.88\n",
      "CPU times: total: 5.7 s\n",
      "Wall time: 49 s\n"
     ]
    }
   ],
   "source": [
    "%%time\n",
    "catb_params = catboost_regr(train_features, train_target)"
   ]
  },
  {
   "cell_type": "code",
   "execution_count": 44,
   "metadata": {},
   "outputs": [
    {
     "name": "stdout",
     "output_type": "stream",
     "text": [
      "CPU times: total: 5.59 s\n",
      "Wall time: 9.1 s\n"
     ]
    }
   ],
   "source": [
    "%%time\n",
    "start = time.time()\n",
    "final_cat = CatBoostRegressor(max_depth= 10, n_estimators= 100, random_state= 12345, verbose= 0)\n",
    "final_cat.fit(Pool(train_features,train_target,\n",
    "                   cat_features=[\"VehicleType\",\"Gearbox\",\"Model\",\"FuelType\",\"Brand\",\"Repaired\"]))\n",
    "end = time.time()\n",
    "t_2=round(end-start,2)"
   ]
  },
  {
   "cell_type": "code",
   "execution_count": 45,
   "metadata": {},
   "outputs": [
    {
     "name": "stdout",
     "output_type": "stream",
     "text": [
      "RMSE на тренировочной выборке равна: : 1417.78 \n",
      "CPU times: total: 516 ms\n",
      "Wall time: 458 ms\n"
     ]
    }
   ],
   "source": [
    "%%time\n",
    "start = time.time()\n",
    "final_cat_pred = final_cat.predict(train_features)\n",
    "rmse_2 = mse(train_target, final_cat_pred)**0.5\n",
    "print('RMSE на тренировочной выборке равна: : {:.2f} '.format(rmse_2))\n",
    "end = time.time()\n",
    "t_2_p=round(end-start,2)"
   ]
  },
  {
   "cell_type": "markdown",
   "metadata": {
    "id": "vIwKPBZn7HnA"
   },
   "source": [
    "Очень даже хорошо, но посмотрим, что получится с LightGBM."
   ]
  },
  {
   "cell_type": "code",
   "execution_count": 46,
   "metadata": {},
   "outputs": [],
   "source": [
    "#Обработаем фичи для LightGBM:\n",
    "X_train_light = train_features.copy()\n",
    "X_test_light = test_features.copy()\n",
    "X_train_light = X_train_light.astype({\"VehicleType\":'category',\n",
    "                                  \"Gearbox\":'category',\n",
    "                                  \"Model\":'category',\n",
    "                                  \"FuelType\":'category',\n",
    "                                  \"Brand\":'category',\n",
    "                                  \"Repaired\":'category'})\n",
    "X_test_light = X_test_light.astype({\"VehicleType\":'category',\n",
    "                                  \"Gearbox\":'category',\n",
    "                                  \"Model\":'category',\n",
    "                                  \"FuelType\":'category',\n",
    "                                  \"Brand\":'category',\n",
    "                                  \"Repaired\":'category'})"
   ]
  },
  {
   "cell_type": "code",
   "execution_count": 47,
   "metadata": {
    "colab": {
     "base_uri": "https://localhost:8080/"
    },
    "id": "8DtjqB3U7Spd",
    "outputId": "acd899c7-99c9-4002-b218-c53c7d7f9103"
   },
   "outputs": [],
   "source": [
    "def lgb_regr(features, target):\n",
    "    model = LGBMRegressor()\n",
    "    params = {\n",
    "        'n_estimators' : [50, 100],\n",
    "        'max_depth' : [5, 7, 10]}\n",
    "    grid_cv = GridSearchCV(estimator=model, param_grid=params, cv=3, n_jobs=-1, scoring='neg_mean_squared_error')\n",
    "    grid_cv.fit(X_train_light, target)\n",
    "    print('Лучшие гиперпараметры: ', grid_cv.best_params_)\n",
    "    print('RMSE на тренировочной выборке: {:.2f}'.format((-grid_cv.best_score_) ** 0.5))\n",
    "    return grid_cv.best_params_"
   ]
  },
  {
   "cell_type": "code",
   "execution_count": 48,
   "metadata": {
    "scrolled": true
   },
   "outputs": [
    {
     "name": "stdout",
     "output_type": "stream",
     "text": [
      "Лучшие гиперпараметры:  {'max_depth': 10, 'n_estimators': 100}\n",
      "RMSE на тренировочной выборке: 1601.40\n",
      "CPU times: total: 4.98 s\n",
      "Wall time: 5.63 s\n"
     ]
    }
   ],
   "source": [
    "%%time\n",
    "lgb_params = lgb_regr(train_features, train_target)"
   ]
  },
  {
   "cell_type": "code",
   "execution_count": 49,
   "metadata": {},
   "outputs": [
    {
     "name": "stdout",
     "output_type": "stream",
     "text": [
      "CPU times: total: 5.86 s\n",
      "Wall time: 559 ms\n"
     ]
    }
   ],
   "source": [
    "%%time\n",
    "start = time.time()\n",
    "final_lgb = LGBMRegressor(max_depth=10, n_estimators=100)\n",
    "final_lgb.fit(X_train_light, train_target, verbose=10, eval_metric='rmse')\n",
    "end = time.time()\n",
    "t_3=round(end-start,2)"
   ]
  },
  {
   "cell_type": "code",
   "execution_count": 50,
   "metadata": {},
   "outputs": [
    {
     "name": "stdout",
     "output_type": "stream",
     "text": [
      "RMSE модели LightGBM на тестовых данных равна: = 1538.94\n",
      "CPU times: total: 2.58 s\n",
      "Wall time: 252 ms\n"
     ]
    }
   ],
   "source": [
    "%%time\n",
    "start = time.time()\n",
    "predict_lgb = final_lgb.predict(X_train_light)\n",
    "rmse_3 =mse(train_target, predict_lgb)**0.5\n",
    "print('RMSE модели LightGBM на тестовых данных равна: = {:.2f}'.format(rmse_3))\n",
    "end = time.time()\n",
    "t_3_p=round(end-start,2)"
   ]
  },
  {
   "cell_type": "markdown",
   "metadata": {
    "id": "gphCTSQ0v3N4"
   },
   "source": [
    "## Анализ моделей:\n"
   ]
  },
  {
   "cell_type": "markdown",
   "metadata": {
    "id": "r6crf37v8ap5"
   },
   "source": [
    "Создам общую наглядную таблицу для rmse, скорости обучения и скорости предсказания. "
   ]
  },
  {
   "cell_type": "code",
   "execution_count": 52,
   "metadata": {
    "colab": {
     "base_uri": "https://localhost:8080/",
     "height": 0
    },
    "id": "oj6VoyMn8Ybq",
    "outputId": "8c3dad82-b352-4f75-c6ef-f703dd6fdb98"
   },
   "outputs": [
    {
     "data": {
      "text/html": [
       "<style type=\"text/css\">\n",
       "#T_f736b_row0_col0, #T_f736b_row1_col1, #T_f736b_row1_col2 {\n",
       "  background-color: red;\n",
       "}\n",
       "#T_f736b_row0_col2, #T_f736b_row1_col0, #T_f736b_row2_col1 {\n",
       "  background-color: green;\n",
       "}\n",
       "</style>\n",
       "<table id=\"T_f736b\">\n",
       "  <thead>\n",
       "    <tr>\n",
       "      <th class=\"blank level0\" >&nbsp;</th>\n",
       "      <th id=\"T_f736b_level0_col0\" class=\"col_heading level0 col0\" >RMSE модели</th>\n",
       "      <th id=\"T_f736b_level0_col1\" class=\"col_heading level0 col1\" >Скорость обучения</th>\n",
       "      <th id=\"T_f736b_level0_col2\" class=\"col_heading level0 col2\" >Скорость предсказания</th>\n",
       "    </tr>\n",
       "  </thead>\n",
       "  <tbody>\n",
       "    <tr>\n",
       "      <th id=\"T_f736b_level0_row0\" class=\"row_heading level0 row0\" >LinearRegression</th>\n",
       "      <td id=\"T_f736b_row0_col0\" class=\"data row0 col0\" >2583.770690</td>\n",
       "      <td id=\"T_f736b_row0_col1\" class=\"data row0 col1\" >3.290000</td>\n",
       "      <td id=\"T_f736b_row0_col2\" class=\"data row0 col2\" >0.030000</td>\n",
       "    </tr>\n",
       "    <tr>\n",
       "      <th id=\"T_f736b_level0_row1\" class=\"row_heading level0 row1\" >CatBoostRegressor</th>\n",
       "      <td id=\"T_f736b_row1_col0\" class=\"data row1 col0\" >1417.777217</td>\n",
       "      <td id=\"T_f736b_row1_col1\" class=\"data row1 col1\" >9.100000</td>\n",
       "      <td id=\"T_f736b_row1_col2\" class=\"data row1 col2\" >0.460000</td>\n",
       "    </tr>\n",
       "    <tr>\n",
       "      <th id=\"T_f736b_level0_row2\" class=\"row_heading level0 row2\" >LightGBM</th>\n",
       "      <td id=\"T_f736b_row2_col0\" class=\"data row2 col0\" >1538.939294</td>\n",
       "      <td id=\"T_f736b_row2_col1\" class=\"data row2 col1\" >0.560000</td>\n",
       "      <td id=\"T_f736b_row2_col2\" class=\"data row2 col2\" >0.250000</td>\n",
       "    </tr>\n",
       "  </tbody>\n",
       "</table>\n"
      ],
      "text/plain": [
       "<pandas.io.formats.style.Styler at 0x25a12ac7fd0>"
      ]
     },
     "execution_count": 52,
     "metadata": {},
     "output_type": "execute_result"
    }
   ],
   "source": [
    "column=['RMSE модели','Скорость обучения','Скорость предсказания']\n",
    "\n",
    "comparison_tabl = pd.DataFrame(index=['RMSE модели','Скорость обучения', 'Скорость предсказания'], columns=['LinearRegression', 'CatBoostRegressor','LightGBM'])\n",
    "comparison_tabl['LinearRegression'] = rmse_1, t_1, t_1_p\n",
    "comparison_tabl['CatBoostRegressor'] = rmse_2, t_2, t_2_p\n",
    "comparison_tabl['LightGBM'] = rmse_3, t_3, t_3_p\n",
    "\n",
    "comparison_tabl.T.style.highlight_min(color='green',subset=column).highlight_null(color='grey').highlight_max(color='red',subset=column)"
   ]
  },
  {
   "cell_type": "markdown",
   "metadata": {
    "id": "YvqN85hB03a0"
   },
   "source": [
    "По качеству хороши 2 модели: катбуст, лайт. Но так как скорость обучения в 2 раза выше у лайт, выберу ее лучшей моделью. Проверим LightGBM на тестовой выборке.  "
   ]
  },
  {
   "cell_type": "markdown",
   "metadata": {
    "id": "Da6T3lF4DCT2"
   },
   "source": [
    "#### Опираясь на критерии заказчика, выберу лучшую модель, проверю её качество на тестовой выборке."
   ]
  },
  {
   "cell_type": "code",
   "execution_count": 53,
   "metadata": {
    "colab": {
     "base_uri": "https://localhost:8080/"
    },
    "id": "9aWaI6d3DIVl",
    "outputId": "5713d147-1ee1-4b57-f03c-98bf2714725d"
   },
   "outputs": [
    {
     "name": "stdout",
     "output_type": "stream",
     "text": [
      "CPU times: total: 812 ms\n",
      "Wall time: 127 ms\n"
     ]
    }
   ],
   "source": [
    "%%time\n",
    "start = time.time()\n",
    "predict_test= final_lgb.predict(X_test_light)\n",
    "end = time.time()\n",
    "t_test_p=round(end-start,2)\n"
   ]
  },
  {
   "cell_type": "code",
   "execution_count": 54,
   "metadata": {
    "colab": {
     "base_uri": "https://localhost:8080/"
    },
    "id": "RZ3KMfIyFX6r",
    "outputId": "55df3fc8-9c10-42ed-bf02-2763cb0dac5c"
   },
   "outputs": [
    {
     "name": "stdout",
     "output_type": "stream",
     "text": [
      "RMSE модели LightGBM на тестовых данных равна: 1604.9419294317743\n"
     ]
    }
   ],
   "source": [
    "rmse_test = rmse(test_target, predict_test)\n",
    "print('RMSE модели LightGBM на тестовых данных равна:', rmse_test)"
   ]
  },
  {
   "cell_type": "markdown",
   "metadata": {
    "id": "hH2q_uHwg3da"
   },
   "source": [
    "## Вывод:"
   ]
  },
  {
   "cell_type": "markdown",
   "metadata": {
    "id": "5I1pU0wiF6uE"
   },
   "source": [
    "Я подготовила данные для дальнейшей работы с ними: заменила пропуски, удалила неинформативные столбцы, удалила дубликаты, перевела категориальные значени в численные, провела масштабирование. Затем я принялась обучать разные модели, целью было: \n",
    "1. Высокое качество предсказания (смотрели по RMSE) \n",
    "2. Быстрое обучение модели.\n",
    "3.Быстрое предсказание модели.\n",
    "\n",
    "Лучшей моделью по моему мнению явлется LightGBM, качество и скорость обучения лучше остальных, да, скорость предсказания чуть медленне, чем у катбуста, но тоже не критична. "
   ]
  }
 ],
 "metadata": {
  "ExecuteTimeLog": [
   {
    "duration": 25692,
    "start_time": "2023-02-13T16:30:45.876Z"
   },
   {
    "duration": 914,
    "start_time": "2023-02-13T16:31:11.574Z"
   },
   {
    "duration": 0,
    "start_time": "2023-02-13T16:31:12.570Z"
   },
   {
    "duration": 0,
    "start_time": "2023-02-13T16:31:12.572Z"
   },
   {
    "duration": 0,
    "start_time": "2023-02-13T16:31:12.573Z"
   },
   {
    "duration": 0,
    "start_time": "2023-02-13T16:31:12.574Z"
   },
   {
    "duration": 0,
    "start_time": "2023-02-13T16:31:12.575Z"
   },
   {
    "duration": 0,
    "start_time": "2023-02-13T16:31:12.576Z"
   },
   {
    "duration": 0,
    "start_time": "2023-02-13T16:31:12.577Z"
   },
   {
    "duration": 0,
    "start_time": "2023-02-13T16:31:12.579Z"
   },
   {
    "duration": 0,
    "start_time": "2023-02-13T16:31:12.580Z"
   },
   {
    "duration": 0,
    "start_time": "2023-02-13T16:31:12.581Z"
   },
   {
    "duration": 0,
    "start_time": "2023-02-13T16:31:12.581Z"
   },
   {
    "duration": 0,
    "start_time": "2023-02-13T16:31:12.582Z"
   },
   {
    "duration": 0,
    "start_time": "2023-02-13T16:31:12.668Z"
   },
   {
    "duration": 0,
    "start_time": "2023-02-13T16:31:12.673Z"
   },
   {
    "duration": 0,
    "start_time": "2023-02-13T16:31:12.675Z"
   },
   {
    "duration": 0,
    "start_time": "2023-02-13T16:31:12.677Z"
   },
   {
    "duration": 0,
    "start_time": "2023-02-13T16:31:12.678Z"
   },
   {
    "duration": 0,
    "start_time": "2023-02-13T16:31:12.679Z"
   },
   {
    "duration": 0,
    "start_time": "2023-02-13T16:31:12.680Z"
   },
   {
    "duration": 0,
    "start_time": "2023-02-13T16:31:12.681Z"
   },
   {
    "duration": 0,
    "start_time": "2023-02-13T16:31:12.682Z"
   },
   {
    "duration": 0,
    "start_time": "2023-02-13T16:31:12.768Z"
   },
   {
    "duration": 0,
    "start_time": "2023-02-13T16:31:12.773Z"
   },
   {
    "duration": 0,
    "start_time": "2023-02-13T16:31:12.774Z"
   },
   {
    "duration": 1,
    "start_time": "2023-02-13T16:31:12.775Z"
   },
   {
    "duration": 0,
    "start_time": "2023-02-13T16:31:12.777Z"
   },
   {
    "duration": 0,
    "start_time": "2023-02-13T16:31:12.778Z"
   },
   {
    "duration": 0,
    "start_time": "2023-02-13T16:31:12.779Z"
   },
   {
    "duration": 0,
    "start_time": "2023-02-13T16:31:12.779Z"
   },
   {
    "duration": 0,
    "start_time": "2023-02-13T16:31:12.780Z"
   },
   {
    "duration": 0,
    "start_time": "2023-02-13T16:31:12.781Z"
   },
   {
    "duration": 0,
    "start_time": "2023-02-13T16:31:12.782Z"
   },
   {
    "duration": 0,
    "start_time": "2023-02-13T16:31:12.782Z"
   },
   {
    "duration": 0,
    "start_time": "2023-02-13T16:31:12.783Z"
   },
   {
    "duration": 0,
    "start_time": "2023-02-13T16:31:12.783Z"
   },
   {
    "duration": 0,
    "start_time": "2023-02-13T16:31:12.784Z"
   },
   {
    "duration": 0,
    "start_time": "2023-02-13T16:31:12.784Z"
   },
   {
    "duration": 0,
    "start_time": "2023-02-13T16:31:12.785Z"
   },
   {
    "duration": 0,
    "start_time": "2023-02-13T16:31:12.785Z"
   },
   {
    "duration": 0,
    "start_time": "2023-02-13T16:31:12.786Z"
   },
   {
    "duration": 0,
    "start_time": "2023-02-13T16:31:12.868Z"
   },
   {
    "duration": 0,
    "start_time": "2023-02-13T16:31:12.870Z"
   },
   {
    "duration": 0,
    "start_time": "2023-02-13T16:31:12.871Z"
   },
   {
    "duration": 23291,
    "start_time": "2023-02-13T16:34:03.177Z"
   },
   {
    "duration": 90662,
    "start_time": "2023-02-13T16:34:26.471Z"
   },
   {
    "duration": 111,
    "start_time": "2023-02-13T16:35:57.135Z"
   },
   {
    "duration": 0,
    "start_time": "2023-02-13T16:35:57.249Z"
   },
   {
    "duration": 0,
    "start_time": "2023-02-13T16:35:57.250Z"
   },
   {
    "duration": 0,
    "start_time": "2023-02-13T16:35:57.251Z"
   },
   {
    "duration": 0,
    "start_time": "2023-02-13T16:35:57.252Z"
   },
   {
    "duration": 0,
    "start_time": "2023-02-13T16:35:57.254Z"
   },
   {
    "duration": 0,
    "start_time": "2023-02-13T16:35:57.255Z"
   },
   {
    "duration": 0,
    "start_time": "2023-02-13T16:35:57.267Z"
   },
   {
    "duration": 0,
    "start_time": "2023-02-13T16:35:57.268Z"
   },
   {
    "duration": 0,
    "start_time": "2023-02-13T16:35:57.269Z"
   },
   {
    "duration": 0,
    "start_time": "2023-02-13T16:35:57.271Z"
   },
   {
    "duration": 0,
    "start_time": "2023-02-13T16:35:57.272Z"
   },
   {
    "duration": 0,
    "start_time": "2023-02-13T16:35:57.273Z"
   },
   {
    "duration": 0,
    "start_time": "2023-02-13T16:35:57.275Z"
   },
   {
    "duration": 0,
    "start_time": "2023-02-13T16:35:57.276Z"
   },
   {
    "duration": 0,
    "start_time": "2023-02-13T16:35:57.277Z"
   },
   {
    "duration": 0,
    "start_time": "2023-02-13T16:35:57.279Z"
   },
   {
    "duration": 0,
    "start_time": "2023-02-13T16:35:57.280Z"
   },
   {
    "duration": 0,
    "start_time": "2023-02-13T16:35:57.281Z"
   },
   {
    "duration": 0,
    "start_time": "2023-02-13T16:35:57.283Z"
   },
   {
    "duration": 0,
    "start_time": "2023-02-13T16:35:57.284Z"
   },
   {
    "duration": 0,
    "start_time": "2023-02-13T16:35:57.285Z"
   },
   {
    "duration": 0,
    "start_time": "2023-02-13T16:35:57.286Z"
   },
   {
    "duration": 0,
    "start_time": "2023-02-13T16:35:57.287Z"
   },
   {
    "duration": 0,
    "start_time": "2023-02-13T16:35:57.289Z"
   },
   {
    "duration": 0,
    "start_time": "2023-02-13T16:35:57.290Z"
   },
   {
    "duration": 0,
    "start_time": "2023-02-13T16:35:57.291Z"
   },
   {
    "duration": 0,
    "start_time": "2023-02-13T16:35:57.293Z"
   },
   {
    "duration": 0,
    "start_time": "2023-02-13T16:35:57.294Z"
   },
   {
    "duration": 0,
    "start_time": "2023-02-13T16:35:57.294Z"
   },
   {
    "duration": 0,
    "start_time": "2023-02-13T16:35:57.295Z"
   },
   {
    "duration": 0,
    "start_time": "2023-02-13T16:35:57.296Z"
   },
   {
    "duration": 0,
    "start_time": "2023-02-13T16:35:57.297Z"
   },
   {
    "duration": 0,
    "start_time": "2023-02-13T16:35:57.298Z"
   },
   {
    "duration": 0,
    "start_time": "2023-02-13T16:35:57.299Z"
   },
   {
    "duration": 0,
    "start_time": "2023-02-13T16:35:57.300Z"
   },
   {
    "duration": 0,
    "start_time": "2023-02-13T16:35:57.301Z"
   },
   {
    "duration": 0,
    "start_time": "2023-02-13T16:35:57.303Z"
   },
   {
    "duration": 0,
    "start_time": "2023-02-13T16:35:57.304Z"
   },
   {
    "duration": 0,
    "start_time": "2023-02-13T16:35:57.304Z"
   },
   {
    "duration": 0,
    "start_time": "2023-02-13T16:35:57.306Z"
   },
   {
    "duration": 0,
    "start_time": "2023-02-13T16:35:57.367Z"
   },
   {
    "duration": 0,
    "start_time": "2023-02-13T16:35:57.368Z"
   },
   {
    "duration": 0,
    "start_time": "2023-02-13T16:35:57.369Z"
   },
   {
    "duration": 4217,
    "start_time": "2023-02-13T17:09:04.043Z"
   },
   {
    "duration": 120,
    "start_time": "2023-02-13T17:09:08.262Z"
   },
   {
    "duration": 0,
    "start_time": "2023-02-13T17:09:08.386Z"
   },
   {
    "duration": 0,
    "start_time": "2023-02-13T17:09:08.388Z"
   },
   {
    "duration": 0,
    "start_time": "2023-02-13T17:09:08.394Z"
   },
   {
    "duration": 0,
    "start_time": "2023-02-13T17:09:08.396Z"
   },
   {
    "duration": 0,
    "start_time": "2023-02-13T17:09:08.397Z"
   },
   {
    "duration": 0,
    "start_time": "2023-02-13T17:09:08.398Z"
   },
   {
    "duration": 0,
    "start_time": "2023-02-13T17:09:08.399Z"
   },
   {
    "duration": 0,
    "start_time": "2023-02-13T17:09:08.400Z"
   },
   {
    "duration": 0,
    "start_time": "2023-02-13T17:09:08.402Z"
   },
   {
    "duration": 0,
    "start_time": "2023-02-13T17:09:08.403Z"
   },
   {
    "duration": 0,
    "start_time": "2023-02-13T17:09:08.405Z"
   },
   {
    "duration": 0,
    "start_time": "2023-02-13T17:09:08.407Z"
   },
   {
    "duration": 0,
    "start_time": "2023-02-13T17:09:08.408Z"
   },
   {
    "duration": 0,
    "start_time": "2023-02-13T17:09:08.409Z"
   },
   {
    "duration": 0,
    "start_time": "2023-02-13T17:09:08.411Z"
   },
   {
    "duration": 0,
    "start_time": "2023-02-13T17:09:08.412Z"
   },
   {
    "duration": 0,
    "start_time": "2023-02-13T17:09:08.413Z"
   },
   {
    "duration": 1,
    "start_time": "2023-02-13T17:09:08.414Z"
   },
   {
    "duration": 0,
    "start_time": "2023-02-13T17:09:08.416Z"
   },
   {
    "duration": 0,
    "start_time": "2023-02-13T17:09:08.417Z"
   },
   {
    "duration": 0,
    "start_time": "2023-02-13T17:09:08.418Z"
   },
   {
    "duration": 0,
    "start_time": "2023-02-13T17:09:08.420Z"
   },
   {
    "duration": 0,
    "start_time": "2023-02-13T17:09:08.421Z"
   },
   {
    "duration": 0,
    "start_time": "2023-02-13T17:09:08.422Z"
   },
   {
    "duration": 0,
    "start_time": "2023-02-13T17:09:08.424Z"
   },
   {
    "duration": 0,
    "start_time": "2023-02-13T17:09:08.425Z"
   },
   {
    "duration": 0,
    "start_time": "2023-02-13T17:09:08.426Z"
   },
   {
    "duration": 0,
    "start_time": "2023-02-13T17:09:08.428Z"
   },
   {
    "duration": 0,
    "start_time": "2023-02-13T17:09:08.430Z"
   },
   {
    "duration": 0,
    "start_time": "2023-02-13T17:09:08.431Z"
   },
   {
    "duration": 1,
    "start_time": "2023-02-13T17:09:08.432Z"
   },
   {
    "duration": 0,
    "start_time": "2023-02-13T17:09:08.497Z"
   },
   {
    "duration": 0,
    "start_time": "2023-02-13T17:09:08.498Z"
   },
   {
    "duration": 0,
    "start_time": "2023-02-13T17:09:08.499Z"
   },
   {
    "duration": 0,
    "start_time": "2023-02-13T17:09:08.500Z"
   },
   {
    "duration": 0,
    "start_time": "2023-02-13T17:09:08.502Z"
   },
   {
    "duration": 0,
    "start_time": "2023-02-13T17:09:08.503Z"
   },
   {
    "duration": 0,
    "start_time": "2023-02-13T17:09:08.503Z"
   },
   {
    "duration": 0,
    "start_time": "2023-02-13T17:09:08.505Z"
   },
   {
    "duration": 0,
    "start_time": "2023-02-13T17:09:08.506Z"
   },
   {
    "duration": 0,
    "start_time": "2023-02-13T17:09:08.506Z"
   },
   {
    "duration": 0,
    "start_time": "2023-02-13T17:09:08.507Z"
   },
   {
    "duration": 0,
    "start_time": "2023-02-13T17:09:08.509Z"
   },
   {
    "duration": 3516,
    "start_time": "2023-02-13T17:09:47.451Z"
   },
   {
    "duration": 110,
    "start_time": "2023-02-13T17:09:50.969Z"
   },
   {
    "duration": 0,
    "start_time": "2023-02-13T17:09:51.082Z"
   },
   {
    "duration": 0,
    "start_time": "2023-02-13T17:09:51.083Z"
   },
   {
    "duration": 0,
    "start_time": "2023-02-13T17:09:51.085Z"
   },
   {
    "duration": 0,
    "start_time": "2023-02-13T17:09:51.086Z"
   },
   {
    "duration": 0,
    "start_time": "2023-02-13T17:09:51.087Z"
   },
   {
    "duration": 0,
    "start_time": "2023-02-13T17:09:51.088Z"
   },
   {
    "duration": 0,
    "start_time": "2023-02-13T17:09:51.093Z"
   },
   {
    "duration": 0,
    "start_time": "2023-02-13T17:09:51.095Z"
   },
   {
    "duration": 0,
    "start_time": "2023-02-13T17:09:51.096Z"
   },
   {
    "duration": 0,
    "start_time": "2023-02-13T17:09:51.097Z"
   },
   {
    "duration": 0,
    "start_time": "2023-02-13T17:09:51.099Z"
   },
   {
    "duration": 0,
    "start_time": "2023-02-13T17:09:51.100Z"
   },
   {
    "duration": 0,
    "start_time": "2023-02-13T17:09:51.101Z"
   },
   {
    "duration": 0,
    "start_time": "2023-02-13T17:09:51.103Z"
   },
   {
    "duration": 1,
    "start_time": "2023-02-13T17:09:51.104Z"
   },
   {
    "duration": 0,
    "start_time": "2023-02-13T17:09:51.106Z"
   },
   {
    "duration": 0,
    "start_time": "2023-02-13T17:09:51.107Z"
   },
   {
    "duration": 0,
    "start_time": "2023-02-13T17:09:51.108Z"
   },
   {
    "duration": 0,
    "start_time": "2023-02-13T17:09:51.110Z"
   },
   {
    "duration": 0,
    "start_time": "2023-02-13T17:09:51.112Z"
   },
   {
    "duration": 0,
    "start_time": "2023-02-13T17:09:51.113Z"
   },
   {
    "duration": 0,
    "start_time": "2023-02-13T17:09:51.115Z"
   },
   {
    "duration": 0,
    "start_time": "2023-02-13T17:09:51.116Z"
   },
   {
    "duration": 0,
    "start_time": "2023-02-13T17:09:51.117Z"
   },
   {
    "duration": 0,
    "start_time": "2023-02-13T17:09:51.119Z"
   },
   {
    "duration": 0,
    "start_time": "2023-02-13T17:09:51.120Z"
   },
   {
    "duration": 0,
    "start_time": "2023-02-13T17:09:51.121Z"
   },
   {
    "duration": 0,
    "start_time": "2023-02-13T17:09:51.123Z"
   },
   {
    "duration": 0,
    "start_time": "2023-02-13T17:09:51.124Z"
   },
   {
    "duration": 0,
    "start_time": "2023-02-13T17:09:51.125Z"
   },
   {
    "duration": 0,
    "start_time": "2023-02-13T17:09:51.127Z"
   },
   {
    "duration": 0,
    "start_time": "2023-02-13T17:09:51.129Z"
   },
   {
    "duration": 0,
    "start_time": "2023-02-13T17:09:51.130Z"
   },
   {
    "duration": 0,
    "start_time": "2023-02-13T17:09:51.132Z"
   },
   {
    "duration": 0,
    "start_time": "2023-02-13T17:09:51.193Z"
   },
   {
    "duration": 0,
    "start_time": "2023-02-13T17:09:51.195Z"
   },
   {
    "duration": 0,
    "start_time": "2023-02-13T17:09:51.197Z"
   },
   {
    "duration": 0,
    "start_time": "2023-02-13T17:09:51.198Z"
   },
   {
    "duration": 0,
    "start_time": "2023-02-13T17:09:51.199Z"
   },
   {
    "duration": 0,
    "start_time": "2023-02-13T17:09:51.200Z"
   },
   {
    "duration": 0,
    "start_time": "2023-02-13T17:09:51.202Z"
   },
   {
    "duration": 0,
    "start_time": "2023-02-13T17:09:51.203Z"
   },
   {
    "duration": 0,
    "start_time": "2023-02-13T17:09:51.204Z"
   },
   {
    "duration": 3733,
    "start_time": "2023-02-13T17:10:12.188Z"
   },
   {
    "duration": 2,
    "start_time": "2023-02-13T17:10:15.923Z"
   },
   {
    "duration": 1116,
    "start_time": "2023-02-13T17:10:15.927Z"
   },
   {
    "duration": 24,
    "start_time": "2023-02-13T17:10:17.045Z"
   },
   {
    "duration": 132,
    "start_time": "2023-02-13T17:10:17.071Z"
   },
   {
    "duration": 25,
    "start_time": "2023-02-13T17:10:17.205Z"
   },
   {
    "duration": 96,
    "start_time": "2023-02-13T17:10:17.233Z"
   },
   {
    "duration": 206,
    "start_time": "2023-02-13T17:10:17.331Z"
   },
   {
    "duration": 230,
    "start_time": "2023-02-13T17:10:17.539Z"
   },
   {
    "duration": 184,
    "start_time": "2023-02-13T17:10:17.772Z"
   },
   {
    "duration": 81,
    "start_time": "2023-02-13T17:10:17.958Z"
   },
   {
    "duration": 41,
    "start_time": "2023-02-13T17:10:18.041Z"
   },
   {
    "duration": 69,
    "start_time": "2023-02-13T17:10:18.084Z"
   },
   {
    "duration": 25,
    "start_time": "2023-02-13T17:10:18.155Z"
   },
   {
    "duration": 30,
    "start_time": "2023-02-13T17:10:18.182Z"
   },
   {
    "duration": 34,
    "start_time": "2023-02-13T17:10:18.214Z"
   },
   {
    "duration": 21,
    "start_time": "2023-02-13T17:10:18.249Z"
   },
   {
    "duration": 27,
    "start_time": "2023-02-13T17:10:18.272Z"
   },
   {
    "duration": 19,
    "start_time": "2023-02-13T17:10:18.301Z"
   },
   {
    "duration": 16,
    "start_time": "2023-02-13T17:10:18.322Z"
   },
   {
    "duration": 110,
    "start_time": "2023-02-13T17:10:18.340Z"
   },
   {
    "duration": 73,
    "start_time": "2023-02-13T17:10:18.452Z"
   },
   {
    "duration": 77,
    "start_time": "2023-02-13T17:10:18.527Z"
   },
   {
    "duration": 14,
    "start_time": "2023-02-13T17:10:18.606Z"
   },
   {
    "duration": 89,
    "start_time": "2023-02-13T17:10:18.622Z"
   },
   {
    "duration": 4,
    "start_time": "2023-02-13T17:10:18.713Z"
   },
   {
    "duration": 38,
    "start_time": "2023-02-13T17:10:18.719Z"
   },
   {
    "duration": 40,
    "start_time": "2023-02-13T17:10:18.762Z"
   },
   {
    "duration": 481,
    "start_time": "2023-02-13T17:10:18.803Z"
   },
   {
    "duration": 16,
    "start_time": "2023-02-13T17:10:19.286Z"
   },
   {
    "duration": 47,
    "start_time": "2023-02-13T17:10:19.304Z"
   },
   {
    "duration": 429,
    "start_time": "2023-02-13T17:10:19.352Z"
   },
   {
    "duration": 3,
    "start_time": "2023-02-13T17:10:19.782Z"
   },
   {
    "duration": 9,
    "start_time": "2023-02-13T17:10:19.786Z"
   },
   {
    "duration": 0,
    "start_time": "2023-02-13T17:10:19.797Z"
   },
   {
    "duration": 0,
    "start_time": "2023-02-13T17:10:19.798Z"
   },
   {
    "duration": 0,
    "start_time": "2023-02-13T17:10:19.800Z"
   },
   {
    "duration": 0,
    "start_time": "2023-02-13T17:10:19.801Z"
   },
   {
    "duration": 0,
    "start_time": "2023-02-13T17:10:19.802Z"
   },
   {
    "duration": 0,
    "start_time": "2023-02-13T17:10:19.804Z"
   },
   {
    "duration": 0,
    "start_time": "2023-02-13T17:10:19.805Z"
   },
   {
    "duration": 0,
    "start_time": "2023-02-13T17:10:19.806Z"
   },
   {
    "duration": 0,
    "start_time": "2023-02-13T17:10:19.808Z"
   },
   {
    "duration": 0,
    "start_time": "2023-02-13T17:10:19.809Z"
   },
   {
    "duration": 0,
    "start_time": "2023-02-13T17:10:19.810Z"
   },
   {
    "duration": 5,
    "start_time": "2023-02-13T17:10:37.450Z"
   },
   {
    "duration": 186,
    "start_time": "2023-02-13T17:11:19.312Z"
   },
   {
    "duration": 17,
    "start_time": "2023-02-13T17:11:20.397Z"
   },
   {
    "duration": 5,
    "start_time": "2023-02-13T17:11:20.993Z"
   },
   {
    "duration": 5,
    "start_time": "2023-02-13T17:11:24.442Z"
   },
   {
    "duration": 206,
    "start_time": "2023-02-13T17:11:24.652Z"
   },
   {
    "duration": 9,
    "start_time": "2023-02-13T17:11:24.860Z"
   },
   {
    "duration": 166643,
    "start_time": "2023-02-13T17:11:25.209Z"
   },
   {
    "duration": 152,
    "start_time": "2023-02-13T17:14:11.854Z"
   },
   {
    "duration": 11,
    "start_time": "2023-02-13T17:14:12.008Z"
   },
   {
    "duration": 0,
    "start_time": "2023-02-13T17:14:12.020Z"
   },
   {
    "duration": 16,
    "start_time": "2023-02-13T17:14:45.634Z"
   },
   {
    "duration": 126,
    "start_time": "2023-02-13T17:15:22.512Z"
   },
   {
    "duration": 4111,
    "start_time": "2023-02-19T13:17:43.526Z"
   },
   {
    "duration": 3,
    "start_time": "2023-02-19T13:17:47.639Z"
   },
   {
    "duration": 1139,
    "start_time": "2023-02-19T13:17:47.643Z"
   },
   {
    "duration": 19,
    "start_time": "2023-02-19T13:17:48.784Z"
   },
   {
    "duration": 120,
    "start_time": "2023-02-19T13:17:48.806Z"
   },
   {
    "duration": 23,
    "start_time": "2023-02-19T13:17:48.928Z"
   },
   {
    "duration": 96,
    "start_time": "2023-02-19T13:17:48.953Z"
   },
   {
    "duration": 220,
    "start_time": "2023-02-19T13:17:49.051Z"
   },
   {
    "duration": 231,
    "start_time": "2023-02-19T13:17:49.273Z"
   },
   {
    "duration": 173,
    "start_time": "2023-02-19T13:17:49.506Z"
   },
   {
    "duration": 75,
    "start_time": "2023-02-19T13:17:49.681Z"
   },
   {
    "duration": 20,
    "start_time": "2023-02-19T13:17:49.758Z"
   },
   {
    "duration": 40,
    "start_time": "2023-02-19T13:17:49.780Z"
   },
   {
    "duration": 19,
    "start_time": "2023-02-19T13:17:49.824Z"
   },
   {
    "duration": 21,
    "start_time": "2023-02-19T13:17:49.845Z"
   },
   {
    "duration": 42,
    "start_time": "2023-02-19T13:17:49.868Z"
   },
   {
    "duration": 28,
    "start_time": "2023-02-19T13:17:49.912Z"
   },
   {
    "duration": 16,
    "start_time": "2023-02-19T13:17:49.942Z"
   },
   {
    "duration": 26,
    "start_time": "2023-02-19T13:17:49.961Z"
   },
   {
    "duration": 24,
    "start_time": "2023-02-19T13:17:49.998Z"
   },
   {
    "duration": 97,
    "start_time": "2023-02-19T13:17:50.024Z"
   },
   {
    "duration": 80,
    "start_time": "2023-02-19T13:17:50.123Z"
   },
   {
    "duration": 80,
    "start_time": "2023-02-19T13:17:50.206Z"
   },
   {
    "duration": 22,
    "start_time": "2023-02-19T13:17:50.288Z"
   },
   {
    "duration": 89,
    "start_time": "2023-02-19T13:17:50.311Z"
   },
   {
    "duration": 3,
    "start_time": "2023-02-19T13:17:50.402Z"
   },
   {
    "duration": 24,
    "start_time": "2023-02-19T13:17:50.407Z"
   },
   {
    "duration": 30,
    "start_time": "2023-02-19T13:17:50.433Z"
   },
   {
    "duration": 503,
    "start_time": "2023-02-19T13:17:50.465Z"
   },
   {
    "duration": 18,
    "start_time": "2023-02-19T13:17:50.970Z"
   },
   {
    "duration": 57,
    "start_time": "2023-02-19T13:17:50.990Z"
   },
   {
    "duration": 396,
    "start_time": "2023-02-19T13:17:51.049Z"
   },
   {
    "duration": 3,
    "start_time": "2023-02-19T13:17:51.446Z"
   },
   {
    "duration": 150,
    "start_time": "2023-02-19T13:17:51.450Z"
   },
   {
    "duration": 100,
    "start_time": "2023-02-19T13:17:51.602Z"
   },
   {
    "duration": 208,
    "start_time": "2023-02-19T13:17:51.704Z"
   },
   {
    "duration": 30042,
    "start_time": "2023-02-19T13:17:51.913Z"
   },
   {
    "duration": 222,
    "start_time": "2023-02-19T13:18:21.957Z"
   },
   {
    "duration": 6,
    "start_time": "2023-02-19T13:18:22.180Z"
   },
   {
    "duration": 140611,
    "start_time": "2023-02-19T13:18:22.188Z"
   },
   {
    "duration": 16244,
    "start_time": "2023-02-19T13:20:42.803Z"
   },
   {
    "duration": 5,
    "start_time": "2023-02-19T13:20:59.049Z"
   },
   {
    "duration": 60,
    "start_time": "2023-02-19T13:20:59.099Z"
   },
   {
    "duration": 4,
    "start_time": "2023-02-19T13:20:59.161Z"
   },
   {
    "duration": 0,
    "start_time": "2023-02-19T13:20:59.167Z"
   },
   {
    "duration": 5,
    "start_time": "2023-02-19T13:23:14.405Z"
   },
   {
    "duration": 4,
    "start_time": "2023-02-19T13:23:19.627Z"
   },
   {
    "duration": 3,
    "start_time": "2023-02-19T13:23:20.550Z"
   },
   {
    "duration": 780,
    "start_time": "2023-02-19T13:23:21.122Z"
   },
   {
    "duration": 17,
    "start_time": "2023-02-19T13:23:23.977Z"
   },
   {
    "duration": 102,
    "start_time": "2023-02-19T13:23:24.545Z"
   },
   {
    "duration": 15,
    "start_time": "2023-02-19T13:23:25.440Z"
   },
   {
    "duration": 69,
    "start_time": "2023-02-19T13:23:25.988Z"
   },
   {
    "duration": 148,
    "start_time": "2023-02-19T13:23:26.281Z"
   },
   {
    "duration": 166,
    "start_time": "2023-02-19T13:23:26.904Z"
   },
   {
    "duration": 142,
    "start_time": "2023-02-19T13:23:27.522Z"
   },
   {
    "duration": 62,
    "start_time": "2023-02-19T13:23:27.816Z"
   },
   {
    "duration": 18,
    "start_time": "2023-02-19T13:23:28.392Z"
   },
   {
    "duration": 16,
    "start_time": "2023-02-19T13:23:29.049Z"
   },
   {
    "duration": 18,
    "start_time": "2023-02-19T13:23:29.913Z"
   },
   {
    "duration": 18,
    "start_time": "2023-02-19T13:23:30.418Z"
   },
   {
    "duration": 27,
    "start_time": "2023-02-19T13:23:30.658Z"
   },
   {
    "duration": 20,
    "start_time": "2023-02-19T13:23:31.153Z"
   },
   {
    "duration": 13,
    "start_time": "2023-02-19T13:23:31.466Z"
   },
   {
    "duration": 18,
    "start_time": "2023-02-19T13:23:31.993Z"
   },
   {
    "duration": 14,
    "start_time": "2023-02-19T13:23:32.234Z"
   },
   {
    "duration": 72,
    "start_time": "2023-02-19T13:23:32.720Z"
   },
   {
    "duration": 61,
    "start_time": "2023-02-19T13:23:32.938Z"
   },
   {
    "duration": 60,
    "start_time": "2023-02-19T13:23:33.201Z"
   },
   {
    "duration": 110,
    "start_time": "2023-02-19T13:27:27.284Z"
   },
   {
    "duration": 349,
    "start_time": "2023-02-19T13:27:34.595Z"
   },
   {
    "duration": 57,
    "start_time": "2023-02-19T13:32:05.449Z"
   },
   {
    "duration": 509,
    "start_time": "2023-02-19T13:42:50.135Z"
   },
   {
    "duration": 23,
    "start_time": "2023-02-19T13:43:59.656Z"
   },
   {
    "duration": 13,
    "start_time": "2023-02-19T13:45:54.769Z"
   },
   {
    "duration": 90,
    "start_time": "2023-02-19T13:45:59.705Z"
   },
   {
    "duration": 84,
    "start_time": "2023-02-19T13:46:05.714Z"
   },
   {
    "duration": 106,
    "start_time": "2023-02-19T13:46:13.769Z"
   },
   {
    "duration": 83,
    "start_time": "2023-02-19T13:47:20.593Z"
   },
   {
    "duration": 82,
    "start_time": "2023-02-19T13:47:53.337Z"
   },
   {
    "duration": 22,
    "start_time": "2023-02-19T13:48:25.096Z"
   },
   {
    "duration": 1626,
    "start_time": "2023-02-19T13:51:18.785Z"
   },
   {
    "duration": 305,
    "start_time": "2023-02-19T13:51:41.227Z"
   },
   {
    "duration": 21,
    "start_time": "2023-02-19T13:55:57.107Z"
   },
   {
    "duration": 62,
    "start_time": "2023-02-19T13:56:32.196Z"
   },
   {
    "duration": 25,
    "start_time": "2023-02-19T13:56:55.485Z"
   },
   {
    "duration": 57,
    "start_time": "2023-02-19T13:56:55.733Z"
   },
   {
    "duration": 23,
    "start_time": "2023-02-19T13:57:00.068Z"
   },
   {
    "duration": 61,
    "start_time": "2023-02-19T13:57:00.612Z"
   },
   {
    "duration": 322,
    "start_time": "2023-02-19T13:57:07.004Z"
   },
   {
    "duration": 22,
    "start_time": "2023-02-19T13:57:07.581Z"
   },
   {
    "duration": 57,
    "start_time": "2023-02-19T13:57:08.068Z"
   },
   {
    "duration": 1460,
    "start_time": "2023-02-19T13:57:15.739Z"
   },
   {
    "duration": 4,
    "start_time": "2023-02-19T13:57:17.202Z"
   },
   {
    "duration": 858,
    "start_time": "2023-02-19T13:57:17.208Z"
   },
   {
    "duration": 19,
    "start_time": "2023-02-19T13:57:18.068Z"
   },
   {
    "duration": 116,
    "start_time": "2023-02-19T13:57:18.098Z"
   },
   {
    "duration": 24,
    "start_time": "2023-02-19T13:57:18.215Z"
   },
   {
    "duration": 88,
    "start_time": "2023-02-19T13:57:18.241Z"
   },
   {
    "duration": 189,
    "start_time": "2023-02-19T13:57:18.331Z"
   },
   {
    "duration": 206,
    "start_time": "2023-02-19T13:57:18.522Z"
   },
   {
    "duration": 152,
    "start_time": "2023-02-19T13:57:18.729Z"
   },
   {
    "duration": 65,
    "start_time": "2023-02-19T13:57:18.883Z"
   },
   {
    "duration": 19,
    "start_time": "2023-02-19T13:57:18.949Z"
   },
   {
    "duration": 29,
    "start_time": "2023-02-19T13:57:18.970Z"
   },
   {
    "duration": 29,
    "start_time": "2023-02-19T13:57:19.003Z"
   },
   {
    "duration": 19,
    "start_time": "2023-02-19T13:57:19.033Z"
   },
   {
    "duration": 31,
    "start_time": "2023-02-19T13:57:19.053Z"
   },
   {
    "duration": 19,
    "start_time": "2023-02-19T13:57:19.085Z"
   },
   {
    "duration": 15,
    "start_time": "2023-02-19T13:57:19.105Z"
   },
   {
    "duration": 21,
    "start_time": "2023-02-19T13:57:19.122Z"
   },
   {
    "duration": 13,
    "start_time": "2023-02-19T13:57:19.144Z"
   },
   {
    "duration": 87,
    "start_time": "2023-02-19T13:57:19.159Z"
   },
   {
    "duration": 58,
    "start_time": "2023-02-19T13:57:19.248Z"
   },
   {
    "duration": 66,
    "start_time": "2023-02-19T13:57:19.308Z"
   },
   {
    "duration": 73,
    "start_time": "2023-02-19T13:57:19.376Z"
   },
   {
    "duration": 105,
    "start_time": "2023-02-19T13:57:19.450Z"
   },
   {
    "duration": 360,
    "start_time": "2023-02-19T13:57:19.557Z"
   },
   {
    "duration": 23,
    "start_time": "2023-02-19T13:57:19.918Z"
   },
   {
    "duration": 373,
    "start_time": "2023-02-19T13:57:19.943Z"
   },
   {
    "duration": 21,
    "start_time": "2023-02-19T13:57:20.318Z"
   },
   {
    "duration": 75,
    "start_time": "2023-02-19T13:57:20.340Z"
   },
   {
    "duration": 15,
    "start_time": "2023-02-19T13:57:20.417Z"
   },
   {
    "duration": 73,
    "start_time": "2023-02-19T13:57:20.434Z"
   },
   {
    "duration": 2,
    "start_time": "2023-02-19T13:57:20.508Z"
   },
   {
    "duration": 31,
    "start_time": "2023-02-19T13:57:20.512Z"
   },
   {
    "duration": 30,
    "start_time": "2023-02-19T13:57:20.545Z"
   },
   {
    "duration": 448,
    "start_time": "2023-02-19T13:57:20.577Z"
   },
   {
    "duration": 17,
    "start_time": "2023-02-19T13:57:21.027Z"
   },
   {
    "duration": 60,
    "start_time": "2023-02-19T13:57:21.045Z"
   },
   {
    "duration": 422,
    "start_time": "2023-02-19T13:57:21.107Z"
   },
   {
    "duration": 4,
    "start_time": "2023-02-19T13:57:21.530Z"
   },
   {
    "duration": 78,
    "start_time": "2023-02-19T13:57:21.537Z"
   },
   {
    "duration": 84,
    "start_time": "2023-02-19T13:57:21.617Z"
   },
   {
    "duration": 6,
    "start_time": "2023-02-19T13:57:21.702Z"
   },
   {
    "duration": 30091,
    "start_time": "2023-02-19T13:57:21.709Z"
   },
   {
    "duration": 223,
    "start_time": "2023-02-19T13:57:51.801Z"
   },
   {
    "duration": 5,
    "start_time": "2023-02-19T13:57:52.026Z"
   },
   {
    "duration": 30076,
    "start_time": "2023-02-19T13:57:52.032Z"
   },
   {
    "duration": 14532,
    "start_time": "2023-02-19T13:58:22.109Z"
   },
   {
    "duration": 5,
    "start_time": "2023-02-19T13:58:36.643Z"
   },
   {
    "duration": 104,
    "start_time": "2023-02-19T13:58:36.649Z"
   },
   {
    "duration": 4,
    "start_time": "2023-02-19T13:58:36.755Z"
   },
   {
    "duration": 0,
    "start_time": "2023-02-19T13:58:36.761Z"
   },
   {
    "duration": 254,
    "start_time": "2023-02-19T13:59:36.245Z"
   },
   {
    "duration": 101,
    "start_time": "2023-02-19T13:59:45.950Z"
   },
   {
    "duration": 2,
    "start_time": "2023-02-19T13:59:57.293Z"
   },
   {
    "duration": 39,
    "start_time": "2023-02-19T13:59:57.587Z"
   },
   {
    "duration": 9,
    "start_time": "2023-02-19T13:59:57.966Z"
   },
   {
    "duration": 4531,
    "start_time": "2023-02-19T14:01:13.276Z"
   },
   {
    "duration": 5,
    "start_time": "2023-02-19T14:01:21.901Z"
   },
   {
    "duration": 58,
    "start_time": "2023-02-19T14:11:34.928Z"
   },
   {
    "duration": 878,
    "start_time": "2023-02-19T14:16:20.033Z"
   },
   {
    "duration": 814,
    "start_time": "2023-02-19T14:17:04.493Z"
   },
   {
    "duration": 882,
    "start_time": "2023-02-19T14:17:13.288Z"
   },
   {
    "duration": 22,
    "start_time": "2023-02-19T14:17:43.280Z"
   },
   {
    "duration": 23,
    "start_time": "2023-02-19T14:19:05.123Z"
   },
   {
    "duration": 76,
    "start_time": "2023-02-19T14:19:10.837Z"
   },
   {
    "duration": 434,
    "start_time": "2023-02-19T14:19:23.146Z"
   },
   {
    "duration": 365,
    "start_time": "2023-02-19T14:19:27.410Z"
   },
   {
    "duration": 10,
    "start_time": "2023-02-19T14:19:56.274Z"
   },
   {
    "duration": 747,
    "start_time": "2023-02-19T14:22:05.475Z"
   },
   {
    "duration": 10,
    "start_time": "2023-02-19T14:25:43.114Z"
   },
   {
    "duration": 25,
    "start_time": "2023-02-19T14:26:45.688Z"
   },
   {
    "duration": 4,
    "start_time": "2023-02-19T14:27:51.235Z"
   },
   {
    "duration": 16,
    "start_time": "2023-02-19T14:30:12.854Z"
   },
   {
    "duration": 20,
    "start_time": "2023-02-19T14:30:23.563Z"
   },
   {
    "duration": 64,
    "start_time": "2023-02-19T14:30:24.237Z"
   },
   {
    "duration": 64,
    "start_time": "2023-02-19T14:30:43.154Z"
   },
   {
    "duration": 173,
    "start_time": "2023-02-19T14:31:27.059Z"
   },
   {
    "duration": 61,
    "start_time": "2023-02-19T14:31:44.924Z"
   },
   {
    "duration": 17,
    "start_time": "2023-02-19T14:32:03.883Z"
   },
   {
    "duration": 6395,
    "start_time": "2023-02-19T14:35:25.488Z"
   },
   {
    "duration": 24,
    "start_time": "2023-02-19T14:36:08.452Z"
   },
   {
    "duration": 113,
    "start_time": "2023-02-19T17:07:20.002Z"
   },
   {
    "duration": 63,
    "start_time": "2023-02-19T17:07:36.738Z"
   },
   {
    "duration": 16,
    "start_time": "2023-02-19T17:07:38.938Z"
   },
   {
    "duration": 61,
    "start_time": "2023-02-19T17:07:39.162Z"
   },
   {
    "duration": 4,
    "start_time": "2023-02-19T17:11:20.931Z"
   },
   {
    "duration": 5,
    "start_time": "2023-02-19T17:11:50.821Z"
   },
   {
    "duration": 112,
    "start_time": "2023-02-19T17:12:24.187Z"
   },
   {
    "duration": 114,
    "start_time": "2023-02-19T17:13:17.145Z"
   },
   {
    "duration": 118,
    "start_time": "2023-02-19T17:13:30.613Z"
   },
   {
    "duration": 4,
    "start_time": "2023-02-19T17:13:39.892Z"
   },
   {
    "duration": 166,
    "start_time": "2023-02-19T17:13:40.348Z"
   },
   {
    "duration": 244,
    "start_time": "2023-02-19T17:14:42.301Z"
   },
   {
    "duration": 5,
    "start_time": "2023-02-19T17:14:49.561Z"
   },
   {
    "duration": 110,
    "start_time": "2023-02-19T17:14:50.301Z"
   },
   {
    "duration": 371,
    "start_time": "2023-02-19T17:18:09.780Z"
   },
   {
    "duration": 27,
    "start_time": "2023-02-19T17:18:18.998Z"
   },
   {
    "duration": 10,
    "start_time": "2023-02-19T17:18:24.621Z"
   },
   {
    "duration": 3,
    "start_time": "2023-02-19T17:18:28.662Z"
   },
   {
    "duration": 1512,
    "start_time": "2023-02-19T17:18:55.831Z"
   },
   {
    "duration": 3,
    "start_time": "2023-02-19T17:18:57.346Z"
   },
   {
    "duration": 819,
    "start_time": "2023-02-19T17:18:57.350Z"
   },
   {
    "duration": 16,
    "start_time": "2023-02-19T17:18:58.171Z"
   },
   {
    "duration": 122,
    "start_time": "2023-02-19T17:18:58.189Z"
   },
   {
    "duration": 24,
    "start_time": "2023-02-19T17:18:58.313Z"
   },
   {
    "duration": 82,
    "start_time": "2023-02-19T17:18:58.338Z"
   },
   {
    "duration": 170,
    "start_time": "2023-02-19T17:18:58.421Z"
   },
   {
    "duration": 195,
    "start_time": "2023-02-19T17:18:58.592Z"
   },
   {
    "duration": 159,
    "start_time": "2023-02-19T17:18:58.789Z"
   },
   {
    "duration": 64,
    "start_time": "2023-02-19T17:18:58.950Z"
   },
   {
    "duration": 18,
    "start_time": "2023-02-19T17:18:59.015Z"
   },
   {
    "duration": 18,
    "start_time": "2023-02-19T17:18:59.035Z"
   },
   {
    "duration": 16,
    "start_time": "2023-02-19T17:18:59.056Z"
   },
   {
    "duration": 37,
    "start_time": "2023-02-19T17:18:59.073Z"
   },
   {
    "duration": 31,
    "start_time": "2023-02-19T17:18:59.111Z"
   },
   {
    "duration": 24,
    "start_time": "2023-02-19T17:18:59.143Z"
   },
   {
    "duration": 27,
    "start_time": "2023-02-19T17:18:59.169Z"
   },
   {
    "duration": 25,
    "start_time": "2023-02-19T17:18:59.198Z"
   },
   {
    "duration": 16,
    "start_time": "2023-02-19T17:18:59.224Z"
   },
   {
    "duration": 92,
    "start_time": "2023-02-19T17:18:59.241Z"
   },
   {
    "duration": 57,
    "start_time": "2023-02-19T17:18:59.334Z"
   },
   {
    "duration": 57,
    "start_time": "2023-02-19T17:18:59.399Z"
   },
   {
    "duration": 76,
    "start_time": "2023-02-19T17:18:59.458Z"
   },
   {
    "duration": 100,
    "start_time": "2023-02-19T17:18:59.536Z"
   },
   {
    "duration": 369,
    "start_time": "2023-02-19T17:18:59.638Z"
   },
   {
    "duration": 23,
    "start_time": "2023-02-19T17:19:00.008Z"
   },
   {
    "duration": 345,
    "start_time": "2023-02-19T17:19:00.033Z"
   },
   {
    "duration": 34,
    "start_time": "2023-02-19T17:19:00.380Z"
   },
   {
    "duration": 68,
    "start_time": "2023-02-19T17:19:00.416Z"
   },
   {
    "duration": 377,
    "start_time": "2023-02-19T17:19:00.498Z"
   },
   {
    "duration": 5,
    "start_time": "2023-02-19T17:19:00.876Z"
   },
   {
    "duration": 73,
    "start_time": "2023-02-19T17:19:00.883Z"
   },
   {
    "duration": 49,
    "start_time": "2023-02-19T17:19:00.958Z"
   },
   {
    "duration": 4,
    "start_time": "2023-02-19T17:19:01.009Z"
   },
   {
    "duration": 204,
    "start_time": "2023-02-19T17:19:01.015Z"
   },
   {
    "duration": 3,
    "start_time": "2023-02-19T17:19:01.221Z"
   },
   {
    "duration": 338,
    "start_time": "2023-02-19T17:19:01.226Z"
   },
   {
    "duration": 116,
    "start_time": "2023-02-19T17:19:01.565Z"
   },
   {
    "duration": 10,
    "start_time": "2023-02-19T17:19:01.683Z"
   },
   {
    "duration": 0,
    "start_time": "2023-02-19T17:19:01.696Z"
   },
   {
    "duration": 0,
    "start_time": "2023-02-19T17:19:01.697Z"
   },
   {
    "duration": 0,
    "start_time": "2023-02-19T17:19:01.699Z"
   },
   {
    "duration": 0,
    "start_time": "2023-02-19T17:19:01.700Z"
   },
   {
    "duration": 0,
    "start_time": "2023-02-19T17:19:01.702Z"
   },
   {
    "duration": 0,
    "start_time": "2023-02-19T17:19:01.703Z"
   },
   {
    "duration": 0,
    "start_time": "2023-02-19T17:19:01.705Z"
   },
   {
    "duration": 0,
    "start_time": "2023-02-19T17:19:01.706Z"
   },
   {
    "duration": 0,
    "start_time": "2023-02-19T17:19:01.707Z"
   },
   {
    "duration": 0,
    "start_time": "2023-02-19T17:19:01.709Z"
   },
   {
    "duration": 5,
    "start_time": "2023-02-19T17:20:15.266Z"
   },
   {
    "duration": 125656,
    "start_time": "2023-02-19T17:20:15.645Z"
   },
   {
    "duration": 1966,
    "start_time": "2023-02-19T17:37:40.409Z"
   },
   {
    "duration": 2063,
    "start_time": "2023-02-19T17:39:42.043Z"
   },
   {
    "duration": 2355,
    "start_time": "2023-02-19T17:40:09.957Z"
   },
   {
    "duration": 2039,
    "start_time": "2023-02-19T17:40:35.432Z"
   },
   {
    "duration": 2261,
    "start_time": "2023-02-19T17:40:47.086Z"
   },
   {
    "duration": 2039,
    "start_time": "2023-02-19T17:42:00.008Z"
   },
   {
    "duration": 105,
    "start_time": "2023-02-19T17:42:17.953Z"
   },
   {
    "duration": 3367,
    "start_time": "2023-02-19T17:45:32.453Z"
   },
   {
    "duration": 2,
    "start_time": "2023-02-19T17:45:35.822Z"
   },
   {
    "duration": 843,
    "start_time": "2023-02-19T17:45:35.826Z"
   },
   {
    "duration": 19,
    "start_time": "2023-02-19T17:45:36.671Z"
   },
   {
    "duration": 120,
    "start_time": "2023-02-19T17:45:36.698Z"
   },
   {
    "duration": 26,
    "start_time": "2023-02-19T17:45:36.820Z"
   },
   {
    "duration": 89,
    "start_time": "2023-02-19T17:45:36.848Z"
   },
   {
    "duration": 198,
    "start_time": "2023-02-19T17:45:36.939Z"
   },
   {
    "duration": 235,
    "start_time": "2023-02-19T17:45:37.139Z"
   },
   {
    "duration": 179,
    "start_time": "2023-02-19T17:45:37.376Z"
   },
   {
    "duration": 62,
    "start_time": "2023-02-19T17:45:37.556Z"
   },
   {
    "duration": 16,
    "start_time": "2023-02-19T17:45:37.620Z"
   },
   {
    "duration": 18,
    "start_time": "2023-02-19T17:45:37.638Z"
   },
   {
    "duration": 13,
    "start_time": "2023-02-19T17:45:37.658Z"
   },
   {
    "duration": 37,
    "start_time": "2023-02-19T17:45:37.673Z"
   },
   {
    "duration": 35,
    "start_time": "2023-02-19T17:45:37.712Z"
   },
   {
    "duration": 20,
    "start_time": "2023-02-19T17:45:37.749Z"
   },
   {
    "duration": 22,
    "start_time": "2023-02-19T17:45:37.770Z"
   },
   {
    "duration": 22,
    "start_time": "2023-02-19T17:45:37.793Z"
   },
   {
    "duration": 13,
    "start_time": "2023-02-19T17:45:37.817Z"
   },
   {
    "duration": 98,
    "start_time": "2023-02-19T17:45:37.832Z"
   },
   {
    "duration": 67,
    "start_time": "2023-02-19T17:45:37.932Z"
   },
   {
    "duration": 58,
    "start_time": "2023-02-19T17:45:38.001Z"
   },
   {
    "duration": 70,
    "start_time": "2023-02-19T17:45:38.061Z"
   },
   {
    "duration": 95,
    "start_time": "2023-02-19T17:45:38.132Z"
   },
   {
    "duration": 377,
    "start_time": "2023-02-19T17:45:38.228Z"
   },
   {
    "duration": 22,
    "start_time": "2023-02-19T17:45:38.607Z"
   },
   {
    "duration": 318,
    "start_time": "2023-02-19T17:45:38.631Z"
   },
   {
    "duration": 24,
    "start_time": "2023-02-19T17:45:38.951Z"
   },
   {
    "duration": 70,
    "start_time": "2023-02-19T17:45:38.977Z"
   },
   {
    "duration": 16,
    "start_time": "2023-02-19T17:45:39.048Z"
   },
   {
    "duration": 82,
    "start_time": "2023-02-19T17:45:39.066Z"
   },
   {
    "duration": 3,
    "start_time": "2023-02-19T17:45:39.150Z"
   },
   {
    "duration": 161,
    "start_time": "2023-02-19T17:45:39.154Z"
   },
   {
    "duration": 3,
    "start_time": "2023-02-19T17:45:39.316Z"
   },
   {
    "duration": 301,
    "start_time": "2023-02-19T17:45:39.320Z"
   },
   {
    "duration": 169,
    "start_time": "2023-02-19T17:45:39.623Z"
   },
   {
    "duration": 10,
    "start_time": "2023-02-19T17:45:39.794Z"
   },
   {
    "duration": 0,
    "start_time": "2023-02-19T17:45:39.806Z"
   },
   {
    "duration": 0,
    "start_time": "2023-02-19T17:45:39.808Z"
   },
   {
    "duration": 0,
    "start_time": "2023-02-19T17:45:39.809Z"
   },
   {
    "duration": 0,
    "start_time": "2023-02-19T17:45:39.810Z"
   },
   {
    "duration": 0,
    "start_time": "2023-02-19T17:45:39.811Z"
   },
   {
    "duration": 0,
    "start_time": "2023-02-19T17:45:39.813Z"
   },
   {
    "duration": 0,
    "start_time": "2023-02-19T17:45:39.814Z"
   },
   {
    "duration": 0,
    "start_time": "2023-02-19T17:45:39.815Z"
   },
   {
    "duration": 0,
    "start_time": "2023-02-19T17:45:39.816Z"
   },
   {
    "duration": 0,
    "start_time": "2023-02-19T17:45:39.817Z"
   },
   {
    "duration": 25,
    "start_time": "2023-02-19T17:47:03.653Z"
   },
   {
    "duration": 11,
    "start_time": "2023-02-19T17:47:09.278Z"
   },
   {
    "duration": 12,
    "start_time": "2023-02-19T17:48:03.852Z"
   },
   {
    "duration": 12,
    "start_time": "2023-02-19T17:48:22.948Z"
   },
   {
    "duration": 7,
    "start_time": "2023-02-19T17:48:49.214Z"
   },
   {
    "duration": 10,
    "start_time": "2023-02-19T17:50:48.346Z"
   },
   {
    "duration": 16,
    "start_time": "2023-02-19T17:51:38.494Z"
   },
   {
    "duration": 132,
    "start_time": "2023-02-19T17:51:39.025Z"
   },
   {
    "duration": 18,
    "start_time": "2023-02-19T17:51:39.370Z"
   },
   {
    "duration": 7,
    "start_time": "2023-02-19T17:51:59.307Z"
   },
   {
    "duration": 55528,
    "start_time": "2023-02-19T17:52:29.011Z"
   },
   {
    "duration": 45,
    "start_time": "2023-02-19T17:53:42.589Z"
   },
   {
    "duration": 4006,
    "start_time": "2023-02-19T17:53:58.920Z"
   },
   {
    "duration": 77,
    "start_time": "2023-02-19T17:54:44.709Z"
   },
   {
    "duration": 9,
    "start_time": "2023-02-19T17:54:55.095Z"
   },
   {
    "duration": 9,
    "start_time": "2023-02-19T17:54:55.394Z"
   },
   {
    "duration": 10,
    "start_time": "2023-02-19T17:55:02.535Z"
   },
   {
    "duration": 1236,
    "start_time": "2023-02-19T17:55:13.776Z"
   },
   {
    "duration": 20,
    "start_time": "2023-02-19T17:55:16.569Z"
   },
   {
    "duration": 113,
    "start_time": "2023-02-19T17:55:16.774Z"
   },
   {
    "duration": 29,
    "start_time": "2023-02-19T17:55:17.171Z"
   },
   {
    "duration": 72,
    "start_time": "2023-02-19T17:55:17.507Z"
   },
   {
    "duration": 185,
    "start_time": "2023-02-19T17:55:17.704Z"
   },
   {
    "duration": 202,
    "start_time": "2023-02-19T17:55:18.158Z"
   },
   {
    "duration": 164,
    "start_time": "2023-02-19T17:55:18.534Z"
   },
   {
    "duration": 58,
    "start_time": "2023-02-19T17:55:18.754Z"
   },
   {
    "duration": 16,
    "start_time": "2023-02-19T17:55:19.091Z"
   },
   {
    "duration": 17,
    "start_time": "2023-02-19T17:55:19.479Z"
   },
   {
    "duration": 13,
    "start_time": "2023-02-19T17:55:20.021Z"
   },
   {
    "duration": 23,
    "start_time": "2023-02-19T17:55:20.564Z"
   },
   {
    "duration": 26,
    "start_time": "2023-02-19T17:55:20.600Z"
   },
   {
    "duration": 16,
    "start_time": "2023-02-19T17:55:20.676Z"
   },
   {
    "duration": 14,
    "start_time": "2023-02-19T17:55:20.719Z"
   },
   {
    "duration": 18,
    "start_time": "2023-02-19T17:55:20.785Z"
   },
   {
    "duration": 13,
    "start_time": "2023-02-19T17:55:20.824Z"
   },
   {
    "duration": 87,
    "start_time": "2023-02-19T17:55:20.898Z"
   },
   {
    "duration": 61,
    "start_time": "2023-02-19T17:55:20.988Z"
   },
   {
    "duration": 70,
    "start_time": "2023-02-19T17:55:21.051Z"
   },
   {
    "duration": 60,
    "start_time": "2023-02-19T17:55:21.123Z"
   },
   {
    "duration": 104,
    "start_time": "2023-02-19T17:55:21.199Z"
   },
   {
    "duration": 439,
    "start_time": "2023-02-19T17:55:21.762Z"
   },
   {
    "duration": 26,
    "start_time": "2023-02-19T17:55:22.203Z"
   },
   {
    "duration": 324,
    "start_time": "2023-02-19T17:55:22.231Z"
   },
   {
    "duration": 22,
    "start_time": "2023-02-19T17:55:22.556Z"
   },
   {
    "duration": 68,
    "start_time": "2023-02-19T17:55:22.580Z"
   },
   {
    "duration": 19,
    "start_time": "2023-02-19T17:55:24.044Z"
   },
   {
    "duration": 69,
    "start_time": "2023-02-19T17:55:24.790Z"
   },
   {
    "duration": 23,
    "start_time": "2023-02-19T17:55:25.337Z"
   },
   {
    "duration": 12,
    "start_time": "2023-02-19T17:55:40.594Z"
   },
   {
    "duration": 6,
    "start_time": "2023-02-19T17:55:41.627Z"
   },
   {
    "duration": 20,
    "start_time": "2023-02-19T17:55:42.914Z"
   },
   {
    "duration": 22,
    "start_time": "2023-02-19T17:56:49.704Z"
   },
   {
    "duration": 1738,
    "start_time": "2023-02-19T18:02:31.267Z"
   },
   {
    "duration": 12,
    "start_time": "2023-02-19T18:06:44.433Z"
   },
   {
    "duration": 8,
    "start_time": "2023-02-19T18:06:45.111Z"
   },
   {
    "duration": 11,
    "start_time": "2023-02-19T18:06:45.399Z"
   },
   {
    "duration": 615,
    "start_time": "2023-02-19T18:06:45.968Z"
   },
   {
    "duration": 16,
    "start_time": "2023-02-19T18:06:57.673Z"
   },
   {
    "duration": 62,
    "start_time": "2023-02-19T18:06:58.063Z"
   },
   {
    "duration": 12,
    "start_time": "2023-02-19T18:06:58.306Z"
   },
   {
    "duration": 7,
    "start_time": "2023-02-19T18:06:58.599Z"
   },
   {
    "duration": 12,
    "start_time": "2023-02-19T18:06:59.031Z"
   },
   {
    "duration": 508,
    "start_time": "2023-02-19T18:06:59.365Z"
   },
   {
    "duration": 101,
    "start_time": "2023-02-19T18:17:40.504Z"
   },
   {
    "duration": 1583,
    "start_time": "2023-02-19T18:18:36.936Z"
   },
   {
    "duration": 18,
    "start_time": "2023-02-19T18:18:46.963Z"
   },
   {
    "duration": 71,
    "start_time": "2023-02-19T18:18:47.191Z"
   },
   {
    "duration": 11,
    "start_time": "2023-02-19T18:18:47.421Z"
   },
   {
    "duration": 7,
    "start_time": "2023-02-19T18:18:47.791Z"
   },
   {
    "duration": 11,
    "start_time": "2023-02-19T18:18:48.036Z"
   },
   {
    "duration": 595,
    "start_time": "2023-02-19T18:18:48.364Z"
   },
   {
    "duration": 17,
    "start_time": "2023-02-19T18:21:42.469Z"
   },
   {
    "duration": 9,
    "start_time": "2023-02-19T18:21:43.952Z"
   },
   {
    "duration": 10,
    "start_time": "2023-02-19T18:21:47.892Z"
   },
   {
    "duration": 649,
    "start_time": "2023-02-19T18:22:33.056Z"
   },
   {
    "duration": 4,
    "start_time": "2023-02-19T18:28:44.431Z"
   },
   {
    "duration": 104,
    "start_time": "2023-02-19T18:28:54.221Z"
   },
   {
    "duration": 110,
    "start_time": "2023-02-19T18:29:17.459Z"
   },
   {
    "duration": 4,
    "start_time": "2023-02-19T18:30:01.036Z"
   },
   {
    "duration": 859,
    "start_time": "2023-02-19T18:30:01.889Z"
   },
   {
    "duration": 538,
    "start_time": "2023-02-19T18:30:47.253Z"
   },
   {
    "duration": 461,
    "start_time": "2023-02-19T18:31:20.198Z"
   },
   {
    "duration": 5,
    "start_time": "2023-02-19T18:32:32.049Z"
   },
   {
    "duration": 20049,
    "start_time": "2023-02-19T18:32:33.760Z"
   },
   {
    "duration": 108526,
    "start_time": "2023-02-19T18:35:13.298Z"
   },
   {
    "duration": 4,
    "start_time": "2023-02-19T18:37:04.875Z"
   },
   {
    "duration": 0,
    "start_time": "2023-02-19T18:40:43.128Z"
   },
   {
    "duration": 11088,
    "start_time": "2023-02-19T18:41:10.236Z"
   },
   {
    "duration": 178,
    "start_time": "2023-02-19T18:42:07.106Z"
   },
   {
    "duration": 3,
    "start_time": "2023-02-19T18:43:07.564Z"
   },
   {
    "duration": 4,
    "start_time": "2023-02-19T18:44:21.139Z"
   },
   {
    "duration": 7203,
    "start_time": "2023-02-19T18:45:29.126Z"
   },
   {
    "duration": 170,
    "start_time": "2023-02-19T18:45:40.129Z"
   },
   {
    "duration": 4,
    "start_time": "2023-02-19T18:45:42.582Z"
   },
   {
    "duration": 115,
    "start_time": "2023-02-19T18:45:42.893Z"
   },
   {
    "duration": 153,
    "start_time": "2023-02-19T18:45:57.041Z"
   },
   {
    "duration": 4,
    "start_time": "2023-02-19T18:46:01.550Z"
   },
   {
    "duration": 123,
    "start_time": "2023-02-19T18:46:01.928Z"
   },
   {
    "duration": 49346,
    "start_time": "2023-02-19T18:46:22.326Z"
   },
   {
    "duration": 5,
    "start_time": "2023-02-19T18:48:20.812Z"
   },
   {
    "duration": 2758,
    "start_time": "2023-02-19T18:48:27.801Z"
   },
   {
    "duration": 105,
    "start_time": "2023-02-19T18:52:51.757Z"
   },
   {
    "duration": 156,
    "start_time": "2023-02-19T18:53:01.966Z"
   },
   {
    "duration": 106,
    "start_time": "2023-02-19T18:53:18.362Z"
   },
   {
    "duration": 51,
    "start_time": "2023-02-19T18:53:30.812Z"
   },
   {
    "duration": 150,
    "start_time": "2023-02-19T18:54:50.879Z"
   },
   {
    "duration": 2059,
    "start_time": "2023-02-19T18:54:57.054Z"
   },
   {
    "duration": 108,
    "start_time": "2023-02-19T18:55:35.910Z"
   },
   {
    "duration": 2074208,
    "start_time": "2023-02-19T18:55:41.781Z"
   },
   {
    "duration": 169,
    "start_time": "2023-02-19T19:38:19.894Z"
   },
   {
    "duration": 7754,
    "start_time": "2023-02-19T19:38:31.367Z"
   },
   {
    "duration": 3987,
    "start_time": "2023-02-19T19:39:06.387Z"
   },
   {
    "duration": 37493,
    "start_time": "2023-02-19T19:40:38.415Z"
   },
   {
    "duration": 166,
    "start_time": "2023-02-19T19:41:21.859Z"
   },
   {
    "duration": 68,
    "start_time": "2023-02-19T19:41:43.895Z"
   },
   {
    "duration": 25,
    "start_time": "2023-02-19T19:41:51.395Z"
   },
   {
    "duration": 3,
    "start_time": "2023-02-19T19:41:58.374Z"
   },
   {
    "duration": 16,
    "start_time": "2023-02-19T19:42:01.223Z"
   },
   {
    "duration": 2195,
    "start_time": "2023-02-19T19:42:38.256Z"
   },
   {
    "duration": 3,
    "start_time": "2023-02-19T19:42:46.269Z"
   },
   {
    "duration": 39055,
    "start_time": "2023-02-19T19:42:46.974Z"
   },
   {
    "duration": 166,
    "start_time": "2023-02-19T19:43:26.031Z"
   },
   {
    "duration": 19,
    "start_time": "2023-02-19T19:43:26.198Z"
   },
   {
    "duration": 41627,
    "start_time": "2023-02-19T19:43:27.380Z"
   },
   {
    "duration": 57,
    "start_time": "2023-02-19T19:44:15.924Z"
   },
   {
    "duration": 20,
    "start_time": "2023-02-19T19:44:18.918Z"
   },
   {
    "duration": 2377,
    "start_time": "2023-02-19T19:45:03.787Z"
   },
   {
    "duration": 70,
    "start_time": "2023-02-19T19:45:11.918Z"
   },
   {
    "duration": 6,
    "start_time": "2023-02-19T19:45:43.318Z"
   },
   {
    "duration": 63,
    "start_time": "2023-02-19T19:46:49.463Z"
   },
   {
    "duration": 6,
    "start_time": "2023-02-19T19:46:56.887Z"
   },
   {
    "duration": 7,
    "start_time": "2023-02-19T19:52:03.655Z"
   },
   {
    "duration": 431,
    "start_time": "2023-02-19T19:53:35.217Z"
   },
   {
    "duration": 32705,
    "start_time": "2023-02-19T19:54:27.762Z"
   },
   {
    "duration": 5,
    "start_time": "2023-02-19T20:04:50.034Z"
   },
   {
    "duration": 160,
    "start_time": "2023-02-19T20:04:50.796Z"
   },
   {
    "duration": 6,
    "start_time": "2023-02-19T20:05:35.188Z"
   },
   {
    "duration": 557,
    "start_time": "2023-02-19T20:05:35.837Z"
   },
   {
    "duration": 15,
    "start_time": "2023-02-19T20:10:43.732Z"
   },
   {
    "duration": 26451,
    "start_time": "2023-02-19T20:10:51.193Z"
   },
   {
    "duration": 730,
    "start_time": "2023-02-19T20:11:26.819Z"
   },
   {
    "duration": 6,
    "start_time": "2023-02-19T20:11:39.617Z"
   },
   {
    "duration": 24,
    "start_time": "2023-02-19T20:32:22.197Z"
   },
   {
    "duration": 64,
    "start_time": "2023-02-19T20:32:22.727Z"
   },
   {
    "duration": 16,
    "start_time": "2023-02-19T20:32:23.325Z"
   },
   {
    "duration": 8,
    "start_time": "2023-02-19T20:32:23.831Z"
   },
   {
    "duration": 12,
    "start_time": "2023-02-19T20:32:24.268Z"
   },
   {
    "duration": 599,
    "start_time": "2023-02-19T20:32:25.033Z"
   },
   {
    "duration": 6,
    "start_time": "2023-02-19T20:32:32.796Z"
   },
   {
    "duration": 33075,
    "start_time": "2023-02-19T20:32:33.366Z"
   },
   {
    "duration": 369,
    "start_time": "2023-02-19T20:34:23.472Z"
   },
   {
    "duration": 5,
    "start_time": "2023-02-19T20:34:31.626Z"
   },
   {
    "duration": 128020,
    "start_time": "2023-02-19T20:34:33.006Z"
   },
   {
    "duration": 4640,
    "start_time": "2023-02-19T20:44:32.620Z"
   },
   {
    "duration": 172,
    "start_time": "2023-02-19T20:58:19.079Z"
   },
   {
    "duration": 164,
    "start_time": "2023-02-19T20:58:31.296Z"
   },
   {
    "duration": 14259,
    "start_time": "2023-02-19T20:58:37.328Z"
   },
   {
    "duration": 14386,
    "start_time": "2023-02-19T21:00:02.578Z"
   },
   {
    "duration": 376,
    "start_time": "2023-02-19T21:00:36.530Z"
   },
   {
    "duration": 14521,
    "start_time": "2023-02-19T21:00:44.137Z"
   },
   {
    "duration": 4,
    "start_time": "2023-02-19T21:01:24.528Z"
   },
   {
    "duration": 516,
    "start_time": "2023-02-19T21:01:57.935Z"
   },
   {
    "duration": 468,
    "start_time": "2023-02-19T21:06:50.429Z"
   },
   {
    "duration": 497,
    "start_time": "2023-02-19T21:24:48.367Z"
   },
   {
    "duration": 13,
    "start_time": "2023-02-19T21:25:37.199Z"
   },
   {
    "duration": 518,
    "start_time": "2023-02-19T21:25:42.651Z"
   },
   {
    "duration": 27,
    "start_time": "2023-02-19T21:30:46.958Z"
   },
   {
    "duration": 20,
    "start_time": "2023-02-19T21:32:06.284Z"
   },
   {
    "duration": 139,
    "start_time": "2023-02-19T21:33:43.615Z"
   },
   {
    "duration": 457,
    "start_time": "2023-02-19T21:34:11.219Z"
   },
   {
    "duration": 5,
    "start_time": "2023-02-19T21:35:20.187Z"
   },
   {
    "duration": 536,
    "start_time": "2023-02-19T21:35:25.231Z"
   },
   {
    "duration": 5,
    "start_time": "2023-02-19T21:37:41.730Z"
   },
   {
    "duration": 550,
    "start_time": "2023-02-19T21:37:42.308Z"
   },
   {
    "duration": 27,
    "start_time": "2023-02-19T21:39:32.263Z"
   },
   {
    "duration": 16,
    "start_time": "2023-02-19T21:39:42.624Z"
   },
   {
    "duration": 59,
    "start_time": "2023-02-19T21:39:42.996Z"
   },
   {
    "duration": 12,
    "start_time": "2023-02-19T21:39:43.343Z"
   },
   {
    "duration": 7,
    "start_time": "2023-02-19T21:39:43.856Z"
   },
   {
    "duration": 21,
    "start_time": "2023-02-19T21:39:44.400Z"
   },
   {
    "duration": 546,
    "start_time": "2023-02-19T21:39:44.940Z"
   },
   {
    "duration": 147,
    "start_time": "2023-02-19T21:39:46.990Z"
   },
   {
    "duration": 5,
    "start_time": "2023-02-19T21:39:56.004Z"
   },
   {
    "duration": 491,
    "start_time": "2023-02-19T21:39:56.706Z"
   },
   {
    "duration": 10,
    "start_time": "2023-02-19T21:41:13.714Z"
   },
   {
    "duration": 85,
    "start_time": "2023-02-19T21:42:04.089Z"
   },
   {
    "duration": 5,
    "start_time": "2023-02-19T21:42:25.019Z"
   },
   {
    "duration": 94602,
    "start_time": "2023-02-19T21:42:25.766Z"
   },
   {
    "duration": 4,
    "start_time": "2023-02-19T21:44:00.377Z"
   },
   {
    "duration": 36766,
    "start_time": "2023-02-19T21:44:00.383Z"
   },
   {
    "duration": 7,
    "start_time": "2023-02-19T21:44:37.154Z"
   },
   {
    "duration": 5,
    "start_time": "2023-02-19T21:44:40.310Z"
   },
   {
    "duration": 5306,
    "start_time": "2023-02-19T21:45:11.761Z"
   },
   {
    "duration": 11450,
    "start_time": "2023-02-19T21:45:26.177Z"
   },
   {
    "duration": 2480,
    "start_time": "2023-02-19T21:45:50.209Z"
   },
   {
    "duration": 2,
    "start_time": "2023-02-19T21:45:52.692Z"
   },
   {
    "duration": 846,
    "start_time": "2023-02-19T21:45:52.696Z"
   },
   {
    "duration": 15,
    "start_time": "2023-02-19T21:45:55.380Z"
   },
   {
    "duration": 104,
    "start_time": "2023-02-19T21:45:55.658Z"
   },
   {
    "duration": 24,
    "start_time": "2023-02-19T21:45:56.447Z"
   },
   {
    "duration": 101,
    "start_time": "2023-02-19T21:45:57.079Z"
   },
   {
    "duration": 146,
    "start_time": "2023-02-19T21:45:57.461Z"
   },
   {
    "duration": 179,
    "start_time": "2023-02-19T21:45:58.190Z"
   },
   {
    "duration": 142,
    "start_time": "2023-02-19T21:45:58.828Z"
   },
   {
    "duration": 61,
    "start_time": "2023-02-19T21:45:59.191Z"
   },
   {
    "duration": 25,
    "start_time": "2023-02-19T21:45:59.922Z"
   },
   {
    "duration": 18,
    "start_time": "2023-02-19T21:46:00.675Z"
   },
   {
    "duration": 16,
    "start_time": "2023-02-19T21:46:03.179Z"
   },
   {
    "duration": 18,
    "start_time": "2023-02-19T21:46:03.812Z"
   },
   {
    "duration": 32,
    "start_time": "2023-02-19T21:46:04.076Z"
   },
   {
    "duration": 19,
    "start_time": "2023-02-19T21:46:05.032Z"
   },
   {
    "duration": 15,
    "start_time": "2023-02-19T21:46:05.471Z"
   },
   {
    "duration": 19,
    "start_time": "2023-02-19T21:46:06.156Z"
   },
   {
    "duration": 14,
    "start_time": "2023-02-19T21:46:06.454Z"
   },
   {
    "duration": 66,
    "start_time": "2023-02-19T21:46:07.434Z"
   },
   {
    "duration": 55,
    "start_time": "2023-02-19T21:46:07.884Z"
   },
   {
    "duration": 63,
    "start_time": "2023-02-19T21:46:08.232Z"
   },
   {
    "duration": 64,
    "start_time": "2023-02-19T21:46:09.583Z"
   },
   {
    "duration": 100,
    "start_time": "2023-02-19T21:46:10.464Z"
   },
   {
    "duration": 366,
    "start_time": "2023-02-19T21:46:11.457Z"
   },
   {
    "duration": 24,
    "start_time": "2023-02-19T21:46:11.992Z"
   },
   {
    "duration": 364,
    "start_time": "2023-02-19T21:46:12.636Z"
   },
   {
    "duration": 24,
    "start_time": "2023-02-19T21:46:13.042Z"
   },
   {
    "duration": 60,
    "start_time": "2023-02-19T21:46:13.378Z"
   },
   {
    "duration": 16,
    "start_time": "2023-02-19T21:46:14.752Z"
   },
   {
    "duration": 62,
    "start_time": "2023-02-19T21:46:16.714Z"
   },
   {
    "duration": 13,
    "start_time": "2023-02-19T21:46:17.382Z"
   },
   {
    "duration": 7,
    "start_time": "2023-02-19T21:46:18.306Z"
   },
   {
    "duration": 23,
    "start_time": "2023-02-19T21:46:25.071Z"
   },
   {
    "duration": 553,
    "start_time": "2023-02-19T21:46:25.676Z"
   },
   {
    "duration": 96,
    "start_time": "2023-02-19T21:46:27.163Z"
   },
   {
    "duration": 4,
    "start_time": "2023-02-19T21:46:43.395Z"
   },
   {
    "duration": 131059,
    "start_time": "2023-02-19T21:46:46.055Z"
   },
   {
    "duration": 30838,
    "start_time": "2023-02-19T21:51:09.895Z"
   },
   {
    "duration": 105,
    "start_time": "2023-02-19T21:52:44.869Z"
   },
   {
    "duration": 100095,
    "start_time": "2023-02-19T21:52:55.050Z"
   },
   {
    "duration": 18,
    "start_time": "2023-02-19T21:57:47.836Z"
   },
   {
    "duration": 60,
    "start_time": "2023-02-19T21:57:48.215Z"
   },
   {
    "duration": 12,
    "start_time": "2023-02-19T21:57:48.591Z"
   },
   {
    "duration": 9,
    "start_time": "2023-02-19T21:57:49.068Z"
   },
   {
    "duration": 21,
    "start_time": "2023-02-19T21:57:50.181Z"
   },
   {
    "duration": 614,
    "start_time": "2023-02-19T21:57:51.352Z"
   },
   {
    "duration": 12,
    "start_time": "2023-02-19T21:58:40.014Z"
   },
   {
    "duration": 551,
    "start_time": "2023-02-19T21:58:40.584Z"
   },
   {
    "duration": 94,
    "start_time": "2023-02-19T21:59:08.231Z"
   },
   {
    "duration": 6,
    "start_time": "2023-02-19T21:59:23.898Z"
   },
   {
    "duration": 3335,
    "start_time": "2023-02-19T22:01:29.055Z"
   },
   {
    "duration": 2,
    "start_time": "2023-02-19T22:01:32.392Z"
   },
   {
    "duration": 898,
    "start_time": "2023-02-19T22:01:32.396Z"
   },
   {
    "duration": 20,
    "start_time": "2023-02-19T22:01:33.296Z"
   },
   {
    "duration": 142,
    "start_time": "2023-02-19T22:01:33.318Z"
   },
   {
    "duration": 26,
    "start_time": "2023-02-19T22:01:33.462Z"
   },
   {
    "duration": 87,
    "start_time": "2023-02-19T22:01:33.490Z"
   },
   {
    "duration": 207,
    "start_time": "2023-02-19T22:01:33.578Z"
   },
   {
    "duration": 253,
    "start_time": "2023-02-19T22:01:33.786Z"
   },
   {
    "duration": 203,
    "start_time": "2023-02-19T22:01:34.042Z"
   },
   {
    "duration": 73,
    "start_time": "2023-02-19T22:01:34.247Z"
   },
   {
    "duration": 19,
    "start_time": "2023-02-19T22:01:34.322Z"
   },
   {
    "duration": 27,
    "start_time": "2023-02-19T22:01:34.343Z"
   },
   {
    "duration": 26,
    "start_time": "2023-02-19T22:01:34.374Z"
   },
   {
    "duration": 19,
    "start_time": "2023-02-19T22:01:34.402Z"
   },
   {
    "duration": 45,
    "start_time": "2023-02-19T22:01:34.423Z"
   },
   {
    "duration": 20,
    "start_time": "2023-02-19T22:01:34.470Z"
   },
   {
    "duration": 16,
    "start_time": "2023-02-19T22:01:34.492Z"
   },
   {
    "duration": 20,
    "start_time": "2023-02-19T22:01:34.510Z"
   },
   {
    "duration": 14,
    "start_time": "2023-02-19T22:01:34.532Z"
   },
   {
    "duration": 114,
    "start_time": "2023-02-19T22:01:34.548Z"
   },
   {
    "duration": 56,
    "start_time": "2023-02-19T22:01:34.664Z"
   },
   {
    "duration": 58,
    "start_time": "2023-02-19T22:01:34.721Z"
   },
   {
    "duration": 71,
    "start_time": "2023-02-19T22:01:34.780Z"
   },
   {
    "duration": 102,
    "start_time": "2023-02-19T22:01:34.853Z"
   },
   {
    "duration": 390,
    "start_time": "2023-02-19T22:01:34.957Z"
   },
   {
    "duration": 25,
    "start_time": "2023-02-19T22:01:35.349Z"
   },
   {
    "duration": 324,
    "start_time": "2023-02-19T22:01:35.375Z"
   },
   {
    "duration": 23,
    "start_time": "2023-02-19T22:01:35.700Z"
   },
   {
    "duration": 58,
    "start_time": "2023-02-19T22:01:35.724Z"
   },
   {
    "duration": 29,
    "start_time": "2023-02-19T22:01:35.783Z"
   },
   {
    "duration": 70,
    "start_time": "2023-02-19T22:01:35.813Z"
   },
   {
    "duration": 18,
    "start_time": "2023-02-19T22:01:35.899Z"
   },
   {
    "duration": 19,
    "start_time": "2023-02-19T22:01:35.918Z"
   },
   {
    "duration": 19,
    "start_time": "2023-02-19T22:01:35.939Z"
   },
   {
    "duration": 552,
    "start_time": "2023-02-19T22:01:35.960Z"
   },
   {
    "duration": 3,
    "start_time": "2023-02-19T22:01:36.514Z"
   },
   {
    "duration": 45189,
    "start_time": "2023-02-19T22:01:36.518Z"
   },
   {
    "duration": 221,
    "start_time": "2023-02-19T22:02:21.708Z"
   },
   {
    "duration": 4,
    "start_time": "2023-02-19T22:02:21.931Z"
   },
   {
    "duration": 7,
    "start_time": "2023-02-19T22:02:21.939Z"
   },
   {
    "duration": 109933,
    "start_time": "2023-02-19T22:02:21.947Z"
   },
   {
    "duration": 13402,
    "start_time": "2023-02-19T22:04:11.881Z"
   },
   {
    "duration": 93,
    "start_time": "2023-02-19T22:04:25.285Z"
   },
   {
    "duration": 5,
    "start_time": "2023-02-19T22:04:25.379Z"
   },
   {
    "duration": 58831,
    "start_time": "2023-02-19T22:04:25.386Z"
   },
   {
    "duration": 130,
    "start_time": "2023-02-19T22:05:24.218Z"
   },
   {
    "duration": 17,
    "start_time": "2023-02-19T22:05:24.349Z"
   },
   {
    "duration": 0,
    "start_time": "2023-02-19T22:05:24.367Z"
   },
   {
    "duration": 0,
    "start_time": "2023-02-19T22:05:24.369Z"
   },
   {
    "duration": 0,
    "start_time": "2023-02-19T22:05:24.370Z"
   },
   {
    "duration": 0,
    "start_time": "2023-02-19T22:05:24.372Z"
   },
   {
    "duration": 1999,
    "start_time": "2023-02-19T22:05:26.520Z"
   },
   {
    "duration": 13013,
    "start_time": "2023-02-19T22:05:34.766Z"
   },
   {
    "duration": 101,
    "start_time": "2023-02-19T22:05:55.131Z"
   },
   {
    "duration": 4,
    "start_time": "2023-02-19T22:05:55.987Z"
   },
   {
    "duration": 19317,
    "start_time": "2023-02-19T22:05:57.211Z"
   },
   {
    "duration": 9494,
    "start_time": "2023-02-19T22:06:33.052Z"
   },
   {
    "duration": 2100,
    "start_time": "2023-02-19T22:07:33.397Z"
   },
   {
    "duration": 2,
    "start_time": "2023-02-19T22:07:35.500Z"
   },
   {
    "duration": 771,
    "start_time": "2023-02-19T22:07:35.504Z"
   },
   {
    "duration": 14,
    "start_time": "2023-02-19T22:07:36.793Z"
   },
   {
    "duration": 116,
    "start_time": "2023-02-19T22:07:36.984Z"
   },
   {
    "duration": 17,
    "start_time": "2023-02-19T22:07:37.394Z"
   },
   {
    "duration": 72,
    "start_time": "2023-02-19T22:07:37.803Z"
   },
   {
    "duration": 149,
    "start_time": "2023-02-19T22:07:38.006Z"
   },
   {
    "duration": 167,
    "start_time": "2023-02-19T22:07:38.446Z"
   },
   {
    "duration": 132,
    "start_time": "2023-02-19T22:07:38.952Z"
   },
   {
    "duration": 59,
    "start_time": "2023-02-19T22:07:39.160Z"
   },
   {
    "duration": 17,
    "start_time": "2023-02-19T22:07:39.588Z"
   },
   {
    "duration": 19,
    "start_time": "2023-02-19T22:07:39.983Z"
   },
   {
    "duration": 14,
    "start_time": "2023-02-19T22:07:40.584Z"
   },
   {
    "duration": 19,
    "start_time": "2023-02-19T22:07:41.104Z"
   },
   {
    "duration": 28,
    "start_time": "2023-02-19T22:07:41.618Z"
   },
   {
    "duration": 18,
    "start_time": "2023-02-19T22:07:42.056Z"
   },
   {
    "duration": 15,
    "start_time": "2023-02-19T22:07:42.262Z"
   },
   {
    "duration": 19,
    "start_time": "2023-02-19T22:07:42.684Z"
   },
   {
    "duration": 13,
    "start_time": "2023-02-19T22:07:42.927Z"
   },
   {
    "duration": 66,
    "start_time": "2023-02-19T22:07:43.372Z"
   },
   {
    "duration": 52,
    "start_time": "2023-02-19T22:07:43.604Z"
   },
   {
    "duration": 78,
    "start_time": "2023-02-19T22:07:43.848Z"
   },
   {
    "duration": 59,
    "start_time": "2023-02-19T22:07:44.506Z"
   },
   {
    "duration": 84,
    "start_time": "2023-02-19T22:07:45.729Z"
   },
   {
    "duration": 514,
    "start_time": "2023-02-19T22:07:46.871Z"
   },
   {
    "duration": 32,
    "start_time": "2023-02-19T22:07:47.387Z"
   },
   {
    "duration": 328,
    "start_time": "2023-02-19T22:07:47.548Z"
   },
   {
    "duration": 31,
    "start_time": "2023-02-19T22:07:47.878Z"
   },
   {
    "duration": 63,
    "start_time": "2023-02-19T22:07:48.099Z"
   },
   {
    "duration": 19,
    "start_time": "2023-02-19T22:07:49.952Z"
   },
   {
    "duration": 64,
    "start_time": "2023-02-19T22:07:50.452Z"
   },
   {
    "duration": 14,
    "start_time": "2023-02-19T22:07:50.831Z"
   },
   {
    "duration": 7,
    "start_time": "2023-02-19T22:07:51.463Z"
   },
   {
    "duration": 14,
    "start_time": "2023-02-19T22:07:52.290Z"
   },
   {
    "duration": 554,
    "start_time": "2023-02-19T22:07:53.650Z"
   },
   {
    "duration": 6,
    "start_time": "2023-02-19T22:08:14.101Z"
   },
   {
    "duration": 547,
    "start_time": "2023-02-19T22:08:15.512Z"
   },
   {
    "duration": 5,
    "start_time": "2023-02-19T22:08:33.552Z"
   },
   {
    "duration": 32358,
    "start_time": "2023-02-19T22:08:35.424Z"
   },
   {
    "duration": 91,
    "start_time": "2023-02-19T22:10:05.081Z"
   },
   {
    "duration": 4,
    "start_time": "2023-02-19T22:10:05.771Z"
   },
   {
    "duration": 22841,
    "start_time": "2023-02-19T22:10:06.615Z"
   },
   {
    "duration": 101,
    "start_time": "2023-02-19T22:10:38.260Z"
   },
   {
    "duration": 5,
    "start_time": "2023-02-19T22:10:38.815Z"
   },
   {
    "duration": 4331,
    "start_time": "2023-02-19T22:10:39.527Z"
   },
   {
    "duration": 197,
    "start_time": "2023-02-19T22:13:51.459Z"
   },
   {
    "duration": 1967,
    "start_time": "2023-02-19T22:14:29.952Z"
   },
   {
    "duration": 121,
    "start_time": "2023-02-19T22:14:36.172Z"
   },
   {
    "duration": 159988,
    "start_time": "2023-02-19T22:14:50.114Z"
   },
   {
    "duration": 5,
    "start_time": "2023-02-19T22:17:30.104Z"
   },
   {
    "duration": 14,
    "start_time": "2023-02-19T22:20:47.070Z"
   },
   {
    "duration": 1942,
    "start_time": "2023-02-19T22:21:11.442Z"
   },
   {
    "duration": 31356,
    "start_time": "2023-02-19T22:21:23.271Z"
   },
   {
    "duration": 9468,
    "start_time": "2023-02-20T05:02:14.961Z"
   },
   {
    "duration": 3,
    "start_time": "2023-02-20T05:02:26.739Z"
   },
   {
    "duration": 2969,
    "start_time": "2023-02-20T05:02:27.554Z"
   },
   {
    "duration": 17,
    "start_time": "2023-02-20T05:02:30.525Z"
   },
   {
    "duration": 149,
    "start_time": "2023-02-20T05:02:30.544Z"
   },
   {
    "duration": 26,
    "start_time": "2023-02-20T05:02:30.695Z"
   },
   {
    "duration": 120,
    "start_time": "2023-02-20T05:02:30.722Z"
   },
   {
    "duration": 206,
    "start_time": "2023-02-20T05:02:30.844Z"
   },
   {
    "duration": 228,
    "start_time": "2023-02-20T05:02:31.052Z"
   },
   {
    "duration": 185,
    "start_time": "2023-02-20T05:02:31.282Z"
   },
   {
    "duration": 79,
    "start_time": "2023-02-20T05:02:31.469Z"
   },
   {
    "duration": 17,
    "start_time": "2023-02-20T05:02:31.986Z"
   },
   {
    "duration": 17,
    "start_time": "2023-02-20T05:02:32.443Z"
   },
   {
    "duration": 15,
    "start_time": "2023-02-20T05:02:32.951Z"
   },
   {
    "duration": 20,
    "start_time": "2023-02-20T05:02:33.340Z"
   },
   {
    "duration": 28,
    "start_time": "2023-02-20T05:02:33.553Z"
   },
   {
    "duration": 17,
    "start_time": "2023-02-20T05:02:33.973Z"
   },
   {
    "duration": 14,
    "start_time": "2023-02-20T05:02:34.260Z"
   },
   {
    "duration": 19,
    "start_time": "2023-02-20T05:02:34.705Z"
   },
   {
    "duration": 16,
    "start_time": "2023-02-20T05:02:34.931Z"
   },
   {
    "duration": 89,
    "start_time": "2023-02-20T05:02:35.442Z"
   },
   {
    "duration": 63,
    "start_time": "2023-02-20T05:02:35.665Z"
   },
   {
    "duration": 97,
    "start_time": "2023-02-20T05:02:36.233Z"
   },
   {
    "duration": 53,
    "start_time": "2023-02-20T05:02:37.593Z"
   },
   {
    "duration": 95,
    "start_time": "2023-02-20T05:02:38.022Z"
   },
   {
    "duration": 352,
    "start_time": "2023-02-20T05:02:40.692Z"
   },
   {
    "duration": 22,
    "start_time": "2023-02-20T05:02:41.109Z"
   },
   {
    "duration": 352,
    "start_time": "2023-02-20T05:02:41.460Z"
   },
   {
    "duration": 22,
    "start_time": "2023-02-20T05:02:41.833Z"
   },
   {
    "duration": 53,
    "start_time": "2023-02-20T05:02:42.143Z"
   },
   {
    "duration": 15,
    "start_time": "2023-02-20T05:02:45.263Z"
   },
   {
    "duration": 62,
    "start_time": "2023-02-20T05:02:45.718Z"
   },
   {
    "duration": 18,
    "start_time": "2023-02-20T05:02:46.155Z"
   },
   {
    "duration": 7,
    "start_time": "2023-02-20T05:02:46.987Z"
   },
   {
    "duration": 18,
    "start_time": "2023-02-20T05:02:47.649Z"
   },
   {
    "duration": 102,
    "start_time": "2023-02-20T05:02:51.433Z"
   },
   {
    "duration": 26,
    "start_time": "2023-02-20T05:03:09.893Z"
   },
   {
    "duration": 10,
    "start_time": "2023-02-20T05:03:10.217Z"
   },
   {
    "duration": 3155,
    "start_time": "2023-02-20T05:03:18.075Z"
   },
   {
    "duration": 3,
    "start_time": "2023-02-20T05:03:21.232Z"
   },
   {
    "duration": 809,
    "start_time": "2023-02-20T05:03:21.236Z"
   },
   {
    "duration": 17,
    "start_time": "2023-02-20T05:03:22.047Z"
   },
   {
    "duration": 155,
    "start_time": "2023-02-20T05:03:22.066Z"
   },
   {
    "duration": 26,
    "start_time": "2023-02-20T05:03:22.223Z"
   },
   {
    "duration": 97,
    "start_time": "2023-02-20T05:03:22.251Z"
   },
   {
    "duration": 204,
    "start_time": "2023-02-20T05:03:22.350Z"
   },
   {
    "duration": 236,
    "start_time": "2023-02-20T05:03:22.556Z"
   },
   {
    "duration": 180,
    "start_time": "2023-02-20T05:03:22.795Z"
   },
   {
    "duration": 82,
    "start_time": "2023-02-20T05:03:22.976Z"
   },
   {
    "duration": 18,
    "start_time": "2023-02-20T05:03:23.060Z"
   },
   {
    "duration": 29,
    "start_time": "2023-02-20T05:03:23.080Z"
   },
   {
    "duration": 15,
    "start_time": "2023-02-20T05:03:23.111Z"
   },
   {
    "duration": 19,
    "start_time": "2023-02-20T05:03:23.127Z"
   },
   {
    "duration": 50,
    "start_time": "2023-02-20T05:03:23.148Z"
   },
   {
    "duration": 19,
    "start_time": "2023-02-20T05:03:23.200Z"
   },
   {
    "duration": 15,
    "start_time": "2023-02-20T05:03:23.221Z"
   },
   {
    "duration": 19,
    "start_time": "2023-02-20T05:03:23.237Z"
   },
   {
    "duration": 35,
    "start_time": "2023-02-20T05:03:23.257Z"
   },
   {
    "duration": 100,
    "start_time": "2023-02-20T05:03:23.294Z"
   },
   {
    "duration": 63,
    "start_time": "2023-02-20T05:03:23.396Z"
   },
   {
    "duration": 79,
    "start_time": "2023-02-20T05:03:23.461Z"
   },
   {
    "duration": 63,
    "start_time": "2023-02-20T05:03:23.542Z"
   },
   {
    "duration": 103,
    "start_time": "2023-02-20T05:03:23.607Z"
   },
   {
    "duration": 388,
    "start_time": "2023-02-20T05:03:23.712Z"
   },
   {
    "duration": 23,
    "start_time": "2023-02-20T05:03:24.102Z"
   },
   {
    "duration": 312,
    "start_time": "2023-02-20T05:03:24.129Z"
   },
   {
    "duration": 22,
    "start_time": "2023-02-20T05:03:24.443Z"
   },
   {
    "duration": 69,
    "start_time": "2023-02-20T05:03:24.467Z"
   },
   {
    "duration": 14,
    "start_time": "2023-02-20T05:03:24.538Z"
   },
   {
    "duration": 82,
    "start_time": "2023-02-20T05:03:24.554Z"
   },
   {
    "duration": 19,
    "start_time": "2023-02-20T05:03:24.638Z"
   },
   {
    "duration": 10,
    "start_time": "2023-02-20T05:03:24.659Z"
   },
   {
    "duration": 34,
    "start_time": "2023-02-20T05:03:24.671Z"
   },
   {
    "duration": 563,
    "start_time": "2023-02-20T05:03:24.706Z"
   },
   {
    "duration": 3,
    "start_time": "2023-02-20T05:03:25.271Z"
   },
   {
    "duration": 49815,
    "start_time": "2023-02-20T05:03:25.275Z"
   },
   {
    "duration": 133,
    "start_time": "2023-02-20T05:04:15.093Z"
   },
   {
    "duration": 211,
    "start_time": "2023-02-20T05:04:15.227Z"
   },
   {
    "duration": 0,
    "start_time": "2023-02-20T05:04:15.439Z"
   },
   {
    "duration": 0,
    "start_time": "2023-02-20T05:04:15.491Z"
   },
   {
    "duration": 0,
    "start_time": "2023-02-20T05:04:15.492Z"
   },
   {
    "duration": 0,
    "start_time": "2023-02-20T05:04:15.493Z"
   },
   {
    "duration": 0,
    "start_time": "2023-02-20T05:04:15.494Z"
   },
   {
    "duration": 0,
    "start_time": "2023-02-20T05:04:15.495Z"
   },
   {
    "duration": 0,
    "start_time": "2023-02-20T05:04:15.496Z"
   },
   {
    "duration": 0,
    "start_time": "2023-02-20T05:04:15.497Z"
   },
   {
    "duration": 0,
    "start_time": "2023-02-20T05:04:15.498Z"
   },
   {
    "duration": 0,
    "start_time": "2023-02-20T05:04:15.499Z"
   },
   {
    "duration": 0,
    "start_time": "2023-02-20T05:04:15.500Z"
   },
   {
    "duration": 0,
    "start_time": "2023-02-20T05:04:15.501Z"
   },
   {
    "duration": 12,
    "start_time": "2023-02-20T05:04:33.410Z"
   },
   {
    "duration": 2102,
    "start_time": "2023-02-20T05:04:55.143Z"
   },
   {
    "duration": 7,
    "start_time": "2023-02-20T05:05:01.873Z"
   },
   {
    "duration": 4,
    "start_time": "2023-02-20T05:07:18.538Z"
   },
   {
    "duration": 87,
    "start_time": "2023-02-20T05:07:20.263Z"
   },
   {
    "duration": 115,
    "start_time": "2023-02-20T05:07:27.079Z"
   },
   {
    "duration": 4,
    "start_time": "2023-02-20T05:07:27.505Z"
   },
   {
    "duration": 77906,
    "start_time": "2023-02-20T05:07:28.090Z"
   },
   {
    "duration": 84,
    "start_time": "2023-02-20T05:14:04.980Z"
   },
   {
    "duration": 92,
    "start_time": "2023-02-20T05:14:27.593Z"
   },
   {
    "duration": 116,
    "start_time": "2023-02-20T05:15:37.011Z"
   },
   {
    "duration": 6193,
    "start_time": "2023-02-20T05:15:50.583Z"
   },
   {
    "duration": 5,
    "start_time": "2023-02-20T05:18:09.335Z"
   },
   {
    "duration": 107414,
    "start_time": "2023-02-20T05:18:12.554Z"
   },
   {
    "duration": 12842,
    "start_time": "2023-02-20T05:20:26.221Z"
   },
   {
    "duration": 9211,
    "start_time": "2023-02-20T05:21:25.382Z"
   },
   {
    "duration": 19777,
    "start_time": "2023-02-20T05:22:08.139Z"
   },
   {
    "duration": 9540,
    "start_time": "2023-02-20T05:23:34.453Z"
   },
   {
    "duration": 7222,
    "start_time": "2023-02-20T05:25:04.099Z"
   },
   {
    "duration": 8577,
    "start_time": "2023-02-20T05:25:37.720Z"
   },
   {
    "duration": 7123,
    "start_time": "2023-02-20T05:26:17.892Z"
   },
   {
    "duration": 14003,
    "start_time": "2023-02-20T05:26:59.520Z"
   },
   {
    "duration": 7049,
    "start_time": "2023-02-20T05:27:29.264Z"
   },
   {
    "duration": 12325,
    "start_time": "2023-02-20T05:28:25.421Z"
   },
   {
    "duration": 4,
    "start_time": "2023-02-20T05:29:09.971Z"
   },
   {
    "duration": 7493,
    "start_time": "2023-02-20T05:29:51.614Z"
   },
   {
    "duration": 12282,
    "start_time": "2023-02-20T05:32:42.325Z"
   },
   {
    "duration": 311,
    "start_time": "2023-02-20T05:33:01.149Z"
   },
   {
    "duration": 308,
    "start_time": "2023-02-20T05:33:40.658Z"
   },
   {
    "duration": 6856,
    "start_time": "2023-02-20T05:35:44.841Z"
   },
   {
    "duration": 2149,
    "start_time": "2023-02-20T05:35:53.643Z"
   },
   {
    "duration": 143,
    "start_time": "2023-02-20T05:36:05.775Z"
   },
   {
    "duration": 721,
    "start_time": "2023-02-20T05:40:10.870Z"
   },
   {
    "duration": 38,
    "start_time": "2023-02-20T05:40:27.385Z"
   },
   {
    "duration": 5,
    "start_time": "2023-02-20T05:40:47.179Z"
   },
   {
    "duration": 2077,
    "start_time": "2023-02-20T05:41:35.611Z"
   },
   {
    "duration": 3,
    "start_time": "2023-02-20T05:41:40.744Z"
   },
   {
    "duration": 748,
    "start_time": "2023-02-20T05:41:41.173Z"
   },
   {
    "duration": 13,
    "start_time": "2023-02-20T05:41:42.955Z"
   },
   {
    "duration": 126,
    "start_time": "2023-02-20T05:41:43.288Z"
   },
   {
    "duration": 21,
    "start_time": "2023-02-20T05:41:44.150Z"
   },
   {
    "duration": 83,
    "start_time": "2023-02-20T05:41:44.777Z"
   },
   {
    "duration": 166,
    "start_time": "2023-02-20T05:41:45.115Z"
   },
   {
    "duration": 192,
    "start_time": "2023-02-20T05:41:45.811Z"
   },
   {
    "duration": 182,
    "start_time": "2023-02-20T05:41:46.395Z"
   },
   {
    "duration": 76,
    "start_time": "2023-02-20T05:41:46.711Z"
   },
   {
    "duration": 20,
    "start_time": "2023-02-20T05:41:47.589Z"
   },
   {
    "duration": 20,
    "start_time": "2023-02-20T05:41:47.963Z"
   },
   {
    "duration": 15,
    "start_time": "2023-02-20T05:41:50.180Z"
   },
   {
    "duration": 19,
    "start_time": "2023-02-20T05:41:51.081Z"
   },
   {
    "duration": 34,
    "start_time": "2023-02-20T05:41:51.488Z"
   },
   {
    "duration": 19,
    "start_time": "2023-02-20T05:41:52.314Z"
   },
   {
    "duration": 17,
    "start_time": "2023-02-20T05:41:52.751Z"
   },
   {
    "duration": 18,
    "start_time": "2023-02-20T05:41:53.473Z"
   },
   {
    "duration": 17,
    "start_time": "2023-02-20T05:41:53.816Z"
   },
   {
    "duration": 67,
    "start_time": "2023-02-20T05:41:54.544Z"
   },
   {
    "duration": 66,
    "start_time": "2023-02-20T05:41:54.927Z"
   },
   {
    "duration": 67,
    "start_time": "2023-02-20T05:41:55.354Z"
   },
   {
    "duration": 56,
    "start_time": "2023-02-20T05:41:58.229Z"
   },
   {
    "duration": 101,
    "start_time": "2023-02-20T05:41:59.160Z"
   },
   {
    "duration": 349,
    "start_time": "2023-02-20T05:42:06.623Z"
   },
   {
    "duration": 22,
    "start_time": "2023-02-20T05:42:07.386Z"
   },
   {
    "duration": 294,
    "start_time": "2023-02-20T05:42:07.987Z"
   },
   {
    "duration": 23,
    "start_time": "2023-02-20T05:42:08.485Z"
   },
   {
    "duration": 54,
    "start_time": "2023-02-20T05:42:09.908Z"
   },
   {
    "duration": 14,
    "start_time": "2023-02-20T05:42:12.431Z"
   },
   {
    "duration": 58,
    "start_time": "2023-02-20T05:42:12.874Z"
   },
   {
    "duration": 13,
    "start_time": "2023-02-20T05:42:13.411Z"
   },
   {
    "duration": 6,
    "start_time": "2023-02-20T05:42:14.060Z"
   },
   {
    "duration": 13,
    "start_time": "2023-02-20T05:42:14.708Z"
   },
   {
    "duration": 543,
    "start_time": "2023-02-20T05:42:15.282Z"
   },
   {
    "duration": 3,
    "start_time": "2023-02-20T05:43:06.050Z"
   },
   {
    "duration": 48571,
    "start_time": "2023-02-20T05:43:06.823Z"
   },
   {
    "duration": 224,
    "start_time": "2023-02-20T05:43:55.396Z"
   },
   {
    "duration": 5,
    "start_time": "2023-02-20T05:43:55.622Z"
   },
   {
    "duration": 124,
    "start_time": "2023-02-20T05:44:47.655Z"
   },
   {
    "duration": 104,
    "start_time": "2023-02-20T05:46:56.855Z"
   },
   {
    "duration": 84,
    "start_time": "2023-02-20T13:13:23.257Z"
   },
   {
    "duration": 8558,
    "start_time": "2023-02-20T13:14:08.260Z"
   },
   {
    "duration": 4,
    "start_time": "2023-02-20T13:14:16.822Z"
   },
   {
    "duration": 3021,
    "start_time": "2023-02-20T13:14:16.828Z"
   },
   {
    "duration": 18,
    "start_time": "2023-02-20T13:14:19.850Z"
   },
   {
    "duration": 1092,
    "start_time": "2023-02-20T13:14:19.870Z"
   },
   {
    "duration": 81,
    "start_time": "2023-02-20T13:14:20.963Z"
   },
   {
    "duration": 130,
    "start_time": "2023-02-20T13:14:21.046Z"
   },
   {
    "duration": 252,
    "start_time": "2023-02-20T13:14:21.178Z"
   },
   {
    "duration": 267,
    "start_time": "2023-02-20T13:14:21.433Z"
   },
   {
    "duration": 206,
    "start_time": "2023-02-20T13:14:21.704Z"
   },
   {
    "duration": 81,
    "start_time": "2023-02-20T13:14:21.912Z"
   },
   {
    "duration": 22,
    "start_time": "2023-02-20T13:14:22.004Z"
   },
   {
    "duration": 23,
    "start_time": "2023-02-20T13:14:22.028Z"
   },
   {
    "duration": 16,
    "start_time": "2023-02-20T13:14:22.054Z"
   },
   {
    "duration": 45,
    "start_time": "2023-02-20T13:14:22.071Z"
   },
   {
    "duration": 36,
    "start_time": "2023-02-20T13:14:22.118Z"
   },
   {
    "duration": 30,
    "start_time": "2023-02-20T13:14:22.156Z"
   },
   {
    "duration": 27,
    "start_time": "2023-02-20T13:14:22.188Z"
   },
   {
    "duration": 29,
    "start_time": "2023-02-20T13:14:22.218Z"
   },
   {
    "duration": 24,
    "start_time": "2023-02-20T13:14:22.248Z"
   },
   {
    "duration": 99,
    "start_time": "2023-02-20T13:14:22.274Z"
   },
   {
    "duration": 94,
    "start_time": "2023-02-20T13:14:22.374Z"
   },
   {
    "duration": 91,
    "start_time": "2023-02-20T13:14:22.469Z"
   },
   {
    "duration": 78,
    "start_time": "2023-02-20T13:14:22.562Z"
   },
   {
    "duration": 124,
    "start_time": "2023-02-20T13:14:22.642Z"
   },
   {
    "duration": 443,
    "start_time": "2023-02-20T13:14:22.767Z"
   },
   {
    "duration": 28,
    "start_time": "2023-02-20T13:14:23.213Z"
   },
   {
    "duration": 428,
    "start_time": "2023-02-20T13:14:23.243Z"
   },
   {
    "duration": 20,
    "start_time": "2023-02-20T13:14:23.673Z"
   },
   {
    "duration": 73,
    "start_time": "2023-02-20T13:14:23.695Z"
   },
   {
    "duration": 16,
    "start_time": "2023-02-20T13:14:23.770Z"
   },
   {
    "duration": 82,
    "start_time": "2023-02-20T13:14:23.787Z"
   },
   {
    "duration": 16,
    "start_time": "2023-02-20T13:14:23.870Z"
   },
   {
    "duration": 8,
    "start_time": "2023-02-20T13:14:23.906Z"
   },
   {
    "duration": 18,
    "start_time": "2023-02-20T13:14:23.916Z"
   },
   {
    "duration": 118,
    "start_time": "2023-02-20T13:14:23.936Z"
   },
   {
    "duration": 0,
    "start_time": "2023-02-20T13:14:24.056Z"
   },
   {
    "duration": 0,
    "start_time": "2023-02-20T13:14:24.058Z"
   },
   {
    "duration": 0,
    "start_time": "2023-02-20T13:14:24.059Z"
   },
   {
    "duration": 1,
    "start_time": "2023-02-20T13:14:24.059Z"
   },
   {
    "duration": 0,
    "start_time": "2023-02-20T13:14:24.060Z"
   },
   {
    "duration": 0,
    "start_time": "2023-02-20T13:14:24.061Z"
   },
   {
    "duration": 0,
    "start_time": "2023-02-20T13:14:24.062Z"
   },
   {
    "duration": 0,
    "start_time": "2023-02-20T13:14:24.063Z"
   },
   {
    "duration": 0,
    "start_time": "2023-02-20T13:14:24.064Z"
   },
   {
    "duration": 0,
    "start_time": "2023-02-20T13:14:24.065Z"
   },
   {
    "duration": 0,
    "start_time": "2023-02-20T13:14:24.066Z"
   },
   {
    "duration": 0,
    "start_time": "2023-02-20T13:14:24.068Z"
   },
   {
    "duration": 0,
    "start_time": "2023-02-20T13:14:24.069Z"
   },
   {
    "duration": 0,
    "start_time": "2023-02-20T13:14:24.070Z"
   },
   {
    "duration": 0,
    "start_time": "2023-02-20T13:14:24.071Z"
   },
   {
    "duration": 0,
    "start_time": "2023-02-20T13:14:24.072Z"
   },
   {
    "duration": 0,
    "start_time": "2023-02-20T13:14:24.073Z"
   },
   {
    "duration": 3786,
    "start_time": "2023-02-20T13:14:30.569Z"
   },
   {
    "duration": 2,
    "start_time": "2023-02-20T13:14:34.358Z"
   },
   {
    "duration": 848,
    "start_time": "2023-02-20T13:14:34.362Z"
   },
   {
    "duration": 20,
    "start_time": "2023-02-20T13:14:35.212Z"
   },
   {
    "duration": 164,
    "start_time": "2023-02-20T13:14:35.234Z"
   },
   {
    "duration": 29,
    "start_time": "2023-02-20T13:14:35.403Z"
   },
   {
    "duration": 113,
    "start_time": "2023-02-20T13:14:35.434Z"
   },
   {
    "duration": 215,
    "start_time": "2023-02-20T13:14:35.549Z"
   },
   {
    "duration": 238,
    "start_time": "2023-02-20T13:14:35.766Z"
   },
   {
    "duration": 184,
    "start_time": "2023-02-20T13:14:36.006Z"
   },
   {
    "duration": 79,
    "start_time": "2023-02-20T13:14:36.192Z"
   },
   {
    "duration": 34,
    "start_time": "2023-02-20T13:14:36.273Z"
   },
   {
    "duration": 27,
    "start_time": "2023-02-20T13:14:36.310Z"
   },
   {
    "duration": 16,
    "start_time": "2023-02-20T13:14:36.340Z"
   },
   {
    "duration": 22,
    "start_time": "2023-02-20T13:14:36.358Z"
   },
   {
    "duration": 63,
    "start_time": "2023-02-20T13:14:36.381Z"
   },
   {
    "duration": 22,
    "start_time": "2023-02-20T13:14:36.446Z"
   },
   {
    "duration": 15,
    "start_time": "2023-02-20T13:14:36.470Z"
   },
   {
    "duration": 22,
    "start_time": "2023-02-20T13:14:36.504Z"
   },
   {
    "duration": 17,
    "start_time": "2023-02-20T13:14:36.528Z"
   },
   {
    "duration": 107,
    "start_time": "2023-02-20T13:14:36.547Z"
   },
   {
    "duration": 106,
    "start_time": "2023-02-20T13:14:36.656Z"
   },
   {
    "duration": 109,
    "start_time": "2023-02-20T13:14:36.764Z"
   },
   {
    "duration": 84,
    "start_time": "2023-02-20T13:14:36.875Z"
   },
   {
    "duration": 118,
    "start_time": "2023-02-20T13:14:36.960Z"
   },
   {
    "duration": 434,
    "start_time": "2023-02-20T13:14:37.080Z"
   },
   {
    "duration": 23,
    "start_time": "2023-02-20T13:14:37.516Z"
   },
   {
    "duration": 351,
    "start_time": "2023-02-20T13:14:37.541Z"
   },
   {
    "duration": 38,
    "start_time": "2023-02-20T13:14:37.893Z"
   },
   {
    "duration": 55,
    "start_time": "2023-02-20T13:14:37.933Z"
   },
   {
    "duration": 22,
    "start_time": "2023-02-20T13:14:37.990Z"
   },
   {
    "duration": 66,
    "start_time": "2023-02-20T13:14:38.016Z"
   },
   {
    "duration": 26,
    "start_time": "2023-02-20T13:14:38.103Z"
   },
   {
    "duration": 10,
    "start_time": "2023-02-20T13:14:38.131Z"
   },
   {
    "duration": 21,
    "start_time": "2023-02-20T13:14:38.143Z"
   },
   {
    "duration": 582,
    "start_time": "2023-02-20T13:14:38.165Z"
   },
   {
    "duration": 3,
    "start_time": "2023-02-20T13:14:38.748Z"
   },
   {
    "duration": 55360,
    "start_time": "2023-02-20T13:14:38.752Z"
   },
   {
    "duration": 141,
    "start_time": "2023-02-20T13:15:34.113Z"
   },
   {
    "duration": 4,
    "start_time": "2023-02-20T13:15:34.255Z"
   },
   {
    "duration": 4,
    "start_time": "2023-02-20T13:15:34.263Z"
   },
   {
    "duration": 117363,
    "start_time": "2023-02-20T13:15:34.268Z"
   },
   {
    "duration": 13302,
    "start_time": "2023-02-20T13:17:31.632Z"
   },
   {
    "duration": 334,
    "start_time": "2023-02-20T13:17:44.936Z"
   },
   {
    "duration": 142,
    "start_time": "2023-02-20T13:17:45.272Z"
   },
   {
    "duration": 5,
    "start_time": "2023-02-20T13:17:45.416Z"
   },
   {
    "duration": 420691,
    "start_time": "2023-02-20T13:17:45.423Z"
   },
   {
    "duration": 7396,
    "start_time": "2023-02-20T13:24:46.115Z"
   },
   {
    "duration": 2317,
    "start_time": "2023-02-20T13:24:53.513Z"
   },
   {
    "duration": 186,
    "start_time": "2023-02-20T13:24:55.832Z"
   },
   {
    "duration": 697,
    "start_time": "2023-02-20T13:24:56.020Z"
   },
   {
    "duration": 4,
    "start_time": "2023-02-20T13:24:56.718Z"
   },
   {
    "duration": 11495,
    "start_time": "2023-02-20T20:24:17.892Z"
   },
   {
    "duration": 3,
    "start_time": "2023-02-20T20:24:29.390Z"
   },
   {
    "duration": 1125,
    "start_time": "2023-02-20T20:24:29.395Z"
   },
   {
    "duration": 22,
    "start_time": "2023-02-20T20:24:30.523Z"
   },
   {
    "duration": 163,
    "start_time": "2023-02-20T20:24:30.547Z"
   },
   {
    "duration": 27,
    "start_time": "2023-02-20T20:24:30.711Z"
   },
   {
    "duration": 118,
    "start_time": "2023-02-20T20:24:30.740Z"
   },
   {
    "duration": 244,
    "start_time": "2023-02-20T20:24:30.860Z"
   },
   {
    "duration": 232,
    "start_time": "2023-02-20T20:24:31.106Z"
   },
   {
    "duration": 186,
    "start_time": "2023-02-20T20:24:31.341Z"
   },
   {
    "duration": 89,
    "start_time": "2023-02-20T20:24:31.529Z"
   },
   {
    "duration": 56,
    "start_time": "2023-02-20T20:24:31.620Z"
   },
   {
    "duration": 35,
    "start_time": "2023-02-20T20:24:31.678Z"
   },
   {
    "duration": 20,
    "start_time": "2023-02-20T20:24:31.714Z"
   },
   {
    "duration": 21,
    "start_time": "2023-02-20T20:24:31.736Z"
   },
   {
    "duration": 38,
    "start_time": "2023-02-20T20:24:31.759Z"
   },
   {
    "duration": 54,
    "start_time": "2023-02-20T20:24:31.799Z"
   },
   {
    "duration": 14,
    "start_time": "2023-02-20T20:24:31.855Z"
   },
   {
    "duration": 32,
    "start_time": "2023-02-20T20:24:31.870Z"
   },
   {
    "duration": 76,
    "start_time": "2023-02-20T20:24:31.904Z"
   },
   {
    "duration": 144,
    "start_time": "2023-02-20T20:24:31.982Z"
   },
   {
    "duration": 95,
    "start_time": "2023-02-20T20:24:32.129Z"
   },
   {
    "duration": 119,
    "start_time": "2023-02-20T20:24:32.226Z"
   },
   {
    "duration": 75,
    "start_time": "2023-02-20T20:24:32.347Z"
   },
   {
    "duration": 108,
    "start_time": "2023-02-20T20:24:32.423Z"
   },
   {
    "duration": 404,
    "start_time": "2023-02-20T20:24:32.532Z"
   },
   {
    "duration": 22,
    "start_time": "2023-02-20T20:24:32.938Z"
   },
   {
    "duration": 374,
    "start_time": "2023-02-20T20:24:32.964Z"
   },
   {
    "duration": 22,
    "start_time": "2023-02-20T20:24:33.339Z"
   },
   {
    "duration": 73,
    "start_time": "2023-02-20T20:24:33.362Z"
   },
   {
    "duration": 16,
    "start_time": "2023-02-20T20:24:33.437Z"
   },
   {
    "duration": 72,
    "start_time": "2023-02-20T20:24:33.454Z"
   },
   {
    "duration": 16,
    "start_time": "2023-02-20T20:24:33.528Z"
   },
   {
    "duration": 10,
    "start_time": "2023-02-20T20:24:33.546Z"
   },
   {
    "duration": 18,
    "start_time": "2023-02-20T20:24:33.558Z"
   },
   {
    "duration": 144,
    "start_time": "2023-02-20T20:24:33.578Z"
   },
   {
    "duration": 0,
    "start_time": "2023-02-20T20:24:33.724Z"
   },
   {
    "duration": 0,
    "start_time": "2023-02-20T20:24:33.725Z"
   },
   {
    "duration": 0,
    "start_time": "2023-02-20T20:24:33.725Z"
   },
   {
    "duration": 0,
    "start_time": "2023-02-20T20:24:33.726Z"
   },
   {
    "duration": 0,
    "start_time": "2023-02-20T20:24:33.728Z"
   },
   {
    "duration": 0,
    "start_time": "2023-02-20T20:24:33.729Z"
   },
   {
    "duration": 0,
    "start_time": "2023-02-20T20:24:33.731Z"
   },
   {
    "duration": 0,
    "start_time": "2023-02-20T20:24:33.732Z"
   },
   {
    "duration": 0,
    "start_time": "2023-02-20T20:24:33.734Z"
   },
   {
    "duration": 0,
    "start_time": "2023-02-20T20:24:33.735Z"
   },
   {
    "duration": 0,
    "start_time": "2023-02-20T20:24:33.737Z"
   },
   {
    "duration": 0,
    "start_time": "2023-02-20T20:24:33.738Z"
   },
   {
    "duration": 0,
    "start_time": "2023-02-20T20:24:33.740Z"
   },
   {
    "duration": 0,
    "start_time": "2023-02-20T20:24:33.741Z"
   },
   {
    "duration": 0,
    "start_time": "2023-02-20T20:24:33.742Z"
   },
   {
    "duration": 0,
    "start_time": "2023-02-20T20:24:33.743Z"
   },
   {
    "duration": 49,
    "start_time": "2023-02-20T20:30:19.140Z"
   },
   {
    "duration": 8801,
    "start_time": "2023-02-20T20:30:24.769Z"
   },
   {
    "duration": 3,
    "start_time": "2023-02-20T20:30:33.572Z"
   },
   {
    "duration": 2888,
    "start_time": "2023-02-20T20:30:33.576Z"
   },
   {
    "duration": 19,
    "start_time": "2023-02-20T20:30:36.466Z"
   },
   {
    "duration": 120,
    "start_time": "2023-02-20T20:30:36.486Z"
   },
   {
    "duration": 29,
    "start_time": "2023-02-20T20:30:36.608Z"
   },
   {
    "duration": 91,
    "start_time": "2023-02-20T20:30:36.639Z"
   },
   {
    "duration": 216,
    "start_time": "2023-02-20T20:30:36.736Z"
   },
   {
    "duration": 233,
    "start_time": "2023-02-20T20:30:36.953Z"
   },
   {
    "duration": 196,
    "start_time": "2023-02-20T20:30:37.188Z"
   },
   {
    "duration": 71,
    "start_time": "2023-02-20T20:30:37.386Z"
   },
   {
    "duration": 19,
    "start_time": "2023-02-20T20:30:37.459Z"
   },
   {
    "duration": 24,
    "start_time": "2023-02-20T20:30:37.479Z"
   },
   {
    "duration": 14,
    "start_time": "2023-02-20T20:30:37.504Z"
   },
   {
    "duration": 19,
    "start_time": "2023-02-20T20:30:37.536Z"
   },
   {
    "duration": 31,
    "start_time": "2023-02-20T20:30:37.557Z"
   },
   {
    "duration": 21,
    "start_time": "2023-02-20T20:30:37.590Z"
   },
   {
    "duration": 29,
    "start_time": "2023-02-20T20:30:37.612Z"
   },
   {
    "duration": 19,
    "start_time": "2023-02-20T20:30:37.643Z"
   },
   {
    "duration": 14,
    "start_time": "2023-02-20T20:30:37.664Z"
   },
   {
    "duration": 113,
    "start_time": "2023-02-20T20:30:37.680Z"
   },
   {
    "duration": 61,
    "start_time": "2023-02-20T20:30:37.795Z"
   },
   {
    "duration": 62,
    "start_time": "2023-02-20T20:30:37.857Z"
   },
   {
    "duration": 61,
    "start_time": "2023-02-20T20:30:37.935Z"
   },
   {
    "duration": 109,
    "start_time": "2023-02-20T20:30:37.997Z"
   },
   {
    "duration": 443,
    "start_time": "2023-02-20T20:30:38.108Z"
   },
   {
    "duration": 31,
    "start_time": "2023-02-20T20:30:38.553Z"
   },
   {
    "duration": 420,
    "start_time": "2023-02-20T20:30:38.588Z"
   },
   {
    "duration": 32,
    "start_time": "2023-02-20T20:30:39.009Z"
   },
   {
    "duration": 61,
    "start_time": "2023-02-20T20:30:39.043Z"
   },
   {
    "duration": 32,
    "start_time": "2023-02-20T20:30:39.105Z"
   },
   {
    "duration": 76,
    "start_time": "2023-02-20T20:30:39.139Z"
   },
   {
    "duration": 35,
    "start_time": "2023-02-20T20:30:39.217Z"
   },
   {
    "duration": 19,
    "start_time": "2023-02-20T20:30:39.254Z"
   },
   {
    "duration": 27,
    "start_time": "2023-02-20T20:30:39.275Z"
   },
   {
    "duration": 143,
    "start_time": "2023-02-20T20:30:39.304Z"
   },
   {
    "duration": 0,
    "start_time": "2023-02-20T20:30:39.449Z"
   },
   {
    "duration": 0,
    "start_time": "2023-02-20T20:30:39.451Z"
   },
   {
    "duration": 0,
    "start_time": "2023-02-20T20:30:39.452Z"
   },
   {
    "duration": 0,
    "start_time": "2023-02-20T20:30:39.453Z"
   },
   {
    "duration": 0,
    "start_time": "2023-02-20T20:30:39.455Z"
   },
   {
    "duration": 0,
    "start_time": "2023-02-20T20:30:39.456Z"
   },
   {
    "duration": 0,
    "start_time": "2023-02-20T20:30:39.457Z"
   },
   {
    "duration": 0,
    "start_time": "2023-02-20T20:30:39.459Z"
   },
   {
    "duration": 0,
    "start_time": "2023-02-20T20:30:39.460Z"
   },
   {
    "duration": 0,
    "start_time": "2023-02-20T20:30:39.461Z"
   },
   {
    "duration": 0,
    "start_time": "2023-02-20T20:30:39.462Z"
   },
   {
    "duration": 0,
    "start_time": "2023-02-20T20:30:39.463Z"
   },
   {
    "duration": 0,
    "start_time": "2023-02-20T20:30:39.465Z"
   },
   {
    "duration": 0,
    "start_time": "2023-02-20T20:30:39.466Z"
   },
   {
    "duration": 0,
    "start_time": "2023-02-20T20:30:39.467Z"
   },
   {
    "duration": 0,
    "start_time": "2023-02-20T20:30:39.469Z"
   },
   {
    "duration": 3352,
    "start_time": "2023-02-20T20:30:53.951Z"
   },
   {
    "duration": 2,
    "start_time": "2023-02-20T20:30:57.306Z"
   },
   {
    "duration": 884,
    "start_time": "2023-02-20T20:30:57.310Z"
   },
   {
    "duration": 19,
    "start_time": "2023-02-20T20:30:58.197Z"
   },
   {
    "duration": 158,
    "start_time": "2023-02-20T20:30:58.218Z"
   },
   {
    "duration": 30,
    "start_time": "2023-02-20T20:30:58.378Z"
   },
   {
    "duration": 90,
    "start_time": "2023-02-20T20:30:58.410Z"
   },
   {
    "duration": 234,
    "start_time": "2023-02-20T20:30:58.502Z"
   },
   {
    "duration": 281,
    "start_time": "2023-02-20T20:30:58.739Z"
   },
   {
    "duration": 215,
    "start_time": "2023-02-20T20:30:59.024Z"
   },
   {
    "duration": 73,
    "start_time": "2023-02-20T20:30:59.240Z"
   },
   {
    "duration": 38,
    "start_time": "2023-02-20T20:30:59.315Z"
   },
   {
    "duration": 56,
    "start_time": "2023-02-20T20:30:59.357Z"
   },
   {
    "duration": 18,
    "start_time": "2023-02-20T20:30:59.416Z"
   },
   {
    "duration": 21,
    "start_time": "2023-02-20T20:30:59.436Z"
   },
   {
    "duration": 28,
    "start_time": "2023-02-20T20:30:59.459Z"
   },
   {
    "duration": 21,
    "start_time": "2023-02-20T20:30:59.489Z"
   },
   {
    "duration": 29,
    "start_time": "2023-02-20T20:30:59.511Z"
   },
   {
    "duration": 19,
    "start_time": "2023-02-20T20:30:59.542Z"
   },
   {
    "duration": 13,
    "start_time": "2023-02-20T20:30:59.563Z"
   },
   {
    "duration": 109,
    "start_time": "2023-02-20T20:30:59.578Z"
   },
   {
    "duration": 58,
    "start_time": "2023-02-20T20:30:59.689Z"
   },
   {
    "duration": 62,
    "start_time": "2023-02-20T20:30:59.749Z"
   },
   {
    "duration": 79,
    "start_time": "2023-02-20T20:30:59.813Z"
   },
   {
    "duration": 111,
    "start_time": "2023-02-20T20:30:59.894Z"
   },
   {
    "duration": 401,
    "start_time": "2023-02-20T20:31:00.007Z"
   },
   {
    "duration": 32,
    "start_time": "2023-02-20T20:31:00.410Z"
   },
   {
    "duration": 338,
    "start_time": "2023-02-20T20:31:00.445Z"
   },
   {
    "duration": 26,
    "start_time": "2023-02-20T20:31:00.785Z"
   },
   {
    "duration": 76,
    "start_time": "2023-02-20T20:31:00.813Z"
   },
   {
    "duration": 18,
    "start_time": "2023-02-20T20:31:00.890Z"
   },
   {
    "duration": 89,
    "start_time": "2023-02-20T20:31:00.910Z"
   },
   {
    "duration": 17,
    "start_time": "2023-02-20T20:31:01.000Z"
   },
   {
    "duration": 36,
    "start_time": "2023-02-20T20:31:01.019Z"
   },
   {
    "duration": 50,
    "start_time": "2023-02-20T20:31:01.057Z"
   },
   {
    "duration": 618,
    "start_time": "2023-02-20T20:31:01.109Z"
   },
   {
    "duration": 8,
    "start_time": "2023-02-20T20:31:01.729Z"
   },
   {
    "duration": 46606,
    "start_time": "2023-02-20T20:31:01.739Z"
   },
   {
    "duration": 138,
    "start_time": "2023-02-20T20:31:48.436Z"
   },
   {
    "duration": 10,
    "start_time": "2023-02-20T20:31:48.576Z"
   },
   {
    "duration": 7,
    "start_time": "2023-02-20T20:31:48.588Z"
   },
   {
    "duration": 114525,
    "start_time": "2023-02-20T20:31:48.598Z"
   },
   {
    "duration": 13152,
    "start_time": "2023-02-20T20:33:43.126Z"
   },
   {
    "duration": 322,
    "start_time": "2023-02-20T20:33:56.280Z"
   },
   {
    "duration": 134,
    "start_time": "2023-02-20T20:33:56.603Z"
   },
   {
    "duration": 5,
    "start_time": "2023-02-20T20:33:56.740Z"
   },
   {
    "duration": 130851,
    "start_time": "2023-02-20T20:33:56.746Z"
   },
   {
    "duration": 120,
    "start_time": "2023-02-21T04:47:56.346Z"
   },
   {
    "duration": 39,
    "start_time": "2023-02-21T04:48:04.783Z"
   },
   {
    "duration": 8337,
    "start_time": "2023-02-21T04:48:16.415Z"
   },
   {
    "duration": 2,
    "start_time": "2023-02-21T04:48:24.754Z"
   },
   {
    "duration": 1042,
    "start_time": "2023-02-21T04:48:24.758Z"
   },
   {
    "duration": 17,
    "start_time": "2023-02-21T04:48:25.802Z"
   },
   {
    "duration": 110,
    "start_time": "2023-02-21T04:48:25.821Z"
   },
   {
    "duration": 26,
    "start_time": "2023-02-21T04:48:25.936Z"
   },
   {
    "duration": 91,
    "start_time": "2023-02-21T04:48:25.963Z"
   },
   {
    "duration": 175,
    "start_time": "2023-02-21T04:48:26.056Z"
   },
   {
    "duration": 191,
    "start_time": "2023-02-21T04:48:26.625Z"
   },
   {
    "duration": 147,
    "start_time": "2023-02-21T04:48:27.094Z"
   },
   {
    "duration": 59,
    "start_time": "2023-02-21T04:48:27.286Z"
   },
   {
    "duration": 16,
    "start_time": "2023-02-21T04:48:27.716Z"
   },
   {
    "duration": 16,
    "start_time": "2023-02-21T04:48:28.126Z"
   },
   {
    "duration": 12,
    "start_time": "2023-02-21T04:48:28.956Z"
   },
   {
    "duration": 17,
    "start_time": "2023-02-21T04:48:29.419Z"
   },
   {
    "duration": 27,
    "start_time": "2023-02-21T04:48:29.688Z"
   },
   {
    "duration": 17,
    "start_time": "2023-02-21T04:48:30.156Z"
   },
   {
    "duration": 14,
    "start_time": "2023-02-21T04:48:30.379Z"
   },
   {
    "duration": 17,
    "start_time": "2023-02-21T04:48:30.833Z"
   },
   {
    "duration": 13,
    "start_time": "2023-02-21T04:48:31.071Z"
   },
   {
    "duration": 81,
    "start_time": "2023-02-21T04:48:31.523Z"
   },
   {
    "duration": 51,
    "start_time": "2023-02-21T04:48:31.754Z"
   },
   {
    "duration": 58,
    "start_time": "2023-02-21T04:48:32.030Z"
   },
   {
    "duration": 55,
    "start_time": "2023-02-21T04:48:32.966Z"
   },
   {
    "duration": 86,
    "start_time": "2023-02-21T04:48:33.654Z"
   },
   {
    "duration": 334,
    "start_time": "2023-02-21T04:48:37.814Z"
   },
   {
    "duration": 21,
    "start_time": "2023-02-21T04:48:38.220Z"
   },
   {
    "duration": 305,
    "start_time": "2023-02-21T04:48:38.900Z"
   },
   {
    "duration": 21,
    "start_time": "2023-02-21T04:48:39.283Z"
   },
   {
    "duration": 55,
    "start_time": "2023-02-21T04:48:39.752Z"
   },
   {
    "duration": 2373,
    "start_time": "2023-02-21T04:48:40.592Z"
   },
   {
    "duration": 59,
    "start_time": "2023-02-21T04:48:57.562Z"
   },
   {
    "duration": 2312,
    "start_time": "2023-02-21T04:49:04.448Z"
   },
   {
    "duration": 55,
    "start_time": "2023-02-21T04:49:07.363Z"
   },
   {
    "duration": 2310,
    "start_time": "2023-02-21T04:50:00.698Z"
   },
   {
    "duration": 55,
    "start_time": "2023-02-21T04:50:04.166Z"
   },
   {
    "duration": 54,
    "start_time": "2023-02-21T04:53:21.777Z"
   },
   {
    "duration": 93,
    "start_time": "2023-02-21T04:53:43.612Z"
   },
   {
    "duration": 67,
    "start_time": "2023-02-21T04:53:44.292Z"
   },
   {
    "duration": 2313,
    "start_time": "2023-02-21T04:53:46.908Z"
   },
   {
    "duration": 58,
    "start_time": "2023-02-21T04:53:51.919Z"
   },
   {
    "duration": 57,
    "start_time": "2023-02-21T04:54:05.477Z"
   },
   {
    "duration": 8,
    "start_time": "2023-02-21T04:54:43.102Z"
   },
   {
    "duration": 162,
    "start_time": "2023-02-21T05:10:55.169Z"
   },
   {
    "duration": 82,
    "start_time": "2023-02-21T05:16:17.920Z"
   },
   {
    "duration": 3003,
    "start_time": "2023-02-21T05:16:28.772Z"
   },
   {
    "duration": 2,
    "start_time": "2023-02-21T05:16:31.778Z"
   },
   {
    "duration": 843,
    "start_time": "2023-02-21T05:16:31.782Z"
   },
   {
    "duration": 21,
    "start_time": "2023-02-21T05:16:32.627Z"
   },
   {
    "duration": 108,
    "start_time": "2023-02-21T05:16:32.651Z"
   },
   {
    "duration": 25,
    "start_time": "2023-02-21T05:16:32.760Z"
   },
   {
    "duration": 81,
    "start_time": "2023-02-21T05:16:32.787Z"
   },
   {
    "duration": 171,
    "start_time": "2023-02-21T05:16:32.870Z"
   },
   {
    "duration": 191,
    "start_time": "2023-02-21T05:16:33.042Z"
   },
   {
    "duration": 154,
    "start_time": "2023-02-21T05:16:33.236Z"
   },
   {
    "duration": 64,
    "start_time": "2023-02-21T05:16:33.392Z"
   },
   {
    "duration": 17,
    "start_time": "2023-02-21T05:16:33.458Z"
   },
   {
    "duration": 16,
    "start_time": "2023-02-21T05:16:33.477Z"
   },
   {
    "duration": 16,
    "start_time": "2023-02-21T05:16:33.496Z"
   },
   {
    "duration": 40,
    "start_time": "2023-02-21T05:16:33.514Z"
   },
   {
    "duration": 29,
    "start_time": "2023-02-21T05:16:33.555Z"
   },
   {
    "duration": 19,
    "start_time": "2023-02-21T05:16:33.585Z"
   },
   {
    "duration": 12,
    "start_time": "2023-02-21T05:16:33.606Z"
   },
   {
    "duration": 32,
    "start_time": "2023-02-21T05:16:33.620Z"
   },
   {
    "duration": 13,
    "start_time": "2023-02-21T05:16:33.653Z"
   },
   {
    "duration": 94,
    "start_time": "2023-02-21T05:16:33.667Z"
   },
   {
    "duration": 52,
    "start_time": "2023-02-21T05:16:33.762Z"
   },
   {
    "duration": 68,
    "start_time": "2023-02-21T05:16:33.816Z"
   },
   {
    "duration": 64,
    "start_time": "2023-02-21T05:16:33.886Z"
   },
   {
    "duration": 94,
    "start_time": "2023-02-21T05:16:33.952Z"
   },
   {
    "duration": 338,
    "start_time": "2023-02-21T05:16:34.047Z"
   },
   {
    "duration": 21,
    "start_time": "2023-02-21T05:16:34.387Z"
   },
   {
    "duration": 297,
    "start_time": "2023-02-21T05:16:34.409Z"
   },
   {
    "duration": 29,
    "start_time": "2023-02-21T05:16:34.708Z"
   },
   {
    "duration": 52,
    "start_time": "2023-02-21T05:16:34.738Z"
   },
   {
    "duration": 15,
    "start_time": "2023-02-21T05:16:34.792Z"
   },
   {
    "duration": 98,
    "start_time": "2023-02-21T05:16:34.808Z"
   },
   {
    "duration": 17,
    "start_time": "2023-02-21T05:16:34.908Z"
   },
   {
    "duration": 18,
    "start_time": "2023-02-21T05:16:34.926Z"
   },
   {
    "duration": 16,
    "start_time": "2023-02-21T05:16:34.946Z"
   },
   {
    "duration": 587,
    "start_time": "2023-02-21T05:16:34.964Z"
   },
   {
    "duration": 2,
    "start_time": "2023-02-21T05:16:35.553Z"
   },
   {
    "duration": 35989,
    "start_time": "2023-02-21T05:16:35.556Z"
   },
   {
    "duration": 222,
    "start_time": "2023-02-21T05:17:11.547Z"
   },
   {
    "duration": 5,
    "start_time": "2023-02-21T05:17:11.770Z"
   },
   {
    "duration": 4,
    "start_time": "2023-02-21T05:17:11.778Z"
   },
   {
    "duration": 105807,
    "start_time": "2023-02-21T05:17:11.784Z"
   },
   {
    "duration": 11751,
    "start_time": "2023-02-21T05:18:57.593Z"
   },
   {
    "duration": 339,
    "start_time": "2023-02-21T05:19:09.346Z"
   },
   {
    "duration": 128,
    "start_time": "2023-02-21T05:19:09.687Z"
   },
   {
    "duration": 4,
    "start_time": "2023-02-21T05:19:09.816Z"
   },
   {
    "duration": 76621,
    "start_time": "2023-02-21T05:19:09.822Z"
   },
   {
    "duration": 5702,
    "start_time": "2023-02-21T05:20:26.444Z"
   },
   {
    "duration": 2015,
    "start_time": "2023-02-21T05:20:32.148Z"
   },
   {
    "duration": 176,
    "start_time": "2023-02-21T05:20:34.165Z"
   },
   {
    "duration": 695,
    "start_time": "2023-02-21T05:20:34.343Z"
   },
   {
    "duration": 4,
    "start_time": "2023-02-21T05:20:35.040Z"
   },
   {
    "duration": 114,
    "start_time": "2023-02-22T05:27:29.119Z"
   },
   {
    "duration": 8437,
    "start_time": "2023-02-22T05:27:33.731Z"
   },
   {
    "duration": 3,
    "start_time": "2023-02-22T05:27:42.170Z"
   },
   {
    "duration": 3180,
    "start_time": "2023-02-22T05:27:42.174Z"
   }
  ],
  "colab": {
   "collapsed_sections": [
    "O2aRiQ_FvkRY",
    "8qpvRAGpwBl_",
    "tI4zDtUddX4k",
    "lbSTVT_QdlYI",
    "L4g87j4Od1pJ",
    "KUg26JNFv5p_",
    "Da6T3lF4DCT2",
    "hH2q_uHwg3da"
   ],
   "provenance": []
  },
  "kernelspec": {
   "display_name": "Python 3 (ipykernel)",
   "language": "python",
   "name": "python3"
  },
  "language_info": {
   "codemirror_mode": {
    "name": "ipython",
    "version": 3
   },
   "file_extension": ".py",
   "mimetype": "text/x-python",
   "name": "python",
   "nbconvert_exporter": "python",
   "pygments_lexer": "ipython3",
   "version": "3.10.7"
  },
  "toc": {
   "base_numbering": 1,
   "nav_menu": {},
   "number_sections": true,
   "sideBar": true,
   "skip_h1_title": true,
   "title_cell": "Table of Contents",
   "title_sidebar": "Contents",
   "toc_cell": false,
   "toc_position": {
    "height": "calc(100% - 180px)",
    "left": "10px",
    "top": "150px",
    "width": "426.667px"
   },
   "toc_section_display": true,
   "toc_window_display": false
  }
 },
 "nbformat": 4,
 "nbformat_minor": 1
}
