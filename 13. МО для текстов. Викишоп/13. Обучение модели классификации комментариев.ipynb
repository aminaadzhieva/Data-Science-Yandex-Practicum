{
 "cells": [
  {
   "cell_type": "markdown",
   "metadata": {},
   "source": [
    "# Проект для «Викишоп»"
   ]
  },
  {
   "cell_type": "markdown",
   "metadata": {},
   "source": [
    "**Краткое описание:** Необходимо обучить лучшую модель, которая будет классифицировать комментарии на позитивные и негативные. У меня есть набор данных с разметкой о токсичности правок. \n"
   ]
  },
  {
   "cell_type": "markdown",
   "metadata": {},
   "source": [
    "**План:** \n",
    "1. Загружу и подготовлю данные (использую очистку от лишних символов, стоп-слова, проведу леммитизацию). \n",
    "2.  Обучу 2 модели на тренировочной выборке с подбором гиперпараметров и посчитаю F1. Он должен получиться не меньше 0.75. \n",
    "3. На тестовой выборке проверю модель, показавшую лучшую F1 на трейн."
   ]
  },
  {
   "cell_type": "markdown",
   "metadata": {
    "id": "7drp4ayYPTpz"
   },
   "source": [
    "## Загрузка и изучение данных:"
   ]
  },
  {
   "cell_type": "code",
   "execution_count": 1,
   "metadata": {
    "id": "mFE0Hx2sOu4a"
   },
   "outputs": [],
   "source": [
    "import numpy as np\n",
    "import pandas as pd\n",
    "\n",
    "import re\n",
    "\n",
    "import nltk\n",
    "\n",
    "from nltk.corpus import stopwords as nltk_stopwords\n",
    "from nltk.corpus import wordnet\n",
    "from nltk.stem import WordNetLemmatizer\n",
    "\n",
    "from sklearn.pipeline import Pipeline\n",
    "from sklearn.feature_extraction.text import TfidfVectorizer\n",
    "from sklearn.model_selection import train_test_split, cross_val_score, GridSearchCV\n",
    "\n",
    "from sklearn.linear_model import LogisticRegression, SGDClassifier\n",
    "from lightgbm import LGBMRegressor\n",
    "\n",
    "from sklearn.metrics import f1_score, precision_score, recall_score, accuracy_score, roc_auc_score, roc_curve\n",
    "\n",
    "from sklearn.utils import shuffle\n",
    "\n",
    "import matplotlib.pyplot as plt\n",
    "\n",
    "from catboost import CatBoostClassifier\n",
    "\n",
    "import warnings\n",
    "warnings.filterwarnings('ignore')"
   ]
  },
  {
   "cell_type": "code",
   "execution_count": 2,
   "metadata": {
    "colab": {
     "base_uri": "https://localhost:8080/",
     "height": 0
    },
    "id": "nPCmZn3sPZWV",
    "outputId": "3d043beb-d1c3-4497-eb6a-222e1c5509da"
   },
   "outputs": [],
   "source": [
    "data = pd.read_csv('https://code.s3.yandex.net/datasets/toxic_comments.csv')"
   ]
  },
  {
   "cell_type": "code",
   "execution_count": 3,
   "metadata": {
    "colab": {
     "base_uri": "https://localhost:8080/",
     "height": 397
    },
    "id": "PokyuuzgPaGq",
    "outputId": "40c9a45c-9d2a-4c4c-bb77-02dd544bbd5c"
   },
   "outputs": [
    {
     "data": {
      "text/html": [
       "<div>\n",
       "<style scoped>\n",
       "    .dataframe tbody tr th:only-of-type {\n",
       "        vertical-align: middle;\n",
       "    }\n",
       "\n",
       "    .dataframe tbody tr th {\n",
       "        vertical-align: top;\n",
       "    }\n",
       "\n",
       "    .dataframe thead th {\n",
       "        text-align: right;\n",
       "    }\n",
       "</style>\n",
       "<table border=\"1\" class=\"dataframe\">\n",
       "  <thead>\n",
       "    <tr style=\"text-align: right;\">\n",
       "      <th></th>\n",
       "      <th>Unnamed: 0</th>\n",
       "      <th>text</th>\n",
       "      <th>toxic</th>\n",
       "    </tr>\n",
       "  </thead>\n",
       "  <tbody>\n",
       "    <tr>\n",
       "      <th>0</th>\n",
       "      <td>0</td>\n",
       "      <td>Explanation\\nWhy the edits made under my usern...</td>\n",
       "      <td>0</td>\n",
       "    </tr>\n",
       "    <tr>\n",
       "      <th>1</th>\n",
       "      <td>1</td>\n",
       "      <td>D'aww! He matches this background colour I'm s...</td>\n",
       "      <td>0</td>\n",
       "    </tr>\n",
       "    <tr>\n",
       "      <th>2</th>\n",
       "      <td>2</td>\n",
       "      <td>Hey man, I'm really not trying to edit war. It...</td>\n",
       "      <td>0</td>\n",
       "    </tr>\n",
       "    <tr>\n",
       "      <th>3</th>\n",
       "      <td>3</td>\n",
       "      <td>\"\\nMore\\nI can't make any real suggestions on ...</td>\n",
       "      <td>0</td>\n",
       "    </tr>\n",
       "    <tr>\n",
       "      <th>4</th>\n",
       "      <td>4</td>\n",
       "      <td>You, sir, are my hero. Any chance you remember...</td>\n",
       "      <td>0</td>\n",
       "    </tr>\n",
       "  </tbody>\n",
       "</table>\n",
       "</div>"
      ],
      "text/plain": [
       "   Unnamed: 0                                               text  toxic\n",
       "0           0  Explanation\\nWhy the edits made under my usern...      0\n",
       "1           1  D'aww! He matches this background colour I'm s...      0\n",
       "2           2  Hey man, I'm really not trying to edit war. It...      0\n",
       "3           3  \"\\nMore\\nI can't make any real suggestions on ...      0\n",
       "4           4  You, sir, are my hero. Any chance you remember...      0"
      ]
     },
     "metadata": {},
     "output_type": "display_data"
    },
    {
     "name": "stdout",
     "output_type": "stream",
     "text": [
      "\n",
      "<class 'pandas.core.frame.DataFrame'>\n",
      "RangeIndex: 159292 entries, 0 to 159291\n",
      "Data columns (total 3 columns):\n",
      " #   Column      Non-Null Count   Dtype \n",
      "---  ------      --------------   ----- \n",
      " 0   Unnamed: 0  159292 non-null  int64 \n",
      " 1   text        159292 non-null  object\n",
      " 2   toxic       159292 non-null  int64 \n",
      "dtypes: int64(2), object(1)\n",
      "memory usage: 3.6+ MB\n"
     ]
    }
   ],
   "source": [
    "display(data.head())\n",
    "print()\n",
    "data.info()"
   ]
  },
  {
   "cell_type": "code",
   "execution_count": 4,
   "metadata": {
    "colab": {
     "base_uri": "https://localhost:8080/",
     "height": 0
    },
    "id": "MTCscjcYPaPS",
    "outputId": "2d5ca4ba-ab9f-40e3-c154-c47184e49111"
   },
   "outputs": [
    {
     "data": {
      "text/plain": [
       "0"
      ]
     },
     "execution_count": 4,
     "metadata": {},
     "output_type": "execute_result"
    }
   ],
   "source": [
    "data.duplicated().sum()"
   ]
  },
  {
   "cell_type": "code",
   "execution_count": 5,
   "metadata": {
    "colab": {
     "base_uri": "https://localhost:8080/",
     "height": 0
    },
    "id": "XHHqWl-aPaXQ",
    "outputId": "44b3cd78-0166-44fb-fa0b-c762a81afe7d"
   },
   "outputs": [
    {
     "data": {
      "text/plain": [
       "Unnamed: 0    0\n",
       "text          0\n",
       "toxic         0\n",
       "dtype: int64"
      ]
     },
     "execution_count": 5,
     "metadata": {},
     "output_type": "execute_result"
    }
   ],
   "source": [
    "data.isna().sum()"
   ]
  },
  {
   "cell_type": "code",
   "execution_count": 6,
   "metadata": {
    "colab": {
     "base_uri": "https://localhost:8080/",
     "height": 0
    },
    "id": "f4kgLPsoPad8",
    "outputId": "a8329fac-ff43-42ff-e207-7ec3dffed76f"
   },
   "outputs": [
    {
     "data": {
      "text/plain": [
       "0    0.898388\n",
       "1    0.101612\n",
       "Name: toxic, dtype: float64"
      ]
     },
     "execution_count": 6,
     "metadata": {},
     "output_type": "execute_result"
    }
   ],
   "source": [
    "data.toxic.value_counts(normalize=True)"
   ]
  },
  {
   "cell_type": "code",
   "execution_count": 7,
   "metadata": {
    "id": "b7-S7vhVXz1W"
   },
   "outputs": [],
   "source": [
    "# Столбец Unnamed можно убрать, он не несет функциональную/смысловую нагрузку:\n",
    "data = data.drop(['Unnamed: 0'], axis=1)"
   ]
  },
  {
   "cell_type": "markdown",
   "metadata": {
    "id": "cclrjiOJUTUP"
   },
   "source": [
    "Вывод по исходному датасету: В дф 159292 данных. Пропусков и дубликатов нет. Объектов токсик в 9 раз больше, нужно будет поработать над балансировкой. "
   ]
  },
  {
   "cell_type": "code",
   "execution_count": 8,
   "metadata": {
    "colab": {
     "base_uri": "https://localhost:8080/",
     "height": 206
    },
    "id": "35qiL6kOXz5H",
    "outputId": "fb337d85-8978-48e8-f578-04999229b8b1",
    "scrolled": true
   },
   "outputs": [
    {
     "data": {
      "text/html": [
       "<div>\n",
       "<style scoped>\n",
       "    .dataframe tbody tr th:only-of-type {\n",
       "        vertical-align: middle;\n",
       "    }\n",
       "\n",
       "    .dataframe tbody tr th {\n",
       "        vertical-align: top;\n",
       "    }\n",
       "\n",
       "    .dataframe thead th {\n",
       "        text-align: right;\n",
       "    }\n",
       "</style>\n",
       "<table border=\"1\" class=\"dataframe\">\n",
       "  <thead>\n",
       "    <tr style=\"text-align: right;\">\n",
       "      <th></th>\n",
       "      <th>text</th>\n",
       "      <th>toxic</th>\n",
       "    </tr>\n",
       "  </thead>\n",
       "  <tbody>\n",
       "    <tr>\n",
       "      <th>0</th>\n",
       "      <td>Explanation\\nWhy the edits made under my usern...</td>\n",
       "      <td>0</td>\n",
       "    </tr>\n",
       "    <tr>\n",
       "      <th>1</th>\n",
       "      <td>D'aww! He matches this background colour I'm s...</td>\n",
       "      <td>0</td>\n",
       "    </tr>\n",
       "    <tr>\n",
       "      <th>2</th>\n",
       "      <td>Hey man, I'm really not trying to edit war. It...</td>\n",
       "      <td>0</td>\n",
       "    </tr>\n",
       "    <tr>\n",
       "      <th>3</th>\n",
       "      <td>\"\\nMore\\nI can't make any real suggestions on ...</td>\n",
       "      <td>0</td>\n",
       "    </tr>\n",
       "    <tr>\n",
       "      <th>4</th>\n",
       "      <td>You, sir, are my hero. Any chance you remember...</td>\n",
       "      <td>0</td>\n",
       "    </tr>\n",
       "  </tbody>\n",
       "</table>\n",
       "</div>"
      ],
      "text/plain": [
       "                                                text  toxic\n",
       "0  Explanation\\nWhy the edits made under my usern...      0\n",
       "1  D'aww! He matches this background colour I'm s...      0\n",
       "2  Hey man, I'm really not trying to edit war. It...      0\n",
       "3  \"\\nMore\\nI can't make any real suggestions on ...      0\n",
       "4  You, sir, are my hero. Any chance you remember...      0"
      ]
     },
     "execution_count": 8,
     "metadata": {},
     "output_type": "execute_result"
    }
   ],
   "source": [
    "data.head()"
   ]
  },
  {
   "cell_type": "markdown",
   "metadata": {
    "id": "gy6SmDHLVhB9"
   },
   "source": [
    "## Подготовка данных."
   ]
  },
  {
   "cell_type": "markdown",
   "metadata": {
    "id": "1sCWPaBnVoSM"
   },
   "source": [
    "В подготовке данных нужно леммитизировать текст, избавить его от лишних символов, сбалансировать данные по токсик и нетоксик комментариям. Определим TF-IDF для оценки важности слова. "
   ]
  },
  {
   "cell_type": "code",
   "execution_count": 9,
   "metadata": {
    "id": "oQtQJQlzzUVt"
   },
   "outputs": [],
   "source": [
    "def clear_text(text):\n",
    "\n",
    "\n",
    "    def limit(text):\n",
    "        #убираем из комментариев слова длиной от 50 до 10000 символов\n",
    "        #это ограничение необходимо, т.к. есть \"слово\", ломающее лемматизатор\n",
    "        lim = re.sub(r'\\b\\w{50,10000}\\b', ' ', text) \n",
    "        lim1 = \" \".join(lim.split()) #применяем фильтр\n",
    "        return lim1\n",
    "\n",
    "\n",
    "    clear = re.sub(r'[^a-zA-Z ]', ' ', limit(text)) #фильтруем латиницу, символы\n",
    "    clear1 = \" \".join(clear.split()) #применяем фильтр\n",
    "    return clear1"
   ]
  },
  {
   "cell_type": "code",
   "execution_count": 10,
   "metadata": {
    "id": "hhTGAXYeMNmb"
   },
   "outputs": [],
   "source": [
    "from tqdm import tqdm\n",
    "tqdm.pandas()"
   ]
  },
  {
   "cell_type": "code",
   "execution_count": 11,
   "metadata": {
    "colab": {
     "base_uri": "https://localhost:8080/",
     "height": 0
    },
    "id": "1veTeUgqL_0B",
    "outputId": "2ff761c9-b535-48c9-af11-d24b0f38b909"
   },
   "outputs": [
    {
     "name": "stderr",
     "output_type": "stream",
     "text": [
      "100%|██████████| 159292/159292 [00:04<00:00, 35566.70it/s]\n"
     ]
    }
   ],
   "source": [
    "data['text'] = data['text'].progress_apply(clear_text) "
   ]
  },
  {
   "cell_type": "code",
   "execution_count": 12,
   "metadata": {
    "colab": {
     "base_uri": "https://localhost:8080/",
     "height": 0
    },
    "id": "Fe9VrXlbtX9S",
    "outputId": "3d632782-13f1-4da2-a88f-22590edbdc40",
    "scrolled": true
   },
   "outputs": [
    {
     "name": "stderr",
     "output_type": "stream",
     "text": [
      "[nltk_data] Downloading package averaged_perceptron_tagger to\n",
      "[nltk_data]     /home/jovyan/nltk_data...\n",
      "[nltk_data]   Unzipping taggers/averaged_perceptron_tagger.zip.\n"
     ]
    },
    {
     "data": {
      "text/plain": [
       "True"
      ]
     },
     "execution_count": 12,
     "metadata": {},
     "output_type": "execute_result"
    }
   ],
   "source": [
    "nltk.download('averaged_perceptron_tagger')"
   ]
  },
  {
   "cell_type": "code",
   "execution_count": 13,
   "metadata": {
    "id": "W_GcNgB8qKuG"
   },
   "outputs": [],
   "source": [
    "# Напишу функцию РОS-тэгирования слов:\n",
    "def get_wordnet_pos(word):\n",
    "    tag = nltk.pos_tag([word])[0][1][0].upper()\n",
    "    tag_dict = {\"J\": wordnet.ADJ,               \n",
    "                \"N\": wordnet.NOUN,              \n",
    "                \"V\": wordnet.VERB,              \n",
    "                \"R\": wordnet.ADV                \n",
    "               }  \n",
    "    return tag_dict.get(tag, wordnet.NOUN)\n",
    "\n",
    "lemmatizer = WordNetLemmatizer()\n",
    "\n",
    "# Напишу функцию для леммитизации:\n",
    "def lemm_text(text):\n",
    "    text = [lemmatizer.lemmatize(w, get_wordnet_pos(w)) for w in nltk.word_tokenize(text)]\n",
    "    return ' '.join(text)"
   ]
  },
  {
   "cell_type": "code",
   "execution_count": 14,
   "metadata": {
    "colab": {
     "base_uri": "https://localhost:8080/",
     "height": 0
    },
    "id": "DXUfmla68T6-",
    "outputId": "58af3832-d74a-4c49-f7dd-7364416727da"
   },
   "outputs": [
    {
     "name": "stderr",
     "output_type": "stream",
     "text": [
      "100%|██████████| 159292/159292 [17:54<00:00, 148.29it/s]\n"
     ]
    }
   ],
   "source": [
    "data['text'] = data['text'].progress_apply(lemm_text) "
   ]
  },
  {
   "cell_type": "code",
   "execution_count": 49,
   "metadata": {
    "colab": {
     "base_uri": "https://localhost:8080/",
     "height": 206
    },
    "id": "TE_3CKpgTh_f",
    "outputId": "ab4cd450-b1fa-44dc-d552-4ba37919823d"
   },
   "outputs": [
    {
     "data": {
      "text/html": [
       "<div>\n",
       "<style scoped>\n",
       "    .dataframe tbody tr th:only-of-type {\n",
       "        vertical-align: middle;\n",
       "    }\n",
       "\n",
       "    .dataframe tbody tr th {\n",
       "        vertical-align: top;\n",
       "    }\n",
       "\n",
       "    .dataframe thead th {\n",
       "        text-align: right;\n",
       "    }\n",
       "</style>\n",
       "<table border=\"1\" class=\"dataframe\">\n",
       "  <thead>\n",
       "    <tr style=\"text-align: right;\">\n",
       "      <th></th>\n",
       "      <th>text</th>\n",
       "      <th>toxic</th>\n",
       "    </tr>\n",
       "  </thead>\n",
       "  <tbody>\n",
       "    <tr>\n",
       "      <th>0</th>\n",
       "      <td>Explanation Why the edits make under my userna...</td>\n",
       "      <td>0</td>\n",
       "    </tr>\n",
       "    <tr>\n",
       "      <th>1</th>\n",
       "      <td>D aww He match this background colour I m seem...</td>\n",
       "      <td>0</td>\n",
       "    </tr>\n",
       "    <tr>\n",
       "      <th>2</th>\n",
       "      <td>Hey man I m really not try to edit war It s ju...</td>\n",
       "      <td>0</td>\n",
       "    </tr>\n",
       "    <tr>\n",
       "      <th>3</th>\n",
       "      <td>More I can t make any real suggestion on impro...</td>\n",
       "      <td>0</td>\n",
       "    </tr>\n",
       "    <tr>\n",
       "      <th>4</th>\n",
       "      <td>You sir be my hero Any chance you remember wha...</td>\n",
       "      <td>0</td>\n",
       "    </tr>\n",
       "  </tbody>\n",
       "</table>\n",
       "</div>"
      ],
      "text/plain": [
       "                                                text  toxic\n",
       "0  Explanation Why the edits make under my userna...      0\n",
       "1  D aww He match this background colour I m seem...      0\n",
       "2  Hey man I m really not try to edit war It s ju...      0\n",
       "3  More I can t make any real suggestion on impro...      0\n",
       "4  You sir be my hero Any chance you remember wha...      0"
      ]
     },
     "execution_count": 49,
     "metadata": {},
     "output_type": "execute_result"
    }
   ],
   "source": [
    "data.head()"
   ]
  },
  {
   "cell_type": "code",
   "execution_count": 50,
   "metadata": {},
   "outputs": [],
   "source": [
    "#Выведем соотношение\n",
    "class_ratio = data['toxic'].value_counts()[0] / data['toxic'].value_counts()[1]"
   ]
  },
  {
   "cell_type": "code",
   "execution_count": 52,
   "metadata": {
    "id": "pOC9COlhT09S"
   },
   "outputs": [
    {
     "name": "stdout",
     "output_type": "stream",
     "text": [
      "(79646, 105458)\n",
      "(39823, 105458)\n",
      "(39823, 105458)\n"
     ]
    }
   ],
   "source": [
    "# Разобьем выборку по отношению 50/20/20. Уменьшим количество кроссвалидаций до 3 из-за размера выборки.\n",
    "target = data['toxic']\n",
    "features = data.drop(['toxic'], axis=1)\n",
    "\n",
    "features_train, features_valid, target_train, target_valid = train_test_split(features, \n",
    "                                                                              target, \n",
    "                                                                              test_size=0.5, \n",
    "                                                                              random_state=1515)\n",
    "features_valid, features_test, target_valid, target_test = train_test_split(features_valid, \n",
    "                                                                            target_valid, \n",
    "                                                                            test_size=0.5,\n",
    "                                                                            random_state=1515)\n",
    "\n",
    "stopwords = set(nltk_stopwords.words('english'))\n",
    "\n",
    "count_tf_idf = TfidfVectorizer(stop_words=stopwords)\n",
    "\n",
    "features_train = count_tf_idf.fit_transform(features_train['text'])\n",
    "features_valid = count_tf_idf.transform(features_valid['text'])\n",
    "features_test = count_tf_idf.transform(features_test['text'])\n",
    "\n",
    "print(features_train.shape)\n",
    "print(features_valid.shape)\n",
    "print(features_test.shape)\n",
    "cv_counts = 2"
   ]
  },
  {
   "cell_type": "markdown",
   "metadata": {
    "id": "iUG9W3esUbtn"
   },
   "source": [
    "Выше мы определили, что выборки несбалансированы, поэтому:"
   ]
  },
  {
   "cell_type": "markdown",
   "metadata": {},
   "source": [
    "#### Балансировка данных\n",
    "\n",
    "Уменьшение размера весов класса:"
   ]
  },
  {
   "cell_type": "code",
   "execution_count": 53,
   "metadata": {},
   "outputs": [
    {
     "name": "stdout",
     "output_type": "stream",
     "text": [
      "F1 на CV с балансированными классами 0.7446790811539917\n"
     ]
    }
   ],
   "source": [
    "dict_classes={0:1, 1:class_ratio}\n",
    "classificator = LogisticRegression(class_weight=dict_classes)\n",
    "train_f1_ballanced = cross_val_score(classificator, \n",
    "                                    features_train, \n",
    "                                    target_train, \n",
    "                                    cv=cv_counts, \n",
    "                                    scoring='f1').mean()\n",
    "print('F1 на CV с балансированными классами', train_f1_ballanced)"
   ]
  },
  {
   "cell_type": "code",
   "execution_count": 54,
   "metadata": {},
   "outputs": [
    {
     "name": "stdout",
     "output_type": "stream",
     "text": [
      "F1 на CV с балансированными классами 0.7446790811539917\n"
     ]
    }
   ],
   "source": [
    "classificator = LogisticRegression(class_weight='balanced')\n",
    "train_f1_balanced = cross_val_score(classificator, \n",
    "                                    features_train, \n",
    "                                    target_train, \n",
    "                                    cv=cv_counts, \n",
    "                                    scoring='f1').mean()\n",
    "print('F1 на CV с балансированными классами', train_f1_ballanced)"
   ]
  },
  {
   "cell_type": "markdown",
   "metadata": {},
   "source": [
    "### Ресемплинг с уменьшением класса 0"
   ]
  },
  {
   "cell_type": "code",
   "execution_count": 55,
   "metadata": {},
   "outputs": [],
   "source": [
    "toxic_comments_train = data.iloc[target_train.index]\n",
    "\n",
    "target_train_class_zero = toxic_comments_train[toxic_comments_train['toxic'] == 0]['toxic']\n",
    "target_train_class_one = toxic_comments_train[toxic_comments_train['toxic'] == 1]['toxic']"
   ]
  },
  {
   "cell_type": "code",
   "execution_count": 56,
   "metadata": {},
   "outputs": [],
   "source": [
    "target_train_class_zero_downsample = target_train_class_zero.sample(target_train_class_one.shape[0],\n",
    "                                                                    random_state=12082020)\n",
    "target_train_downsample = pd.concat([target_train_class_zero_downsample, target_train_class_one])\n",
    "\n",
    "features_train_downsample = data.iloc[target_train_downsample.index]\n",
    "features_train_downsample, target_train_downsample = shuffle(features_train_downsample,\n",
    "                                                             target_train_downsample,\n",
    "                                                             random_state=12082020)\n",
    "features_train_downsample = count_tf_idf.transform(features_train_downsample['text'])"
   ]
  },
  {
   "cell_type": "code",
   "execution_count": 57,
   "metadata": {},
   "outputs": [
    {
     "name": "stdout",
     "output_type": "stream",
     "text": [
      "F1 на CV с уменьшением классов 0.8750403651451382\n"
     ]
    }
   ],
   "source": [
    "classificator = LogisticRegression()\n",
    "train_f1_downsampled = cross_val_score(classificator,\n",
    "                      features_train_downsample, \n",
    "                      target_train_downsample, \n",
    "                      cv=cv_counts, \n",
    "                      scoring='f1').mean()\n",
    "print('F1 на CV с уменьшением классов', train_f1_downsampled)"
   ]
  },
  {
   "cell_type": "code",
   "execution_count": 58,
   "metadata": {},
   "outputs": [
    {
     "data": {
      "image/png": "[encoded data removed]",
      "text/plain": [
       "<Figure size 864x648 with 1 Axes>"
      ]
     },
     "metadata": {
      "needs_background": "light"
     },
     "output_type": "display_data"
    }
   ],
   "source": [
    "# Построим ROC-AUC графики балансировки\n",
    "plt.figure(figsize=[12,9])\n",
    "\n",
    "plt.plot([0, 1], [0, 1], linestyle='--', label='RandomModel')\n",
    "\n",
    "\n",
    "classificator = LogisticRegression()\n",
    "classificator.fit(features_train, target_train)\n",
    "probabilities_valid = classificator.predict_proba(features_valid)\n",
    "probabilities_one_valid = probabilities_valid[:, 1]\n",
    "fpr, tpr, thresholds = roc_curve(target_valid, probabilities_one_valid)\n",
    "auc_roc = roc_auc_score(target_valid, probabilities_one_valid)\n",
    "valid_f1 = f1_score(target_valid, classificator.predict(features_valid))\n",
    "plt.plot(fpr, tpr, label='LR')\n",
    "\n",
    "classificator = LogisticRegression(class_weight=dict_classes)\n",
    "classificator.fit(features_train, target_train)\n",
    "probabilities_valid = classificator.predict_proba(features_valid)\n",
    "probabilities_one_valid = probabilities_valid[:, 1]\n",
    "fpr, tpr, thresholds = roc_curve(target_valid, probabilities_one_valid)\n",
    "auc_roc_balanced = roc_auc_score(target_valid, probabilities_one_valid)\n",
    "valid_f1_balanced = f1_score(target_valid, classificator.predict(features_valid))\n",
    "plt.plot(fpr, tpr, label='LR по весу')\n",
    "\n",
    "classificator = LogisticRegression()\n",
    "classificator.fit(features_train_downsample,target_train_downsample)\n",
    "probabilities_valid = classificator.predict_proba(features_valid)\n",
    "probabilities_one_valid = probabilities_valid[:, 1]\n",
    "fpr, tpr, thresholds = roc_curve(target_valid, probabilities_one_valid)\n",
    "auc_roc_downsampled = roc_auc_score(target_valid, probabilities_one_valid)\n",
    "valid_f1_downsampled = f1_score(target_valid, classificator.predict(features_valid))\n",
    "plt.plot(fpr, tpr, label='LR downsampled classes')\n",
    "\n",
    "plt.xlim([0,1])\n",
    "plt.ylim([0,1])\n",
    "\n",
    "plt.xlabel(\"False Positive Rate\")\n",
    "plt.ylabel(\"True Positive Rate\")\n",
    "\n",
    "plt.legend(loc='lower right', fontsize='x-large')\n",
    "\n",
    "plt.title(\"ROC-кривая\")\n",
    "plt.show()"
   ]
  },
  {
   "cell_type": "markdown",
   "metadata": {
    "id": "nN8rXH_nPYvR"
   },
   "source": [
    "## Обучение"
   ]
  },
  {
   "cell_type": "markdown",
   "metadata": {},
   "source": [
    "Подберу лучшие гиперпараметры:"
   ]
  },
  {
   "cell_type": "code",
   "execution_count": 59,
   "metadata": {},
   "outputs": [
    {
     "name": "stdout",
     "output_type": "stream",
     "text": [
      "# Tuning hyper-parameters for f1_score\n",
      "\n",
      "Best parameters set found on development set:\n",
      "\n",
      "{'C': 10, 'class_weight': {0: 1, 1: 8.841344371679229}, 'solver': 'newton-cg'}\n",
      "\n",
      "Grid scores on development set:\n",
      "\n",
      "0.702679 for {'C': 0.1, 'class_weight': {0: 1, 1: 8.841344371679229}, 'solver': 'newton-cg'}\n",
      "0.702717 for {'C': 0.1, 'class_weight': {0: 1, 1: 8.841344371679229}, 'solver': 'lbfgs'}\n",
      "0.702673 for {'C': 0.1, 'class_weight': {0: 1, 1: 8.841344371679229}, 'solver': 'liblinear'}\n",
      "0.744679 for {'C': 1, 'class_weight': {0: 1, 1: 8.841344371679229}, 'solver': 'newton-cg'}\n",
      "0.744679 for {'C': 1, 'class_weight': {0: 1, 1: 8.841344371679229}, 'solver': 'lbfgs'}\n",
      "0.744636 for {'C': 1, 'class_weight': {0: 1, 1: 8.841344371679229}, 'solver': 'liblinear'}\n",
      "0.747925 for {'C': 10, 'class_weight': {0: 1, 1: 8.841344371679229}, 'solver': 'newton-cg'}\n",
      "0.747596 for {'C': 10, 'class_weight': {0: 1, 1: 8.841344371679229}, 'solver': 'lbfgs'}\n",
      "0.747878 for {'C': 10, 'class_weight': {0: 1, 1: 8.841344371679229}, 'solver': 'liblinear'}\n",
      "\n"
     ]
    }
   ],
   "source": [
    "classificator = LogisticRegression()\n",
    "hyperparams = [{'solver':['newton-cg', 'lbfgs', 'liblinear'],\n",
    "                'C':[0.1, 1, 10],\n",
    "                'class_weight':[dict_classes]}]\n",
    "\n",
    "\n",
    "print('# Tuning hyper-parameters for f1_score')\n",
    "print()\n",
    "clf = GridSearchCV(classificator, hyperparams, scoring='f1',cv=cv_counts)\n",
    "clf.fit(features_train, target_train)\n",
    "print(\"Best parameters set found on development set:\")\n",
    "print()\n",
    "LR_best_params = clf.best_params_\n",
    "print(LR_best_params)\n",
    "print()\n",
    "print(\"Grid scores on development set:\")\n",
    "print()\n",
    "means = clf.cv_results_['mean_test_score']\n",
    "stds = clf.cv_results_['std_test_score']\n",
    "for mean, std, params in zip(means, stds, clf.cv_results_['params']):\n",
    "    print(\"%0.6f for %r\"% (mean, params))\n",
    "print()\n",
    "\n",
    "cv_f1_LR = max(means)"
   ]
  },
  {
   "cell_type": "markdown",
   "metadata": {},
   "source": [
    "Обучу модель на тренировочной выборке и проверю на валидационной:"
   ]
  },
  {
   "cell_type": "code",
   "execution_count": 62,
   "metadata": {},
   "outputs": [
    {
     "name": "stdout",
     "output_type": "stream",
     "text": [
      "F1 на cv 0.7479247904338503\n",
      "F1 на валидации 0.7502922609305588\n"
     ]
    }
   ],
   "source": [
    "classificator_lr = LogisticRegression()\n",
    "classificator_lr.set_params(**LR_best_params).fit(features_train, target_train)\n",
    "classificator_lr.fit(features_train, target_train)\n",
    "target_predict = classificator_lr.predict(features_valid)\n",
    "valid_f1_LR = f1_score(target_valid, target_predict)\n",
    "print('F1 на cv', cv_f1_LR)\n",
    "print('F1 на валидации', valid_f1_LR)"
   ]
  },
  {
   "cell_type": "code",
   "execution_count": 63,
   "metadata": {
    "colab": {
     "base_uri": "https://localhost:8080/",
     "height": 0
    },
    "id": "kANcUf-8X0Yz",
    "outputId": "ae1e79f2-7e03-4612-8ba2-3d8baa4fdbfc"
   },
   "outputs": [
    {
     "name": "stdout",
     "output_type": "stream",
     "text": [
      "F1 на cv 0.707412419185085\n",
      "F1 на валидации 0.7257359370445934\n"
     ]
    }
   ],
   "source": [
    "classificator = CatBoostClassifier(verbose=False, iterations=110)\n",
    "classificator.fit(features_train, target_train)\n",
    "target_predict = classificator.predict(features_valid)\n",
    "cv_f1_CBC = cross_val_score(classificator,\n",
    "                                         features_train, \n",
    "                                         target_train, \n",
    "                                         cv=cv_counts, \n",
    "                                         scoring='f1').mean()\n",
    "valid_f1_CBC = f1_score(target_valid, target_predict)\n",
    "print('F1 на cv', cv_f1_CBC)\n",
    "print('F1 на валидации', valid_f1_CBC)"
   ]
  },
  {
   "cell_type": "markdown",
   "metadata": {},
   "source": [
    "## Тестирование:"
   ]
  },
  {
   "cell_type": "code",
   "execution_count": 64,
   "metadata": {},
   "outputs": [],
   "source": [
    "prediction = classificator_lr.predict(features_test)"
   ]
  },
  {
   "cell_type": "code",
   "execution_count": 65,
   "metadata": {},
   "outputs": [
    {
     "data": {
      "text/plain": [
       "0.7563025210084033"
      ]
     },
     "execution_count": 65,
     "metadata": {},
     "output_type": "execute_result"
    }
   ],
   "source": [
    "# Рассчитаю F1: \n",
    "f1_score(target_test, prediction)"
   ]
  },
  {
   "cell_type": "markdown",
   "metadata": {
    "id": "IW4PVeY-Pbey"
   },
   "source": [
    "## Вывод:\n",
    "Я загрузила данные, изучив датасет поняла, что данные несбалансированы, но пропусков и дубликатов нет. Приступила к подготовке данных, поняла, что столбец Unnamed бесполезен, поэтому удалила его. Написала функции для удаления лишних символов, леммитизации, сбалансировки, сделала это все. Разделила данные на фичи и таргет. Обучила модели Логистической регресии и катбуст. Лучше себя показала Логистическая регрессия. Проверила обученную модель на тестоой выборке, f1 получился 0.756."
   ]
  }
 ],
 "metadata": {
  "ExecuteTimeLog": [
   {
    "duration": 2956,
    "start_time": "2023-02-26T14:46:13.702Z"
   },
   {
    "duration": 214,
    "start_time": "2023-02-26T14:46:16.660Z"
   },
   {
    "duration": 2038,
    "start_time": "2023-02-26T20:44:20.071Z"
   },
   {
    "duration": 112,
    "start_time": "2023-02-26T20:44:24.316Z"
   },
   {
    "duration": 76,
    "start_time": "2023-02-26T20:46:03.720Z"
   },
   {
    "duration": 2681,
    "start_time": "2023-02-26T20:46:18.535Z"
   },
   {
    "duration": 78,
    "start_time": "2023-02-26T20:46:39.381Z"
   },
   {
    "duration": 826,
    "start_time": "2023-02-26T20:46:59.144Z"
   },
   {
    "duration": 1733,
    "start_time": "2023-02-26T20:47:32.773Z"
   },
   {
    "duration": 41,
    "start_time": "2023-02-26T20:47:35.733Z"
   },
   {
    "duration": 235,
    "start_time": "2023-02-26T20:47:36.345Z"
   },
   {
    "duration": 27,
    "start_time": "2023-02-26T20:47:36.835Z"
   },
   {
    "duration": 8,
    "start_time": "2023-02-26T20:47:37.311Z"
   },
   {
    "duration": 13,
    "start_time": "2023-02-26T20:47:38.274Z"
   },
   {
    "duration": 7,
    "start_time": "2023-02-26T20:47:39.580Z"
   },
   {
    "duration": 3,
    "start_time": "2023-02-26T20:47:41.376Z"
   },
   {
    "duration": 6,
    "start_time": "2023-02-26T20:47:42.530Z"
   },
   {
    "duration": 4766,
    "start_time": "2023-02-26T20:47:43.241Z"
   },
   {
    "duration": 636,
    "start_time": "2023-02-26T20:47:48.724Z"
   },
   {
    "duration": 4,
    "start_time": "2023-02-26T20:47:50.574Z"
   },
   {
    "duration": 1109026,
    "start_time": "2023-02-26T20:47:51.514Z"
   },
   {
    "duration": 7,
    "start_time": "2023-02-26T21:06:20.542Z"
   },
   {
    "duration": 6,
    "start_time": "2023-02-26T21:08:13.353Z"
   },
   {
    "duration": 18,
    "start_time": "2023-02-26T21:08:14.539Z"
   },
   {
    "duration": 20,
    "start_time": "2023-02-26T21:08:24.908Z"
   },
   {
    "duration": 20,
    "start_time": "2023-02-26T21:08:29.972Z"
   },
   {
    "duration": 74,
    "start_time": "2023-02-26T21:08:37.336Z"
   },
   {
    "duration": 43,
    "start_time": "2023-02-26T21:08:40.420Z"
   },
   {
    "duration": 2,
    "start_time": "2023-02-26T21:08:42.080Z"
   },
   {
    "duration": 231090,
    "start_time": "2023-02-26T21:08:42.405Z"
   },
   {
    "duration": 307122,
    "start_time": "2023-02-26T21:12:45.227Z"
   },
   {
    "duration": 28,
    "start_time": "2023-02-26T21:32:15.355Z"
   },
   {
    "duration": 21,
    "start_time": "2023-02-26T21:32:26.419Z"
   },
   {
    "duration": 15,
    "start_time": "2023-02-26T21:38:09.673Z"
   },
   {
    "duration": 15,
    "start_time": "2023-02-26T21:40:11.598Z"
   },
   {
    "duration": 14,
    "start_time": "2023-02-26T21:40:24.909Z"
   },
   {
    "duration": 16,
    "start_time": "2023-02-26T21:41:28.933Z"
   },
   {
    "duration": 16,
    "start_time": "2023-02-26T21:43:07.418Z"
   },
   {
    "duration": 14,
    "start_time": "2023-02-26T21:43:49.515Z"
   },
   {
    "duration": 15,
    "start_time": "2023-02-26T21:44:14.475Z"
   },
   {
    "duration": 57,
    "start_time": "2023-02-26T21:53:03.946Z"
   },
   {
    "duration": 58,
    "start_time": "2023-02-26T21:53:20.411Z"
   },
   {
    "duration": 17,
    "start_time": "2023-02-26T21:56:50.440Z"
   },
   {
    "duration": 17,
    "start_time": "2023-02-26T21:57:09.650Z"
   },
   {
    "duration": 9180,
    "start_time": "2023-02-26T22:08:53.219Z"
   },
   {
    "duration": 37,
    "start_time": "2023-02-26T22:09:27.415Z"
   },
   {
    "duration": 8582,
    "start_time": "2023-02-26T22:09:50.416Z"
   },
   {
    "duration": 8338,
    "start_time": "2023-02-26T22:10:20.567Z"
   },
   {
    "duration": 20,
    "start_time": "2023-02-26T22:10:56.060Z"
   },
   {
    "duration": 20,
    "start_time": "2023-02-26T22:12:06.218Z"
   },
   {
    "duration": 23,
    "start_time": "2023-02-26T22:24:53.170Z"
   },
   {
    "duration": 23,
    "start_time": "2023-02-26T22:25:11.688Z"
   },
   {
    "duration": 18,
    "start_time": "2023-02-26T22:25:12.259Z"
   },
   {
    "duration": 16,
    "start_time": "2023-02-26T22:26:01.888Z"
   },
   {
    "duration": 17,
    "start_time": "2023-02-26T22:26:51.014Z"
   },
   {
    "duration": 16,
    "start_time": "2023-02-26T22:27:26.070Z"
   },
   {
    "duration": 24,
    "start_time": "2023-02-26T22:28:56.266Z"
   },
   {
    "duration": 21,
    "start_time": "2023-02-26T22:36:32.052Z"
   },
   {
    "duration": 3,
    "start_time": "2023-02-26T22:43:07.644Z"
   },
   {
    "duration": 17,
    "start_time": "2023-02-26T22:43:16.116Z"
   },
   {
    "duration": 11,
    "start_time": "2023-02-26T22:45:29.475Z"
   },
   {
    "duration": 5,
    "start_time": "2023-02-26T22:45:36.644Z"
   },
   {
    "duration": 5,
    "start_time": "2023-02-26T22:46:08.554Z"
   },
   {
    "duration": 9035,
    "start_time": "2023-02-26T22:48:12.358Z"
   },
   {
    "duration": 14,
    "start_time": "2023-02-26T22:49:47.109Z"
   },
   {
    "duration": 273,
    "start_time": "2023-02-26T22:50:01.111Z"
   },
   {
    "duration": 41,
    "start_time": "2023-02-26T22:50:08.494Z"
   },
   {
    "duration": 6,
    "start_time": "2023-02-26T22:50:14.129Z"
   },
   {
    "duration": 101,
    "start_time": "2023-02-26T23:00:50.027Z"
   },
   {
    "duration": 80,
    "start_time": "2023-02-26T23:05:45.937Z"
   },
   {
    "duration": 22,
    "start_time": "2023-02-26T23:07:55.652Z"
   },
   {
    "duration": 7,
    "start_time": "2023-02-26T23:08:56.913Z"
   },
   {
    "duration": 1655,
    "start_time": "2023-02-27T17:28:20.682Z"
   },
   {
    "duration": 1996,
    "start_time": "2023-02-27T17:28:22.339Z"
   },
   {
    "duration": 55,
    "start_time": "2023-02-27T17:28:28.086Z"
   },
   {
    "duration": 254,
    "start_time": "2023-02-27T17:28:28.269Z"
   },
   {
    "duration": 30,
    "start_time": "2023-02-27T17:28:28.524Z"
   },
   {
    "duration": 10,
    "start_time": "2023-02-27T17:28:28.834Z"
   },
   {
    "duration": 21,
    "start_time": "2023-02-27T17:28:29.225Z"
   },
   {
    "duration": 9,
    "start_time": "2023-02-27T17:28:29.993Z"
   },
   {
    "duration": 4,
    "start_time": "2023-02-27T17:28:30.653Z"
   },
   {
    "duration": 8,
    "start_time": "2023-02-27T17:28:31.090Z"
   },
   {
    "duration": 5364,
    "start_time": "2023-02-27T17:28:31.494Z"
   },
   {
    "duration": 642,
    "start_time": "2023-02-27T17:28:36.861Z"
   },
   {
    "duration": 5,
    "start_time": "2023-02-27T17:28:37.505Z"
   },
   {
    "duration": 1207811,
    "start_time": "2023-02-27T17:28:37.512Z"
   },
   {
    "duration": 8,
    "start_time": "2023-02-27T17:48:45.325Z"
   },
   {
    "duration": 8,
    "start_time": "2023-02-27T17:49:30.936Z"
   },
   {
    "duration": 62,
    "start_time": "2023-02-27T17:49:31.661Z"
   },
   {
    "duration": 44,
    "start_time": "2023-02-27T17:49:45.110Z"
   },
   {
    "duration": 3,
    "start_time": "2023-02-27T17:49:48.697Z"
   },
   {
    "duration": 82113,
    "start_time": "2023-02-27T17:50:32.618Z"
   },
   {
    "duration": 0,
    "start_time": "2023-02-27T17:51:54.733Z"
   },
   {
    "duration": 0,
    "start_time": "2023-02-27T17:51:54.735Z"
   },
   {
    "duration": 9,
    "start_time": "2023-02-27T17:52:03.418Z"
   },
   {
    "duration": 44905,
    "start_time": "2023-02-27T17:52:17.820Z"
   },
   {
    "duration": 7,
    "start_time": "2023-02-27T17:53:08.911Z"
   },
   {
    "duration": 65,
    "start_time": "2023-02-27T17:53:10.842Z"
   },
   {
    "duration": 48,
    "start_time": "2023-02-27T17:53:13.792Z"
   },
   {
    "duration": 3,
    "start_time": "2023-02-27T17:53:15.525Z"
   },
   {
    "duration": 251704,
    "start_time": "2023-02-27T17:53:16.188Z"
   },
   {
    "duration": 313683,
    "start_time": "2023-02-27T18:17:05.197Z"
   },
   {
    "duration": 4,
    "start_time": "2023-02-27T18:32:41.821Z"
   },
   {
    "duration": 7883,
    "start_time": "2023-02-27T18:32:42.313Z"
   },
   {
    "duration": 10,
    "start_time": "2023-02-27T18:33:01.018Z"
   },
   {
    "duration": 12,
    "start_time": "2023-02-27T18:33:06.813Z"
   },
   {
    "duration": 9,
    "start_time": "2023-02-27T18:33:11.580Z"
   },
   {
    "duration": 261948,
    "start_time": "2023-02-27T18:33:40.947Z"
   },
   {
    "duration": 9,
    "start_time": "2023-02-27T18:39:12.531Z"
   },
   {
    "duration": 9,
    "start_time": "2023-02-27T18:39:17.249Z"
   },
   {
    "duration": 9,
    "start_time": "2023-02-27T18:39:23.419Z"
   },
   {
    "duration": 9,
    "start_time": "2023-02-27T18:39:25.589Z"
   },
   {
    "duration": 10,
    "start_time": "2023-02-27T18:39:34.372Z"
   },
   {
    "duration": 9,
    "start_time": "2023-02-27T18:39:38.275Z"
   },
   {
    "duration": 252034,
    "start_time": "2023-02-27T18:40:23.161Z"
   },
   {
    "duration": 6,
    "start_time": "2023-02-27T18:46:56.365Z"
   },
   {
    "duration": 9,
    "start_time": "2023-02-27T18:46:57.923Z"
   },
   {
    "duration": 17,
    "start_time": "2023-02-27T18:47:05.673Z"
   },
   {
    "duration": 16,
    "start_time": "2023-02-27T18:47:17.685Z"
   },
   {
    "duration": 9,
    "start_time": "2023-02-27T18:47:49.905Z"
   },
   {
    "duration": 5,
    "start_time": "2023-02-27T18:47:52.166Z"
   },
   {
    "duration": 9,
    "start_time": "2023-02-27T18:47:52.671Z"
   },
   {
    "duration": 9,
    "start_time": "2023-02-27T18:47:57.374Z"
   },
   {
    "duration": 15,
    "start_time": "2023-02-27T18:48:02.982Z"
   },
   {
    "duration": 5,
    "start_time": "2023-02-27T18:48:31.052Z"
   },
   {
    "duration": 24,
    "start_time": "2023-02-27T18:49:00.292Z"
   },
   {
    "duration": 4,
    "start_time": "2023-02-27T18:49:10.977Z"
   },
   {
    "duration": 18,
    "start_time": "2023-02-27T18:49:35.202Z"
   },
   {
    "duration": 17,
    "start_time": "2023-02-27T18:54:57.699Z"
   },
   {
    "duration": 8,
    "start_time": "2023-02-27T18:55:13.037Z"
   },
   {
    "duration": 4,
    "start_time": "2023-02-27T18:55:20.378Z"
   },
   {
    "duration": 4,
    "start_time": "2023-02-27T18:56:06.304Z"
   },
   {
    "duration": 16,
    "start_time": "2023-02-27T18:56:09.541Z"
   },
   {
    "duration": 4,
    "start_time": "2023-02-27T18:56:18.369Z"
   },
   {
    "duration": 10,
    "start_time": "2023-02-27T18:56:25.535Z"
   },
   {
    "duration": 62207,
    "start_time": "2023-02-27T19:00:14.842Z"
   },
   {
    "duration": 0,
    "start_time": "2023-02-27T19:01:45.011Z"
   },
   {
    "duration": 242384,
    "start_time": "2023-02-27T19:01:46.818Z"
   },
   {
    "duration": 12,
    "start_time": "2023-02-27T19:06:08.437Z"
   },
   {
    "duration": 9,
    "start_time": "2023-02-27T19:06:22.632Z"
   },
   {
    "duration": 8,
    "start_time": "2023-02-27T19:06:29.277Z"
   },
   {
    "duration": 256773,
    "start_time": "2023-02-27T19:06:39.821Z"
   },
   {
    "duration": 4,
    "start_time": "2023-02-27T19:11:19.637Z"
   },
   {
    "duration": 4,
    "start_time": "2023-02-27T19:11:21.524Z"
   },
   {
    "duration": 16,
    "start_time": "2023-02-27T19:11:24.309Z"
   },
   {
    "duration": 15,
    "start_time": "2023-02-27T19:14:36.727Z"
   },
   {
    "duration": 9,
    "start_time": "2023-02-27T19:16:12.779Z"
   },
   {
    "duration": 234215,
    "start_time": "2023-02-27T19:16:38.180Z"
   },
   {
    "duration": 4,
    "start_time": "2023-02-27T19:21:01.297Z"
   },
   {
    "duration": 3,
    "start_time": "2023-02-27T19:21:01.969Z"
   },
   {
    "duration": 22,
    "start_time": "2023-02-27T19:21:05.744Z"
   },
   {
    "duration": 9,
    "start_time": "2023-02-27T19:28:40.040Z"
   },
   {
    "duration": 8,
    "start_time": "2023-02-27T19:28:49.244Z"
   },
   {
    "duration": 9,
    "start_time": "2023-02-27T19:29:03.331Z"
   },
   {
    "duration": 5,
    "start_time": "2023-02-27T19:29:31.908Z"
   },
   {
    "duration": 4,
    "start_time": "2023-02-27T19:29:32.627Z"
   },
   {
    "duration": 3,
    "start_time": "2023-02-27T19:29:36.477Z"
   },
   {
    "duration": 5,
    "start_time": "2023-02-27T19:38:27.923Z"
   },
   {
    "duration": 4,
    "start_time": "2023-02-27T19:38:28.729Z"
   },
   {
    "duration": 4,
    "start_time": "2023-02-27T19:40:32.742Z"
   },
   {
    "duration": 3,
    "start_time": "2023-02-27T19:40:33.326Z"
   },
   {
    "duration": 15,
    "start_time": "2023-02-27T19:40:33.976Z"
   },
   {
    "duration": 14,
    "start_time": "2023-02-27T19:40:43.227Z"
   },
   {
    "duration": 4,
    "start_time": "2023-02-27T19:40:43.615Z"
   },
   {
    "duration": 4,
    "start_time": "2023-02-27T19:40:51.175Z"
   },
   {
    "duration": 4,
    "start_time": "2023-02-27T19:40:52.558Z"
   },
   {
    "duration": 14,
    "start_time": "2023-02-27T19:40:55.259Z"
   },
   {
    "duration": 233829,
    "start_time": "2023-02-27T19:45:49.574Z"
   },
   {
    "duration": 9,
    "start_time": "2023-02-27T19:51:34.101Z"
   },
   {
    "duration": 9,
    "start_time": "2023-02-27T19:51:45.973Z"
   },
   {
    "duration": 1640,
    "start_time": "2023-02-28T16:09:33.261Z"
   },
   {
    "duration": 2546,
    "start_time": "2023-02-28T16:09:34.903Z"
   },
   {
    "duration": 56,
    "start_time": "2023-02-28T16:09:58.732Z"
   },
   {
    "duration": 255,
    "start_time": "2023-02-28T16:09:58.850Z"
   },
   {
    "duration": 35,
    "start_time": "2023-02-28T16:09:59.820Z"
   },
   {
    "duration": 9,
    "start_time": "2023-02-28T16:10:00.292Z"
   },
   {
    "duration": 14,
    "start_time": "2023-02-28T16:10:00.971Z"
   },
   {
    "duration": 8,
    "start_time": "2023-02-28T16:10:01.820Z"
   },
   {
    "duration": 4,
    "start_time": "2023-02-28T16:10:02.724Z"
   },
   {
    "duration": 9,
    "start_time": "2023-02-28T16:10:08.649Z"
   },
   {
    "duration": 5617,
    "start_time": "2023-02-28T16:10:09.228Z"
   },
   {
    "duration": 566,
    "start_time": "2023-02-28T16:10:14.849Z"
   },
   {
    "duration": 6,
    "start_time": "2023-02-28T16:10:15.596Z"
   },
   {
    "duration": 1513602,
    "start_time": "2023-02-28T16:10:16.101Z"
   },
   {
    "duration": 10,
    "start_time": "2023-02-28T16:39:33.888Z"
   },
   {
    "duration": 85,
    "start_time": "2023-02-28T16:39:34.714Z"
   },
   {
    "duration": 59,
    "start_time": "2023-02-28T16:39:43.787Z"
   },
   {
    "duration": 3,
    "start_time": "2023-02-28T16:39:45.513Z"
   },
   {
    "duration": 345250,
    "start_time": "2023-02-28T16:39:45.922Z"
   },
   {
    "duration": 352072,
    "start_time": "2023-02-28T16:46:38.407Z"
   },
   {
    "duration": 4,
    "start_time": "2023-02-28T16:52:56.450Z"
   },
   {
    "duration": 4,
    "start_time": "2023-02-28T16:52:58.555Z"
   },
   {
    "duration": 147,
    "start_time": "2023-02-28T16:53:10.803Z"
   },
   {
    "duration": 18,
    "start_time": "2023-02-28T16:53:59.657Z"
   },
   {
    "duration": 8,
    "start_time": "2023-02-28T18:32:08.846Z"
   },
   {
    "duration": 6,
    "start_time": "2023-02-28T18:32:27.502Z"
   },
   {
    "duration": 10,
    "start_time": "2023-02-28T18:32:38.981Z"
   },
   {
    "duration": 12,
    "start_time": "2023-02-28T18:32:42.750Z"
   },
   {
    "duration": 8,
    "start_time": "2023-02-28T18:36:13.373Z"
   },
   {
    "duration": 10,
    "start_time": "2023-02-28T18:36:27.934Z"
   },
   {
    "duration": 5,
    "start_time": "2023-02-28T18:38:09.348Z"
   },
   {
    "duration": 11,
    "start_time": "2023-02-28T18:38:09.789Z"
   },
   {
    "duration": 1635,
    "start_time": "2023-02-28T18:40:10.559Z"
   },
   {
    "duration": 12,
    "start_time": "2023-02-28T18:40:14.607Z"
   },
   {
    "duration": 5,
    "start_time": "2023-02-28T18:40:15.372Z"
   },
   {
    "duration": 20,
    "start_time": "2023-02-28T18:40:15.934Z"
   },
   {
    "duration": 1255,
    "start_time": "2023-02-28T18:43:26.144Z"
   },
   {
    "duration": 16,
    "start_time": "2023-02-28T18:43:39.570Z"
   },
   {
    "duration": 347091,
    "start_time": "2023-02-28T18:50:49.646Z"
   },
   {
    "duration": 1679,
    "start_time": "2023-03-01T18:24:13.024Z"
   },
   {
    "duration": 1896,
    "start_time": "2023-03-01T18:24:14.706Z"
   },
   {
    "duration": 45,
    "start_time": "2023-03-01T18:24:16.605Z"
   },
   {
    "duration": 266,
    "start_time": "2023-03-01T18:24:16.653Z"
   },
   {
    "duration": 30,
    "start_time": "2023-03-01T18:24:16.921Z"
   },
   {
    "duration": 15,
    "start_time": "2023-03-01T18:24:16.953Z"
   },
   {
    "duration": 38,
    "start_time": "2023-03-01T18:24:16.971Z"
   },
   {
    "duration": 9,
    "start_time": "2023-03-01T18:24:17.012Z"
   },
   {
    "duration": 13,
    "start_time": "2023-03-01T18:24:17.023Z"
   },
   {
    "duration": 30,
    "start_time": "2023-03-01T18:24:17.039Z"
   },
   {
    "duration": 4943,
    "start_time": "2023-03-01T18:24:17.071Z"
   },
   {
    "duration": 620,
    "start_time": "2023-03-01T18:24:22.015Z"
   },
   {
    "duration": 5,
    "start_time": "2023-03-01T18:24:22.637Z"
   },
   {
    "duration": 1404225,
    "start_time": "2023-03-01T18:24:22.644Z"
   },
   {
    "duration": 8,
    "start_time": "2023-03-01T18:51:14.407Z"
   },
   {
    "duration": 70,
    "start_time": "2023-03-01T18:51:16.312Z"
   },
   {
    "duration": 14,
    "start_time": "2023-03-01T18:51:16.662Z"
   },
   {
    "duration": 1879,
    "start_time": "2023-03-01T18:53:08.128Z"
   },
   {
    "duration": 11733,
    "start_time": "2023-03-01T18:54:10.907Z"
   },
   {
    "duration": 11612,
    "start_time": "2023-03-01T18:54:46.316Z"
   },
   {
    "duration": 52312,
    "start_time": "2023-03-01T18:55:29.104Z"
   },
   {
    "duration": 13,
    "start_time": "2023-03-01T18:56:31.490Z"
   },
   {
    "duration": 15,
    "start_time": "2023-03-01T18:57:15.984Z"
   },
   {
    "duration": 7,
    "start_time": "2023-03-01T18:57:25.041Z"
   },
   {
    "duration": 39973,
    "start_time": "2023-03-01T18:57:25.858Z"
   },
   {
    "duration": 43869,
    "start_time": "2023-03-01T18:58:19.844Z"
   },
   {
    "duration": 12,
    "start_time": "2023-03-01T18:59:53.830Z"
   },
   {
    "duration": 25,
    "start_time": "2023-03-01T19:00:01.755Z"
   },
   {
    "duration": 17,
    "start_time": "2023-03-01T19:00:18.585Z"
   },
   {
    "duration": 1702,
    "start_time": "2023-03-01T19:00:30.699Z"
   },
   {
    "duration": 1136,
    "start_time": "2023-03-01T19:00:51.676Z"
   },
   {
    "duration": 19517,
    "start_time": "2023-03-01T19:01:07.090Z"
   },
   {
    "duration": 24,
    "start_time": "2023-03-01T19:02:10.460Z"
   },
   {
    "duration": 11,
    "start_time": "2023-03-01T19:02:47.903Z"
   },
   {
    "duration": 14,
    "start_time": "2023-03-01T19:03:01.332Z"
   },
   {
    "duration": 15,
    "start_time": "2023-03-01T19:03:26.395Z"
   },
   {
    "duration": 409,
    "start_time": "2023-03-01T19:04:00.034Z"
   },
   {
    "duration": 43696,
    "start_time": "2023-03-01T19:04:12.056Z"
   },
   {
    "duration": 0,
    "start_time": "2023-03-01T19:04:55.754Z"
   },
   {
    "duration": 40880,
    "start_time": "2023-03-01T19:05:46.248Z"
   },
   {
    "duration": 6,
    "start_time": "2023-03-01T19:07:46.068Z"
   },
   {
    "duration": 81112,
    "start_time": "2023-03-01T19:08:00.812Z"
   },
   {
    "duration": 286008,
    "start_time": "2023-03-01T19:09:58.155Z"
   },
   {
    "duration": 27619,
    "start_time": "2023-03-01T19:15:21.248Z"
   },
   {
    "duration": 780778,
    "start_time": "2023-03-01T19:16:31.256Z"
   },
   {
    "duration": 330974,
    "start_time": "2023-03-01T19:30:07.533Z"
   },
   {
    "duration": 481444,
    "start_time": "2023-03-01T19:35:44.505Z"
   },
   {
    "duration": 4502,
    "start_time": "2023-03-01T19:48:10.541Z"
   },
   {
    "duration": 29056,
    "start_time": "2023-03-01T19:48:59.684Z"
   },
   {
    "duration": 21,
    "start_time": "2023-03-01T19:49:46.563Z"
   },
   {
    "duration": 7,
    "start_time": "2023-03-01T19:50:02.235Z"
   },
   {
    "duration": 4,
    "start_time": "2023-03-01T19:50:03.857Z"
   },
   {
    "duration": 15,
    "start_time": "2023-03-01T19:50:13.490Z"
   },
   {
    "duration": 1821,
    "start_time": "2023-03-01T21:51:37.513Z"
   },
   {
    "duration": 2626,
    "start_time": "2023-03-01T21:51:39.336Z"
   },
   {
    "duration": 41,
    "start_time": "2023-03-01T21:51:41.964Z"
   },
   {
    "duration": 245,
    "start_time": "2023-03-01T21:51:42.007Z"
   },
   {
    "duration": 26,
    "start_time": "2023-03-01T21:51:42.254Z"
   },
   {
    "duration": 14,
    "start_time": "2023-03-01T21:51:42.282Z"
   },
   {
    "duration": 15,
    "start_time": "2023-03-01T21:51:42.298Z"
   },
   {
    "duration": 26,
    "start_time": "2023-03-01T21:51:42.315Z"
   },
   {
    "duration": 3,
    "start_time": "2023-03-01T21:51:43.264Z"
   },
   {
    "duration": 11,
    "start_time": "2023-03-01T21:51:43.960Z"
   },
   {
    "duration": 4513,
    "start_time": "2023-03-01T21:51:44.655Z"
   },
   {
    "duration": 615,
    "start_time": "2023-03-01T21:51:49.170Z"
   },
   {
    "duration": 7,
    "start_time": "2023-03-01T21:51:54.096Z"
   },
   {
    "duration": 1074228,
    "start_time": "2023-03-01T21:51:54.464Z"
   },
   {
    "duration": 7,
    "start_time": "2023-03-01T22:09:48.693Z"
   },
   {
    "duration": 10,
    "start_time": "2023-03-01T22:11:04.152Z"
   },
   {
    "duration": 7,
    "start_time": "2023-03-01T22:11:05.388Z"
   },
   {
    "duration": 10327,
    "start_time": "2023-03-01T22:11:06.136Z"
   },
   {
    "duration": 57,
    "start_time": "2023-03-01T22:11:20.064Z"
   },
   {
    "duration": 42,
    "start_time": "2023-03-01T22:12:10.703Z"
   },
   {
    "duration": 40,
    "start_time": "2023-03-01T22:12:20.918Z"
   },
   {
    "duration": 32,
    "start_time": "2023-03-01T22:12:21.572Z"
   },
   {
    "duration": 27,
    "start_time": "2023-03-01T22:12:24.620Z"
   },
   {
    "duration": 11,
    "start_time": "2023-03-01T22:12:25.352Z"
   },
   {
    "duration": 17,
    "start_time": "2023-03-01T22:13:40.648Z"
   },
   {
    "duration": 278,
    "start_time": "2023-03-01T22:13:46.149Z"
   },
   {
    "duration": 35,
    "start_time": "2023-03-01T22:14:34.427Z"
   },
   {
    "duration": 29,
    "start_time": "2023-03-01T22:14:34.991Z"
   },
   {
    "duration": 24,
    "start_time": "2023-03-01T22:14:43.908Z"
   },
   {
    "duration": 13,
    "start_time": "2023-03-01T22:14:44.375Z"
   },
   {
    "duration": 21,
    "start_time": "2023-03-01T22:14:45.848Z"
   },
   {
    "duration": 7,
    "start_time": "2023-03-01T22:14:57.182Z"
   },
   {
    "duration": 5,
    "start_time": "2023-03-01T22:15:00.479Z"
   },
   {
    "duration": 62,
    "start_time": "2023-03-01T22:15:01.319Z"
   },
   {
    "duration": 33,
    "start_time": "2023-03-01T22:15:05.266Z"
   },
   {
    "duration": 20,
    "start_time": "2023-03-01T22:15:25.229Z"
   },
   {
    "duration": 6,
    "start_time": "2023-03-01T22:15:34.253Z"
   },
   {
    "duration": 38,
    "start_time": "2023-03-01T22:15:45.916Z"
   },
   {
    "duration": 30,
    "start_time": "2023-03-01T22:15:46.206Z"
   },
   {
    "duration": 23,
    "start_time": "2023-03-01T22:15:49.958Z"
   },
   {
    "duration": 14,
    "start_time": "2023-03-01T22:15:51.128Z"
   },
   {
    "duration": 18,
    "start_time": "2023-03-01T22:15:52.355Z"
   },
   {
    "duration": 138,
    "start_time": "2023-03-01T22:19:03.673Z"
   },
   {
    "duration": 109,
    "start_time": "2023-03-01T22:19:13.892Z"
   },
   {
    "duration": 110,
    "start_time": "2023-03-01T22:19:27.653Z"
   },
   {
    "duration": 5,
    "start_time": "2023-03-01T22:26:22.402Z"
   },
   {
    "duration": 13,
    "start_time": "2023-03-01T22:26:28.644Z"
   },
   {
    "duration": 38,
    "start_time": "2023-03-01T22:26:42.016Z"
   },
   {
    "duration": 7,
    "start_time": "2023-03-01T22:26:47.548Z"
   },
   {
    "duration": 6,
    "start_time": "2023-03-01T22:26:50.505Z"
   },
   {
    "duration": 115,
    "start_time": "2023-03-01T22:26:51.431Z"
   },
   {
    "duration": 6609,
    "start_time": "2023-03-01T22:27:03.822Z"
   },
   {
    "duration": 35750,
    "start_time": "2023-03-01T22:27:15.692Z"
   },
   {
    "duration": 37433,
    "start_time": "2023-03-01T22:28:01.721Z"
   },
   {
    "duration": 25,
    "start_time": "2023-03-01T22:28:46.282Z"
   },
   {
    "duration": 597,
    "start_time": "2023-03-01T22:28:46.929Z"
   },
   {
    "duration": 17491,
    "start_time": "2023-03-01T22:28:48.544Z"
   },
   {
    "duration": 66508,
    "start_time": "2023-03-01T22:29:17.116Z"
   },
   {
    "duration": 272901,
    "start_time": "2023-03-01T22:31:22.762Z"
   },
   {
    "duration": 28529,
    "start_time": "2023-03-01T22:36:04.447Z"
   },
   {
    "duration": 29543,
    "start_time": "2023-03-01T22:37:55.130Z"
   },
   {
    "duration": 56417,
    "start_time": "2023-03-01T22:42:10.968Z"
   },
   {
    "duration": 452604,
    "start_time": "2023-03-01T22:43:15.045Z"
   },
   {
    "duration": 6,
    "start_time": "2023-03-01T22:50:53.637Z"
   },
   {
    "duration": 13,
    "start_time": "2023-03-01T22:50:54.269Z"
   }
  ],
  "colab": {
   "provenance": []
  },
  "kernelspec": {
   "display_name": "Python 3 (ipykernel)",
   "language": "python",
   "name": "python3"
  },
  "language_info": {
   "codemirror_mode": {
    "name": "ipython",
    "version": 3
   },
   "file_extension": ".py",
   "mimetype": "text/x-python",
   "name": "python",
   "nbconvert_exporter": "python",
   "pygments_lexer": "ipython3",
   "version": "3.9.5"
  },
  "toc": {
   "base_numbering": 1,
   "nav_menu": {},
   "number_sections": true,
   "sideBar": true,
   "skip_h1_title": true,
   "title_cell": "Table of Contents",
   "title_sidebar": "Contents",
   "toc_cell": false,
   "toc_position": {},
   "toc_section_display": true,
   "toc_window_display": false
  }
 },
 "nbformat": 4,
 "nbformat_minor": 1
}
