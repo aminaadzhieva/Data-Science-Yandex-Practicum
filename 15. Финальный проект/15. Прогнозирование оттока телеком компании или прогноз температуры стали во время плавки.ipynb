{
 "cells": [
  {
   "cell_type": "markdown",
   "metadata": {},
   "source": [
    "# Финальный проект \"Телеком\""
   ]
  },
  {
   "cell_type": "markdown",
   "metadata": {},
   "source": [
    "Краткое описание: Необходимо научить модель прогнозировать отток клиентов, чтобы компания могла предложить этим клиентам бонусы, для повышения их лояльности. Дата выгрузки данных 1.02.2020."
   ]
  },
  {
   "cell_type": "markdown",
   "metadata": {},
   "source": [
    "Цель: Выбрать лучшую модель с лучшими гиперпараметрами, метрика AUC-ROC которой на тестовой выборке будет >= 0.85."
   ]
  },
  {
   "cell_type": "markdown",
   "metadata": {},
   "source": [
    "План:\n",
    "1. Импорт и изучение данных\n",
    "2. Исследовательский анализ данных\n",
    "3. Обучение моделей\n",
    "4. Тестирование модели\n",
    "5. Общий вывод по проекту"
   ]
  },
  {
   "cell_type": "markdown",
   "metadata": {},
   "source": [
    "## 1. Импорт и изучение данных:"
   ]
  },
  {
   "cell_type": "code",
   "execution_count": 20,
   "metadata": {
    "scrolled": true
   },
   "outputs": [
    {
     "name": "stdout",
     "output_type": "stream",
     "text": [
      "Requirement already satisfied: scikit-learn in c:\\users\\amish\\appdata\\local\\programs\\python\\python310\\lib\\site-packages (1.1.3)\n",
      "Collecting scikit-learn\n",
      "  Obtaining dependency information for scikit-learn from https://files.pythonhosted.org/packages/96/cf/a714a655266229b51eb2bda117f15275f12457887f165f3c1cc58ab502f1/scikit_learn-1.3.0-cp310-cp310-win_amd64.whl.metadata\n",
      "  Downloading scikit_learn-1.3.0-cp310-cp310-win_amd64.whl.metadata (11 kB)\n",
      "Requirement already satisfied: numpy>=1.17.3 in c:\\users\\amish\\appdata\\local\\programs\\python\\python310\\lib\\site-packages (from scikit-learn) (1.24.2)\n",
      "Requirement already satisfied: scipy>=1.5.0 in c:\\users\\amish\\appdata\\local\\programs\\python\\python310\\lib\\site-packages (from scikit-learn) (1.10.1)\n",
      "Requirement already satisfied: joblib>=1.1.1 in c:\\users\\amish\\appdata\\local\\programs\\python\\python310\\lib\\site-packages (from scikit-learn) (1.2.0)\n",
      "Requirement already satisfied: threadpoolctl>=2.0.0 in c:\\users\\amish\\appdata\\local\\programs\\python\\python310\\lib\\site-packages (from scikit-learn) (3.1.0)\n",
      "Downloading scikit_learn-1.3.0-cp310-cp310-win_amd64.whl (9.2 MB)\n",
      "   ---------------------------------------- 0.0/9.2 MB ? eta -:--:--\n",
      "   ---------------------------------------- 0.0/9.2 MB ? eta -:--:--\n",
      "   ---------------------------------------- 0.0/9.2 MB ? eta -:--:--\n",
      "   ---------------------------------------- 0.1/9.2 MB 656.4 kB/s eta 0:00:14\n",
      "   ---------------------------------------- 0.1/9.2 MB 656.4 kB/s eta 0:00:14\n",
      "    --------------------------------------- 0.1/9.2 MB 514.3 kB/s eta 0:00:18\n",
      "    --------------------------------------- 0.2/9.2 MB 573.4 kB/s eta 0:00:16\n",
      "    --------------------------------------- 0.2/9.2 MB 573.4 kB/s eta 0:00:16\n",
      "   - -------------------------------------- 0.2/9.2 MB 627.5 kB/s eta 0:00:15\n",
      "   - -------------------------------------- 0.3/9.2 MB 630.9 kB/s eta 0:00:15\n",
      "   - -------------------------------------- 0.3/9.2 MB 610.3 kB/s eta 0:00:15\n",
      "   - -------------------------------------- 0.4/9.2 MB 734.3 kB/s eta 0:00:13\n",
      "   - -------------------------------------- 0.4/9.2 MB 734.3 kB/s eta 0:00:13\n",
      "   - -------------------------------------- 0.4/9.2 MB 638.9 kB/s eta 0:00:14\n",
      "   -- ------------------------------------- 0.5/9.2 MB 734.9 kB/s eta 0:00:12\n",
      "   -- ------------------------------------- 0.5/9.2 MB 734.9 kB/s eta 0:00:12\n",
      "   -- ------------------------------------- 0.6/9.2 MB 769.1 kB/s eta 0:00:12\n",
      "   -- ------------------------------------- 0.6/9.2 MB 706.6 kB/s eta 0:00:13\n",
      "   -- ------------------------------------- 0.6/9.2 MB 728.0 kB/s eta 0:00:12\n",
      "   -- ------------------------------------- 0.6/9.2 MB 739.1 kB/s eta 0:00:12\n",
      "   -- ------------------------------------- 0.7/9.2 MB 699.7 kB/s eta 0:00:13\n",
      "   --- ------------------------------------ 0.7/9.2 MB 750.3 kB/s eta 0:00:12\n",
      "   --- ------------------------------------ 0.8/9.2 MB 784.6 kB/s eta 0:00:11\n",
      "   --- ------------------------------------ 0.8/9.2 MB 770.6 kB/s eta 0:00:11\n",
      "   --- ------------------------------------ 0.9/9.2 MB 773.7 kB/s eta 0:00:11\n",
      "   ---- ----------------------------------- 0.9/9.2 MB 795.1 kB/s eta 0:00:11\n",
      "   ---- ----------------------------------- 0.9/9.2 MB 795.1 kB/s eta 0:00:11\n",
      "   ---- ----------------------------------- 1.1/9.2 MB 841.2 kB/s eta 0:00:10\n",
      "   ---- ----------------------------------- 1.1/9.2 MB 841.2 kB/s eta 0:00:10\n",
      "   ----- ---------------------------------- 1.2/9.2 MB 876.2 kB/s eta 0:00:10\n",
      "   ----- ---------------------------------- 1.2/9.2 MB 876.2 kB/s eta 0:00:10\n",
      "   ----- ---------------------------------- 1.3/9.2 MB 890.1 kB/s eta 0:00:09\n",
      "   ----- ---------------------------------- 1.3/9.2 MB 885.3 kB/s eta 0:00:09\n",
      "   ------ --------------------------------- 1.4/9.2 MB 900.2 kB/s eta 0:00:09\n",
      "   ------ --------------------------------- 1.4/9.2 MB 900.2 kB/s eta 0:00:09\n",
      "   ------ --------------------------------- 1.5/9.2 MB 892.3 kB/s eta 0:00:09\n",
      "   ------ --------------------------------- 1.5/9.2 MB 906.4 kB/s eta 0:00:09\n",
      "   ------ --------------------------------- 1.6/9.2 MB 891.7 kB/s eta 0:00:09\n",
      "   ------- -------------------------------- 1.6/9.2 MB 930.4 kB/s eta 0:00:09\n",
      "   ------- -------------------------------- 1.7/9.2 MB 913.1 kB/s eta 0:00:09\n",
      "   ------- -------------------------------- 1.7/9.2 MB 938.5 kB/s eta 0:00:08\n",
      "   ------- -------------------------------- 1.7/9.2 MB 938.5 kB/s eta 0:00:08\n",
      "   -------- ------------------------------- 1.9/9.2 MB 954.3 kB/s eta 0:00:08\n",
      "   -------- ------------------------------- 1.9/9.2 MB 954.3 kB/s eta 0:00:08\n",
      "   -------- ------------------------------- 2.0/9.2 MB 965.5 kB/s eta 0:00:08\n",
      "   -------- ------------------------------- 2.0/9.2 MB 965.5 kB/s eta 0:00:08\n",
      "   --------- ------------------------------ 2.1/9.2 MB 973.7 kB/s eta 0:00:08\n",
      "   --------- ------------------------------ 2.1/9.2 MB 973.7 kB/s eta 0:00:08\n",
      "   --------- ------------------------------ 2.2/9.2 MB 969.4 kB/s eta 0:00:08\n",
      "   --------- ------------------------------ 2.3/9.2 MB 987.6 kB/s eta 0:00:08\n",
      "   --------- ------------------------------ 2.3/9.2 MB 987.6 kB/s eta 0:00:08\n",
      "   ---------- ----------------------------- 2.4/9.2 MB 1.0 MB/s eta 0:00:07\n",
      "   ---------- ----------------------------- 2.4/9.2 MB 1.0 MB/s eta 0:00:07\n",
      "   ----------- ---------------------------- 2.5/9.2 MB 1.0 MB/s eta 0:00:07\n",
      "   ----------- ---------------------------- 2.5/9.2 MB 1.0 MB/s eta 0:00:07\n",
      "   ----------- ---------------------------- 2.6/9.2 MB 1.0 MB/s eta 0:00:07\n",
      "   ----------- ---------------------------- 2.7/9.2 MB 1.0 MB/s eta 0:00:07\n",
      "   ----------- ---------------------------- 2.7/9.2 MB 1.0 MB/s eta 0:00:07\n",
      "   ----------- ---------------------------- 2.7/9.2 MB 1.0 MB/s eta 0:00:07\n",
      "   ----------- ---------------------------- 2.7/9.2 MB 1.0 MB/s eta 0:00:07\n",
      "   ------------ --------------------------- 2.8/9.2 MB 1.0 MB/s eta 0:00:07\n",
      "   ------------ --------------------------- 2.8/9.2 MB 1.0 MB/s eta 0:00:07\n",
      "   ------------ --------------------------- 2.9/9.2 MB 1.0 MB/s eta 0:00:07\n",
      "   ------------ --------------------------- 2.9/9.2 MB 1.0 MB/s eta 0:00:07\n",
      "   ------------- -------------------------- 3.0/9.2 MB 1.0 MB/s eta 0:00:07\n",
      "   ------------- -------------------------- 3.0/9.2 MB 1.0 MB/s eta 0:00:07\n",
      "   ------------- -------------------------- 3.2/9.2 MB 1.0 MB/s eta 0:00:06\n",
      "   ------------- -------------------------- 3.2/9.2 MB 1.0 MB/s eta 0:00:06\n",
      "   -------------- ------------------------- 3.2/9.2 MB 1.0 MB/s eta 0:00:06\n",
      "   -------------- ------------------------- 3.3/9.2 MB 1.0 MB/s eta 0:00:06\n",
      "   -------------- ------------------------- 3.3/9.2 MB 1.0 MB/s eta 0:00:06\n",
      "   -------------- ------------------------- 3.3/9.2 MB 1.0 MB/s eta 0:00:06\n",
      "   -------------- ------------------------- 3.4/9.2 MB 1.0 MB/s eta 0:00:06\n",
      "   --------------- ------------------------ 3.5/9.2 MB 1.0 MB/s eta 0:00:06\n",
      "   --------------- ------------------------ 3.5/9.2 MB 1.0 MB/s eta 0:00:06\n",
      "   --------------- ------------------------ 3.6/9.2 MB 1.0 MB/s eta 0:00:06\n",
      "   --------------- ------------------------ 3.6/9.2 MB 1.0 MB/s eta 0:00:06\n",
      "   --------------- ------------------------ 3.7/9.2 MB 1.0 MB/s eta 0:00:06\n",
      "   ---------------- ----------------------- 3.7/9.2 MB 1.0 MB/s eta 0:00:06\n",
      "   ---------------- ----------------------- 3.9/9.2 MB 1.1 MB/s eta 0:00:06\n",
      "   ---------------- ----------------------- 3.9/9.2 MB 1.1 MB/s eta 0:00:06\n",
      "   ----------------- ---------------------- 4.0/9.2 MB 1.0 MB/s eta 0:00:06\n",
      "   ----------------- ---------------------- 4.0/9.2 MB 1.1 MB/s eta 0:00:05\n",
      "   ----------------- ---------------------- 4.0/9.2 MB 1.1 MB/s eta 0:00:05\n",
      "   ------------------ --------------------- 4.2/9.2 MB 1.1 MB/s eta 0:00:05\n",
      "   ------------------ --------------------- 4.2/9.2 MB 1.1 MB/s eta 0:00:05\n",
      "   ------------------ --------------------- 4.2/9.2 MB 1.1 MB/s eta 0:00:05\n",
      "   ------------------ --------------------- 4.2/9.2 MB 1.1 MB/s eta 0:00:05\n",
      "   ------------------ --------------------- 4.3/9.2 MB 1.1 MB/s eta 0:00:05\n",
      "   ------------------ --------------------- 4.3/9.2 MB 1.1 MB/s eta 0:00:05\n",
      "   ------------------- -------------------- 4.4/9.2 MB 1.1 MB/s eta 0:00:05\n",
      "   ------------------- -------------------- 4.4/9.2 MB 1.1 MB/s eta 0:00:05\n",
      "   ------------------- -------------------- 4.4/9.2 MB 1.1 MB/s eta 0:00:05\n",
      "   ------------------- -------------------- 4.4/9.2 MB 1.1 MB/s eta 0:00:05\n",
      "   ------------------- -------------------- 4.4/9.2 MB 1.1 MB/s eta 0:00:05\n",
      "   ------------------- -------------------- 4.6/9.2 MB 1.0 MB/s eta 0:00:05\n",
      "   ------------------- -------------------- 4.6/9.2 MB 1.0 MB/s eta 0:00:05\n",
      "   -------------------- ------------------- 4.7/9.2 MB 1.0 MB/s eta 0:00:05\n",
      "   -------------------- ------------------- 4.7/9.2 MB 1.0 MB/s eta 0:00:05\n",
      "   -------------------- ------------------- 4.8/9.2 MB 1.0 MB/s eta 0:00:05\n",
      "   -------------------- ------------------- 4.8/9.2 MB 1.0 MB/s eta 0:00:05\n",
      "   -------------------- ------------------- 4.8/9.2 MB 1.0 MB/s eta 0:00:05\n",
      "   -------------------- ------------------- 4.8/9.2 MB 1.0 MB/s eta 0:00:05\n",
      "   --------------------- ------------------ 5.0/9.2 MB 1.0 MB/s eta 0:00:05\n",
      "   --------------------- ------------------ 5.0/9.2 MB 1.0 MB/s eta 0:00:05\n",
      "   --------------------- ------------------ 5.0/9.2 MB 1.0 MB/s eta 0:00:05\n",
      "   --------------------- ------------------ 5.1/9.2 MB 1.0 MB/s eta 0:00:05\n",
      "   --------------------- ------------------ 5.1/9.2 MB 1.0 MB/s eta 0:00:05\n",
      "   --------------------- ------------------ 5.1/9.2 MB 1.0 MB/s eta 0:00:05\n",
      "   --------------------- ------------------ 5.1/9.2 MB 1.0 MB/s eta 0:00:05\n",
      "   ---------------------- ----------------- 5.2/9.2 MB 1.0 MB/s eta 0:00:05\n",
      "   ---------------------- ----------------- 5.2/9.2 MB 1.0 MB/s eta 0:00:05\n",
      "   ---------------------- ----------------- 5.2/9.2 MB 1.0 MB/s eta 0:00:05\n",
      "   ---------------------- ----------------- 5.2/9.2 MB 1.0 MB/s eta 0:00:05\n",
      "   ----------------------- ---------------- 5.4/9.2 MB 1.0 MB/s eta 0:00:04\n",
      "   ----------------------- ---------------- 5.4/9.2 MB 1.0 MB/s eta 0:00:04\n",
      "   ----------------------- ---------------- 5.4/9.2 MB 1.0 MB/s eta 0:00:04\n",
      "   ----------------------- ---------------- 5.4/9.2 MB 1.0 MB/s eta 0:00:04\n",
      "   ----------------------- ---------------- 5.4/9.2 MB 1.0 MB/s eta 0:00:04\n",
      "   ----------------------- ---------------- 5.4/9.2 MB 975.6 kB/s eta 0:00:04\n",
      "   ----------------------- ---------------- 5.5/9.2 MB 978.5 kB/s eta 0:00:04\n",
      "   ----------------------- ---------------- 5.5/9.2 MB 969.4 kB/s eta 0:00:04\n",
      "   ----------------------- ---------------- 5.5/9.2 MB 969.4 kB/s eta 0:00:04\n",
      "   ----------------------- ---------------- 5.5/9.2 MB 959.9 kB/s eta 0:00:04\n",
      "   ------------------------ --------------- 5.6/9.2 MB 970.7 kB/s eta 0:00:04\n",
      "   ------------------------ --------------- 5.6/9.2 MB 970.7 kB/s eta 0:00:04\n",
      "   ------------------------ --------------- 5.6/9.2 MB 970.7 kB/s eta 0:00:04\n",
      "   ------------------------ --------------- 5.8/9.2 MB 969.2 kB/s eta 0:00:04\n",
      "   ------------------------ --------------- 5.8/9.2 MB 969.2 kB/s eta 0:00:04\n",
      "   ------------------------ --------------- 5.8/9.2 MB 969.2 kB/s eta 0:00:04\n",
      "   ------------------------- -------------- 5.8/9.2 MB 955.3 kB/s eta 0:00:04\n",
      "   ------------------------- -------------- 5.9/9.2 MB 971.2 kB/s eta 0:00:04\n",
      "   ------------------------- -------------- 6.0/9.2 MB 973.1 kB/s eta 0:00:04\n",
      "   ------------------------- -------------- 6.0/9.2 MB 973.1 kB/s eta 0:00:04\n",
      "   ------------------------- -------------- 6.0/9.2 MB 973.1 kB/s eta 0:00:04\n",
      "   ------------------------- -------------- 6.0/9.2 MB 973.1 kB/s eta 0:00:04\n",
      "   ------------------------- -------------- 6.0/9.2 MB 973.1 kB/s eta 0:00:04\n",
      "   ------------------------- -------------- 6.0/9.2 MB 973.1 kB/s eta 0:00:04\n",
      "   -------------------------- ------------- 6.1/9.2 MB 936.2 kB/s eta 0:00:04\n",
      "   -------------------------- ------------- 6.2/9.2 MB 947.6 kB/s eta 0:00:04\n",
      "   -------------------------- ------------- 6.2/9.2 MB 947.6 kB/s eta 0:00:04\n",
      "   -------------------------- ------------- 6.2/9.2 MB 945.5 kB/s eta 0:00:04\n",
      "   -------------------------- ------------- 6.2/9.2 MB 945.5 kB/s eta 0:00:04\n",
      "   --------------------------- ------------ 6.3/9.2 MB 948.5 kB/s eta 0:00:04\n",
      "   --------------------------- ------------ 6.3/9.2 MB 948.5 kB/s eta 0:00:04\n",
      "   ---------------------------- ----------- 6.5/9.2 MB 956.5 kB/s eta 0:00:03\n",
      "   ---------------------------- ----------- 6.5/9.2 MB 956.5 kB/s eta 0:00:03\n",
      "   ---------------------------- ----------- 6.6/9.2 MB 957.7 kB/s eta 0:00:03\n",
      "   ---------------------------- ----------- 6.6/9.2 MB 961.4 kB/s eta 0:00:03\n",
      "   ----------------------------- ---------- 6.7/9.2 MB 962.4 kB/s eta 0:00:03\n",
      "   ----------------------------- ---------- 6.8/9.2 MB 964.7 kB/s eta 0:00:03\n",
      "   ----------------------------- ---------- 6.8/9.2 MB 961.2 kB/s eta 0:00:03\n",
      "   ----------------------------- ---------- 6.8/9.2 MB 967.0 kB/s eta 0:00:03\n",
      "   ----------------------------- ---------- 6.8/9.2 MB 967.0 kB/s eta 0:00:03\n",
      "   ----------------------------- ---------- 6.9/9.2 MB 963.7 kB/s eta 0:00:03\n",
      "   ----------------------------- ---------- 6.9/9.2 MB 963.7 kB/s eta 0:00:03\n",
      "   ------------------------------ --------- 7.0/9.2 MB 957.8 kB/s eta 0:00:03\n",
      "   ------------------------------ --------- 7.0/9.2 MB 957.8 kB/s eta 0:00:03\n",
      "   ------------------------------ --------- 7.0/9.2 MB 957.8 kB/s eta 0:00:03\n",
      "   ------------------------------ --------- 7.1/9.2 MB 951.3 kB/s eta 0:00:03\n",
      "   ------------------------------ --------- 7.1/9.2 MB 948.7 kB/s eta 0:00:03\n",
      "   ------------------------------ --------- 7.1/9.2 MB 949.6 kB/s eta 0:00:03\n",
      "   ------------------------------ --------- 7.1/9.2 MB 949.6 kB/s eta 0:00:03\n",
      "   ------------------------------- -------- 7.2/9.2 MB 945.9 kB/s eta 0:00:03\n",
      "   ------------------------------- -------- 7.2/9.2 MB 945.9 kB/s eta 0:00:03\n",
      "   ------------------------------- -------- 7.3/9.2 MB 947.7 kB/s eta 0:00:03\n",
      "   ------------------------------- -------- 7.3/9.2 MB 938.8 kB/s eta 0:00:03\n",
      "   ------------------------------- -------- 7.3/9.2 MB 944.1 kB/s eta 0:00:03\n",
      "   ------------------------------- -------- 7.4/9.2 MB 939.9 kB/s eta 0:00:02\n",
      "   -------------------------------- ------- 7.5/9.2 MB 946.6 kB/s eta 0:00:02\n",
      "   -------------------------------- ------- 7.5/9.2 MB 946.6 kB/s eta 0:00:02\n",
      "   -------------------------------- ------- 7.5/9.2 MB 944.0 kB/s eta 0:00:02\n",
      "   -------------------------------- ------- 7.5/9.2 MB 944.0 kB/s eta 0:00:02\n",
      "   -------------------------------- ------- 7.6/9.2 MB 936.2 kB/s eta 0:00:02\n",
      "   --------------------------------- ------ 7.7/9.2 MB 945.2 kB/s eta 0:00:02\n",
      "   --------------------------------- ------ 7.7/9.2 MB 944.1 kB/s eta 0:00:02\n",
      "   --------------------------------- ------ 7.7/9.2 MB 944.2 kB/s eta 0:00:02\n",
      "   --------------------------------- ------ 7.7/9.2 MB 944.2 kB/s eta 0:00:02\n",
      "   --------------------------------- ------ 7.8/9.2 MB 944.1 kB/s eta 0:00:02\n",
      "   --------------------------------- ------ 7.8/9.2 MB 944.1 kB/s eta 0:00:02\n",
      "   ---------------------------------- ----- 7.9/9.2 MB 944.6 kB/s eta 0:00:02\n",
      "   ---------------------------------- ----- 7.9/9.2 MB 938.8 kB/s eta 0:00:02\n",
      "   ---------------------------------- ----- 8.0/9.2 MB 947.5 kB/s eta 0:00:02\n",
      "   ---------------------------------- ----- 8.0/9.2 MB 947.5 kB/s eta 0:00:02\n",
      "   ----------------------------------- ---- 8.2/9.2 MB 948.5 kB/s eta 0:00:02\n",
      "   ----------------------------------- ---- 8.2/9.2 MB 948.5 kB/s eta 0:00:02\n",
      "   ----------------------------------- ---- 8.2/9.2 MB 948.5 kB/s eta 0:00:02\n",
      "   ----------------------------------- ---- 8.2/9.2 MB 942.6 kB/s eta 0:00:02\n",
      "   ----------------------------------- ---- 8.3/9.2 MB 942.7 kB/s eta 0:00:02\n",
      "   ------------------------------------ --- 8.3/9.2 MB 947.5 kB/s eta 0:00:01\n",
      "   ------------------------------------ --- 8.4/9.2 MB 945.5 kB/s eta 0:00:01\n",
      "   ------------------------------------ --- 8.5/9.2 MB 948.6 kB/s eta 0:00:01\n",
      "   ------------------------------------ --- 8.5/9.2 MB 945.3 kB/s eta 0:00:01\n",
      "   ------------------------------------- -- 8.6/9.2 MB 949.5 kB/s eta 0:00:01\n",
      "   ------------------------------------- -- 8.6/9.2 MB 946.8 kB/s eta 0:00:01\n",
      "   ------------------------------------- -- 8.7/9.2 MB 954.4 kB/s eta 0:00:01\n",
      "   ------------------------------------- -- 8.7/9.2 MB 954.4 kB/s eta 0:00:01\n",
      "   ------------------------------------- -- 8.7/9.2 MB 951.2 kB/s eta 0:00:01\n",
      "   -------------------------------------- - 8.8/9.2 MB 951.9 kB/s eta 0:00:01\n",
      "   -------------------------------------- - 8.8/9.2 MB 952.2 kB/s eta 0:00:01\n",
      "   -------------------------------------- - 8.9/9.2 MB 956.6 kB/s eta 0:00:01\n",
      "   -------------------------------------- - 8.9/9.2 MB 956.6 kB/s eta 0:00:01\n",
      "   ---------------------------------------  9.1/9.2 MB 960.7 kB/s eta 0:00:01\n",
      "   ---------------------------------------  9.1/9.2 MB 960.9 kB/s eta 0:00:01\n",
      "   ---------------------------------------  9.1/9.2 MB 961.5 kB/s eta 0:00:01\n",
      "   ---------------------------------------  9.2/9.2 MB 955.8 kB/s eta 0:00:01\n",
      "   ---------------------------------------- 9.2/9.2 MB 960.6 kB/s eta 0:00:00\n",
      "Installing collected packages: scikit-learn\n",
      "  Attempting uninstall: scikit-learn\n",
      "    Found existing installation: scikit-learn 1.1.3\n",
      "    Uninstalling scikit-learn-1.1.3:\n",
      "      Successfully uninstalled scikit-learn-1.1.3\n",
      "Note: you may need to restart the kernel to use updated packages.\n"
     ]
    },
    {
     "name": "stderr",
     "output_type": "stream",
     "text": [
      "ERROR: Could not install packages due to an OSError: [WinError 5] Отказано в доступе: 'C:\\\\Users\\\\amish\\\\AppData\\\\Local\\\\Programs\\\\Python\\\\Python310\\\\Lib\\\\site-packages\\\\~-learn\\\\.libs\\\\msvcp140.dll'\n",
      "Consider using the `--user` option or check the permissions.\n",
      "\n"
     ]
    },
    {
     "name": "stdout",
     "output_type": "stream",
     "text": [
      "Requirement already satisfied: matplotlib in c:\\users\\amish\\appdata\\local\\programs\\python\\python310\\lib\\site-packages (3.7.1)\n",
      "Requirement already satisfied: contourpy>=1.0.1 in c:\\users\\amish\\appdata\\local\\programs\\python\\python310\\lib\\site-packages (from matplotlib) (1.0.7)\n",
      "Requirement already satisfied: cycler>=0.10 in c:\\users\\amish\\appdata\\local\\programs\\python\\python310\\lib\\site-packages (from matplotlib) (0.11.0)\n",
      "Requirement already satisfied: fonttools>=4.22.0 in c:\\users\\amish\\appdata\\local\\programs\\python\\python310\\lib\\site-packages (from matplotlib) (4.39.3)\n",
      "Requirement already satisfied: kiwisolver>=1.0.1 in c:\\users\\amish\\appdata\\local\\programs\\python\\python310\\lib\\site-packages (from matplotlib) (1.4.4)\n",
      "Requirement already satisfied: numpy>=1.20 in c:\\users\\amish\\appdata\\local\\programs\\python\\python310\\lib\\site-packages (from matplotlib) (1.24.2)\n",
      "Requirement already satisfied: packaging>=20.0 in c:\\users\\amish\\appdata\\local\\programs\\python\\python310\\lib\\site-packages (from matplotlib) (23.0)\n",
      "Requirement already satisfied: pillow>=6.2.0 in c:\\users\\amish\\appdata\\local\\programs\\python\\python310\\lib\\site-packages (from matplotlib) (9.5.0)\n",
      "Requirement already satisfied: pyparsing>=2.3.1 in c:\\users\\amish\\appdata\\local\\programs\\python\\python310\\lib\\site-packages (from matplotlib) (3.0.9)\n",
      "Requirement already satisfied: python-dateutil>=2.7 in c:\\users\\amish\\appdata\\local\\programs\\python\\python310\\lib\\site-packages (from matplotlib) (2.8.2)\n",
      "Requirement already satisfied: six>=1.5 in c:\\users\\amish\\appdata\\local\\programs\\python\\python310\\lib\\site-packages (from python-dateutil>=2.7->matplotlib) (1.16.0)\n",
      "Note: you may need to restart the kernel to use updated packages.\n",
      "Requirement already satisfied: seaborn in c:\\users\\amish\\appdata\\local\\programs\\python\\python310\\lib\\site-packages (0.12.2)\n",
      "Requirement already satisfied: numpy!=1.24.0,>=1.17 in c:\\users\\amish\\appdata\\local\\programs\\python\\python310\\lib\\site-packages (from seaborn) (1.24.2)\n",
      "Requirement already satisfied: pandas>=0.25 in c:\\users\\amish\\appdata\\local\\programs\\python\\python310\\lib\\site-packages (from seaborn) (2.0.0)\n",
      "Requirement already satisfied: matplotlib!=3.6.1,>=3.1 in c:\\users\\amish\\appdata\\local\\programs\\python\\python310\\lib\\site-packages (from seaborn) (3.7.1)\n",
      "Requirement already satisfied: contourpy>=1.0.1 in c:\\users\\amish\\appdata\\local\\programs\\python\\python310\\lib\\site-packages (from matplotlib!=3.6.1,>=3.1->seaborn) (1.0.7)\n",
      "Requirement already satisfied: cycler>=0.10 in c:\\users\\amish\\appdata\\local\\programs\\python\\python310\\lib\\site-packages (from matplotlib!=3.6.1,>=3.1->seaborn) (0.11.0)\n",
      "Requirement already satisfied: fonttools>=4.22.0 in c:\\users\\amish\\appdata\\local\\programs\\python\\python310\\lib\\site-packages (from matplotlib!=3.6.1,>=3.1->seaborn) (4.39.3)\n",
      "Requirement already satisfied: kiwisolver>=1.0.1 in c:\\users\\amish\\appdata\\local\\programs\\python\\python310\\lib\\site-packages (from matplotlib!=3.6.1,>=3.1->seaborn) (1.4.4)\n",
      "Requirement already satisfied: packaging>=20.0 in c:\\users\\amish\\appdata\\local\\programs\\python\\python310\\lib\\site-packages (from matplotlib!=3.6.1,>=3.1->seaborn) (23.0)\n",
      "Requirement already satisfied: pillow>=6.2.0 in c:\\users\\amish\\appdata\\local\\programs\\python\\python310\\lib\\site-packages (from matplotlib!=3.6.1,>=3.1->seaborn) (9.5.0)\n",
      "Requirement already satisfied: pyparsing>=2.3.1 in c:\\users\\amish\\appdata\\local\\programs\\python\\python310\\lib\\site-packages (from matplotlib!=3.6.1,>=3.1->seaborn) (3.0.9)\n",
      "Requirement already satisfied: python-dateutil>=2.7 in c:\\users\\amish\\appdata\\local\\programs\\python\\python310\\lib\\site-packages (from matplotlib!=3.6.1,>=3.1->seaborn) (2.8.2)\n",
      "Requirement already satisfied: pytz>=2020.1 in c:\\users\\amish\\appdata\\local\\programs\\python\\python310\\lib\\site-packages (from pandas>=0.25->seaborn) (2023.3)\n",
      "Requirement already satisfied: tzdata>=2022.1 in c:\\users\\amish\\appdata\\local\\programs\\python\\python310\\lib\\site-packages (from pandas>=0.25->seaborn) (2023.3)\n",
      "Requirement already satisfied: six>=1.5 in c:\\users\\amish\\appdata\\local\\programs\\python\\python310\\lib\\site-packages (from python-dateutil>=2.7->matplotlib!=3.6.1,>=3.1->seaborn) (1.16.0)\n",
      "Note: you may need to restart the kernel to use updated packages.\n",
      "Requirement already satisfied: catboost in c:\\users\\amish\\appdata\\local\\programs\\python\\python310\\lib\\site-packages (1.1.1)\n",
      "Requirement already satisfied: graphviz in c:\\users\\amish\\appdata\\local\\programs\\python\\python310\\lib\\site-packages (from catboost) (0.20.1)\n",
      "Requirement already satisfied: matplotlib in c:\\users\\amish\\appdata\\local\\programs\\python\\python310\\lib\\site-packages (from catboost) (3.7.1)\n",
      "Requirement already satisfied: numpy>=1.16.0 in c:\\users\\amish\\appdata\\local\\programs\\python\\python310\\lib\\site-packages (from catboost) (1.24.2)\n",
      "Requirement already satisfied: pandas>=0.24.0 in c:\\users\\amish\\appdata\\local\\programs\\python\\python310\\lib\\site-packages (from catboost) (2.0.0)\n",
      "Requirement already satisfied: scipy in c:\\users\\amish\\appdata\\local\\programs\\python\\python310\\lib\\site-packages (from catboost) (1.10.1)\n",
      "Requirement already satisfied: plotly in c:\\users\\amish\\appdata\\local\\programs\\python\\python310\\lib\\site-packages (from catboost) (5.14.1)\n",
      "Requirement already satisfied: six in c:\\users\\amish\\appdata\\local\\programs\\python\\python310\\lib\\site-packages (from catboost) (1.16.0)\n",
      "Requirement already satisfied: python-dateutil>=2.8.2 in c:\\users\\amish\\appdata\\local\\programs\\python\\python310\\lib\\site-packages (from pandas>=0.24.0->catboost) (2.8.2)\n",
      "Requirement already satisfied: pytz>=2020.1 in c:\\users\\amish\\appdata\\local\\programs\\python\\python310\\lib\\site-packages (from pandas>=0.24.0->catboost) (2023.3)\n",
      "Requirement already satisfied: tzdata>=2022.1 in c:\\users\\amish\\appdata\\local\\programs\\python\\python310\\lib\\site-packages (from pandas>=0.24.0->catboost) (2023.3)\n",
      "Requirement already satisfied: contourpy>=1.0.1 in c:\\users\\amish\\appdata\\local\\programs\\python\\python310\\lib\\site-packages (from matplotlib->catboost) (1.0.7)\n",
      "Requirement already satisfied: cycler>=0.10 in c:\\users\\amish\\appdata\\local\\programs\\python\\python310\\lib\\site-packages (from matplotlib->catboost) (0.11.0)\n",
      "Requirement already satisfied: fonttools>=4.22.0 in c:\\users\\amish\\appdata\\local\\programs\\python\\python310\\lib\\site-packages (from matplotlib->catboost) (4.39.3)\n",
      "Requirement already satisfied: kiwisolver>=1.0.1 in c:\\users\\amish\\appdata\\local\\programs\\python\\python310\\lib\\site-packages (from matplotlib->catboost) (1.4.4)\n",
      "Requirement already satisfied: packaging>=20.0 in c:\\users\\amish\\appdata\\local\\programs\\python\\python310\\lib\\site-packages (from matplotlib->catboost) (23.0)\n",
      "Requirement already satisfied: pillow>=6.2.0 in c:\\users\\amish\\appdata\\local\\programs\\python\\python310\\lib\\site-packages (from matplotlib->catboost) (9.5.0)\n",
      "Requirement already satisfied: pyparsing>=2.3.1 in c:\\users\\amish\\appdata\\local\\programs\\python\\python310\\lib\\site-packages (from matplotlib->catboost) (3.0.9)\n",
      "Requirement already satisfied: tenacity>=6.2.0 in c:\\users\\amish\\appdata\\local\\programs\\python\\python310\\lib\\site-packages (from plotly->catboost) (8.2.2)\n",
      "Note: you may need to restart the kernel to use updated packages.\n"
     ]
    }
   ],
   "source": [
    "# Загружу все необходимые библиотеки:\n",
    "%pip install --upgrade scikit-learn\n",
    "%pip install matplotlib\n",
    "%pip install seaborn\n",
    "%pip install catboost"
   ]
  },
  {
   "cell_type": "code",
   "execution_count": 2,
   "metadata": {},
   "outputs": [],
   "source": [
    "# Импортирую все необходимые библиотеки:\n",
    "import pandas as pd \n",
    "import numpy as np \n",
    "import matplotlib.pyplot as plt\n",
    "import seaborn as sn\n",
    "\n",
    "import warnings\n",
    "\n",
    "import time \n",
    "\n",
    "import sklearn\n",
    "\n",
    "from sklearn.metrics import roc_auc_score\n",
    "from sklearn.model_selection import train_test_split, cross_val_score, GridSearchCV\n",
    "from sklearn.preprocessing import (\n",
    "    OneHotEncoder,\n",
    "    StandardScaler\n",
    ")\n",
    "\n",
    "\n",
    "from catboost import CatBoostClassifier, Pool\n",
    "from sklearn.ensemble import RandomForestClassifier\n",
    "from sklearn.linear_model import LogisticRegression\n",
    "from sklearn.model_selection import StratifiedKFold\n",
    "from sklearn.pipeline import make_pipeline, Pipeline\n",
    "from sklearn.model_selection import RandomizedSearchCV\n",
    "\n",
    "\n",
    "\n",
    "warnings.filterwarnings(\"ignore\")\n",
    "\n",
    "RND = 100423"
   ]
  },
  {
   "cell_type": "code",
   "execution_count": 3,
   "metadata": {},
   "outputs": [],
   "source": [
    "# Загружу данные:\n",
    "contract = pd.read_csv('https://code.s3.yandex.net/datasets/contract_new.csv')\n",
    "personal = pd.read_csv('https://code.s3.yandex.net/datasets/personal_new.csv')\n",
    "internet = pd.read_csv('https://code.s3.yandex.net/datasets/internet_new.csv')\n",
    "phone = pd.read_csv('https://code.s3.yandex.net/datasets/phone_new.csv')"
   ]
  },
  {
   "cell_type": "markdown",
   "metadata": {},
   "source": [
    "Изучу по какому столбцу можно объединить данные, так как далее изучать датасет, и работать с ними легче совместно."
   ]
  },
  {
   "cell_type": "code",
   "execution_count": 4,
   "metadata": {},
   "outputs": [
    {
     "data": {
      "text/html": [
       "<div>\n",
       "<style scoped>\n",
       "    .dataframe tbody tr th:only-of-type {\n",
       "        vertical-align: middle;\n",
       "    }\n",
       "\n",
       "    .dataframe tbody tr th {\n",
       "        vertical-align: top;\n",
       "    }\n",
       "\n",
       "    .dataframe thead th {\n",
       "        text-align: right;\n",
       "    }\n",
       "</style>\n",
       "<table border=\"1\" class=\"dataframe\">\n",
       "  <thead>\n",
       "    <tr style=\"text-align: right;\">\n",
       "      <th></th>\n",
       "      <th>customerID</th>\n",
       "      <th>BeginDate</th>\n",
       "      <th>EndDate</th>\n",
       "      <th>Type</th>\n",
       "      <th>PaperlessBilling</th>\n",
       "      <th>PaymentMethod</th>\n",
       "      <th>MonthlyCharges</th>\n",
       "      <th>TotalCharges</th>\n",
       "    </tr>\n",
       "  </thead>\n",
       "  <tbody>\n",
       "    <tr>\n",
       "      <th>0</th>\n",
       "      <td>7590-VHVEG</td>\n",
       "      <td>2020-01-01</td>\n",
       "      <td>No</td>\n",
       "      <td>Month-to-month</td>\n",
       "      <td>Yes</td>\n",
       "      <td>Electronic check</td>\n",
       "      <td>29.85</td>\n",
       "      <td>31.04</td>\n",
       "    </tr>\n",
       "    <tr>\n",
       "      <th>1</th>\n",
       "      <td>5575-GNVDE</td>\n",
       "      <td>2017-04-01</td>\n",
       "      <td>No</td>\n",
       "      <td>One year</td>\n",
       "      <td>No</td>\n",
       "      <td>Mailed check</td>\n",
       "      <td>56.95</td>\n",
       "      <td>2071.84</td>\n",
       "    </tr>\n",
       "    <tr>\n",
       "      <th>2</th>\n",
       "      <td>3668-QPYBK</td>\n",
       "      <td>2019-10-01</td>\n",
       "      <td>No</td>\n",
       "      <td>Month-to-month</td>\n",
       "      <td>Yes</td>\n",
       "      <td>Mailed check</td>\n",
       "      <td>53.85</td>\n",
       "      <td>226.17</td>\n",
       "    </tr>\n",
       "    <tr>\n",
       "      <th>3</th>\n",
       "      <td>7795-CFOCW</td>\n",
       "      <td>2016-05-01</td>\n",
       "      <td>No</td>\n",
       "      <td>One year</td>\n",
       "      <td>No</td>\n",
       "      <td>Bank transfer (automatic)</td>\n",
       "      <td>42.30</td>\n",
       "      <td>1960.6</td>\n",
       "    </tr>\n",
       "    <tr>\n",
       "      <th>4</th>\n",
       "      <td>9237-HQITU</td>\n",
       "      <td>2019-09-01</td>\n",
       "      <td>No</td>\n",
       "      <td>Month-to-month</td>\n",
       "      <td>Yes</td>\n",
       "      <td>Electronic check</td>\n",
       "      <td>70.70</td>\n",
       "      <td>353.5</td>\n",
       "    </tr>\n",
       "  </tbody>\n",
       "</table>\n",
       "</div>"
      ],
      "text/plain": [
       "   customerID   BeginDate EndDate            Type PaperlessBilling   \n",
       "0  7590-VHVEG  2020-01-01      No  Month-to-month              Yes  \\\n",
       "1  5575-GNVDE  2017-04-01      No        One year               No   \n",
       "2  3668-QPYBK  2019-10-01      No  Month-to-month              Yes   \n",
       "3  7795-CFOCW  2016-05-01      No        One year               No   \n",
       "4  9237-HQITU  2019-09-01      No  Month-to-month              Yes   \n",
       "\n",
       "               PaymentMethod  MonthlyCharges TotalCharges  \n",
       "0           Electronic check           29.85        31.04  \n",
       "1               Mailed check           56.95      2071.84  \n",
       "2               Mailed check           53.85       226.17  \n",
       "3  Bank transfer (automatic)           42.30       1960.6  \n",
       "4           Electronic check           70.70        353.5  "
      ]
     },
     "metadata": {},
     "output_type": "display_data"
    },
    {
     "data": {
      "text/html": [
       "<div>\n",
       "<style scoped>\n",
       "    .dataframe tbody tr th:only-of-type {\n",
       "        vertical-align: middle;\n",
       "    }\n",
       "\n",
       "    .dataframe tbody tr th {\n",
       "        vertical-align: top;\n",
       "    }\n",
       "\n",
       "    .dataframe thead th {\n",
       "        text-align: right;\n",
       "    }\n",
       "</style>\n",
       "<table border=\"1\" class=\"dataframe\">\n",
       "  <thead>\n",
       "    <tr style=\"text-align: right;\">\n",
       "      <th></th>\n",
       "      <th>customerID</th>\n",
       "      <th>gender</th>\n",
       "      <th>SeniorCitizen</th>\n",
       "      <th>Partner</th>\n",
       "      <th>Dependents</th>\n",
       "    </tr>\n",
       "  </thead>\n",
       "  <tbody>\n",
       "    <tr>\n",
       "      <th>0</th>\n",
       "      <td>7590-VHVEG</td>\n",
       "      <td>Female</td>\n",
       "      <td>0</td>\n",
       "      <td>Yes</td>\n",
       "      <td>No</td>\n",
       "    </tr>\n",
       "    <tr>\n",
       "      <th>1</th>\n",
       "      <td>5575-GNVDE</td>\n",
       "      <td>Male</td>\n",
       "      <td>0</td>\n",
       "      <td>No</td>\n",
       "      <td>No</td>\n",
       "    </tr>\n",
       "    <tr>\n",
       "      <th>2</th>\n",
       "      <td>3668-QPYBK</td>\n",
       "      <td>Male</td>\n",
       "      <td>0</td>\n",
       "      <td>No</td>\n",
       "      <td>No</td>\n",
       "    </tr>\n",
       "    <tr>\n",
       "      <th>3</th>\n",
       "      <td>7795-CFOCW</td>\n",
       "      <td>Male</td>\n",
       "      <td>0</td>\n",
       "      <td>No</td>\n",
       "      <td>No</td>\n",
       "    </tr>\n",
       "    <tr>\n",
       "      <th>4</th>\n",
       "      <td>9237-HQITU</td>\n",
       "      <td>Female</td>\n",
       "      <td>0</td>\n",
       "      <td>No</td>\n",
       "      <td>No</td>\n",
       "    </tr>\n",
       "  </tbody>\n",
       "</table>\n",
       "</div>"
      ],
      "text/plain": [
       "   customerID  gender  SeniorCitizen Partner Dependents\n",
       "0  7590-VHVEG  Female              0     Yes         No\n",
       "1  5575-GNVDE    Male              0      No         No\n",
       "2  3668-QPYBK    Male              0      No         No\n",
       "3  7795-CFOCW    Male              0      No         No\n",
       "4  9237-HQITU  Female              0      No         No"
      ]
     },
     "metadata": {},
     "output_type": "display_data"
    },
    {
     "data": {
      "text/html": [
       "<div>\n",
       "<style scoped>\n",
       "    .dataframe tbody tr th:only-of-type {\n",
       "        vertical-align: middle;\n",
       "    }\n",
       "\n",
       "    .dataframe tbody tr th {\n",
       "        vertical-align: top;\n",
       "    }\n",
       "\n",
       "    .dataframe thead th {\n",
       "        text-align: right;\n",
       "    }\n",
       "</style>\n",
       "<table border=\"1\" class=\"dataframe\">\n",
       "  <thead>\n",
       "    <tr style=\"text-align: right;\">\n",
       "      <th></th>\n",
       "      <th>customerID</th>\n",
       "      <th>InternetService</th>\n",
       "      <th>OnlineSecurity</th>\n",
       "      <th>OnlineBackup</th>\n",
       "      <th>DeviceProtection</th>\n",
       "      <th>TechSupport</th>\n",
       "      <th>StreamingTV</th>\n",
       "      <th>StreamingMovies</th>\n",
       "    </tr>\n",
       "  </thead>\n",
       "  <tbody>\n",
       "    <tr>\n",
       "      <th>0</th>\n",
       "      <td>7590-VHVEG</td>\n",
       "      <td>DSL</td>\n",
       "      <td>No</td>\n",
       "      <td>Yes</td>\n",
       "      <td>No</td>\n",
       "      <td>No</td>\n",
       "      <td>No</td>\n",
       "      <td>No</td>\n",
       "    </tr>\n",
       "    <tr>\n",
       "      <th>1</th>\n",
       "      <td>5575-GNVDE</td>\n",
       "      <td>DSL</td>\n",
       "      <td>Yes</td>\n",
       "      <td>No</td>\n",
       "      <td>Yes</td>\n",
       "      <td>No</td>\n",
       "      <td>No</td>\n",
       "      <td>No</td>\n",
       "    </tr>\n",
       "    <tr>\n",
       "      <th>2</th>\n",
       "      <td>3668-QPYBK</td>\n",
       "      <td>DSL</td>\n",
       "      <td>Yes</td>\n",
       "      <td>Yes</td>\n",
       "      <td>No</td>\n",
       "      <td>No</td>\n",
       "      <td>No</td>\n",
       "      <td>No</td>\n",
       "    </tr>\n",
       "    <tr>\n",
       "      <th>3</th>\n",
       "      <td>7795-CFOCW</td>\n",
       "      <td>DSL</td>\n",
       "      <td>Yes</td>\n",
       "      <td>No</td>\n",
       "      <td>Yes</td>\n",
       "      <td>Yes</td>\n",
       "      <td>No</td>\n",
       "      <td>No</td>\n",
       "    </tr>\n",
       "    <tr>\n",
       "      <th>4</th>\n",
       "      <td>9237-HQITU</td>\n",
       "      <td>Fiber optic</td>\n",
       "      <td>No</td>\n",
       "      <td>No</td>\n",
       "      <td>No</td>\n",
       "      <td>No</td>\n",
       "      <td>No</td>\n",
       "      <td>No</td>\n",
       "    </tr>\n",
       "  </tbody>\n",
       "</table>\n",
       "</div>"
      ],
      "text/plain": [
       "   customerID InternetService OnlineSecurity OnlineBackup DeviceProtection   \n",
       "0  7590-VHVEG             DSL             No          Yes               No  \\\n",
       "1  5575-GNVDE             DSL            Yes           No              Yes   \n",
       "2  3668-QPYBK             DSL            Yes          Yes               No   \n",
       "3  7795-CFOCW             DSL            Yes           No              Yes   \n",
       "4  9237-HQITU     Fiber optic             No           No               No   \n",
       "\n",
       "  TechSupport StreamingTV StreamingMovies  \n",
       "0          No          No              No  \n",
       "1          No          No              No  \n",
       "2          No          No              No  \n",
       "3         Yes          No              No  \n",
       "4          No          No              No  "
      ]
     },
     "metadata": {},
     "output_type": "display_data"
    },
    {
     "data": {
      "text/html": [
       "<div>\n",
       "<style scoped>\n",
       "    .dataframe tbody tr th:only-of-type {\n",
       "        vertical-align: middle;\n",
       "    }\n",
       "\n",
       "    .dataframe tbody tr th {\n",
       "        vertical-align: top;\n",
       "    }\n",
       "\n",
       "    .dataframe thead th {\n",
       "        text-align: right;\n",
       "    }\n",
       "</style>\n",
       "<table border=\"1\" class=\"dataframe\">\n",
       "  <thead>\n",
       "    <tr style=\"text-align: right;\">\n",
       "      <th></th>\n",
       "      <th>customerID</th>\n",
       "      <th>MultipleLines</th>\n",
       "    </tr>\n",
       "  </thead>\n",
       "  <tbody>\n",
       "    <tr>\n",
       "      <th>0</th>\n",
       "      <td>5575-GNVDE</td>\n",
       "      <td>No</td>\n",
       "    </tr>\n",
       "    <tr>\n",
       "      <th>1</th>\n",
       "      <td>3668-QPYBK</td>\n",
       "      <td>No</td>\n",
       "    </tr>\n",
       "    <tr>\n",
       "      <th>2</th>\n",
       "      <td>9237-HQITU</td>\n",
       "      <td>No</td>\n",
       "    </tr>\n",
       "    <tr>\n",
       "      <th>3</th>\n",
       "      <td>9305-CDSKC</td>\n",
       "      <td>Yes</td>\n",
       "    </tr>\n",
       "    <tr>\n",
       "      <th>4</th>\n",
       "      <td>1452-KIOVK</td>\n",
       "      <td>Yes</td>\n",
       "    </tr>\n",
       "  </tbody>\n",
       "</table>\n",
       "</div>"
      ],
      "text/plain": [
       "   customerID MultipleLines\n",
       "0  5575-GNVDE            No\n",
       "1  3668-QPYBK            No\n",
       "2  9237-HQITU            No\n",
       "3  9305-CDSKC           Yes\n",
       "4  1452-KIOVK           Yes"
      ]
     },
     "metadata": {},
     "output_type": "display_data"
    }
   ],
   "source": [
    "# Изучу, по какому столбцу можно объединить данные:\n",
    "display(contract.head())\n",
    "display(personal.head())\n",
    "display(internet.head())\n",
    "display(phone.head())"
   ]
  },
  {
   "cell_type": "code",
   "execution_count": 5,
   "metadata": {},
   "outputs": [
    {
     "data": {
      "text/html": [
       "<div>\n",
       "<style scoped>\n",
       "    .dataframe tbody tr th:only-of-type {\n",
       "        vertical-align: middle;\n",
       "    }\n",
       "\n",
       "    .dataframe tbody tr th {\n",
       "        vertical-align: top;\n",
       "    }\n",
       "\n",
       "    .dataframe thead th {\n",
       "        text-align: right;\n",
       "    }\n",
       "</style>\n",
       "<table border=\"1\" class=\"dataframe\">\n",
       "  <thead>\n",
       "    <tr style=\"text-align: right;\">\n",
       "      <th></th>\n",
       "      <th>customerID</th>\n",
       "      <th>BeginDate</th>\n",
       "      <th>EndDate</th>\n",
       "      <th>Type</th>\n",
       "      <th>PaperlessBilling</th>\n",
       "      <th>PaymentMethod</th>\n",
       "      <th>MonthlyCharges</th>\n",
       "      <th>TotalCharges</th>\n",
       "      <th>gender</th>\n",
       "      <th>SeniorCitizen</th>\n",
       "      <th>Partner</th>\n",
       "      <th>Dependents</th>\n",
       "      <th>InternetService</th>\n",
       "      <th>OnlineSecurity</th>\n",
       "      <th>OnlineBackup</th>\n",
       "      <th>DeviceProtection</th>\n",
       "      <th>TechSupport</th>\n",
       "      <th>StreamingTV</th>\n",
       "      <th>StreamingMovies</th>\n",
       "      <th>MultipleLines</th>\n",
       "    </tr>\n",
       "  </thead>\n",
       "  <tbody>\n",
       "    <tr>\n",
       "      <th>0</th>\n",
       "      <td>7590-VHVEG</td>\n",
       "      <td>2020-01-01</td>\n",
       "      <td>No</td>\n",
       "      <td>Month-to-month</td>\n",
       "      <td>Yes</td>\n",
       "      <td>Electronic check</td>\n",
       "      <td>29.85</td>\n",
       "      <td>31.04</td>\n",
       "      <td>Female</td>\n",
       "      <td>0</td>\n",
       "      <td>Yes</td>\n",
       "      <td>No</td>\n",
       "      <td>DSL</td>\n",
       "      <td>No</td>\n",
       "      <td>Yes</td>\n",
       "      <td>No</td>\n",
       "      <td>No</td>\n",
       "      <td>No</td>\n",
       "      <td>No</td>\n",
       "      <td>NaN</td>\n",
       "    </tr>\n",
       "    <tr>\n",
       "      <th>1</th>\n",
       "      <td>5575-GNVDE</td>\n",
       "      <td>2017-04-01</td>\n",
       "      <td>No</td>\n",
       "      <td>One year</td>\n",
       "      <td>No</td>\n",
       "      <td>Mailed check</td>\n",
       "      <td>56.95</td>\n",
       "      <td>2071.84</td>\n",
       "      <td>Male</td>\n",
       "      <td>0</td>\n",
       "      <td>No</td>\n",
       "      <td>No</td>\n",
       "      <td>DSL</td>\n",
       "      <td>Yes</td>\n",
       "      <td>No</td>\n",
       "      <td>Yes</td>\n",
       "      <td>No</td>\n",
       "      <td>No</td>\n",
       "      <td>No</td>\n",
       "      <td>No</td>\n",
       "    </tr>\n",
       "    <tr>\n",
       "      <th>2</th>\n",
       "      <td>3668-QPYBK</td>\n",
       "      <td>2019-10-01</td>\n",
       "      <td>No</td>\n",
       "      <td>Month-to-month</td>\n",
       "      <td>Yes</td>\n",
       "      <td>Mailed check</td>\n",
       "      <td>53.85</td>\n",
       "      <td>226.17</td>\n",
       "      <td>Male</td>\n",
       "      <td>0</td>\n",
       "      <td>No</td>\n",
       "      <td>No</td>\n",
       "      <td>DSL</td>\n",
       "      <td>Yes</td>\n",
       "      <td>Yes</td>\n",
       "      <td>No</td>\n",
       "      <td>No</td>\n",
       "      <td>No</td>\n",
       "      <td>No</td>\n",
       "      <td>No</td>\n",
       "    </tr>\n",
       "    <tr>\n",
       "      <th>3</th>\n",
       "      <td>7795-CFOCW</td>\n",
       "      <td>2016-05-01</td>\n",
       "      <td>No</td>\n",
       "      <td>One year</td>\n",
       "      <td>No</td>\n",
       "      <td>Bank transfer (automatic)</td>\n",
       "      <td>42.30</td>\n",
       "      <td>1960.6</td>\n",
       "      <td>Male</td>\n",
       "      <td>0</td>\n",
       "      <td>No</td>\n",
       "      <td>No</td>\n",
       "      <td>DSL</td>\n",
       "      <td>Yes</td>\n",
       "      <td>No</td>\n",
       "      <td>Yes</td>\n",
       "      <td>Yes</td>\n",
       "      <td>No</td>\n",
       "      <td>No</td>\n",
       "      <td>NaN</td>\n",
       "    </tr>\n",
       "    <tr>\n",
       "      <th>4</th>\n",
       "      <td>9237-HQITU</td>\n",
       "      <td>2019-09-01</td>\n",
       "      <td>No</td>\n",
       "      <td>Month-to-month</td>\n",
       "      <td>Yes</td>\n",
       "      <td>Electronic check</td>\n",
       "      <td>70.70</td>\n",
       "      <td>353.5</td>\n",
       "      <td>Female</td>\n",
       "      <td>0</td>\n",
       "      <td>No</td>\n",
       "      <td>No</td>\n",
       "      <td>Fiber optic</td>\n",
       "      <td>No</td>\n",
       "      <td>No</td>\n",
       "      <td>No</td>\n",
       "      <td>No</td>\n",
       "      <td>No</td>\n",
       "      <td>No</td>\n",
       "      <td>No</td>\n",
       "    </tr>\n",
       "  </tbody>\n",
       "</table>\n",
       "</div>"
      ],
      "text/plain": [
       "   customerID   BeginDate EndDate            Type PaperlessBilling   \n",
       "0  7590-VHVEG  2020-01-01      No  Month-to-month              Yes  \\\n",
       "1  5575-GNVDE  2017-04-01      No        One year               No   \n",
       "2  3668-QPYBK  2019-10-01      No  Month-to-month              Yes   \n",
       "3  7795-CFOCW  2016-05-01      No        One year               No   \n",
       "4  9237-HQITU  2019-09-01      No  Month-to-month              Yes   \n",
       "\n",
       "               PaymentMethod  MonthlyCharges TotalCharges  gender   \n",
       "0           Electronic check           29.85        31.04  Female  \\\n",
       "1               Mailed check           56.95      2071.84    Male   \n",
       "2               Mailed check           53.85       226.17    Male   \n",
       "3  Bank transfer (automatic)           42.30       1960.6    Male   \n",
       "4           Electronic check           70.70        353.5  Female   \n",
       "\n",
       "   SeniorCitizen Partner Dependents InternetService OnlineSecurity   \n",
       "0              0     Yes         No             DSL             No  \\\n",
       "1              0      No         No             DSL            Yes   \n",
       "2              0      No         No             DSL            Yes   \n",
       "3              0      No         No             DSL            Yes   \n",
       "4              0      No         No     Fiber optic             No   \n",
       "\n",
       "  OnlineBackup DeviceProtection TechSupport StreamingTV StreamingMovies   \n",
       "0          Yes               No          No          No              No  \\\n",
       "1           No              Yes          No          No              No   \n",
       "2          Yes               No          No          No              No   \n",
       "3           No              Yes         Yes          No              No   \n",
       "4           No               No          No          No              No   \n",
       "\n",
       "  MultipleLines  \n",
       "0           NaN  \n",
       "1            No  \n",
       "2            No  \n",
       "3           NaN  \n",
       "4            No  "
      ]
     },
     "execution_count": 5,
     "metadata": {},
     "output_type": "execute_result"
    }
   ],
   "source": [
    "# Объединить нужно таблицы по столбцу customerID:\n",
    "data = contract.merge(personal, on='customerID', how = 'left')\n",
    "data = data.merge(internet, on='customerID', how = 'left')\n",
    "data = data.merge(phone, on='customerID', how = 'left')\n",
    "\n",
    "# Проверю, насколько успешно объединились таблицы:\n",
    "data.head()"
   ]
  },
  {
   "cell_type": "code",
   "execution_count": 6,
   "metadata": {},
   "outputs": [
    {
     "name": "stdout",
     "output_type": "stream",
     "text": [
      "<class 'pandas.core.frame.DataFrame'>\n",
      "RangeIndex: 7043 entries, 0 to 7042\n",
      "Data columns (total 20 columns):\n",
      " #   Column            Non-Null Count  Dtype  \n",
      "---  ------            --------------  -----  \n",
      " 0   customerID        7043 non-null   object \n",
      " 1   BeginDate         7043 non-null   object \n",
      " 2   EndDate           7043 non-null   object \n",
      " 3   Type              7043 non-null   object \n",
      " 4   PaperlessBilling  7043 non-null   object \n",
      " 5   PaymentMethod     7043 non-null   object \n",
      " 6   MonthlyCharges    7043 non-null   float64\n",
      " 7   TotalCharges      7043 non-null   object \n",
      " 8   gender            7043 non-null   object \n",
      " 9   SeniorCitizen     7043 non-null   int64  \n",
      " 10  Partner           7043 non-null   object \n",
      " 11  Dependents        7043 non-null   object \n",
      " 12  InternetService   5517 non-null   object \n",
      " 13  OnlineSecurity    5517 non-null   object \n",
      " 14  OnlineBackup      5517 non-null   object \n",
      " 15  DeviceProtection  5517 non-null   object \n",
      " 16  TechSupport       5517 non-null   object \n",
      " 17  StreamingTV       5517 non-null   object \n",
      " 18  StreamingMovies   5517 non-null   object \n",
      " 19  MultipleLines     6361 non-null   object \n",
      "dtypes: float64(1), int64(1), object(18)\n",
      "memory usage: 1.1+ MB\n"
     ]
    }
   ],
   "source": [
    "# Изучу датасет:\n",
    "data.info()"
   ]
  },
  {
   "attachments": {},
   "cell_type": "markdown",
   "metadata": {},
   "source": [
    "В датасете 4835 строк, и 19 столбцов. Необходимо обработать пропуски, потому что они точно будут из-за объединения столбцов. Так же необходимо поработать со столбцами BeginDate и EndDate - определю по ним длительность действия договора, и удалю эти столбцы."
   ]
  },
  {
   "cell_type": "code",
   "execution_count": 7,
   "metadata": {},
   "outputs": [
    {
     "data": {
      "text/plain": [
       "array([0, 1])"
      ]
     },
     "execution_count": 7,
     "metadata": {},
     "output_type": "execute_result"
    }
   ],
   "source": [
    "# Добавлю колонку с целевым признаком, отражающим факт ухода уклиента.\n",
    "data['turnover'] = (data['EndDate'] != 'No').astype(int)\n",
    "\n",
    "data['turnover'].unique()"
   ]
  },
  {
   "attachments": {},
   "cell_type": "markdown",
   "metadata": {},
   "source": [
    "Теперь можно поработать со столбцами begindate и enddate, а после - удалить их за ненадобностью, чтобы модель не переобучалась."
   ]
  },
  {
   "attachments": {},
   "cell_type": "markdown",
   "metadata": {},
   "source": [
    "Посчитаем длительность контракта:"
   ]
  },
  {
   "cell_type": "code",
   "execution_count": 8,
   "metadata": {},
   "outputs": [
    {
     "name": "stdout",
     "output_type": "stream",
     "text": [
      "0\n",
      "<class 'pandas.core.frame.DataFrame'>\n",
      "RangeIndex: 7043 entries, 0 to 7042\n",
      "Data columns (total 22 columns):\n",
      " #   Column            Non-Null Count  Dtype         \n",
      "---  ------            --------------  -----         \n",
      " 0   Days              7043 non-null   int32         \n",
      " 1   customerID        7043 non-null   object        \n",
      " 2   BeginDate         7043 non-null   datetime64[ns]\n",
      " 3   EndDate           7043 non-null   datetime64[ns]\n",
      " 4   Type              7043 non-null   object        \n",
      " 5   PaperlessBilling  7043 non-null   object        \n",
      " 6   PaymentMethod     7043 non-null   object        \n",
      " 7   MonthlyCharges    7043 non-null   float64       \n",
      " 8   TotalCharges      7043 non-null   object        \n",
      " 9   gender            7043 non-null   object        \n",
      " 10  SeniorCitizen     7043 non-null   int64         \n",
      " 11  Partner           7043 non-null   object        \n",
      " 12  Dependents        7043 non-null   object        \n",
      " 13  InternetService   5517 non-null   object        \n",
      " 14  OnlineSecurity    5517 non-null   object        \n",
      " 15  OnlineBackup      5517 non-null   object        \n",
      " 16  DeviceProtection  5517 non-null   object        \n",
      " 17  TechSupport       5517 non-null   object        \n",
      " 18  StreamingTV       5517 non-null   object        \n",
      " 19  StreamingMovies   5517 non-null   object        \n",
      " 20  MultipleLines     6361 non-null   object        \n",
      " 21  turnover          7043 non-null   int32         \n",
      "dtypes: datetime64[ns](2), float64(1), int32(2), int64(1), object(16)\n",
      "memory usage: 1.1+ MB\n"
     ]
    }
   ],
   "source": [
    "# Заменю все значения \"No\" в EndDate на дату выгрузки датасета (01.02.2020) \n",
    "data['EndDate'] = data['EndDate'].replace(['No'], ['2020-02-01'])\n",
    "print(data[data['EndDate'] == 'No'].shape[0])\n",
    "\n",
    "# Переведу EndDate и BeginDate в формат даты:\n",
    "data['EndDate'] = pd.to_datetime(data['EndDate'], errors='coerce')\n",
    "data['BeginDate'] = pd.to_datetime(data['BeginDate'], errors='coerce')\n",
    "\n",
    "# Создам столбец, в котором будет длительность контракта: \n",
    "data.insert(0,\"Days\", \" \")\n",
    "\n",
    "#  Вычту BeginDate от EndDate, чтобы рассчитать длительность контракта: \n",
    "data['Days'] = (data['EndDate'] - data['BeginDate']).dt.days\n",
    "\n",
    "# Проверка: \n",
    "data.info()"
   ]
  },
  {
   "cell_type": "code",
   "execution_count": 9,
   "metadata": {},
   "outputs": [
    {
     "name": "stdout",
     "output_type": "stream",
     "text": [
      "<class 'pandas.core.frame.DataFrame'>\n",
      "RangeIndex: 7043 entries, 0 to 7042\n",
      "Data columns (total 19 columns):\n",
      " #   Column            Non-Null Count  Dtype  \n",
      "---  ------            --------------  -----  \n",
      " 0   Days              7043 non-null   int32  \n",
      " 1   Type              7043 non-null   object \n",
      " 2   PaperlessBilling  7043 non-null   object \n",
      " 3   PaymentMethod     7043 non-null   object \n",
      " 4   MonthlyCharges    7043 non-null   float64\n",
      " 5   TotalCharges      7043 non-null   object \n",
      " 6   gender            7043 non-null   object \n",
      " 7   SeniorCitizen     7043 non-null   int64  \n",
      " 8   Partner           7043 non-null   object \n",
      " 9   Dependents        7043 non-null   object \n",
      " 10  InternetService   5517 non-null   object \n",
      " 11  OnlineSecurity    5517 non-null   object \n",
      " 12  OnlineBackup      5517 non-null   object \n",
      " 13  DeviceProtection  5517 non-null   object \n",
      " 14  TechSupport       5517 non-null   object \n",
      " 15  StreamingTV       5517 non-null   object \n",
      " 16  StreamingMovies   5517 non-null   object \n",
      " 17  MultipleLines     6361 non-null   object \n",
      " 18  turnover          7043 non-null   int32  \n",
      "dtypes: float64(1), int32(2), int64(1), object(15)\n",
      "memory usage: 990.5+ KB\n"
     ]
    }
   ],
   "source": [
    "# Удалю неинформативные столбцы:\n",
    "data.drop(['BeginDate', 'EndDate', 'customerID'], axis='columns', inplace=True)\n",
    "\n",
    "# Проверка:\n",
    "data.info()"
   ]
  },
  {
   "cell_type": "markdown",
   "metadata": {},
   "source": [
    "### Работа с пропусками и аномальными данными:"
   ]
  },
  {
   "attachments": {},
   "cell_type": "markdown",
   "metadata": {},
   "source": [
    "Пропуски в InternetService, OnlineSecurity, OnlineBackup, DeviceProtection, TechSupport, StreamingTV, StreamingMovies и MultipleLines скорее всего означают, что услуги не подключены."
   ]
  },
  {
   "cell_type": "code",
   "execution_count": 10,
   "metadata": {},
   "outputs": [
    {
     "name": "stdout",
     "output_type": "stream",
     "text": [
      "<class 'pandas.core.frame.DataFrame'>\n",
      "RangeIndex: 7043 entries, 0 to 7042\n",
      "Data columns (total 19 columns):\n",
      " #   Column            Non-Null Count  Dtype  \n",
      "---  ------            --------------  -----  \n",
      " 0   Days              7043 non-null   int32  \n",
      " 1   Type              7043 non-null   object \n",
      " 2   PaperlessBilling  7043 non-null   object \n",
      " 3   PaymentMethod     7043 non-null   object \n",
      " 4   MonthlyCharges    7043 non-null   float64\n",
      " 5   TotalCharges      7043 non-null   object \n",
      " 6   gender            7043 non-null   object \n",
      " 7   SeniorCitizen     7043 non-null   int64  \n",
      " 8   Partner           7043 non-null   object \n",
      " 9   Dependents        7043 non-null   object \n",
      " 10  InternetService   7043 non-null   object \n",
      " 11  OnlineSecurity    7043 non-null   object \n",
      " 12  OnlineBackup      7043 non-null   object \n",
      " 13  DeviceProtection  7043 non-null   object \n",
      " 14  TechSupport       7043 non-null   object \n",
      " 15  StreamingTV       7043 non-null   object \n",
      " 16  StreamingMovies   7043 non-null   object \n",
      " 17  MultipleLines     7043 non-null   object \n",
      " 18  turnover          7043 non-null   int32  \n",
      "dtypes: float64(1), int32(2), int64(1), object(15)\n",
      "memory usage: 990.5+ KB\n"
     ]
    }
   ],
   "source": [
    "# Заменим пропуски на \"No\": \n",
    "for column in ('InternetService', 'OnlineSecurity', 'OnlineBackup', 'DeviceProtection', 'TechSupport', 'StreamingTV', 'StreamingMovies', 'MultipleLines'):\n",
    "    data[column] = data[column].fillna('No')\n",
    "\n",
    "# Проверка:\n",
    "data.info()\n"
   ]
  },
  {
   "attachments": {},
   "cell_type": "markdown",
   "metadata": {},
   "source": [
    "### Проверю числовые признаки на наличие мультиколлинеарности:"
   ]
  },
  {
   "cell_type": "code",
   "execution_count": 11,
   "metadata": {},
   "outputs": [
    {
     "name": "stdout",
     "output_type": "stream",
     "text": [
      "<class 'pandas.core.frame.DataFrame'>\n",
      "RangeIndex: 7043 entries, 0 to 7042\n",
      "Data columns (total 19 columns):\n",
      " #   Column            Non-Null Count  Dtype  \n",
      "---  ------            --------------  -----  \n",
      " 0   Days              7043 non-null   int32  \n",
      " 1   Type              7043 non-null   object \n",
      " 2   PaperlessBilling  7043 non-null   object \n",
      " 3   PaymentMethod     7043 non-null   object \n",
      " 4   MonthlyCharges    7043 non-null   float64\n",
      " 5   TotalCharges      7032 non-null   float64\n",
      " 6   gender            7043 non-null   object \n",
      " 7   SeniorCitizen     7043 non-null   int64  \n",
      " 8   Partner           7043 non-null   object \n",
      " 9   Dependents        7043 non-null   object \n",
      " 10  InternetService   7043 non-null   object \n",
      " 11  OnlineSecurity    7043 non-null   object \n",
      " 12  OnlineBackup      7043 non-null   object \n",
      " 13  DeviceProtection  7043 non-null   object \n",
      " 14  TechSupport       7043 non-null   object \n",
      " 15  StreamingTV       7043 non-null   object \n",
      " 16  StreamingMovies   7043 non-null   object \n",
      " 17  MultipleLines     7043 non-null   object \n",
      " 18  turnover          7043 non-null   int32  \n",
      "dtypes: float64(2), int32(2), int64(1), object(14)\n",
      "memory usage: 990.5+ KB\n"
     ]
    }
   ],
   "source": [
    "# Переведу TotalCharges в числовой тип:\n",
    "data['TotalCharges'] = pd.to_numeric(data['TotalCharges'], errors ='coerce')\n",
    "data.info()"
   ]
  },
  {
   "cell_type": "code",
   "execution_count": 13,
   "metadata": {},
   "outputs": [
    {
     "data": {
      "text/html": [
       "<div>\n",
       "<style scoped>\n",
       "    .dataframe tbody tr th:only-of-type {\n",
       "        vertical-align: middle;\n",
       "    }\n",
       "\n",
       "    .dataframe tbody tr th {\n",
       "        vertical-align: top;\n",
       "    }\n",
       "\n",
       "    .dataframe thead th {\n",
       "        text-align: right;\n",
       "    }\n",
       "</style>\n",
       "<table border=\"1\" class=\"dataframe\">\n",
       "  <thead>\n",
       "    <tr style=\"text-align: right;\">\n",
       "      <th></th>\n",
       "      <th>MonthlyCharges</th>\n",
       "      <th>TotalCharges</th>\n",
       "      <th>Days</th>\n",
       "    </tr>\n",
       "  </thead>\n",
       "  <tbody>\n",
       "    <tr>\n",
       "      <th>MonthlyCharges</th>\n",
       "      <td>1.000000</td>\n",
       "      <td>0.630297</td>\n",
       "      <td>0.220054</td>\n",
       "    </tr>\n",
       "    <tr>\n",
       "      <th>TotalCharges</th>\n",
       "      <td>0.630297</td>\n",
       "      <td>1.000000</td>\n",
       "      <td>0.821442</td>\n",
       "    </tr>\n",
       "    <tr>\n",
       "      <th>Days</th>\n",
       "      <td>0.220054</td>\n",
       "      <td>0.821442</td>\n",
       "      <td>1.000000</td>\n",
       "    </tr>\n",
       "  </tbody>\n",
       "</table>\n",
       "</div>"
      ],
      "text/plain": [
       "                MonthlyCharges  TotalCharges      Days\n",
       "MonthlyCharges        1.000000      0.630297  0.220054\n",
       "TotalCharges          0.630297      1.000000  0.821442\n",
       "Days                  0.220054      0.821442  1.000000"
      ]
     },
     "execution_count": 13,
     "metadata": {},
     "output_type": "execute_result"
    }
   ],
   "source": [
    "# Вынесу столбцы с количественными признаками: \n",
    "numeric_columns = ['MonthlyCharges', 'TotalCharges', 'Days']\n",
    "# Выведу корреляцию между всеми количественными данными:\n",
    "data[numeric_columns].corr()"
   ]
  },
  {
   "attachments": {},
   "cell_type": "markdown",
   "metadata": {},
   "source": [
    "Присутствует проблема мультиколлинеарности в данных - корреляция между TotalCharges и Days - 0.82."
   ]
  },
  {
   "cell_type": "code",
   "execution_count": 14,
   "metadata": {},
   "outputs": [],
   "source": [
    "# Поле TotalCharges можно удалить:\n",
    "data.drop(['TotalCharges'], axis='columns', inplace=True)"
   ]
  },
  {
   "cell_type": "markdown",
   "metadata": {},
   "source": [
    "### Разделение датасета на тестовую и тренировочную выборки:"
   ]
  },
  {
   "cell_type": "code",
   "execution_count": 15,
   "metadata": {},
   "outputs": [],
   "source": [
    "# Выделю фичи и таргет:\n",
    "target = data['turnover'] \n",
    "features = data.drop(columns=['turnover'])\n",
    "\n",
    "# Разделю датасет на тестовую и обучающую выборки:\n",
    "features_train, features_test, target_train, target_test = train_test_split(features, target, test_size=0.25, random_state=RND)"
   ]
  },
  {
   "cell_type": "code",
   "execution_count": 16,
   "metadata": {},
   "outputs": [
    {
     "name": "stdout",
     "output_type": "stream",
     "text": [
      "['Type', 'PaperlessBilling', 'PaymentMethod', 'gender', 'Partner', 'Dependents', 'InternetService', 'OnlineSecurity', 'OnlineBackup', 'DeviceProtection', 'TechSupport', 'StreamingTV', 'StreamingMovies', 'MultipleLines']\n"
     ]
    }
   ],
   "source": [
    "# Выделю категориальные признаки:\n",
    "cat_columns = features_train.select_dtypes(include='object').columns.to_list()\n",
    "print(cat_columns)"
   ]
  },
  {
   "cell_type": "code",
   "execution_count": 17,
   "metadata": {},
   "outputs": [
    {
     "data": {
      "text/plain": [
       "['Days', 'MonthlyCharges', 'SeniorCitizen']"
      ]
     },
     "execution_count": 17,
     "metadata": {},
     "output_type": "execute_result"
    }
   ],
   "source": [
    "# Выделю числовые признаки:\n",
    "numeric = features_train.select_dtypes(exclude='object').columns.to_list()\n",
    "numeric"
   ]
  },
  {
   "cell_type": "markdown",
   "metadata": {},
   "source": [
    "### Масташибрование и кодирование данных, посредством OneHotEncoder, StandardScaler:"
   ]
  },
  {
   "cell_type": "markdown",
   "metadata": {},
   "source": [
    "Кодировать нужно после разделения на выборки, т.к. в тестовой могут быть категории, которых не было в обучающей. "
   ]
  },
  {
   "cell_type": "code",
   "execution_count": 22,
   "metadata": {},
   "outputs": [],
   "source": [
    "# Посредством OHE закодирую категориальные признаки:\n",
    "features_train_ohe = features_train.copy()\n",
    "features_test_ohe = features_test.copy()\n",
    "\n",
    "ohe = OneHotEncoder(drop='first', handle_unknown='ignore', sparse = False)\n",
    "ohe.fit(features_train_ohe[cat_columns])\n",
    "\n",
    "features_train_ohe[ohe.get_feature_names_out()] = ohe.transform(features_train_ohe[cat_columns])\n",
    "\n",
    "features_train_ohe = features_train_ohe.drop(cat_columns, axis = 1)\n",
    "\n",
    "features_test_ohe[ohe.get_feature_names_out()] = ohe.transform(features_test_ohe[cat_columns])\n",
    "\n",
    "features_test_ohe = features_test_ohe.drop(cat_columns, axis = 1)"
   ]
  },
  {
   "cell_type": "code",
   "execution_count": 23,
   "metadata": {},
   "outputs": [],
   "source": [
    "# Отмасштабирую количественные признаки:\n",
    "scaler = StandardScaler()\n",
    "scaler.fit(features_train_ohe[numeric])\n",
    "features_train_ohe[numeric] = scaler.transform(features_train_ohe[numeric])\n",
    "features_test_ohe[numeric] = scaler.transform(features_test_ohe[numeric])"
   ]
  },
  {
   "cell_type": "code",
   "execution_count": 24,
   "metadata": {},
   "outputs": [
    {
     "data": {
      "image/png": "[encoded data removed]",
      "text/plain": [
       "<Figure size 1000x500 with 1 Axes>"
      ]
     },
     "metadata": {},
     "output_type": "display_data"
    }
   ],
   "source": [
    "# Проверю баланс классов:\n",
    "target_train.value_counts().plot(\n",
    "    kind='bar', \n",
    "    figsize=(10, 5), \n",
    "    legend=False, \n",
    "    title='Распределение значений целевого признака', \n",
    ").set(xlabel='Значение', ylabel='Кол-во значений')\n",
    "plt.show()"
   ]
  },
  {
   "cell_type": "markdown",
   "metadata": {},
   "source": [
    "Метрика ROC-AUC не чувствительна к дисбалансу, поэтому ничего критичного в этой картине нет. Учтем баланс классов внутри моделей посредством параметра (class_weight = 'balanced'). "
   ]
  },
  {
   "cell_type": "markdown",
   "metadata": {},
   "source": [
    "## 2. Исследовательский анализ"
   ]
  },
  {
   "attachments": {},
   "cell_type": "markdown",
   "metadata": {},
   "source": [
    "### 2.1 Изучение датасета на графиках:"
   ]
  },
  {
   "cell_type": "code",
   "execution_count": 25,
   "metadata": {},
   "outputs": [
    {
     "data": {
      "image/png": "[encoded data removed]",
      "text/plain": [
       "<Figure size 640x480 with 1 Axes>"
      ]
     },
     "metadata": {},
     "output_type": "display_data"
    }
   ],
   "source": [
    "# Посмотрю на зависимость оттока клиентов от ежемесячных платежей: \n",
    "plt.hist([data[data.turnover == 1].MonthlyCharges, data[data.turnover == 0].MonthlyCharges], label=['Ушедшие', 'Оставшиеся'], density=True);\n",
    "plt.legend();\n",
    "plt.title('Ежемесечные платежи');\n",
    "plt.show();"
   ]
  },
  {
   "attachments": {},
   "cell_type": "markdown",
   "metadata": {},
   "source": [
    "Чаще уходят клиенты, ежемесячные платежи которых достаточно высоки (70-100)."
   ]
  },
  {
   "cell_type": "code",
   "execution_count": 26,
   "metadata": {},
   "outputs": [
    {
     "data": {
      "text/plain": [
       "<Axes: >"
      ]
     },
     "execution_count": 26,
     "metadata": {},
     "output_type": "execute_result"
    },
    {
     "data": {
      "image/png": "[encoded data removed]",
      "text/plain": [
       "<Figure size 640x480 with 1 Axes>"
      ]
     },
     "metadata": {},
     "output_type": "display_data"
    }
   ],
   "source": [
    "# Посмотрю на общее распределение данных в этом столбце:\n",
    "data['MonthlyCharges'].hist()"
   ]
  },
  {
   "attachments": {},
   "cell_type": "markdown",
   "metadata": {},
   "source": [
    "Всё же большинство клиентов платят меньше 30. Значит этот признак не так сильно влияет на общую картину оттока клиентов."
   ]
  },
  {
   "cell_type": "markdown",
   "metadata": {},
   "source": [
    "### 2.2 Изучение зависимости целевого признака от остальных признаков:"
   ]
  },
  {
   "cell_type": "code",
   "execution_count": 27,
   "metadata": {},
   "outputs": [
    {
     "data": {
      "text/plain": [
       "<Axes: title={'center': 'Интернет:'}, xlabel='InternetService'>"
      ]
     },
     "execution_count": 27,
     "metadata": {},
     "output_type": "execute_result"
    },
    {
     "data": {
      "image/png": "[encoded data removed]",
      "text/plain": [
       "<Figure size 400x200 with 1 Axes>"
      ]
     },
     "metadata": {},
     "output_type": "display_data"
    },
    {
     "data": {
      "image/png": "[encoded data removed]",
      "text/plain": [
       "<Figure size 400x200 with 1 Axes>"
      ]
     },
     "metadata": {},
     "output_type": "display_data"
    },
    {
     "data": {
      "image/png": "[encoded data removed]",
      "text/plain": [
       "<Figure size 400x200 with 1 Axes>"
      ]
     },
     "metadata": {},
     "output_type": "display_data"
    },
    {
     "data": {
      "image/png": "[encoded data removed]",
      "text/plain": [
       "<Figure size 400x200 with 1 Axes>"
      ]
     },
     "metadata": {},
     "output_type": "display_data"
    },
    {
     "data": {
      "image/png": "[encoded data removed]",
      "text/plain": [
       "<Figure size 400x200 with 1 Axes>"
      ]
     },
     "metadata": {},
     "output_type": "display_data"
    },
    {
     "data": {
      "image/png": "[encoded data removed]",
      "text/plain": [
       "<Figure size 400x200 with 1 Axes>"
      ]
     },
     "metadata": {},
     "output_type": "display_data"
    }
   ],
   "source": [
    "plt.figure(figsize=(4,2))\n",
    "data['Type'].value_counts().plot(kind='bar',\n",
    "                              title = 'Тип оплаты:',\n",
    "                              rot=0,\n",
    "                              fontsize =12)\n",
    "\n",
    "plt.figure(figsize=(4,2))\n",
    "data['PaperlessBilling'].value_counts().plot(kind='bar',\n",
    "                              title = 'Безналичный расчет',\n",
    "                              rot=0,\n",
    "                              fontsize =12\n",
    "                                           )\n",
    "\n",
    "plt.figure(figsize=(4,2))\n",
    "data['PaymentMethod'].value_counts().plot(kind='bar',\n",
    "                              title = 'Способ оплаты:',\n",
    "                              rot=0,\n",
    "                              fontsize =12\n",
    "                                           )\n",
    "\n",
    "plt.figure(figsize=(4,2))\n",
    "data['Dependents'].value_counts().plot(kind='bar',\n",
    "                              title = 'Иждивенцы',\n",
    "                              rot=0,\n",
    "                              fontsize =12\n",
    "                                           )\n",
    "\n",
    "plt.figure(figsize=(4,2))\n",
    "data['SeniorCitizen'].value_counts().plot(kind='bar',\n",
    "                              title = 'Пенсионеры:',\n",
    "                              rot=0,\n",
    "                              fontsize =12\n",
    "                                           )\n",
    "\n",
    "plt.figure(figsize=(4,2))\n",
    "data['InternetService'].value_counts().plot(kind='bar',\n",
    "                              title = 'Интернет:',\n",
    "                              rot=0,\n",
    "                              fontsize =12\n",
    "                                           )"
   ]
  },
  {
   "attachments": {},
   "cell_type": "markdown",
   "metadata": {},
   "source": [
    "Уходят чаще те клиенты, у которых тип оплаты помесячный + иждивенцы  + пенсионеры.\n",
    "\n",
    "Также интересно, что при электронной оплате отток клиентов выше, возможно какие-то трудности с этим способом оплаты."
   ]
  },
  {
   "cell_type": "markdown",
   "metadata": {},
   "source": [
    "## 3. Обучение моделей"
   ]
  },
  {
   "cell_type": "markdown",
   "metadata": {},
   "source": [
    "### 3.2 Обучение модели градиентого бустинга CatBoostClassifier c определением AUC-ROC на тестовой выборке:"
   ]
  },
  {
   "cell_type": "code",
   "execution_count": 28,
   "metadata": {},
   "outputs": [
    {
     "name": "stdout",
     "output_type": "stream",
     "text": [
      "Лучший roc/auc: 0.9086516922228618 при {'iterations': 500, 'l2_leaf_reg': 3, 'learning_rate': 0.1}\n"
     ]
    }
   ],
   "source": [
    "# Подберем лучшие гиперпараметры для модели CatBoostClassifier:\n",
    "param_grid = {\n",
    "    'learning_rate': [0.1, 0.3],\n",
    "    'iterations': [100, 500],\n",
    "    'l2_leaf_reg': [3, 9]\n",
    "}\n",
    "\n",
    "model_cat = CatBoostClassifier(random_state=RND, verbose=0)\n",
    "\n",
    "search = GridSearchCV(model_cat, param_grid, cv=5, scoring='roc_auc')\n",
    "search.fit(features_train_ohe, target_train)\n",
    "\n",
    "print('Лучший roc/auc:', search.best_score_, 'при', search.best_params_)"
   ]
  },
  {
   "cell_type": "markdown",
   "metadata": {},
   "source": [
    "3.3 Обучение модели RandomForestClassifier c подбором лучших гиперпараметром с помощью GridSearchCV и с определением AUC-ROC:"
   ]
  },
  {
   "cell_type": "code",
   "execution_count": 29,
   "metadata": {},
   "outputs": [
    {
     "name": "stdout",
     "output_type": "stream",
     "text": [
      "Лучший roc/auc: 0.8204993778673512 при {'max_depth': 10, 'min_samples_leaf': 2, 'min_samples_split': 2, 'n_estimators': 100}\n"
     ]
    }
   ],
   "source": [
    "# Подберем лучшие гиперпараметры для модели RandomForestClassifier:\n",
    "param_grid = {\n",
    "    'max_depth': [5, 10, 20],\n",
    "    'min_samples_split': [2, 10],\n",
    "    'min_samples_leaf': [2, 10],\n",
    "    'n_estimators': [10, 50, 100], \n",
    "}\n",
    "\n",
    "model = RandomForestClassifier(random_state=RND)\n",
    "\n",
    "search = GridSearchCV(model, param_grid, cv=5, scoring='roc_auc')\n",
    "search.fit(features_train_ohe, target_train)\n",
    "\n",
    "print('Лучший roc/auc:', search.best_score_, 'при', search.best_params_)"
   ]
  },
  {
   "cell_type": "markdown",
   "metadata": {},
   "source": [
    "3.4 Обучение модели LogisticRegression c подбором лучших гиперпараметром с помощью GridSearchCV и с определением AUC-ROC:"
   ]
  },
  {
   "cell_type": "code",
   "execution_count": 30,
   "metadata": {},
   "outputs": [
    {
     "name": "stdout",
     "output_type": "stream",
     "text": [
      "roc_auc для модели Логистической Регрессии на кросс-валидации: 0.755\n"
     ]
    }
   ],
   "source": [
    "# Подберем лучшие гиперпараметры для модели LogisticRegression:\n",
    "model_lr = LogisticRegression(C=0.5)\n",
    "roc_auc_lr_v = cross_val_score(model_lr, features_train_ohe, target_train, cv=5, scoring='roc_auc').mean()\n",
    "print(f\"roc_auc для модели Логистической Регрессии на кросс-валидации: {roc_auc_lr_v:.3f}\")"
   ]
  },
  {
   "cell_type": "markdown",
   "metadata": {},
   "source": [
    "3.5 Качество лучшей модели проверим кросс-валидацией:"
   ]
  },
  {
   "cell_type": "code",
   "execution_count": 31,
   "metadata": {},
   "outputs": [
    {
     "name": "stdout",
     "output_type": "stream",
     "text": [
      "CatBoostClassifier ROC-AUC: 0.9128342294899418\n"
     ]
    }
   ],
   "source": [
    "# кросс-валидация CatBoostRegressor:\n",
    "model_test = CatBoostClassifier(random_state=RND, verbose=0, iterations = 500, l2_leaf_reg = 3, learning_rate = 0.1)\n",
    "\n",
    "model_test.fit(features_train_ohe, target_train)\n",
    "\n",
    "score = cross_val_score(model_test, features_train_ohe, np.array(target_train), scoring = 'roc_auc', cv=6).mean()\n",
    "print('CatBoostClassifier ROC-AUC:', abs(score))"
   ]
  },
  {
   "cell_type": "markdown",
   "metadata": {},
   "source": [
    "## 4. Тестирование модели"
   ]
  },
  {
   "cell_type": "markdown",
   "metadata": {},
   "source": [
    "4.1 Проверю лучшую модель с оптимальными гиперпараметрами на тестовой выборке, ориентация на AUC-ROC, метрика должна быть >=0.85."
   ]
  },
  {
   "cell_type": "code",
   "execution_count": 32,
   "metadata": {},
   "outputs": [
    {
     "name": "stdout",
     "output_type": "stream",
     "text": [
      "ROC-AUC:  0.9230103936344629\n"
     ]
    }
   ],
   "source": [
    "pred_test_cat = model_test.predict_proba(features_test_ohe)[:, 1]\n",
    "print('ROC-AUC: ',roc_auc_score(target_test, pred_test_cat))"
   ]
  },
  {
   "cell_type": "markdown",
   "metadata": {},
   "source": [
    "## 5. Общий вывод по проекту"
   ]
  },
  {
   "attachments": {},
   "cell_type": "markdown",
   "metadata": {},
   "source": [
    "Я изучила 4 датасета, объединила их в один общий датасет по ID клиента. Подготовила данные, удалив пропуски, ненужные признаки-столбцы, нашла общий срок длительности контракта каждого клиента. Добавила колонку с целевым признаком, отражающим факт ухода уклиента. Решила проблему мультиколлинеарности. Пропуски в столбцах, которые интерпретированы как \"услуги не подключены\", заменила на \"No\". Провела исследовательский анализ данных, в которых обнаружила связь между типом оплаты (ежемесячно), наличием иждивенцев, пенсионер - такие клиенты чаще уходят, не продлевают контракт. Так же выяснилось, что чаще уходят клиенты, которые осущес твляют ежемесячно достаточно высокие платежи (70-100). Но большинство клиентов платт меньше 30, поэтому этот признак не так сильно влияет на уход, скорее всего. Также интересно, что при электронной оплате отток клиентов выше, возможно какие-то трудности с этим способом оплаты. Затем я разделила датасет на тестовую и обучающую выборки, и провела кодирование и масштабирование данных посредством посредством OneHotEncoder, StandardScaler. Обнаружила дисбаланс классов, но метрики ROC-AUC не чувствительна к дисбалансу. Следом я обучила 3 модели (CatBoostClassifier, RandomForestClassifier, LogisticRegression) для предсказания оттока клиентов с подбором гиперпараметров посредством GridSearchCV. Лучшее значение метрики ROC-AUC получилось у CatBoostClassifier с гиперпараметрами {'iterations': 500, 'l2_leaf_reg': 3, 'learning_rate': 0.1}. Проверила эту модель на тестовой выборке и убедилась в том, что модель обучена корректно, и метрика ROC-AUC >= 0.85 (а именно: 0.92). - Это отличный результат!"
   ]
  }
 ],
 "metadata": {
  "ExecuteTimeLog": [
   {
    "duration": 9487,
    "start_time": "2023-04-12T08:49:55.173Z"
   },
   {
    "duration": 4316,
    "start_time": "2023-04-12T08:50:04.663Z"
   },
   {
    "duration": 363,
    "start_time": "2023-04-12T08:50:08.981Z"
   },
   {
    "duration": 34,
    "start_time": "2023-04-12T08:50:09.346Z"
   },
   {
    "duration": 25,
    "start_time": "2023-04-12T08:50:09.382Z"
   },
   {
    "duration": 38,
    "start_time": "2023-04-12T08:50:09.408Z"
   },
   {
    "duration": 26,
    "start_time": "2023-04-12T08:50:09.448Z"
   },
   {
    "duration": 27,
    "start_time": "2023-04-12T08:53:52.673Z"
   },
   {
    "duration": 18,
    "start_time": "2023-04-12T08:53:53.290Z"
   },
   {
    "duration": 18,
    "start_time": "2023-04-12T08:53:54.114Z"
   },
   {
    "duration": 23,
    "start_time": "2023-04-12T08:53:58.458Z"
   },
   {
    "duration": 17,
    "start_time": "2023-04-12T08:53:58.826Z"
   },
   {
    "duration": 16,
    "start_time": "2023-04-12T08:53:58.987Z"
   },
   {
    "duration": 69,
    "start_time": "2023-04-12T08:58:41.913Z"
   },
   {
    "duration": 11040,
    "start_time": "2023-04-12T08:58:47.784Z"
   },
   {
    "duration": 1815,
    "start_time": "2023-04-12T08:58:58.827Z"
   },
   {
    "duration": 250,
    "start_time": "2023-04-12T08:59:03.917Z"
   },
   {
    "duration": 39,
    "start_time": "2023-04-12T08:59:07.355Z"
   },
   {
    "duration": 40,
    "start_time": "2023-04-12T08:59:08.103Z"
   },
   {
    "duration": 27,
    "start_time": "2023-04-12T08:59:09.443Z"
   },
   {
    "duration": 26,
    "start_time": "2023-04-12T08:59:09.981Z"
   },
   {
    "duration": 276,
    "start_time": "2023-04-12T09:00:19.751Z"
   },
   {
    "duration": 191,
    "start_time": "2023-04-12T09:00:25.240Z"
   }
  ],
  "kernelspec": {
   "display_name": "Python 3 (ipykernel)",
   "language": "python",
   "name": "python3"
  },
  "language_info": {
   "codemirror_mode": {
    "name": "ipython",
    "version": 3
   },
   "file_extension": ".py",
   "mimetype": "text/x-python",
   "name": "python",
   "nbconvert_exporter": "python",
   "pygments_lexer": "ipython3",
   "version": "3.10.7"
  },
  "toc": {
   "base_numbering": 1,
   "nav_menu": {},
   "number_sections": true,
   "sideBar": true,
   "skip_h1_title": true,
   "title_cell": "Table of Contents",
   "title_sidebar": "Contents",
   "toc_cell": false,
   "toc_position": {
    "height": "calc(100% - 180px)",
    "left": "10px",
    "top": "150px",
    "width": "165px"
   },
   "toc_section_display": true,
   "toc_window_display": true
  }
 },
 "nbformat": 4,
 "nbformat_minor": 2
}
