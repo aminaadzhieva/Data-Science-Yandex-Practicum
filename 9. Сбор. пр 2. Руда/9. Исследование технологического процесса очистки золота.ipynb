{
 "cells": [
  {
   "cell_type": "markdown",
   "metadata": {
    "toc": true
   },
   "source": [
    "<h1>Содержание<span class=\"tocSkip\"></span></h1>\n",
    "<div class=\"toc\"><ul class=\"toc-item\"><li><span><a href=\"#Подготовка-данных\" data-toc-modified-id=\"Подготовка-данных-1\"><span class=\"toc-item-num\">1&nbsp;&nbsp;</span>Подготовка данных</a></span></li><li><span><a href=\"#Анализ-данных\" data-toc-modified-id=\"Анализ-данных-2\"><span class=\"toc-item-num\">2&nbsp;&nbsp;</span>Анализ данных</a></span></li><li><span><a href=\"#Модель\" data-toc-modified-id=\"Модель-3\"><span class=\"toc-item-num\">3&nbsp;&nbsp;</span>Модель</a></span></li><li><span><a href=\"#Чек-лист-готовности-проекта\" data-toc-modified-id=\"Чек-лист-готовности-проекта-4\"><span class=\"toc-item-num\">4&nbsp;&nbsp;</span>Чек-лист готовности проекта</a></span></li></ul></div>"
   ]
  },
  {
   "cell_type": "markdown",
   "metadata": {},
   "source": [
    "# Восстановление золота из руды"
   ]
  },
  {
   "cell_type": "markdown",
   "metadata": {},
   "source": [
    "Подготовьте прототип модели машинного обучения для «Цифры». Компания разрабатывает решения для эффективной работы промышленных предприятий.\n",
    "\n",
    "Модель должна предсказать коэффициент восстановления золота из золотосодержащей руды. Используйте данные с параметрами добычи и очистки. \n",
    "\n",
    "Модель поможет оптимизировать производство, чтобы не запускать предприятие с убыточными характеристиками.\n",
    "\n",
    "Вам нужно:\n",
    "\n",
    "1. Подготовить данные;\n",
    "2. Провести исследовательский анализ данных;\n",
    "3. Построить и обучить модель.\n",
    "\n",
    "Чтобы выполнить проект, обращайтесь к библиотекам *pandas*, *matplotlib* и *sklearn.* Вам поможет их документация."
   ]
  },
  {
   "cell_type": "markdown",
   "metadata": {},
   "source": [
    "## Подготовка данных:"
   ]
  },
  {
   "cell_type": "code",
   "execution_count": 2,
   "metadata": {},
   "outputs": [],
   "source": [
    "# Ипомрт необходимых библиотек:\n",
    "\n",
    "import warnings\n",
    "warnings.simplefilter(action='ignore', category=FutureWarning)\n",
    "\n",
    "import pandas as pd\n",
    "import numpy as np\n",
    "\n",
    "from numpy.random import RandomState\n",
    "RANDOM_STATE = RandomState(0)\n",
    "\n",
    "import seaborn as sns\n",
    "import matplotlib.pyplot as plt\n",
    "\n",
    "from sklearn.linear_model import LinearRegression\n",
    "from sklearn.linear_model import Lasso\n",
    "from sklearn.linear_model import Ridge\n",
    "from sklearn.tree import DecisionTreeRegressor\n",
    "from sklearn.ensemble import RandomForestRegressor\n",
    "from sklearn.dummy import DummyRegressor\n",
    "\n",
    "from sklearn.model_selection import train_test_split\n",
    "from sklearn.model_selection import cross_validate\n",
    "from sklearn.model_selection import cross_val_score\n",
    "\n",
    "from sklearn.preprocessing import StandardScaler\n",
    "from sklearn.model_selection import RandomizedSearchCV, GridSearchCV\n",
    "\n",
    "from sklearn.metrics import mean_absolute_percentage_error\n",
    "from sklearn.metrics import mean_absolute_error\n",
    "from sklearn.metrics import make_scorer\n",
    "from sklearn.inspection import permutation_importance\n"
   ]
  },
  {
   "cell_type": "markdown",
   "metadata": {},
   "source": [
    "1.1. Откроем файлы и изучим их:"
   ]
  },
  {
   "cell_type": "code",
   "execution_count": 4,
   "metadata": {},
   "outputs": [],
   "source": [
    "#Загрузим данные:\n",
    "data_train = pd.read_csv('https://code.s3.yandex.net/datasets/gold_industry_train.csv')\n",
    "data_test = pd.read_csv('https://code.s3.yandex.net/datasets/gold_industry_test.csv')\n",
    "data_full = pd.read_csv('https://code.s3.yandex.net/datasets/gold_industry_full.csv')"
   ]
  },
  {
   "cell_type": "code",
   "execution_count": 5,
   "metadata": {},
   "outputs": [
    {
     "name": "stdout",
     "output_type": "stream",
     "text": [
      "<class 'pandas.core.frame.DataFrame'>\n",
      "RangeIndex: 14579 entries, 0 to 14578\n",
      "Data columns (total 87 columns):\n",
      " #   Column                                              Non-Null Count  Dtype  \n",
      "---  ------                                              --------------  -----  \n",
      " 0   date                                                14579 non-null  object \n",
      " 1   rougher.input.feed_au                               14579 non-null  float64\n",
      " 2   rougher.input.feed_ag                               14579 non-null  float64\n",
      " 3   rougher.input.feed_pb                               14507 non-null  float64\n",
      " 4   rougher.input.feed_sol                              14502 non-null  float64\n",
      " 5   rougher.input.feed_rate                             14572 non-null  float64\n",
      " 6   rougher.input.feed_size                             14478 non-null  float64\n",
      " 7   rougher.input.floatbank10_sulfate                   14548 non-null  float64\n",
      " 8   rougher.input.floatbank10_xanthate                  14572 non-null  float64\n",
      " 9   rougher.state.floatbank10_a_air                     14579 non-null  float64\n",
      " 10  rougher.state.floatbank10_a_level                   14579 non-null  float64\n",
      " 11  rougher.state.floatbank10_b_air                     14579 non-null  float64\n",
      " 12  rougher.state.floatbank10_b_level                   14579 non-null  float64\n",
      " 13  rougher.state.floatbank10_c_air                     14579 non-null  float64\n",
      " 14  rougher.state.floatbank10_c_level                   14579 non-null  float64\n",
      " 15  rougher.state.floatbank10_d_air                     14579 non-null  float64\n",
      " 16  rougher.state.floatbank10_d_level                   14579 non-null  float64\n",
      " 17  rougher.state.floatbank10_e_air                     14150 non-null  float64\n",
      " 18  rougher.state.floatbank10_e_level                   14579 non-null  float64\n",
      " 19  rougher.state.floatbank10_f_air                     14579 non-null  float64\n",
      " 20  rougher.state.floatbank10_f_level                   14579 non-null  float64\n",
      " 21  rougher.input.floatbank11_sulfate                   14543 non-null  float64\n",
      " 22  rougher.input.floatbank11_xanthate                  14172 non-null  float64\n",
      " 23  rougher.calculation.sulfate_to_au_concentrate       14578 non-null  float64\n",
      " 24  rougher.calculation.floatbank10_sulfate_to_au_feed  14578 non-null  float64\n",
      " 25  rougher.calculation.floatbank11_sulfate_to_au_feed  14578 non-null  float64\n",
      " 26  rougher.calculation.au_pb_ratio                     14579 non-null  float64\n",
      " 27  rougher.output.concentrate_au                       14579 non-null  float64\n",
      " 28  rougher.output.concentrate_ag                       14579 non-null  float64\n",
      " 29  rougher.output.concentrate_pb                       14579 non-null  float64\n",
      " 30  rougher.output.concentrate_sol                      14561 non-null  float64\n",
      " 31  rougher.output.recovery                             14579 non-null  float64\n",
      " 32  rougher.output.tail_au                              14579 non-null  float64\n",
      " 33  rougher.output.tail_ag                              14578 non-null  float64\n",
      " 34  rougher.output.tail_pb                              14579 non-null  float64\n",
      " 35  rougher.output.tail_sol                             14579 non-null  float64\n",
      " 36  primary_cleaner.input.sulfate                       14556 non-null  float64\n",
      " 37  primary_cleaner.input.depressant                    14551 non-null  float64\n",
      " 38  primary_cleaner.input.feed_size                     14579 non-null  float64\n",
      " 39  primary_cleaner.input.xanthate                      14518 non-null  float64\n",
      " 40  primary_cleaner.state.floatbank8_a_air              14576 non-null  float64\n",
      " 41  primary_cleaner.state.floatbank8_a_level            14579 non-null  float64\n",
      " 42  primary_cleaner.state.floatbank8_b_air              14576 non-null  float64\n",
      " 43  primary_cleaner.state.floatbank8_b_level            14579 non-null  float64\n",
      " 44  primary_cleaner.state.floatbank8_c_air              14579 non-null  float64\n",
      " 45  primary_cleaner.state.floatbank8_c_level            14579 non-null  float64\n",
      " 46  primary_cleaner.state.floatbank8_d_air              14578 non-null  float64\n",
      " 47  primary_cleaner.state.floatbank8_d_level            14579 non-null  float64\n",
      " 48  primary_cleaner.output.concentrate_au               14579 non-null  float64\n",
      " 49  primary_cleaner.output.concentrate_ag               14579 non-null  float64\n",
      " 50  primary_cleaner.output.concentrate_pb               14491 non-null  float64\n",
      " 51  primary_cleaner.output.concentrate_sol              14314 non-null  float64\n",
      " 52  primary_cleaner.output.tail_au                      14579 non-null  float64\n",
      " 53  primary_cleaner.output.tail_ag                      14575 non-null  float64\n",
      " 54  primary_cleaner.output.tail_pb                      14573 non-null  float64\n",
      " 55  primary_cleaner.output.tail_sol                     14534 non-null  float64\n",
      " 56  secondary_cleaner.state.floatbank2_a_air            14485 non-null  float64\n",
      " 57  secondary_cleaner.state.floatbank2_a_level          14579 non-null  float64\n",
      " 58  secondary_cleaner.state.floatbank2_b_air            14557 non-null  float64\n",
      " 59  secondary_cleaner.state.floatbank2_b_level          14579 non-null  float64\n",
      " 60  secondary_cleaner.state.floatbank3_a_air            14567 non-null  float64\n",
      " 61  secondary_cleaner.state.floatbank3_a_level          14579 non-null  float64\n",
      " 62  secondary_cleaner.state.floatbank3_b_air            14579 non-null  float64\n",
      " 63  secondary_cleaner.state.floatbank3_b_level          14579 non-null  float64\n",
      " 64  secondary_cleaner.state.floatbank4_a_air            14574 non-null  float64\n",
      " 65  secondary_cleaner.state.floatbank4_a_level          14579 non-null  float64\n",
      " 66  secondary_cleaner.state.floatbank4_b_air            14579 non-null  float64\n",
      " 67  secondary_cleaner.state.floatbank4_b_level          14579 non-null  float64\n",
      " 68  secondary_cleaner.state.floatbank5_a_air            14579 non-null  float64\n",
      " 69  secondary_cleaner.state.floatbank5_a_level          14579 non-null  float64\n",
      " 70  secondary_cleaner.state.floatbank5_b_air            14579 non-null  float64\n",
      " 71  secondary_cleaner.state.floatbank5_b_level          14579 non-null  float64\n",
      " 72  secondary_cleaner.state.floatbank6_a_air            14578 non-null  float64\n",
      " 73  secondary_cleaner.state.floatbank6_a_level          14579 non-null  float64\n",
      " 74  secondary_cleaner.output.tail_au                    14579 non-null  float64\n",
      " 75  secondary_cleaner.output.tail_ag                    14578 non-null  float64\n",
      " 76  secondary_cleaner.output.tail_pb                    14575 non-null  float64\n",
      " 77  secondary_cleaner.output.tail_sol                   13659 non-null  float64\n",
      " 78  final.output.concentrate_au                         14579 non-null  float64\n",
      " 79  final.output.concentrate_ag                         14578 non-null  float64\n",
      " 80  final.output.concentrate_pb                         14578 non-null  float64\n",
      " 81  final.output.concentrate_sol                        14387 non-null  float64\n",
      " 82  final.output.recovery                               14579 non-null  float64\n",
      " 83  final.output.tail_au                                14579 non-null  float64\n",
      " 84  final.output.tail_ag                                14578 non-null  float64\n",
      " 85  final.output.tail_pb                                14504 non-null  float64\n",
      " 86  final.output.tail_sol                               14574 non-null  float64\n",
      "dtypes: float64(86), object(1)\n",
      "memory usage: 9.7+ MB\n",
      "<class 'pandas.core.frame.DataFrame'>\n",
      "RangeIndex: 4860 entries, 0 to 4859\n",
      "Data columns (total 53 columns):\n",
      " #   Column                                      Non-Null Count  Dtype  \n",
      "---  ------                                      --------------  -----  \n",
      " 0   date                                        4860 non-null   object \n",
      " 1   rougher.input.feed_au                       4860 non-null   float64\n",
      " 2   rougher.input.feed_ag                       4860 non-null   float64\n",
      " 3   rougher.input.feed_pb                       4832 non-null   float64\n",
      " 4   rougher.input.feed_sol                      4838 non-null   float64\n",
      " 5   rougher.input.feed_rate                     4856 non-null   float64\n",
      " 6   rougher.input.feed_size                     4816 non-null   float64\n",
      " 7   rougher.input.floatbank10_sulfate           4857 non-null   float64\n",
      " 8   rougher.input.floatbank10_xanthate          4859 non-null   float64\n",
      " 9   rougher.state.floatbank10_a_air             4859 non-null   float64\n",
      " 10  rougher.state.floatbank10_a_level           4859 non-null   float64\n",
      " 11  rougher.state.floatbank10_b_air             4859 non-null   float64\n",
      " 12  rougher.state.floatbank10_b_level           4859 non-null   float64\n",
      " 13  rougher.state.floatbank10_c_air             4859 non-null   float64\n",
      " 14  rougher.state.floatbank10_c_level           4859 non-null   float64\n",
      " 15  rougher.state.floatbank10_d_air             4860 non-null   float64\n",
      " 16  rougher.state.floatbank10_d_level           4860 non-null   float64\n",
      " 17  rougher.state.floatbank10_e_air             4853 non-null   float64\n",
      " 18  rougher.state.floatbank10_e_level           4860 non-null   float64\n",
      " 19  rougher.state.floatbank10_f_air             4860 non-null   float64\n",
      " 20  rougher.state.floatbank10_f_level           4860 non-null   float64\n",
      " 21  rougher.input.floatbank11_sulfate           4852 non-null   float64\n",
      " 22  rougher.input.floatbank11_xanthate          4814 non-null   float64\n",
      " 23  primary_cleaner.input.sulfate               4859 non-null   float64\n",
      " 24  primary_cleaner.input.depressant            4851 non-null   float64\n",
      " 25  primary_cleaner.input.feed_size             4860 non-null   float64\n",
      " 26  primary_cleaner.input.xanthate              4817 non-null   float64\n",
      " 27  primary_cleaner.state.floatbank8_a_air      4859 non-null   float64\n",
      " 28  primary_cleaner.state.floatbank8_a_level    4859 non-null   float64\n",
      " 29  primary_cleaner.state.floatbank8_b_air      4859 non-null   float64\n",
      " 30  primary_cleaner.state.floatbank8_b_level    4859 non-null   float64\n",
      " 31  primary_cleaner.state.floatbank8_c_air      4858 non-null   float64\n",
      " 32  primary_cleaner.state.floatbank8_c_level    4859 non-null   float64\n",
      " 33  primary_cleaner.state.floatbank8_d_air      4858 non-null   float64\n",
      " 34  primary_cleaner.state.floatbank8_d_level    4859 non-null   float64\n",
      " 35  secondary_cleaner.state.floatbank2_a_air    4734 non-null   float64\n",
      " 36  secondary_cleaner.state.floatbank2_a_level  4859 non-null   float64\n",
      " 37  secondary_cleaner.state.floatbank2_b_air    4859 non-null   float64\n",
      " 38  secondary_cleaner.state.floatbank2_b_level  4859 non-null   float64\n",
      " 39  secondary_cleaner.state.floatbank3_a_air    4859 non-null   float64\n",
      " 40  secondary_cleaner.state.floatbank3_a_level  4859 non-null   float64\n",
      " 41  secondary_cleaner.state.floatbank3_b_air    4859 non-null   float64\n",
      " 42  secondary_cleaner.state.floatbank3_b_level  4859 non-null   float64\n",
      " 43  secondary_cleaner.state.floatbank4_a_air    4859 non-null   float64\n",
      " 44  secondary_cleaner.state.floatbank4_a_level  4859 non-null   float64\n",
      " 45  secondary_cleaner.state.floatbank4_b_air    4859 non-null   float64\n",
      " 46  secondary_cleaner.state.floatbank4_b_level  4859 non-null   float64\n",
      " 47  secondary_cleaner.state.floatbank5_a_air    4859 non-null   float64\n",
      " 48  secondary_cleaner.state.floatbank5_a_level  4859 non-null   float64\n",
      " 49  secondary_cleaner.state.floatbank5_b_air    4859 non-null   float64\n",
      " 50  secondary_cleaner.state.floatbank5_b_level  4859 non-null   float64\n",
      " 51  secondary_cleaner.state.floatbank6_a_air    4859 non-null   float64\n",
      " 52  secondary_cleaner.state.floatbank6_a_level  4859 non-null   float64\n",
      "dtypes: float64(52), object(1)\n",
      "memory usage: 2.0+ MB\n",
      "<class 'pandas.core.frame.DataFrame'>\n",
      "RangeIndex: 19439 entries, 0 to 19438\n",
      "Data columns (total 87 columns):\n",
      " #   Column                                              Non-Null Count  Dtype  \n",
      "---  ------                                              --------------  -----  \n",
      " 0   date                                                19439 non-null  object \n",
      " 1   rougher.input.feed_au                               19439 non-null  float64\n",
      " 2   rougher.input.feed_ag                               19439 non-null  float64\n",
      " 3   rougher.input.feed_pb                               19339 non-null  float64\n",
      " 4   rougher.input.feed_sol                              19340 non-null  float64\n",
      " 5   rougher.input.feed_rate                             19428 non-null  float64\n",
      " 6   rougher.input.feed_size                             19294 non-null  float64\n",
      " 7   rougher.input.floatbank10_sulfate                   19405 non-null  float64\n",
      " 8   rougher.input.floatbank10_xanthate                  19431 non-null  float64\n",
      " 9   rougher.state.floatbank10_a_air                     19438 non-null  float64\n",
      " 10  rougher.state.floatbank10_a_level                   19438 non-null  float64\n",
      " 11  rougher.state.floatbank10_b_air                     19438 non-null  float64\n",
      " 12  rougher.state.floatbank10_b_level                   19438 non-null  float64\n",
      " 13  rougher.state.floatbank10_c_air                     19438 non-null  float64\n",
      " 14  rougher.state.floatbank10_c_level                   19438 non-null  float64\n",
      " 15  rougher.state.floatbank10_d_air                     19439 non-null  float64\n",
      " 16  rougher.state.floatbank10_d_level                   19439 non-null  float64\n",
      " 17  rougher.state.floatbank10_e_air                     19003 non-null  float64\n",
      " 18  rougher.state.floatbank10_e_level                   19439 non-null  float64\n",
      " 19  rougher.state.floatbank10_f_air                     19439 non-null  float64\n",
      " 20  rougher.state.floatbank10_f_level                   19439 non-null  float64\n",
      " 21  rougher.input.floatbank11_sulfate                   19395 non-null  float64\n",
      " 22  rougher.input.floatbank11_xanthate                  18986 non-null  float64\n",
      " 23  rougher.calculation.sulfate_to_au_concentrate       19437 non-null  float64\n",
      " 24  rougher.calculation.floatbank10_sulfate_to_au_feed  19437 non-null  float64\n",
      " 25  rougher.calculation.floatbank11_sulfate_to_au_feed  19437 non-null  float64\n",
      " 26  rougher.calculation.au_pb_ratio                     19439 non-null  float64\n",
      " 27  rougher.output.concentrate_au                       19439 non-null  float64\n",
      " 28  rougher.output.concentrate_ag                       19439 non-null  float64\n",
      " 29  rougher.output.concentrate_pb                       19439 non-null  float64\n",
      " 30  rougher.output.concentrate_sol                      19416 non-null  float64\n",
      " 31  rougher.output.recovery                             19439 non-null  float64\n",
      " 32  rougher.output.tail_au                              19439 non-null  float64\n",
      " 33  rougher.output.tail_ag                              19438 non-null  float64\n",
      " 34  rougher.output.tail_pb                              19439 non-null  float64\n",
      " 35  rougher.output.tail_sol                             19439 non-null  float64\n",
      " 36  primary_cleaner.input.sulfate                       19415 non-null  float64\n",
      " 37  primary_cleaner.input.depressant                    19402 non-null  float64\n",
      " 38  primary_cleaner.input.feed_size                     19439 non-null  float64\n",
      " 39  primary_cleaner.input.xanthate                      19335 non-null  float64\n",
      " 40  primary_cleaner.state.floatbank8_a_air              19435 non-null  float64\n",
      " 41  primary_cleaner.state.floatbank8_a_level            19438 non-null  float64\n",
      " 42  primary_cleaner.state.floatbank8_b_air              19435 non-null  float64\n",
      " 43  primary_cleaner.state.floatbank8_b_level            19438 non-null  float64\n",
      " 44  primary_cleaner.state.floatbank8_c_air              19437 non-null  float64\n",
      " 45  primary_cleaner.state.floatbank8_c_level            19438 non-null  float64\n",
      " 46  primary_cleaner.state.floatbank8_d_air              19436 non-null  float64\n",
      " 47  primary_cleaner.state.floatbank8_d_level            19438 non-null  float64\n",
      " 48  primary_cleaner.output.concentrate_au               19439 non-null  float64\n",
      " 49  primary_cleaner.output.concentrate_ag               19439 non-null  float64\n",
      " 50  primary_cleaner.output.concentrate_pb               19323 non-null  float64\n",
      " 51  primary_cleaner.output.concentrate_sol              19069 non-null  float64\n",
      " 52  primary_cleaner.output.tail_au                      19439 non-null  float64\n",
      " 53  primary_cleaner.output.tail_ag                      19435 non-null  float64\n",
      " 54  primary_cleaner.output.tail_pb                      19418 non-null  float64\n",
      " 55  primary_cleaner.output.tail_sol                     19377 non-null  float64\n",
      " 56  secondary_cleaner.state.floatbank2_a_air            19219 non-null  float64\n",
      " 57  secondary_cleaner.state.floatbank2_a_level          19438 non-null  float64\n",
      " 58  secondary_cleaner.state.floatbank2_b_air            19416 non-null  float64\n",
      " 59  secondary_cleaner.state.floatbank2_b_level          19438 non-null  float64\n",
      " 60  secondary_cleaner.state.floatbank3_a_air            19426 non-null  float64\n",
      " 61  secondary_cleaner.state.floatbank3_a_level          19438 non-null  float64\n",
      " 62  secondary_cleaner.state.floatbank3_b_air            19438 non-null  float64\n",
      " 63  secondary_cleaner.state.floatbank3_b_level          19438 non-null  float64\n",
      " 64  secondary_cleaner.state.floatbank4_a_air            19433 non-null  float64\n",
      " 65  secondary_cleaner.state.floatbank4_a_level          19438 non-null  float64\n",
      " 66  secondary_cleaner.state.floatbank4_b_air            19438 non-null  float64\n",
      " 67  secondary_cleaner.state.floatbank4_b_level          19438 non-null  float64\n",
      " 68  secondary_cleaner.state.floatbank5_a_air            19438 non-null  float64\n",
      " 69  secondary_cleaner.state.floatbank5_a_level          19438 non-null  float64\n",
      " 70  secondary_cleaner.state.floatbank5_b_air            19438 non-null  float64\n",
      " 71  secondary_cleaner.state.floatbank5_b_level          19438 non-null  float64\n",
      " 72  secondary_cleaner.state.floatbank6_a_air            19437 non-null  float64\n",
      " 73  secondary_cleaner.state.floatbank6_a_level          19438 non-null  float64\n",
      " 74  secondary_cleaner.output.tail_au                    19439 non-null  float64\n",
      " 75  secondary_cleaner.output.tail_ag                    19437 non-null  float64\n",
      " 76  secondary_cleaner.output.tail_pb                    19427 non-null  float64\n",
      " 77  secondary_cleaner.output.tail_sol                   17691 non-null  float64\n",
      " 78  final.output.concentrate_au                         19439 non-null  float64\n",
      " 79  final.output.concentrate_ag                         19438 non-null  float64\n",
      " 80  final.output.concentrate_pb                         19438 non-null  float64\n",
      " 81  final.output.concentrate_sol                        19228 non-null  float64\n",
      " 82  final.output.recovery                               19439 non-null  float64\n",
      " 83  final.output.tail_au                                19439 non-null  float64\n",
      " 84  final.output.tail_ag                                19438 non-null  float64\n",
      " 85  final.output.tail_pb                                19338 non-null  float64\n",
      " 86  final.output.tail_sol                               19433 non-null  float64\n",
      "dtypes: float64(86), object(1)\n",
      "memory usage: 12.9+ MB\n"
     ]
    }
   ],
   "source": [
    "#Изучим данные:\n",
    "data_train.info()\n",
    "data_test.info()\n",
    "data_full.info()"
   ]
  },
  {
   "cell_type": "markdown",
   "metadata": {},
   "source": [
    "Все типы данных float64, кроме date(object). Его стоит изменить на тип datetime."
   ]
  },
  {
   "cell_type": "code",
   "execution_count": 6,
   "metadata": {},
   "outputs": [],
   "source": [
    "#Изменим тип данных параметра date:\n",
    "for data in [data_full, data_train, data_test]:\n",
    "           for column in data:\n",
    "            if 'date' in column:\n",
    "                data[column]=pd.to_datetime(data[column])"
   ]
  },
  {
   "cell_type": "code",
   "execution_count": 7,
   "metadata": {},
   "outputs": [
    {
     "name": "stdout",
     "output_type": "stream",
     "text": [
      "<class 'pandas.core.frame.DataFrame'>\n",
      "RangeIndex: 14579 entries, 0 to 14578\n",
      "Data columns (total 87 columns):\n",
      " #   Column                                              Non-Null Count  Dtype         \n",
      "---  ------                                              --------------  -----         \n",
      " 0   date                                                14579 non-null  datetime64[ns]\n",
      " 1   rougher.input.feed_au                               14579 non-null  float64       \n",
      " 2   rougher.input.feed_ag                               14579 non-null  float64       \n",
      " 3   rougher.input.feed_pb                               14507 non-null  float64       \n",
      " 4   rougher.input.feed_sol                              14502 non-null  float64       \n",
      " 5   rougher.input.feed_rate                             14572 non-null  float64       \n",
      " 6   rougher.input.feed_size                             14478 non-null  float64       \n",
      " 7   rougher.input.floatbank10_sulfate                   14548 non-null  float64       \n",
      " 8   rougher.input.floatbank10_xanthate                  14572 non-null  float64       \n",
      " 9   rougher.state.floatbank10_a_air                     14579 non-null  float64       \n",
      " 10  rougher.state.floatbank10_a_level                   14579 non-null  float64       \n",
      " 11  rougher.state.floatbank10_b_air                     14579 non-null  float64       \n",
      " 12  rougher.state.floatbank10_b_level                   14579 non-null  float64       \n",
      " 13  rougher.state.floatbank10_c_air                     14579 non-null  float64       \n",
      " 14  rougher.state.floatbank10_c_level                   14579 non-null  float64       \n",
      " 15  rougher.state.floatbank10_d_air                     14579 non-null  float64       \n",
      " 16  rougher.state.floatbank10_d_level                   14579 non-null  float64       \n",
      " 17  rougher.state.floatbank10_e_air                     14150 non-null  float64       \n",
      " 18  rougher.state.floatbank10_e_level                   14579 non-null  float64       \n",
      " 19  rougher.state.floatbank10_f_air                     14579 non-null  float64       \n",
      " 20  rougher.state.floatbank10_f_level                   14579 non-null  float64       \n",
      " 21  rougher.input.floatbank11_sulfate                   14543 non-null  float64       \n",
      " 22  rougher.input.floatbank11_xanthate                  14172 non-null  float64       \n",
      " 23  rougher.calculation.sulfate_to_au_concentrate       14578 non-null  float64       \n",
      " 24  rougher.calculation.floatbank10_sulfate_to_au_feed  14578 non-null  float64       \n",
      " 25  rougher.calculation.floatbank11_sulfate_to_au_feed  14578 non-null  float64       \n",
      " 26  rougher.calculation.au_pb_ratio                     14579 non-null  float64       \n",
      " 27  rougher.output.concentrate_au                       14579 non-null  float64       \n",
      " 28  rougher.output.concentrate_ag                       14579 non-null  float64       \n",
      " 29  rougher.output.concentrate_pb                       14579 non-null  float64       \n",
      " 30  rougher.output.concentrate_sol                      14561 non-null  float64       \n",
      " 31  rougher.output.recovery                             14579 non-null  float64       \n",
      " 32  rougher.output.tail_au                              14579 non-null  float64       \n",
      " 33  rougher.output.tail_ag                              14578 non-null  float64       \n",
      " 34  rougher.output.tail_pb                              14579 non-null  float64       \n",
      " 35  rougher.output.tail_sol                             14579 non-null  float64       \n",
      " 36  primary_cleaner.input.sulfate                       14556 non-null  float64       \n",
      " 37  primary_cleaner.input.depressant                    14551 non-null  float64       \n",
      " 38  primary_cleaner.input.feed_size                     14579 non-null  float64       \n",
      " 39  primary_cleaner.input.xanthate                      14518 non-null  float64       \n",
      " 40  primary_cleaner.state.floatbank8_a_air              14576 non-null  float64       \n",
      " 41  primary_cleaner.state.floatbank8_a_level            14579 non-null  float64       \n",
      " 42  primary_cleaner.state.floatbank8_b_air              14576 non-null  float64       \n",
      " 43  primary_cleaner.state.floatbank8_b_level            14579 non-null  float64       \n",
      " 44  primary_cleaner.state.floatbank8_c_air              14579 non-null  float64       \n",
      " 45  primary_cleaner.state.floatbank8_c_level            14579 non-null  float64       \n",
      " 46  primary_cleaner.state.floatbank8_d_air              14578 non-null  float64       \n",
      " 47  primary_cleaner.state.floatbank8_d_level            14579 non-null  float64       \n",
      " 48  primary_cleaner.output.concentrate_au               14579 non-null  float64       \n",
      " 49  primary_cleaner.output.concentrate_ag               14579 non-null  float64       \n",
      " 50  primary_cleaner.output.concentrate_pb               14491 non-null  float64       \n",
      " 51  primary_cleaner.output.concentrate_sol              14314 non-null  float64       \n",
      " 52  primary_cleaner.output.tail_au                      14579 non-null  float64       \n",
      " 53  primary_cleaner.output.tail_ag                      14575 non-null  float64       \n",
      " 54  primary_cleaner.output.tail_pb                      14573 non-null  float64       \n",
      " 55  primary_cleaner.output.tail_sol                     14534 non-null  float64       \n",
      " 56  secondary_cleaner.state.floatbank2_a_air            14485 non-null  float64       \n",
      " 57  secondary_cleaner.state.floatbank2_a_level          14579 non-null  float64       \n",
      " 58  secondary_cleaner.state.floatbank2_b_air            14557 non-null  float64       \n",
      " 59  secondary_cleaner.state.floatbank2_b_level          14579 non-null  float64       \n",
      " 60  secondary_cleaner.state.floatbank3_a_air            14567 non-null  float64       \n",
      " 61  secondary_cleaner.state.floatbank3_a_level          14579 non-null  float64       \n",
      " 62  secondary_cleaner.state.floatbank3_b_air            14579 non-null  float64       \n",
      " 63  secondary_cleaner.state.floatbank3_b_level          14579 non-null  float64       \n",
      " 64  secondary_cleaner.state.floatbank4_a_air            14574 non-null  float64       \n",
      " 65  secondary_cleaner.state.floatbank4_a_level          14579 non-null  float64       \n",
      " 66  secondary_cleaner.state.floatbank4_b_air            14579 non-null  float64       \n",
      " 67  secondary_cleaner.state.floatbank4_b_level          14579 non-null  float64       \n",
      " 68  secondary_cleaner.state.floatbank5_a_air            14579 non-null  float64       \n",
      " 69  secondary_cleaner.state.floatbank5_a_level          14579 non-null  float64       \n",
      " 70  secondary_cleaner.state.floatbank5_b_air            14579 non-null  float64       \n",
      " 71  secondary_cleaner.state.floatbank5_b_level          14579 non-null  float64       \n",
      " 72  secondary_cleaner.state.floatbank6_a_air            14578 non-null  float64       \n",
      " 73  secondary_cleaner.state.floatbank6_a_level          14579 non-null  float64       \n",
      " 74  secondary_cleaner.output.tail_au                    14579 non-null  float64       \n",
      " 75  secondary_cleaner.output.tail_ag                    14578 non-null  float64       \n",
      " 76  secondary_cleaner.output.tail_pb                    14575 non-null  float64       \n",
      " 77  secondary_cleaner.output.tail_sol                   13659 non-null  float64       \n",
      " 78  final.output.concentrate_au                         14579 non-null  float64       \n",
      " 79  final.output.concentrate_ag                         14578 non-null  float64       \n",
      " 80  final.output.concentrate_pb                         14578 non-null  float64       \n",
      " 81  final.output.concentrate_sol                        14387 non-null  float64       \n",
      " 82  final.output.recovery                               14579 non-null  float64       \n",
      " 83  final.output.tail_au                                14579 non-null  float64       \n",
      " 84  final.output.tail_ag                                14578 non-null  float64       \n",
      " 85  final.output.tail_pb                                14504 non-null  float64       \n",
      " 86  final.output.tail_sol                               14574 non-null  float64       \n",
      "dtypes: datetime64[ns](1), float64(86)\n",
      "memory usage: 9.7 MB\n",
      "<class 'pandas.core.frame.DataFrame'>\n",
      "RangeIndex: 4860 entries, 0 to 4859\n",
      "Data columns (total 53 columns):\n",
      " #   Column                                      Non-Null Count  Dtype         \n",
      "---  ------                                      --------------  -----         \n",
      " 0   date                                        4860 non-null   datetime64[ns]\n",
      " 1   rougher.input.feed_au                       4860 non-null   float64       \n",
      " 2   rougher.input.feed_ag                       4860 non-null   float64       \n",
      " 3   rougher.input.feed_pb                       4832 non-null   float64       \n",
      " 4   rougher.input.feed_sol                      4838 non-null   float64       \n",
      " 5   rougher.input.feed_rate                     4856 non-null   float64       \n",
      " 6   rougher.input.feed_size                     4816 non-null   float64       \n",
      " 7   rougher.input.floatbank10_sulfate           4857 non-null   float64       \n",
      " 8   rougher.input.floatbank10_xanthate          4859 non-null   float64       \n",
      " 9   rougher.state.floatbank10_a_air             4859 non-null   float64       \n",
      " 10  rougher.state.floatbank10_a_level           4859 non-null   float64       \n",
      " 11  rougher.state.floatbank10_b_air             4859 non-null   float64       \n",
      " 12  rougher.state.floatbank10_b_level           4859 non-null   float64       \n",
      " 13  rougher.state.floatbank10_c_air             4859 non-null   float64       \n",
      " 14  rougher.state.floatbank10_c_level           4859 non-null   float64       \n",
      " 15  rougher.state.floatbank10_d_air             4860 non-null   float64       \n",
      " 16  rougher.state.floatbank10_d_level           4860 non-null   float64       \n",
      " 17  rougher.state.floatbank10_e_air             4853 non-null   float64       \n",
      " 18  rougher.state.floatbank10_e_level           4860 non-null   float64       \n",
      " 19  rougher.state.floatbank10_f_air             4860 non-null   float64       \n",
      " 20  rougher.state.floatbank10_f_level           4860 non-null   float64       \n",
      " 21  rougher.input.floatbank11_sulfate           4852 non-null   float64       \n",
      " 22  rougher.input.floatbank11_xanthate          4814 non-null   float64       \n",
      " 23  primary_cleaner.input.sulfate               4859 non-null   float64       \n",
      " 24  primary_cleaner.input.depressant            4851 non-null   float64       \n",
      " 25  primary_cleaner.input.feed_size             4860 non-null   float64       \n",
      " 26  primary_cleaner.input.xanthate              4817 non-null   float64       \n",
      " 27  primary_cleaner.state.floatbank8_a_air      4859 non-null   float64       \n",
      " 28  primary_cleaner.state.floatbank8_a_level    4859 non-null   float64       \n",
      " 29  primary_cleaner.state.floatbank8_b_air      4859 non-null   float64       \n",
      " 30  primary_cleaner.state.floatbank8_b_level    4859 non-null   float64       \n",
      " 31  primary_cleaner.state.floatbank8_c_air      4858 non-null   float64       \n",
      " 32  primary_cleaner.state.floatbank8_c_level    4859 non-null   float64       \n",
      " 33  primary_cleaner.state.floatbank8_d_air      4858 non-null   float64       \n",
      " 34  primary_cleaner.state.floatbank8_d_level    4859 non-null   float64       \n",
      " 35  secondary_cleaner.state.floatbank2_a_air    4734 non-null   float64       \n",
      " 36  secondary_cleaner.state.floatbank2_a_level  4859 non-null   float64       \n",
      " 37  secondary_cleaner.state.floatbank2_b_air    4859 non-null   float64       \n",
      " 38  secondary_cleaner.state.floatbank2_b_level  4859 non-null   float64       \n",
      " 39  secondary_cleaner.state.floatbank3_a_air    4859 non-null   float64       \n",
      " 40  secondary_cleaner.state.floatbank3_a_level  4859 non-null   float64       \n",
      " 41  secondary_cleaner.state.floatbank3_b_air    4859 non-null   float64       \n",
      " 42  secondary_cleaner.state.floatbank3_b_level  4859 non-null   float64       \n",
      " 43  secondary_cleaner.state.floatbank4_a_air    4859 non-null   float64       \n",
      " 44  secondary_cleaner.state.floatbank4_a_level  4859 non-null   float64       \n",
      " 45  secondary_cleaner.state.floatbank4_b_air    4859 non-null   float64       \n",
      " 46  secondary_cleaner.state.floatbank4_b_level  4859 non-null   float64       \n",
      " 47  secondary_cleaner.state.floatbank5_a_air    4859 non-null   float64       \n",
      " 48  secondary_cleaner.state.floatbank5_a_level  4859 non-null   float64       \n",
      " 49  secondary_cleaner.state.floatbank5_b_air    4859 non-null   float64       \n",
      " 50  secondary_cleaner.state.floatbank5_b_level  4859 non-null   float64       \n",
      " 51  secondary_cleaner.state.floatbank6_a_air    4859 non-null   float64       \n",
      " 52  secondary_cleaner.state.floatbank6_a_level  4859 non-null   float64       \n",
      "dtypes: datetime64[ns](1), float64(52)\n",
      "memory usage: 2.0 MB\n",
      "<class 'pandas.core.frame.DataFrame'>\n",
      "RangeIndex: 19439 entries, 0 to 19438\n",
      "Data columns (total 87 columns):\n",
      " #   Column                                              Non-Null Count  Dtype         \n",
      "---  ------                                              --------------  -----         \n",
      " 0   date                                                19439 non-null  datetime64[ns]\n",
      " 1   rougher.input.feed_au                               19439 non-null  float64       \n",
      " 2   rougher.input.feed_ag                               19439 non-null  float64       \n",
      " 3   rougher.input.feed_pb                               19339 non-null  float64       \n",
      " 4   rougher.input.feed_sol                              19340 non-null  float64       \n",
      " 5   rougher.input.feed_rate                             19428 non-null  float64       \n",
      " 6   rougher.input.feed_size                             19294 non-null  float64       \n",
      " 7   rougher.input.floatbank10_sulfate                   19405 non-null  float64       \n",
      " 8   rougher.input.floatbank10_xanthate                  19431 non-null  float64       \n",
      " 9   rougher.state.floatbank10_a_air                     19438 non-null  float64       \n",
      " 10  rougher.state.floatbank10_a_level                   19438 non-null  float64       \n",
      " 11  rougher.state.floatbank10_b_air                     19438 non-null  float64       \n",
      " 12  rougher.state.floatbank10_b_level                   19438 non-null  float64       \n",
      " 13  rougher.state.floatbank10_c_air                     19438 non-null  float64       \n",
      " 14  rougher.state.floatbank10_c_level                   19438 non-null  float64       \n",
      " 15  rougher.state.floatbank10_d_air                     19439 non-null  float64       \n",
      " 16  rougher.state.floatbank10_d_level                   19439 non-null  float64       \n",
      " 17  rougher.state.floatbank10_e_air                     19003 non-null  float64       \n",
      " 18  rougher.state.floatbank10_e_level                   19439 non-null  float64       \n",
      " 19  rougher.state.floatbank10_f_air                     19439 non-null  float64       \n",
      " 20  rougher.state.floatbank10_f_level                   19439 non-null  float64       \n",
      " 21  rougher.input.floatbank11_sulfate                   19395 non-null  float64       \n",
      " 22  rougher.input.floatbank11_xanthate                  18986 non-null  float64       \n",
      " 23  rougher.calculation.sulfate_to_au_concentrate       19437 non-null  float64       \n",
      " 24  rougher.calculation.floatbank10_sulfate_to_au_feed  19437 non-null  float64       \n",
      " 25  rougher.calculation.floatbank11_sulfate_to_au_feed  19437 non-null  float64       \n",
      " 26  rougher.calculation.au_pb_ratio                     19439 non-null  float64       \n",
      " 27  rougher.output.concentrate_au                       19439 non-null  float64       \n",
      " 28  rougher.output.concentrate_ag                       19439 non-null  float64       \n",
      " 29  rougher.output.concentrate_pb                       19439 non-null  float64       \n",
      " 30  rougher.output.concentrate_sol                      19416 non-null  float64       \n",
      " 31  rougher.output.recovery                             19439 non-null  float64       \n",
      " 32  rougher.output.tail_au                              19439 non-null  float64       \n",
      " 33  rougher.output.tail_ag                              19438 non-null  float64       \n",
      " 34  rougher.output.tail_pb                              19439 non-null  float64       \n",
      " 35  rougher.output.tail_sol                             19439 non-null  float64       \n",
      " 36  primary_cleaner.input.sulfate                       19415 non-null  float64       \n",
      " 37  primary_cleaner.input.depressant                    19402 non-null  float64       \n",
      " 38  primary_cleaner.input.feed_size                     19439 non-null  float64       \n",
      " 39  primary_cleaner.input.xanthate                      19335 non-null  float64       \n",
      " 40  primary_cleaner.state.floatbank8_a_air              19435 non-null  float64       \n",
      " 41  primary_cleaner.state.floatbank8_a_level            19438 non-null  float64       \n",
      " 42  primary_cleaner.state.floatbank8_b_air              19435 non-null  float64       \n",
      " 43  primary_cleaner.state.floatbank8_b_level            19438 non-null  float64       \n",
      " 44  primary_cleaner.state.floatbank8_c_air              19437 non-null  float64       \n",
      " 45  primary_cleaner.state.floatbank8_c_level            19438 non-null  float64       \n",
      " 46  primary_cleaner.state.floatbank8_d_air              19436 non-null  float64       \n",
      " 47  primary_cleaner.state.floatbank8_d_level            19438 non-null  float64       \n",
      " 48  primary_cleaner.output.concentrate_au               19439 non-null  float64       \n",
      " 49  primary_cleaner.output.concentrate_ag               19439 non-null  float64       \n",
      " 50  primary_cleaner.output.concentrate_pb               19323 non-null  float64       \n",
      " 51  primary_cleaner.output.concentrate_sol              19069 non-null  float64       \n",
      " 52  primary_cleaner.output.tail_au                      19439 non-null  float64       \n",
      " 53  primary_cleaner.output.tail_ag                      19435 non-null  float64       \n",
      " 54  primary_cleaner.output.tail_pb                      19418 non-null  float64       \n",
      " 55  primary_cleaner.output.tail_sol                     19377 non-null  float64       \n",
      " 56  secondary_cleaner.state.floatbank2_a_air            19219 non-null  float64       \n",
      " 57  secondary_cleaner.state.floatbank2_a_level          19438 non-null  float64       \n",
      " 58  secondary_cleaner.state.floatbank2_b_air            19416 non-null  float64       \n",
      " 59  secondary_cleaner.state.floatbank2_b_level          19438 non-null  float64       \n",
      " 60  secondary_cleaner.state.floatbank3_a_air            19426 non-null  float64       \n",
      " 61  secondary_cleaner.state.floatbank3_a_level          19438 non-null  float64       \n",
      " 62  secondary_cleaner.state.floatbank3_b_air            19438 non-null  float64       \n",
      " 63  secondary_cleaner.state.floatbank3_b_level          19438 non-null  float64       \n",
      " 64  secondary_cleaner.state.floatbank4_a_air            19433 non-null  float64       \n",
      " 65  secondary_cleaner.state.floatbank4_a_level          19438 non-null  float64       \n",
      " 66  secondary_cleaner.state.floatbank4_b_air            19438 non-null  float64       \n",
      " 67  secondary_cleaner.state.floatbank4_b_level          19438 non-null  float64       \n",
      " 68  secondary_cleaner.state.floatbank5_a_air            19438 non-null  float64       \n",
      " 69  secondary_cleaner.state.floatbank5_a_level          19438 non-null  float64       \n",
      " 70  secondary_cleaner.state.floatbank5_b_air            19438 non-null  float64       \n",
      " 71  secondary_cleaner.state.floatbank5_b_level          19438 non-null  float64       \n",
      " 72  secondary_cleaner.state.floatbank6_a_air            19437 non-null  float64       \n",
      " 73  secondary_cleaner.state.floatbank6_a_level          19438 non-null  float64       \n",
      " 74  secondary_cleaner.output.tail_au                    19439 non-null  float64       \n",
      " 75  secondary_cleaner.output.tail_ag                    19437 non-null  float64       \n",
      " 76  secondary_cleaner.output.tail_pb                    19427 non-null  float64       \n",
      " 77  secondary_cleaner.output.tail_sol                   17691 non-null  float64       \n",
      " 78  final.output.concentrate_au                         19439 non-null  float64       \n",
      " 79  final.output.concentrate_ag                         19438 non-null  float64       \n",
      " 80  final.output.concentrate_pb                         19438 non-null  float64       \n",
      " 81  final.output.concentrate_sol                        19228 non-null  float64       \n",
      " 82  final.output.recovery                               19439 non-null  float64       \n",
      " 83  final.output.tail_au                                19439 non-null  float64       \n",
      " 84  final.output.tail_ag                                19438 non-null  float64       \n",
      " 85  final.output.tail_pb                                19338 non-null  float64       \n",
      " 86  final.output.tail_sol                               19433 non-null  float64       \n",
      "dtypes: datetime64[ns](1), float64(86)\n",
      "memory usage: 12.9 MB\n"
     ]
    }
   ],
   "source": [
    "#Проверим, что получилось:\n",
    "data_train.info()\n",
    "data_test.info()\n",
    "data_full.info()"
   ]
  },
  {
   "cell_type": "code",
   "execution_count": 8,
   "metadata": {
    "scrolled": true
   },
   "outputs": [
    {
     "data": {
      "text/plain": [
       "0"
      ]
     },
     "execution_count": 8,
     "metadata": {},
     "output_type": "execute_result"
    }
   ],
   "source": [
    "#Проверим на дубликаты:\n",
    "data_full.duplicated().sum()\n",
    "data_test.duplicated().sum()\n",
    "data_train.duplicated().sum()"
   ]
  },
  {
   "cell_type": "markdown",
   "metadata": {},
   "source": [
    "Отлично, дубликатов в данных нет."
   ]
  },
  {
   "cell_type": "code",
   "execution_count": 9,
   "metadata": {},
   "outputs": [
    {
     "name": "stdout",
     "output_type": "stream",
     "text": [
      "secondary_cleaner.output.tail_sol           1748\n",
      "rougher.input.floatbank11_xanthate           453\n",
      "rougher.state.floatbank10_e_air              436\n",
      "primary_cleaner.output.concentrate_sol       370\n",
      "secondary_cleaner.state.floatbank2_a_air     220\n",
      "                                            ... \n",
      "rougher.output.tail_sol                        0\n",
      "primary_cleaner.input.feed_size                0\n",
      "rougher.input.feed_au                          0\n",
      "primary_cleaner.output.concentrate_au          0\n",
      "date                                           0\n",
      "Length: 87, dtype: int64\n",
      "secondary_cleaner.state.floatbank2_a_air      126\n",
      "rougher.input.floatbank11_xanthate             46\n",
      "rougher.input.feed_size                        44\n",
      "primary_cleaner.input.xanthate                 43\n",
      "rougher.input.feed_pb                          28\n",
      "rougher.input.feed_sol                         22\n",
      "primary_cleaner.input.depressant                9\n",
      "rougher.input.floatbank11_sulfate               8\n",
      "rougher.state.floatbank10_e_air                 7\n",
      "rougher.input.feed_rate                         4\n",
      "rougher.input.floatbank10_sulfate               3\n",
      "primary_cleaner.state.floatbank8_d_air          2\n",
      "primary_cleaner.state.floatbank8_c_air          2\n",
      "primary_cleaner.state.floatbank8_d_level        1\n",
      "secondary_cleaner.state.floatbank3_a_level      1\n",
      "secondary_cleaner.state.floatbank2_a_level      1\n",
      "secondary_cleaner.state.floatbank2_b_air        1\n",
      "secondary_cleaner.state.floatbank2_b_level      1\n",
      "secondary_cleaner.state.floatbank3_a_air        1\n",
      "secondary_cleaner.state.floatbank4_a_air        1\n",
      "secondary_cleaner.state.floatbank3_b_air        1\n",
      "secondary_cleaner.state.floatbank3_b_level      1\n",
      "secondary_cleaner.state.floatbank4_a_level      1\n",
      "secondary_cleaner.state.floatbank4_b_air        1\n",
      "secondary_cleaner.state.floatbank4_b_level      1\n",
      "secondary_cleaner.state.floatbank5_a_air        1\n",
      "secondary_cleaner.state.floatbank5_a_level      1\n",
      "secondary_cleaner.state.floatbank5_b_air        1\n",
      "secondary_cleaner.state.floatbank5_b_level      1\n",
      "secondary_cleaner.state.floatbank6_a_air        1\n",
      "primary_cleaner.state.floatbank8_c_level        1\n",
      "secondary_cleaner.state.floatbank6_a_level      1\n",
      "primary_cleaner.state.floatbank8_b_level        1\n",
      "rougher.state.floatbank10_c_air                 1\n",
      "primary_cleaner.state.floatbank8_a_level        1\n",
      "primary_cleaner.state.floatbank8_a_air          1\n",
      "rougher.input.floatbank10_xanthate              1\n",
      "primary_cleaner.input.sulfate                   1\n",
      "rougher.state.floatbank10_a_air                 1\n",
      "rougher.state.floatbank10_a_level               1\n",
      "rougher.state.floatbank10_b_air                 1\n",
      "primary_cleaner.state.floatbank8_b_air          1\n",
      "rougher.state.floatbank10_b_level               1\n",
      "rougher.state.floatbank10_c_level               1\n",
      "rougher.input.feed_ag                           0\n",
      "rougher.state.floatbank10_d_level               0\n",
      "rougher.state.floatbank10_d_air                 0\n",
      "rougher.state.floatbank10_e_level               0\n",
      "rougher.state.floatbank10_f_air                 0\n",
      "rougher.state.floatbank10_f_level               0\n",
      "primary_cleaner.input.feed_size                 0\n",
      "rougher.input.feed_au                           0\n",
      "date                                            0\n",
      "dtype: int64\n",
      "secondary_cleaner.output.tail_sol           920\n",
      "rougher.state.floatbank10_e_air             429\n",
      "rougher.input.floatbank11_xanthate          407\n",
      "primary_cleaner.output.concentrate_sol      265\n",
      "final.output.concentrate_sol                192\n",
      "                                           ... \n",
      "primary_cleaner.state.floatbank8_c_air        0\n",
      "primary_cleaner.state.floatbank8_c_level      0\n",
      "primary_cleaner.state.floatbank8_d_level      0\n",
      "primary_cleaner.output.concentrate_au         0\n",
      "primary_cleaner.state.floatbank8_b_level      0\n",
      "Length: 87, dtype: int64\n"
     ]
    }
   ],
   "source": [
    "# проверяем пропущенные значения в иcходном файле\n",
    "print(data_full.isna().sum().sort_values(ascending=False))\n",
    "\n",
    "print(data_test.isna().sum().sort_values(ascending=False))\n",
    "\n",
    "print(data_train.isna().sum().sort_values(ascending=False))"
   ]
  },
  {
   "cell_type": "markdown",
   "metadata": {},
   "source": [
    "Заменю пропуски на последнее ненулевое до этого значение, так как соседние по времени параметры похожи."
   ]
  },
  {
   "cell_type": "code",
   "execution_count": 10,
   "metadata": {},
   "outputs": [],
   "source": [
    "#В этом мне поможет метод 'ffill' в аргументе:\n",
    "data_full = data_full.fillna(method='ffill')\n",
    "data_train= data_train.fillna(method='ffill') \n",
    "data_test = data_test.fillna(method='ffill')"
   ]
  },
  {
   "cell_type": "code",
   "execution_count": 11,
   "metadata": {},
   "outputs": [
    {
     "name": "stdout",
     "output_type": "stream",
     "text": [
      "date                                                  0\n",
      "primary_cleaner.output.tail_sol                       0\n",
      "secondary_cleaner.state.floatbank3_b_level            0\n",
      "secondary_cleaner.state.floatbank3_b_air              0\n",
      "secondary_cleaner.state.floatbank3_a_level            0\n",
      "                                                     ..\n",
      "rougher.output.concentrate_au                         0\n",
      "rougher.calculation.au_pb_ratio                       0\n",
      "rougher.calculation.floatbank11_sulfate_to_au_feed    0\n",
      "rougher.calculation.floatbank10_sulfate_to_au_feed    0\n",
      "final.output.tail_sol                                 0\n",
      "Length: 87, dtype: int64\n",
      "date                                          0\n",
      "primary_cleaner.state.floatbank8_a_air        0\n",
      "primary_cleaner.state.floatbank8_b_air        0\n",
      "primary_cleaner.state.floatbank8_b_level      0\n",
      "primary_cleaner.state.floatbank8_c_air        0\n",
      "primary_cleaner.state.floatbank8_c_level      0\n",
      "primary_cleaner.state.floatbank8_d_air        0\n",
      "primary_cleaner.state.floatbank8_d_level      0\n",
      "secondary_cleaner.state.floatbank2_a_air      0\n",
      "secondary_cleaner.state.floatbank2_a_level    0\n",
      "secondary_cleaner.state.floatbank2_b_air      0\n",
      "secondary_cleaner.state.floatbank2_b_level    0\n",
      "secondary_cleaner.state.floatbank3_a_air      0\n",
      "secondary_cleaner.state.floatbank3_a_level    0\n",
      "secondary_cleaner.state.floatbank3_b_air      0\n",
      "secondary_cleaner.state.floatbank3_b_level    0\n",
      "secondary_cleaner.state.floatbank4_a_air      0\n",
      "secondary_cleaner.state.floatbank4_a_level    0\n",
      "secondary_cleaner.state.floatbank4_b_air      0\n",
      "secondary_cleaner.state.floatbank4_b_level    0\n",
      "secondary_cleaner.state.floatbank5_a_air      0\n",
      "secondary_cleaner.state.floatbank5_a_level    0\n",
      "secondary_cleaner.state.floatbank5_b_air      0\n",
      "secondary_cleaner.state.floatbank5_b_level    0\n",
      "secondary_cleaner.state.floatbank6_a_air      0\n",
      "primary_cleaner.state.floatbank8_a_level      0\n",
      "primary_cleaner.input.xanthate                0\n",
      "rougher.input.feed_au                         0\n",
      "primary_cleaner.input.feed_size               0\n",
      "rougher.input.feed_ag                         0\n",
      "rougher.input.feed_pb                         0\n",
      "rougher.input.feed_sol                        0\n",
      "rougher.input.feed_rate                       0\n",
      "rougher.input.feed_size                       0\n",
      "rougher.input.floatbank10_sulfate             0\n",
      "rougher.input.floatbank10_xanthate            0\n",
      "rougher.state.floatbank10_a_air               0\n",
      "rougher.state.floatbank10_a_level             0\n",
      "rougher.state.floatbank10_b_air               0\n",
      "rougher.state.floatbank10_b_level             0\n",
      "rougher.state.floatbank10_c_air               0\n",
      "rougher.state.floatbank10_c_level             0\n",
      "rougher.state.floatbank10_d_air               0\n",
      "rougher.state.floatbank10_d_level             0\n",
      "rougher.state.floatbank10_e_air               0\n",
      "rougher.state.floatbank10_e_level             0\n",
      "rougher.state.floatbank10_f_air               0\n",
      "rougher.state.floatbank10_f_level             0\n",
      "rougher.input.floatbank11_sulfate             0\n",
      "rougher.input.floatbank11_xanthate            0\n",
      "primary_cleaner.input.sulfate                 0\n",
      "primary_cleaner.input.depressant              0\n",
      "secondary_cleaner.state.floatbank6_a_level    0\n",
      "dtype: int64\n",
      "date                                                  0\n",
      "primary_cleaner.output.tail_sol                       0\n",
      "secondary_cleaner.state.floatbank3_b_level            0\n",
      "secondary_cleaner.state.floatbank3_b_air              0\n",
      "secondary_cleaner.state.floatbank3_a_level            0\n",
      "                                                     ..\n",
      "rougher.output.concentrate_au                         0\n",
      "rougher.calculation.au_pb_ratio                       0\n",
      "rougher.calculation.floatbank11_sulfate_to_au_feed    0\n",
      "rougher.calculation.floatbank10_sulfate_to_au_feed    0\n",
      "final.output.tail_sol                                 0\n",
      "Length: 87, dtype: int64\n"
     ]
    }
   ],
   "source": [
    "#Проверю, что получилось:\n",
    "print(data_full.isna().sum().sort_values(ascending=False))\n",
    "\n",
    "print(data_test.isna().sum().sort_values(ascending=False))\n",
    "\n",
    "print(data_train.isna().sum().sort_values(ascending=False))"
   ]
  },
  {
   "cell_type": "code",
   "execution_count": 12,
   "metadata": {},
   "outputs": [],
   "source": [
    "data_full = data_full[data_full['rougher.output.recovery'] > 0]\n",
    "data_full = data_full[data_full['final.output.recovery'] > 0]\n",
    "\n",
    "data_train = data_train[data_train['rougher.output.recovery'] > 0]\n",
    "data_train = data_train[data_train['final.output.recovery'] > 0]"
   ]
  },
  {
   "cell_type": "markdown",
   "metadata": {},
   "source": [
    "Отлично, пропусков теперь нет."
   ]
  },
  {
   "cell_type": "markdown",
   "metadata": {},
   "source": [
    "1.2. Проверю, что эффективность обогащения рассчитана правильно. Вычислю её на обучающей выборке для признака rougher.output.recovery. Найду MAE между моими расчётами и значением признака."
   ]
  },
  {
   "cell_type": "code",
   "execution_count": 13,
   "metadata": {},
   "outputs": [],
   "source": [
    "#рассчитаем recovery по формуле из тз:\n",
    "data_train['recovery'] = (data_train['rougher.output.concentrate_au']*(data_train['rougher.input.feed_au'] \\\n",
    "- data_train['rougher.output.tail_au']))/(data_train['rougher.input.feed_au']*(data_train['rougher.output.concentrate_au'] \\\n",
    "- data_train['rougher.output.tail_au']))*100"
   ]
  },
  {
   "cell_type": "code",
   "execution_count": 14,
   "metadata": {},
   "outputs": [
    {
     "data": {
      "text/plain": [
       "0        87.107763\n",
       "1        86.843261\n",
       "2        86.842308\n",
       "3        87.226430\n",
       "4        86.688794\n",
       "           ...    \n",
       "14574    87.684717\n",
       "14575    90.677361\n",
       "14576    89.574376\n",
       "14577    87.724007\n",
       "14578    88.890579\n",
       "Name: recovery, Length: 14089, dtype: float64"
      ]
     },
     "execution_count": 14,
     "metadata": {},
     "output_type": "execute_result"
    }
   ],
   "source": [
    "data_train['recovery']"
   ]
  },
  {
   "cell_type": "code",
   "execution_count": 16,
   "metadata": {},
   "outputs": [
    {
     "name": "stdout",
     "output_type": "stream",
     "text": [
      "1.0108805615202916e-14\n"
     ]
    }
   ],
   "source": [
    "print(mean_absolute_error(data_train['rougher.output.recovery'], data_train['recovery']))"
   ]
  },
  {
   "cell_type": "markdown",
   "metadata": {},
   "source": [
    "Вывод: Эффективность обогащения рассчитана правильно, так как MAE стремится к нулю."
   ]
  },
  {
   "cell_type": "markdown",
   "metadata": {},
   "source": [
    "1.3. Проанализируем признаки, недоступные в тестовой выборке."
   ]
  },
  {
   "cell_type": "code",
   "execution_count": 17,
   "metadata": {},
   "outputs": [],
   "source": [
    "#Уберем из обучающей выборки тестовую:\n",
    "train_wo_test = data_train.drop(columns=list(data_test.columns))"
   ]
  },
  {
   "cell_type": "code",
   "execution_count": 18,
   "metadata": {},
   "outputs": [
    {
     "name": "stdout",
     "output_type": "stream",
     "text": [
      "<class 'pandas.core.frame.DataFrame'>\n",
      "Index: 14089 entries, 0 to 14578\n",
      "Data columns (total 35 columns):\n",
      " #   Column                                              Non-Null Count  Dtype  \n",
      "---  ------                                              --------------  -----  \n",
      " 0   rougher.calculation.sulfate_to_au_concentrate       14089 non-null  float64\n",
      " 1   rougher.calculation.floatbank10_sulfate_to_au_feed  14089 non-null  float64\n",
      " 2   rougher.calculation.floatbank11_sulfate_to_au_feed  14089 non-null  float64\n",
      " 3   rougher.calculation.au_pb_ratio                     14089 non-null  float64\n",
      " 4   rougher.output.concentrate_au                       14089 non-null  float64\n",
      " 5   rougher.output.concentrate_ag                       14089 non-null  float64\n",
      " 6   rougher.output.concentrate_pb                       14089 non-null  float64\n",
      " 7   rougher.output.concentrate_sol                      14089 non-null  float64\n",
      " 8   rougher.output.recovery                             14089 non-null  float64\n",
      " 9   rougher.output.tail_au                              14089 non-null  float64\n",
      " 10  rougher.output.tail_ag                              14089 non-null  float64\n",
      " 11  rougher.output.tail_pb                              14089 non-null  float64\n",
      " 12  rougher.output.tail_sol                             14089 non-null  float64\n",
      " 13  primary_cleaner.output.concentrate_au               14089 non-null  float64\n",
      " 14  primary_cleaner.output.concentrate_ag               14089 non-null  float64\n",
      " 15  primary_cleaner.output.concentrate_pb               14089 non-null  float64\n",
      " 16  primary_cleaner.output.concentrate_sol              14089 non-null  float64\n",
      " 17  primary_cleaner.output.tail_au                      14089 non-null  float64\n",
      " 18  primary_cleaner.output.tail_ag                      14089 non-null  float64\n",
      " 19  primary_cleaner.output.tail_pb                      14089 non-null  float64\n",
      " 20  primary_cleaner.output.tail_sol                     14089 non-null  float64\n",
      " 21  secondary_cleaner.output.tail_au                    14089 non-null  float64\n",
      " 22  secondary_cleaner.output.tail_ag                    14089 non-null  float64\n",
      " 23  secondary_cleaner.output.tail_pb                    14089 non-null  float64\n",
      " 24  secondary_cleaner.output.tail_sol                   14089 non-null  float64\n",
      " 25  final.output.concentrate_au                         14089 non-null  float64\n",
      " 26  final.output.concentrate_ag                         14089 non-null  float64\n",
      " 27  final.output.concentrate_pb                         14089 non-null  float64\n",
      " 28  final.output.concentrate_sol                        14089 non-null  float64\n",
      " 29  final.output.recovery                               14089 non-null  float64\n",
      " 30  final.output.tail_au                                14089 non-null  float64\n",
      " 31  final.output.tail_ag                                14089 non-null  float64\n",
      " 32  final.output.tail_pb                                14089 non-null  float64\n",
      " 33  final.output.tail_sol                               14089 non-null  float64\n",
      " 34  recovery                                            14089 non-null  float64\n",
      "dtypes: float64(35)\n",
      "memory usage: 3.9 MB\n"
     ]
    }
   ],
   "source": [
    "#Изучим данные:\n",
    "train_wo_test.info()"
   ]
  },
  {
   "cell_type": "code",
   "execution_count": 19,
   "metadata": {},
   "outputs": [
    {
     "data": {
      "text/html": [
       "<div>\n",
       "<style scoped>\n",
       "    .dataframe tbody tr th:only-of-type {\n",
       "        vertical-align: middle;\n",
       "    }\n",
       "\n",
       "    .dataframe tbody tr th {\n",
       "        vertical-align: top;\n",
       "    }\n",
       "\n",
       "    .dataframe thead th {\n",
       "        text-align: right;\n",
       "    }\n",
       "</style>\n",
       "<table border=\"1\" class=\"dataframe\">\n",
       "  <thead>\n",
       "    <tr style=\"text-align: right;\">\n",
       "      <th></th>\n",
       "      <th>rougher.calculation.sulfate_to_au_concentrate</th>\n",
       "      <th>rougher.calculation.floatbank10_sulfate_to_au_feed</th>\n",
       "      <th>rougher.calculation.floatbank11_sulfate_to_au_feed</th>\n",
       "      <th>rougher.calculation.au_pb_ratio</th>\n",
       "      <th>rougher.output.concentrate_au</th>\n",
       "      <th>rougher.output.concentrate_ag</th>\n",
       "      <th>rougher.output.concentrate_pb</th>\n",
       "      <th>rougher.output.concentrate_sol</th>\n",
       "      <th>rougher.output.recovery</th>\n",
       "      <th>rougher.output.tail_au</th>\n",
       "      <th>...</th>\n",
       "      <th>final.output.concentrate_au</th>\n",
       "      <th>final.output.concentrate_ag</th>\n",
       "      <th>final.output.concentrate_pb</th>\n",
       "      <th>final.output.concentrate_sol</th>\n",
       "      <th>final.output.recovery</th>\n",
       "      <th>final.output.tail_au</th>\n",
       "      <th>final.output.tail_ag</th>\n",
       "      <th>final.output.tail_pb</th>\n",
       "      <th>final.output.tail_sol</th>\n",
       "      <th>recovery</th>\n",
       "    </tr>\n",
       "  </thead>\n",
       "  <tbody>\n",
       "    <tr>\n",
       "      <th>0</th>\n",
       "      <td>41885.707031</td>\n",
       "      <td>3481.779053</td>\n",
       "      <td>3520.337158</td>\n",
       "      <td>2.838687</td>\n",
       "      <td>19.793808</td>\n",
       "      <td>11.500771</td>\n",
       "      <td>7.101074</td>\n",
       "      <td>28.029297</td>\n",
       "      <td>87.107763</td>\n",
       "      <td>1.170244</td>\n",
       "      <td>...</td>\n",
       "      <td>42.192020</td>\n",
       "      <td>6.055403</td>\n",
       "      <td>9.889648</td>\n",
       "      <td>5.507324</td>\n",
       "      <td>70.541216</td>\n",
       "      <td>2.143149</td>\n",
       "      <td>10.411962</td>\n",
       "      <td>0.895447</td>\n",
       "      <td>16.904297</td>\n",
       "      <td>87.107763</td>\n",
       "    </tr>\n",
       "    <tr>\n",
       "      <th>1</th>\n",
       "      <td>42050.861809</td>\n",
       "      <td>3498.370979</td>\n",
       "      <td>3489.981857</td>\n",
       "      <td>2.858998</td>\n",
       "      <td>20.050975</td>\n",
       "      <td>11.615865</td>\n",
       "      <td>7.278807</td>\n",
       "      <td>28.067063</td>\n",
       "      <td>86.843261</td>\n",
       "      <td>1.184827</td>\n",
       "      <td>...</td>\n",
       "      <td>42.701629</td>\n",
       "      <td>6.029369</td>\n",
       "      <td>9.968944</td>\n",
       "      <td>5.257781</td>\n",
       "      <td>69.266198</td>\n",
       "      <td>2.224930</td>\n",
       "      <td>10.462676</td>\n",
       "      <td>0.927452</td>\n",
       "      <td>16.634514</td>\n",
       "      <td>86.843261</td>\n",
       "    </tr>\n",
       "    <tr>\n",
       "      <th>2</th>\n",
       "      <td>42018.101184</td>\n",
       "      <td>3495.348910</td>\n",
       "      <td>3502.359819</td>\n",
       "      <td>2.945989</td>\n",
       "      <td>19.737170</td>\n",
       "      <td>11.695753</td>\n",
       "      <td>7.216833</td>\n",
       "      <td>27.454037</td>\n",
       "      <td>86.842308</td>\n",
       "      <td>1.162562</td>\n",
       "      <td>...</td>\n",
       "      <td>42.657501</td>\n",
       "      <td>6.055926</td>\n",
       "      <td>10.213995</td>\n",
       "      <td>5.383759</td>\n",
       "      <td>68.116445</td>\n",
       "      <td>2.257889</td>\n",
       "      <td>10.507046</td>\n",
       "      <td>0.953716</td>\n",
       "      <td>16.208849</td>\n",
       "      <td>86.842308</td>\n",
       "    </tr>\n",
       "    <tr>\n",
       "      <th>3</th>\n",
       "      <td>42029.447991</td>\n",
       "      <td>3498.578313</td>\n",
       "      <td>3499.162912</td>\n",
       "      <td>3.002340</td>\n",
       "      <td>19.320810</td>\n",
       "      <td>11.915047</td>\n",
       "      <td>7.175616</td>\n",
       "      <td>27.341277</td>\n",
       "      <td>87.226430</td>\n",
       "      <td>1.079755</td>\n",
       "      <td>...</td>\n",
       "      <td>42.689819</td>\n",
       "      <td>6.047977</td>\n",
       "      <td>9.977019</td>\n",
       "      <td>4.858634</td>\n",
       "      <td>68.347543</td>\n",
       "      <td>2.146849</td>\n",
       "      <td>10.422762</td>\n",
       "      <td>0.883763</td>\n",
       "      <td>16.532835</td>\n",
       "      <td>87.226430</td>\n",
       "    </tr>\n",
       "    <tr>\n",
       "      <th>4</th>\n",
       "      <td>42125.354245</td>\n",
       "      <td>3494.800771</td>\n",
       "      <td>3506.679315</td>\n",
       "      <td>3.169615</td>\n",
       "      <td>19.216101</td>\n",
       "      <td>12.411054</td>\n",
       "      <td>7.240205</td>\n",
       "      <td>27.041023</td>\n",
       "      <td>86.688794</td>\n",
       "      <td>1.012642</td>\n",
       "      <td>...</td>\n",
       "      <td>42.774141</td>\n",
       "      <td>6.148599</td>\n",
       "      <td>10.142511</td>\n",
       "      <td>4.939416</td>\n",
       "      <td>66.927016</td>\n",
       "      <td>2.055292</td>\n",
       "      <td>10.360302</td>\n",
       "      <td>0.792826</td>\n",
       "      <td>16.525686</td>\n",
       "      <td>86.688794</td>\n",
       "    </tr>\n",
       "  </tbody>\n",
       "</table>\n",
       "<p>5 rows × 35 columns</p>\n",
       "</div>"
      ],
      "text/plain": [
       "   rougher.calculation.sulfate_to_au_concentrate   \n",
       "0                                   41885.707031  \\\n",
       "1                                   42050.861809   \n",
       "2                                   42018.101184   \n",
       "3                                   42029.447991   \n",
       "4                                   42125.354245   \n",
       "\n",
       "   rougher.calculation.floatbank10_sulfate_to_au_feed   \n",
       "0                                        3481.779053   \\\n",
       "1                                        3498.370979    \n",
       "2                                        3495.348910    \n",
       "3                                        3498.578313    \n",
       "4                                        3494.800771    \n",
       "\n",
       "   rougher.calculation.floatbank11_sulfate_to_au_feed   \n",
       "0                                        3520.337158   \\\n",
       "1                                        3489.981857    \n",
       "2                                        3502.359819    \n",
       "3                                        3499.162912    \n",
       "4                                        3506.679315    \n",
       "\n",
       "   rougher.calculation.au_pb_ratio  rougher.output.concentrate_au   \n",
       "0                         2.838687                      19.793808  \\\n",
       "1                         2.858998                      20.050975   \n",
       "2                         2.945989                      19.737170   \n",
       "3                         3.002340                      19.320810   \n",
       "4                         3.169615                      19.216101   \n",
       "\n",
       "   rougher.output.concentrate_ag  rougher.output.concentrate_pb   \n",
       "0                      11.500771                       7.101074  \\\n",
       "1                      11.615865                       7.278807   \n",
       "2                      11.695753                       7.216833   \n",
       "3                      11.915047                       7.175616   \n",
       "4                      12.411054                       7.240205   \n",
       "\n",
       "   rougher.output.concentrate_sol  rougher.output.recovery   \n",
       "0                       28.029297                87.107763  \\\n",
       "1                       28.067063                86.843261   \n",
       "2                       27.454037                86.842308   \n",
       "3                       27.341277                87.226430   \n",
       "4                       27.041023                86.688794   \n",
       "\n",
       "   rougher.output.tail_au  ...  final.output.concentrate_au   \n",
       "0                1.170244  ...                    42.192020  \\\n",
       "1                1.184827  ...                    42.701629   \n",
       "2                1.162562  ...                    42.657501   \n",
       "3                1.079755  ...                    42.689819   \n",
       "4                1.012642  ...                    42.774141   \n",
       "\n",
       "   final.output.concentrate_ag  final.output.concentrate_pb   \n",
       "0                     6.055403                     9.889648  \\\n",
       "1                     6.029369                     9.968944   \n",
       "2                     6.055926                    10.213995   \n",
       "3                     6.047977                     9.977019   \n",
       "4                     6.148599                    10.142511   \n",
       "\n",
       "   final.output.concentrate_sol  final.output.recovery  final.output.tail_au   \n",
       "0                      5.507324              70.541216              2.143149  \\\n",
       "1                      5.257781              69.266198              2.224930   \n",
       "2                      5.383759              68.116445              2.257889   \n",
       "3                      4.858634              68.347543              2.146849   \n",
       "4                      4.939416              66.927016              2.055292   \n",
       "\n",
       "   final.output.tail_ag  final.output.tail_pb  final.output.tail_sol   \n",
       "0             10.411962              0.895447              16.904297  \\\n",
       "1             10.462676              0.927452              16.634514   \n",
       "2             10.507046              0.953716              16.208849   \n",
       "3             10.422762              0.883763              16.532835   \n",
       "4             10.360302              0.792826              16.525686   \n",
       "\n",
       "    recovery  \n",
       "0  87.107763  \n",
       "1  86.843261  \n",
       "2  86.842308  \n",
       "3  87.226430  \n",
       "4  86.688794  \n",
       "\n",
       "[5 rows x 35 columns]"
      ]
     },
     "execution_count": 19,
     "metadata": {},
     "output_type": "execute_result"
    }
   ],
   "source": [
    "train_wo_test.head()"
   ]
  },
  {
   "cell_type": "markdown",
   "metadata": {},
   "source": [
    "Вывод: В тестовой выборке нет целевых признаков для моделей 'rougher.output.recovery', 'final.output.recovery', а также значения output по всем операциям по всем элементам. Они могут быть только после прохождения всехт этапов, после реальных изменений, поэтому их и нет. Для моделей прогнозирования восстановлю целевые признаки для тестовой выборки."
   ]
  },
  {
   "cell_type": "code",
   "execution_count": 20,
   "metadata": {},
   "outputs": [],
   "source": [
    "# добавим недостающие данные в data_test\n",
    "data_test = data_test.merge(data_full[['final.output.recovery', 'rougher.output.recovery', 'date']], how='left', on='date')"
   ]
  },
  {
   "cell_type": "markdown",
   "metadata": {},
   "source": [
    "Потом, при необходимости, в ходе работы, можно удалить эти данные в одну строчку кода."
   ]
  },
  {
   "cell_type": "markdown",
   "metadata": {},
   "source": [
    "## Анализ данных:"
   ]
  },
  {
   "cell_type": "markdown",
   "metadata": {},
   "source": [
    "2.1. Посмотрим, как меняется концентрация металлов (Au, Ag, Pb) на различных этапах очистки:"
   ]
  },
  {
   "cell_type": "code",
   "execution_count": 21,
   "metadata": {},
   "outputs": [
    {
     "data": {
      "image/png": "[encoded data removed]",
      "text/plain": [
       "<Figure size 1700x900 with 4 Axes>"
      ]
     },
     "metadata": {},
     "output_type": "display_data"
    }
   ],
   "source": [
    "#Построю гистограммы распределения, расчеты проведу сразу в hist:\n",
    "fig, ax = plt.subplots(4, 1, sharex='all')\n",
    "fig.set_figheight(9)\n",
    "fig.set_figwidth(17)\n",
    "fig.suptitle('Концентрация металлов на разных этапах очистки', y=0.95, size=16)\n",
    "\n",
    "ax[0].hist(data_full[data_full['rougher.input.feed_ag']>0.01]['rougher.input.feed_ag']\\\n",
    ", bins=30, alpha = 0.5, label = 'rougher.input.feed_ag')\n",
    "ax[0].hist(data_full[data_full['rougher.input.feed_ag']>0.01]['rougher.input.feed_pb']\\\n",
    ", bins=30, alpha = 0.5, label = 'rougher.input.feed_pb')\n",
    "ax[0].hist(data_full[data_full['rougher.input.feed_ag']>0.01]['rougher.input.feed_au']\\\n",
    ", bins=30, alpha = 0.5, label = 'rougher.input.feed_au')\n",
    "ax[0].legend()\n",
    "ax[0].set_title('Начальные концентрации металлов:')\n",
    "ax[0].grid()\n",
    "\n",
    "ax[1].hist(data_full[data_full['rougher.output.concentrate_ag']>0.01]['rougher.output.concentrate_ag']\\\n",
    ", bins=30, alpha = 0.5, label = 'rougher.output.concentrate_ag')\n",
    "ax[1].hist(data_full[data_full['rougher.output.concentrate_ag']>0.01]['rougher.output.concentrate_pb']\\\n",
    ", bins=30, alpha = 0.5, label = 'rougher.output.concentrate_pb')\n",
    "ax[1].hist(data_full[data_full['rougher.output.concentrate_ag']>0.01]['rougher.output.concentrate_au']\\\n",
    ", bins=30, alpha = 0.5, label = 'rougher.output.concentrate_au')\n",
    "ax[1].legend()\n",
    "ax[1].set_title('Концентрация металлов после флотации')\n",
    "ax[1].grid()\n",
    "\n",
    "ax[2].hist(data_full[data_full['primary_cleaner.output.concentrate_ag']>0.01]['primary_cleaner.output.concentrate_ag']\\\n",
    ", bins=30, alpha = 0.5, label = 'primary_cleaner.output.concentrate_ag')\n",
    "ax[2].hist(data_full[data_full['primary_cleaner.output.concentrate_pb']>0.01]['primary_cleaner.output.concentrate_pb']\\\n",
    ", bins=30, alpha = 0.5, label = 'primary_cleaner.output.concentrate_pb')\n",
    "ax[2].hist(data_full[data_full['primary_cleaner.output.concentrate_au']>0.01]['primary_cleaner.output.concentrate_au']\\\n",
    ", bins=30, alpha = 0.5, label = 'primary_cleaner.output.concentrate_au')\n",
    "ax[2].legend()\n",
    "ax[2].set_title('Концентрация металлов после первого этапа очистки')\n",
    "ax[2].grid()\n",
    "\n",
    "\n",
    "ax[3].hist(data_full[data_full['final.output.concentrate_ag']>0.01]['final.output.concentrate_ag']\\\n",
    ", bins=30, alpha = 0.5, label = 'final.output.concentrate_ag')\n",
    "ax[3].hist(data_full[data_full['final.output.concentrate_pb']>0.01]['final.output.concentrate_pb']\\\n",
    ", bins=30, alpha = 0.5, label = 'final.output.concentrate_pb')\n",
    "ax[3].hist(data_full[data_full['final.output.concentrate_au']>0.01]['final.output.concentrate_au']\\\n",
    ", bins=30, alpha = 0.5, label = 'final.output.concentrate_au')\n",
    "ax[3].legend()\n",
    "ax[3].set_title('Концентрация металлов в финальном концентрате')\n",
    "ax[3].grid()\n",
    "\n",
    "plt.show()"
   ]
  },
  {
   "cell_type": "markdown",
   "metadata": {},
   "source": [
    "Вывод:\n",
    "    Выделяется в положительную сторону концентрация золота, причем на каждом этапе обработки сырья. Что касается свинца, то ее концентрация после первого этапа очистки увеличивается, а после второго - остается такой же. А с серебром все хуже: после первого этапа очистки - уменьшается концентрация, после второго - тоже. "
   ]
  },
  {
   "cell_type": "markdown",
   "metadata": {},
   "source": [
    "2.2.  Сравню распределения размеров гранул сырья на обучающей и тестовой выборках. Если распределения сильно отличаются друг от друга, оценка модели будет неправильной."
   ]
  },
  {
   "cell_type": "code",
   "execution_count": 22,
   "metadata": {},
   "outputs": [
    {
     "data": {
      "image/png": "[encoded data removed]",
      "text/plain": [
       "<Figure size 1700x700 with 1 Axes>"
      ]
     },
     "metadata": {},
     "output_type": "display_data"
    }
   ],
   "source": [
    "# Сделаем гистограмму размеров сырья на входе флотации train и test:\n",
    "plt.figure(figsize=(17, 7))\n",
    "sns.kdeplot(data_train['rougher.input.feed_size'], label='train rougher.input.feed_size', alpha=0.5, shade=True)\n",
    "sns.kdeplot(data_test['rougher.input.feed_size'], label='test rougher.input.feed_size', alpha=0.7, shade=True)\n",
    "plt.xlim([0, 160])\n",
    "plt.xlabel('Значения')\n",
    "plt.ylabel('Плотность вероятности непрерывной величины')\n",
    "plt.title('Размер гранул сырья до флотации')\n",
    "plt.legend(loc='upper right')\n",
    "plt.show()"
   ]
  },
  {
   "cell_type": "code",
   "execution_count": 23,
   "metadata": {
    "scrolled": false
   },
   "outputs": [
    {
     "data": {
      "image/png": "[encoded data removed]",
      "text/plain": [
       "<Figure size 1700x700 with 1 Axes>"
      ]
     },
     "metadata": {},
     "output_type": "display_data"
    }
   ],
   "source": [
    "#Сделаем гистограмму размеров сырья на входе финальной очистки train и test\n",
    "plt.figure(figsize=(17, 7))\n",
    "sns.kdeplot(data_train['primary_cleaner.input.feed_size'], \n",
    "         label='train primary_cleaner.input.feed_size', alpha=0.3, shade=True)\n",
    "sns.kdeplot(data_test['primary_cleaner.input.feed_size'],  \n",
    "         label='test primary_cleaner.input.feed_size', alpha=0.3, shade=True)\n",
    "plt.xlim([3, 12])\n",
    "plt.xlabel('Значения')\n",
    "plt.ylabel('Плотность вероятности')\n",
    "plt.title('Размер гранул сырья после флотации')\n",
    "plt.legend(loc='upper right')\n",
    "plt.show()"
   ]
  },
  {
   "cell_type": "markdown",
   "metadata": {},
   "source": [
    "Вывод: Так как графики похожи, можно сделать вывод, что размер гранул сырья тоже не сильно изменился."
   ]
  },
  {
   "cell_type": "markdown",
   "metadata": {},
   "source": [
    "2.3. Исследую суммарную концентрацию всех веществ на разных стадиях: в сырье, в черновом и финальном концентратах. "
   ]
  },
  {
   "cell_type": "markdown",
   "metadata": {},
   "source": [
    "Подготоволю заранее суммарные концентрации всех веществ на каждом этапе для дальнейшего построения графика:"
   ]
  },
  {
   "cell_type": "code",
   "execution_count": 24,
   "metadata": {},
   "outputs": [],
   "source": [
    "#Сумма концентрации всех веществ в сырье:\n",
    "data_full['sum_concetrate_base']\\\n",
    "= data_full['rougher.input.feed_ag']\\\n",
    "+ data_full['rougher.input.feed_pb']\\\n",
    "+ data_full['rougher.input.feed_sol']\\\n",
    "+ data_full['rougher.input.feed_au']"
   ]
  },
  {
   "cell_type": "code",
   "execution_count": 25,
   "metadata": {},
   "outputs": [],
   "source": [
    "#Сумма концентрации всех веществ в черновом концентрате:\n",
    "data_full['sum_concetrate_rougher']\\\n",
    "= data_full['rougher.output.concentrate_ag']\\\n",
    "+ data_full['rougher.output.concentrate_pb']\\\n",
    "+ data_full['rougher.output.concentrate_sol']\\\n",
    "+ data_full['rougher.output.concentrate_au']"
   ]
  },
  {
   "cell_type": "code",
   "execution_count": 26,
   "metadata": {},
   "outputs": [],
   "source": [
    "#Сумма концентрации всех веществ в финальном концентрате:\n",
    "data_full['sum_concetrate_final']\\\n",
    "= data_full['final.output.concentrate_ag']\\\n",
    "+ data_full['final.output.concentrate_pb']\\\n",
    "+ data_full['final.output.concentrate_sol']\\\n",
    "+ data_full['final.output.concentrate_au']"
   ]
  },
  {
   "cell_type": "code",
   "execution_count": 27,
   "metadata": {
    "scrolled": true
   },
   "outputs": [
    {
     "data": {
      "image/png": "[encoded data removed]",
      "text/plain": [
       "<Figure size 1500x500 with 1 Axes>"
      ]
     },
     "metadata": {},
     "output_type": "display_data"
    }
   ],
   "source": [
    "# строим гистограмму распределения данных по всем этапам\n",
    "plt.figure(figsize=(15, 5))\n",
    "\n",
    "data_full['sum_concetrate_base'].plot(kind = 'hist', color='red', alpha = 0.5, label = 'sum_concetrate_base'\\\n",
    "                                         , bins = 100)\n",
    "data_full['sum_concetrate_rougher'].plot(kind = 'hist', color = 'green', alpha = 0.5, label = 'sum_concetrate_rougher' \\\n",
    "                                         , bins = 100)\n",
    "data_full['sum_concetrate_final'].plot(kind = 'hist', color='blue', alpha = 0.5, label = 'sum_concetrate_final'\\\n",
    "                                         , bins = 100)\n",
    "plt.title('Распределение данных о суммарной концентрации всех веществ на разных этапах')\n",
    "plt.legend()\n",
    "plt.show()"
   ]
  },
  {
   "cell_type": "markdown",
   "metadata": {},
   "source": [
    "Вывод: Суммарная концентрация всех веществ на разных этапах постепенно сокращает разброс данных, распределение уплотняется и растет, особенно в финальном концентрате."
   ]
  },
  {
   "cell_type": "code",
   "execution_count": 28,
   "metadata": {},
   "outputs": [
    {
     "data": {
      "text/plain": [
       "(18848, 90)"
      ]
     },
     "metadata": {},
     "output_type": "display_data"
    },
    {
     "data": {
      "text/plain": [
       "(13988, 88)"
      ]
     },
     "metadata": {},
     "output_type": "display_data"
    }
   ],
   "source": [
    "#Отфильтрую объекты с нулевыми значениями переменных из выборок:\n",
    "data_full = data_full[data_full['primary_cleaner.output.concentrate_ag'] > 0]\n",
    "data_train = data_train[data_train['primary_cleaner.output.concentrate_ag'] > 0]\n",
    "\n",
    "display(data_full.shape)\n",
    "display(data_train.shape)"
   ]
  },
  {
   "cell_type": "markdown",
   "metadata": {},
   "source": [
    "## Обучение модели:"
   ]
  },
  {
   "cell_type": "markdown",
   "metadata": {},
   "source": [
    "Для начала разделю и подготоволю данные для обучения:"
   ]
  },
  {
   "cell_type": "code",
   "execution_count": 29,
   "metadata": {},
   "outputs": [],
   "source": [
    "#Поделю данные features и target:\n",
    "columns = data_test.columns\n",
    "\n",
    "features_train = data_train[columns] \n",
    "features_train = features_train.drop(['date', 'rougher.output.recovery','final.output.recovery'],axis=1) \n",
    "target_train = data_train[['rougher.output.recovery','final.output.recovery']] \n",
    "\n",
    "data_test_target = data_test.join(data_full, how = 'left', rsuffix=\"_dummy\") #Создам дату со всеми признаками для тестовой выборки\n",
    "data_test_target = data_test_target.dropna() #Удалю пропуски:\n",
    "features_test = data_test_target[columns] #фичерс для тестовой выборки:\n",
    "features_test = features_test.drop(['date', 'rougher.output.recovery','final.output.recovery'],axis=1) #удалю параметры даты\n",
    "target_test = data_test_target[['rougher.output.recovery','final.output.recovery']] # формируем вектор целевых признаков"
   ]
  },
  {
   "cell_type": "code",
   "execution_count": 30,
   "metadata": {},
   "outputs": [
    {
     "name": "stdout",
     "output_type": "stream",
     "text": [
      "<class 'pandas.core.frame.DataFrame'>\n",
      "Index: 13988 entries, 0 to 14578\n",
      "Data columns (total 52 columns):\n",
      " #   Column                                      Non-Null Count  Dtype  \n",
      "---  ------                                      --------------  -----  \n",
      " 0   rougher.input.feed_au                       13988 non-null  float64\n",
      " 1   rougher.input.feed_ag                       13988 non-null  float64\n",
      " 2   rougher.input.feed_pb                       13988 non-null  float64\n",
      " 3   rougher.input.feed_sol                      13988 non-null  float64\n",
      " 4   rougher.input.feed_rate                     13988 non-null  float64\n",
      " 5   rougher.input.feed_size                     13988 non-null  float64\n",
      " 6   rougher.input.floatbank10_sulfate           13988 non-null  float64\n",
      " 7   rougher.input.floatbank10_xanthate          13988 non-null  float64\n",
      " 8   rougher.state.floatbank10_a_air             13988 non-null  float64\n",
      " 9   rougher.state.floatbank10_a_level           13988 non-null  float64\n",
      " 10  rougher.state.floatbank10_b_air             13988 non-null  float64\n",
      " 11  rougher.state.floatbank10_b_level           13988 non-null  float64\n",
      " 12  rougher.state.floatbank10_c_air             13988 non-null  float64\n",
      " 13  rougher.state.floatbank10_c_level           13988 non-null  float64\n",
      " 14  rougher.state.floatbank10_d_air             13988 non-null  float64\n",
      " 15  rougher.state.floatbank10_d_level           13988 non-null  float64\n",
      " 16  rougher.state.floatbank10_e_air             13988 non-null  float64\n",
      " 17  rougher.state.floatbank10_e_level           13988 non-null  float64\n",
      " 18  rougher.state.floatbank10_f_air             13988 non-null  float64\n",
      " 19  rougher.state.floatbank10_f_level           13988 non-null  float64\n",
      " 20  rougher.input.floatbank11_sulfate           13988 non-null  float64\n",
      " 21  rougher.input.floatbank11_xanthate          13988 non-null  float64\n",
      " 22  primary_cleaner.input.sulfate               13988 non-null  float64\n",
      " 23  primary_cleaner.input.depressant            13988 non-null  float64\n",
      " 24  primary_cleaner.input.feed_size             13988 non-null  float64\n",
      " 25  primary_cleaner.input.xanthate              13988 non-null  float64\n",
      " 26  primary_cleaner.state.floatbank8_a_air      13988 non-null  float64\n",
      " 27  primary_cleaner.state.floatbank8_a_level    13988 non-null  float64\n",
      " 28  primary_cleaner.state.floatbank8_b_air      13988 non-null  float64\n",
      " 29  primary_cleaner.state.floatbank8_b_level    13988 non-null  float64\n",
      " 30  primary_cleaner.state.floatbank8_c_air      13988 non-null  float64\n",
      " 31  primary_cleaner.state.floatbank8_c_level    13988 non-null  float64\n",
      " 32  primary_cleaner.state.floatbank8_d_air      13988 non-null  float64\n",
      " 33  primary_cleaner.state.floatbank8_d_level    13988 non-null  float64\n",
      " 34  secondary_cleaner.state.floatbank2_a_air    13988 non-null  float64\n",
      " 35  secondary_cleaner.state.floatbank2_a_level  13988 non-null  float64\n",
      " 36  secondary_cleaner.state.floatbank2_b_air    13988 non-null  float64\n",
      " 37  secondary_cleaner.state.floatbank2_b_level  13988 non-null  float64\n",
      " 38  secondary_cleaner.state.floatbank3_a_air    13988 non-null  float64\n",
      " 39  secondary_cleaner.state.floatbank3_a_level  13988 non-null  float64\n",
      " 40  secondary_cleaner.state.floatbank3_b_air    13988 non-null  float64\n",
      " 41  secondary_cleaner.state.floatbank3_b_level  13988 non-null  float64\n",
      " 42  secondary_cleaner.state.floatbank4_a_air    13988 non-null  float64\n",
      " 43  secondary_cleaner.state.floatbank4_a_level  13988 non-null  float64\n",
      " 44  secondary_cleaner.state.floatbank4_b_air    13988 non-null  float64\n",
      " 45  secondary_cleaner.state.floatbank4_b_level  13988 non-null  float64\n",
      " 46  secondary_cleaner.state.floatbank5_a_air    13988 non-null  float64\n",
      " 47  secondary_cleaner.state.floatbank5_a_level  13988 non-null  float64\n",
      " 48  secondary_cleaner.state.floatbank5_b_air    13988 non-null  float64\n",
      " 49  secondary_cleaner.state.floatbank5_b_level  13988 non-null  float64\n",
      " 50  secondary_cleaner.state.floatbank6_a_air    13988 non-null  float64\n",
      " 51  secondary_cleaner.state.floatbank6_a_level  13988 non-null  float64\n",
      "dtypes: float64(52)\n",
      "memory usage: 5.7 MB\n"
     ]
    }
   ],
   "source": [
    "features_train.info()"
   ]
  },
  {
   "cell_type": "code",
   "execution_count": 31,
   "metadata": {},
   "outputs": [],
   "source": [
    "#Стандартизирую данные:\n",
    "\n",
    "scaler = StandardScaler()\n",
    "scaler.fit(features_train)\n",
    "\n",
    "features_train_st = scaler.transform(features_train)\n",
    "features_test_st = scaler.transform(features_test)"
   ]
  },
  {
   "cell_type": "markdown",
   "metadata": {},
   "source": [
    "3.1. Напишу функцию для вычисления итоговой sMAPE:"
   ]
  },
  {
   "cell_type": "code",
   "execution_count": 32,
   "metadata": {},
   "outputs": [],
   "source": [
    "\n",
    "def sMAPE(predict,target):\n",
    "    \n",
    "    predict_rougher = predict[:,0]\n",
    "    target_rougher = target[:,0]\n",
    "    \n",
    "    predict_final = predict[:,1]\n",
    "    target_final = target[:,1]\n",
    "    \n",
    "    sMAPE_rougher = np.sum(abs(target_rougher - predict_rougher) / ((abs(target_rougher) + abs(predict_rougher)) / 2))\n",
    "    \n",
    "    sMAPE_rougher = sMAPE_rougher / len(target_rougher) * 100\n",
    "       \n",
    "    sMAPE_final = np.sum(abs(target_final - predict_final) / ((abs(target_final) + abs(predict_final)) / 2))\n",
    "    sMAPE_final = sMAPE_final / len(target_final) * 100\n",
    "    \n",
    "    sMAPE = 0.25 * sMAPE_rougher + 0.75 * sMAPE_final\n",
    "    \n",
    "    return sMAPE"
   ]
  },
  {
   "cell_type": "code",
   "execution_count": 33,
   "metadata": {},
   "outputs": [],
   "source": [
    "smape_scorer = make_scorer(sMAPE, greater_is_better = False)"
   ]
  },
  {
   "cell_type": "markdown",
   "metadata": {},
   "source": [
    "3.2. Обучу разные модели и оценю их качество кросс-валидацией. Выберу лучшую модель и проверю её на тестовой выборке."
   ]
  },
  {
   "cell_type": "markdown",
   "metadata": {},
   "source": [
    "Линейная регрессия:"
   ]
  },
  {
   "cell_type": "code",
   "execution_count": 34,
   "metadata": {},
   "outputs": [
    {
     "name": "stdout",
     "output_type": "stream",
     "text": [
      "LinearRegression sMAPE: 8.690651144626804\n"
     ]
    }
   ],
   "source": [
    "# кросс-валидация Линейная регрессия\n",
    "lr = LinearRegression()\n",
    "score = cross_val_score(lr, features_train_st, np.array(target_train), scoring = smape_scorer, cv=6).mean()\n",
    "print('LinearRegression sMAPE:', abs(score))"
   ]
  },
  {
   "cell_type": "markdown",
   "metadata": {},
   "source": [
    "Лассо:"
   ]
  },
  {
   "cell_type": "code",
   "execution_count": 35,
   "metadata": {},
   "outputs": [
    {
     "name": "stdout",
     "output_type": "stream",
     "text": [
      "LASSO sMAPE: 8.346589054082857\n"
     ]
    }
   ],
   "source": [
    "# кросс-валидация Lasso\n",
    "la = Lasso()\n",
    "score = cross_val_score(la, features_train_st, np.array(target_train), scoring = smape_scorer, cv=6).mean()\n",
    "print('LASSO sMAPE:', abs(score))"
   ]
  },
  {
   "cell_type": "markdown",
   "metadata": {},
   "source": [
    "DecisionTreeRegressor:"
   ]
  },
  {
   "cell_type": "code",
   "execution_count": 36,
   "metadata": {},
   "outputs": [
    {
     "name": "stdout",
     "output_type": "stream",
     "text": [
      "DecisionTreeRegressor(max_depth=5, random_state=0) 9.65132923795675\n"
     ]
    }
   ],
   "source": [
    "#подберу лучший max_depth для DecisionTreeRegressor:\n",
    "#и SMAPE:\n",
    "max_depth = range(1, 50)\n",
    "hyperparameters = dict(max_depth=max_depth)\n",
    "dt = DecisionTreeRegressor(random_state = 0)\n",
    "\n",
    "randomizedsearch = RandomizedSearchCV(dt, hyperparameters, random_state = 0 \\\n",
    "                                      , scoring= smape_scorer)\n",
    "\n",
    "dt_best_model_random = randomizedsearch.fit(features_train, np.array(target_train))\n",
    "print(dt_best_model_random.best_estimator_, -dt_best_model_random.best_score_)"
   ]
  },
  {
   "cell_type": "code",
   "execution_count": 37,
   "metadata": {},
   "outputs": [
    {
     "name": "stdout",
     "output_type": "stream",
     "text": [
      "DecisionTreeRegressor sMAPE: 11.053871152485291\n"
     ]
    }
   ],
   "source": [
    "# кросс-валидация DecisionTreeRegressor\n",
    "dt_best = DecisionTreeRegressor(random_state = 0, max_depth=8)\n",
    "\n",
    "score = cross_val_score(dt_best, features_train_st, np.array(target_train), scoring = smape_scorer, cv=6).mean()\n",
    "print('DecisionTreeRegressor sMAPE:', abs(score))"
   ]
  },
  {
   "cell_type": "markdown",
   "metadata": {},
   "source": [
    "Лучший SMAPE получился на LASSO. Проверю его на тестовой выборке."
   ]
  },
  {
   "cell_type": "markdown",
   "metadata": {},
   "source": [
    "Проверю лучшую модель на тестовой выборке:"
   ]
  },
  {
   "cell_type": "code",
   "execution_count": 38,
   "metadata": {
    "scrolled": true
   },
   "outputs": [
    {
     "name": "stdout",
     "output_type": "stream",
     "text": [
      "Симметричная средняя абсолютная ошибка лучшей модели LASSO: 7.463170968985525\n"
     ]
    }
   ],
   "source": [
    "# проверяем лучшую модель на тестовой выборке\n",
    "la = Lasso()\n",
    "la.fit(features_train_st, target_train)\n",
    "predict = la.predict(features_test_st)\n",
    "\n",
    "smape = sMAPE(predict, np.array(target_test))\n",
    "print('Симметричная средняя абсолютная ошибка лучшей модели LASSO:', smape)"
   ]
  },
  {
   "cell_type": "markdown",
   "metadata": {},
   "source": [
    "модель рекомендуется компании, разрабатывающей решения для эффективной работы промышленных предприятий по восстановлению золота из золотоносной руды"
   ]
  },
  {
   "cell_type": "code",
   "execution_count": 39,
   "metadata": {
    "scrolled": true
   },
   "outputs": [
    {
     "name": "stdout",
     "output_type": "stream",
     "text": [
      "Симметричная средняя абсолютная ошибка константной модели: 8.345470033690138\n"
     ]
    }
   ],
   "source": [
    "# производим проверку с константной моделью, настроенной на стратегию медианы\n",
    "dummy_regr = DummyRegressor(strategy = \"median\")\n",
    "dummy_regr.fit(features_train_st, target_train)\n",
    "predict = dummy_regr.predict(features_test_st)\n",
    "\n",
    "smape = sMAPE(predict, np.array(target_test))\n",
    "print('Симметричная средняя абсолютная ошибка константной модели:', smape)"
   ]
  },
  {
   "cell_type": "markdown",
   "metadata": {},
   "source": [
    "При сравнении с константной моделью ясно, что моя модель, обученная на DecisionTreeRegressor, предсказывает лучше, а значит адекватно. "
   ]
  },
  {
   "cell_type": "markdown",
   "metadata": {},
   "source": [
    "## ИТОГОВЫЙ ВЫВОД:\n",
    "\n",
    "Я загрузила необходимые библиотеки, загрузила и изучила данные, подготовила данные для дальнейшей работы. Проверила, правильно ли рассчитана эффективность обогащения. Проанализировала признаки, недоступные в тестовой выборке. Оказалось, что ожидаемых признаков нет, которые могут появиться только после всех этапов, наш прогноз. Но для обучения модели добавила их в тестовую выборку. Проанализировала, как меняется концентрация металлов на различных этапах очистки, лучше всего себя показало золотое - на каждом этапе концентрация повышается. Сравнила распределение размером гранул сырья на обучающей и тестовой выборке: графики похожи, а значит, распределения различаются не сильно, размеры гранул сырья меняются не сильно, из-за этого оценка модели не пострадает. Исследовала суммарную концентрацию всех веществ на каждом этапе: не считая выбросы из-за некорректного ввода, суммарная концентрация всех веществ на разных этапах постепенно растет. Разделила и подготовила данные для обучения. Написала функцию для вычесления итоговой sMAPE. Выбрала лучшую модель с помощью оценки качества кросс-валидацией. Проверила лучшую модель на тестовой выборке. sMAPE меня и там устроил,а значит, модель можно рекомендоать компании."
   ]
  }
 ],
 "metadata": {
  "ExecuteTimeLog": [
   {
    "duration": 71,
    "start_time": "2022-12-23T16:35:11.001Z"
   },
   {
    "duration": 1716,
    "start_time": "2022-12-23T16:36:58.002Z"
   },
   {
    "duration": 3051,
    "start_time": "2022-12-23T16:39:00.900Z"
   },
   {
    "duration": 727,
    "start_time": "2022-12-23T16:39:21.868Z"
   },
   {
    "duration": 46,
    "start_time": "2022-12-23T16:39:48.319Z"
   },
   {
    "duration": 43,
    "start_time": "2022-12-23T16:45:17.529Z"
   },
   {
    "duration": 20,
    "start_time": "2022-12-23T16:45:33.932Z"
   },
   {
    "duration": 39,
    "start_time": "2022-12-23T16:45:49.455Z"
   },
   {
    "duration": 111,
    "start_time": "2022-12-23T16:46:40.107Z"
   },
   {
    "duration": 39,
    "start_time": "2022-12-23T16:46:40.964Z"
   },
   {
    "duration": 43,
    "start_time": "2022-12-23T16:46:53.364Z"
   },
   {
    "duration": 228,
    "start_time": "2022-12-23T16:49:53.107Z"
   },
   {
    "duration": 20,
    "start_time": "2022-12-23T16:54:30.411Z"
   },
   {
    "duration": 12,
    "start_time": "2022-12-23T16:54:42.103Z"
   },
   {
    "duration": 13,
    "start_time": "2022-12-23T16:57:12.939Z"
   },
   {
    "duration": 10,
    "start_time": "2022-12-23T16:57:35.266Z"
   },
   {
    "duration": 19,
    "start_time": "2022-12-23T16:57:43.201Z"
   },
   {
    "duration": 15,
    "start_time": "2022-12-23T16:58:10.851Z"
   },
   {
    "duration": 50,
    "start_time": "2022-12-23T16:58:27.551Z"
   },
   {
    "duration": 17,
    "start_time": "2022-12-23T16:58:36.498Z"
   },
   {
    "duration": 17,
    "start_time": "2022-12-23T16:59:09.701Z"
   },
   {
    "duration": 20,
    "start_time": "2022-12-23T17:01:27.136Z"
   },
   {
    "duration": 20,
    "start_time": "2022-12-23T17:01:38.716Z"
   },
   {
    "duration": 19,
    "start_time": "2022-12-23T17:02:32.350Z"
   },
   {
    "duration": 28,
    "start_time": "2022-12-23T17:02:50.110Z"
   },
   {
    "duration": 6,
    "start_time": "2022-12-23T18:05:48.631Z"
   },
   {
    "duration": 12,
    "start_time": "2022-12-23T18:06:11.217Z"
   },
   {
    "duration": 5,
    "start_time": "2022-12-23T18:07:08.956Z"
   },
   {
    "duration": 4,
    "start_time": "2022-12-23T18:09:07.752Z"
   },
   {
    "duration": 4,
    "start_time": "2022-12-23T18:10:04.536Z"
   },
   {
    "duration": 4,
    "start_time": "2022-12-23T18:10:13.500Z"
   },
   {
    "duration": 5,
    "start_time": "2022-12-23T18:10:16.444Z"
   },
   {
    "duration": 1029,
    "start_time": "2022-12-23T18:18:09.613Z"
   },
   {
    "duration": 11,
    "start_time": "2022-12-23T18:18:23.836Z"
   },
   {
    "duration": 9,
    "start_time": "2022-12-23T18:19:48.841Z"
   },
   {
    "duration": 9,
    "start_time": "2022-12-23T18:19:51.239Z"
   },
   {
    "duration": 4,
    "start_time": "2022-12-23T18:19:53.366Z"
   },
   {
    "duration": 23,
    "start_time": "2022-12-23T18:19:53.614Z"
   },
   {
    "duration": 13,
    "start_time": "2022-12-23T18:20:04.540Z"
   },
   {
    "duration": 30,
    "start_time": "2022-12-23T18:20:19.397Z"
   },
   {
    "duration": 108,
    "start_time": "2022-12-23T18:40:03.027Z"
   },
   {
    "duration": 11,
    "start_time": "2022-12-23T18:42:21.468Z"
   },
   {
    "duration": 3,
    "start_time": "2022-12-23T18:58:20.952Z"
   },
   {
    "duration": 683,
    "start_time": "2022-12-23T18:58:21.416Z"
   },
   {
    "duration": 57,
    "start_time": "2022-12-23T18:58:22.101Z"
   },
   {
    "duration": 19,
    "start_time": "2022-12-23T18:58:22.160Z"
   },
   {
    "duration": 38,
    "start_time": "2022-12-23T18:58:22.267Z"
   },
   {
    "duration": 238,
    "start_time": "2022-12-23T18:58:22.513Z"
   },
   {
    "duration": 17,
    "start_time": "2022-12-23T18:58:23.246Z"
   },
   {
    "duration": 16,
    "start_time": "2022-12-23T18:58:23.975Z"
   },
   {
    "duration": 17,
    "start_time": "2022-12-23T18:58:24.263Z"
   },
   {
    "duration": 5,
    "start_time": "2022-12-23T18:58:25.344Z"
   },
   {
    "duration": 6,
    "start_time": "2022-12-23T18:58:25.645Z"
   },
   {
    "duration": 4,
    "start_time": "2022-12-23T18:58:25.940Z"
   },
   {
    "duration": 14,
    "start_time": "2022-12-23T18:58:26.972Z"
   },
   {
    "duration": 12,
    "start_time": "2022-12-23T18:58:27.243Z"
   },
   {
    "duration": 25,
    "start_time": "2022-12-23T18:58:27.705Z"
   },
   {
    "duration": 15,
    "start_time": "2022-12-23T18:58:29.218Z"
   },
   {
    "duration": 1299,
    "start_time": "2022-12-23T21:01:09.070Z"
   },
   {
    "duration": 656,
    "start_time": "2022-12-23T21:01:10.370Z"
   },
   {
    "duration": 41,
    "start_time": "2022-12-23T21:01:11.027Z"
   },
   {
    "duration": 18,
    "start_time": "2022-12-23T21:01:11.071Z"
   },
   {
    "duration": 51,
    "start_time": "2022-12-23T21:01:11.091Z"
   },
   {
    "duration": 228,
    "start_time": "2022-12-23T21:01:11.144Z"
   },
   {
    "duration": 17,
    "start_time": "2022-12-23T21:01:11.374Z"
   },
   {
    "duration": 32,
    "start_time": "2022-12-23T21:01:11.392Z"
   },
   {
    "duration": 16,
    "start_time": "2022-12-23T21:01:11.426Z"
   },
   {
    "duration": 7,
    "start_time": "2022-12-23T21:01:11.445Z"
   },
   {
    "duration": 10,
    "start_time": "2022-12-23T21:01:11.453Z"
   },
   {
    "duration": 5,
    "start_time": "2022-12-23T21:01:11.464Z"
   },
   {
    "duration": 45,
    "start_time": "2022-12-23T21:01:11.470Z"
   },
   {
    "duration": 23,
    "start_time": "2022-12-23T21:01:11.516Z"
   },
   {
    "duration": 22,
    "start_time": "2022-12-23T21:01:11.540Z"
   },
   {
    "duration": 9,
    "start_time": "2022-12-23T21:01:11.564Z"
   },
   {
    "duration": 14,
    "start_time": "2022-12-23T21:07:10.015Z"
   },
   {
    "duration": 4,
    "start_time": "2022-12-23T21:07:55.522Z"
   },
   {
    "duration": 1304,
    "start_time": "2022-12-23T21:08:05.960Z"
   },
   {
    "duration": 1199,
    "start_time": "2022-12-23T21:09:00.976Z"
   },
   {
    "duration": 1305,
    "start_time": "2022-12-23T21:09:14.051Z"
   },
   {
    "duration": 754,
    "start_time": "2022-12-23T21:09:30.855Z"
   },
   {
    "duration": 1281,
    "start_time": "2022-12-23T21:09:44.059Z"
   },
   {
    "duration": 1291,
    "start_time": "2022-12-23T21:10:15.376Z"
   },
   {
    "duration": 1051,
    "start_time": "2022-12-23T21:10:33.814Z"
   },
   {
    "duration": 989,
    "start_time": "2022-12-23T21:12:11.082Z"
   },
   {
    "duration": 864,
    "start_time": "2022-12-23T21:13:16.650Z"
   },
   {
    "duration": 962,
    "start_time": "2022-12-23T21:13:37.614Z"
   },
   {
    "duration": 934,
    "start_time": "2022-12-23T21:13:51.108Z"
   },
   {
    "duration": 887,
    "start_time": "2022-12-23T21:16:45.240Z"
   },
   {
    "duration": 984,
    "start_time": "2022-12-23T21:17:09.771Z"
   },
   {
    "duration": 503,
    "start_time": "2022-12-23T21:18:12.455Z"
   },
   {
    "duration": 1151,
    "start_time": "2022-12-23T21:18:31.250Z"
   },
   {
    "duration": 561,
    "start_time": "2022-12-23T21:18:57.754Z"
   },
   {
    "duration": 967,
    "start_time": "2022-12-23T21:19:09.708Z"
   },
   {
    "duration": 921,
    "start_time": "2022-12-23T21:26:11.455Z"
   },
   {
    "duration": 1017,
    "start_time": "2022-12-23T21:26:21.802Z"
   },
   {
    "duration": 923,
    "start_time": "2022-12-23T21:26:27.089Z"
   },
   {
    "duration": 1060,
    "start_time": "2022-12-23T21:26:50.701Z"
   },
   {
    "duration": 473,
    "start_time": "2022-12-23T21:28:16.555Z"
   },
   {
    "duration": 571,
    "start_time": "2022-12-23T21:29:18.949Z"
   },
   {
    "duration": 392,
    "start_time": "2022-12-23T21:29:27.153Z"
   },
   {
    "duration": 492,
    "start_time": "2022-12-23T21:29:37.775Z"
   },
   {
    "duration": 500,
    "start_time": "2022-12-23T21:29:59.069Z"
   },
   {
    "duration": 444,
    "start_time": "2022-12-23T21:30:34.903Z"
   },
   {
    "duration": 495,
    "start_time": "2022-12-23T21:31:30.857Z"
   },
   {
    "duration": 495,
    "start_time": "2022-12-23T21:31:47.957Z"
   },
   {
    "duration": 466,
    "start_time": "2022-12-23T21:31:58.566Z"
   },
   {
    "duration": 546,
    "start_time": "2022-12-23T21:32:03.412Z"
   },
   {
    "duration": 445,
    "start_time": "2022-12-23T21:33:33.701Z"
   },
   {
    "duration": 504,
    "start_time": "2022-12-23T21:33:55.787Z"
   },
   {
    "duration": 443,
    "start_time": "2022-12-23T21:34:24.212Z"
   },
   {
    "duration": 408,
    "start_time": "2022-12-23T21:34:34.957Z"
   },
   {
    "duration": 1577,
    "start_time": "2022-12-24T14:37:34.316Z"
   },
   {
    "duration": 1594,
    "start_time": "2022-12-24T14:37:35.895Z"
   },
   {
    "duration": 37,
    "start_time": "2022-12-24T14:37:37.491Z"
   },
   {
    "duration": 18,
    "start_time": "2022-12-24T14:37:37.530Z"
   },
   {
    "duration": 33,
    "start_time": "2022-12-24T14:37:37.549Z"
   },
   {
    "duration": 228,
    "start_time": "2022-12-24T14:37:37.584Z"
   },
   {
    "duration": 19,
    "start_time": "2022-12-24T14:37:37.814Z"
   },
   {
    "duration": 21,
    "start_time": "2022-12-24T14:37:37.834Z"
   },
   {
    "duration": 15,
    "start_time": "2022-12-24T14:37:37.857Z"
   },
   {
    "duration": 5,
    "start_time": "2022-12-24T14:37:37.874Z"
   },
   {
    "duration": 8,
    "start_time": "2022-12-24T14:37:37.881Z"
   },
   {
    "duration": 6,
    "start_time": "2022-12-24T14:37:37.890Z"
   },
   {
    "duration": 13,
    "start_time": "2022-12-24T14:37:37.926Z"
   },
   {
    "duration": 10,
    "start_time": "2022-12-24T14:37:37.940Z"
   },
   {
    "duration": 21,
    "start_time": "2022-12-24T14:37:37.951Z"
   },
   {
    "duration": 8,
    "start_time": "2022-12-24T14:37:37.974Z"
   },
   {
    "duration": 873,
    "start_time": "2022-12-24T14:37:37.983Z"
   },
   {
    "duration": 483,
    "start_time": "2022-12-24T14:37:38.857Z"
   },
   {
    "duration": 406,
    "start_time": "2022-12-24T14:37:39.341Z"
   },
   {
    "duration": 4,
    "start_time": "2022-12-24T14:40:01.334Z"
   },
   {
    "duration": 105,
    "start_time": "2022-12-24T14:41:57.311Z"
   },
   {
    "duration": 10,
    "start_time": "2022-12-24T14:42:58.846Z"
   },
   {
    "duration": 5,
    "start_time": "2022-12-24T14:43:06.703Z"
   },
   {
    "duration": 6,
    "start_time": "2022-12-24T14:43:28.821Z"
   },
   {
    "duration": 5,
    "start_time": "2022-12-24T14:44:01.635Z"
   },
   {
    "duration": 5,
    "start_time": "2022-12-24T14:44:19.241Z"
   },
   {
    "duration": 797,
    "start_time": "2022-12-24T14:44:49.386Z"
   },
   {
    "duration": 840,
    "start_time": "2022-12-24T14:45:24.165Z"
   },
   {
    "duration": 882,
    "start_time": "2022-12-24T14:45:49.444Z"
   },
   {
    "duration": 5,
    "start_time": "2022-12-24T14:50:54.339Z"
   },
   {
    "duration": 4,
    "start_time": "2022-12-24T14:51:14.642Z"
   },
   {
    "duration": 4,
    "start_time": "2022-12-24T14:51:25.112Z"
   },
   {
    "duration": 4,
    "start_time": "2022-12-24T14:51:35.109Z"
   },
   {
    "duration": 722,
    "start_time": "2022-12-24T14:51:35.982Z"
   },
   {
    "duration": 33,
    "start_time": "2022-12-24T16:54:21.547Z"
   },
   {
    "duration": 10,
    "start_time": "2022-12-24T16:54:35.018Z"
   },
   {
    "duration": 3,
    "start_time": "2022-12-24T16:55:26.976Z"
   },
   {
    "duration": 19,
    "start_time": "2022-12-24T16:55:33.774Z"
   },
   {
    "duration": 4,
    "start_time": "2022-12-24T16:56:00.597Z"
   },
   {
    "duration": 3,
    "start_time": "2022-12-24T16:56:10.040Z"
   },
   {
    "duration": 843,
    "start_time": "2022-12-24T16:56:28.893Z"
   },
   {
    "duration": 15,
    "start_time": "2022-12-24T16:57:08.098Z"
   },
   {
    "duration": 1012,
    "start_time": "2022-12-24T16:57:37.617Z"
   },
   {
    "duration": 6,
    "start_time": "2022-12-24T16:57:51.519Z"
   },
   {
    "duration": 844,
    "start_time": "2022-12-24T16:58:01.790Z"
   },
   {
    "duration": 807,
    "start_time": "2022-12-24T16:58:25.225Z"
   },
   {
    "duration": 23,
    "start_time": "2022-12-24T16:58:30.811Z"
   },
   {
    "duration": 18,
    "start_time": "2022-12-24T16:58:31.156Z"
   },
   {
    "duration": 4,
    "start_time": "2022-12-24T16:58:31.861Z"
   },
   {
    "duration": 2,
    "start_time": "2022-12-24T16:58:32.283Z"
   },
   {
    "duration": 1076,
    "start_time": "2022-12-24T16:58:33.051Z"
   },
   {
    "duration": 562,
    "start_time": "2022-12-24T16:58:43.571Z"
   },
   {
    "duration": 30038,
    "start_time": "2022-12-24T16:58:57.765Z"
   },
   {
    "duration": 76,
    "start_time": "2022-12-24T17:00:43.065Z"
   },
   {
    "duration": 4,
    "start_time": "2022-12-24T17:04:02.113Z"
   },
   {
    "duration": 4,
    "start_time": "2022-12-24T17:04:38.216Z"
   },
   {
    "duration": 3,
    "start_time": "2022-12-24T17:04:38.525Z"
   },
   {
    "duration": 1024,
    "start_time": "2022-12-24T17:04:39.405Z"
   },
   {
    "duration": 676,
    "start_time": "2022-12-24T17:04:41.054Z"
   },
   {
    "duration": 22,
    "start_time": "2022-12-24T17:05:50.716Z"
   },
   {
    "duration": 18,
    "start_time": "2022-12-24T17:05:51.109Z"
   },
   {
    "duration": 4,
    "start_time": "2022-12-24T17:05:52.455Z"
   },
   {
    "duration": 2,
    "start_time": "2022-12-24T17:05:52.921Z"
   },
   {
    "duration": 898,
    "start_time": "2022-12-24T17:05:53.740Z"
   },
   {
    "duration": 551,
    "start_time": "2022-12-24T17:05:55.284Z"
   },
   {
    "duration": 29917,
    "start_time": "2022-12-24T17:05:55.927Z"
   },
   {
    "duration": 75,
    "start_time": "2022-12-24T17:06:25.846Z"
   },
   {
    "duration": 76,
    "start_time": "2022-12-24T17:06:40.964Z"
   },
   {
    "duration": 4115,
    "start_time": "2022-12-24T17:06:48.964Z"
   },
   {
    "duration": 103373,
    "start_time": "2022-12-24T17:07:45.308Z"
   },
   {
    "duration": 0,
    "start_time": "2022-12-24T17:09:28.683Z"
   },
   {
    "duration": 114945,
    "start_time": "2022-12-24T17:09:35.077Z"
   },
   {
    "duration": 0,
    "start_time": "2022-12-24T17:11:30.026Z"
   },
   {
    "duration": 32,
    "start_time": "2022-12-24T17:11:31.408Z"
   },
   {
    "duration": 25,
    "start_time": "2022-12-24T17:11:34.005Z"
   },
   {
    "duration": 18,
    "start_time": "2022-12-24T17:11:36.236Z"
   },
   {
    "duration": 4,
    "start_time": "2022-12-24T17:11:36.954Z"
   },
   {
    "duration": 2,
    "start_time": "2022-12-24T17:11:37.467Z"
   },
   {
    "duration": 908,
    "start_time": "2022-12-24T17:11:38.327Z"
   },
   {
    "duration": 656,
    "start_time": "2022-12-24T17:11:40.371Z"
   },
   {
    "duration": 29575,
    "start_time": "2022-12-24T17:12:11.767Z"
   },
   {
    "duration": 4071,
    "start_time": "2022-12-24T17:12:52.030Z"
   },
   {
    "duration": 210446,
    "start_time": "2022-12-24T17:12:59.003Z"
   },
   {
    "duration": 0,
    "start_time": "2022-12-24T17:16:29.450Z"
   },
   {
    "duration": 10,
    "start_time": "2022-12-24T17:16:32.553Z"
   },
   {
    "duration": 4038,
    "start_time": "2022-12-24T17:16:40.934Z"
   },
   {
    "duration": 118,
    "start_time": "2022-12-24T17:26:38.395Z"
   },
   {
    "duration": 34,
    "start_time": "2022-12-24T17:26:39.699Z"
   },
   {
    "duration": 14,
    "start_time": "2022-12-24T17:27:17.210Z"
   },
   {
    "duration": 17,
    "start_time": "2022-12-24T17:27:18.321Z"
   },
   {
    "duration": 16,
    "start_time": "2022-12-24T17:28:23.023Z"
   },
   {
    "duration": 5,
    "start_time": "2022-12-24T17:28:41.481Z"
   },
   {
    "duration": 149,
    "start_time": "2022-12-24T17:28:41.832Z"
   },
   {
    "duration": 4,
    "start_time": "2022-12-24T17:28:42.096Z"
   },
   {
    "duration": 23,
    "start_time": "2022-12-24T17:28:54.844Z"
   },
   {
    "duration": 18,
    "start_time": "2022-12-24T17:28:55.152Z"
   },
   {
    "duration": 4,
    "start_time": "2022-12-24T17:28:56.425Z"
   },
   {
    "duration": 2,
    "start_time": "2022-12-24T17:28:57.779Z"
   },
   {
    "duration": 982,
    "start_time": "2022-12-24T17:28:58.553Z"
   },
   {
    "duration": 472,
    "start_time": "2022-12-24T17:29:00.762Z"
   },
   {
    "duration": 22,
    "start_time": "2022-12-24T17:35:32.439Z"
   },
   {
    "duration": 5,
    "start_time": "2022-12-24T17:35:42.224Z"
   },
   {
    "duration": 5,
    "start_time": "2022-12-24T17:35:58.520Z"
   },
   {
    "duration": 20,
    "start_time": "2022-12-24T17:36:10.971Z"
   },
   {
    "duration": 5,
    "start_time": "2022-12-24T17:36:21.601Z"
   },
   {
    "duration": 3,
    "start_time": "2022-12-24T17:36:42.781Z"
   },
   {
    "duration": 920,
    "start_time": "2022-12-24T17:36:55.007Z"
   },
   {
    "duration": 623,
    "start_time": "2022-12-24T17:41:15.006Z"
   },
   {
    "duration": 26610,
    "start_time": "2022-12-24T17:41:26.922Z"
   },
   {
    "duration": 2501,
    "start_time": "2022-12-24T17:42:44.575Z"
   },
   {
    "duration": 3612,
    "start_time": "2022-12-24T17:43:00.009Z"
   },
   {
    "duration": 462804,
    "start_time": "2022-12-24T17:43:24.063Z"
   },
   {
    "duration": 12,
    "start_time": "2022-12-24T17:51:51.816Z"
   },
   {
    "duration": 744,
    "start_time": "2022-12-24T17:53:25.944Z"
   },
   {
    "duration": 764,
    "start_time": "2022-12-24T17:53:42.204Z"
   },
   {
    "duration": 21,
    "start_time": "2022-12-24T18:11:52.131Z"
   },
   {
    "duration": 17,
    "start_time": "2022-12-24T18:11:58.635Z"
   },
   {
    "duration": 4,
    "start_time": "2022-12-24T18:12:00.079Z"
   },
   {
    "duration": 2,
    "start_time": "2022-12-24T18:12:01.042Z"
   },
   {
    "duration": 968,
    "start_time": "2022-12-24T18:12:07.163Z"
   },
   {
    "duration": 560,
    "start_time": "2022-12-24T18:12:08.774Z"
   },
   {
    "duration": 27065,
    "start_time": "2022-12-24T18:12:12.021Z"
   },
   {
    "duration": 26964,
    "start_time": "2022-12-24T18:15:47.891Z"
   },
   {
    "duration": 3631,
    "start_time": "2022-12-24T18:16:51.723Z"
   },
   {
    "duration": 751,
    "start_time": "2022-12-24T18:18:32.285Z"
   },
   {
    "duration": 11,
    "start_time": "2022-12-24T18:25:27.015Z"
   },
   {
    "duration": 19,
    "start_time": "2022-12-24T18:26:14.856Z"
   },
   {
    "duration": 4,
    "start_time": "2022-12-24T18:26:26.081Z"
   },
   {
    "duration": 2,
    "start_time": "2022-12-24T18:26:51.808Z"
   },
   {
    "duration": 4,
    "start_time": "2022-12-24T18:27:22.503Z"
   },
   {
    "duration": 1050,
    "start_time": "2022-12-24T18:27:24.182Z"
   },
   {
    "duration": 758,
    "start_time": "2022-12-24T18:27:25.768Z"
   },
   {
    "duration": 28127,
    "start_time": "2022-12-24T18:27:27.643Z"
   },
   {
    "duration": 3823,
    "start_time": "2022-12-24T18:27:57.177Z"
   },
   {
    "duration": 804,
    "start_time": "2022-12-24T18:28:02.441Z"
   },
   {
    "duration": 6,
    "start_time": "2022-12-24T18:29:26.441Z"
   },
   {
    "duration": 17,
    "start_time": "2022-12-24T18:30:26.335Z"
   },
   {
    "duration": 20,
    "start_time": "2022-12-24T18:30:29.231Z"
   },
   {
    "duration": 4,
    "start_time": "2022-12-24T18:45:58.005Z"
   },
   {
    "duration": 565,
    "start_time": "2022-12-24T18:45:58.822Z"
   },
   {
    "duration": 41,
    "start_time": "2022-12-24T18:45:59.389Z"
   },
   {
    "duration": 13,
    "start_time": "2022-12-24T18:45:59.873Z"
   },
   {
    "duration": 33,
    "start_time": "2022-12-24T18:46:00.318Z"
   },
   {
    "duration": 191,
    "start_time": "2022-12-24T18:46:00.646Z"
   },
   {
    "duration": 16,
    "start_time": "2022-12-24T18:46:01.486Z"
   },
   {
    "duration": 15,
    "start_time": "2022-12-24T18:46:02.538Z"
   },
   {
    "duration": 15,
    "start_time": "2022-12-24T18:46:02.923Z"
   },
   {
    "duration": 19,
    "start_time": "2022-12-24T18:46:03.263Z"
   },
   {
    "duration": 6,
    "start_time": "2022-12-24T18:46:04.353Z"
   },
   {
    "duration": 128,
    "start_time": "2022-12-24T18:46:04.715Z"
   },
   {
    "duration": 5,
    "start_time": "2022-12-24T18:46:05.083Z"
   },
   {
    "duration": 8,
    "start_time": "2022-12-24T18:46:06.373Z"
   },
   {
    "duration": 10,
    "start_time": "2022-12-24T18:46:06.755Z"
   },
   {
    "duration": 27,
    "start_time": "2022-12-24T18:46:07.261Z"
   },
   {
    "duration": 8,
    "start_time": "2022-12-24T18:46:08.018Z"
   },
   {
    "duration": 806,
    "start_time": "2022-12-24T18:46:09.435Z"
   },
   {
    "duration": 422,
    "start_time": "2022-12-24T18:46:10.825Z"
   },
   {
    "duration": 429,
    "start_time": "2022-12-24T18:46:11.257Z"
   },
   {
    "duration": 4,
    "start_time": "2022-12-24T18:46:13.100Z"
   },
   {
    "duration": 5,
    "start_time": "2022-12-24T18:46:13.585Z"
   },
   {
    "duration": 4,
    "start_time": "2022-12-24T18:46:14.038Z"
   },
   {
    "duration": 5,
    "start_time": "2022-12-24T18:46:14.482Z"
   },
   {
    "duration": 856,
    "start_time": "2022-12-24T18:46:14.846Z"
   },
   {
    "duration": 20,
    "start_time": "2022-12-24T18:46:15.790Z"
   },
   {
    "duration": 21,
    "start_time": "2022-12-24T18:46:17.220Z"
   },
   {
    "duration": 17,
    "start_time": "2022-12-24T18:46:17.660Z"
   },
   {
    "duration": 4,
    "start_time": "2022-12-24T18:46:18.637Z"
   },
   {
    "duration": 911,
    "start_time": "2022-12-24T18:46:19.915Z"
   },
   {
    "duration": 601,
    "start_time": "2022-12-24T18:46:20.831Z"
   },
   {
    "duration": 26735,
    "start_time": "2022-12-24T18:46:21.627Z"
   },
   {
    "duration": 3673,
    "start_time": "2022-12-24T18:46:48.363Z"
   },
   {
    "duration": 738,
    "start_time": "2022-12-24T18:49:26.691Z"
   },
   {
    "duration": 68,
    "start_time": "2022-12-24T18:50:24.053Z"
   },
   {
    "duration": 3982,
    "start_time": "2022-12-25T07:49:27.408Z"
   },
   {
    "duration": 895,
    "start_time": "2022-12-25T07:49:31.393Z"
   },
   {
    "duration": 42,
    "start_time": "2022-12-25T07:49:32.292Z"
   },
   {
    "duration": 42,
    "start_time": "2022-12-25T07:49:32.336Z"
   },
   {
    "duration": 46,
    "start_time": "2022-12-25T07:49:32.385Z"
   },
   {
    "duration": 290,
    "start_time": "2022-12-25T07:49:32.433Z"
   },
   {
    "duration": 18,
    "start_time": "2022-12-25T07:49:32.725Z"
   },
   {
    "duration": 41,
    "start_time": "2022-12-25T07:49:32.752Z"
   },
   {
    "duration": 18,
    "start_time": "2022-12-25T07:49:32.795Z"
   },
   {
    "duration": 60,
    "start_time": "2022-12-25T07:49:32.816Z"
   },
   {
    "duration": 9,
    "start_time": "2022-12-25T07:49:32.879Z"
   },
   {
    "duration": 8,
    "start_time": "2022-12-25T07:49:32.891Z"
   },
   {
    "duration": 8,
    "start_time": "2022-12-25T07:49:32.901Z"
   },
   {
    "duration": 17,
    "start_time": "2022-12-25T07:49:32.912Z"
   },
   {
    "duration": 21,
    "start_time": "2022-12-25T07:49:32.931Z"
   },
   {
    "duration": 35,
    "start_time": "2022-12-25T07:49:32.955Z"
   },
   {
    "duration": 11,
    "start_time": "2022-12-25T07:49:32.992Z"
   },
   {
    "duration": 1263,
    "start_time": "2022-12-25T07:49:33.006Z"
   },
   {
    "duration": 447,
    "start_time": "2022-12-25T07:49:34.271Z"
   },
   {
    "duration": 514,
    "start_time": "2022-12-25T07:49:34.719Z"
   },
   {
    "duration": 5,
    "start_time": "2022-12-25T07:49:35.235Z"
   },
   {
    "duration": 14,
    "start_time": "2022-12-25T07:49:35.255Z"
   },
   {
    "duration": 10,
    "start_time": "2022-12-25T07:49:35.271Z"
   },
   {
    "duration": 8,
    "start_time": "2022-12-25T07:49:35.283Z"
   },
   {
    "duration": 924,
    "start_time": "2022-12-25T07:49:35.293Z"
   },
   {
    "duration": 51,
    "start_time": "2022-12-25T07:49:36.219Z"
   },
   {
    "duration": 30,
    "start_time": "2022-12-25T07:49:36.272Z"
   },
   {
    "duration": 15,
    "start_time": "2022-12-25T07:50:58.528Z"
   },
   {
    "duration": 24,
    "start_time": "2022-12-25T07:54:55.596Z"
   },
   {
    "duration": 4,
    "start_time": "2022-12-25T07:54:57.300Z"
   },
   {
    "duration": 123,
    "start_time": "2022-12-25T07:55:01.212Z"
   },
   {
    "duration": 1662,
    "start_time": "2022-12-25T10:12:05.375Z"
   },
   {
    "duration": 1787,
    "start_time": "2022-12-25T10:12:07.040Z"
   },
   {
    "duration": 47,
    "start_time": "2022-12-25T10:12:08.829Z"
   },
   {
    "duration": 13,
    "start_time": "2022-12-25T10:12:08.878Z"
   },
   {
    "duration": 51,
    "start_time": "2022-12-25T10:12:08.893Z"
   },
   {
    "duration": 240,
    "start_time": "2022-12-25T10:12:08.946Z"
   },
   {
    "duration": 16,
    "start_time": "2022-12-25T10:12:09.187Z"
   },
   {
    "duration": 43,
    "start_time": "2022-12-25T10:12:09.205Z"
   },
   {
    "duration": 19,
    "start_time": "2022-12-25T10:12:09.250Z"
   },
   {
    "duration": 25,
    "start_time": "2022-12-25T10:12:09.272Z"
   },
   {
    "duration": 26,
    "start_time": "2022-12-25T10:12:09.299Z"
   },
   {
    "duration": 15,
    "start_time": "2022-12-25T10:12:09.326Z"
   },
   {
    "duration": 17,
    "start_time": "2022-12-25T10:12:09.343Z"
   },
   {
    "duration": 26,
    "start_time": "2022-12-25T10:12:09.362Z"
   },
   {
    "duration": 18,
    "start_time": "2022-12-25T10:12:09.390Z"
   },
   {
    "duration": 22,
    "start_time": "2022-12-25T10:12:09.413Z"
   },
   {
    "duration": 19,
    "start_time": "2022-12-25T10:12:09.437Z"
   },
   {
    "duration": 1002,
    "start_time": "2022-12-25T10:12:09.457Z"
   },
   {
    "duration": 479,
    "start_time": "2022-12-25T10:12:10.461Z"
   },
   {
    "duration": 418,
    "start_time": "2022-12-25T10:12:10.943Z"
   },
   {
    "duration": 5,
    "start_time": "2022-12-25T10:12:11.363Z"
   },
   {
    "duration": 17,
    "start_time": "2022-12-25T10:12:11.370Z"
   },
   {
    "duration": 24,
    "start_time": "2022-12-25T10:12:11.389Z"
   },
   {
    "duration": 15,
    "start_time": "2022-12-25T10:12:11.415Z"
   },
   {
    "duration": 839,
    "start_time": "2022-12-25T10:12:11.432Z"
   },
   {
    "duration": 28,
    "start_time": "2022-12-25T10:12:12.273Z"
   },
   {
    "duration": 39,
    "start_time": "2022-12-25T10:12:12.303Z"
   },
   {
    "duration": 12,
    "start_time": "2022-12-25T10:12:12.345Z"
   },
   {
    "duration": 21,
    "start_time": "2022-12-25T10:12:12.359Z"
   },
   {
    "duration": 5,
    "start_time": "2022-12-25T10:12:12.381Z"
   },
   {
    "duration": 140,
    "start_time": "2022-12-25T10:12:12.387Z"
   },
   {
    "duration": 0,
    "start_time": "2022-12-25T10:12:12.528Z"
   },
   {
    "duration": 0,
    "start_time": "2022-12-25T10:12:12.530Z"
   },
   {
    "duration": 0,
    "start_time": "2022-12-25T10:12:12.531Z"
   },
   {
    "duration": 0,
    "start_time": "2022-12-25T10:12:12.532Z"
   },
   {
    "duration": 6,
    "start_time": "2022-12-25T10:14:52.978Z"
   },
   {
    "duration": 6,
    "start_time": "2022-12-25T10:15:05.292Z"
   },
   {
    "duration": 6,
    "start_time": "2022-12-25T10:15:11.674Z"
   },
   {
    "duration": 7,
    "start_time": "2022-12-25T10:15:16.500Z"
   },
   {
    "duration": 5,
    "start_time": "2022-12-25T10:15:32.585Z"
   },
   {
    "duration": 5,
    "start_time": "2022-12-25T10:15:33.744Z"
   },
   {
    "duration": 6,
    "start_time": "2022-12-25T10:15:40.271Z"
   },
   {
    "duration": 5,
    "start_time": "2022-12-25T10:16:48.168Z"
   },
   {
    "duration": 6,
    "start_time": "2022-12-25T10:16:49.401Z"
   },
   {
    "duration": 5,
    "start_time": "2022-12-25T10:16:55.373Z"
   },
   {
    "duration": 5,
    "start_time": "2022-12-25T10:16:56.352Z"
   },
   {
    "duration": 6,
    "start_time": "2022-12-25T10:17:03.319Z"
   },
   {
    "duration": 7,
    "start_time": "2022-12-25T10:17:04.075Z"
   },
   {
    "duration": 5,
    "start_time": "2022-12-25T10:17:21.995Z"
   },
   {
    "duration": 6,
    "start_time": "2022-12-25T10:17:32.745Z"
   },
   {
    "duration": 4,
    "start_time": "2022-12-25T10:17:33.361Z"
   },
   {
    "duration": 6,
    "start_time": "2022-12-25T10:18:25.831Z"
   },
   {
    "duration": 100,
    "start_time": "2022-12-25T10:20:05.083Z"
   },
   {
    "duration": 5,
    "start_time": "2022-12-25T10:20:11.121Z"
   },
   {
    "duration": 5,
    "start_time": "2022-12-25T10:20:34.168Z"
   },
   {
    "duration": 5,
    "start_time": "2022-12-25T10:21:02.249Z"
   },
   {
    "duration": 13,
    "start_time": "2022-12-25T10:21:02.515Z"
   },
   {
    "duration": 22,
    "start_time": "2022-12-25T10:21:05.945Z"
   },
   {
    "duration": 12,
    "start_time": "2022-12-25T10:21:09.324Z"
   },
   {
    "duration": 70,
    "start_time": "2022-12-25T10:23:03.445Z"
   },
   {
    "duration": 279,
    "start_time": "2022-12-25T10:23:20.052Z"
   },
   {
    "duration": 1207,
    "start_time": "2022-12-25T10:23:44.490Z"
   },
   {
    "duration": 1003,
    "start_time": "2022-12-25T10:24:10.506Z"
   },
   {
    "duration": 1146,
    "start_time": "2022-12-25T10:24:25.678Z"
   },
   {
    "duration": 1266,
    "start_time": "2022-12-25T10:25:27.509Z"
   },
   {
    "duration": 1113,
    "start_time": "2022-12-25T10:26:27.347Z"
   },
   {
    "duration": 1248,
    "start_time": "2022-12-25T10:26:37.725Z"
   },
   {
    "duration": 5,
    "start_time": "2022-12-25T10:28:58.930Z"
   },
   {
    "duration": 5,
    "start_time": "2022-12-25T10:28:59.201Z"
   },
   {
    "duration": 5,
    "start_time": "2022-12-25T10:28:59.471Z"
   },
   {
    "duration": 645,
    "start_time": "2022-12-25T10:29:12.915Z"
   },
   {
    "duration": 16,
    "start_time": "2022-12-25T10:29:59.194Z"
   },
   {
    "duration": 15,
    "start_time": "2022-12-25T10:35:09.185Z"
   },
   {
    "duration": 3,
    "start_time": "2022-12-25T10:35:39.717Z"
   },
   {
    "duration": 859,
    "start_time": "2022-12-25T10:35:41.076Z"
   },
   {
    "duration": 586,
    "start_time": "2022-12-25T10:35:43.836Z"
   },
   {
    "duration": 30106,
    "start_time": "2022-12-25T10:35:47.495Z"
   },
   {
    "duration": 4149,
    "start_time": "2022-12-25T10:36:17.602Z"
   },
   {
    "duration": 852,
    "start_time": "2022-12-25T10:36:21.752Z"
   },
   {
    "duration": 17,
    "start_time": "2022-12-25T10:44:10.687Z"
   },
   {
    "duration": 15,
    "start_time": "2022-12-25T10:44:51.439Z"
   },
   {
    "duration": 6,
    "start_time": "2022-12-25T10:45:19.992Z"
   },
   {
    "duration": 685,
    "start_time": "2022-12-25T10:45:20.893Z"
   },
   {
    "duration": 55,
    "start_time": "2022-12-25T10:45:21.581Z"
   },
   {
    "duration": 14,
    "start_time": "2022-12-25T10:45:21.876Z"
   },
   {
    "duration": 41,
    "start_time": "2022-12-25T10:45:22.306Z"
   },
   {
    "duration": 223,
    "start_time": "2022-12-25T10:45:22.737Z"
   },
   {
    "duration": 15,
    "start_time": "2022-12-25T10:45:23.395Z"
   },
   {
    "duration": 18,
    "start_time": "2022-12-25T10:45:23.992Z"
   },
   {
    "duration": 23,
    "start_time": "2022-12-25T10:45:24.607Z"
   },
   {
    "duration": 26,
    "start_time": "2022-12-25T10:45:24.907Z"
   },
   {
    "duration": 7,
    "start_time": "2022-12-25T10:45:25.803Z"
   },
   {
    "duration": 6,
    "start_time": "2022-12-25T10:45:26.652Z"
   },
   {
    "duration": 5,
    "start_time": "2022-12-25T10:45:26.938Z"
   },
   {
    "duration": 15,
    "start_time": "2022-12-25T10:45:29.219Z"
   },
   {
    "duration": 11,
    "start_time": "2022-12-25T10:45:29.688Z"
   },
   {
    "duration": 21,
    "start_time": "2022-12-25T10:45:30.177Z"
   },
   {
    "duration": 10,
    "start_time": "2022-12-25T10:45:35.767Z"
   },
   {
    "duration": 1352,
    "start_time": "2022-12-25T10:45:37.713Z"
   },
   {
    "duration": 481,
    "start_time": "2022-12-25T10:45:41.082Z"
   },
   {
    "duration": 544,
    "start_time": "2022-12-25T10:45:41.565Z"
   },
   {
    "duration": 5,
    "start_time": "2022-12-25T10:45:44.412Z"
   },
   {
    "duration": 5,
    "start_time": "2022-12-25T10:45:44.907Z"
   },
   {
    "duration": 8,
    "start_time": "2022-12-25T10:45:45.320Z"
   },
   {
    "duration": 676,
    "start_time": "2022-12-25T10:45:47.561Z"
   },
   {
    "duration": 22,
    "start_time": "2022-12-25T10:45:48.914Z"
   },
   {
    "duration": 28,
    "start_time": "2022-12-25T10:45:51.153Z"
   },
   {
    "duration": 23,
    "start_time": "2022-12-25T10:46:02.559Z"
   },
   {
    "duration": 28,
    "start_time": "2022-12-25T10:47:10.913Z"
   },
   {
    "duration": 133,
    "start_time": "2022-12-25T10:47:11.573Z"
   },
   {
    "duration": 20,
    "start_time": "2022-12-25T10:47:13.180Z"
   },
   {
    "duration": 6,
    "start_time": "2022-12-25T10:47:14.517Z"
   },
   {
    "duration": 3,
    "start_time": "2022-12-25T10:47:15.705Z"
   },
   {
    "duration": 2626,
    "start_time": "2022-12-25T10:47:17.111Z"
   },
   {
    "duration": 86,
    "start_time": "2022-12-25T10:47:54.363Z"
   },
   {
    "duration": 1736,
    "start_time": "2022-12-25T22:23:41.336Z"
   },
   {
    "duration": 1883,
    "start_time": "2022-12-25T22:23:43.074Z"
   },
   {
    "duration": 47,
    "start_time": "2022-12-25T22:23:44.959Z"
   },
   {
    "duration": 17,
    "start_time": "2022-12-25T22:23:45.009Z"
   },
   {
    "duration": 66,
    "start_time": "2022-12-25T22:23:45.029Z"
   },
   {
    "duration": 301,
    "start_time": "2022-12-25T22:23:45.096Z"
   },
   {
    "duration": 19,
    "start_time": "2022-12-25T22:23:45.399Z"
   },
   {
    "duration": 44,
    "start_time": "2022-12-25T22:23:45.420Z"
   },
   {
    "duration": 16,
    "start_time": "2022-12-25T22:23:45.466Z"
   },
   {
    "duration": 27,
    "start_time": "2022-12-25T22:23:45.485Z"
   },
   {
    "duration": 7,
    "start_time": "2022-12-25T22:23:45.513Z"
   },
   {
    "duration": 31,
    "start_time": "2022-12-25T22:23:45.521Z"
   },
   {
    "duration": 4,
    "start_time": "2022-12-25T22:23:45.554Z"
   },
   {
    "duration": 13,
    "start_time": "2022-12-25T22:23:45.563Z"
   },
   {
    "duration": 14,
    "start_time": "2022-12-25T22:23:45.579Z"
   },
   {
    "duration": 57,
    "start_time": "2022-12-25T22:23:45.595Z"
   },
   {
    "duration": 11,
    "start_time": "2022-12-25T22:23:45.654Z"
   },
   {
    "duration": 1374,
    "start_time": "2022-12-25T22:23:45.666Z"
   },
   {
    "duration": 434,
    "start_time": "2022-12-25T22:23:47.042Z"
   },
   {
    "duration": 473,
    "start_time": "2022-12-25T22:23:47.477Z"
   },
   {
    "duration": 5,
    "start_time": "2022-12-25T22:23:47.952Z"
   },
   {
    "duration": 11,
    "start_time": "2022-12-25T22:23:47.959Z"
   },
   {
    "duration": 10,
    "start_time": "2022-12-25T22:23:47.972Z"
   },
   {
    "duration": 720,
    "start_time": "2022-12-25T22:23:47.983Z"
   },
   {
    "duration": 29,
    "start_time": "2022-12-25T22:23:48.706Z"
   },
   {
    "duration": 29,
    "start_time": "2022-12-25T22:23:48.750Z"
   },
   {
    "duration": 15,
    "start_time": "2022-12-25T22:23:48.781Z"
   },
   {
    "duration": 23,
    "start_time": "2022-12-25T22:23:48.799Z"
   },
   {
    "duration": 29,
    "start_time": "2022-12-25T22:23:48.825Z"
   },
   {
    "duration": 6,
    "start_time": "2022-12-25T22:23:48.856Z"
   },
   {
    "duration": 1188,
    "start_time": "2022-12-25T22:23:48.864Z"
   },
   {
    "duration": 1007,
    "start_time": "2022-12-25T22:23:50.054Z"
   },
   {
    "duration": 30858,
    "start_time": "2022-12-25T22:23:51.152Z"
   },
   {
    "duration": 4174,
    "start_time": "2022-12-25T22:24:22.012Z"
   },
   {
    "duration": 1015,
    "start_time": "2022-12-25T22:24:26.189Z"
   },
   {
    "duration": 0,
    "start_time": "2022-12-25T22:27:38.298Z"
   },
   {
    "duration": 0,
    "start_time": "2022-12-25T22:27:38.299Z"
   },
   {
    "duration": 0,
    "start_time": "2022-12-25T22:27:38.300Z"
   },
   {
    "duration": 5,
    "start_time": "2022-12-25T22:27:50.356Z"
   },
   {
    "duration": 740,
    "start_time": "2022-12-25T22:27:51.649Z"
   },
   {
    "duration": 41,
    "start_time": "2022-12-25T22:27:52.390Z"
   },
   {
    "duration": 14,
    "start_time": "2022-12-25T22:27:53.017Z"
   },
   {
    "duration": 41,
    "start_time": "2022-12-25T22:27:53.309Z"
   },
   {
    "duration": 334,
    "start_time": "2022-12-25T22:27:53.713Z"
   },
   {
    "duration": 17,
    "start_time": "2022-12-25T22:27:54.413Z"
   },
   {
    "duration": 21,
    "start_time": "2022-12-25T22:27:55.225Z"
   },
   {
    "duration": 16,
    "start_time": "2022-12-25T22:27:55.885Z"
   },
   {
    "duration": 20,
    "start_time": "2022-12-25T22:27:56.269Z"
   },
   {
    "duration": 6,
    "start_time": "2022-12-25T22:27:57.202Z"
   },
   {
    "duration": 6,
    "start_time": "2022-12-25T22:27:58.096Z"
   },
   {
    "duration": 4,
    "start_time": "2022-12-25T22:27:58.430Z"
   },
   {
    "duration": 11,
    "start_time": "2022-12-25T22:27:59.966Z"
   },
   {
    "duration": 12,
    "start_time": "2022-12-25T22:28:00.313Z"
   },
   {
    "duration": 22,
    "start_time": "2022-12-25T22:28:00.618Z"
   },
   {
    "duration": 11,
    "start_time": "2022-12-25T22:28:01.699Z"
   },
   {
    "duration": 1306,
    "start_time": "2022-12-25T22:28:03.946Z"
   },
   {
    "duration": 474,
    "start_time": "2022-12-25T22:28:06.511Z"
   },
   {
    "duration": 510,
    "start_time": "2022-12-25T22:28:06.999Z"
   },
   {
    "duration": 6,
    "start_time": "2022-12-25T22:28:09.157Z"
   },
   {
    "duration": 5,
    "start_time": "2022-12-25T22:28:09.460Z"
   },
   {
    "duration": 7,
    "start_time": "2022-12-25T22:28:09.759Z"
   },
   {
    "duration": 851,
    "start_time": "2022-12-25T22:28:10.700Z"
   },
   {
    "duration": 25,
    "start_time": "2022-12-25T22:28:12.678Z"
   },
   {
    "duration": 28,
    "start_time": "2022-12-25T22:28:13.786Z"
   },
   {
    "duration": 17,
    "start_time": "2022-12-25T22:28:14.626Z"
   },
   {
    "duration": 24,
    "start_time": "2022-12-25T22:28:16.999Z"
   },
   {
    "duration": 5,
    "start_time": "2022-12-25T22:28:18.189Z"
   },
   {
    "duration": 3,
    "start_time": "2022-12-25T22:28:19.265Z"
   },
   {
    "duration": 933,
    "start_time": "2022-12-25T22:28:20.223Z"
   },
   {
    "duration": 880,
    "start_time": "2022-12-25T22:28:22.672Z"
   },
   {
    "duration": 31374,
    "start_time": "2022-12-25T22:28:23.922Z"
   },
   {
    "duration": 4260,
    "start_time": "2022-12-25T22:28:55.299Z"
   },
   {
    "duration": 555206,
    "start_time": "2022-12-25T22:29:05.444Z"
   },
   {
    "duration": 898,
    "start_time": "2022-12-25T22:38:20.653Z"
   },
   {
    "duration": 11,
    "start_time": "2022-12-25T22:41:23.486Z"
   },
   {
    "duration": 6,
    "start_time": "2022-12-25T22:42:12.414Z"
   },
   {
    "duration": 0,
    "start_time": "2022-12-25T22:44:12.692Z"
   },
   {
    "duration": 0,
    "start_time": "2022-12-25T22:48:27.573Z"
   },
   {
    "duration": 0,
    "start_time": "2022-12-25T22:48:27.574Z"
   },
   {
    "duration": 930,
    "start_time": "2022-12-25T22:48:29.361Z"
   },
   {
    "duration": 19,
    "start_time": "2022-12-25T22:48:37.700Z"
   },
   {
    "duration": 26,
    "start_time": "2022-12-25T22:48:38.619Z"
   },
   {
    "duration": 15,
    "start_time": "2022-12-25T22:48:39.317Z"
   },
   {
    "duration": 917,
    "start_time": "2022-12-25T22:48:46.105Z"
   },
   {
    "duration": 19,
    "start_time": "2022-12-25T22:48:57.934Z"
   },
   {
    "duration": 26,
    "start_time": "2022-12-25T22:48:58.704Z"
   },
   {
    "duration": 15,
    "start_time": "2022-12-25T22:48:58.962Z"
   },
   {
    "duration": 23,
    "start_time": "2022-12-25T22:49:00.188Z"
   },
   {
    "duration": 5,
    "start_time": "2022-12-25T22:49:01.187Z"
   },
   {
    "duration": 3,
    "start_time": "2022-12-25T22:49:02.401Z"
   },
   {
    "duration": 1248,
    "start_time": "2022-12-25T22:49:03.109Z"
   },
   {
    "duration": 920,
    "start_time": "2022-12-25T22:49:10.181Z"
   },
   {
    "duration": 15077,
    "start_time": "2022-12-25T22:50:30.675Z"
   },
   {
    "duration": 0,
    "start_time": "2022-12-25T22:50:45.754Z"
   },
   {
    "duration": 0,
    "start_time": "2022-12-25T22:50:45.755Z"
   },
   {
    "duration": 0,
    "start_time": "2022-12-25T22:50:45.757Z"
   },
   {
    "duration": 0,
    "start_time": "2022-12-25T22:50:45.758Z"
   },
   {
    "duration": 0,
    "start_time": "2022-12-25T22:50:45.759Z"
   },
   {
    "duration": 0,
    "start_time": "2022-12-25T22:50:45.760Z"
   },
   {
    "duration": 6,
    "start_time": "2022-12-25T22:50:48.654Z"
   },
   {
    "duration": 774,
    "start_time": "2022-12-25T22:50:49.450Z"
   },
   {
    "duration": 49,
    "start_time": "2022-12-25T22:50:50.226Z"
   },
   {
    "duration": 14,
    "start_time": "2022-12-25T22:50:51.042Z"
   },
   {
    "duration": 39,
    "start_time": "2022-12-25T22:50:51.294Z"
   },
   {
    "duration": 219,
    "start_time": "2022-12-25T22:50:51.588Z"
   },
   {
    "duration": 17,
    "start_time": "2022-12-25T22:50:52.072Z"
   },
   {
    "duration": 21,
    "start_time": "2022-12-25T22:50:52.587Z"
   },
   {
    "duration": 17,
    "start_time": "2022-12-25T22:50:53.083Z"
   },
   {
    "duration": 17,
    "start_time": "2022-12-25T22:50:53.354Z"
   },
   {
    "duration": 7,
    "start_time": "2022-12-25T22:50:54.165Z"
   },
   {
    "duration": 6,
    "start_time": "2022-12-25T22:50:54.984Z"
   },
   {
    "duration": 5,
    "start_time": "2022-12-25T22:50:55.269Z"
   },
   {
    "duration": 12,
    "start_time": "2022-12-25T22:50:56.860Z"
   },
   {
    "duration": 13,
    "start_time": "2022-12-25T22:50:57.153Z"
   },
   {
    "duration": 22,
    "start_time": "2022-12-25T22:50:57.561Z"
   },
   {
    "duration": 10,
    "start_time": "2022-12-25T22:50:58.520Z"
   },
   {
    "duration": 1215,
    "start_time": "2022-12-25T22:51:00.343Z"
   },
   {
    "duration": 596,
    "start_time": "2022-12-25T22:51:03.095Z"
   },
   {
    "duration": 511,
    "start_time": "2022-12-25T22:51:03.693Z"
   },
   {
    "duration": 5,
    "start_time": "2022-12-25T22:51:05.258Z"
   },
   {
    "duration": 5,
    "start_time": "2022-12-25T22:51:05.582Z"
   },
   {
    "duration": 6,
    "start_time": "2022-12-25T22:51:05.894Z"
   },
   {
    "duration": 647,
    "start_time": "2022-12-25T22:51:06.850Z"
   },
   {
    "duration": 30,
    "start_time": "2022-12-25T22:51:08.418Z"
   },
   {
    "duration": 28,
    "start_time": "2022-12-25T22:51:09.717Z"
   },
   {
    "duration": 14,
    "start_time": "2022-12-25T22:51:10.183Z"
   },
   {
    "duration": 21,
    "start_time": "2022-12-25T22:51:12.138Z"
   },
   {
    "duration": 5,
    "start_time": "2022-12-25T22:51:13.523Z"
   },
   {
    "duration": 3,
    "start_time": "2022-12-25T22:51:14.738Z"
   },
   {
    "duration": 1231,
    "start_time": "2022-12-25T22:51:16.025Z"
   },
   {
    "duration": 902,
    "start_time": "2022-12-25T22:51:18.755Z"
   },
   {
    "duration": 31825,
    "start_time": "2022-12-25T22:51:20.400Z"
   },
   {
    "duration": 4196,
    "start_time": "2022-12-25T22:51:53.564Z"
   },
   {
    "duration": 18171,
    "start_time": "2022-12-25T22:51:57.763Z"
   },
   {
    "duration": 0,
    "start_time": "2022-12-25T22:52:15.935Z"
   },
   {
    "duration": 0,
    "start_time": "2022-12-25T22:52:15.950Z"
   },
   {
    "duration": 892,
    "start_time": "2022-12-25T22:52:17.703Z"
   },
   {
    "duration": 871,
    "start_time": "2022-12-25T22:52:36.241Z"
   },
   {
    "duration": 1516,
    "start_time": "2022-12-25T22:52:46.326Z"
   },
   {
    "duration": 779,
    "start_time": "2022-12-25T22:52:47.844Z"
   },
   {
    "duration": 51,
    "start_time": "2022-12-25T22:52:48.625Z"
   },
   {
    "duration": 16,
    "start_time": "2022-12-25T22:52:48.678Z"
   },
   {
    "duration": 56,
    "start_time": "2022-12-25T22:52:48.696Z"
   },
   {
    "duration": 270,
    "start_time": "2022-12-25T22:52:48.754Z"
   },
   {
    "duration": 25,
    "start_time": "2022-12-25T22:52:49.026Z"
   },
   {
    "duration": 28,
    "start_time": "2022-12-25T22:52:49.053Z"
   },
   {
    "duration": 18,
    "start_time": "2022-12-25T22:52:49.083Z"
   },
   {
    "duration": 53,
    "start_time": "2022-12-25T22:52:49.103Z"
   },
   {
    "duration": 8,
    "start_time": "2022-12-25T22:52:49.157Z"
   },
   {
    "duration": 23,
    "start_time": "2022-12-25T22:52:49.166Z"
   },
   {
    "duration": 13,
    "start_time": "2022-12-25T22:52:49.191Z"
   },
   {
    "duration": 17,
    "start_time": "2022-12-25T22:52:49.208Z"
   },
   {
    "duration": 23,
    "start_time": "2022-12-25T22:52:49.229Z"
   },
   {
    "duration": 28,
    "start_time": "2022-12-25T22:52:49.254Z"
   },
   {
    "duration": 10,
    "start_time": "2022-12-25T22:52:49.284Z"
   },
   {
    "duration": 1454,
    "start_time": "2022-12-25T22:52:49.296Z"
   },
   {
    "duration": 445,
    "start_time": "2022-12-25T22:52:50.752Z"
   },
   {
    "duration": 517,
    "start_time": "2022-12-25T22:52:51.199Z"
   },
   {
    "duration": 5,
    "start_time": "2022-12-25T22:52:51.717Z"
   },
   {
    "duration": 12,
    "start_time": "2022-12-25T22:52:51.724Z"
   },
   {
    "duration": 14,
    "start_time": "2022-12-25T22:52:51.737Z"
   },
   {
    "duration": 697,
    "start_time": "2022-12-25T22:52:51.753Z"
   },
   {
    "duration": 31,
    "start_time": "2022-12-25T22:52:52.452Z"
   },
   {
    "duration": 29,
    "start_time": "2022-12-25T22:52:52.484Z"
   },
   {
    "duration": 38,
    "start_time": "2022-12-25T22:52:52.514Z"
   },
   {
    "duration": 22,
    "start_time": "2022-12-25T22:52:52.554Z"
   },
   {
    "duration": 5,
    "start_time": "2022-12-25T22:52:52.578Z"
   },
   {
    "duration": 7,
    "start_time": "2022-12-25T22:52:52.585Z"
   },
   {
    "duration": 1159,
    "start_time": "2022-12-25T22:52:52.594Z"
   },
   {
    "duration": 1106,
    "start_time": "2022-12-25T22:52:53.755Z"
   },
   {
    "duration": 32241,
    "start_time": "2022-12-25T22:52:54.953Z"
   },
   {
    "duration": 4408,
    "start_time": "2022-12-25T22:53:27.196Z"
   },
   {
    "duration": 992,
    "start_time": "2022-12-25T22:53:31.606Z"
   },
   {
    "duration": 6,
    "start_time": "2022-12-25T22:53:50.557Z"
   },
   {
    "duration": 806,
    "start_time": "2022-12-25T22:53:51.784Z"
   },
   {
    "duration": 47,
    "start_time": "2022-12-25T22:53:52.592Z"
   },
   {
    "duration": 15,
    "start_time": "2022-12-25T22:53:53.165Z"
   },
   {
    "duration": 52,
    "start_time": "2022-12-25T22:53:53.434Z"
   },
   {
    "duration": 212,
    "start_time": "2022-12-25T22:53:53.675Z"
   },
   {
    "duration": 17,
    "start_time": "2022-12-25T22:53:54.453Z"
   },
   {
    "duration": 20,
    "start_time": "2022-12-25T22:53:55.074Z"
   },
   {
    "duration": 17,
    "start_time": "2022-12-25T22:53:55.684Z"
   },
   {
    "duration": 30,
    "start_time": "2022-12-25T22:53:55.984Z"
   },
   {
    "duration": 7,
    "start_time": "2022-12-25T22:53:56.866Z"
   },
   {
    "duration": 6,
    "start_time": "2022-12-25T22:53:57.739Z"
   },
   {
    "duration": 5,
    "start_time": "2022-12-25T22:53:58.091Z"
   },
   {
    "duration": 12,
    "start_time": "2022-12-25T22:53:59.517Z"
   },
   {
    "duration": 11,
    "start_time": "2022-12-25T22:53:59.841Z"
   },
   {
    "duration": 21,
    "start_time": "2022-12-25T22:54:00.205Z"
   },
   {
    "duration": 10,
    "start_time": "2022-12-25T22:54:01.187Z"
   },
   {
    "duration": 1304,
    "start_time": "2022-12-25T22:54:02.434Z"
   },
   {
    "duration": 473,
    "start_time": "2022-12-25T22:54:05.216Z"
   },
   {
    "duration": 506,
    "start_time": "2022-12-25T22:54:05.691Z"
   },
   {
    "duration": 5,
    "start_time": "2022-12-25T22:54:07.234Z"
   },
   {
    "duration": 7,
    "start_time": "2022-12-25T22:54:07.547Z"
   },
   {
    "duration": 5,
    "start_time": "2022-12-25T22:54:07.814Z"
   },
   {
    "duration": 815,
    "start_time": "2022-12-25T22:54:08.739Z"
   },
   {
    "duration": 22,
    "start_time": "2022-12-25T22:54:09.984Z"
   },
   {
    "duration": 28,
    "start_time": "2022-12-25T22:54:11.015Z"
   },
   {
    "duration": 13,
    "start_time": "2022-12-25T22:54:11.456Z"
   },
   {
    "duration": 21,
    "start_time": "2022-12-25T22:54:12.787Z"
   },
   {
    "duration": 5,
    "start_time": "2022-12-25T22:54:13.829Z"
   },
   {
    "duration": 3,
    "start_time": "2022-12-25T22:54:14.919Z"
   },
   {
    "duration": 1270,
    "start_time": "2022-12-25T22:54:15.782Z"
   },
   {
    "duration": 875,
    "start_time": "2022-12-25T22:54:17.984Z"
   },
   {
    "duration": 31238,
    "start_time": "2022-12-25T22:54:18.952Z"
   },
   {
    "duration": 4337,
    "start_time": "2022-12-25T22:54:51.185Z"
   },
   {
    "duration": 872,
    "start_time": "2022-12-25T22:54:57.966Z"
   },
   {
    "duration": 12,
    "start_time": "2022-12-25T22:55:51.852Z"
   },
   {
    "duration": 24,
    "start_time": "2022-12-25T22:58:46.545Z"
   },
   {
    "duration": 13,
    "start_time": "2022-12-25T22:58:47.112Z"
   },
   {
    "duration": 21,
    "start_time": "2022-12-25T22:58:48.342Z"
   },
   {
    "duration": 5,
    "start_time": "2022-12-25T22:58:49.022Z"
   },
   {
    "duration": 3,
    "start_time": "2022-12-25T22:58:49.798Z"
   },
   {
    "duration": 1196,
    "start_time": "2022-12-25T22:58:50.457Z"
   },
   {
    "duration": 597,
    "start_time": "2022-12-25T22:58:53.062Z"
   },
   {
    "duration": 31453,
    "start_time": "2022-12-25T22:58:53.754Z"
   },
   {
    "duration": 4172,
    "start_time": "2022-12-25T22:59:25.209Z"
   },
   {
    "duration": 868,
    "start_time": "2022-12-25T22:59:31.890Z"
   },
   {
    "duration": 7,
    "start_time": "2022-12-25T22:59:33.988Z"
   },
   {
    "duration": 868,
    "start_time": "2022-12-25T23:00:07.720Z"
   },
   {
    "duration": 24,
    "start_time": "2022-12-25T23:06:26.714Z"
   },
   {
    "duration": 24,
    "start_time": "2022-12-25T23:06:34.148Z"
   },
   {
    "duration": 13,
    "start_time": "2022-12-25T23:06:35.365Z"
   },
   {
    "duration": 25,
    "start_time": "2022-12-25T23:06:37.183Z"
   },
   {
    "duration": 5,
    "start_time": "2022-12-25T23:06:39.326Z"
   },
   {
    "duration": 3,
    "start_time": "2022-12-25T23:06:40.844Z"
   },
   {
    "duration": 1152,
    "start_time": "2022-12-25T23:06:41.900Z"
   },
   {
    "duration": 1423,
    "start_time": "2022-12-25T23:06:45.329Z"
   },
   {
    "duration": 38550,
    "start_time": "2022-12-25T23:06:48.288Z"
   },
   {
    "duration": 2889,
    "start_time": "2022-12-25T23:07:40.065Z"
   },
   {
    "duration": 6827,
    "start_time": "2022-12-25T23:08:32.627Z"
   },
   {
    "duration": 7,
    "start_time": "2022-12-25T23:08:43.167Z"
   },
   {
    "duration": 118734,
    "start_time": "2022-12-25T23:10:17.290Z"
   },
   {
    "duration": 16,
    "start_time": "2022-12-25T23:12:48.869Z"
   },
   {
    "duration": 13,
    "start_time": "2022-12-25T23:13:02.563Z"
   },
   {
    "duration": 11,
    "start_time": "2022-12-25T23:13:13.839Z"
   },
   {
    "duration": 513993,
    "start_time": "2022-12-25T23:13:34.889Z"
   },
   {
    "duration": 0,
    "start_time": "2022-12-25T23:22:08.884Z"
   },
   {
    "duration": 3535,
    "start_time": "2022-12-25T23:22:19.841Z"
   },
   {
    "duration": 72518,
    "start_time": "2022-12-25T23:22:37.450Z"
   },
   {
    "duration": 173720,
    "start_time": "2022-12-25T23:24:03.358Z"
   },
   {
    "duration": 2378,
    "start_time": "2022-12-26T12:08:37.148Z"
   },
   {
    "duration": 3493,
    "start_time": "2022-12-26T12:08:39.528Z"
   },
   {
    "duration": 38,
    "start_time": "2022-12-26T12:08:43.023Z"
   },
   {
    "duration": 14,
    "start_time": "2022-12-26T12:08:43.063Z"
   },
   {
    "duration": 48,
    "start_time": "2022-12-26T12:08:43.079Z"
   },
   {
    "duration": 222,
    "start_time": "2022-12-26T12:08:43.129Z"
   },
   {
    "duration": 14,
    "start_time": "2022-12-26T12:08:43.353Z"
   },
   {
    "duration": 23,
    "start_time": "2022-12-26T12:08:43.368Z"
   },
   {
    "duration": 29,
    "start_time": "2022-12-26T12:08:43.392Z"
   },
   {
    "duration": 23,
    "start_time": "2022-12-26T12:08:43.423Z"
   },
   {
    "duration": 5,
    "start_time": "2022-12-26T12:08:43.448Z"
   },
   {
    "duration": 9,
    "start_time": "2022-12-26T12:08:43.454Z"
   },
   {
    "duration": 7,
    "start_time": "2022-12-26T12:08:43.464Z"
   },
   {
    "duration": 38,
    "start_time": "2022-12-26T12:08:43.474Z"
   },
   {
    "duration": 11,
    "start_time": "2022-12-26T12:08:43.514Z"
   },
   {
    "duration": 23,
    "start_time": "2022-12-26T12:08:43.527Z"
   },
   {
    "duration": 9,
    "start_time": "2022-12-26T12:08:43.552Z"
   },
   {
    "duration": 1236,
    "start_time": "2022-12-26T12:08:43.563Z"
   },
   {
    "duration": 471,
    "start_time": "2022-12-26T12:08:44.802Z"
   },
   {
    "duration": 489,
    "start_time": "2022-12-26T12:08:45.275Z"
   },
   {
    "duration": 6,
    "start_time": "2022-12-26T12:08:45.766Z"
   },
   {
    "duration": 8,
    "start_time": "2022-12-26T12:08:45.773Z"
   },
   {
    "duration": 6,
    "start_time": "2022-12-26T12:08:45.782Z"
   },
   {
    "duration": 712,
    "start_time": "2022-12-26T12:08:45.790Z"
   },
   {
    "duration": 30,
    "start_time": "2022-12-26T12:08:46.511Z"
   },
   {
    "duration": 30,
    "start_time": "2022-12-26T12:08:46.543Z"
   },
   {
    "duration": 41,
    "start_time": "2022-12-26T12:08:46.575Z"
   },
   {
    "duration": 22,
    "start_time": "2022-12-26T12:08:46.618Z"
   },
   {
    "duration": 6,
    "start_time": "2022-12-26T12:08:46.643Z"
   },
   {
    "duration": 13,
    "start_time": "2022-12-26T12:08:46.651Z"
   },
   {
    "duration": 856,
    "start_time": "2022-12-26T12:08:46.666Z"
   },
   {
    "duration": 1204,
    "start_time": "2022-12-26T12:13:58.414Z"
   },
   {
    "duration": 34961,
    "start_time": "2022-12-26T12:14:01.691Z"
   },
   {
    "duration": 34814,
    "start_time": "2022-12-26T12:16:06.295Z"
   },
   {
    "duration": 588,
    "start_time": "2022-12-26T12:17:19.283Z"
   }
  ],
  "kernelspec": {
   "display_name": "Python 3 (ipykernel)",
   "language": "python",
   "name": "python3"
  },
  "language_info": {
   "codemirror_mode": {
    "name": "ipython",
    "version": 3
   },
   "file_extension": ".py",
   "mimetype": "text/x-python",
   "name": "python",
   "nbconvert_exporter": "python",
   "pygments_lexer": "ipython3",
   "version": "3.10.7"
  },
  "toc": {
   "base_numbering": 1,
   "nav_menu": {},
   "number_sections": true,
   "sideBar": true,
   "skip_h1_title": true,
   "title_cell": "Содержание",
   "title_sidebar": "Contents",
   "toc_cell": true,
   "toc_position": {
    "height": "calc(100% - 180px)",
    "left": "10px",
    "top": "150px",
    "width": "165px"
   },
   "toc_section_display": true,
   "toc_window_display": true
  }
 },
 "nbformat": 4,
 "nbformat_minor": 2
}
