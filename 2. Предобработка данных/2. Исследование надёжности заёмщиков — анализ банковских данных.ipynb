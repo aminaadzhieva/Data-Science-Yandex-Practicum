{
 "cells": [
  {
   "attachments": {},
   "cell_type": "markdown",
   "id": "65a2ba84",
   "metadata": {
    "deletable": false,
    "editable": false,
    "id": "c81daeeb"
   },
   "source": [
    "# Исследование надежности заемщиков\n"
   ]
  },
  {
   "cell_type": "markdown",
   "id": "ecfda539",
   "metadata": {},
   "source": [
    "**Данные:** Данные кредитного отдела банка с информацией о семейном положении клиентов, количестве детей.\n",
    "\n",
    "**Цель исследования:** На основе статистики о платёжеспособности клиентов исследовать влияет ли семейное положение и количество детей клиента на факт возврата кредита в срок.\n",
    "\n",
    "**План работы:**\n",
    "\n",
    "1. Импорт данных.\n",
    "\n",
    "2. Предобработка данных.\n",
    "\n",
    "3. Исследование данных.\n",
    "\n",
    "4. Анализ и общий вывод.\n",
    "\n"
   ]
  },
  {
   "cell_type": "markdown",
   "id": "3b2d12a9",
   "metadata": {},
   "source": [
    "## Импорт данных:"
   ]
  },
  {
   "attachments": {},
   "cell_type": "markdown",
   "id": "4fb85285",
   "metadata": {
    "deletable": false,
    "editable": false,
    "id": "744d7639"
   },
   "source": [
    "Открою таблицу и изучу общую информацию о данных"
   ]
  },
  {
   "cell_type": "code",
   "execution_count": 2,
   "id": "b1d094c8",
   "metadata": {
    "deletable": false,
    "id": "7bcf75c9"
   },
   "outputs": [],
   "source": [
    "# Импортирую библиотеку pandas и загружу данные:\n",
    "import pandas as pd\n",
    "\n",
    "try:\n",
    "    data = pd.read_csv('/datasets/data.csv')\n",
    "except:\n",
    "    data = pd.read_csv('https://code.s3.yandex.net/datasets/data.csv')"
   ]
  },
  {
   "cell_type": "code",
   "execution_count": 3,
   "id": "00d4c8e1",
   "metadata": {
    "deletable": false,
    "id": "2a7cab99",
    "outputId": "1a8f3ef2-d323-4ec2-ddf7-89670b5944c4"
   },
   "outputs": [
    {
     "data": {
      "text/html": [
       "<div>\n",
       "<style scoped>\n",
       "    .dataframe tbody tr th:only-of-type {\n",
       "        vertical-align: middle;\n",
       "    }\n",
       "\n",
       "    .dataframe tbody tr th {\n",
       "        vertical-align: top;\n",
       "    }\n",
       "\n",
       "    .dataframe thead th {\n",
       "        text-align: right;\n",
       "    }\n",
       "</style>\n",
       "<table border=\"1\" class=\"dataframe\">\n",
       "  <thead>\n",
       "    <tr style=\"text-align: right;\">\n",
       "      <th></th>\n",
       "      <th>children</th>\n",
       "      <th>days_employed</th>\n",
       "      <th>dob_years</th>\n",
       "      <th>education</th>\n",
       "      <th>education_id</th>\n",
       "      <th>family_status</th>\n",
       "      <th>family_status_id</th>\n",
       "      <th>gender</th>\n",
       "      <th>income_type</th>\n",
       "      <th>debt</th>\n",
       "      <th>total_income</th>\n",
       "      <th>purpose</th>\n",
       "    </tr>\n",
       "  </thead>\n",
       "  <tbody>\n",
       "    <tr>\n",
       "      <th>0</th>\n",
       "      <td>1</td>\n",
       "      <td>-8437.673028</td>\n",
       "      <td>42</td>\n",
       "      <td>высшее</td>\n",
       "      <td>0</td>\n",
       "      <td>женат / замужем</td>\n",
       "      <td>0</td>\n",
       "      <td>F</td>\n",
       "      <td>сотрудник</td>\n",
       "      <td>0</td>\n",
       "      <td>253875.639453</td>\n",
       "      <td>покупка жилья</td>\n",
       "    </tr>\n",
       "    <tr>\n",
       "      <th>1</th>\n",
       "      <td>1</td>\n",
       "      <td>-4024.803754</td>\n",
       "      <td>36</td>\n",
       "      <td>среднее</td>\n",
       "      <td>1</td>\n",
       "      <td>женат / замужем</td>\n",
       "      <td>0</td>\n",
       "      <td>F</td>\n",
       "      <td>сотрудник</td>\n",
       "      <td>0</td>\n",
       "      <td>112080.014102</td>\n",
       "      <td>приобретение автомобиля</td>\n",
       "    </tr>\n",
       "    <tr>\n",
       "      <th>2</th>\n",
       "      <td>0</td>\n",
       "      <td>-5623.422610</td>\n",
       "      <td>33</td>\n",
       "      <td>Среднее</td>\n",
       "      <td>1</td>\n",
       "      <td>женат / замужем</td>\n",
       "      <td>0</td>\n",
       "      <td>M</td>\n",
       "      <td>сотрудник</td>\n",
       "      <td>0</td>\n",
       "      <td>145885.952297</td>\n",
       "      <td>покупка жилья</td>\n",
       "    </tr>\n",
       "    <tr>\n",
       "      <th>3</th>\n",
       "      <td>3</td>\n",
       "      <td>-4124.747207</td>\n",
       "      <td>32</td>\n",
       "      <td>среднее</td>\n",
       "      <td>1</td>\n",
       "      <td>женат / замужем</td>\n",
       "      <td>0</td>\n",
       "      <td>M</td>\n",
       "      <td>сотрудник</td>\n",
       "      <td>0</td>\n",
       "      <td>267628.550329</td>\n",
       "      <td>дополнительное образование</td>\n",
       "    </tr>\n",
       "    <tr>\n",
       "      <th>4</th>\n",
       "      <td>0</td>\n",
       "      <td>340266.072047</td>\n",
       "      <td>53</td>\n",
       "      <td>среднее</td>\n",
       "      <td>1</td>\n",
       "      <td>гражданский брак</td>\n",
       "      <td>1</td>\n",
       "      <td>F</td>\n",
       "      <td>пенсионер</td>\n",
       "      <td>0</td>\n",
       "      <td>158616.077870</td>\n",
       "      <td>сыграть свадьбу</td>\n",
       "    </tr>\n",
       "    <tr>\n",
       "      <th>5</th>\n",
       "      <td>0</td>\n",
       "      <td>-926.185831</td>\n",
       "      <td>27</td>\n",
       "      <td>высшее</td>\n",
       "      <td>0</td>\n",
       "      <td>гражданский брак</td>\n",
       "      <td>1</td>\n",
       "      <td>M</td>\n",
       "      <td>компаньон</td>\n",
       "      <td>0</td>\n",
       "      <td>255763.565419</td>\n",
       "      <td>покупка жилья</td>\n",
       "    </tr>\n",
       "    <tr>\n",
       "      <th>6</th>\n",
       "      <td>0</td>\n",
       "      <td>-2879.202052</td>\n",
       "      <td>43</td>\n",
       "      <td>высшее</td>\n",
       "      <td>0</td>\n",
       "      <td>женат / замужем</td>\n",
       "      <td>0</td>\n",
       "      <td>F</td>\n",
       "      <td>компаньон</td>\n",
       "      <td>0</td>\n",
       "      <td>240525.971920</td>\n",
       "      <td>операции с жильем</td>\n",
       "    </tr>\n",
       "    <tr>\n",
       "      <th>7</th>\n",
       "      <td>0</td>\n",
       "      <td>-152.779569</td>\n",
       "      <td>50</td>\n",
       "      <td>СРЕДНЕЕ</td>\n",
       "      <td>1</td>\n",
       "      <td>женат / замужем</td>\n",
       "      <td>0</td>\n",
       "      <td>M</td>\n",
       "      <td>сотрудник</td>\n",
       "      <td>0</td>\n",
       "      <td>135823.934197</td>\n",
       "      <td>образование</td>\n",
       "    </tr>\n",
       "    <tr>\n",
       "      <th>8</th>\n",
       "      <td>2</td>\n",
       "      <td>-6929.865299</td>\n",
       "      <td>35</td>\n",
       "      <td>ВЫСШЕЕ</td>\n",
       "      <td>0</td>\n",
       "      <td>гражданский брак</td>\n",
       "      <td>1</td>\n",
       "      <td>F</td>\n",
       "      <td>сотрудник</td>\n",
       "      <td>0</td>\n",
       "      <td>95856.832424</td>\n",
       "      <td>на проведение свадьбы</td>\n",
       "    </tr>\n",
       "    <tr>\n",
       "      <th>9</th>\n",
       "      <td>0</td>\n",
       "      <td>-2188.756445</td>\n",
       "      <td>41</td>\n",
       "      <td>среднее</td>\n",
       "      <td>1</td>\n",
       "      <td>женат / замужем</td>\n",
       "      <td>0</td>\n",
       "      <td>M</td>\n",
       "      <td>сотрудник</td>\n",
       "      <td>0</td>\n",
       "      <td>144425.938277</td>\n",
       "      <td>покупка жилья для семьи</td>\n",
       "    </tr>\n",
       "    <tr>\n",
       "      <th>10</th>\n",
       "      <td>2</td>\n",
       "      <td>-4171.483647</td>\n",
       "      <td>36</td>\n",
       "      <td>высшее</td>\n",
       "      <td>0</td>\n",
       "      <td>женат / замужем</td>\n",
       "      <td>0</td>\n",
       "      <td>M</td>\n",
       "      <td>компаньон</td>\n",
       "      <td>0</td>\n",
       "      <td>113943.491460</td>\n",
       "      <td>покупка недвижимости</td>\n",
       "    </tr>\n",
       "    <tr>\n",
       "      <th>11</th>\n",
       "      <td>0</td>\n",
       "      <td>-792.701887</td>\n",
       "      <td>40</td>\n",
       "      <td>среднее</td>\n",
       "      <td>1</td>\n",
       "      <td>женат / замужем</td>\n",
       "      <td>0</td>\n",
       "      <td>F</td>\n",
       "      <td>сотрудник</td>\n",
       "      <td>0</td>\n",
       "      <td>77069.234271</td>\n",
       "      <td>покупка коммерческой недвижимости</td>\n",
       "    </tr>\n",
       "    <tr>\n",
       "      <th>12</th>\n",
       "      <td>0</td>\n",
       "      <td>NaN</td>\n",
       "      <td>65</td>\n",
       "      <td>среднее</td>\n",
       "      <td>1</td>\n",
       "      <td>гражданский брак</td>\n",
       "      <td>1</td>\n",
       "      <td>M</td>\n",
       "      <td>пенсионер</td>\n",
       "      <td>0</td>\n",
       "      <td>NaN</td>\n",
       "      <td>сыграть свадьбу</td>\n",
       "    </tr>\n",
       "    <tr>\n",
       "      <th>13</th>\n",
       "      <td>0</td>\n",
       "      <td>-1846.641941</td>\n",
       "      <td>54</td>\n",
       "      <td>неоконченное высшее</td>\n",
       "      <td>2</td>\n",
       "      <td>женат / замужем</td>\n",
       "      <td>0</td>\n",
       "      <td>F</td>\n",
       "      <td>сотрудник</td>\n",
       "      <td>0</td>\n",
       "      <td>130458.228857</td>\n",
       "      <td>приобретение автомобиля</td>\n",
       "    </tr>\n",
       "    <tr>\n",
       "      <th>14</th>\n",
       "      <td>0</td>\n",
       "      <td>-1844.956182</td>\n",
       "      <td>56</td>\n",
       "      <td>высшее</td>\n",
       "      <td>0</td>\n",
       "      <td>гражданский брак</td>\n",
       "      <td>1</td>\n",
       "      <td>F</td>\n",
       "      <td>компаньон</td>\n",
       "      <td>1</td>\n",
       "      <td>165127.911772</td>\n",
       "      <td>покупка жилой недвижимости</td>\n",
       "    </tr>\n",
       "    <tr>\n",
       "      <th>15</th>\n",
       "      <td>1</td>\n",
       "      <td>-972.364419</td>\n",
       "      <td>26</td>\n",
       "      <td>среднее</td>\n",
       "      <td>1</td>\n",
       "      <td>женат / замужем</td>\n",
       "      <td>0</td>\n",
       "      <td>F</td>\n",
       "      <td>сотрудник</td>\n",
       "      <td>0</td>\n",
       "      <td>116820.904450</td>\n",
       "      <td>строительство собственной недвижимости</td>\n",
       "    </tr>\n",
       "    <tr>\n",
       "      <th>16</th>\n",
       "      <td>0</td>\n",
       "      <td>-1719.934226</td>\n",
       "      <td>35</td>\n",
       "      <td>среднее</td>\n",
       "      <td>1</td>\n",
       "      <td>женат / замужем</td>\n",
       "      <td>0</td>\n",
       "      <td>F</td>\n",
       "      <td>сотрудник</td>\n",
       "      <td>0</td>\n",
       "      <td>289202.704229</td>\n",
       "      <td>недвижимость</td>\n",
       "    </tr>\n",
       "    <tr>\n",
       "      <th>17</th>\n",
       "      <td>0</td>\n",
       "      <td>-2369.999720</td>\n",
       "      <td>33</td>\n",
       "      <td>высшее</td>\n",
       "      <td>0</td>\n",
       "      <td>гражданский брак</td>\n",
       "      <td>1</td>\n",
       "      <td>M</td>\n",
       "      <td>сотрудник</td>\n",
       "      <td>0</td>\n",
       "      <td>90410.586745</td>\n",
       "      <td>строительство недвижимости</td>\n",
       "    </tr>\n",
       "    <tr>\n",
       "      <th>18</th>\n",
       "      <td>0</td>\n",
       "      <td>400281.136913</td>\n",
       "      <td>53</td>\n",
       "      <td>среднее</td>\n",
       "      <td>1</td>\n",
       "      <td>вдовец / вдова</td>\n",
       "      <td>2</td>\n",
       "      <td>F</td>\n",
       "      <td>пенсионер</td>\n",
       "      <td>0</td>\n",
       "      <td>56823.777243</td>\n",
       "      <td>на покупку подержанного автомобиля</td>\n",
       "    </tr>\n",
       "    <tr>\n",
       "      <th>19</th>\n",
       "      <td>0</td>\n",
       "      <td>-10038.818549</td>\n",
       "      <td>48</td>\n",
       "      <td>СРЕДНЕЕ</td>\n",
       "      <td>1</td>\n",
       "      <td>в разводе</td>\n",
       "      <td>3</td>\n",
       "      <td>F</td>\n",
       "      <td>сотрудник</td>\n",
       "      <td>0</td>\n",
       "      <td>242831.107982</td>\n",
       "      <td>на покупку своего автомобиля</td>\n",
       "    </tr>\n",
       "  </tbody>\n",
       "</table>\n",
       "</div>"
      ],
      "text/plain": [
       "    children  days_employed  dob_years            education  education_id   \n",
       "0          1   -8437.673028         42               высшее             0  \\\n",
       "1          1   -4024.803754         36              среднее             1   \n",
       "2          0   -5623.422610         33              Среднее             1   \n",
       "3          3   -4124.747207         32              среднее             1   \n",
       "4          0  340266.072047         53              среднее             1   \n",
       "5          0    -926.185831         27               высшее             0   \n",
       "6          0   -2879.202052         43               высшее             0   \n",
       "7          0    -152.779569         50              СРЕДНЕЕ             1   \n",
       "8          2   -6929.865299         35               ВЫСШЕЕ             0   \n",
       "9          0   -2188.756445         41              среднее             1   \n",
       "10         2   -4171.483647         36               высшее             0   \n",
       "11         0    -792.701887         40              среднее             1   \n",
       "12         0            NaN         65              среднее             1   \n",
       "13         0   -1846.641941         54  неоконченное высшее             2   \n",
       "14         0   -1844.956182         56               высшее             0   \n",
       "15         1    -972.364419         26              среднее             1   \n",
       "16         0   -1719.934226         35              среднее             1   \n",
       "17         0   -2369.999720         33               высшее             0   \n",
       "18         0  400281.136913         53              среднее             1   \n",
       "19         0  -10038.818549         48              СРЕДНЕЕ             1   \n",
       "\n",
       "       family_status  family_status_id gender income_type  debt   \n",
       "0    женат / замужем                 0      F   сотрудник     0  \\\n",
       "1    женат / замужем                 0      F   сотрудник     0   \n",
       "2    женат / замужем                 0      M   сотрудник     0   \n",
       "3    женат / замужем                 0      M   сотрудник     0   \n",
       "4   гражданский брак                 1      F   пенсионер     0   \n",
       "5   гражданский брак                 1      M   компаньон     0   \n",
       "6    женат / замужем                 0      F   компаньон     0   \n",
       "7    женат / замужем                 0      M   сотрудник     0   \n",
       "8   гражданский брак                 1      F   сотрудник     0   \n",
       "9    женат / замужем                 0      M   сотрудник     0   \n",
       "10   женат / замужем                 0      M   компаньон     0   \n",
       "11   женат / замужем                 0      F   сотрудник     0   \n",
       "12  гражданский брак                 1      M   пенсионер     0   \n",
       "13   женат / замужем                 0      F   сотрудник     0   \n",
       "14  гражданский брак                 1      F   компаньон     1   \n",
       "15   женат / замужем                 0      F   сотрудник     0   \n",
       "16   женат / замужем                 0      F   сотрудник     0   \n",
       "17  гражданский брак                 1      M   сотрудник     0   \n",
       "18    вдовец / вдова                 2      F   пенсионер     0   \n",
       "19         в разводе                 3      F   сотрудник     0   \n",
       "\n",
       "     total_income                                 purpose  \n",
       "0   253875.639453                           покупка жилья  \n",
       "1   112080.014102                 приобретение автомобиля  \n",
       "2   145885.952297                           покупка жилья  \n",
       "3   267628.550329              дополнительное образование  \n",
       "4   158616.077870                         сыграть свадьбу  \n",
       "5   255763.565419                           покупка жилья  \n",
       "6   240525.971920                       операции с жильем  \n",
       "7   135823.934197                             образование  \n",
       "8    95856.832424                   на проведение свадьбы  \n",
       "9   144425.938277                 покупка жилья для семьи  \n",
       "10  113943.491460                    покупка недвижимости  \n",
       "11   77069.234271       покупка коммерческой недвижимости  \n",
       "12            NaN                         сыграть свадьбу  \n",
       "13  130458.228857                 приобретение автомобиля  \n",
       "14  165127.911772              покупка жилой недвижимости  \n",
       "15  116820.904450  строительство собственной недвижимости  \n",
       "16  289202.704229                            недвижимость  \n",
       "17   90410.586745              строительство недвижимости  \n",
       "18   56823.777243      на покупку подержанного автомобиля  \n",
       "19  242831.107982            на покупку своего автомобиля  "
      ]
     },
     "execution_count": 3,
     "metadata": {},
     "output_type": "execute_result"
    }
   ],
   "source": [
    "# Выведу первые 20 строчек датафрейма:\n",
    "data.head(20)"
   ]
  },
  {
   "cell_type": "code",
   "execution_count": 4,
   "id": "091465e6",
   "metadata": {
    "deletable": false,
    "id": "2b757bca",
    "outputId": "15376089-8dad-46c9-b520-c05248d43158"
   },
   "outputs": [
    {
     "name": "stdout",
     "output_type": "stream",
     "text": [
      "<class 'pandas.core.frame.DataFrame'>\n",
      "RangeIndex: 21525 entries, 0 to 21524\n",
      "Data columns (total 12 columns):\n",
      " #   Column            Non-Null Count  Dtype  \n",
      "---  ------            --------------  -----  \n",
      " 0   children          21525 non-null  int64  \n",
      " 1   days_employed     19351 non-null  float64\n",
      " 2   dob_years         21525 non-null  int64  \n",
      " 3   education         21525 non-null  object \n",
      " 4   education_id      21525 non-null  int64  \n",
      " 5   family_status     21525 non-null  object \n",
      " 6   family_status_id  21525 non-null  int64  \n",
      " 7   gender            21525 non-null  object \n",
      " 8   income_type       21525 non-null  object \n",
      " 9   debt              21525 non-null  int64  \n",
      " 10  total_income      19351 non-null  float64\n",
      " 11  purpose           21525 non-null  object \n",
      "dtypes: float64(2), int64(5), object(5)\n",
      "memory usage: 2.0+ MB\n"
     ]
    }
   ],
   "source": [
    "# Выведу основную информацию о датафрейме:\n",
    "data.info()"
   ]
  },
  {
   "attachments": {},
   "cell_type": "markdown",
   "id": "893bb3f8",
   "metadata": {
    "deletable": false,
    "editable": false,
    "id": "333ec665"
   },
   "source": [
    "## Предобработка данных"
   ]
  },
  {
   "attachments": {},
   "cell_type": "markdown",
   "id": "bbdca389",
   "metadata": {
    "deletable": false,
    "editable": false,
    "id": "02d92d53"
   },
   "source": [
    "### Удаление пропусков"
   ]
  },
  {
   "cell_type": "code",
   "execution_count": 5,
   "id": "052de2a7",
   "metadata": {
    "deletable": false,
    "id": "7f9b2309",
    "outputId": "81f4d817-781c-465c-ed15-91ce4446810d"
   },
   "outputs": [
    {
     "data": {
      "text/plain": [
       "children               0\n",
       "days_employed       2174\n",
       "dob_years              0\n",
       "education              0\n",
       "education_id           0\n",
       "family_status          0\n",
       "family_status_id       0\n",
       "gender                 0\n",
       "income_type            0\n",
       "debt                   0\n",
       "total_income        2174\n",
       "purpose                0\n",
       "dtype: int64"
      ]
     },
     "execution_count": 5,
     "metadata": {},
     "output_type": "execute_result"
    }
   ],
   "source": [
    "# Выведу количество пропущенных значений для каждого столбца:\n",
    "data.isna().sum()"
   ]
  },
  {
   "attachments": {},
   "cell_type": "markdown",
   "id": "46e5c3ed",
   "metadata": {},
   "source": [
    "Вывод: в двух столбцах есть пропущенные значения. Один из них — `days_employed`. Пропуски в этом столбце я обработаю на следующем этапе. Другой столбец с пропущенными значениями — `total_income` — хранит данные о доходах. На сумму дохода сильнее всего влияет тип занятости, поэтому заполню пропуски в этом столбце медианным значением по каждому типу из столбца `income_type`."
   ]
  },
  {
   "cell_type": "code",
   "execution_count": 6,
   "id": "181fee30",
   "metadata": {
    "deletable": false,
    "id": "42006a93"
   },
   "outputs": [],
   "source": [
    "for t in data['income_type'].unique():\n",
    "    data.loc[(data['income_type'] == t) & (data['total_income'].isna()), 'total_income'] = \\\n",
    "    data.loc[(data['income_type'] == t), 'total_income'].median()"
   ]
  },
  {
   "attachments": {},
   "cell_type": "markdown",
   "id": "d4b2d558",
   "metadata": {
    "deletable": false,
    "editable": false,
    "id": "89da5ece"
   },
   "source": [
    "### Обработка аномальных значений"
   ]
  },
  {
   "cell_type": "code",
   "execution_count": 7,
   "id": "0c0bcad6",
   "metadata": {
    "deletable": false,
    "id": "f6f055bf"
   },
   "outputs": [],
   "source": [
    "# Заменю все отрицательные значения положительными:\n",
    "data['days_employed'] = data['days_employed'].abs()"
   ]
  },
  {
   "cell_type": "code",
   "execution_count": 8,
   "id": "193df701",
   "metadata": {
    "deletable": false,
    "id": "85a5faf6",
    "outputId": "801ef80e-522b-4668-f34e-565af7432bcf"
   },
   "outputs": [
    {
     "data": {
      "text/plain": [
       "income_type\n",
       "безработный        366413.652744\n",
       "в декрете            3296.759962\n",
       "госслужащий          2689.368353\n",
       "компаньон            1547.382223\n",
       "пенсионер          365213.306266\n",
       "предприниматель       520.848083\n",
       "сотрудник            1574.202821\n",
       "студент               578.751554\n",
       "Name: days_employed, dtype: float64"
      ]
     },
     "execution_count": 8,
     "metadata": {},
     "output_type": "execute_result"
    }
   ],
   "source": [
    "# Для каждого типа занятости выведу медианное значение трудового стажа `days_employed` в днях:\n",
    "data.groupby('income_type')['days_employed'].agg('median')"
   ]
  },
  {
   "attachments": {},
   "cell_type": "markdown",
   "id": "85a30104",
   "metadata": {
    "deletable": false,
    "editable": false,
    "id": "38d1a030"
   },
   "source": [
    "У двух типов (безработные и пенсионеры) получатся аномально большие значения. Исправить такие значения сложно, поэтому оставлю их как есть. Тем более этот столбец не понадобится для исследования."
   ]
  },
  {
   "cell_type": "code",
   "execution_count": 10,
   "id": "06bcc2a9",
   "metadata": {
    "deletable": false,
    "id": "ef5056eb",
    "outputId": "6975b15c-7f95-4697-d16d-a0c79b657b03"
   },
   "outputs": [
    {
     "data": {
      "text/plain": [
       "array([ 1,  0,  3,  2, -1,  4, 20,  5], dtype=int64)"
      ]
     },
     "execution_count": 10,
     "metadata": {},
     "output_type": "execute_result"
    }
   ],
   "source": [
    "# Выведу перечень уникальных значений столбца \"children\":\n",
    "data['children'].unique()"
   ]
  },
  {
   "attachments": {},
   "cell_type": "markdown",
   "id": "4fdb880c",
   "metadata": {
    "deletable": false,
    "editable": false,
    "id": "40b9ebf2"
   },
   "source": [
    "В столбце `children` есть два аномальных значения."
   ]
  },
  {
   "cell_type": "code",
   "execution_count": 11,
   "id": "0a12c8aa",
   "metadata": {
    "deletable": false,
    "id": "3ff9801d"
   },
   "outputs": [],
   "source": [
    "# Удалю строки, в которых встречаются такие аномальные значения из датафрейма `data`:\n",
    "data = data[(data['children'] != -1) & (data['children'] != 20)]"
   ]
  },
  {
   "attachments": {},
   "cell_type": "markdown",
   "id": "640cb952",
   "metadata": {
    "deletable": false,
    "editable": false,
    "id": "bbc4d0ce"
   },
   "source": [
    "**Задание 10. Ещё раз выведите перечень уникальных значений столбца `children`, чтобы убедиться, что артефакты удалены.**"
   ]
  },
  {
   "cell_type": "code",
   "execution_count": 12,
   "id": "0710791d",
   "metadata": {
    "deletable": false,
    "id": "ad4fa8b7",
    "outputId": "b2097101-d49d-44d9-901b-32a65c9463d1"
   },
   "outputs": [
    {
     "data": {
      "text/plain": [
       "array([1, 0, 3, 2, 4, 5], dtype=int64)"
      ]
     },
     "execution_count": 12,
     "metadata": {},
     "output_type": "execute_result"
    }
   ],
   "source": [
    "# Ещё раз выведу перечень уникальных значений столбца `children`, чтобы убедиться, что артефакты удалены:\n",
    "data['children'].unique()"
   ]
  },
  {
   "attachments": {},
   "cell_type": "markdown",
   "id": "5c4f098d",
   "metadata": {
    "deletable": false,
    "editable": false,
    "id": "75440b63"
   },
   "source": [
    "### Удаление пропусков (продолжение)"
   ]
  },
  {
   "cell_type": "code",
   "execution_count": 13,
   "id": "c15366ce",
   "metadata": {
    "deletable": false,
    "id": "af6b1a7e"
   },
   "outputs": [],
   "source": [
    "# Заполню пропуски в столбце `days_employed` медианными значениями по каждого типа занятости `income_type`:\n",
    "for t in data['income_type'].unique():\n",
    "    data.loc[(data['income_type'] == t) & (data['days_employed'].isna()), 'days_employed'] = \\\n",
    "    data.loc[(data['income_type'] == t), 'days_employed'].median()"
   ]
  },
  {
   "cell_type": "code",
   "execution_count": 14,
   "id": "5f7d619d",
   "metadata": {
    "deletable": false,
    "id": "55f78bc2",
    "outputId": "8da1e4e1-358e-4e87-98c9-f261bce0a7b2"
   },
   "outputs": [
    {
     "data": {
      "text/plain": [
       "children            0\n",
       "days_employed       0\n",
       "dob_years           0\n",
       "education           0\n",
       "education_id        0\n",
       "family_status       0\n",
       "family_status_id    0\n",
       "gender              0\n",
       "income_type         0\n",
       "debt                0\n",
       "total_income        0\n",
       "purpose             0\n",
       "dtype: int64"
      ]
     },
     "execution_count": 14,
     "metadata": {},
     "output_type": "execute_result"
    }
   ],
   "source": [
    "# Проверю, все ли пропуски заполнены:\n",
    "data.isna().sum()"
   ]
  },
  {
   "attachments": {},
   "cell_type": "markdown",
   "id": "565c990b",
   "metadata": {
    "deletable": false,
    "editable": false,
    "id": "ddc81e43"
   },
   "source": [
    "### Изменение типов данных"
   ]
  },
  {
   "cell_type": "code",
   "execution_count": 15,
   "id": "a427d19f",
   "metadata": {
    "deletable": false,
    "id": "920b65ad"
   },
   "outputs": [],
   "source": [
    "# Заменю вещественный тип данных в столбце `total_income` на целочисленный:\n",
    "data['total_income'] = data['total_income'].astype(int)"
   ]
  },
  {
   "attachments": {},
   "cell_type": "markdown",
   "id": "692ec0b4",
   "metadata": {
    "deletable": false,
    "editable": false,
    "id": "80c420ba"
   },
   "source": [
    "### Обработка дубликатов"
   ]
  },
  {
   "attachments": {},
   "cell_type": "markdown",
   "id": "3b41604b",
   "metadata": {
    "deletable": false,
    "editable": false
   },
   "source": [
    "Обработаю неявные дубликаты в столбце `education`. В этом столбце есть одни и те же значения, но записанные по-разному: с использованием заглавных и строчных букв. Приведу их к нижнему регистру. Проверю остальные столбцы."
   ]
  },
  {
   "cell_type": "code",
   "execution_count": 14,
   "id": "cc31ad4a",
   "metadata": {
    "deletable": false
   },
   "outputs": [],
   "source": [
    "data['education'] = data['education'].str.lower()"
   ]
  },
  {
   "cell_type": "code",
   "execution_count": 17,
   "id": "9baf944e",
   "metadata": {
    "deletable": false,
    "id": "3ee445e4",
    "outputId": "9684deba-1934-42d1-99e1-cda61740f822"
   },
   "outputs": [],
   "source": [
    "# Выведу на экран количество строк-дубликатов в данных. Если такие строки присутствуют, удалю их.\n",
    "data.duplicated().sum()\n",
    "data = data.drop_duplicates()"
   ]
  },
  {
   "attachments": {},
   "cell_type": "markdown",
   "id": "6e392dd6",
   "metadata": {
    "deletable": false,
    "editable": false,
    "id": "9904cf55"
   },
   "source": [
    "### Категоризация данных"
   ]
  },
  {
   "attachments": {},
   "cell_type": "markdown",
   "id": "6d74369d",
   "metadata": {
    "deletable": false,
    "editable": false,
    "id": "72fcc8a2"
   },
   "source": [
    "На основании приведенных ниже диапазонов создам в датафрейме `data` столбец `total_income_category` с категориями:\n",
    "\n",
    "- 0–30000 — `'E'`;\n",
    "- 30001–50000 — `'D'`;\n",
    "- 50001–200000 — `'C'`;\n",
    "- 200001–1000000 — `'B'`;\n",
    "- 1000001 и выше — `'A'`."
   ]
  },
  {
   "cell_type": "code",
   "execution_count": 18,
   "id": "0a911574",
   "metadata": {
    "deletable": false,
    "id": "e1771346"
   },
   "outputs": [],
   "source": [
    "def categorize_income(income):\n",
    "    try:\n",
    "        if 0 <= income <= 30000:\n",
    "            return 'E'\n",
    "        elif 30001 <= income <= 50000:\n",
    "            return 'D'\n",
    "        elif 50001 <= income <= 200000:\n",
    "            return 'C'\n",
    "        elif 200001 <= income <= 1000000:\n",
    "            return 'B'\n",
    "        elif income >= 1000001:\n",
    "            return 'A'\n",
    "    except:\n",
    "        pass"
   ]
  },
  {
   "cell_type": "code",
   "execution_count": 19,
   "id": "4fbe6be6",
   "metadata": {
    "deletable": false,
    "id": "d5f3586d"
   },
   "outputs": [],
   "source": [
    "data['total_income_category'] = data['total_income'].apply(categorize_income)"
   ]
  },
  {
   "cell_type": "code",
   "execution_count": 20,
   "id": "2a08b302",
   "metadata": {
    "deletable": false,
    "id": "f67ce9b3",
    "outputId": "673c12d9-7d7e-4ae0-9812-c622c89dd244"
   },
   "outputs": [
    {
     "data": {
      "text/plain": [
       "array(['покупка жилья', 'приобретение автомобиля',\n",
       "       'дополнительное образование', 'сыграть свадьбу',\n",
       "       'операции с жильем', 'образование', 'на проведение свадьбы',\n",
       "       'покупка жилья для семьи', 'покупка недвижимости',\n",
       "       'покупка коммерческой недвижимости', 'покупка жилой недвижимости',\n",
       "       'строительство собственной недвижимости', 'недвижимость',\n",
       "       'строительство недвижимости', 'на покупку подержанного автомобиля',\n",
       "       'на покупку своего автомобиля',\n",
       "       'операции с коммерческой недвижимостью',\n",
       "       'строительство жилой недвижимости', 'жилье',\n",
       "       'операции со своей недвижимостью', 'автомобили',\n",
       "       'заняться образованием', 'сделка с подержанным автомобилем',\n",
       "       'получение образования', 'автомобиль', 'свадьба',\n",
       "       'получение дополнительного образования', 'покупка своего жилья',\n",
       "       'операции с недвижимостью', 'получение высшего образования',\n",
       "       'свой автомобиль', 'сделка с автомобилем',\n",
       "       'профильное образование', 'высшее образование',\n",
       "       'покупка жилья для сдачи', 'на покупку автомобиля', 'ремонт жилью',\n",
       "       'заняться высшим образованием'], dtype=object)"
      ]
     },
     "execution_count": 20,
     "metadata": {},
     "output_type": "execute_result"
    }
   ],
   "source": [
    "# Выведу на экран перечень уникальных целей взятия кредита из столбца `purpose`:\n",
    "data['purpose'].unique()"
   ]
  },
  {
   "attachments": {},
   "cell_type": "markdown",
   "id": "5658822a",
   "metadata": {
    "deletable": false,
    "editable": false,
    "id": "85d0aef0"
   },
   "source": [
    "Создам функцию, которая на основании данных из столбца `purpose` сформирует новый столбец `purpose_category`, в который войдут следующие категории:\n",
    "\n",
    "- `'операции с автомобилем'`,\n",
    "- `'операции с недвижимостью'`,\n",
    "- `'проведение свадьбы'`,\n",
    "- `'получение образования'`."
   ]
  },
  {
   "cell_type": "code",
   "execution_count": 21,
   "id": "111fc32a",
   "metadata": {
    "deletable": false,
    "id": "e149fab4"
   },
   "outputs": [],
   "source": [
    "def categorize_purpose(row):\n",
    "    try:\n",
    "        if 'автом' in row:\n",
    "            return 'операции с автомобилем'\n",
    "        elif 'жил' in row or 'недвиж' in row:\n",
    "            return 'операции с недвижимостью'\n",
    "        elif 'свад' in row:\n",
    "            return 'проведение свадьбы'\n",
    "        elif 'образов' in row:\n",
    "            return 'получение образования'\n",
    "    except:\n",
    "        return 'нет категории'"
   ]
  },
  {
   "cell_type": "code",
   "execution_count": 22,
   "id": "b3d6fe3e",
   "metadata": {
    "deletable": false,
    "id": "bf36e69b"
   },
   "outputs": [],
   "source": [
    "data['purpose_category'] = data['purpose'].apply(categorize_purpose)"
   ]
  },
  {
   "attachments": {},
   "cell_type": "markdown",
   "id": "51402567",
   "metadata": {
    "deletable": false,
    "editable": false,
    "id": "09b242bf"
   },
   "source": [
    "## Исследование данных:"
   ]
  },
  {
   "attachments": {},
   "cell_type": "markdown",
   "id": "75adff75",
   "metadata": {
    "deletable": false,
    "editable": false,
    "id": "c5d66278"
   },
   "source": [
    "1. Проверю, есть ли зависимость между количеством детей и возвратом кредита в срок:"
   ]
  },
  {
   "cell_type": "code",
   "execution_count": 24,
   "id": "38140f99",
   "metadata": {
    "deletable": false,
    "id": "2cacfc4a"
   },
   "outputs": [
    {
     "name": "stdout",
     "output_type": "stream",
     "text": [
      "   children  days_employed  dob_years education  education_id   \n",
      "0         1    8437.673028         42    высшее             0  \\\n",
      "1         1    4024.803754         36   среднее             1   \n",
      "2         0    5623.422610         33   Среднее             1   \n",
      "3         3    4124.747207         32   среднее             1   \n",
      "4         0  340266.072047         53   среднее             1   \n",
      "5         0     926.185831         27    высшее             0   \n",
      "6         0    2879.202052         43    высшее             0   \n",
      "7         0     152.779569         50   СРЕДНЕЕ             1   \n",
      "8         2    6929.865299         35    ВЫСШЕЕ             0   \n",
      "9         0    2188.756445         41   среднее             1   \n",
      "\n",
      "      family_status  family_status_id gender income_type  debt  total_income   \n",
      "0   женат / замужем                 0      F   сотрудник     0        253875  \\\n",
      "1   женат / замужем                 0      F   сотрудник     0        112080   \n",
      "2   женат / замужем                 0      M   сотрудник     0        145885   \n",
      "3   женат / замужем                 0      M   сотрудник     0        267628   \n",
      "4  гражданский брак                 1      F   пенсионер     0        158616   \n",
      "5  гражданский брак                 1      M   компаньон     0        255763   \n",
      "6   женат / замужем                 0      F   компаньон     0        240525   \n",
      "7   женат / замужем                 0      M   сотрудник     0        135823   \n",
      "8  гражданский брак                 1      F   сотрудник     0         95856   \n",
      "9   женат / замужем                 0      M   сотрудник     0        144425   \n",
      "\n",
      "                      purpose total_income_category          purpose_category  \n",
      "0               покупка жилья                     B  операции с недвижимостью  \n",
      "1     приобретение автомобиля                     C    операции с автомобилем  \n",
      "2               покупка жилья                     C  операции с недвижимостью  \n",
      "3  дополнительное образование                     B     получение образования  \n",
      "4             сыграть свадьбу                     C        проведение свадьбы  \n",
      "5               покупка жилья                     B  операции с недвижимостью  \n",
      "6           операции с жильем                     B  операции с недвижимостью  \n",
      "7                 образование                     C     получение образования  \n",
      "8       на проведение свадьбы                     C        проведение свадьбы  \n",
      "9     покупка жилья для семьи                     C  операции с недвижимостью  \n"
     ]
    }
   ],
   "source": [
    "print(data.head(10))"
   ]
  },
  {
   "cell_type": "code",
   "execution_count": 25,
   "id": "8f95633f",
   "metadata": {},
   "outputs": [
    {
     "name": "stdout",
     "output_type": "stream",
     "text": [
      "children\n",
      "0    0.075353\n",
      "1    0.092327\n",
      "2    0.094542\n",
      "3    0.081818\n",
      "4    0.097561\n",
      "5    0.000000\n",
      "Name: debt, dtype: float64\n"
     ]
    }
   ],
   "source": [
    "print(data.groupby('children')['debt'].mean())"
   ]
  },
  {
   "attachments": {},
   "cell_type": "markdown",
   "id": "d7bca8c4",
   "metadata": {
    "deletable": false,
    "id": "3a6b99ec"
   },
   "source": [
    "**Вывод:** У земщиков с 5 детьми процент возврата кредита в срок - 100%. Это может быть, как случайность в данной выборке, так и показательный вывод о зависимости. Точно утверждать нельзя, нужно дальнейшее исследование данных.\n",
    "Второе место по своевременному возврату кредита занимают заемщики без детей. Хуже всего погашают кредит заемщики с 1,2,4 детьми."
   ]
  },
  {
   "attachments": {},
   "cell_type": "markdown",
   "id": "eb8b5159",
   "metadata": {
    "deletable": false,
    "editable": false,
    "id": "97be82ca"
   },
   "source": [
    "2. Проверю, есть ли зависимость между семейным положением и возвратом кредита в срок:"
   ]
  },
  {
   "cell_type": "code",
   "execution_count": 27,
   "id": "d92b6291",
   "metadata": {
    "deletable": false,
    "id": "dc3f7ee8"
   },
   "outputs": [
    {
     "name": "stdout",
     "output_type": "stream",
     "text": [
      "family_status\n",
      "Не женат / не замужем    0.097639\n",
      "в разводе                0.070648\n",
      "вдовец / вдова           0.066246\n",
      "гражданский брак         0.092861\n",
      "женат / замужем          0.075575\n",
      "Name: debt, dtype: float64\n"
     ]
    }
   ],
   "source": [
    "print(data.groupby('family_status')['debt'].mean())"
   ]
  },
  {
   "attachments": {},
   "cell_type": "markdown",
   "id": "32eb7cc6",
   "metadata": {
    "deletable": false,
    "id": "1cef7837"
   },
   "source": [
    "**Вывод:** Зависимость между семейным положением и возвратом кредита в срок есть: вдовцы и вдовы погашают кредит в срок чаще, чем остальные. Женатые люди и люди в разводе занимают второе место по погашаемости кредитов в срок. Хуже всего погашают кредит люди, находящиеся в гражданском браке."
   ]
  },
  {
   "attachments": {},
   "cell_type": "markdown",
   "id": "85e8443b",
   "metadata": {
    "deletable": false,
    "editable": false,
    "id": "1e8b2fca"
   },
   "source": [
    "3. Проверю, есть ли зависимость между уровнем дохода и возвратом кредита в срок:"
   ]
  },
  {
   "cell_type": "code",
   "execution_count": 28,
   "id": "6dccf85a",
   "metadata": {
    "deletable": false,
    "id": "cd7e3720"
   },
   "outputs": [
    {
     "name": "stdout",
     "output_type": "stream",
     "text": [
      "total_income_category\n",
      "A    0.080000\n",
      "B    0.070602\n",
      "C    0.084891\n",
      "D    0.060172\n",
      "E    0.090909\n",
      "Name: debt, dtype: float64\n"
     ]
    }
   ],
   "source": [
    "# Ваш код будет здесь. Вы можете создавать новые ячейки.\n",
    "print(data.groupby('total_income_category')['debt'].mean())"
   ]
  },
  {
   "attachments": {},
   "cell_type": "markdown",
   "id": "9e2ceac7",
   "metadata": {
    "deletable": false,
    "id": "e8593def"
   },
   "source": [
    "**Вывод:** Хуже всех выплачивют кредит в срок заемщики с доходом < 30000. А лучше всех заемщики с доходом в диапазоне 30000-50000. "
   ]
  },
  {
   "attachments": {},
   "cell_type": "markdown",
   "id": "6768244a",
   "metadata": {
    "deletable": false,
    "editable": false,
    "id": "99ecbd1f"
   },
   "source": [
    "Изучу, как разные цели кредита влияют на его возврат в срок:"
   ]
  },
  {
   "cell_type": "code",
   "execution_count": 30,
   "id": "5b11f342",
   "metadata": {
    "deletable": false,
    "id": "2b687290"
   },
   "outputs": [
    {
     "name": "stdout",
     "output_type": "stream",
     "text": [
      "purpose_category\n",
      "операции с автомобилем      0.093436\n",
      "операции с недвижимостью    0.072531\n",
      "получение образования       0.092504\n",
      "проведение свадьбы          0.078744\n",
      "Name: debt, dtype: float64\n"
     ]
    }
   ],
   "source": [
    "print(data.groupby('purpose_category')['debt'].mean())"
   ]
  },
  {
   "attachments": {},
   "cell_type": "markdown",
   "id": "43077019",
   "metadata": {
    "deletable": false,
    "id": "b4bb2ce6"
   },
   "source": [
    "**Вывод:**  Хуже всего возвращают долг заемщики с целями : \"операции с автомобилем\", \"получение образования\". И значительно лучше - заемщики с целями : \"операции с недвижимостью\" и \"проведение свадьбы\"."
   ]
  },
  {
   "attachments": {},
   "cell_type": "markdown",
   "id": "8726f994",
   "metadata": {
    "deletable": false,
    "id": "bad65432"
   },
   "source": [
    "### Общий вывод: \n",
    "Самые потенциально надежные замещики: это вдовцы и вдовы с 5 детьми, с доходом в диапозоне 30000-50000, и с целями: \"операции с недвижимостью\" и \"проведение свадьбы\".\n",
    "А самые ненадежные заемщики: люди в статусе \"гражданский брак\", с 1,24 детьми, с доходом < 30000, и с целями: \"операции с автомобилем\", \"получение образования\"."
   ]
  }
 ],
 "metadata": {
  "ExecuteTimeLog": [
   {
    "duration": 9,
    "start_time": "2022-09-12T05:36:44.933Z"
   },
   {
    "duration": 47,
    "start_time": "2022-09-12T18:05:32.811Z"
   },
   {
    "duration": 695,
    "start_time": "2022-09-12T18:05:45.683Z"
   },
   {
    "duration": 24,
    "start_time": "2022-09-12T18:05:46.381Z"
   },
   {
    "duration": 15,
    "start_time": "2022-09-12T18:05:46.407Z"
   },
   {
    "duration": 10,
    "start_time": "2022-09-12T18:05:46.425Z"
   },
   {
    "duration": 36,
    "start_time": "2022-09-12T18:05:46.436Z"
   },
   {
    "duration": 3,
    "start_time": "2022-09-12T18:05:46.474Z"
   },
   {
    "duration": 16,
    "start_time": "2022-09-12T18:05:46.479Z"
   },
   {
    "duration": 24,
    "start_time": "2022-09-12T18:05:46.498Z"
   },
   {
    "duration": 12,
    "start_time": "2022-09-12T18:05:46.524Z"
   },
   {
    "duration": 5,
    "start_time": "2022-09-12T18:05:46.541Z"
   },
   {
    "duration": 36,
    "start_time": "2022-09-12T18:05:46.548Z"
   },
   {
    "duration": 35,
    "start_time": "2022-09-12T18:05:46.586Z"
   },
   {
    "duration": 4,
    "start_time": "2022-09-12T18:05:46.624Z"
   },
   {
    "duration": 15,
    "start_time": "2022-09-12T18:05:46.630Z"
   },
   {
    "duration": 23,
    "start_time": "2022-09-12T18:05:46.647Z"
   },
   {
    "duration": 19,
    "start_time": "2022-09-12T18:05:46.672Z"
   },
   {
    "duration": 28,
    "start_time": "2022-09-12T18:05:46.693Z"
   },
   {
    "duration": 17,
    "start_time": "2022-09-12T18:05:46.724Z"
   },
   {
    "duration": 6,
    "start_time": "2022-09-12T18:05:46.743Z"
   },
   {
    "duration": 3,
    "start_time": "2022-09-12T18:05:46.751Z"
   },
   {
    "duration": 20,
    "start_time": "2022-09-12T18:05:46.756Z"
   },
   {
    "duration": 16,
    "start_time": "2022-09-12T18:05:46.778Z"
   },
   {
    "duration": 5,
    "start_time": "2022-09-12T18:05:46.796Z"
   },
   {
    "duration": 19,
    "start_time": "2022-09-12T18:05:46.802Z"
   },
   {
    "duration": 4,
    "start_time": "2022-09-12T18:05:46.822Z"
   },
   {
    "duration": 9,
    "start_time": "2022-09-12T18:12:31.683Z"
   },
   {
    "duration": 6,
    "start_time": "2022-09-12T18:19:40.943Z"
   },
   {
    "duration": 6,
    "start_time": "2022-09-12T18:19:59.383Z"
   },
   {
    "duration": 8,
    "start_time": "2022-09-12T18:28:33.660Z"
   },
   {
    "duration": 10,
    "start_time": "2022-09-12T18:32:36.847Z"
   },
   {
    "duration": 8,
    "start_time": "2022-09-12T18:36:26.765Z"
   },
   {
    "duration": 8,
    "start_time": "2022-09-12T18:49:05.671Z"
   },
   {
    "duration": 460,
    "start_time": "2022-09-13T05:41:17.248Z"
   },
   {
    "duration": 26,
    "start_time": "2022-09-13T05:41:17.710Z"
   },
   {
    "duration": 15,
    "start_time": "2022-09-13T05:41:17.737Z"
   },
   {
    "duration": 9,
    "start_time": "2022-09-13T05:41:17.754Z"
   },
   {
    "duration": 61,
    "start_time": "2022-09-13T05:41:17.765Z"
   },
   {
    "duration": 3,
    "start_time": "2022-09-13T05:41:17.828Z"
   },
   {
    "duration": 11,
    "start_time": "2022-09-13T05:41:17.833Z"
   },
   {
    "duration": 5,
    "start_time": "2022-09-13T05:41:17.846Z"
   },
   {
    "duration": 14,
    "start_time": "2022-09-13T05:41:17.853Z"
   },
   {
    "duration": 27,
    "start_time": "2022-09-13T05:41:17.869Z"
   },
   {
    "duration": 35,
    "start_time": "2022-09-13T05:41:17.898Z"
   },
   {
    "duration": 10,
    "start_time": "2022-09-13T05:41:17.935Z"
   },
   {
    "duration": 8,
    "start_time": "2022-09-13T05:41:17.947Z"
   },
   {
    "duration": 37,
    "start_time": "2022-09-13T05:41:17.958Z"
   },
   {
    "duration": 23,
    "start_time": "2022-09-13T05:41:17.997Z"
   },
   {
    "duration": 23,
    "start_time": "2022-09-13T05:41:18.022Z"
   },
   {
    "duration": 4,
    "start_time": "2022-09-13T05:41:18.046Z"
   },
   {
    "duration": 17,
    "start_time": "2022-09-13T05:41:18.053Z"
   },
   {
    "duration": 8,
    "start_time": "2022-09-13T05:41:18.096Z"
   },
   {
    "duration": 14,
    "start_time": "2022-09-13T05:41:18.105Z"
   },
   {
    "duration": 20,
    "start_time": "2022-09-13T05:41:18.121Z"
   },
   {
    "duration": 10,
    "start_time": "2022-09-13T05:41:18.143Z"
   },
   {
    "duration": 11,
    "start_time": "2022-09-13T05:41:18.156Z"
   },
   {
    "duration": 9,
    "start_time": "2022-09-13T05:41:18.169Z"
   },
   {
    "duration": 9,
    "start_time": "2022-09-13T05:41:18.196Z"
   },
   {
    "duration": 7,
    "start_time": "2022-09-13T05:41:18.207Z"
   },
   {
    "duration": 57,
    "start_time": "2022-09-13T05:54:35.402Z"
   },
   {
    "duration": 516,
    "start_time": "2022-09-13T20:50:35.701Z"
   },
   {
    "duration": 31,
    "start_time": "2022-09-13T20:50:36.219Z"
   },
   {
    "duration": 16,
    "start_time": "2022-09-13T20:50:36.252Z"
   },
   {
    "duration": 10,
    "start_time": "2022-09-13T20:50:36.271Z"
   },
   {
    "duration": 63,
    "start_time": "2022-09-13T20:50:36.283Z"
   },
   {
    "duration": 4,
    "start_time": "2022-09-13T20:50:36.347Z"
   },
   {
    "duration": 11,
    "start_time": "2022-09-13T20:50:36.353Z"
   },
   {
    "duration": 5,
    "start_time": "2022-09-13T20:50:36.366Z"
   },
   {
    "duration": 10,
    "start_time": "2022-09-13T20:50:36.372Z"
   },
   {
    "duration": 6,
    "start_time": "2022-09-13T20:50:36.384Z"
   },
   {
    "duration": 66,
    "start_time": "2022-09-13T20:50:36.391Z"
   },
   {
    "duration": 9,
    "start_time": "2022-09-13T20:50:36.459Z"
   },
   {
    "duration": 7,
    "start_time": "2022-09-13T20:50:36.471Z"
   },
   {
    "duration": 13,
    "start_time": "2022-09-13T20:50:36.479Z"
   },
   {
    "duration": 44,
    "start_time": "2022-09-13T20:50:36.494Z"
   },
   {
    "duration": 20,
    "start_time": "2022-09-13T20:50:36.540Z"
   },
   {
    "duration": 4,
    "start_time": "2022-09-13T20:50:36.561Z"
   },
   {
    "duration": 14,
    "start_time": "2022-09-13T20:50:36.566Z"
   },
   {
    "duration": 9,
    "start_time": "2022-09-13T20:50:36.582Z"
   },
   {
    "duration": 33,
    "start_time": "2022-09-13T20:50:36.592Z"
   },
   {
    "duration": 22,
    "start_time": "2022-09-13T20:50:36.634Z"
   },
   {
    "duration": 14,
    "start_time": "2022-09-13T20:50:36.658Z"
   },
   {
    "duration": 8,
    "start_time": "2022-09-13T20:50:36.674Z"
   },
   {
    "duration": 9,
    "start_time": "2022-09-13T20:50:36.683Z"
   },
   {
    "duration": 8,
    "start_time": "2022-09-13T20:50:36.694Z"
   },
   {
    "duration": 19,
    "start_time": "2022-09-13T20:50:36.703Z"
   },
   {
    "duration": 47,
    "start_time": "2022-09-23T18:29:00.945Z"
   },
   {
    "duration": 681,
    "start_time": "2022-09-23T18:29:09.065Z"
   },
   {
    "duration": 29,
    "start_time": "2022-09-23T18:29:09.748Z"
   },
   {
    "duration": 17,
    "start_time": "2022-09-23T18:29:09.779Z"
   },
   {
    "duration": 9,
    "start_time": "2022-09-23T18:29:09.798Z"
   },
   {
    "duration": 43,
    "start_time": "2022-09-23T18:29:09.808Z"
   },
   {
    "duration": 3,
    "start_time": "2022-09-23T18:29:09.853Z"
   },
   {
    "duration": 11,
    "start_time": "2022-09-23T18:29:09.857Z"
   },
   {
    "duration": 4,
    "start_time": "2022-09-23T18:29:09.869Z"
   },
   {
    "duration": 11,
    "start_time": "2022-09-23T18:29:09.874Z"
   },
   {
    "duration": 4,
    "start_time": "2022-09-23T18:29:09.887Z"
   },
   {
    "duration": 53,
    "start_time": "2022-09-23T18:29:09.892Z"
   },
   {
    "duration": 10,
    "start_time": "2022-09-23T18:29:09.946Z"
   },
   {
    "duration": 9,
    "start_time": "2022-09-23T18:29:09.957Z"
   },
   {
    "duration": 13,
    "start_time": "2022-09-23T18:29:09.968Z"
   },
   {
    "duration": 18,
    "start_time": "2022-09-23T18:29:09.983Z"
   },
   {
    "duration": 34,
    "start_time": "2022-09-23T18:29:10.003Z"
   },
   {
    "duration": 4,
    "start_time": "2022-09-23T18:29:10.038Z"
   },
   {
    "duration": 12,
    "start_time": "2022-09-23T18:29:10.043Z"
   },
   {
    "duration": 5,
    "start_time": "2022-09-23T18:29:10.057Z"
   },
   {
    "duration": 4,
    "start_time": "2022-09-23T18:29:10.063Z"
   },
   {
    "duration": 12,
    "start_time": "2022-09-23T18:29:10.068Z"
   },
   {
    "duration": 8,
    "start_time": "2022-09-23T18:29:10.082Z"
   },
   {
    "duration": 7,
    "start_time": "2022-09-23T18:29:10.092Z"
   },
   {
    "duration": 14,
    "start_time": "2022-09-23T18:29:10.101Z"
   },
   {
    "duration": 10,
    "start_time": "2022-09-23T18:29:10.134Z"
   },
   {
    "duration": 7,
    "start_time": "2022-09-23T18:29:10.146Z"
   },
   {
    "duration": 9,
    "start_time": "2022-09-23T18:29:49.765Z"
   }
  ],
  "colab": {
   "name": "dpp_template_part2.ipynb",
   "provenance": []
  },
  "kernelspec": {
   "display_name": "Python 3 (ipykernel)",
   "language": "python",
   "name": "python3"
  },
  "language_info": {
   "codemirror_mode": {
    "name": "ipython",
    "version": 3
   },
   "file_extension": ".py",
   "mimetype": "text/x-python",
   "name": "python",
   "nbconvert_exporter": "python",
   "pygments_lexer": "ipython3",
   "version": "3.10.7"
  },
  "toc": {
   "base_numbering": 1,
   "nav_menu": {},
   "number_sections": true,
   "sideBar": true,
   "skip_h1_title": true,
   "title_cell": "Table of Contents",
   "title_sidebar": "Contents",
   "toc_cell": false,
   "toc_position": {},
   "toc_section_display": true,
   "toc_window_display": false
  }
 },
 "nbformat": 4,
 "nbformat_minor": 5
}
