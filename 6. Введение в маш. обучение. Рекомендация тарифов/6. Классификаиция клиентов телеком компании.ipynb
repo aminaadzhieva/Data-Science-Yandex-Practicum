{
 "cells": [
  {
   "cell_type": "markdown",
   "metadata": {},
   "source": [
    "# Рекомендация тарифов"
   ]
  },
  {
   "cell_type": "markdown",
   "metadata": {},
   "source": [
    "Данные: данные о поведении клиентов, которые уже перешли на тарифы. \n",
    "\n",
    "**Цель исследования** — построить модель для задачи классификации, которая выберет подходящий тариф. Предобработка данных не понадобится. Мерка качества *accuracy* (довести долю правильных ответов минимум до 0.75).\n",
    "\n",
    "**План работы:** \n",
    "1. Импорт данных.\n",
    "\n",
    "2. Обзор данных.\n",
    "\n",
    "3. Построение модели для задачи классификации с accuracy не менее 0.75\n",
    " \n",
    "4. Проверка *accuracy* на тестовой выборке."
   ]
  },
  {
   "cell_type": "markdown",
   "metadata": {},
   "source": [
    "## Импорт и изучение данных:"
   ]
  },
  {
   "cell_type": "markdown",
   "metadata": {},
   "source": [
    "Импортировала все библиотеки, которые могут понадобиться:"
   ]
  },
  {
   "cell_type": "code",
   "execution_count": 9,
   "metadata": {},
   "outputs": [],
   "source": [
    "import pandas as pd\n",
    "import sklearn\n",
    "from sklearn.model_selection import train_test_split\n",
    "from sklearn.tree import DecisionTreeClassifier\n",
    "from sklearn.ensemble import RandomForestClassifier\n",
    "from sklearn.metrics import accuracy_score\n",
    "import matplotlib.pyplot as plt"
   ]
  },
  {
   "cell_type": "code",
   "execution_count": 10,
   "metadata": {},
   "outputs": [],
   "source": [
    "# Прочитаем файл: \n",
    "df = pd.read_csv('https://code.s3.yandex.net/datasets/users_behavior.csv')"
   ]
  },
  {
   "cell_type": "markdown",
   "metadata": {},
   "source": [
    "Изучение данных:"
   ]
  },
  {
   "cell_type": "code",
   "execution_count": 11,
   "metadata": {},
   "outputs": [
    {
     "name": "stdout",
     "output_type": "stream",
     "text": [
      "<class 'pandas.core.frame.DataFrame'>\n",
      "RangeIndex: 3214 entries, 0 to 3213\n",
      "Data columns (total 5 columns):\n",
      " #   Column    Non-Null Count  Dtype  \n",
      "---  ------    --------------  -----  \n",
      " 0   calls     3214 non-null   float64\n",
      " 1   minutes   3214 non-null   float64\n",
      " 2   messages  3214 non-null   float64\n",
      " 3   mb_used   3214 non-null   float64\n",
      " 4   is_ultra  3214 non-null   int64  \n",
      "dtypes: float64(4), int64(1)\n",
      "memory usage: 125.7 KB\n"
     ]
    }
   ],
   "source": [
    "df.info()"
   ]
  },
  {
   "cell_type": "markdown",
   "metadata": {},
   "source": [
    "Так как предобработка уже была проведена, в ней нет нужды."
   ]
  },
  {
   "cell_type": "markdown",
   "metadata": {},
   "source": [
    "## Разбиение данных на выборки:"
   ]
  },
  {
   "cell_type": "code",
   "execution_count": 12,
   "metadata": {},
   "outputs": [],
   "source": [
    "# Сначала отделим целевой признак:\n",
    "features = df.drop(columns = ['is_ultra'])\n",
    "target = df['is_ultra']"
   ]
  },
  {
   "cell_type": "code",
   "execution_count": 13,
   "metadata": {},
   "outputs": [],
   "source": [
    "# Поделим датасет на тренировочную, валидационную и тестовую выборки: \n",
    "features_train, features_valid_test, target_train, target_valid_test = train_test_split(features, target, test_size=0.4, random_state=12345)\n",
    "features_test, features_valid, target_test, target_valid = train_test_split(features_valid_test, target_valid_test, test_size=0.5, random_state=12345)"
   ]
  },
  {
   "cell_type": "markdown",
   "metadata": {},
   "source": [
    "## Исследование модели:"
   ]
  },
  {
   "cell_type": "markdown",
   "metadata": {},
   "source": [
    "Возьмем два алгоритма - простое дерево и случайное дерево.\n",
    "\n",
    "Выведем сразу accuracy с оптимальными гиперпараметрами:"
   ]
  },
  {
   "cell_type": "code",
   "execution_count": 15,
   "metadata": {},
   "outputs": [
    {
     "name": "stdout",
     "output_type": "stream",
     "text": [
      "RMSE наилучшей модели на валидационной выборке: 0.7993779160186625 Максимальная глубина: 10\n"
     ]
    }
   ],
   "source": [
    "s_model = None\n",
    "s_result = 0\n",
    "s_est = 0\n",
    "s_depth = 0\n",
    "for est in range(10, 51, 10):\n",
    "    for depth in range (1, 11):\n",
    "        model = DecisionTreeClassifier(random_state=12345, max_depth=depth)\n",
    "        model.fit(features_train, target_train) \n",
    "        predictions_valid = model.predict(features_valid) \n",
    "        accuracy = accuracy_score(target_valid, predictions_valid) \n",
    "        if accuracy > s_result:\n",
    "            s_model = model\n",
    "            s_result = accuracy\n",
    "            s_est = est\n",
    "            s_depth = depth\n",
    "\n",
    "print(\"RMSE наилучшей модели на валидационной выборке:\", s_result, \"Максимальная глубина:\", depth)"
   ]
  },
  {
   "cell_type": "code",
   "execution_count": 16,
   "metadata": {},
   "outputs": [
    {
     "name": "stdout",
     "output_type": "stream",
     "text": [
      "Доля правильных ответов наилучшей модели на валидационной выборке: 0.8133748055987559 Количество деревьев: 10 Максимальная глубина: 10\n"
     ]
    }
   ],
   "source": [
    "best_model = None\n",
    "best_result = 0\n",
    "best_est = 0\n",
    "best_depth = 0\n",
    "gparms_tree = pd.DataFrame({'max_depth' :[], 'accuracy' :[]}) #таблица для сравнения точности при изменении макс.доп.глубины\n",
    "for est in range(10, 51, 10):\n",
    "    for depth in range (1, 11):\n",
    "        model = RandomForestClassifier(random_state=12345, n_estimators=est, max_depth=depth)\n",
    "        model.fit(features_train, target_train) \n",
    "        predictions_valid = model.predict(features_valid) \n",
    "        accuracy = accuracy_score(target_valid, predictions_valid)\n",
    "        gparms_tree.loc[len(gparms_tree.index)] = [depth, accuracy]\n",
    "        if accuracy > best_result:\n",
    "            best_model = model\n",
    "            best_result = accuracy\n",
    "            best_est = est\n",
    "            best_depth = depth\n",
    "\n",
    "print(\"Доля правильных ответов наилучшей модели на валидационной выборке:\", best_result, \"Количество деревьев:\", best_est, \"Максимальная глубина:\", depth)"
   ]
  },
  {
   "cell_type": "markdown",
   "metadata": {},
   "source": [
    "Наилучшая модель - RandomForestClassifier, с количеством деревьев - 10, и с максимальной глубиной 10. Так как accuracy выше всего (0.82)."
   ]
  },
  {
   "cell_type": "markdown",
   "metadata": {},
   "source": [
    "Нарисую график, который покажет зависимость:"
   ]
  },
  {
   "cell_type": "code",
   "execution_count": 17,
   "metadata": {
    "scrolled": false
   },
   "outputs": [
    {
     "data": {
      "image/png": "[encoded data removed]",
      "text/plain": [
       "<Figure size 1500x500 with 1 Axes>"
      ]
     },
     "metadata": {},
     "output_type": "display_data"
    }
   ],
   "source": [
    "gparms_tree.plot(x='max_depth', y='accuracy', style='o-', color='limegreen', grid=True, figsize=(15,5), legend=False)\n",
    "plt.title('Изменение точности предсказания модели RandomForestClassifier с увеличением максимально допустимой глубины дерева')\n",
    "plt.xlabel('Максимально допустимая глубина дерева', fontsize=12)\n",
    "plt.ylabel('accuracy', fontsize=12)\n",
    "plt.show()"
   ]
  },
  {
   "cell_type": "markdown",
   "metadata": {},
   "source": [
    "Чем глубже дерево, тем выше доля правильных ответов."
   ]
  },
  {
   "cell_type": "markdown",
   "metadata": {},
   "source": [
    "## Проверка модели на тестовой выборке:"
   ]
  },
  {
   "cell_type": "code",
   "execution_count": 18,
   "metadata": {},
   "outputs": [
    {
     "name": "stdout",
     "output_type": "stream",
     "text": [
      "0.7853810264385692\n"
     ]
    }
   ],
   "source": [
    "predictions_test = best_model.predict(features_test) \n",
    "accuracy = accuracy_score(target_test, predictions_test) \n",
    "print(accuracy)"
   ]
  },
  {
   "cell_type": "markdown",
   "metadata": {},
   "source": [
    "В тестовой выборке accuracy чуть ниже, чем в валидационной, но также выше, чем 7.5, поэтому считаем, что тестовая выборка проверку прошла."
   ]
  },
  {
   "cell_type": "markdown",
   "metadata": {},
   "source": [
    "## Проверка модели на адекватность:"
   ]
  },
  {
   "cell_type": "code",
   "execution_count": 20,
   "metadata": {},
   "outputs": [
    {
     "data": {
      "text/plain": [
       "0.6924273858921162"
      ]
     },
     "execution_count": 20,
     "metadata": {},
     "output_type": "execute_result"
    }
   ],
   "source": [
    "from sklearn.dummy import DummyClassifier\n",
    "\n",
    "dummy_clf = DummyClassifier(strategy = 'most_frequent', random_state=0)\n",
    "\n",
    "dummy_clf.fit(features_train, target_train)\n",
    "\n",
    "dummy_clf.score(features_train, target_train)"
   ]
  },
  {
   "cell_type": "markdown",
   "metadata": {},
   "source": [
    "Качество моей модели выше, значит, она адекватна. "
   ]
  }
 ],
 "metadata": {
  "ExecuteTimeLog": [
   {
    "duration": 49,
    "start_time": "2022-11-08T09:59:36.280Z"
   },
   {
    "duration": 5,
    "start_time": "2022-11-08T09:59:42.054Z"
   },
   {
    "duration": 1109,
    "start_time": "2022-11-08T09:59:45.017Z"
   },
   {
    "duration": 68,
    "start_time": "2022-11-08T09:59:46.128Z"
   },
   {
    "duration": 22,
    "start_time": "2022-11-08T09:59:55.199Z"
   },
   {
    "duration": 61,
    "start_time": "2022-11-08T10:04:39.447Z"
   },
   {
    "duration": 72,
    "start_time": "2022-11-08T10:05:03.780Z"
   },
   {
    "duration": 6,
    "start_time": "2022-11-08T10:08:25.029Z"
   },
   {
    "duration": 11,
    "start_time": "2022-11-08T10:09:17.903Z"
   },
   {
    "duration": 13,
    "start_time": "2022-11-08T10:09:28.006Z"
   },
   {
    "duration": 11,
    "start_time": "2022-11-08T10:09:36.464Z"
   },
   {
    "duration": 11,
    "start_time": "2022-11-08T10:09:45.493Z"
   },
   {
    "duration": 6,
    "start_time": "2022-11-08T10:09:52.511Z"
   },
   {
    "duration": 4,
    "start_time": "2022-11-08T10:14:57.959Z"
   },
   {
    "duration": 10,
    "start_time": "2022-11-08T10:16:57.672Z"
   },
   {
    "duration": 5,
    "start_time": "2022-11-08T10:17:09.504Z"
   },
   {
    "duration": 10,
    "start_time": "2022-11-08T10:20:45.396Z"
   },
   {
    "duration": 13,
    "start_time": "2022-11-08T10:20:53.277Z"
   },
   {
    "duration": 3,
    "start_time": "2022-11-08T10:21:17.562Z"
   },
   {
    "duration": 12,
    "start_time": "2022-11-08T10:21:29.700Z"
   },
   {
    "duration": 10,
    "start_time": "2022-11-08T10:21:37.162Z"
   },
   {
    "duration": 12,
    "start_time": "2022-11-08T10:21:39.172Z"
   },
   {
    "duration": 3,
    "start_time": "2022-11-08T10:22:02.492Z"
   },
   {
    "duration": 11,
    "start_time": "2022-11-08T10:22:02.894Z"
   },
   {
    "duration": 14,
    "start_time": "2022-11-08T10:25:08.276Z"
   },
   {
    "duration": 6,
    "start_time": "2022-11-08T10:25:36.317Z"
   },
   {
    "duration": 32,
    "start_time": "2022-11-08T10:25:37.458Z"
   },
   {
    "duration": 27,
    "start_time": "2022-11-08T10:26:27.390Z"
   },
   {
    "duration": 3945,
    "start_time": "2022-11-08T10:26:54.730Z"
   },
   {
    "duration": 9,
    "start_time": "2022-11-08T10:27:35.319Z"
   },
   {
    "duration": 3,
    "start_time": "2022-11-08T10:28:07.900Z"
   },
   {
    "duration": 22,
    "start_time": "2022-11-08T10:28:08.205Z"
   },
   {
    "duration": 4,
    "start_time": "2022-11-08T10:28:08.860Z"
   },
   {
    "duration": 5,
    "start_time": "2022-11-08T10:28:09.161Z"
   },
   {
    "duration": 27,
    "start_time": "2022-11-08T10:28:09.924Z"
   },
   {
    "duration": 3859,
    "start_time": "2022-11-08T10:28:10.357Z"
   },
   {
    "duration": 11,
    "start_time": "2022-11-08T10:28:14.218Z"
   },
   {
    "duration": 10,
    "start_time": "2022-11-08T10:28:14.231Z"
   },
   {
    "duration": 23,
    "start_time": "2022-11-08T10:29:21.962Z"
   },
   {
    "duration": 8,
    "start_time": "2022-11-08T10:29:28.420Z"
   },
   {
    "duration": 21,
    "start_time": "2022-11-08T10:29:28.712Z"
   },
   {
    "duration": 24,
    "start_time": "2022-11-08T10:29:29.100Z"
   },
   {
    "duration": 12,
    "start_time": "2022-11-08T10:31:13.524Z"
   },
   {
    "duration": 289,
    "start_time": "2022-11-08T10:31:49.672Z"
   },
   {
    "duration": 3280,
    "start_time": "2022-11-08T10:32:26.550Z"
   },
   {
    "duration": 3854,
    "start_time": "2022-11-08T10:40:07.058Z"
   },
   {
    "duration": 4071,
    "start_time": "2022-11-08T10:40:16.175Z"
   },
   {
    "duration": 3,
    "start_time": "2022-11-08T10:40:44.619Z"
   },
   {
    "duration": 3797,
    "start_time": "2022-11-08T10:41:28.157Z"
   },
   {
    "duration": 3739,
    "start_time": "2022-11-08T10:41:48.174Z"
   },
   {
    "duration": 10,
    "start_time": "2022-11-08T10:41:58.928Z"
   },
   {
    "duration": 3388,
    "start_time": "2022-11-08T10:43:26.329Z"
   },
   {
    "duration": 0,
    "start_time": "2022-11-08T10:43:47.549Z"
   },
   {
    "duration": 3629,
    "start_time": "2022-11-08T10:44:09.744Z"
   },
   {
    "duration": 4,
    "start_time": "2022-11-08T10:44:14.837Z"
   },
   {
    "duration": 4,
    "start_time": "2022-11-08T10:55:35.477Z"
   },
   {
    "duration": 22,
    "start_time": "2022-11-08T10:55:35.794Z"
   },
   {
    "duration": 4,
    "start_time": "2022-11-08T10:55:36.362Z"
   },
   {
    "duration": 112,
    "start_time": "2022-11-08T10:55:36.753Z"
   },
   {
    "duration": 268,
    "start_time": "2022-11-08T10:55:37.425Z"
   },
   {
    "duration": 3,
    "start_time": "2022-11-08T10:55:37.847Z"
   },
   {
    "duration": 3366,
    "start_time": "2022-11-08T10:55:38.913Z"
   },
   {
    "duration": 4,
    "start_time": "2022-11-08T10:55:42.281Z"
   },
   {
    "duration": 3338,
    "start_time": "2022-11-08T10:58:05.510Z"
   },
   {
    "duration": 3396,
    "start_time": "2022-11-08T10:58:31.833Z"
   },
   {
    "duration": 3,
    "start_time": "2022-11-08T10:59:00.278Z"
   },
   {
    "duration": 22,
    "start_time": "2022-11-08T10:59:00.572Z"
   },
   {
    "duration": 3,
    "start_time": "2022-11-08T10:59:01.345Z"
   },
   {
    "duration": 6,
    "start_time": "2022-11-08T10:59:01.674Z"
   },
   {
    "duration": 3419,
    "start_time": "2022-11-08T10:59:06.752Z"
   },
   {
    "duration": 4,
    "start_time": "2022-11-08T10:59:10.173Z"
   },
   {
    "duration": 3337,
    "start_time": "2022-11-08T10:59:47.813Z"
   },
   {
    "duration": 3385,
    "start_time": "2022-11-08T11:00:02.545Z"
   },
   {
    "duration": 3,
    "start_time": "2022-11-08T11:00:05.932Z"
   },
   {
    "duration": 3411,
    "start_time": "2022-11-08T11:00:46.017Z"
   },
   {
    "duration": 3417,
    "start_time": "2022-11-08T11:00:58.016Z"
   },
   {
    "duration": 3448,
    "start_time": "2022-11-08T11:01:34.026Z"
   },
   {
    "duration": 271,
    "start_time": "2022-11-08T11:02:08.946Z"
   },
   {
    "duration": 3,
    "start_time": "2022-11-08T11:02:10.561Z"
   },
   {
    "duration": 3529,
    "start_time": "2022-11-08T11:02:11.057Z"
   },
   {
    "duration": 269,
    "start_time": "2022-11-08T11:02:22.194Z"
   },
   {
    "duration": 289,
    "start_time": "2022-11-08T11:02:29.789Z"
   },
   {
    "duration": 4,
    "start_time": "2022-11-08T11:02:30.143Z"
   },
   {
    "duration": 3348,
    "start_time": "2022-11-08T11:02:30.543Z"
   },
   {
    "duration": 3508,
    "start_time": "2022-11-08T11:04:53.474Z"
   },
   {
    "duration": 283,
    "start_time": "2022-11-08T11:05:12.744Z"
   },
   {
    "duration": 5,
    "start_time": "2022-11-08T11:05:18.597Z"
   },
   {
    "duration": 23,
    "start_time": "2022-11-08T11:05:18.811Z"
   },
   {
    "duration": 4,
    "start_time": "2022-11-08T11:05:19.249Z"
   },
   {
    "duration": 6,
    "start_time": "2022-11-08T11:05:19.467Z"
   },
   {
    "duration": 265,
    "start_time": "2022-11-08T11:05:20.381Z"
   },
   {
    "duration": 4,
    "start_time": "2022-11-08T11:05:21.284Z"
   },
   {
    "duration": 3477,
    "start_time": "2022-11-08T11:05:21.773Z"
   },
   {
    "duration": 18,
    "start_time": "2022-11-08T11:07:29.332Z"
   },
   {
    "duration": 14,
    "start_time": "2022-11-08T11:07:41.468Z"
   },
   {
    "duration": 3,
    "start_time": "2022-11-08T11:07:57.785Z"
   },
   {
    "duration": 21,
    "start_time": "2022-11-08T11:07:58.064Z"
   },
   {
    "duration": 4,
    "start_time": "2022-11-08T11:07:58.569Z"
   },
   {
    "duration": 6,
    "start_time": "2022-11-08T11:07:58.826Z"
   },
   {
    "duration": 280,
    "start_time": "2022-11-08T11:07:59.461Z"
   },
   {
    "duration": 3402,
    "start_time": "2022-11-08T11:07:59.947Z"
   },
   {
    "duration": 13,
    "start_time": "2022-11-08T11:08:03.351Z"
   },
   {
    "duration": 160,
    "start_time": "2022-11-08T11:08:21.397Z"
   },
   {
    "duration": 39,
    "start_time": "2022-11-08T11:08:41.231Z"
   },
   {
    "duration": 37,
    "start_time": "2022-11-08T11:08:51.417Z"
   },
   {
    "duration": 3,
    "start_time": "2022-11-08T11:08:55.153Z"
   },
   {
    "duration": 22,
    "start_time": "2022-11-08T11:08:55.375Z"
   },
   {
    "duration": 3,
    "start_time": "2022-11-08T11:08:55.780Z"
   },
   {
    "duration": 6,
    "start_time": "2022-11-08T11:08:55.978Z"
   },
   {
    "duration": 273,
    "start_time": "2022-11-08T11:08:56.348Z"
   },
   {
    "duration": 3321,
    "start_time": "2022-11-08T11:08:56.753Z"
   },
   {
    "duration": 37,
    "start_time": "2022-11-08T11:09:03.019Z"
   },
   {
    "duration": 7,
    "start_time": "2022-11-08T11:09:12.129Z"
   },
   {
    "duration": 3,
    "start_time": "2022-11-08T11:13:35.049Z"
   },
   {
    "duration": 23,
    "start_time": "2022-11-08T11:13:35.430Z"
   },
   {
    "duration": 4,
    "start_time": "2022-11-08T11:13:36.181Z"
   },
   {
    "duration": 6,
    "start_time": "2022-11-08T11:13:36.466Z"
   },
   {
    "duration": 277,
    "start_time": "2022-11-08T11:13:37.071Z"
   },
   {
    "duration": 3448,
    "start_time": "2022-11-08T11:13:38.290Z"
   },
   {
    "duration": 13,
    "start_time": "2022-11-08T11:13:45.941Z"
   },
   {
    "duration": 292,
    "start_time": "2022-11-08T11:23:19.188Z"
   },
   {
    "duration": 3345,
    "start_time": "2022-11-08T11:23:20.007Z"
   },
   {
    "duration": 14,
    "start_time": "2022-11-08T11:23:30.813Z"
   },
   {
    "duration": 5,
    "start_time": "2022-11-08T11:29:08.387Z"
   },
   {
    "duration": 3,
    "start_time": "2022-11-08T12:11:51.681Z"
   },
   {
    "duration": 23,
    "start_time": "2022-11-08T12:12:04.138Z"
   },
   {
    "duration": 13,
    "start_time": "2022-11-08T12:12:15.471Z"
   },
   {
    "duration": 3,
    "start_time": "2022-11-08T12:12:39.072Z"
   },
   {
    "duration": 22,
    "start_time": "2022-11-08T12:12:39.573Z"
   },
   {
    "duration": 281,
    "start_time": "2022-11-08T12:18:12.490Z"
   },
   {
    "duration": 3445,
    "start_time": "2022-11-08T12:18:13.295Z"
   },
   {
    "duration": 12,
    "start_time": "2022-11-08T12:24:35.238Z"
   },
   {
    "duration": 3551,
    "start_time": "2022-11-08T12:25:02.757Z"
   },
   {
    "duration": 379,
    "start_time": "2022-11-08T12:29:35.343Z"
   },
   {
    "duration": 24,
    "start_time": "2022-11-08T12:29:35.900Z"
   },
   {
    "duration": 11,
    "start_time": "2022-11-08T12:29:36.194Z"
   },
   {
    "duration": 3,
    "start_time": "2022-11-08T12:29:37.418Z"
   },
   {
    "duration": 6,
    "start_time": "2022-11-08T12:29:37.917Z"
   },
   {
    "duration": 269,
    "start_time": "2022-11-08T12:29:38.978Z"
   },
   {
    "duration": 3426,
    "start_time": "2022-11-08T12:29:40.100Z"
   },
   {
    "duration": 3466,
    "start_time": "2022-11-08T12:30:19.793Z"
   },
   {
    "duration": 3405,
    "start_time": "2022-11-08T12:30:26.861Z"
   },
   {
    "duration": 250,
    "start_time": "2022-11-08T12:32:30.767Z"
   },
   {
    "duration": 156,
    "start_time": "2022-11-08T12:35:25.941Z"
   },
   {
    "duration": 6,
    "start_time": "2022-11-08T12:37:54.666Z"
   },
   {
    "duration": 1735,
    "start_time": "2022-11-08T13:02:42.074Z"
   },
   {
    "duration": 28,
    "start_time": "2022-11-08T13:02:43.811Z"
   },
   {
    "duration": 10,
    "start_time": "2022-11-08T13:02:43.841Z"
   },
   {
    "duration": 13,
    "start_time": "2022-11-08T13:02:43.853Z"
   },
   {
    "duration": 12,
    "start_time": "2022-11-08T13:02:43.870Z"
   },
   {
    "duration": 305,
    "start_time": "2022-11-08T13:02:43.883Z"
   },
   {
    "duration": 3919,
    "start_time": "2022-11-08T13:02:44.189Z"
   },
   {
    "duration": 217,
    "start_time": "2022-11-08T13:02:48.109Z"
   },
   {
    "duration": 17,
    "start_time": "2022-11-08T13:02:48.327Z"
   },
   {
    "duration": 6,
    "start_time": "2022-11-08T13:02:48.346Z"
   },
   {
    "duration": 74,
    "start_time": "2022-11-17T15:36:54.397Z"
   },
   {
    "duration": 1562,
    "start_time": "2022-11-17T15:37:00.759Z"
   },
   {
    "duration": 130,
    "start_time": "2022-11-17T15:37:02.323Z"
   },
   {
    "duration": 15,
    "start_time": "2022-11-17T15:37:02.455Z"
   },
   {
    "duration": 3,
    "start_time": "2022-11-17T15:37:04.554Z"
   },
   {
    "duration": 8,
    "start_time": "2022-11-17T15:37:05.292Z"
   },
   {
    "duration": 87,
    "start_time": "2022-11-17T15:37:07.341Z"
   },
   {
    "duration": 345,
    "start_time": "2022-11-17T15:37:21.565Z"
   },
   {
    "duration": 4103,
    "start_time": "2022-11-17T15:37:24.459Z"
   },
   {
    "duration": 220,
    "start_time": "2022-11-17T15:37:28.563Z"
   },
   {
    "duration": 19,
    "start_time": "2022-11-17T15:37:30.635Z"
   },
   {
    "duration": 9,
    "start_time": "2022-11-17T15:38:05.424Z"
   },
   {
    "duration": 4040,
    "start_time": "2022-11-17T15:38:11.186Z"
   },
   {
    "duration": 201,
    "start_time": "2022-11-17T15:38:15.228Z"
   },
   {
    "duration": 13,
    "start_time": "2022-11-17T15:38:16.430Z"
   },
   {
    "duration": 7,
    "start_time": "2022-11-17T15:38:30.301Z"
   }
  ],
  "kernelspec": {
   "display_name": "Python 3 (ipykernel)",
   "language": "python",
   "name": "python3"
  },
  "language_info": {
   "codemirror_mode": {
    "name": "ipython",
    "version": 3
   },
   "file_extension": ".py",
   "mimetype": "text/x-python",
   "name": "python",
   "nbconvert_exporter": "python",
   "pygments_lexer": "ipython3",
   "version": "3.10.7"
  },
  "toc": {
   "base_numbering": 1,
   "nav_menu": {},
   "number_sections": true,
   "sideBar": true,
   "skip_h1_title": true,
   "title_cell": "Table of Contents",
   "title_sidebar": "Contents",
   "toc_cell": false,
   "toc_position": {},
   "toc_section_display": true,
   "toc_window_display": false
  }
 },
 "nbformat": 4,
 "nbformat_minor": 2
}
