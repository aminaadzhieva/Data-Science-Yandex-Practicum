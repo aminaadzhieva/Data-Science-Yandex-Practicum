{
 "cells": [
  {
   "attachments": {},
   "cell_type": "markdown",
   "metadata": {
    "deletable": false,
    "editable": false,
    "id": "E0vqbgi9ay0H"
   },
   "source": [
    "# Яндекс Музыка"
   ]
  },
  {
   "attachments": {},
   "cell_type": "markdown",
   "metadata": {
    "deletable": false,
    "editable": false,
    "id": "VUC88oWjTJw2"
   },
   "source": [
    "На данных Яндекс Музыки необходимо сравнить поведение пользователей двух столиц.\n",
    "\n",
    "**Цель исследования** — проверьте три гипотезы:\n",
    "1. Активность пользователей зависит от дня недели. Причём в Москве и Петербурге это проявляется по-разному.\n",
    "2. В понедельник утром в Москве преобладают одни жанры, а в Петербурге — другие. Так же и вечером пятницы преобладают разные жанры — в зависимости от города. \n",
    "3. Москва и Петербург предпочитают разные жанры музыки. В Москве чаще слушают поп-музыку, в Петербурге — русский рэп.\n",
    "\n",
    "**План работы:**\n",
    "\n",
    "1. Импорт данных.\n",
    "\n",
    "2. Обзор данных.\n",
    "\n",
    "3. Исправление критических ошибок данных.\n",
    " \n",
    "4. Проверка гипотез.\n",
    "\n"
   ]
  },
  {
   "attachments": {},
   "cell_type": "markdown",
   "metadata": {},
   "source": [
    "## Импорт и изучение данных:"
   ]
  },
  {
   "cell_type": "code",
   "execution_count": 1,
   "metadata": {
    "deletable": false,
    "id": "AXN7PHPN_Zcs"
   },
   "outputs": [],
   "source": [
    "# Импортируем библиотеку pandas:\n",
    "import pandas as pd"
   ]
  },
  {
   "cell_type": "code",
   "execution_count": 4,
   "metadata": {
    "deletable": false,
    "id": "fFVu7vqh_Zct"
   },
   "outputs": [],
   "source": [
    "# Прочитаем файл:\n",
    "df = pd.read_csv('https://code.s3.yandex.net/datasets/yandex_music_project.csv')"
   ]
  },
  {
   "cell_type": "code",
   "execution_count": 5,
   "metadata": {
    "deletable": false,
    "id": "oWTVX3gW_Zct"
   },
   "outputs": [
    {
     "data": {
      "text/html": [
       "<div>\n",
       "<style scoped>\n",
       "    .dataframe tbody tr th:only-of-type {\n",
       "        vertical-align: middle;\n",
       "    }\n",
       "\n",
       "    .dataframe tbody tr th {\n",
       "        vertical-align: top;\n",
       "    }\n",
       "\n",
       "    .dataframe thead th {\n",
       "        text-align: right;\n",
       "    }\n",
       "</style>\n",
       "<table border=\"1\" class=\"dataframe\">\n",
       "  <thead>\n",
       "    <tr style=\"text-align: right;\">\n",
       "      <th></th>\n",
       "      <th>userID</th>\n",
       "      <th>Track</th>\n",
       "      <th>artist</th>\n",
       "      <th>genre</th>\n",
       "      <th>City</th>\n",
       "      <th>time</th>\n",
       "      <th>Day</th>\n",
       "    </tr>\n",
       "  </thead>\n",
       "  <tbody>\n",
       "    <tr>\n",
       "      <th>0</th>\n",
       "      <td>FFB692EC</td>\n",
       "      <td>Kamigata To Boots</td>\n",
       "      <td>The Mass Missile</td>\n",
       "      <td>rock</td>\n",
       "      <td>Saint-Petersburg</td>\n",
       "      <td>20:28:33</td>\n",
       "      <td>Wednesday</td>\n",
       "    </tr>\n",
       "    <tr>\n",
       "      <th>1</th>\n",
       "      <td>55204538</td>\n",
       "      <td>Delayed Because of Accident</td>\n",
       "      <td>Andreas Rönnberg</td>\n",
       "      <td>rock</td>\n",
       "      <td>Moscow</td>\n",
       "      <td>14:07:09</td>\n",
       "      <td>Friday</td>\n",
       "    </tr>\n",
       "    <tr>\n",
       "      <th>2</th>\n",
       "      <td>20EC38</td>\n",
       "      <td>Funiculì funiculà</td>\n",
       "      <td>Mario Lanza</td>\n",
       "      <td>pop</td>\n",
       "      <td>Saint-Petersburg</td>\n",
       "      <td>20:58:07</td>\n",
       "      <td>Wednesday</td>\n",
       "    </tr>\n",
       "    <tr>\n",
       "      <th>3</th>\n",
       "      <td>A3DD03C9</td>\n",
       "      <td>Dragons in the Sunset</td>\n",
       "      <td>Fire + Ice</td>\n",
       "      <td>folk</td>\n",
       "      <td>Saint-Petersburg</td>\n",
       "      <td>08:37:09</td>\n",
       "      <td>Monday</td>\n",
       "    </tr>\n",
       "    <tr>\n",
       "      <th>4</th>\n",
       "      <td>E2DC1FAE</td>\n",
       "      <td>Soul People</td>\n",
       "      <td>Space Echo</td>\n",
       "      <td>dance</td>\n",
       "      <td>Moscow</td>\n",
       "      <td>08:34:34</td>\n",
       "      <td>Monday</td>\n",
       "    </tr>\n",
       "    <tr>\n",
       "      <th>5</th>\n",
       "      <td>842029A1</td>\n",
       "      <td>Преданная</td>\n",
       "      <td>IMPERVTOR</td>\n",
       "      <td>rusrap</td>\n",
       "      <td>Saint-Petersburg</td>\n",
       "      <td>13:09:41</td>\n",
       "      <td>Friday</td>\n",
       "    </tr>\n",
       "    <tr>\n",
       "      <th>6</th>\n",
       "      <td>4CB90AA5</td>\n",
       "      <td>True</td>\n",
       "      <td>Roman Messer</td>\n",
       "      <td>dance</td>\n",
       "      <td>Moscow</td>\n",
       "      <td>13:00:07</td>\n",
       "      <td>Wednesday</td>\n",
       "    </tr>\n",
       "    <tr>\n",
       "      <th>7</th>\n",
       "      <td>F03E1C1F</td>\n",
       "      <td>Feeling This Way</td>\n",
       "      <td>Polina Griffith</td>\n",
       "      <td>dance</td>\n",
       "      <td>Moscow</td>\n",
       "      <td>20:47:49</td>\n",
       "      <td>Wednesday</td>\n",
       "    </tr>\n",
       "    <tr>\n",
       "      <th>8</th>\n",
       "      <td>8FA1D3BE</td>\n",
       "      <td>И вновь продолжается бой</td>\n",
       "      <td>NaN</td>\n",
       "      <td>ruspop</td>\n",
       "      <td>Moscow</td>\n",
       "      <td>09:17:40</td>\n",
       "      <td>Friday</td>\n",
       "    </tr>\n",
       "    <tr>\n",
       "      <th>9</th>\n",
       "      <td>E772D5C0</td>\n",
       "      <td>Pessimist</td>\n",
       "      <td>NaN</td>\n",
       "      <td>dance</td>\n",
       "      <td>Saint-Petersburg</td>\n",
       "      <td>21:20:49</td>\n",
       "      <td>Wednesday</td>\n",
       "    </tr>\n",
       "  </tbody>\n",
       "</table>\n",
       "</div>"
      ],
      "text/plain": [
       "     userID                        Track            artist   genre   \n",
       "0  FFB692EC            Kamigata To Boots  The Mass Missile    rock  \\\n",
       "1  55204538  Delayed Because of Accident  Andreas Rönnberg    rock   \n",
       "2    20EC38            Funiculì funiculà       Mario Lanza     pop   \n",
       "3  A3DD03C9        Dragons in the Sunset        Fire + Ice    folk   \n",
       "4  E2DC1FAE                  Soul People        Space Echo   dance   \n",
       "5  842029A1                    Преданная         IMPERVTOR  rusrap   \n",
       "6  4CB90AA5                         True      Roman Messer   dance   \n",
       "7  F03E1C1F             Feeling This Way   Polina Griffith   dance   \n",
       "8  8FA1D3BE     И вновь продолжается бой               NaN  ruspop   \n",
       "9  E772D5C0                    Pessimist               NaN   dance   \n",
       "\n",
       "             City        time        Day  \n",
       "0  Saint-Petersburg  20:28:33  Wednesday  \n",
       "1            Moscow  14:07:09     Friday  \n",
       "2  Saint-Petersburg  20:58:07  Wednesday  \n",
       "3  Saint-Petersburg  08:37:09     Monday  \n",
       "4            Moscow  08:34:34     Monday  \n",
       "5  Saint-Petersburg  13:09:41     Friday  \n",
       "6            Moscow  13:00:07  Wednesday  \n",
       "7            Moscow  20:47:49  Wednesday  \n",
       "8            Moscow  09:17:40     Friday  \n",
       "9  Saint-Petersburg  21:20:49  Wednesday  "
      ]
     },
     "execution_count": 5,
     "metadata": {},
     "output_type": "execute_result"
    }
   ],
   "source": [
    "# Выведем на экран первые десять строк таблицы: \n",
    "df.head(10)"
   ]
  },
  {
   "cell_type": "code",
   "execution_count": 6,
   "metadata": {
    "deletable": false,
    "id": "DSf2kIb-_Zct"
   },
   "outputs": [
    {
     "name": "stdout",
     "output_type": "stream",
     "text": [
      "<class 'pandas.core.frame.DataFrame'>\n",
      "RangeIndex: 65079 entries, 0 to 65078\n",
      "Data columns (total 7 columns):\n",
      " #   Column    Non-Null Count  Dtype \n",
      "---  ------    --------------  ----- \n",
      " 0     userID  65079 non-null  object\n",
      " 1   Track     63848 non-null  object\n",
      " 2   artist    57876 non-null  object\n",
      " 3   genre     63881 non-null  object\n",
      " 4     City    65079 non-null  object\n",
      " 5   time      65079 non-null  object\n",
      " 6   Day       65079 non-null  object\n",
      "dtypes: object(7)\n",
      "memory usage: 3.5+ MB\n"
     ]
    }
   ],
   "source": [
    "# Изучим общую информацию о таблице:\n",
    "df.info()"
   ]
  },
  {
   "attachments": {},
   "cell_type": "markdown",
   "metadata": {
    "deletable": false,
    "editable": false,
    "id": "TaQ2Iwbr_Zct"
   },
   "source": [
    "Вывод: \n",
    "\n",
    "в таблице семь столбцов. Тип данных во всех столбцах — `object`.\n",
    "\n",
    "Согласно документации к данным:\n",
    "* `userID` — идентификатор пользователя;\n",
    "* `Track` — название трека;  \n",
    "* `artist` — имя исполнителя;\n",
    "* `genre` — название жанра;\n",
    "* `City` — город пользователя;\n",
    "* `time` — время начала прослушивания;\n",
    "* `Day` — день недели.\n",
    "\n",
    "Количество значений в столбцах различается. Значит, в данных есть пропущенные значения.\n",
    "\n",
    "В каждой строке таблицы — данные о прослушанном треке. Часть колонок описывает саму композицию: название, исполнителя и жанр. Остальные данные рассказывают о пользователе: из какого он города, когда он слушал музыку. \n",
    "\n",
    "Предварительно можно утверждать, что данных достаточно для проверки гипотез. Но встречаются пропуски в данных, а в названиях колонок — расхождения с хорошим стилем.\n",
    "\n",
    "Чтобы двигаться дальше, нужно устранить проблемы в данных."
   ]
  },
  {
   "attachments": {},
   "cell_type": "markdown",
   "metadata": {
    "deletable": false,
    "editable": false,
    "id": "SjYF6Ub9_Zct"
   },
   "source": [
    "## Предобработка данных\n",
    "Исправим стиль в заголовках столбцов, исключим пропуски. Затем проверим данные на дубликаты."
   ]
  },
  {
   "attachments": {},
   "cell_type": "markdown",
   "metadata": {
    "deletable": false,
    "editable": false,
    "id": "dIaKXr29_Zct",
    "tags": [
     "start_task"
    ]
   },
   "source": [
    "### Стиль заголовков"
   ]
  },
  {
   "cell_type": "code",
   "execution_count": 11,
   "metadata": {
    "deletable": false,
    "id": "oKOTdF_Q_Zct"
   },
   "outputs": [
    {
     "data": {
      "text/plain": [
       "Index(['  userID', 'Track', 'artist', 'genre', '  City  ', 'time', 'Day'], dtype='object')"
      ]
     },
     "execution_count": 11,
     "metadata": {},
     "output_type": "execute_result"
    }
   ],
   "source": [
    "# Выведем на экран названия столбцов:\n",
    "df.columns"
   ]
  },
  {
   "cell_type": "code",
   "execution_count": 91,
   "metadata": {
    "deletable": false,
    "id": "ISlFqs5y_Zct",
    "scrolled": true
   },
   "outputs": [
    {
     "data": {
      "text/plain": [
       "Index(['user_id', 'track', 'artist', 'genre', 'city', 'time', 'day'], dtype='object')"
      ]
     },
     "execution_count": 91,
     "metadata": {},
     "output_type": "execute_result"
    }
   ],
   "source": [
    "# Приведем названия в соответствие с хорошим стилем:\n",
    "df=df.rename(\n",
    "    columns={\n",
    "    '  userID' : 'user_id',\n",
    "    'Track' : 'track',\n",
    "    '  City  ' : 'city',\n",
    "    'Day' : 'day'\n",
    "    }\n",
    ")\n",
    "\n",
    "# Проверим результат:\n",
    "df.columns"
   ]
  },
  {
   "attachments": {},
   "cell_type": "markdown",
   "metadata": {
    "deletable": false,
    "editable": false,
    "id": "5ISfbcfY_Zct",
    "tags": [
     "start_task"
    ]
   },
   "source": [
    "### Пропуски значений"
   ]
  },
  {
   "cell_type": "code",
   "execution_count": 15,
   "metadata": {
    "deletable": false,
    "id": "RskX29qr_Zct"
   },
   "outputs": [
    {
     "data": {
      "text/plain": [
       "user_id       0\n",
       "track      1231\n",
       "artist     7203\n",
       "genre      1198\n",
       "city          0\n",
       "time          0\n",
       "day           0\n",
       "dtype: int64"
      ]
     },
     "execution_count": 15,
     "metadata": {},
     "output_type": "execute_result"
    }
   ],
   "source": [
    "# Посчитаем, сколько в таблице пропущенных значений:\n",
    "df.isna().sum()"
   ]
  },
  {
   "attachments": {},
   "cell_type": "markdown",
   "metadata": {
    "deletable": false,
    "editable": false,
    "id": "qubhgnlO_Zct"
   },
   "source": [
    "В столбцах `track` и `artist` пропуски не важны для работы. Заменим их явными обозначениями.\n",
    "\n",
    "Но пропуски в `genre` могут помешать сравнению музыкальных вкусов в Москве и Санкт-Петербурге. \n",
    "\n",
    "Сделаем следующее:\n",
    "* заполним и эти пропуски явными обозначениями;\n",
    "* оценим, насколько они повредят расчётам. "
   ]
  },
  {
   "cell_type": "code",
   "execution_count": 92,
   "metadata": {
    "deletable": false,
    "id": "KplB5qWs_Zct"
   },
   "outputs": [
    {
     "data": {
      "text/plain": [
       "user_id    0\n",
       "track      0\n",
       "artist     0\n",
       "genre      0\n",
       "city       0\n",
       "time       0\n",
       "day        0\n",
       "dtype: int64"
      ]
     },
     "execution_count": 92,
     "metadata": {},
     "output_type": "execute_result"
    }
   ],
   "source": [
    "# перебор названий столбцов в цикле и замена пропущенных значений на 'unknown'\n",
    "columns_to_replace = (['track'],['artist'],['genre'])\n",
    "for column in columns_to_replace:\n",
    "    df[column]=df[column].fillna('unknown')\n",
    "\n",
    "    # Убедимся, что в таблице не осталось пропусков:\n",
    "df.isna().sum()"
   ]
  },
  {
   "attachments": {},
   "cell_type": "markdown",
   "metadata": {
    "deletable": false,
    "editable": false,
    "id": "BWKRtBJ3_Zct",
    "tags": [
     "start_task"
    ]
   },
   "source": [
    "### Дубликаты:"
   ]
  },
  {
   "cell_type": "code",
   "execution_count": 18,
   "metadata": {
    "deletable": false,
    "id": "36eES_S0_Zct"
   },
   "outputs": [
    {
     "data": {
      "text/plain": [
       "3826"
      ]
     },
     "execution_count": 18,
     "metadata": {},
     "output_type": "execute_result"
    }
   ],
   "source": [
    "# Посчитаем явные дубликаты в таблице:\n",
    "df.duplicated().sum()"
   ]
  },
  {
   "cell_type": "code",
   "execution_count": 93,
   "metadata": {
    "deletable": false,
    "id": "exFHq6tt_Zct"
   },
   "outputs": [
    {
     "data": {
      "text/plain": [
       "0"
      ]
     },
     "execution_count": 93,
     "metadata": {},
     "output_type": "execute_result"
    }
   ],
   "source": [
    "# Удалим явные дубликаты:\n",
    "df=df.drop_duplicates()\n",
    "\n",
    "# Проверим на отсутствие дубликатов:\n",
    "df.duplicated().sum()"
   ]
  },
  {
   "attachments": {},
   "cell_type": "markdown",
   "metadata": {
    "deletable": false,
    "editable": false,
    "id": "eSjWwsOh_Zct",
    "tags": [
     "start_task"
    ]
   },
   "source": [
    "Работа с неявными дубликатами:"
   ]
  },
  {
   "cell_type": "code",
   "execution_count": 21,
   "metadata": {
    "deletable": false,
    "id": "JIUcqzZN_Zct"
   },
   "outputs": [
    {
     "data": {
      "text/plain": [
       "array(['acid', 'acoustic', 'action', 'adult', 'africa', 'afrikaans',\n",
       "       'alternative', 'alternativepunk', 'ambient', 'americana',\n",
       "       'animated', 'anime', 'arabesk', 'arabic', 'arena',\n",
       "       'argentinetango', 'art', 'audiobook', 'author', 'avantgarde',\n",
       "       'axé', 'baile', 'balkan', 'beats', 'bigroom', 'black', 'bluegrass',\n",
       "       'blues', 'bollywood', 'bossa', 'brazilian', 'breakbeat', 'breaks',\n",
       "       'broadway', 'cantautori', 'cantopop', 'canzone', 'caribbean',\n",
       "       'caucasian', 'celtic', 'chamber', 'chanson', 'children', 'chill',\n",
       "       'chinese', 'choral', 'christian', 'christmas', 'classical',\n",
       "       'classicmetal', 'club', 'colombian', 'comedy', 'conjazz',\n",
       "       'contemporary', 'country', 'cuban', 'dance', 'dancehall',\n",
       "       'dancepop', 'dark', 'death', 'deep', 'deutschrock', 'deutschspr',\n",
       "       'dirty', 'disco', 'dnb', 'documentary', 'downbeat', 'downtempo',\n",
       "       'drum', 'dub', 'dubstep', 'eastern', 'easy', 'electronic',\n",
       "       'electropop', 'emo', 'entehno', 'epicmetal', 'estrada', 'ethnic',\n",
       "       'eurofolk', 'european', 'experimental', 'extrememetal', 'fado',\n",
       "       'fairytail', 'film', 'fitness', 'flamenco', 'folk', 'folklore',\n",
       "       'folkmetal', 'folkrock', 'folktronica', 'forró', 'frankreich',\n",
       "       'französisch', 'french', 'funk', 'future', 'gangsta', 'garage',\n",
       "       'german', 'ghazal', 'gitarre', 'glitch', 'gospel', 'gothic',\n",
       "       'grime', 'grunge', 'gypsy', 'handsup', \"hard'n'heavy\", 'hardcore',\n",
       "       'hardstyle', 'hardtechno', 'hip', 'hip-hop', 'hiphop',\n",
       "       'historisch', 'holiday', 'hop', 'horror', 'house', 'hymn', 'idm',\n",
       "       'independent', 'indian', 'indie', 'indipop', 'industrial',\n",
       "       'inspirational', 'instrumental', 'international', 'irish', 'jam',\n",
       "       'japanese', 'jazz', 'jewish', 'jpop', 'jungle', 'k-pop',\n",
       "       'karadeniz', 'karaoke', 'kayokyoku', 'korean', 'laiko', 'latin',\n",
       "       'latino', 'leftfield', 'local', 'lounge', 'loungeelectronic',\n",
       "       'lovers', 'malaysian', 'mandopop', 'marschmusik', 'meditative',\n",
       "       'mediterranean', 'melodic', 'metal', 'metalcore', 'mexican',\n",
       "       'middle', 'minimal', 'miscellaneous', 'modern', 'mood', 'mpb',\n",
       "       'muslim', 'native', 'neoklassik', 'neue', 'new', 'newage',\n",
       "       'newwave', 'nu', 'nujazz', 'numetal', 'oceania', 'old', 'opera',\n",
       "       'orchestral', 'other', 'piano', 'podcasts', 'pop', 'popdance',\n",
       "       'popelectronic', 'popeurodance', 'poprussian', 'post',\n",
       "       'posthardcore', 'postrock', 'power', 'progmetal', 'progressive',\n",
       "       'psychedelic', 'punjabi', 'punk', 'quebecois', 'ragga', 'ram',\n",
       "       'rancheras', 'rap', 'rave', 'reggae', 'reggaeton', 'regional',\n",
       "       'relax', 'religious', 'retro', 'rhythm', 'rnb', 'rnr', 'rock',\n",
       "       'rockabilly', 'rockalternative', 'rockindie', 'rockother',\n",
       "       'romance', 'roots', 'ruspop', 'rusrap', 'rusrock', 'russian',\n",
       "       'salsa', 'samba', 'scenic', 'schlager', 'self', 'sertanejo',\n",
       "       'shanson', 'shoegazing', 'showtunes', 'singer', 'ska', 'skarock',\n",
       "       'slow', 'smooth', 'soft', 'soul', 'soulful', 'sound', 'soundtrack',\n",
       "       'southern', 'specialty', 'speech', 'spiritual', 'sport',\n",
       "       'stonerrock', 'surf', 'swing', 'synthpop', 'synthrock',\n",
       "       'sängerportrait', 'tango', 'tanzorchester', 'taraftar', 'tatar',\n",
       "       'tech', 'techno', 'teen', 'thrash', 'top', 'traditional',\n",
       "       'tradjazz', 'trance', 'tribal', 'trip', 'triphop', 'tropical',\n",
       "       'türk', 'türkçe', 'ukrrock', 'urban', 'uzbek', 'variété', 'vi',\n",
       "       'videogame', 'vocal', 'western', 'world', 'worldbeat', 'ïîï',\n",
       "       'электроника', nan], dtype=object)"
      ]
     },
     "execution_count": 21,
     "metadata": {},
     "output_type": "execute_result"
    }
   ],
   "source": [
    "# Выведем на экран список уникальных названий жанров, отсортированный в алфавитном порядке:\n",
    "df['genre'].sort_values().unique()"
   ]
  },
  {
   "attachments": {},
   "cell_type": "markdown",
   "metadata": {
    "deletable": false,
    "editable": false,
    "id": "qej-Qmuo_Zct",
    "tags": [
     "start_task"
    ]
   },
   "source": [
    "Есть следующие неявные дубликаты:\n",
    "* *hip*,\n",
    "* *hop*,\n",
    "* *hip-hop*."
   ]
  },
  {
   "cell_type": "code",
   "execution_count": 94,
   "metadata": {
    "deletable": false,
    "id": "ErNDkmns_Zct"
   },
   "outputs": [
    {
     "data": {
      "text/plain": [
       "array(['acid', 'acoustic', 'action', 'adult', 'africa', 'afrikaans',\n",
       "       'alternative', 'alternativepunk', 'ambient', 'americana',\n",
       "       'animated', 'anime', 'arabesk', 'arabic', 'arena',\n",
       "       'argentinetango', 'art', 'audiobook', 'author', 'avantgarde',\n",
       "       'axé', 'baile', 'balkan', 'beats', 'bigroom', 'black', 'bluegrass',\n",
       "       'blues', 'bollywood', 'bossa', 'brazilian', 'breakbeat', 'breaks',\n",
       "       'broadway', 'cantautori', 'cantopop', 'canzone', 'caribbean',\n",
       "       'caucasian', 'celtic', 'chamber', 'chanson', 'children', 'chill',\n",
       "       'chinese', 'choral', 'christian', 'christmas', 'classical',\n",
       "       'classicmetal', 'club', 'colombian', 'comedy', 'conjazz',\n",
       "       'contemporary', 'country', 'cuban', 'dance', 'dancehall',\n",
       "       'dancepop', 'dark', 'death', 'deep', 'deutschrock', 'deutschspr',\n",
       "       'dirty', 'disco', 'dnb', 'documentary', 'downbeat', 'downtempo',\n",
       "       'drum', 'dub', 'dubstep', 'eastern', 'easy', 'electronic',\n",
       "       'electropop', 'emo', 'entehno', 'epicmetal', 'estrada', 'ethnic',\n",
       "       'eurofolk', 'european', 'experimental', 'extrememetal', 'fado',\n",
       "       'fairytail', 'film', 'fitness', 'flamenco', 'folk', 'folklore',\n",
       "       'folkmetal', 'folkrock', 'folktronica', 'forró', 'frankreich',\n",
       "       'französisch', 'french', 'funk', 'future', 'gangsta', 'garage',\n",
       "       'german', 'ghazal', 'gitarre', 'glitch', 'gospel', 'gothic',\n",
       "       'grime', 'grunge', 'gypsy', 'handsup', \"hard'n'heavy\", 'hardcore',\n",
       "       'hardstyle', 'hardtechno', 'hiphop', 'historisch', 'holiday',\n",
       "       'horror', 'house', 'hymn', 'idm', 'independent', 'indian', 'indie',\n",
       "       'indipop', 'industrial', 'inspirational', 'instrumental',\n",
       "       'international', 'irish', 'jam', 'japanese', 'jazz', 'jewish',\n",
       "       'jpop', 'jungle', 'k-pop', 'karadeniz', 'karaoke', 'kayokyoku',\n",
       "       'korean', 'laiko', 'latin', 'latino', 'leftfield', 'local',\n",
       "       'lounge', 'loungeelectronic', 'lovers', 'malaysian', 'mandopop',\n",
       "       'marschmusik', 'meditative', 'mediterranean', 'melodic', 'metal',\n",
       "       'metalcore', 'mexican', 'middle', 'minimal', 'miscellaneous',\n",
       "       'modern', 'mood', 'mpb', 'muslim', 'native', 'neoklassik', 'neue',\n",
       "       'new', 'newage', 'newwave', 'nu', 'nujazz', 'numetal', 'oceania',\n",
       "       'old', 'opera', 'orchestral', 'other', 'piano', 'podcasts', 'pop',\n",
       "       'popdance', 'popelectronic', 'popeurodance', 'poprussian', 'post',\n",
       "       'posthardcore', 'postrock', 'power', 'progmetal', 'progressive',\n",
       "       'psychedelic', 'punjabi', 'punk', 'quebecois', 'ragga', 'ram',\n",
       "       'rancheras', 'rap', 'rave', 'reggae', 'reggaeton', 'regional',\n",
       "       'relax', 'religious', 'retro', 'rhythm', 'rnb', 'rnr', 'rock',\n",
       "       'rockabilly', 'rockalternative', 'rockindie', 'rockother',\n",
       "       'romance', 'roots', 'ruspop', 'rusrap', 'rusrock', 'russian',\n",
       "       'salsa', 'samba', 'scenic', 'schlager', 'self', 'sertanejo',\n",
       "       'shanson', 'shoegazing', 'showtunes', 'singer', 'ska', 'skarock',\n",
       "       'slow', 'smooth', 'soft', 'soul', 'soulful', 'sound', 'soundtrack',\n",
       "       'southern', 'specialty', 'speech', 'spiritual', 'sport',\n",
       "       'stonerrock', 'surf', 'swing', 'synthpop', 'synthrock',\n",
       "       'sängerportrait', 'tango', 'tanzorchester', 'taraftar', 'tatar',\n",
       "       'tech', 'techno', 'teen', 'thrash', 'top', 'traditional',\n",
       "       'tradjazz', 'trance', 'tribal', 'trip', 'triphop', 'tropical',\n",
       "       'türk', 'türkçe', 'ukrrock', 'unknown', 'urban', 'uzbek',\n",
       "       'variété', 'vi', 'videogame', 'vocal', 'western', 'world',\n",
       "       'worldbeat', 'ïîï', 'электроника'], dtype=object)"
      ]
     },
     "execution_count": 94,
     "metadata": {},
     "output_type": "execute_result"
    }
   ],
   "source": [
    "# Заменим неявные дубликаты:\n",
    "df['genre']=df['genre'].replace('hip', 'hiphop')\n",
    "df['genre']=df['genre'].replace('hop', 'hiphop')\n",
    "df['genre']=df['genre'].replace('hip-hop', 'hiphop')\n",
    "\n",
    "# Проверим замену:\n",
    "df['genre'].sort_values().unique()"
   ]
  },
  {
   "attachments": {},
   "cell_type": "markdown",
   "metadata": {
    "deletable": false,
    "editable": false,
    "id": "jz6a9-7HQUDd"
   },
   "source": [
    "**Выводы**\n",
    "\n",
    "Предобработка обнаружила три проблемы в данных:\n",
    "\n",
    "- нарушения в стиле заголовков,\n",
    "- пропущенные значения,\n",
    "- дубликаты — явные и неявные.\n",
    "\n",
    "Я исправила заголовки, чтобы упростить работу с таблицей. \n",
    "\n",
    "Без дубликатов исследование станет более точным.\n",
    "\n",
    "Пропущенные значения заменила на `'unknown'`. Ещё предстоит увидеть, не повредят ли исследованию пропуски в колонке `genre`.\n",
    "\n",
    "Теперь можно перейти к проверке гипотез. "
   ]
  },
  {
   "attachments": {},
   "cell_type": "markdown",
   "metadata": {
    "deletable": false,
    "editable": false,
    "id": "WttZHXH0SqKk"
   },
   "source": [
    "## Проверка гипотез"
   ]
  },
  {
   "attachments": {},
   "cell_type": "markdown",
   "metadata": {
    "deletable": false,
    "editable": false,
    "id": "Im936VVi_Zcu"
   },
   "source": [
    "### Сравнение поведения пользователей двух столиц"
   ]
  },
  {
   "attachments": {},
   "cell_type": "markdown",
   "metadata": {
    "deletable": false,
    "editable": false,
    "id": "nwt_MuaL_Zcu"
   },
   "source": [
    "Первая гипотеза утверждает, что пользователи по-разному слушают музыку в Москве и Санкт-Петербурге. Проверим это предположение по данным о трёх днях недели — понедельнике, среде и пятнице. \n",
    "\n",
    "Для этого:\n",
    "\n",
    "* Разделим пользователей Москвы и Санкт-Петербурга.\n",
    "* Сравним, сколько треков послушала каждая группа пользователей в понедельник, среду и пятницу.\n"
   ]
  },
  {
   "attachments": {},
   "cell_type": "markdown",
   "metadata": {
    "deletable": false,
    "editable": false,
    "id": "8Dw_YMmT_Zcu",
    "tags": [
     "start_task"
    ]
   },
   "source": [
    "Оценим активность пользователей в каждом городе.\n"
   ]
  },
  {
   "cell_type": "code",
   "execution_count": 25,
   "metadata": {
    "deletable": false,
    "id": "0_Qs96oh_Zcu"
   },
   "outputs": [
    {
     "data": {
      "text/plain": [
       "city\n",
       "Moscow              42741\n",
       "Saint-Petersburg    18512\n",
       "Name: time, dtype: int64"
      ]
     },
     "execution_count": 25,
     "metadata": {},
     "output_type": "execute_result"
    }
   ],
   "source": [
    "# Сгруппируем данные по городу и посчитаем прослушивания в каждой группе:\n",
    "df.groupby('city')['time'].count()"
   ]
  },
  {
   "attachments": {},
   "cell_type": "markdown",
   "metadata": {
    "deletable": false,
    "editable": false,
    "id": "dzli3w8o_Zcu",
    "tags": [
     "start_task"
    ]
   },
   "source": [
    "Вывод: В Москве прослушиваний больше, чем в Петербурге. Из этого не следует, что московские пользователи чаще слушают музыку. Просто самих пользователей в Москве больше.\n"
   ]
  },
  {
   "cell_type": "code",
   "execution_count": 26,
   "metadata": {
    "deletable": false,
    "id": "uZMKjiJz_Zcu"
   },
   "outputs": [
    {
     "data": {
      "text/plain": [
       "day\n",
       "Friday       21840\n",
       "Monday       21354\n",
       "Wednesday    18059\n",
       "Name: time, dtype: int64"
      ]
     },
     "execution_count": 26,
     "metadata": {},
     "output_type": "execute_result"
    }
   ],
   "source": [
    "# Сгруппируем данные по дню недели и посчитаем прослушивания в понедельник, среду и пятницу:\n",
    "df.groupby('day')['time'].count()"
   ]
  },
  {
   "attachments": {},
   "cell_type": "markdown",
   "metadata": {
    "deletable": false,
    "editable": false,
    "id": "cC2tNrlL_Zcu"
   },
   "source": [
    "Вывод: В среднем пользователи из двух городов менее активны по средам. Но картина может измениться, если рассмотреть каждый город в отдельности."
   ]
  },
  {
   "cell_type": "code",
   "execution_count": 35,
   "metadata": {
    "deletable": false,
    "id": "Nz3GdQB1_Zcu"
   },
   "outputs": [],
   "source": [
    "# Напишем функцию, которая объединит эти два расчёта: \n",
    "def number_tracks(day,city):\n",
    "    track_list=df.loc[df['day'] == day].loc[df['city']==city]\n",
    "    track_list_count=track_list['user_id'].count()\n",
    "    return track_list_count"
   ]
  },
  {
   "attachments": {},
   "cell_type": "markdown",
   "metadata": {
    "deletable": false,
    "editable": false,
    "id": "ytf7xFrFJQ2r",
    "tags": [
     "start_task"
    ]
   },
   "source": [
    "Получим данные для каждого города в каждый из трёх дней:"
   ]
  },
  {
   "cell_type": "code",
   "execution_count": 65,
   "metadata": {
    "deletable": false,
    "id": "8_yzFtW3_Zcu"
   },
   "outputs": [
    {
     "name": "stdout",
     "output_type": "stream",
     "text": [
      "Количество прослушиваний в Москве по понедельникам = 15740\n",
      "Количество прослушиваний в Санкт-Петербурге по понедельникам = 5614\n",
      "Kоличество прослушиваний в Москве по средам = 11056\n",
      "Количество прослушиваний в Санкт-Петербурге по средам = 7003\n",
      "Количество прослушиваний в Москве по пятницам = 15945\n",
      "Количество прослушиваний в Санкт-Петербурге по пятницам = 5895\n"
     ]
    }
   ],
   "source": [
    "print('Количество прослушиваний в Москве по понедельникам =', (number_tracks('Monday','Moscow')))\n",
    "print('Количество прослушиваний в Санкт-Петербурге по понедельникам =', (number_tracks('Monday','Saint-Petersburg')))\n",
    "print('Kоличество прослушиваний в Москве по средам =', (number_tracks('Wednesday','Moscow')))\n",
    "print('Количество прослушиваний в Санкт-Петербурге по средам =', (number_tracks('Wednesday','Saint-Petersburg')))\n",
    "print('Количество прослушиваний в Москве по пятницам =', (number_tracks('Friday','Moscow')))\n",
    "print('Количество прослушиваний в Санкт-Петербурге по пятницам =', (number_tracks('Friday','Saint-Petersburg')))"
   ]
  },
  {
   "attachments": {},
   "cell_type": "markdown",
   "metadata": {
    "deletable": false,
    "editable": false,
    "id": "7QXffbO-_Zcu",
    "tags": [
     "start_task"
    ]
   },
   "source": [
    "Создадим таблицу, где\n",
    "* названия колонок — `['city', 'monday', 'wednesday', 'friday']`;\n",
    "* данные — результаты, которые мы получили с помощью `number_tracks`."
   ]
  },
  {
   "cell_type": "code",
   "execution_count": 42,
   "metadata": {
    "deletable": false,
    "id": "APAcLpOr_Zcu"
   },
   "outputs": [
    {
     "name": "stdout",
     "output_type": "stream",
     "text": [
      "              city  monday  wednesday  friday\n",
      "0           Москва   15740      11056   15945\n",
      "1  Санкт-Петербург    5614       7003    5895\n"
     ]
    }
   ],
   "source": [
    "results=pd.DataFrame(data=[\n",
    "['Москва', 15740, 11056, 15945], ['Санкт-Петербург', 5614, 7003, 5895]\n",
    "], \n",
    "columns=['city', 'monday', 'wednesday', 'friday'])\n",
    "print(results)"
   ]
  },
  {
   "attachments": {},
   "cell_type": "markdown",
   "metadata": {
    "deletable": false,
    "editable": false,
    "id": "-EgPIHYu_Zcu"
   },
   "source": [
    "**Выводы**\n",
    "\n",
    "Данные показывают разницу поведения пользователей:\n",
    "\n",
    "- В Москве пик прослушиваний приходится на понедельник и пятницу, а в среду заметен спад.\n",
    "- В Петербурге, наоборот, больше слушают музыку по средам. Активность в понедельник и пятницу здесь почти в равной мере уступает среде.\n",
    "\n",
    "Значит, данные говорят в пользу первой гипотезы."
   ]
  },
  {
   "attachments": {},
   "cell_type": "markdown",
   "metadata": {
    "deletable": false,
    "editable": false,
    "id": "atZAxtq4_Zcu"
   },
   "source": [
    "### Музыка в начале и в конце недели"
   ]
  },
  {
   "attachments": {},
   "cell_type": "markdown",
   "metadata": {
    "deletable": false,
    "editable": false,
    "id": "eXrQqXFH_Zcu"
   },
   "source": [
    "Согласно второй гипотезе, утром в понедельник в Москве преобладают одни жанры, а в Петербурге — другие. Так же и вечером пятницы преобладают разные жанры — в зависимости от города."
   ]
  },
  {
   "cell_type": "code",
   "execution_count": 43,
   "metadata": {
    "deletable": false,
    "id": "qeaFfM_P_Zcu"
   },
   "outputs": [],
   "source": [
    "# Сохраним таблицы с данными в две переменные:\n",
    "moscow_general=df[df['city']=='Moscow']\n",
    "spb_general=df[df['city']=='Saint-Petersburg']"
   ]
  },
  {
   "attachments": {},
   "cell_type": "markdown",
   "metadata": {},
   "source": [
    "Создадим функцию, которая возвращает информацию о топ-10 жанров тех треков, которые прослушивали в указанный день, в промежутке между двумя отметками времени:"
   ]
  },
  {
   "cell_type": "code",
   "execution_count": 48,
   "metadata": {
    "deletable": false,
    "id": "laJT9BYl_Zcu"
   },
   "outputs": [],
   "source": [
    "def genre_weekday(table, day, time1, time2):\n",
    "    genre_df = table[table['day'] == day]\n",
    "    genre_df = genre_df[genre_df['time'] > time1]\n",
    "    genre_df = genre_df[genre_df['time'] < time2]\n",
    "    genre_df_count = genre_df.groupby('genre')['genre'].count()\n",
    "    genre_df_sorted = genre_df_count.sort_values(ascending=False)\n",
    "    return genre_df_sorted.head(10) "
   ]
  },
  {
   "attachments": {},
   "cell_type": "markdown",
   "metadata": {
    "deletable": false,
    "editable": false,
    "id": "la2s2_PF_Zcu",
    "tags": [
     "start_task"
    ]
   },
   "source": [
    "Cравним результаты функции `genre_weekday()` для Москвы и Санкт-Петербурга в понедельник утром (с 7:00 до 11:00) и в пятницу вечером (с 17:00 до 23:00):"
   ]
  },
  {
   "cell_type": "code",
   "execution_count": 79,
   "metadata": {
    "deletable": false,
    "id": "yz7itPUQ_Zcu"
   },
   "outputs": [
    {
     "name": "stdout",
     "output_type": "stream",
     "text": [
      "Утро понедельника в Москве: genre\n",
      "pop            781\n",
      "dance          549\n",
      "electronic     480\n",
      "rock           474\n",
      "hiphop         286\n",
      "ruspop         186\n",
      "world          181\n",
      "rusrap         175\n",
      "alternative    164\n",
      "classical      157\n",
      "Name: genre, dtype: int64\n",
      "\n",
      "Утро понедельника в Петербурге: genre\n",
      "pop            218\n",
      "dance          182\n",
      "rock           162\n",
      "electronic     147\n",
      "hiphop          80\n",
      "ruspop          64\n",
      "alternative     58\n",
      "rusrap          55\n",
      "jazz            44\n",
      "classical       40\n",
      "Name: genre, dtype: int64\n",
      "\n",
      "Вечер пятницы в Москве: genre\n",
      "pop            713\n",
      "rock           517\n",
      "dance          495\n",
      "electronic     482\n",
      "hiphop         273\n",
      "world          208\n",
      "ruspop         170\n",
      "alternative    163\n",
      "classical      163\n",
      "rusrap         142\n",
      "Name: genre, dtype: int64\n",
      "\n",
      "Вечер пятницы в Петербурге: genre\n",
      "pop            256\n",
      "rock           216\n",
      "electronic     216\n",
      "dance          210\n",
      "hiphop          97\n",
      "alternative     63\n",
      "jazz            61\n",
      "classical       60\n",
      "rusrap          59\n",
      "world           54\n",
      "Name: genre, dtype: int64\n"
     ]
    }
   ],
   "source": [
    "print('Утро понедельника в Москве:', genre_weekday(moscow_general, 'Monday', '07:00', '11:00'))\n",
    "print()\n",
    "print('Утро понедельника в Петербурге:', genre_weekday(spb_general, 'Monday', '07:00', '11:00'))\n",
    "print()\n",
    "print('Вечер пятницы в Москве:', genre_weekday(moscow_general, 'Friday', '17:00', '23:00'))\n",
    "print()\n",
    "print('Вечер пятницы в Петербурге:', genre_weekday(spb_general, 'Friday', '17:00', '23:00'))"
   ]
  },
  {
   "attachments": {},
   "cell_type": "markdown",
   "metadata": {
    "deletable": false,
    "editable": false,
    "id": "wrCe4MNX_Zcu"
   },
   "source": [
    "**Выводы**\n",
    "\n",
    "Если сравнить топ-10 жанров в понедельник утром, можно сделать такие выводы:\n",
    "\n",
    "В Москве и Петербурге слушают похожую музыку. Единственное отличие — в московский рейтинг вошёл жанр “world”, а в петербургский — джаз и классика.\n",
    "\n",
    "Вечер пятницы не меняет эту картину. Некоторые жанры поднимаются немного выше, другие спускаются, но в целом топ-10 остаётся тем же самым.\n",
    "\n",
    "Таким образом, вторая гипотеза подтвердилась лишь частично:\n",
    "* Пользователи слушают похожую музыку в начале недели и в конце.\n",
    "* Разница между Москвой и Петербургом не слишком выражена. В Москве чаще слушают русскую популярную музыку, в Петербурге — джаз."
   ]
  },
  {
   "attachments": {},
   "cell_type": "markdown",
   "metadata": {
    "deletable": false,
    "editable": false,
    "id": "JolODAqr_Zcu"
   },
   "source": [
    "### Жанровые предпочтения в Москве и Петербурге\n",
    "\n",
    "Гипотеза: Петербург — столица рэпа, музыку этого жанра там слушают чаще, чем в Москве.  А Москва — город контрастов, в котором, тем не менее, преобладает поп-музыка."
   ]
  },
  {
   "attachments": {},
   "cell_type": "markdown",
   "metadata": {},
   "source": [
    "Сгруппируем таблицу `moscow_general` и `spb_general` по жанру и посчитаем прослушивания треков каждого жанра:\n",
    "\n",
    "Затем отсортируем результат в порядке убывания и сохраним его в таблице `moscow_genres` и `spb_general` соответственно:"
   ]
  },
  {
   "cell_type": "code",
   "execution_count": 86,
   "metadata": {
    "deletable": false,
    "id": "r19lIPke_Zcu"
   },
   "outputs": [],
   "source": [
    "moscow_genres=moscow_general.groupby('genre')['genre'].count().sort_values(ascending=False)\n",
    "spb_genres=spb_general.groupby('genre')['genre'].count().sort_values(ascending=False)"
   ]
  },
  {
   "cell_type": "code",
   "execution_count": 90,
   "metadata": {
    "deletable": false,
    "id": "WhCSooF8_Zcv"
   },
   "outputs": [
    {
     "name": "stdout",
     "output_type": "stream",
     "text": [
      "Популярные жанры в Москве: genre\n",
      "pop            5892\n",
      "dance          4435\n",
      "rock           3965\n",
      "electronic     3786\n",
      "hiphop         2096\n",
      "classical      1616\n",
      "world          1432\n",
      "alternative    1379\n",
      "ruspop         1372\n",
      "rusrap         1161\n",
      "Name: genre, dtype: int64\n",
      "\n",
      "Популярные жанры в Питере: genre\n",
      "pop            2431\n",
      "dance          1932\n",
      "rock           1879\n",
      "electronic     1736\n",
      "hiphop          960\n",
      "alternative     649\n",
      "classical       646\n",
      "rusrap          564\n",
      "ruspop          538\n",
      "world           515\n",
      "Name: genre, dtype: int64\n"
     ]
    }
   ],
   "source": [
    "# Выведем на экран первые десять строк `moscow_genres`: \n",
    "print('Популярные жанры в Москве:', moscow_genres.head(10))\n",
    "print()\n",
    "# Выведем на экран первые десять строк `spb_genres`: \n",
    "print('Популярные жанры в Питере:', spb_genres.head(10))"
   ]
  },
  {
   "attachments": {},
   "cell_type": "markdown",
   "metadata": {
    "deletable": false,
    "editable": false,
    "id": "RY51YJYu_Zcv"
   },
   "source": [
    "**Выводы**"
   ]
  },
  {
   "attachments": {},
   "cell_type": "markdown",
   "metadata": {
    "deletable": false,
    "editable": false,
    "id": "nVhnJEm__Zcv"
   },
   "source": [
    "Гипотеза частично подтвердилась:\n",
    "* Поп-музыка — самый популярный жанр в Москве, как и предполагала гипотеза. Более того, в топ-10 жанров встречается близкий жанр — русская популярная музыка.\n",
    "* Вопреки ожиданиям, рэп одинаково популярен в Москве и Петербурге. \n"
   ]
  },
  {
   "attachments": {},
   "cell_type": "markdown",
   "metadata": {
    "deletable": false,
    "editable": false,
    "id": "ykKQ0N65_Zcv"
   },
   "source": [
    "## Итоги исследования"
   ]
  },
  {
   "attachments": {},
   "cell_type": "markdown",
   "metadata": {
    "deletable": false,
    "editable": false,
    "id": "tjUwbHb3_Zcv"
   },
   "source": [
    "Я проверила три гипотезы и установила:\n",
    "\n",
    "1. День недели по-разному влияет на активность пользователей в Москве и Петербурге. \n",
    "\n",
    "Первая гипотеза полностью подтвердилась.\n",
    "\n",
    "2. Музыкальные предпочтения не сильно меняются в течение недели — будь то Москва или Петербург. Небольшие различия заметны в начале недели, по понедельникам:\n",
    "* в Москве слушают музыку жанра “world”,\n",
    "* в Петербурге — джаз и классику.\n",
    "\n",
    "Таким образом, вторая гипотеза подтвердилась лишь отчасти. Этот результат мог оказаться иным, если бы не пропуски в данных.\n",
    "\n",
    "3. Во вкусах пользователей Москвы и Петербурга больше общего чем различий. Вопреки ожиданиям, предпочтения жанров в Петербурге напоминают московские.\n",
    "\n",
    "Третья гипотеза не подтвердилась. Если различия в предпочтениях и существуют, на основной массе пользователей они незаметны."
   ]
  }
 ],
 "metadata": {
  "ExecuteTimeLog": [
   {
    "duration": 412,
    "start_time": "2022-08-27T14:36:56.583Z"
   },
   {
    "duration": 73,
    "start_time": "2022-08-27T14:50:43.166Z"
   },
   {
    "duration": 7,
    "start_time": "2022-08-27T14:51:00.254Z"
   },
   {
    "duration": 6,
    "start_time": "2022-08-27T14:59:09.665Z"
   },
   {
    "duration": 6,
    "start_time": "2022-08-27T14:59:47.979Z"
   },
   {
    "duration": 10,
    "start_time": "2022-08-27T15:00:02.654Z"
   },
   {
    "duration": 7,
    "start_time": "2022-08-27T15:01:03.432Z"
   },
   {
    "duration": 49,
    "start_time": "2022-08-27T15:01:11.528Z"
   },
   {
    "duration": 41,
    "start_time": "2022-08-27T15:01:19.007Z"
   },
   {
    "duration": 6,
    "start_time": "2022-08-27T15:01:25.436Z"
   },
   {
    "duration": 8,
    "start_time": "2022-08-27T15:01:39.775Z"
   },
   {
    "duration": 7,
    "start_time": "2022-08-27T15:04:22.871Z"
   },
   {
    "duration": 57,
    "start_time": "2022-08-27T15:06:10.982Z"
   },
   {
    "duration": 51,
    "start_time": "2022-08-27T15:07:05.699Z"
   },
   {
    "duration": 7,
    "start_time": "2022-08-27T15:28:18.852Z"
   },
   {
    "duration": 6,
    "start_time": "2022-08-27T15:29:21.818Z"
   },
   {
    "duration": 71,
    "start_time": "2022-08-28T06:38:53.625Z"
   },
   {
    "duration": 8,
    "start_time": "2022-08-28T06:39:30.733Z"
   },
   {
    "duration": 363,
    "start_time": "2022-08-28T06:39:35.410Z"
   },
   {
    "duration": 2,
    "start_time": "2022-08-28T06:39:36.666Z"
   },
   {
    "duration": 3,
    "start_time": "2022-08-28T06:39:37.641Z"
   },
   {
    "duration": 3,
    "start_time": "2022-08-28T06:39:38.422Z"
   },
   {
    "duration": 38,
    "start_time": "2022-08-28T06:39:41.403Z"
   },
   {
    "duration": 8,
    "start_time": "2022-08-28T06:45:04.155Z"
   },
   {
    "duration": 8,
    "start_time": "2022-08-28T06:59:18.190Z"
   },
   {
    "duration": 7,
    "start_time": "2022-08-28T07:03:28.077Z"
   },
   {
    "duration": 7,
    "start_time": "2022-08-28T08:41:54.044Z"
   },
   {
    "duration": 428,
    "start_time": "2022-08-28T08:42:33.060Z"
   },
   {
    "duration": 65,
    "start_time": "2022-08-28T08:42:33.490Z"
   },
   {
    "duration": 0,
    "start_time": "2022-08-28T08:42:33.558Z"
   },
   {
    "duration": 0,
    "start_time": "2022-08-28T08:42:33.559Z"
   },
   {
    "duration": 0,
    "start_time": "2022-08-28T08:42:33.560Z"
   },
   {
    "duration": 0,
    "start_time": "2022-08-28T08:42:33.561Z"
   },
   {
    "duration": 0,
    "start_time": "2022-08-28T08:42:33.562Z"
   },
   {
    "duration": 0,
    "start_time": "2022-08-28T08:42:33.563Z"
   },
   {
    "duration": 0,
    "start_time": "2022-08-28T08:42:33.565Z"
   },
   {
    "duration": 0,
    "start_time": "2022-08-28T08:42:33.566Z"
   },
   {
    "duration": 0,
    "start_time": "2022-08-28T08:42:33.585Z"
   },
   {
    "duration": 0,
    "start_time": "2022-08-28T08:42:33.586Z"
   },
   {
    "duration": 0,
    "start_time": "2022-08-28T08:42:33.588Z"
   },
   {
    "duration": 0,
    "start_time": "2022-08-28T08:42:33.589Z"
   },
   {
    "duration": 0,
    "start_time": "2022-08-28T08:42:33.590Z"
   },
   {
    "duration": 0,
    "start_time": "2022-08-28T08:42:33.591Z"
   },
   {
    "duration": 0,
    "start_time": "2022-08-28T08:42:33.592Z"
   },
   {
    "duration": 0,
    "start_time": "2022-08-28T08:42:33.594Z"
   },
   {
    "duration": 0,
    "start_time": "2022-08-28T08:42:33.595Z"
   },
   {
    "duration": 0,
    "start_time": "2022-08-28T08:42:33.596Z"
   },
   {
    "duration": 0,
    "start_time": "2022-08-28T08:42:33.598Z"
   },
   {
    "duration": 0,
    "start_time": "2022-08-28T08:42:33.599Z"
   },
   {
    "duration": 0,
    "start_time": "2022-08-28T08:42:33.600Z"
   },
   {
    "duration": 0,
    "start_time": "2022-08-28T08:42:33.602Z"
   },
   {
    "duration": 0,
    "start_time": "2022-08-28T08:42:33.603Z"
   },
   {
    "duration": 0,
    "start_time": "2022-08-28T08:42:33.604Z"
   },
   {
    "duration": 0,
    "start_time": "2022-08-28T08:42:33.606Z"
   },
   {
    "duration": 0,
    "start_time": "2022-08-28T08:42:33.607Z"
   },
   {
    "duration": 0,
    "start_time": "2022-08-28T08:42:33.608Z"
   },
   {
    "duration": 0,
    "start_time": "2022-08-28T08:42:33.610Z"
   },
   {
    "duration": 0,
    "start_time": "2022-08-28T08:42:33.611Z"
   },
   {
    "duration": 0,
    "start_time": "2022-08-28T08:42:33.612Z"
   },
   {
    "duration": 0,
    "start_time": "2022-08-28T08:42:33.613Z"
   },
   {
    "duration": 0,
    "start_time": "2022-08-28T08:42:33.614Z"
   },
   {
    "duration": 0,
    "start_time": "2022-08-28T08:42:33.615Z"
   },
   {
    "duration": 0,
    "start_time": "2022-08-28T08:42:33.617Z"
   },
   {
    "duration": 1,
    "start_time": "2022-08-28T08:42:33.617Z"
   },
   {
    "duration": 0,
    "start_time": "2022-08-28T08:42:33.618Z"
   },
   {
    "duration": 5,
    "start_time": "2022-08-28T08:42:42.145Z"
   },
   {
    "duration": 3,
    "start_time": "2022-08-28T08:42:44.164Z"
   },
   {
    "duration": 10,
    "start_time": "2022-08-28T08:42:47.375Z"
   },
   {
    "duration": 3,
    "start_time": "2022-08-28T08:45:58.536Z"
   },
   {
    "duration": 7,
    "start_time": "2022-08-28T08:46:03.082Z"
   },
   {
    "duration": 9,
    "start_time": "2022-08-28T09:17:16.853Z"
   },
   {
    "duration": 2,
    "start_time": "2022-08-28T09:19:27.712Z"
   },
   {
    "duration": 246,
    "start_time": "2022-08-28T09:19:29.833Z"
   },
   {
    "duration": 18,
    "start_time": "2022-08-28T09:19:32.686Z"
   },
   {
    "duration": 400,
    "start_time": "2022-08-28T09:21:26.275Z"
   },
   {
    "duration": 158,
    "start_time": "2022-08-28T09:21:26.677Z"
   },
   {
    "duration": 15,
    "start_time": "2022-08-28T09:21:26.837Z"
   },
   {
    "duration": 32,
    "start_time": "2022-08-28T09:21:26.854Z"
   },
   {
    "duration": 2,
    "start_time": "2022-08-28T09:21:26.888Z"
   },
   {
    "duration": 7,
    "start_time": "2022-08-28T09:21:26.891Z"
   },
   {
    "duration": 11,
    "start_time": "2022-08-28T09:21:26.899Z"
   },
   {
    "duration": 7,
    "start_time": "2022-08-28T09:21:26.912Z"
   },
   {
    "duration": 23,
    "start_time": "2022-08-28T09:21:26.921Z"
   },
   {
    "duration": 42,
    "start_time": "2022-08-28T09:21:26.945Z"
   },
   {
    "duration": 22,
    "start_time": "2022-08-28T09:21:26.988Z"
   },
   {
    "duration": 77,
    "start_time": "2022-08-28T09:21:27.011Z"
   },
   {
    "duration": 65,
    "start_time": "2022-08-28T09:21:27.089Z"
   },
   {
    "duration": 82,
    "start_time": "2022-08-28T09:21:27.157Z"
   },
   {
    "duration": 46,
    "start_time": "2022-08-28T09:21:27.240Z"
   },
   {
    "duration": 10,
    "start_time": "2022-08-28T09:21:27.287Z"
   },
   {
    "duration": 35,
    "start_time": "2022-08-28T09:21:27.299Z"
   },
   {
    "duration": 11,
    "start_time": "2022-08-28T09:21:27.336Z"
   },
   {
    "duration": 37,
    "start_time": "2022-08-28T09:21:27.349Z"
   },
   {
    "duration": 4,
    "start_time": "2022-08-28T09:21:27.387Z"
   },
   {
    "duration": 28,
    "start_time": "2022-08-28T09:21:27.392Z"
   },
   {
    "duration": 16,
    "start_time": "2022-08-28T09:21:27.422Z"
   },
   {
    "duration": 17,
    "start_time": "2022-08-28T09:21:27.440Z"
   },
   {
    "duration": 38,
    "start_time": "2022-08-28T09:21:27.458Z"
   },
   {
    "duration": 18,
    "start_time": "2022-08-28T09:21:27.498Z"
   },
   {
    "duration": 18,
    "start_time": "2022-08-28T09:21:27.517Z"
   },
   {
    "duration": 94,
    "start_time": "2022-08-28T09:21:27.537Z"
   },
   {
    "duration": 0,
    "start_time": "2022-08-28T09:21:27.632Z"
   },
   {
    "duration": 0,
    "start_time": "2022-08-28T09:21:27.633Z"
   },
   {
    "duration": 0,
    "start_time": "2022-08-28T09:21:27.635Z"
   },
   {
    "duration": 0,
    "start_time": "2022-08-28T09:21:27.636Z"
   },
   {
    "duration": 0,
    "start_time": "2022-08-28T09:21:27.637Z"
   },
   {
    "duration": 0,
    "start_time": "2022-08-28T09:21:27.638Z"
   },
   {
    "duration": 0,
    "start_time": "2022-08-28T09:21:27.639Z"
   },
   {
    "duration": 0,
    "start_time": "2022-08-28T09:21:27.641Z"
   },
   {
    "duration": 0,
    "start_time": "2022-08-28T09:21:27.642Z"
   },
   {
    "duration": 0,
    "start_time": "2022-08-28T09:21:27.643Z"
   },
   {
    "duration": 0,
    "start_time": "2022-08-28T09:21:27.644Z"
   },
   {
    "duration": 22,
    "start_time": "2022-08-28T09:21:34.710Z"
   },
   {
    "duration": 4,
    "start_time": "2022-08-28T09:21:42.426Z"
   },
   {
    "duration": 21,
    "start_time": "2022-08-28T09:21:44.680Z"
   },
   {
    "duration": 9,
    "start_time": "2022-08-28T09:21:53.763Z"
   },
   {
    "duration": 19,
    "start_time": "2022-08-28T09:22:13.476Z"
   },
   {
    "duration": 16,
    "start_time": "2022-08-28T09:22:47.565Z"
   },
   {
    "duration": 398,
    "start_time": "2022-08-28T09:22:54.674Z"
   },
   {
    "duration": 162,
    "start_time": "2022-08-28T09:22:55.074Z"
   },
   {
    "duration": 15,
    "start_time": "2022-08-28T09:22:55.237Z"
   },
   {
    "duration": 36,
    "start_time": "2022-08-28T09:22:55.254Z"
   },
   {
    "duration": 2,
    "start_time": "2022-08-28T09:22:55.292Z"
   },
   {
    "duration": 9,
    "start_time": "2022-08-28T09:22:55.296Z"
   },
   {
    "duration": 13,
    "start_time": "2022-08-28T09:22:55.306Z"
   },
   {
    "duration": 9,
    "start_time": "2022-08-28T09:22:55.321Z"
   },
   {
    "duration": 24,
    "start_time": "2022-08-28T09:22:55.331Z"
   },
   {
    "duration": 21,
    "start_time": "2022-08-28T09:22:55.385Z"
   },
   {
    "duration": 22,
    "start_time": "2022-08-28T09:22:55.408Z"
   },
   {
    "duration": 75,
    "start_time": "2022-08-28T09:22:55.432Z"
   },
   {
    "duration": 78,
    "start_time": "2022-08-28T09:22:55.509Z"
   },
   {
    "duration": 59,
    "start_time": "2022-08-28T09:22:55.589Z"
   },
   {
    "duration": 50,
    "start_time": "2022-08-28T09:22:55.651Z"
   },
   {
    "duration": 9,
    "start_time": "2022-08-28T09:22:55.703Z"
   },
   {
    "duration": 36,
    "start_time": "2022-08-28T09:22:55.714Z"
   },
   {
    "duration": 34,
    "start_time": "2022-08-28T09:22:55.752Z"
   },
   {
    "duration": 12,
    "start_time": "2022-08-28T09:22:55.788Z"
   },
   {
    "duration": 4,
    "start_time": "2022-08-28T09:22:55.802Z"
   },
   {
    "duration": 26,
    "start_time": "2022-08-28T09:22:55.808Z"
   },
   {
    "duration": 16,
    "start_time": "2022-08-28T09:22:55.837Z"
   },
   {
    "duration": 43,
    "start_time": "2022-08-28T09:22:55.854Z"
   },
   {
    "duration": 17,
    "start_time": "2022-08-28T09:22:55.898Z"
   },
   {
    "duration": 24,
    "start_time": "2022-08-28T09:22:55.917Z"
   },
   {
    "duration": 49,
    "start_time": "2022-08-28T09:22:55.943Z"
   },
   {
    "duration": 63,
    "start_time": "2022-08-28T09:22:55.994Z"
   },
   {
    "duration": 0,
    "start_time": "2022-08-28T09:22:56.059Z"
   },
   {
    "duration": 0,
    "start_time": "2022-08-28T09:22:56.060Z"
   },
   {
    "duration": 0,
    "start_time": "2022-08-28T09:22:56.061Z"
   },
   {
    "duration": 0,
    "start_time": "2022-08-28T09:22:56.062Z"
   },
   {
    "duration": 0,
    "start_time": "2022-08-28T09:22:56.085Z"
   },
   {
    "duration": 0,
    "start_time": "2022-08-28T09:22:56.086Z"
   },
   {
    "duration": 0,
    "start_time": "2022-08-28T09:22:56.087Z"
   },
   {
    "duration": 0,
    "start_time": "2022-08-28T09:22:56.088Z"
   },
   {
    "duration": 0,
    "start_time": "2022-08-28T09:22:56.089Z"
   },
   {
    "duration": 1,
    "start_time": "2022-08-28T09:22:56.090Z"
   },
   {
    "duration": 0,
    "start_time": "2022-08-28T09:22:56.092Z"
   },
   {
    "duration": 4,
    "start_time": "2022-08-28T09:23:56.849Z"
   },
   {
    "duration": 24,
    "start_time": "2022-08-28T09:24:00.370Z"
   },
   {
    "duration": 22,
    "start_time": "2022-08-28T09:24:07.547Z"
   },
   {
    "duration": 27,
    "start_time": "2022-08-28T09:24:14.374Z"
   },
   {
    "duration": 29,
    "start_time": "2022-08-28T09:24:15.814Z"
   },
   {
    "duration": 26,
    "start_time": "2022-08-28T09:24:22.472Z"
   },
   {
    "duration": 5,
    "start_time": "2022-08-28T09:24:24.493Z"
   },
   {
    "duration": 20,
    "start_time": "2022-08-28T09:24:46.376Z"
   },
   {
    "duration": 8,
    "start_time": "2022-08-28T09:25:01.394Z"
   },
   {
    "duration": 3,
    "start_time": "2022-08-28T09:25:30.350Z"
   },
   {
    "duration": 408,
    "start_time": "2022-08-28T09:25:35.603Z"
   },
   {
    "duration": 168,
    "start_time": "2022-08-28T09:25:36.013Z"
   },
   {
    "duration": 17,
    "start_time": "2022-08-28T09:25:36.183Z"
   },
   {
    "duration": 27,
    "start_time": "2022-08-28T09:25:36.202Z"
   },
   {
    "duration": 2,
    "start_time": "2022-08-28T09:25:36.231Z"
   },
   {
    "duration": 13,
    "start_time": "2022-08-28T09:25:36.235Z"
   },
   {
    "duration": 15,
    "start_time": "2022-08-28T09:25:36.249Z"
   },
   {
    "duration": 4,
    "start_time": "2022-08-28T09:25:36.285Z"
   },
   {
    "duration": 32,
    "start_time": "2022-08-28T09:25:36.291Z"
   },
   {
    "duration": 22,
    "start_time": "2022-08-28T09:25:36.326Z"
   },
   {
    "duration": 39,
    "start_time": "2022-08-28T09:25:36.350Z"
   },
   {
    "duration": 68,
    "start_time": "2022-08-28T09:25:36.391Z"
   },
   {
    "duration": 84,
    "start_time": "2022-08-28T09:25:36.460Z"
   },
   {
    "duration": 75,
    "start_time": "2022-08-28T09:25:36.546Z"
   },
   {
    "duration": 36,
    "start_time": "2022-08-28T09:25:36.623Z"
   },
   {
    "duration": 28,
    "start_time": "2022-08-28T09:25:36.661Z"
   },
   {
    "duration": 44,
    "start_time": "2022-08-28T09:25:36.691Z"
   },
   {
    "duration": 19,
    "start_time": "2022-08-28T09:25:36.737Z"
   },
   {
    "duration": 17,
    "start_time": "2022-08-28T09:25:36.757Z"
   },
   {
    "duration": 7,
    "start_time": "2022-08-28T09:25:36.785Z"
   },
   {
    "duration": 42,
    "start_time": "2022-08-28T09:25:36.793Z"
   },
   {
    "duration": 17,
    "start_time": "2022-08-28T09:25:36.837Z"
   },
   {
    "duration": 23,
    "start_time": "2022-08-28T09:25:36.856Z"
   },
   {
    "duration": 23,
    "start_time": "2022-08-28T09:25:36.885Z"
   },
   {
    "duration": 17,
    "start_time": "2022-08-28T09:25:36.910Z"
   },
   {
    "duration": 23,
    "start_time": "2022-08-28T09:25:36.929Z"
   },
   {
    "duration": 5,
    "start_time": "2022-08-28T09:25:36.954Z"
   },
   {
    "duration": 27,
    "start_time": "2022-08-28T09:25:36.961Z"
   },
   {
    "duration": 8,
    "start_time": "2022-08-28T09:25:36.990Z"
   },
   {
    "duration": 51,
    "start_time": "2022-08-28T09:25:36.999Z"
   },
   {
    "duration": 0,
    "start_time": "2022-08-28T09:25:37.052Z"
   },
   {
    "duration": 0,
    "start_time": "2022-08-28T09:25:37.053Z"
   },
   {
    "duration": 0,
    "start_time": "2022-08-28T09:25:37.054Z"
   },
   {
    "duration": 0,
    "start_time": "2022-08-28T09:25:37.056Z"
   },
   {
    "duration": 0,
    "start_time": "2022-08-28T09:25:37.056Z"
   },
   {
    "duration": 0,
    "start_time": "2022-08-28T09:25:37.057Z"
   },
   {
    "duration": 0,
    "start_time": "2022-08-28T09:25:37.058Z"
   },
   {
    "duration": 0,
    "start_time": "2022-08-28T09:25:37.059Z"
   },
   {
    "duration": 12,
    "start_time": "2022-08-28T09:25:43.327Z"
   },
   {
    "duration": 10,
    "start_time": "2022-08-28T09:25:45.285Z"
   },
   {
    "duration": 16,
    "start_time": "2022-08-28T09:25:51.409Z"
   },
   {
    "duration": 17,
    "start_time": "2022-08-28T09:27:14.916Z"
   },
   {
    "duration": 4,
    "start_time": "2022-08-28T09:27:38.905Z"
   },
   {
    "duration": 6,
    "start_time": "2022-08-28T09:27:53.681Z"
   },
   {
    "duration": 4,
    "start_time": "2022-08-28T09:37:53.537Z"
   },
   {
    "duration": 63,
    "start_time": "2022-08-28T09:54:37.982Z"
   },
   {
    "duration": 19,
    "start_time": "2022-08-28T09:54:48.792Z"
   },
   {
    "duration": 7,
    "start_time": "2022-08-28T10:10:00.006Z"
   }
  ],
  "colab": {
   "collapsed_sections": [
    "E0vqbgi9ay0H",
    "VUC88oWjTJw2"
   ],
   "name": "automatization_template_upd4.ipynb",
   "provenance": []
  },
  "kernelspec": {
   "display_name": "Python 3 (ipykernel)",
   "language": "python",
   "name": "python3"
  },
  "language_info": {
   "codemirror_mode": {
    "name": "ipython",
    "version": 3
   },
   "file_extension": ".py",
   "mimetype": "text/x-python",
   "name": "python",
   "nbconvert_exporter": "python",
   "pygments_lexer": "ipython3",
   "version": "3.10.7"
  },
  "toc": {
   "base_numbering": 1,
   "nav_menu": {
    "height": "215px",
    "width": "403px"
   },
   "number_sections": true,
   "sideBar": true,
   "skip_h1_title": true,
   "title_cell": "Table of Contents",
   "title_sidebar": "Contents",
   "toc_cell": false,
   "toc_position": {
    "height": "calc(100% - 180px)",
    "left": "10px",
    "top": "150px",
    "width": "285.825px"
   },
   "toc_section_display": true,
   "toc_window_display": false
  }
 },
 "nbformat": 4,
 "nbformat_minor": 1
}
