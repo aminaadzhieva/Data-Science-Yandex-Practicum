{
 "cells": [
  {
   "cell_type": "markdown",
   "metadata": {
    "toc": true
   },
   "source": [
    "<h1>Содержание<span class=\"tocSkip\"></span></h1>\n",
    "<div class=\"toc\"><ul class=\"toc-item\"><li><span><a href=\"#Подготовка-данных\" data-toc-modified-id=\"Подготовка-данных-1\"><span class=\"toc-item-num\">1&nbsp;&nbsp;</span>Подготовка данных</a></span></li><li><span><a href=\"#Исследование-задачи\" data-toc-modified-id=\"Исследование-задачи-2\"><span class=\"toc-item-num\">2&nbsp;&nbsp;</span>Исследование задачи</a></span></li><li><span><a href=\"#Борьба-с-дисбалансом\" data-toc-modified-id=\"Борьба-с-дисбалансом-3\"><span class=\"toc-item-num\">3&nbsp;&nbsp;</span>Борьба с дисбалансом</a></span></li><li><span><a href=\"#Тестирование-модели\" data-toc-modified-id=\"Тестирование-модели-4\"><span class=\"toc-item-num\">4&nbsp;&nbsp;</span>Тестирование модели</a></span></li><li><span><a href=\"#Чек-лист-готовности-проекта\" data-toc-modified-id=\"Чек-лист-готовности-проекта-5\"><span class=\"toc-item-num\">5&nbsp;&nbsp;</span>Чек-лист готовности проекта</a></span></li><li><span><a href=\"#Общий-вывод-по-проекту\" data-toc-modified-id=\"Общий-вывод-по-проекту-6\"><span class=\"toc-item-num\">6&nbsp;&nbsp;</span><b>Общий вывод по проекту</b></a></span></li><li><span><a href=\"#Общий-вывод-по-проекту-V2\" data-toc-modified-id=\"Общий-вывод-по-проекту-V2-7\"><span class=\"toc-item-num\">7&nbsp;&nbsp;</span><b>Общий вывод по проекту V2</b></a></span></li><li><span><a href=\"#Общий-вывод-по-проекту-V3\" data-toc-modified-id=\"Общий-вывод-по-проекту-V3-8\"><span class=\"toc-item-num\">8&nbsp;&nbsp;</span><b>Общий вывод по проекту V3</b></a></span></li></ul></div>"
   ]
  },
  {
   "cell_type": "markdown",
   "metadata": {},
   "source": [
    "# Отток клиентов"
   ]
  },
  {
   "cell_type": "markdown",
   "metadata": {},
   "source": [
    "**Описание:** Из «Бета-Банка» стали уходить клиенты. Каждый месяц. Немного, но заметно. Банковские маркетологи посчитали: сохранять текущих клиентов дешевле, чем привлекать новых.\n",
    "\n",
    "**Данные:** Исторические данные о поведении клиентов и расторжении договоров с банком. \n",
    "\n",
    "**Цель:** Нужно спрогнозировать, уйдёт клиент из банка в ближайшее время или нет. \n",
    "\n",
    "**План работы:**\n",
    "\n",
    "1. Импорт данных.\n",
    "\n",
    "2. Обзор данных.\n",
    "\n",
    "3. Предобработка данных.\n",
    " \n",
    "4. Построение модели с предельно большим значением *F1*-меры. Нужно довести метрику до 0.59. \n",
    "\n",
    "5. Проверка *F1*-меры на тестовой выборке.\n",
    "\n",
    "6. Дополнительно измерять *AUC-ROC*, сравнивая её значение с *F1*-мерой."
   ]
  },
  {
   "cell_type": "markdown",
   "metadata": {},
   "source": [
    "## Импорт и изучение данных:"
   ]
  },
  {
   "cell_type": "code",
   "execution_count": 1,
   "metadata": {},
   "outputs": [],
   "source": [
    "#Импортируем все необходимые библиотеки:\n",
    "import pandas as pd\n",
    "import sklearn\n",
    "from sklearn.model_selection import train_test_split, GridSearchCV\n",
    "from sklearn.preprocessing import StandardScaler\n",
    "import warnings\n",
    "warnings.filterwarnings('ignore')\n",
    "import numpy as np\n",
    "%matplotlib inline\n",
    "import matplotlib.pyplot as plt\n",
    "import seaborn as sns\n",
    "sns.set_style(\"darkgrid\")\n",
    "from sklearn.linear_model import LogisticRegression\n",
    "from sklearn.ensemble import RandomForestClassifier\n",
    "from sklearn.metrics import f1_score, roc_auc_score, roc_curve, precision_score, recall_score\n",
    "from sklearn.metrics import precision_recall_curve, accuracy_score\n",
    "from catboost import CatBoostClassifier\n",
    "from catboost import Pool, cv\n",
    "from sklearn.utils import shuffle"
   ]
  },
  {
   "cell_type": "code",
   "execution_count": 3,
   "metadata": {},
   "outputs": [],
   "source": [
    "# Прочитаем файл:\n",
    "df = pd.read_csv('https://code.s3.yandex.net/datasets/Churn.csv')"
   ]
  },
  {
   "cell_type": "code",
   "execution_count": 4,
   "metadata": {},
   "outputs": [
    {
     "name": "stdout",
     "output_type": "stream",
     "text": [
      "<class 'pandas.core.frame.DataFrame'>\n",
      "RangeIndex: 10000 entries, 0 to 9999\n",
      "Data columns (total 14 columns):\n",
      " #   Column           Non-Null Count  Dtype  \n",
      "---  ------           --------------  -----  \n",
      " 0   RowNumber        10000 non-null  int64  \n",
      " 1   CustomerId       10000 non-null  int64  \n",
      " 2   Surname          10000 non-null  object \n",
      " 3   CreditScore      10000 non-null  int64  \n",
      " 4   Geography        10000 non-null  object \n",
      " 5   Gender           10000 non-null  object \n",
      " 6   Age              10000 non-null  int64  \n",
      " 7   Tenure           9091 non-null   float64\n",
      " 8   Balance          10000 non-null  float64\n",
      " 9   NumOfProducts    10000 non-null  int64  \n",
      " 10  HasCrCard        10000 non-null  int64  \n",
      " 11  IsActiveMember   10000 non-null  int64  \n",
      " 12  EstimatedSalary  10000 non-null  float64\n",
      " 13  Exited           10000 non-null  int64  \n",
      "dtypes: float64(3), int64(8), object(3)\n",
      "memory usage: 1.1+ MB\n"
     ]
    },
    {
     "data": {
      "text/html": [
       "<div>\n",
       "<style scoped>\n",
       "    .dataframe tbody tr th:only-of-type {\n",
       "        vertical-align: middle;\n",
       "    }\n",
       "\n",
       "    .dataframe tbody tr th {\n",
       "        vertical-align: top;\n",
       "    }\n",
       "\n",
       "    .dataframe thead th {\n",
       "        text-align: right;\n",
       "    }\n",
       "</style>\n",
       "<table border=\"1\" class=\"dataframe\">\n",
       "  <thead>\n",
       "    <tr style=\"text-align: right;\">\n",
       "      <th></th>\n",
       "      <th>RowNumber</th>\n",
       "      <th>CustomerId</th>\n",
       "      <th>Surname</th>\n",
       "      <th>CreditScore</th>\n",
       "      <th>Geography</th>\n",
       "      <th>Gender</th>\n",
       "      <th>Age</th>\n",
       "      <th>Tenure</th>\n",
       "      <th>Balance</th>\n",
       "      <th>NumOfProducts</th>\n",
       "      <th>HasCrCard</th>\n",
       "      <th>IsActiveMember</th>\n",
       "      <th>EstimatedSalary</th>\n",
       "      <th>Exited</th>\n",
       "    </tr>\n",
       "  </thead>\n",
       "  <tbody>\n",
       "    <tr>\n",
       "      <th>0</th>\n",
       "      <td>1</td>\n",
       "      <td>15634602</td>\n",
       "      <td>Hargrave</td>\n",
       "      <td>619</td>\n",
       "      <td>France</td>\n",
       "      <td>Female</td>\n",
       "      <td>42</td>\n",
       "      <td>2.0</td>\n",
       "      <td>0.00</td>\n",
       "      <td>1</td>\n",
       "      <td>1</td>\n",
       "      <td>1</td>\n",
       "      <td>101348.88</td>\n",
       "      <td>1</td>\n",
       "    </tr>\n",
       "    <tr>\n",
       "      <th>1</th>\n",
       "      <td>2</td>\n",
       "      <td>15647311</td>\n",
       "      <td>Hill</td>\n",
       "      <td>608</td>\n",
       "      <td>Spain</td>\n",
       "      <td>Female</td>\n",
       "      <td>41</td>\n",
       "      <td>1.0</td>\n",
       "      <td>83807.86</td>\n",
       "      <td>1</td>\n",
       "      <td>0</td>\n",
       "      <td>1</td>\n",
       "      <td>112542.58</td>\n",
       "      <td>0</td>\n",
       "    </tr>\n",
       "    <tr>\n",
       "      <th>2</th>\n",
       "      <td>3</td>\n",
       "      <td>15619304</td>\n",
       "      <td>Onio</td>\n",
       "      <td>502</td>\n",
       "      <td>France</td>\n",
       "      <td>Female</td>\n",
       "      <td>42</td>\n",
       "      <td>8.0</td>\n",
       "      <td>159660.80</td>\n",
       "      <td>3</td>\n",
       "      <td>1</td>\n",
       "      <td>0</td>\n",
       "      <td>113931.57</td>\n",
       "      <td>1</td>\n",
       "    </tr>\n",
       "    <tr>\n",
       "      <th>3</th>\n",
       "      <td>4</td>\n",
       "      <td>15701354</td>\n",
       "      <td>Boni</td>\n",
       "      <td>699</td>\n",
       "      <td>France</td>\n",
       "      <td>Female</td>\n",
       "      <td>39</td>\n",
       "      <td>1.0</td>\n",
       "      <td>0.00</td>\n",
       "      <td>2</td>\n",
       "      <td>0</td>\n",
       "      <td>0</td>\n",
       "      <td>93826.63</td>\n",
       "      <td>0</td>\n",
       "    </tr>\n",
       "    <tr>\n",
       "      <th>4</th>\n",
       "      <td>5</td>\n",
       "      <td>15737888</td>\n",
       "      <td>Mitchell</td>\n",
       "      <td>850</td>\n",
       "      <td>Spain</td>\n",
       "      <td>Female</td>\n",
       "      <td>43</td>\n",
       "      <td>2.0</td>\n",
       "      <td>125510.82</td>\n",
       "      <td>1</td>\n",
       "      <td>1</td>\n",
       "      <td>1</td>\n",
       "      <td>79084.10</td>\n",
       "      <td>0</td>\n",
       "    </tr>\n",
       "  </tbody>\n",
       "</table>\n",
       "</div>"
      ],
      "text/plain": [
       "   RowNumber  CustomerId   Surname  CreditScore Geography  Gender  Age   \n",
       "0          1    15634602  Hargrave          619    France  Female   42  \\\n",
       "1          2    15647311      Hill          608     Spain  Female   41   \n",
       "2          3    15619304      Onio          502    France  Female   42   \n",
       "3          4    15701354      Boni          699    France  Female   39   \n",
       "4          5    15737888  Mitchell          850     Spain  Female   43   \n",
       "\n",
       "   Tenure    Balance  NumOfProducts  HasCrCard  IsActiveMember   \n",
       "0     2.0       0.00              1          1               1  \\\n",
       "1     1.0   83807.86              1          0               1   \n",
       "2     8.0  159660.80              3          1               0   \n",
       "3     1.0       0.00              2          0               0   \n",
       "4     2.0  125510.82              1          1               1   \n",
       "\n",
       "   EstimatedSalary  Exited  \n",
       "0        101348.88       1  \n",
       "1        112542.58       0  \n",
       "2        113931.57       1  \n",
       "3         93826.63       0  \n",
       "4         79084.10       0  "
      ]
     },
     "execution_count": 4,
     "metadata": {},
     "output_type": "execute_result"
    }
   ],
   "source": [
    "#Изучение данных:\n",
    "df.info()\n",
    "df.head()"
   ]
  },
  {
   "cell_type": "markdown",
   "metadata": {},
   "source": [
    "Вывод: в таблице 1000 строк, 14 столбцов и ненулевых значений во всех столбцах 1000, кроме столбца Tenure (9091)."
   ]
  },
  {
   "cell_type": "markdown",
   "metadata": {},
   "source": [
    "## Предобработка данных:"
   ]
  },
  {
   "cell_type": "code",
   "execution_count": 7,
   "metadata": {
    "scrolled": false
   },
   "outputs": [
    {
     "data": {
      "text/plain": [
       "Index(['row_number', 'customer_id', 'surname', 'creditscore', 'geography',\n",
       "       'gender', 'age', 'tenure', 'balance', 'num_of_products', 'has_crcard',\n",
       "       'isactive_member', 'estimated_salary', 'exited'],\n",
       "      dtype='object')"
      ]
     },
     "execution_count": 7,
     "metadata": {},
     "output_type": "execute_result"
    }
   ],
   "source": [
    "#Для удобства работы приведу все колонки к нижнему и змеиному регистру:\n",
    "df.columns = df.columns.str.lower()\n",
    "df.columns = ['row_number', 'customer_id', 'surname', 'creditscore', 'geography',\n",
    "       'gender', 'age', 'tenure', 'balance', 'num_of_products', 'has_crcard',\n",
    "       'isactive_member', 'estimated_salary', 'exited']\n",
    "df.columns"
   ]
  },
  {
   "cell_type": "code",
   "execution_count": 8,
   "metadata": {
    "scrolled": false
   },
   "outputs": [
    {
     "data": {
      "text/html": [
       "<div>\n",
       "<style scoped>\n",
       "    .dataframe tbody tr th:only-of-type {\n",
       "        vertical-align: middle;\n",
       "    }\n",
       "\n",
       "    .dataframe tbody tr th {\n",
       "        vertical-align: top;\n",
       "    }\n",
       "\n",
       "    .dataframe thead th {\n",
       "        text-align: right;\n",
       "    }\n",
       "</style>\n",
       "<table border=\"1\" class=\"dataframe\">\n",
       "  <thead>\n",
       "    <tr style=\"text-align: right;\">\n",
       "      <th></th>\n",
       "      <th>count</th>\n",
       "    </tr>\n",
       "    <tr>\n",
       "      <th>exited</th>\n",
       "      <th></th>\n",
       "    </tr>\n",
       "  </thead>\n",
       "  <tbody>\n",
       "    <tr>\n",
       "      <th>0</th>\n",
       "      <td>7963</td>\n",
       "    </tr>\n",
       "    <tr>\n",
       "      <th>1</th>\n",
       "      <td>2037</td>\n",
       "    </tr>\n",
       "  </tbody>\n",
       "</table>\n",
       "</div>"
      ],
      "text/plain": [
       "        count\n",
       "exited       \n",
       "0        7963\n",
       "1        2037"
      ]
     },
     "execution_count": 8,
     "metadata": {},
     "output_type": "execute_result"
    }
   ],
   "source": [
    "#Посмотрю поближе на целевой признак:\n",
    "df['exited'].value_counts().to_frame()"
   ]
  },
  {
   "cell_type": "markdown",
   "metadata": {},
   "source": [
    "Обнаружили дисбаланс классов. С этим поработаю немного позже. Возможно поможет масштабирование?"
   ]
  },
  {
   "cell_type": "code",
   "execution_count": 9,
   "metadata": {},
   "outputs": [
    {
     "data": {
      "text/plain": [
       "0"
      ]
     },
     "execution_count": 9,
     "metadata": {},
     "output_type": "execute_result"
    }
   ],
   "source": [
    "#Проверю есть ли дубликаты в данных:\n",
    "df.duplicated().sum()"
   ]
  },
  {
   "cell_type": "code",
   "execution_count": 10,
   "metadata": {
    "scrolled": true
   },
   "outputs": [
    {
     "data": {
      "text/html": [
       "<div>\n",
       "<style scoped>\n",
       "    .dataframe tbody tr th:only-of-type {\n",
       "        vertical-align: middle;\n",
       "    }\n",
       "\n",
       "    .dataframe tbody tr th {\n",
       "        vertical-align: top;\n",
       "    }\n",
       "\n",
       "    .dataframe thead th {\n",
       "        text-align: right;\n",
       "    }\n",
       "</style>\n",
       "<table border=\"1\" class=\"dataframe\">\n",
       "  <thead>\n",
       "    <tr style=\"text-align: right;\">\n",
       "      <th></th>\n",
       "      <th>creditscore</th>\n",
       "      <th>geography</th>\n",
       "      <th>gender</th>\n",
       "      <th>age</th>\n",
       "      <th>tenure</th>\n",
       "      <th>balance</th>\n",
       "      <th>num_of_products</th>\n",
       "      <th>has_crcard</th>\n",
       "      <th>isactive_member</th>\n",
       "      <th>estimated_salary</th>\n",
       "      <th>exited</th>\n",
       "    </tr>\n",
       "  </thead>\n",
       "  <tbody>\n",
       "    <tr>\n",
       "      <th>0</th>\n",
       "      <td>619</td>\n",
       "      <td>France</td>\n",
       "      <td>Female</td>\n",
       "      <td>42</td>\n",
       "      <td>2.0</td>\n",
       "      <td>0.00</td>\n",
       "      <td>1</td>\n",
       "      <td>1</td>\n",
       "      <td>1</td>\n",
       "      <td>101348.88</td>\n",
       "      <td>1</td>\n",
       "    </tr>\n",
       "    <tr>\n",
       "      <th>1</th>\n",
       "      <td>608</td>\n",
       "      <td>Spain</td>\n",
       "      <td>Female</td>\n",
       "      <td>41</td>\n",
       "      <td>1.0</td>\n",
       "      <td>83807.86</td>\n",
       "      <td>1</td>\n",
       "      <td>0</td>\n",
       "      <td>1</td>\n",
       "      <td>112542.58</td>\n",
       "      <td>0</td>\n",
       "    </tr>\n",
       "    <tr>\n",
       "      <th>2</th>\n",
       "      <td>502</td>\n",
       "      <td>France</td>\n",
       "      <td>Female</td>\n",
       "      <td>42</td>\n",
       "      <td>8.0</td>\n",
       "      <td>159660.80</td>\n",
       "      <td>3</td>\n",
       "      <td>1</td>\n",
       "      <td>0</td>\n",
       "      <td>113931.57</td>\n",
       "      <td>1</td>\n",
       "    </tr>\n",
       "    <tr>\n",
       "      <th>3</th>\n",
       "      <td>699</td>\n",
       "      <td>France</td>\n",
       "      <td>Female</td>\n",
       "      <td>39</td>\n",
       "      <td>1.0</td>\n",
       "      <td>0.00</td>\n",
       "      <td>2</td>\n",
       "      <td>0</td>\n",
       "      <td>0</td>\n",
       "      <td>93826.63</td>\n",
       "      <td>0</td>\n",
       "    </tr>\n",
       "    <tr>\n",
       "      <th>4</th>\n",
       "      <td>850</td>\n",
       "      <td>Spain</td>\n",
       "      <td>Female</td>\n",
       "      <td>43</td>\n",
       "      <td>2.0</td>\n",
       "      <td>125510.82</td>\n",
       "      <td>1</td>\n",
       "      <td>1</td>\n",
       "      <td>1</td>\n",
       "      <td>79084.10</td>\n",
       "      <td>0</td>\n",
       "    </tr>\n",
       "  </tbody>\n",
       "</table>\n",
       "</div>"
      ],
      "text/plain": [
       "   creditscore geography  gender  age  tenure    balance  num_of_products   \n",
       "0          619    France  Female   42     2.0       0.00                1  \\\n",
       "1          608     Spain  Female   41     1.0   83807.86                1   \n",
       "2          502    France  Female   42     8.0  159660.80                3   \n",
       "3          699    France  Female   39     1.0       0.00                2   \n",
       "4          850     Spain  Female   43     2.0  125510.82                1   \n",
       "\n",
       "   has_crcard  isactive_member  estimated_salary  exited  \n",
       "0           1                1         101348.88       1  \n",
       "1           0                1         112542.58       0  \n",
       "2           1                0         113931.57       1  \n",
       "3           0                0          93826.63       0  \n",
       "4           1                1          79084.10       0  "
      ]
     },
     "execution_count": 10,
     "metadata": {},
     "output_type": "execute_result"
    }
   ],
   "source": [
    "#Удалю столбцы, которые не повлияют на прогноз и не скажутся на обучении, что бы не загружать модель и создам новую переменную data:\n",
    "data = df.drop(['row_number', 'customer_id', 'surname'], axis=1).copy()\n",
    "data.head()"
   ]
  },
  {
   "cell_type": "code",
   "execution_count": 11,
   "metadata": {
    "scrolled": false
   },
   "outputs": [
    {
     "data": {
      "text/plain": [
       "True"
      ]
     },
     "execution_count": 11,
     "metadata": {},
     "output_type": "execute_result"
    }
   ],
   "source": [
    "#Проверим датасет на наличие значений nan:\n",
    "data.isnull().values.any()"
   ]
  },
  {
   "cell_type": "code",
   "execution_count": 13,
   "metadata": {},
   "outputs": [],
   "source": [
    "#Заменим все значения nan на -1:\n",
    "data = data.fillna(-1)"
   ]
  },
  {
   "cell_type": "code",
   "execution_count": 14,
   "metadata": {},
   "outputs": [
    {
     "data": {
      "text/plain": [
       "False"
      ]
     },
     "execution_count": 14,
     "metadata": {},
     "output_type": "execute_result"
    }
   ],
   "source": [
    "# Проверка:\n",
    "data.isnull().values.any()"
   ]
  },
  {
   "cell_type": "markdown",
   "metadata": {},
   "source": [
    "## Исследование задачи:"
   ]
  },
  {
   "cell_type": "markdown",
   "metadata": {},
   "source": [
    "Перед нами стоит задача классификации, отвечающая \"ДА\" или \"НЕТ\" (уйдет клиент или нет). Попробую обучить модель на алгоритмах логистической регрессии, слуачйного леса, и Catboost. \n",
    "\n",
    "Но перед этим поделим данные на 3 части, а после преобразуем их/закодируем, приведем к необходимому виду."
   ]
  },
  {
   "cell_type": "code",
   "execution_count": 15,
   "metadata": {},
   "outputs": [],
   "source": [
    "#Сначала разделим целевой признак и другие:\n",
    "target = data['exited']\n",
    "features = data.drop('exited', axis=1)"
   ]
  },
  {
   "cell_type": "code",
   "execution_count": 16,
   "metadata": {},
   "outputs": [],
   "source": [
    "#Разделим данные на тренировочную, тестовую и валидационную выборки:\n",
    "features_train, features_valid_test, target_train, target_valid_test = train_test_split(features, target, test_size=0.4, random_state=12345)\n",
    "features_test, features_valid, target_test, target_valid = train_test_split(features_valid_test, target_valid_test, test_size=0.5, random_state=12345)"
   ]
  },
  {
   "cell_type": "code",
   "execution_count": 17,
   "metadata": {},
   "outputs": [],
   "source": [
    "#Преоразуем категориальные данные в численные по очереди с каждой выборкой:\n",
    "#Для тренировочной выборки:\n",
    "features_train = pd.concat([features_train, (pd.get_dummies(features_train[\"gender\"], drop_first=True)), pd.get_dummies(features_train[\"geography\"], drop_first=True)], axis=1)"
   ]
  },
  {
   "cell_type": "code",
   "execution_count": 18,
   "metadata": {},
   "outputs": [],
   "source": [
    "#Для тестовой выборки:\n",
    "features_test = pd.concat([features_test, (pd.get_dummies(features_test[\"gender\"], drop_first=True)), pd.get_dummies(features_test[\"geography\"], drop_first=True)], axis=1)"
   ]
  },
  {
   "cell_type": "code",
   "execution_count": 19,
   "metadata": {},
   "outputs": [],
   "source": [
    "#Для валидационной выборки:\n",
    "features_valid = pd.concat([features_valid, (pd.get_dummies(features_valid[\"gender\"], drop_first=True)), pd.get_dummies(features_valid[\"geography\"], drop_first=True)], axis=1)"
   ]
  },
  {
   "cell_type": "code",
   "execution_count": 20,
   "metadata": {},
   "outputs": [],
   "source": [
    "#Удалю столбцы geography u gender:\n",
    "features_train.drop([\"gender\", \"geography\"], axis=1, inplace=True)"
   ]
  },
  {
   "cell_type": "code",
   "execution_count": 21,
   "metadata": {},
   "outputs": [],
   "source": [
    "features_test.drop([\"gender\", \"geography\"], axis=1, inplace=True)\n",
    "features_valid.drop([\"gender\", \"geography\"], axis=1, inplace=True)"
   ]
  },
  {
   "cell_type": "code",
   "execution_count": 22,
   "metadata": {
    "scrolled": true
   },
   "outputs": [
    {
     "data": {
      "text/html": [
       "<div>\n",
       "<style scoped>\n",
       "    .dataframe tbody tr th:only-of-type {\n",
       "        vertical-align: middle;\n",
       "    }\n",
       "\n",
       "    .dataframe tbody tr th {\n",
       "        vertical-align: top;\n",
       "    }\n",
       "\n",
       "    .dataframe thead th {\n",
       "        text-align: right;\n",
       "    }\n",
       "</style>\n",
       "<table border=\"1\" class=\"dataframe\">\n",
       "  <thead>\n",
       "    <tr style=\"text-align: right;\">\n",
       "      <th></th>\n",
       "      <th>creditscore</th>\n",
       "      <th>age</th>\n",
       "      <th>tenure</th>\n",
       "      <th>balance</th>\n",
       "      <th>num_of_products</th>\n",
       "      <th>has_crcard</th>\n",
       "      <th>isactive_member</th>\n",
       "      <th>estimated_salary</th>\n",
       "      <th>Male</th>\n",
       "      <th>Germany</th>\n",
       "      <th>Spain</th>\n",
       "    </tr>\n",
       "  </thead>\n",
       "  <tbody>\n",
       "    <tr>\n",
       "      <th>7479</th>\n",
       "      <td>-0.886751</td>\n",
       "      <td>-0.373192</td>\n",
       "      <td>8.0</td>\n",
       "      <td>1.232271</td>\n",
       "      <td>1</td>\n",
       "      <td>1</td>\n",
       "      <td>0</td>\n",
       "      <td>-0.187705</td>\n",
       "      <td>True</td>\n",
       "      <td>False</td>\n",
       "      <td>True</td>\n",
       "    </tr>\n",
       "    <tr>\n",
       "      <th>3411</th>\n",
       "      <td>0.608663</td>\n",
       "      <td>-0.183385</td>\n",
       "      <td>8.0</td>\n",
       "      <td>0.600563</td>\n",
       "      <td>1</td>\n",
       "      <td>0</td>\n",
       "      <td>0</td>\n",
       "      <td>-0.333945</td>\n",
       "      <td>False</td>\n",
       "      <td>False</td>\n",
       "      <td>False</td>\n",
       "    </tr>\n",
       "    <tr>\n",
       "      <th>6027</th>\n",
       "      <td>2.052152</td>\n",
       "      <td>0.480939</td>\n",
       "      <td>3.0</td>\n",
       "      <td>1.027098</td>\n",
       "      <td>2</td>\n",
       "      <td>0</td>\n",
       "      <td>1</td>\n",
       "      <td>1.503095</td>\n",
       "      <td>True</td>\n",
       "      <td>True</td>\n",
       "      <td>False</td>\n",
       "    </tr>\n",
       "    <tr>\n",
       "      <th>1247</th>\n",
       "      <td>-1.457915</td>\n",
       "      <td>-1.417129</td>\n",
       "      <td>6.0</td>\n",
       "      <td>-1.233163</td>\n",
       "      <td>2</td>\n",
       "      <td>1</td>\n",
       "      <td>0</td>\n",
       "      <td>-1.071061</td>\n",
       "      <td>True</td>\n",
       "      <td>False</td>\n",
       "      <td>False</td>\n",
       "    </tr>\n",
       "    <tr>\n",
       "      <th>3716</th>\n",
       "      <td>0.130961</td>\n",
       "      <td>-1.132419</td>\n",
       "      <td>2.0</td>\n",
       "      <td>1.140475</td>\n",
       "      <td>1</td>\n",
       "      <td>0</td>\n",
       "      <td>0</td>\n",
       "      <td>1.524268</td>\n",
       "      <td>False</td>\n",
       "      <td>True</td>\n",
       "      <td>False</td>\n",
       "    </tr>\n",
       "  </tbody>\n",
       "</table>\n",
       "</div>"
      ],
      "text/plain": [
       "      creditscore       age  tenure   balance  num_of_products  has_crcard   \n",
       "7479    -0.886751 -0.373192     8.0  1.232271                1           1  \\\n",
       "3411     0.608663 -0.183385     8.0  0.600563                1           0   \n",
       "6027     2.052152  0.480939     3.0  1.027098                2           0   \n",
       "1247    -1.457915 -1.417129     6.0 -1.233163                2           1   \n",
       "3716     0.130961 -1.132419     2.0  1.140475                1           0   \n",
       "\n",
       "      isactive_member  estimated_salary   Male  Germany  Spain  \n",
       "7479                0         -0.187705   True    False   True  \n",
       "3411                0         -0.333945  False    False  False  \n",
       "6027                1          1.503095   True     True  False  \n",
       "1247                0         -1.071061   True    False  False  \n",
       "3716                0          1.524268  False     True  False  "
      ]
     },
     "execution_count": 22,
     "metadata": {},
     "output_type": "execute_result"
    }
   ],
   "source": [
    "#Проведем масштабирование на обучающей выборке по количественным столбцам:\n",
    "numeric = ['creditscore', 'age', 'balance', 'estimated_salary']\n",
    "scaler = StandardScaler()\n",
    "scaler.fit(features_train[numeric])\n",
    "features_train[numeric] = scaler.transform(features_train[numeric])\n",
    "features_train.head()"
   ]
  },
  {
   "cell_type": "code",
   "execution_count": 23,
   "metadata": {
    "scrolled": true
   },
   "outputs": [
    {
     "data": {
      "text/html": [
       "<div>\n",
       "<style scoped>\n",
       "    .dataframe tbody tr th:only-of-type {\n",
       "        vertical-align: middle;\n",
       "    }\n",
       "\n",
       "    .dataframe tbody tr th {\n",
       "        vertical-align: top;\n",
       "    }\n",
       "\n",
       "    .dataframe thead th {\n",
       "        text-align: right;\n",
       "    }\n",
       "</style>\n",
       "<table border=\"1\" class=\"dataframe\">\n",
       "  <thead>\n",
       "    <tr style=\"text-align: right;\">\n",
       "      <th></th>\n",
       "      <th>creditscore</th>\n",
       "      <th>age</th>\n",
       "      <th>tenure</th>\n",
       "      <th>balance</th>\n",
       "      <th>num_of_products</th>\n",
       "      <th>has_crcard</th>\n",
       "      <th>isactive_member</th>\n",
       "      <th>estimated_salary</th>\n",
       "      <th>Male</th>\n",
       "      <th>Germany</th>\n",
       "      <th>Spain</th>\n",
       "    </tr>\n",
       "  </thead>\n",
       "  <tbody>\n",
       "    <tr>\n",
       "      <th>7041</th>\n",
       "      <td>-2.226392</td>\n",
       "      <td>-0.088482</td>\n",
       "      <td>2.0</td>\n",
       "      <td>-1.233163</td>\n",
       "      <td>2</td>\n",
       "      <td>1</td>\n",
       "      <td>0</td>\n",
       "      <td>0.647083</td>\n",
       "      <td>True</td>\n",
       "      <td>False</td>\n",
       "      <td>False</td>\n",
       "    </tr>\n",
       "    <tr>\n",
       "      <th>5709</th>\n",
       "      <td>-0.087120</td>\n",
       "      <td>0.006422</td>\n",
       "      <td>9.0</td>\n",
       "      <td>-1.233163</td>\n",
       "      <td>1</td>\n",
       "      <td>1</td>\n",
       "      <td>0</td>\n",
       "      <td>-1.658410</td>\n",
       "      <td>False</td>\n",
       "      <td>False</td>\n",
       "      <td>False</td>\n",
       "    </tr>\n",
       "    <tr>\n",
       "      <th>7117</th>\n",
       "      <td>-0.917905</td>\n",
       "      <td>-0.752805</td>\n",
       "      <td>5.0</td>\n",
       "      <td>0.722307</td>\n",
       "      <td>1</td>\n",
       "      <td>1</td>\n",
       "      <td>1</td>\n",
       "      <td>-1.369334</td>\n",
       "      <td>True</td>\n",
       "      <td>False</td>\n",
       "      <td>True</td>\n",
       "    </tr>\n",
       "    <tr>\n",
       "      <th>7775</th>\n",
       "      <td>-0.253277</td>\n",
       "      <td>0.101325</td>\n",
       "      <td>10.0</td>\n",
       "      <td>-1.233163</td>\n",
       "      <td>2</td>\n",
       "      <td>1</td>\n",
       "      <td>0</td>\n",
       "      <td>0.075086</td>\n",
       "      <td>True</td>\n",
       "      <td>False</td>\n",
       "      <td>True</td>\n",
       "    </tr>\n",
       "    <tr>\n",
       "      <th>8735</th>\n",
       "      <td>0.785204</td>\n",
       "      <td>-0.847708</td>\n",
       "      <td>10.0</td>\n",
       "      <td>0.615625</td>\n",
       "      <td>1</td>\n",
       "      <td>0</td>\n",
       "      <td>1</td>\n",
       "      <td>-1.070919</td>\n",
       "      <td>True</td>\n",
       "      <td>False</td>\n",
       "      <td>False</td>\n",
       "    </tr>\n",
       "  </tbody>\n",
       "</table>\n",
       "</div>"
      ],
      "text/plain": [
       "      creditscore       age  tenure   balance  num_of_products  has_crcard   \n",
       "7041    -2.226392 -0.088482     2.0 -1.233163                2           1  \\\n",
       "5709    -0.087120  0.006422     9.0 -1.233163                1           1   \n",
       "7117    -0.917905 -0.752805     5.0  0.722307                1           1   \n",
       "7775    -0.253277  0.101325    10.0 -1.233163                2           1   \n",
       "8735     0.785204 -0.847708    10.0  0.615625                1           0   \n",
       "\n",
       "      isactive_member  estimated_salary   Male  Germany  Spain  \n",
       "7041                0          0.647083   True    False  False  \n",
       "5709                0         -1.658410  False    False  False  \n",
       "7117                1         -1.369334   True    False   True  \n",
       "7775                0          0.075086   True    False   True  \n",
       "8735                1         -1.070919   True    False  False  "
      ]
     },
     "execution_count": 23,
     "metadata": {},
     "output_type": "execute_result"
    }
   ],
   "source": [
    "#То же самое проделаем с тестовой и вчалидационной выборками:\n",
    "features_valid[numeric] = scaler.transform(features_valid[numeric])\n",
    "features_valid.head()"
   ]
  },
  {
   "cell_type": "code",
   "execution_count": 24,
   "metadata": {
    "scrolled": true
   },
   "outputs": [
    {
     "data": {
      "text/html": [
       "<div>\n",
       "<style scoped>\n",
       "    .dataframe tbody tr th:only-of-type {\n",
       "        vertical-align: middle;\n",
       "    }\n",
       "\n",
       "    .dataframe tbody tr th {\n",
       "        vertical-align: top;\n",
       "    }\n",
       "\n",
       "    .dataframe thead th {\n",
       "        text-align: right;\n",
       "    }\n",
       "</style>\n",
       "<table border=\"1\" class=\"dataframe\">\n",
       "  <thead>\n",
       "    <tr style=\"text-align: right;\">\n",
       "      <th></th>\n",
       "      <th>creditscore</th>\n",
       "      <th>age</th>\n",
       "      <th>tenure</th>\n",
       "      <th>balance</th>\n",
       "      <th>num_of_products</th>\n",
       "      <th>has_crcard</th>\n",
       "      <th>isactive_member</th>\n",
       "      <th>estimated_salary</th>\n",
       "      <th>Male</th>\n",
       "      <th>Germany</th>\n",
       "      <th>Spain</th>\n",
       "    </tr>\n",
       "  </thead>\n",
       "  <tbody>\n",
       "    <tr>\n",
       "      <th>8532</th>\n",
       "      <td>-0.699824</td>\n",
       "      <td>-0.373192</td>\n",
       "      <td>2.0</td>\n",
       "      <td>-1.233163</td>\n",
       "      <td>2</td>\n",
       "      <td>1</td>\n",
       "      <td>0</td>\n",
       "      <td>-0.015173</td>\n",
       "      <td>False</td>\n",
       "      <td>False</td>\n",
       "      <td>False</td>\n",
       "    </tr>\n",
       "    <tr>\n",
       "      <th>5799</th>\n",
       "      <td>-0.284431</td>\n",
       "      <td>0.575842</td>\n",
       "      <td>3.0</td>\n",
       "      <td>-1.233163</td>\n",
       "      <td>1</td>\n",
       "      <td>1</td>\n",
       "      <td>1</td>\n",
       "      <td>1.471724</td>\n",
       "      <td>False</td>\n",
       "      <td>False</td>\n",
       "      <td>False</td>\n",
       "    </tr>\n",
       "    <tr>\n",
       "      <th>5511</th>\n",
       "      <td>0.151731</td>\n",
       "      <td>-0.657902</td>\n",
       "      <td>0.0</td>\n",
       "      <td>0.438711</td>\n",
       "      <td>1</td>\n",
       "      <td>1</td>\n",
       "      <td>0</td>\n",
       "      <td>-1.367107</td>\n",
       "      <td>True</td>\n",
       "      <td>True</td>\n",
       "      <td>False</td>\n",
       "    </tr>\n",
       "    <tr>\n",
       "      <th>7365</th>\n",
       "      <td>-0.876366</td>\n",
       "      <td>-0.278288</td>\n",
       "      <td>10.0</td>\n",
       "      <td>1.239884</td>\n",
       "      <td>1</td>\n",
       "      <td>1</td>\n",
       "      <td>1</td>\n",
       "      <td>-0.786517</td>\n",
       "      <td>False</td>\n",
       "      <td>False</td>\n",
       "      <td>True</td>\n",
       "    </tr>\n",
       "    <tr>\n",
       "      <th>7367</th>\n",
       "      <td>-0.481743</td>\n",
       "      <td>0.291132</td>\n",
       "      <td>10.0</td>\n",
       "      <td>-1.233163</td>\n",
       "      <td>2</td>\n",
       "      <td>1</td>\n",
       "      <td>0</td>\n",
       "      <td>1.358533</td>\n",
       "      <td>True</td>\n",
       "      <td>False</td>\n",
       "      <td>True</td>\n",
       "    </tr>\n",
       "  </tbody>\n",
       "</table>\n",
       "</div>"
      ],
      "text/plain": [
       "      creditscore       age  tenure   balance  num_of_products  has_crcard   \n",
       "8532    -0.699824 -0.373192     2.0 -1.233163                2           1  \\\n",
       "5799    -0.284431  0.575842     3.0 -1.233163                1           1   \n",
       "5511     0.151731 -0.657902     0.0  0.438711                1           1   \n",
       "7365    -0.876366 -0.278288    10.0  1.239884                1           1   \n",
       "7367    -0.481743  0.291132    10.0 -1.233163                2           1   \n",
       "\n",
       "      isactive_member  estimated_salary   Male  Germany  Spain  \n",
       "8532                0         -0.015173  False    False  False  \n",
       "5799                1          1.471724  False    False  False  \n",
       "5511                0         -1.367107   True     True  False  \n",
       "7365                1         -0.786517  False    False   True  \n",
       "7367                0          1.358533   True    False   True  "
      ]
     },
     "execution_count": 24,
     "metadata": {},
     "output_type": "execute_result"
    }
   ],
   "source": [
    "features_test[numeric] = scaler.transform(features_test[numeric])\n",
    "features_test.head()"
   ]
  },
  {
   "cell_type": "code",
   "execution_count": 25,
   "metadata": {
    "scrolled": true
   },
   "outputs": [
    {
     "name": "stdout",
     "output_type": "stream",
     "text": [
      "Лучшие гиперпараметры {'C': 1.0, 'max_iter': 100}\n"
     ]
    }
   ],
   "source": [
    "#Подберем лучшие гиперпараметры:\n",
    "grid={\"C\":np.logspace(-3,3,7), \"max_iter\": [0,10,100]}\n",
    "logreg=LogisticRegression()\n",
    "logreg_cv=GridSearchCV(logreg,grid,cv=10)\n",
    "logreg_cv.fit(features_train,target_train)\n",
    "\n",
    "print(\"Лучшие гиперпараметры\",logreg_cv.best_params_)"
   ]
  },
  {
   "cell_type": "code",
   "execution_count": 26,
   "metadata": {},
   "outputs": [
    {
     "name": "stdout",
     "output_type": "stream",
     "text": [
      "F1: 0.2743055555555555\n",
      "AUC: 0.7387909233050155\n"
     ]
    }
   ],
   "source": [
    "#Подставим гиперпараметры: \n",
    "model = LogisticRegression(random_state=42, solver='liblinear', C = 1.0, max_iter = 100)\n",
    "model.fit(features_train, target_train)\n",
    "predicted_valid = model.predict(features_valid)\n",
    "\n",
    "#Проверим сразу F1 u AUC-ROC:\n",
    "print(\"F1:\", f1_score(target_valid, predicted_valid))\n",
    "\n",
    "probabilities_valid = model.predict_proba(features_valid)\n",
    "probabilities_one_valid = probabilities_valid[:, 1]\n",
    "\n",
    "auc_roc = roc_auc_score (target_valid, probabilities_one_valid)\n",
    "\n",
    "print(\"AUC:\", auc_roc)"
   ]
  },
  {
   "cell_type": "markdown",
   "metadata": {},
   "source": [
    "Попробуем как работает алгоритм случайного леса:"
   ]
  },
  {
   "cell_type": "code",
   "execution_count": 27,
   "metadata": {},
   "outputs": [
    {
     "name": "stdout",
     "output_type": "stream",
     "text": [
      "Лучшие гиперпараметры {'criterion': 'entropy', 'min_samples_split': 12, 'n_estimators': 10}\n"
     ]
    }
   ],
   "source": [
    "#Подберем лучшие гиперпараметры:\n",
    "par_grid_ensemble = {'n_estimators': [3, 10, 30],\n",
    "                     'criterion': ['gini', 'entropy'],\n",
    "                     'min_samples_split': range(5, 15)\n",
    "                    }\n",
    "model = RandomForestClassifier(random_state=42)\n",
    "\n",
    "grid_search = GridSearchCV(model, par_grid_ensemble, cv=5)\n",
    "grid_search.fit(features_train, target_train)\n",
    "\n",
    "\n",
    "print(\"Лучшие гиперпараметры\", grid_search.best_params_)"
   ]
  },
  {
   "cell_type": "code",
   "execution_count": 28,
   "metadata": {},
   "outputs": [
    {
     "name": "stdout",
     "output_type": "stream",
     "text": [
      "F1: 0.5837037037037038\n",
      "AUC: 0.8340416537370084\n"
     ]
    }
   ],
   "source": [
    "#Подставим гиперпараметры:\n",
    "model = RandomForestClassifier(random_state=42, criterion= 'entropy', min_samples_split = 12, n_estimators = 10)\n",
    "model.fit(features_train, target_train)\n",
    "predicted_test = model.predict(features_test)\n",
    "print(\"F1:\", f1_score(target_test, predicted_test))\n",
    "\n",
    "probabilities_valid = model.predict_proba(features_valid)\n",
    "probabilities_one_valid = probabilities_valid[:, 1]\n",
    "\n",
    "auc_roc = roc_auc_score (target_valid, probabilities_one_valid)\n",
    "\n",
    "print(\"AUC:\", auc_roc)"
   ]
  },
  {
   "cell_type": "markdown",
   "metadata": {},
   "source": [
    "F1 уверенный, но всё еще нам не подходит. Идем дальше:"
   ]
  },
  {
   "cell_type": "code",
   "execution_count": 29,
   "metadata": {
    "scrolled": true
   },
   "outputs": [
    {
     "name": "stdout",
     "output_type": "stream",
     "text": [
      "Learning rate set to 0.022141\n"
     ]
    },
    {
     "name": "stdout",
     "output_type": "stream",
     "text": [
      "0:\tlearn: 0.6737429\ttotal: 164ms\tremaining: 2m 43s\n",
      "100:\tlearn: 0.3274371\ttotal: 496ms\tremaining: 4.41s\n",
      "200:\tlearn: 0.3031723\ttotal: 804ms\tremaining: 3.19s\n",
      "300:\tlearn: 0.2894704\ttotal: 1.1s\tremaining: 2.56s\n",
      "400:\tlearn: 0.2764448\ttotal: 1.42s\tremaining: 2.12s\n",
      "500:\tlearn: 0.2657549\ttotal: 1.73s\tremaining: 1.73s\n",
      "600:\tlearn: 0.2549220\ttotal: 2.04s\tremaining: 1.36s\n",
      "700:\tlearn: 0.2448062\ttotal: 2.36s\tremaining: 1s\n",
      "800:\tlearn: 0.2355069\ttotal: 2.67s\tremaining: 662ms\n",
      "900:\tlearn: 0.2273106\ttotal: 2.97s\tremaining: 326ms\n",
      "999:\tlearn: 0.2193161\ttotal: 3.27s\tremaining: 0us\n",
      "F1: 0.5491923641703377\n",
      "AUC: 0.8620971380857511\n"
     ]
    }
   ],
   "source": [
    "#Попробуем CatBoostClassifier:\n",
    "model = CatBoostClassifier(verbose=100, random_state=42)\n",
    "model.fit(features_train, target_train)\n",
    "predicted_valid = model.predict(features_valid)\n",
    "print(\"F1:\", f1_score(target_valid, predicted_valid))\n",
    "\n",
    "probabilities_valid = model.predict_proba(features_valid)\n",
    "probabilities_one_valid = probabilities_valid[:, 1]\n",
    "\n",
    "auc_roc = roc_auc_score (target_valid, probabilities_one_valid)\n",
    "\n",
    "print(\"AUC:\", auc_roc)"
   ]
  },
  {
   "cell_type": "markdown",
   "metadata": {},
   "source": [
    "F1 повыше, но также нам не подходит. Попробуем исправить дисбаланс."
   ]
  },
  {
   "cell_type": "markdown",
   "metadata": {},
   "source": [
    "## Борьба с дисбалансом"
   ]
  },
  {
   "cell_type": "code",
   "execution_count": 30,
   "metadata": {
    "scrolled": true
   },
   "outputs": [
    {
     "data": {
      "text/html": [
       "<div>\n",
       "<style scoped>\n",
       "    .dataframe tbody tr th:only-of-type {\n",
       "        vertical-align: middle;\n",
       "    }\n",
       "\n",
       "    .dataframe tbody tr th {\n",
       "        vertical-align: top;\n",
       "    }\n",
       "\n",
       "    .dataframe thead th {\n",
       "        text-align: right;\n",
       "    }\n",
       "</style>\n",
       "<table border=\"1\" class=\"dataframe\">\n",
       "  <thead>\n",
       "    <tr style=\"text-align: right;\">\n",
       "      <th></th>\n",
       "      <th>count</th>\n",
       "    </tr>\n",
       "    <tr>\n",
       "      <th>exited</th>\n",
       "      <th></th>\n",
       "    </tr>\n",
       "  </thead>\n",
       "  <tbody>\n",
       "    <tr>\n",
       "      <th>0</th>\n",
       "      <td>7963</td>\n",
       "    </tr>\n",
       "    <tr>\n",
       "      <th>1</th>\n",
       "      <td>2037</td>\n",
       "    </tr>\n",
       "  </tbody>\n",
       "</table>\n",
       "</div>"
      ],
      "text/plain": [
       "        count\n",
       "exited       \n",
       "0        7963\n",
       "1        2037"
      ]
     },
     "execution_count": 30,
     "metadata": {},
     "output_type": "execute_result"
    }
   ],
   "source": [
    "data['exited'].value_counts().to_frame()"
   ]
  },
  {
   "cell_type": "markdown",
   "metadata": {},
   "source": [
    "Вывод: дисбаланс присутствует"
   ]
  },
  {
   "cell_type": "markdown",
   "metadata": {},
   "source": [
    "Попробую использовать 3 метода улучшения модели: upsampling, downsampling, Change threshhold."
   ]
  },
  {
   "cell_type": "code",
   "execution_count": 31,
   "metadata": {},
   "outputs": [
    {
     "name": "stdout",
     "output_type": "stream",
     "text": [
      "(10784, 11)\n",
      "(10784,)\n"
     ]
    }
   ],
   "source": [
    "#Улушим модель с помощью upsampling:\n",
    "def upsample(features, target, repeat):\n",
    "    \n",
    "    features_zeros = features[target == 0]\n",
    "    features_ones = features[target == 1]\n",
    "    target_zeros = target[target == 0]\n",
    "    target_ones = target[target == 1]\n",
    "    \n",
    "    features_upsampled = pd.concat([features_zeros] + [features_ones] * repeat)\n",
    "    target_upsampled = pd.concat([target_zeros] + [target_ones] * repeat)\n",
    "    \n",
    "    features_upsampled = shuffle(features_upsampled, random_state=12345)\n",
    "    target_upsampled = shuffle(target_upsampled, random_state=12345)\n",
    "    \n",
    "    return features_upsampled, target_upsampled\n",
    "\n",
    "    \n",
    "    \n",
    "features_upsampled, target_upsampled = upsample(features_train, target_train, 5)\n",
    "\n",
    "print(features_upsampled.shape)\n",
    "print(target_upsampled.shape)"
   ]
  },
  {
   "cell_type": "markdown",
   "metadata": {},
   "source": [
    "Проверим на трех алгоритмах, какой будет F1 и Auc ROC?"
   ]
  },
  {
   "cell_type": "code",
   "execution_count": 32,
   "metadata": {},
   "outputs": [
    {
     "name": "stdout",
     "output_type": "stream",
     "text": [
      "Лучшие гиперпараметры {'C': 0.001, 'max_iter': 10}\n"
     ]
    }
   ],
   "source": [
    "#Подберем лучшие гиперпараметры:\n",
    "grid={\"C\":np.logspace(-3,3,7), \"max_iter\": [0,10,100]}\n",
    "logreg=LogisticRegression()\n",
    "logreg_cv=GridSearchCV(logreg,grid,cv=10)\n",
    "logreg_cv.fit(features_upsampled,target_upsampled)\n",
    "\n",
    "print(\"Лучшие гиперпараметры\",logreg_cv.best_params_)"
   ]
  },
  {
   "cell_type": "code",
   "execution_count": 29,
   "metadata": {
    "scrolled": true
   },
   "outputs": [
    {
     "name": "stdout",
     "output_type": "stream",
     "text": [
      "F1: 0.4871406959152799\n",
      "AUC: 0.7433946311562036\n"
     ]
    }
   ],
   "source": [
    "#Подставим гиперпараметры:\n",
    "model = LogisticRegression(random_state=42, solver='liblinear', C = 0.001, max_iter = 10)\n",
    "model.fit(features_upsampled, target_upsampled)\n",
    "predicted_valid = model.predict(features_valid)\n",
    "print(\"F1:\", f1_score(target_valid, predicted_valid))\n",
    "\n",
    "probabilities_valid = model.predict_proba(features_valid)\n",
    "probabilities_one_valid = probabilities_valid[:, 1]\n",
    "\n",
    "auc_roc = roc_auc_score (target_valid, probabilities_one_valid)\n",
    "\n",
    "print(\"AUC:\", auc_roc)"
   ]
  },
  {
   "cell_type": "code",
   "execution_count": 33,
   "metadata": {},
   "outputs": [
    {
     "name": "stdout",
     "output_type": "stream",
     "text": [
      "Лучшие гиперпараметры {'criterion': 'gini', 'min_samples_split': 5, 'n_estimators': 30}\n"
     ]
    }
   ],
   "source": [
    "#Подберем лучшие гиперпараметры:\n",
    "par_grid_ensemble = {'n_estimators': [3, 10, 30],\n",
    "                     'criterion': ['gini', 'entropy'],\n",
    "                     'min_samples_split': range(5, 15)\n",
    "                    }\n",
    "model = RandomForestClassifier(random_state=42)\n",
    "\n",
    "grid_search = GridSearchCV(model, par_grid_ensemble, cv=5)\n",
    "grid_search.fit(features_upsampled, target_upsampled)\n",
    "\n",
    "\n",
    "print(\"Лучшие гиперпараметры\", grid_search.best_params_)"
   ]
  },
  {
   "cell_type": "code",
   "execution_count": 34,
   "metadata": {},
   "outputs": [
    {
     "name": "stdout",
     "output_type": "stream",
     "text": [
      "F1: 0.5874499332443258\n",
      "AUC: 0.8486967654117776\n"
     ]
    }
   ],
   "source": [
    "#Подставим гиперпараметры:\n",
    "RandomForestClassifier(random_state=42, criterion= 'gini', min_samples_split = 5, n_estimators = 30)\n",
    "model.fit(features_upsampled, target_upsampled)\n",
    "predicted_valid = model.predict(features_valid)\n",
    "print(\"F1:\", f1_score(target_valid, predicted_valid))\n",
    "\n",
    "probabilities_valid = model.predict_proba(features_valid)\n",
    "probabilities_one_valid = probabilities_valid[:, 1]\n",
    "\n",
    "auc_roc = roc_auc_score (target_valid, probabilities_one_valid)\n",
    "\n",
    "print(\"AUC:\", auc_roc)"
   ]
  },
  {
   "cell_type": "code",
   "execution_count": 35,
   "metadata": {
    "scrolled": false
   },
   "outputs": [
    {
     "name": "stdout",
     "output_type": "stream",
     "text": [
      "Learning rate set to 0.02844\n",
      "0:\tlearn: 0.6775865\ttotal: 16.8ms\tremaining: 16.8s\n"
     ]
    },
    {
     "name": "stdout",
     "output_type": "stream",
     "text": [
      "100:\tlearn: 0.4221508\ttotal: 1.64s\tremaining: 14.6s\n",
      "200:\tlearn: 0.3839778\ttotal: 2.86s\tremaining: 11.4s\n",
      "300:\tlearn: 0.3570495\ttotal: 3.98s\tremaining: 9.26s\n",
      "400:\tlearn: 0.3319150\ttotal: 5.13s\tremaining: 7.66s\n",
      "500:\tlearn: 0.3102748\ttotal: 6.31s\tremaining: 6.28s\n",
      "600:\tlearn: 0.2911898\ttotal: 7.39s\tremaining: 4.91s\n",
      "700:\tlearn: 0.2734897\ttotal: 8.48s\tremaining: 3.62s\n",
      "800:\tlearn: 0.2574719\ttotal: 9.51s\tremaining: 2.36s\n",
      "900:\tlearn: 0.2429422\ttotal: 10.3s\tremaining: 1.13s\n",
      "999:\tlearn: 0.2292046\ttotal: 11s\tremaining: 0us\n",
      "F1: 0.6070686070686071\n",
      "AUC: 0.8544517749984633\n"
     ]
    }
   ],
   "source": [
    "model = CatBoostClassifier(verbose=100, random_state=42)\n",
    "model.fit(features_upsampled, target_upsampled)\n",
    "predicted_valid = model.predict(features_valid)\n",
    "print(\"F1:\", f1_score(target_valid, predicted_valid))\n",
    "\n",
    "probabilities_valid = model.predict_proba(features_valid)\n",
    "probabilities_one_valid = probabilities_valid[:, 1]\n",
    "\n",
    "auc_roc = roc_auc_score (target_valid, probabilities_one_valid)\n",
    "\n",
    "print(\"AUC:\", auc_roc)"
   ]
  },
  {
   "cell_type": "markdown",
   "metadata": {},
   "source": [
    "Интересен последний вариант. Возможно, на нем и остановимся. Но проверим еще другие методы."
   ]
  },
  {
   "cell_type": "code",
   "execution_count": 36,
   "metadata": {},
   "outputs": [
    {
     "name": "stdout",
     "output_type": "stream",
     "text": [
      "(1676, 11)\n",
      "(1676,)\n"
     ]
    }
   ],
   "source": [
    "#Улушим модель с помощью downsampling:\n",
    "def downsample(features, target, fraction):\n",
    "    features_zeros = features[target == 0]\n",
    "    features_ones = features[target == 1]\n",
    "    target_zeros = target[target == 0]\n",
    "    target_ones = target[target == 1]\n",
    "\n",
    "    features_sample = features_zeros.sample(frac=0.1, random_state=12345)\n",
    "    target_sample = target_zeros.sample(frac=0.1, random_state=12345)\n",
    "    \n",
    "    features_downsampled = pd.concat([features_sample] + [features_ones])\n",
    "    target_downsampled = pd.concat([target_sample] + [target_ones])\n",
    "    \n",
    "    features_downsampled = shuffle(features_downsampled, random_state=12345)\n",
    "    target_downsampled = shuffle(target_downsampled, random_state=12345)\n",
    "    \n",
    "\n",
    "    \n",
    "    return features_downsampled, target_downsampled\n",
    "\n",
    "features_downsampled, target_downsampled = downsample(features_train, target_train, 0.1)\n",
    "\n",
    "print(features_downsampled.shape)\n",
    "print(target_downsampled.shape)"
   ]
  },
  {
   "cell_type": "markdown",
   "metadata": {},
   "source": [
    "Проверим на алгоритмах обучения:"
   ]
  },
  {
   "cell_type": "code",
   "execution_count": 37,
   "metadata": {},
   "outputs": [
    {
     "name": "stdout",
     "output_type": "stream",
     "text": [
      "Лучшие гиперпараметры {'C': 1.0, 'max_iter': 100}\n"
     ]
    }
   ],
   "source": [
    "#Подберем лучшие гиперпараметры:\n",
    "grid={\"C\":np.logspace(-3,3,7), \"max_iter\": [0,10,100]}\n",
    "logreg=LogisticRegression()\n",
    "logreg_cv=GridSearchCV(logreg,grid,cv=10)\n",
    "logreg_cv.fit(features_downsampled,target_downsampled)\n",
    "\n",
    "print(\"Лучшие гиперпараметры\",logreg_cv.best_params_)\n"
   ]
  },
  {
   "cell_type": "code",
   "execution_count": 38,
   "metadata": {
    "scrolled": true
   },
   "outputs": [
    {
     "name": "stdout",
     "output_type": "stream",
     "text": [
      "F1: 0.4298745724059293\n",
      "AUC: 0.7354344590006162\n"
     ]
    }
   ],
   "source": [
    "#Подставим гиперпараметры:\n",
    "model = LogisticRegression(random_state=42, solver='liblinear', C = 1.0, max_iter = 100)\n",
    "model.fit(features_downsampled, target_downsampled)\n",
    "predicted_valid = model.predict(features_valid)\n",
    "print(\"F1:\", f1_score(target_valid, predicted_valid))\n",
    "\n",
    "probabilities_valid = model.predict_proba(features_valid)\n",
    "probabilities_one_valid = probabilities_valid[:, 1]\n",
    "\n",
    "auc_roc = roc_auc_score (target_valid, probabilities_one_valid)\n",
    "\n",
    "print(\"AUC:\", auc_roc)"
   ]
  },
  {
   "cell_type": "code",
   "execution_count": 39,
   "metadata": {},
   "outputs": [
    {
     "name": "stdout",
     "output_type": "stream",
     "text": [
      "Лучшие гиперпараметры {'criterion': 'gini', 'min_samples_split': 7, 'n_estimators': 30}\n"
     ]
    }
   ],
   "source": [
    "#Подберем лучшие гиперпараметры:\n",
    "par_grid_ensemble = {'n_estimators': [3, 10, 30],\n",
    "                     'criterion': ['gini', 'entropy'],\n",
    "                     'min_samples_split': range(5, 15)\n",
    "                    }\n",
    "model = RandomForestClassifier(random_state=42)\n",
    "\n",
    "grid_search = GridSearchCV(model, par_grid_ensemble, cv=5)\n",
    "grid_search.fit(features_downsampled, target_downsampled)\n",
    "\n",
    "\n",
    "print(\"Лучшие гиперпараметры\", grid_search.best_params_)"
   ]
  },
  {
   "cell_type": "code",
   "execution_count": 40,
   "metadata": {},
   "outputs": [
    {
     "name": "stdout",
     "output_type": "stream",
     "text": [
      "F1: 0.4880875724404378\n",
      "AUC: 0.8233538858682208\n"
     ]
    }
   ],
   "source": [
    "#Подставим гиперпараметры:\n",
    "RandomForestClassifier(random_state=42, criterion= 'gini', min_samples_split = 7, n_estimators = 30)\n",
    "model.fit(features_downsampled, target_downsampled)\n",
    "predicted_valid = model.predict(features_valid)\n",
    "print(\"F1:\", f1_score(target_valid, predicted_valid))\n",
    "\n",
    "probabilities_valid = model.predict_proba(features_valid)\n",
    "probabilities_one_valid = probabilities_valid[:, 1]\n",
    "\n",
    "auc_roc = roc_auc_score (target_valid, probabilities_one_valid)\n",
    "\n",
    "print(\"AUC:\", auc_roc)"
   ]
  },
  {
   "cell_type": "code",
   "execution_count": 41,
   "metadata": {
    "scrolled": true
   },
   "outputs": [
    {
     "name": "stdout",
     "output_type": "stream",
     "text": [
      "Learning rate set to 0.012844\n",
      "0:\tlearn: 0.6872663\ttotal: 2.24ms\tremaining: 2.24s\n",
      "100:\tlearn: 0.4191483\ttotal: 242ms\tremaining: 2.15s\n",
      "200:\tlearn: 0.3664913\ttotal: 466ms\tremaining: 1.85s\n",
      "300:\tlearn: 0.3379682\ttotal: 672ms\tremaining: 1.56s\n",
      "400:\tlearn: 0.3162711\ttotal: 872ms\tremaining: 1.3s\n",
      "500:\tlearn: 0.2981384\ttotal: 1.08s\tremaining: 1.07s\n",
      "600:\tlearn: 0.2789369\ttotal: 1.28s\tremaining: 852ms\n",
      "700:\tlearn: 0.2635952\ttotal: 1.49s\tremaining: 636ms\n",
      "800:\tlearn: 0.2500546\ttotal: 1.69s\tremaining: 421ms\n",
      "900:\tlearn: 0.2367920\ttotal: 1.9s\tremaining: 208ms\n",
      "999:\tlearn: 0.2237312\ttotal: 2.1s\tremaining: 0us\n",
      "F1: 0.5066844919786097\n",
      "AUC: 0.8398056578685027\n"
     ]
    }
   ],
   "source": [
    "model = CatBoostClassifier(verbose=100, random_state=42)\n",
    "model.fit(features_downsampled, target_downsampled)\n",
    "predicted_valid = model.predict(features_valid)\n",
    "print(\"F1:\", f1_score(target_valid, predicted_valid))\n",
    "\n",
    "probabilities_valid = model.predict_proba(features_valid)\n",
    "probabilities_one_valid = probabilities_valid[:, 1]\n",
    "\n",
    "auc_roc = roc_auc_score (target_valid, probabilities_one_valid)\n",
    "\n",
    "print(\"AUC:\", auc_roc)"
   ]
  },
  {
   "cell_type": "markdown",
   "metadata": {},
   "source": [
    "Нет, F1 меньше чем 0.59 - это нас не устраивает."
   ]
  },
  {
   "cell_type": "markdown",
   "metadata": {},
   "source": [
    "Посмотрим, что происходит при улучшении с помощью Chane threshold:"
   ]
  },
  {
   "cell_type": "code",
   "execution_count": 42,
   "metadata": {
    "scrolled": false
   },
   "outputs": [
    {
     "name": "stdout",
     "output_type": "stream",
     "text": [
      "Threshold = 0.00 | Precision = 0.211, Recall = 1.000 | F1-score = 0.349\n",
      "Threshold = 0.05 | Precision = 0.233, Recall = 0.955 | F1-score = 0.374\n",
      "Threshold = 0.10 | Precision = 0.285, Recall = 0.882 | F1-score = 0.431\n",
      "Threshold = 0.15 | Precision = 0.332, Recall = 0.785 | F1-score = 0.467\n",
      "Threshold = 0.20 | Precision = 0.371, Recall = 0.657 | F1-score = 0.474\n",
      "Threshold = 0.25 | Precision = 0.400, Recall = 0.563 | F1-score = 0.468\n",
      "Threshold = 0.30 | Precision = 0.419, Recall = 0.459 | F1-score = 0.438\n",
      "Threshold = 0.35 | Precision = 0.460, Recall = 0.385 | F1-score = 0.420\n",
      "Threshold = 0.40 | Precision = 0.487, Recall = 0.322 | F1-score = 0.387\n",
      "Threshold = 0.45 | Precision = 0.515, Recall = 0.251 | F1-score = 0.337\n",
      "Threshold = 0.50 | Precision = 0.516, Recall = 0.187 | F1-score = 0.274\n",
      "Threshold = 0.55 | Precision = 0.586, Recall = 0.161 | F1-score = 0.252\n",
      "Threshold = 0.60 | Precision = 0.592, Recall = 0.099 | F1-score = 0.170\n",
      "Threshold = 0.65 | Precision = 0.596, Recall = 0.073 | F1-score = 0.131\n",
      "Threshold = 0.70 | Precision = 0.645, Recall = 0.047 | F1-score = 0.088\n",
      "Threshold = 0.75 | Precision = 0.706, Recall = 0.028 | F1-score = 0.055\n",
      "Threshold = 0.80 | Precision = 0.556, Recall = 0.012 | F1-score = 0.023\n",
      "Threshold = 0.85 | Precision = 0.250, Recall = 0.002 | F1-score = 0.005\n",
      "Threshold = 0.90 | Precision = 0.500, Recall = 0.002 | F1-score = 0.005\n"
     ]
    },
    {
     "data": {
      "image/png": "[encoded data removed]",
      "text/plain": [
       "<Figure size 1000x1000 with 1 Axes>"
      ]
     },
     "metadata": {},
     "output_type": "display_data"
    },
    {
     "name": "stdout",
     "output_type": "stream",
     "text": [
      "AUC: 0.7387909233050155\n"
     ]
    }
   ],
   "source": [
    "model = LogisticRegression(random_state=42, solver='liblinear', C = 1.0, max_iter = 100)\n",
    "model.fit(features_train, target_train)\n",
    "probabilities_valid = model.predict_proba(features_valid)\n",
    "probabilities_one_valid = probabilities_valid[:, 1]\n",
    "\n",
    "for threshold in np.arange(0, 0.95, 0.05):\n",
    "    predicted_valid = probabilities_one_valid > threshold\n",
    "    precision = precision_score(target_valid, predicted_valid)\n",
    "    recall = recall_score(target_valid, predicted_valid)\n",
    "    f1 = f1_score(target_valid, predicted_valid)\n",
    "    print(\"Threshold = {:.2f} | Precision = {:.3f}, Recall = {:.3f} | F1-score = {:.3f}\".format(\n",
    "        threshold, precision, recall, f1))\n",
    "\n",
    "precision, recall, thresholds = precision_recall_curve(target_valid, probabilities_valid[:, 1])    \n",
    "plt.figure(figsize=(10, 10))\n",
    "plt.step(recall, precision, where='post')\n",
    "plt.xlabel('Recall')\n",
    "plt.ylabel('Precision')\n",
    "plt.ylim([0.0, 1.05])\n",
    "plt.xlim([0.0, 1.0])\n",
    "plt.title('PR curve')\n",
    "plt.show() \n",
    "\n",
    "auc_roc = roc_auc_score (target_valid, probabilities_one_valid)\n",
    "\n",
    "print(\"AUC:\", auc_roc)"
   ]
  },
  {
   "cell_type": "code",
   "execution_count": 43,
   "metadata": {},
   "outputs": [
    {
     "name": "stdout",
     "output_type": "stream",
     "text": [
      "Threshold = 0.00 | Precision = 0.211, Recall = 1.000 | F1-score = 0.349\n",
      "Threshold = 0.05 | Precision = 0.233, Recall = 0.955 | F1-score = 0.374\n",
      "Threshold = 0.10 | Precision = 0.285, Recall = 0.882 | F1-score = 0.431\n",
      "Threshold = 0.15 | Precision = 0.332, Recall = 0.785 | F1-score = 0.467\n",
      "Threshold = 0.20 | Precision = 0.371, Recall = 0.657 | F1-score = 0.474\n",
      "Threshold = 0.25 | Precision = 0.400, Recall = 0.563 | F1-score = 0.468\n",
      "Threshold = 0.30 | Precision = 0.419, Recall = 0.459 | F1-score = 0.438\n",
      "Threshold = 0.35 | Precision = 0.460, Recall = 0.385 | F1-score = 0.420\n",
      "Threshold = 0.40 | Precision = 0.487, Recall = 0.322 | F1-score = 0.387\n",
      "Threshold = 0.45 | Precision = 0.515, Recall = 0.251 | F1-score = 0.337\n",
      "Threshold = 0.50 | Precision = 0.516, Recall = 0.187 | F1-score = 0.274\n",
      "Threshold = 0.55 | Precision = 0.586, Recall = 0.161 | F1-score = 0.252\n",
      "Threshold = 0.60 | Precision = 0.592, Recall = 0.099 | F1-score = 0.170\n",
      "Threshold = 0.65 | Precision = 0.596, Recall = 0.073 | F1-score = 0.131\n",
      "Threshold = 0.70 | Precision = 0.645, Recall = 0.047 | F1-score = 0.088\n",
      "Threshold = 0.75 | Precision = 0.706, Recall = 0.028 | F1-score = 0.055\n",
      "Threshold = 0.80 | Precision = 0.556, Recall = 0.012 | F1-score = 0.023\n",
      "Threshold = 0.85 | Precision = 0.250, Recall = 0.002 | F1-score = 0.005\n",
      "Threshold = 0.90 | Precision = 0.500, Recall = 0.002 | F1-score = 0.005\n"
     ]
    },
    {
     "data": {
      "image/png": "[encoded data removed]",
      "text/plain": [
       "<Figure size 1000x1000 with 1 Axes>"
      ]
     },
     "metadata": {},
     "output_type": "display_data"
    },
    {
     "name": "stdout",
     "output_type": "stream",
     "text": [
      "AUC: 0.7387909233050155\n"
     ]
    }
   ],
   "source": [
    "RandomForestClassifier(random_state=42, criterion= 'entropy', min_samples_split = 12, n_estimators = 10)\n",
    "model.fit(features_train, target_train)\n",
    "probabilities_valid = model.predict_proba(features_valid)\n",
    "probabilities_one_valid = probabilities_valid[:, 1]\n",
    "\n",
    "for threshold in np.arange(0, 0.95, 0.05):\n",
    "    predicted_valid = probabilities_one_valid > threshold\n",
    "    precision = precision_score(target_valid, predicted_valid)\n",
    "    recall = recall_score(target_valid, predicted_valid)\n",
    "    f1 = f1_score(target_valid, predicted_valid)\n",
    "    print(\"Threshold = {:.2f} | Precision = {:.3f}, Recall = {:.3f} | F1-score = {:.3f}\".format(\n",
    "        threshold, precision, recall, f1))\n",
    "\n",
    "precision, recall, thresholds = precision_recall_curve(target_valid, probabilities_valid[:, 1])    \n",
    "plt.figure(figsize=(10, 10))\n",
    "plt.step(recall, precision, where='post')\n",
    "plt.xlabel('Recall')\n",
    "plt.ylabel('Precision')\n",
    "plt.ylim([0.0, 1.05])\n",
    "plt.xlim([0.0, 1.0])\n",
    "plt.title('PR curve')\n",
    "plt.show()  \n",
    "\n",
    "auc_roc = roc_auc_score (target_valid, probabilities_one_valid)\n",
    "\n",
    "print(\"AUC:\", auc_roc)"
   ]
  },
  {
   "cell_type": "markdown",
   "metadata": {},
   "source": [
    "Здесь тоже не наблюдается f1, нужный нам. Вывод: В данном случае самым успешным методом улучшения модели является Upsampling."
   ]
  },
  {
   "cell_type": "code",
   "execution_count": 44,
   "metadata": {
    "scrolled": true
   },
   "outputs": [
    {
     "name": "stdout",
     "output_type": "stream",
     "text": [
      "Learning rate set to 0.02844\n",
      "0:\tlearn: 0.6775865\ttotal: 19ms\tremaining: 19s\n",
      "100:\tlearn: 0.4221508\ttotal: 1.43s\tremaining: 12.7s\n",
      "200:\tlearn: 0.3839778\ttotal: 2.45s\tremaining: 9.74s\n",
      "300:\tlearn: 0.3570495\ttotal: 3.46s\tremaining: 8.04s\n",
      "400:\tlearn: 0.3319150\ttotal: 4.47s\tremaining: 6.67s\n",
      "500:\tlearn: 0.3102748\ttotal: 5.47s\tremaining: 5.45s\n",
      "600:\tlearn: 0.2911898\ttotal: 6.48s\tremaining: 4.3s\n",
      "700:\tlearn: 0.2734897\ttotal: 7.46s\tremaining: 3.18s\n",
      "800:\tlearn: 0.2574719\ttotal: 8.41s\tremaining: 2.09s\n",
      "900:\tlearn: 0.2429422\ttotal: 9.14s\tremaining: 1s\n",
      "999:\tlearn: 0.2292046\ttotal: 9.79s\tremaining: 0us\n",
      "F1: 0.6070686070686071\n",
      "AUC: 0.8544517749984633\n"
     ]
    }
   ],
   "source": [
    "model = CatBoostClassifier(verbose=100, random_state=42)\n",
    "model.fit(features_upsampled, target_upsampled)\n",
    "predicted_valid = model.predict(features_valid)\n",
    "print(\"F1:\", f1_score(target_valid, predicted_valid))\n",
    "\n",
    "probabilities_valid = model.predict_proba(features_valid)\n",
    "probabilities_one_valid = probabilities_valid[:, 1]\n",
    "\n",
    "auc_roc = roc_auc_score (target_valid, probabilities_one_valid)\n",
    "\n",
    "print(\"AUC:\", auc_roc)"
   ]
  },
  {
   "cell_type": "markdown",
   "metadata": {},
   "source": [
    "## Тестирование модели:"
   ]
  },
  {
   "cell_type": "code",
   "execution_count": 45,
   "metadata": {
    "scrolled": false
   },
   "outputs": [
    {
     "name": "stdout",
     "output_type": "stream",
     "text": [
      "F1: 0.598984771573604\n"
     ]
    }
   ],
   "source": [
    "#Проверим на тестовой выборке нашу модель: \n",
    "predicted_test = model.predict(features_test)\n",
    "print(\"F1:\", f1_score(target_test, predicted_test))"
   ]
  },
  {
   "cell_type": "markdown",
   "metadata": {},
   "source": [
    "F1 > 0.59, тестирование модели прошло успешно, модель обучилась!"
   ]
  },
  {
   "cell_type": "code",
   "execution_count": 46,
   "metadata": {},
   "outputs": [
    {
     "name": "stdout",
     "output_type": "stream",
     "text": [
      "AUC: 0.8497858685329576\n"
     ]
    }
   ],
   "source": [
    "probabilities_test = model.predict_proba(features_test)\n",
    "probabilities_one_test = probabilities_test[:, 1]\n",
    "\n",
    "auc_roc = roc_auc_score (target_test, probabilities_one_test)\n",
    "\n",
    "print(\"AUC:\", auc_roc)"
   ]
  },
  {
   "cell_type": "markdown",
   "metadata": {},
   "source": [
    "AUC-ROC выше чем F1, и выше случайной модели (>0.5), это хороший результат. Значит, модель обучена успешно."
   ]
  },
  {
   "cell_type": "markdown",
   "metadata": {},
   "source": [
    "<b>Вывод: </b> \n",
    "\n",
    "Я подготовила данные: загрузила необходимые библиотеки, в процессе изучения данных обнаружила, что колонки названы неудобно для работы, привела их к нижнему и земному регистру. Рассмотрев отдельно целевой признак, обнаружила дисбаланс классов. Удалила не влияющие на обучение колонки, чтобы не загружать объемом данные, и не замедлять работу. Обнаружив значения nan, заменила их на -1. \n",
    "\n",
    "Я провела исследование задачи: поделила данные на 3 части (тренировочную, тестовую, валидационную выборки), преобразовала категориальные признаки в численные, провела масштабирование. И попробовала обучить модели до балансировки классов + подберем оптимальные гиперпараметры. Самый хороший результат показал catboost, но f1 нас так и не устроил. Посмотрим, что будем после балансировки классов. \n",
    "\n",
    "Использовала 3 метода для борьбы с дисбалансом: usampling, downsampling, change threshold. В результате лучшим оказался upsampling на алгоритме catboost. Проверим модель на тестовых данных. Да, F1 выше 0.59, AUC-ROC = 0.85. Задача выполнена, модель обучена успешно."
   ]
  }
 ],
 "metadata": {
  "ExecuteTimeLog": [
   {
    "duration": 410,
    "start_time": "2022-12-06T09:21:31.923Z"
   },
   {
    "duration": 164,
    "start_time": "2022-12-06T09:21:56.011Z"
   },
   {
    "duration": 14,
    "start_time": "2022-12-06T09:22:21.267Z"
   },
   {
    "duration": 29,
    "start_time": "2022-12-06T09:22:29.375Z"
   },
   {
    "duration": 4,
    "start_time": "2022-12-06T09:24:06.119Z"
   },
   {
    "duration": 39,
    "start_time": "2022-12-06T09:43:02.057Z"
   },
   {
    "duration": 40,
    "start_time": "2022-12-06T09:43:08.094Z"
   },
   {
    "duration": 8,
    "start_time": "2022-12-06T09:45:00.167Z"
   },
   {
    "duration": 6,
    "start_time": "2022-12-06T09:45:08.332Z"
   },
   {
    "duration": 8,
    "start_time": "2022-12-06T09:46:00.165Z"
   },
   {
    "duration": 8,
    "start_time": "2022-12-06T09:46:05.093Z"
   },
   {
    "duration": 5,
    "start_time": "2022-12-06T09:46:09.073Z"
   },
   {
    "duration": 8,
    "start_time": "2022-12-06T09:46:19.199Z"
   },
   {
    "duration": 14,
    "start_time": "2022-12-06T09:49:09.841Z"
   },
   {
    "duration": 10,
    "start_time": "2022-12-06T09:49:17.225Z"
   },
   {
    "duration": 68,
    "start_time": "2022-12-06T09:54:32.191Z"
   },
   {
    "duration": 6,
    "start_time": "2022-12-06T09:55:22.156Z"
   },
   {
    "duration": 6,
    "start_time": "2022-12-06T09:55:24.774Z"
   },
   {
    "duration": 11,
    "start_time": "2022-12-06T09:55:24.990Z"
   },
   {
    "duration": 5,
    "start_time": "2022-12-06T09:55:25.227Z"
   },
   {
    "duration": 14,
    "start_time": "2022-12-06T09:55:34.361Z"
   },
   {
    "duration": 13,
    "start_time": "2022-12-06T09:55:37.866Z"
   },
   {
    "duration": 6,
    "start_time": "2022-12-06T10:16:42.422Z"
   },
   {
    "duration": 24,
    "start_time": "2022-12-06T10:20:54.178Z"
   },
   {
    "duration": 12,
    "start_time": "2022-12-06T10:21:10.621Z"
   },
   {
    "duration": 7,
    "start_time": "2022-12-06T10:21:20.513Z"
   },
   {
    "duration": 12,
    "start_time": "2022-12-06T10:21:20.742Z"
   },
   {
    "duration": 15,
    "start_time": "2022-12-06T10:21:35.916Z"
   },
   {
    "duration": 3,
    "start_time": "2022-12-06T10:21:53.243Z"
   },
   {
    "duration": 40,
    "start_time": "2022-12-06T10:21:53.460Z"
   },
   {
    "duration": 23,
    "start_time": "2022-12-06T10:21:53.661Z"
   },
   {
    "duration": 6,
    "start_time": "2022-12-06T10:21:53.860Z"
   },
   {
    "duration": 8,
    "start_time": "2022-12-06T10:21:54.418Z"
   },
   {
    "duration": 13,
    "start_time": "2022-12-06T10:21:56.106Z"
   },
   {
    "duration": 13,
    "start_time": "2022-12-06T10:21:56.556Z"
   },
   {
    "duration": 8,
    "start_time": "2022-12-06T10:21:59.882Z"
   },
   {
    "duration": 10,
    "start_time": "2022-12-06T10:22:18.895Z"
   },
   {
    "duration": 15,
    "start_time": "2022-12-06T10:22:22.829Z"
   },
   {
    "duration": 6,
    "start_time": "2022-12-06T10:24:38.861Z"
   },
   {
    "duration": 13,
    "start_time": "2022-12-06T10:24:39.113Z"
   },
   {
    "duration": 2,
    "start_time": "2022-12-06T10:24:43.404Z"
   },
   {
    "duration": 41,
    "start_time": "2022-12-06T10:24:43.619Z"
   },
   {
    "duration": 27,
    "start_time": "2022-12-06T10:24:43.814Z"
   },
   {
    "duration": 6,
    "start_time": "2022-12-06T10:24:44.036Z"
   },
   {
    "duration": 7,
    "start_time": "2022-12-06T10:24:44.346Z"
   },
   {
    "duration": 15,
    "start_time": "2022-12-06T10:24:44.970Z"
   },
   {
    "duration": 15,
    "start_time": "2022-12-06T10:24:45.265Z"
   },
   {
    "duration": 7,
    "start_time": "2022-12-06T10:24:46.240Z"
   },
   {
    "duration": 17,
    "start_time": "2022-12-06T10:24:46.502Z"
   },
   {
    "duration": 5,
    "start_time": "2022-12-06T10:55:19.524Z"
   },
   {
    "duration": 5,
    "start_time": "2022-12-06T10:55:21.833Z"
   },
   {
    "duration": 8,
    "start_time": "2022-12-06T10:57:37.263Z"
   },
   {
    "duration": 708,
    "start_time": "2022-12-06T10:58:22.986Z"
   },
   {
    "duration": 41,
    "start_time": "2022-12-06T10:58:23.696Z"
   },
   {
    "duration": 25,
    "start_time": "2022-12-06T10:58:23.739Z"
   },
   {
    "duration": 5,
    "start_time": "2022-12-06T10:58:23.767Z"
   },
   {
    "duration": 10,
    "start_time": "2022-12-06T10:58:24.123Z"
   },
   {
    "duration": 14,
    "start_time": "2022-12-06T10:58:24.928Z"
   },
   {
    "duration": 14,
    "start_time": "2022-12-06T10:58:25.341Z"
   },
   {
    "duration": 3,
    "start_time": "2022-12-06T10:58:35.850Z"
   },
   {
    "duration": 39,
    "start_time": "2022-12-06T10:58:36.071Z"
   },
   {
    "duration": 22,
    "start_time": "2022-12-06T10:58:36.283Z"
   },
   {
    "duration": 5,
    "start_time": "2022-12-06T10:58:36.527Z"
   },
   {
    "duration": 7,
    "start_time": "2022-12-06T10:58:36.761Z"
   },
   {
    "duration": 13,
    "start_time": "2022-12-06T10:58:37.347Z"
   },
   {
    "duration": 14,
    "start_time": "2022-12-06T10:58:37.717Z"
   },
   {
    "duration": 4,
    "start_time": "2022-12-06T10:58:38.707Z"
   },
   {
    "duration": 7,
    "start_time": "2022-12-06T10:58:39.035Z"
   },
   {
    "duration": 9,
    "start_time": "2022-12-06T11:01:54.406Z"
   },
   {
    "duration": 4,
    "start_time": "2022-12-06T11:03:39.767Z"
   },
   {
    "duration": 8,
    "start_time": "2022-12-06T11:03:39.923Z"
   },
   {
    "duration": 9,
    "start_time": "2022-12-06T11:03:54.554Z"
   },
   {
    "duration": 12,
    "start_time": "2022-12-06T11:04:22.074Z"
   },
   {
    "duration": 8,
    "start_time": "2022-12-06T11:04:35.935Z"
   },
   {
    "duration": 7,
    "start_time": "2022-12-06T11:05:06.621Z"
   },
   {
    "duration": 7,
    "start_time": "2022-12-06T11:05:37.755Z"
   },
   {
    "duration": 6,
    "start_time": "2022-12-06T11:06:06.719Z"
   },
   {
    "duration": 7,
    "start_time": "2022-12-06T11:06:47.368Z"
   },
   {
    "duration": 6,
    "start_time": "2022-12-06T11:06:47.595Z"
   },
   {
    "duration": 7,
    "start_time": "2022-12-06T11:06:47.848Z"
   },
   {
    "duration": 13,
    "start_time": "2022-12-06T11:07:26.781Z"
   },
   {
    "duration": 18,
    "start_time": "2022-12-06T11:07:59.603Z"
   },
   {
    "duration": 3,
    "start_time": "2022-12-06T11:19:17.644Z"
   },
   {
    "duration": 25,
    "start_time": "2022-12-06T11:20:53.698Z"
   },
   {
    "duration": 24,
    "start_time": "2022-12-06T11:21:29.967Z"
   },
   {
    "duration": 20,
    "start_time": "2022-12-06T11:22:28.698Z"
   },
   {
    "duration": 21,
    "start_time": "2022-12-06T11:22:55.011Z"
   },
   {
    "duration": 3,
    "start_time": "2022-12-06T11:31:49.601Z"
   },
   {
    "duration": 41,
    "start_time": "2022-12-06T11:31:49.806Z"
   },
   {
    "duration": 26,
    "start_time": "2022-12-06T11:31:50.034Z"
   },
   {
    "duration": 6,
    "start_time": "2022-12-06T11:31:50.212Z"
   },
   {
    "duration": 9,
    "start_time": "2022-12-06T11:31:50.462Z"
   },
   {
    "duration": 16,
    "start_time": "2022-12-06T11:31:51.090Z"
   },
   {
    "duration": 21,
    "start_time": "2022-12-06T11:31:51.358Z"
   },
   {
    "duration": 5,
    "start_time": "2022-12-06T11:31:52.350Z"
   },
   {
    "duration": 10,
    "start_time": "2022-12-06T11:31:52.608Z"
   },
   {
    "duration": 9,
    "start_time": "2022-12-06T11:31:53.117Z"
   },
   {
    "duration": 8,
    "start_time": "2022-12-06T11:31:53.219Z"
   },
   {
    "duration": 8,
    "start_time": "2022-12-06T11:31:53.616Z"
   },
   {
    "duration": 33,
    "start_time": "2022-12-06T11:31:53.998Z"
   },
   {
    "duration": 23,
    "start_time": "2022-12-06T11:31:54.896Z"
   },
   {
    "duration": 20,
    "start_time": "2022-12-06T11:31:55.173Z"
   },
   {
    "duration": 562,
    "start_time": "2022-12-06T11:38:34.905Z"
   },
   {
    "duration": 42,
    "start_time": "2022-12-06T11:38:37.313Z"
   },
   {
    "duration": 25,
    "start_time": "2022-12-06T11:38:37.483Z"
   },
   {
    "duration": 6,
    "start_time": "2022-12-06T11:38:37.637Z"
   },
   {
    "duration": 8,
    "start_time": "2022-12-06T11:38:37.804Z"
   },
   {
    "duration": 13,
    "start_time": "2022-12-06T11:38:38.280Z"
   },
   {
    "duration": 14,
    "start_time": "2022-12-06T11:38:38.453Z"
   },
   {
    "duration": 4,
    "start_time": "2022-12-06T11:38:38.983Z"
   },
   {
    "duration": 8,
    "start_time": "2022-12-06T11:38:39.168Z"
   },
   {
    "duration": 9,
    "start_time": "2022-12-06T11:38:39.337Z"
   },
   {
    "duration": 8,
    "start_time": "2022-12-06T11:38:39.676Z"
   },
   {
    "duration": 8,
    "start_time": "2022-12-06T11:38:39.980Z"
   },
   {
    "duration": 28,
    "start_time": "2022-12-06T11:38:40.286Z"
   },
   {
    "duration": 19,
    "start_time": "2022-12-06T11:38:40.539Z"
   },
   {
    "duration": 19,
    "start_time": "2022-12-06T11:38:40.847Z"
   },
   {
    "duration": 3,
    "start_time": "2022-12-06T11:44:52.078Z"
   },
   {
    "duration": 2,
    "start_time": "2022-12-06T11:45:36.504Z"
   },
   {
    "duration": 80,
    "start_time": "2022-12-06T11:46:50.396Z"
   },
   {
    "duration": 8,
    "start_time": "2022-12-06T11:47:10.097Z"
   },
   {
    "duration": 40,
    "start_time": "2022-12-06T11:47:10.312Z"
   },
   {
    "duration": 22,
    "start_time": "2022-12-06T11:47:10.522Z"
   },
   {
    "duration": 7,
    "start_time": "2022-12-06T11:47:10.726Z"
   },
   {
    "duration": 7,
    "start_time": "2022-12-06T11:47:10.927Z"
   },
   {
    "duration": 13,
    "start_time": "2022-12-06T11:47:11.337Z"
   },
   {
    "duration": 14,
    "start_time": "2022-12-06T11:47:11.532Z"
   },
   {
    "duration": 5,
    "start_time": "2022-12-06T11:47:12.167Z"
   },
   {
    "duration": 8,
    "start_time": "2022-12-06T11:47:12.489Z"
   },
   {
    "duration": 7,
    "start_time": "2022-12-06T11:47:12.717Z"
   },
   {
    "duration": 7,
    "start_time": "2022-12-06T11:47:12.980Z"
   },
   {
    "duration": 6,
    "start_time": "2022-12-06T11:47:13.269Z"
   },
   {
    "duration": 23,
    "start_time": "2022-12-06T11:47:13.648Z"
   },
   {
    "duration": 18,
    "start_time": "2022-12-06T11:47:14.357Z"
   },
   {
    "duration": 19,
    "start_time": "2022-12-06T11:47:14.854Z"
   },
   {
    "duration": 20,
    "start_time": "2022-12-06T11:47:16.187Z"
   },
   {
    "duration": 4,
    "start_time": "2022-12-06T11:47:55.721Z"
   },
   {
    "duration": 8,
    "start_time": "2022-12-06T11:47:55.898Z"
   },
   {
    "duration": 7,
    "start_time": "2022-12-06T11:47:56.075Z"
   },
   {
    "duration": 6,
    "start_time": "2022-12-06T11:47:56.267Z"
   },
   {
    "duration": 7,
    "start_time": "2022-12-06T11:47:56.495Z"
   },
   {
    "duration": 25,
    "start_time": "2022-12-06T11:48:02.648Z"
   },
   {
    "duration": 6,
    "start_time": "2022-12-06T11:49:50.636Z"
   },
   {
    "duration": 15,
    "start_time": "2022-12-06T11:50:07.733Z"
   },
   {
    "duration": 15,
    "start_time": "2022-12-06T11:50:33.146Z"
   },
   {
    "duration": 14,
    "start_time": "2022-12-06T11:50:50.904Z"
   },
   {
    "duration": 7,
    "start_time": "2022-12-06T11:50:56.148Z"
   },
   {
    "duration": 43,
    "start_time": "2022-12-06T11:50:56.332Z"
   },
   {
    "duration": 23,
    "start_time": "2022-12-06T11:50:56.499Z"
   },
   {
    "duration": 6,
    "start_time": "2022-12-06T11:50:56.695Z"
   },
   {
    "duration": 8,
    "start_time": "2022-12-06T11:50:56.868Z"
   },
   {
    "duration": 15,
    "start_time": "2022-12-06T11:50:57.232Z"
   },
   {
    "duration": 12,
    "start_time": "2022-12-06T11:50:57.553Z"
   },
   {
    "duration": 5,
    "start_time": "2022-12-06T11:50:58.129Z"
   },
   {
    "duration": 7,
    "start_time": "2022-12-06T11:50:58.313Z"
   },
   {
    "duration": 7,
    "start_time": "2022-12-06T11:50:58.485Z"
   },
   {
    "duration": 6,
    "start_time": "2022-12-06T11:50:58.667Z"
   },
   {
    "duration": 7,
    "start_time": "2022-12-06T11:50:58.861Z"
   },
   {
    "duration": 10,
    "start_time": "2022-12-06T11:50:59.292Z"
   },
   {
    "duration": 23,
    "start_time": "2022-12-06T11:51:01.560Z"
   },
   {
    "duration": 19,
    "start_time": "2022-12-06T11:51:02.123Z"
   },
   {
    "duration": 93,
    "start_time": "2022-12-06T11:51:04.838Z"
   },
   {
    "duration": 22,
    "start_time": "2022-12-06T11:51:05.823Z"
   },
   {
    "duration": 10,
    "start_time": "2022-12-06T11:51:52.115Z"
   },
   {
    "duration": 7,
    "start_time": "2022-12-06T11:51:57.351Z"
   },
   {
    "duration": 13,
    "start_time": "2022-12-06T11:52:06.686Z"
   },
   {
    "duration": 11,
    "start_time": "2022-12-06T11:53:03.808Z"
   },
   {
    "duration": 12,
    "start_time": "2022-12-06T11:53:45.748Z"
   },
   {
    "duration": 20,
    "start_time": "2022-12-06T11:55:14.572Z"
   },
   {
    "duration": 19,
    "start_time": "2022-12-06T11:55:42.098Z"
   },
   {
    "duration": 14,
    "start_time": "2022-12-06T11:56:08.083Z"
   },
   {
    "duration": 17,
    "start_time": "2022-12-06T11:56:26.946Z"
   },
   {
    "duration": 13,
    "start_time": "2022-12-06T11:56:39.638Z"
   },
   {
    "duration": 14,
    "start_time": "2022-12-06T11:56:42.868Z"
   },
   {
    "duration": 7,
    "start_time": "2022-12-06T11:56:48.619Z"
   },
   {
    "duration": 39,
    "start_time": "2022-12-06T11:56:48.823Z"
   },
   {
    "duration": 25,
    "start_time": "2022-12-06T11:56:49.045Z"
   },
   {
    "duration": 6,
    "start_time": "2022-12-06T11:56:49.235Z"
   },
   {
    "duration": 7,
    "start_time": "2022-12-06T11:56:49.441Z"
   },
   {
    "duration": 11,
    "start_time": "2022-12-06T11:56:49.884Z"
   },
   {
    "duration": 14,
    "start_time": "2022-12-06T11:56:50.135Z"
   },
   {
    "duration": 4,
    "start_time": "2022-12-06T11:56:50.800Z"
   },
   {
    "duration": 7,
    "start_time": "2022-12-06T11:56:51.055Z"
   },
   {
    "duration": 6,
    "start_time": "2022-12-06T11:56:51.303Z"
   },
   {
    "duration": 6,
    "start_time": "2022-12-06T11:56:51.562Z"
   },
   {
    "duration": 7,
    "start_time": "2022-12-06T11:56:51.813Z"
   },
   {
    "duration": 4,
    "start_time": "2022-12-06T11:56:52.041Z"
   },
   {
    "duration": 6,
    "start_time": "2022-12-06T11:56:53.073Z"
   },
   {
    "duration": 24,
    "start_time": "2022-12-06T11:56:54.927Z"
   },
   {
    "duration": 17,
    "start_time": "2022-12-06T11:56:55.156Z"
   },
   {
    "duration": 16,
    "start_time": "2022-12-06T11:56:55.386Z"
   },
   {
    "duration": 12,
    "start_time": "2022-12-06T11:56:56.175Z"
   },
   {
    "duration": 19,
    "start_time": "2022-12-06T11:56:56.794Z"
   },
   {
    "duration": 1520,
    "start_time": "2022-12-06T15:02:23.212Z"
   },
   {
    "duration": 87,
    "start_time": "2022-12-06T15:02:24.734Z"
   },
   {
    "duration": 36,
    "start_time": "2022-12-06T15:02:24.823Z"
   },
   {
    "duration": 7,
    "start_time": "2022-12-06T15:02:25.029Z"
   },
   {
    "duration": 7,
    "start_time": "2022-12-06T15:02:25.773Z"
   },
   {
    "duration": 13,
    "start_time": "2022-12-06T15:02:26.560Z"
   },
   {
    "duration": 13,
    "start_time": "2022-12-06T15:02:26.960Z"
   },
   {
    "duration": 4,
    "start_time": "2022-12-06T15:02:28.448Z"
   },
   {
    "duration": 9,
    "start_time": "2022-12-06T15:02:28.783Z"
   },
   {
    "duration": 7,
    "start_time": "2022-12-06T15:02:29.040Z"
   },
   {
    "duration": 6,
    "start_time": "2022-12-06T15:02:29.326Z"
   },
   {
    "duration": 6,
    "start_time": "2022-12-06T15:02:29.714Z"
   },
   {
    "duration": 4,
    "start_time": "2022-12-06T15:02:30.030Z"
   },
   {
    "duration": 5,
    "start_time": "2022-12-06T15:02:30.547Z"
   },
   {
    "duration": 21,
    "start_time": "2022-12-06T15:02:30.907Z"
   },
   {
    "duration": 16,
    "start_time": "2022-12-06T15:02:31.270Z"
   },
   {
    "duration": 15,
    "start_time": "2022-12-06T15:02:31.697Z"
   },
   {
    "duration": 117,
    "start_time": "2022-12-06T15:02:32.614Z"
   },
   {
    "duration": 8,
    "start_time": "2022-12-06T15:05:02.734Z"
   },
   {
    "duration": 8,
    "start_time": "2022-12-06T15:05:25.784Z"
   },
   {
    "duration": 6,
    "start_time": "2022-12-06T15:05:52.055Z"
   },
   {
    "duration": 6,
    "start_time": "2022-12-06T15:05:52.595Z"
   },
   {
    "duration": 5,
    "start_time": "2022-12-06T15:06:16.144Z"
   },
   {
    "duration": 5,
    "start_time": "2022-12-06T15:06:43.172Z"
   },
   {
    "duration": 4,
    "start_time": "2022-12-06T15:08:10.797Z"
   },
   {
    "duration": 4,
    "start_time": "2022-12-06T15:08:17.623Z"
   },
   {
    "duration": 4,
    "start_time": "2022-12-06T15:08:19.610Z"
   },
   {
    "duration": 24,
    "start_time": "2022-12-06T15:08:19.802Z"
   },
   {
    "duration": 4,
    "start_time": "2022-12-06T15:09:48.114Z"
   },
   {
    "duration": 3,
    "start_time": "2022-12-06T15:09:52.891Z"
   },
   {
    "duration": 4,
    "start_time": "2022-12-06T15:09:53.113Z"
   },
   {
    "duration": 4,
    "start_time": "2022-12-06T15:09:53.310Z"
   },
   {
    "duration": 25,
    "start_time": "2022-12-06T15:09:55.025Z"
   },
   {
    "duration": 4,
    "start_time": "2022-12-06T15:10:26.131Z"
   },
   {
    "duration": 5,
    "start_time": "2022-12-06T15:10:26.824Z"
   },
   {
    "duration": 4,
    "start_time": "2022-12-06T15:10:27.714Z"
   },
   {
    "duration": 3,
    "start_time": "2022-12-06T15:10:28.154Z"
   },
   {
    "duration": 4,
    "start_time": "2022-12-06T15:10:28.532Z"
   },
   {
    "duration": 4,
    "start_time": "2022-12-06T15:10:28.878Z"
   },
   {
    "duration": 7,
    "start_time": "2022-12-06T15:10:36.346Z"
   },
   {
    "duration": 39,
    "start_time": "2022-12-06T15:10:36.543Z"
   },
   {
    "duration": 23,
    "start_time": "2022-12-06T15:10:36.721Z"
   },
   {
    "duration": 5,
    "start_time": "2022-12-06T15:10:36.910Z"
   },
   {
    "duration": 8,
    "start_time": "2022-12-06T15:10:37.129Z"
   },
   {
    "duration": 11,
    "start_time": "2022-12-06T15:10:37.538Z"
   },
   {
    "duration": 12,
    "start_time": "2022-12-06T15:10:37.738Z"
   },
   {
    "duration": 4,
    "start_time": "2022-12-06T15:10:38.352Z"
   },
   {
    "duration": 7,
    "start_time": "2022-12-06T15:10:38.565Z"
   },
   {
    "duration": 7,
    "start_time": "2022-12-06T15:10:38.758Z"
   },
   {
    "duration": 6,
    "start_time": "2022-12-06T15:10:38.965Z"
   },
   {
    "duration": 7,
    "start_time": "2022-12-06T15:10:39.170Z"
   },
   {
    "duration": 5,
    "start_time": "2022-12-06T15:10:39.389Z"
   },
   {
    "duration": 7,
    "start_time": "2022-12-06T15:10:39.577Z"
   },
   {
    "duration": 21,
    "start_time": "2022-12-06T15:10:39.774Z"
   },
   {
    "duration": 16,
    "start_time": "2022-12-06T15:10:39.988Z"
   },
   {
    "duration": 17,
    "start_time": "2022-12-06T15:10:40.220Z"
   },
   {
    "duration": 7,
    "start_time": "2022-12-06T15:10:40.443Z"
   },
   {
    "duration": 7,
    "start_time": "2022-12-06T15:10:40.652Z"
   },
   {
    "duration": 6,
    "start_time": "2022-12-06T15:10:41.077Z"
   },
   {
    "duration": 5,
    "start_time": "2022-12-06T15:10:41.973Z"
   },
   {
    "duration": 5,
    "start_time": "2022-12-06T15:10:42.473Z"
   },
   {
    "duration": 4,
    "start_time": "2022-12-06T15:10:43.117Z"
   },
   {
    "duration": 6,
    "start_time": "2022-12-06T15:14:31.283Z"
   },
   {
    "duration": 36,
    "start_time": "2022-12-06T15:14:31.541Z"
   },
   {
    "duration": 20,
    "start_time": "2022-12-06T15:14:31.807Z"
   },
   {
    "duration": 7,
    "start_time": "2022-12-06T15:14:32.055Z"
   },
   {
    "duration": 7,
    "start_time": "2022-12-06T15:14:33.512Z"
   },
   {
    "duration": 10,
    "start_time": "2022-12-06T15:14:33.977Z"
   },
   {
    "duration": 14,
    "start_time": "2022-12-06T15:14:34.290Z"
   },
   {
    "duration": 4,
    "start_time": "2022-12-06T15:18:21.937Z"
   },
   {
    "duration": 5,
    "start_time": "2022-12-06T15:18:28.432Z"
   },
   {
    "duration": 39,
    "start_time": "2022-12-06T15:18:28.611Z"
   },
   {
    "duration": 20,
    "start_time": "2022-12-06T15:18:28.784Z"
   },
   {
    "duration": 6,
    "start_time": "2022-12-06T15:18:28.931Z"
   },
   {
    "duration": 7,
    "start_time": "2022-12-06T15:18:29.090Z"
   },
   {
    "duration": 11,
    "start_time": "2022-12-06T15:18:29.425Z"
   },
   {
    "duration": 13,
    "start_time": "2022-12-06T15:18:29.617Z"
   },
   {
    "duration": 4,
    "start_time": "2022-12-06T15:18:30.212Z"
   },
   {
    "duration": 8,
    "start_time": "2022-12-06T15:18:30.410Z"
   },
   {
    "duration": 7,
    "start_time": "2022-12-06T15:18:30.573Z"
   },
   {
    "duration": 6,
    "start_time": "2022-12-06T15:18:30.752Z"
   },
   {
    "duration": 6,
    "start_time": "2022-12-06T15:18:30.944Z"
   },
   {
    "duration": 5,
    "start_time": "2022-12-06T15:18:31.152Z"
   },
   {
    "duration": 6,
    "start_time": "2022-12-06T15:18:31.361Z"
   },
   {
    "duration": 20,
    "start_time": "2022-12-06T15:18:31.686Z"
   },
   {
    "duration": 25,
    "start_time": "2022-12-06T15:18:31.972Z"
   },
   {
    "duration": 17,
    "start_time": "2022-12-06T15:18:32.341Z"
   },
   {
    "duration": 5,
    "start_time": "2022-12-06T15:18:33.072Z"
   },
   {
    "duration": 15,
    "start_time": "2022-12-06T15:19:12.024Z"
   },
   {
    "duration": 7,
    "start_time": "2022-12-06T15:19:21.602Z"
   },
   {
    "duration": 37,
    "start_time": "2022-12-06T15:19:21.826Z"
   },
   {
    "duration": 23,
    "start_time": "2022-12-06T15:19:22.033Z"
   },
   {
    "duration": 5,
    "start_time": "2022-12-06T15:19:22.265Z"
   },
   {
    "duration": 7,
    "start_time": "2022-12-06T15:19:22.542Z"
   },
   {
    "duration": 13,
    "start_time": "2022-12-06T15:19:23.537Z"
   },
   {
    "duration": 13,
    "start_time": "2022-12-06T15:19:23.926Z"
   },
   {
    "duration": 13,
    "start_time": "2022-12-06T15:19:25.153Z"
   },
   {
    "duration": 5,
    "start_time": "2022-12-06T15:20:00.462Z"
   },
   {
    "duration": 5,
    "start_time": "2022-12-06T15:20:00.955Z"
   },
   {
    "duration": 5,
    "start_time": "2022-12-06T15:20:13.813Z"
   },
   {
    "duration": 14,
    "start_time": "2022-12-06T15:20:36.630Z"
   },
   {
    "duration": 5,
    "start_time": "2022-12-06T15:20:40.600Z"
   },
   {
    "duration": 5,
    "start_time": "2022-12-06T15:20:41.843Z"
   },
   {
    "duration": 4,
    "start_time": "2022-12-06T15:21:24.601Z"
   },
   {
    "duration": 5,
    "start_time": "2022-12-06T15:21:43.918Z"
   },
   {
    "duration": 5,
    "start_time": "2022-12-06T15:21:44.181Z"
   },
   {
    "duration": 10,
    "start_time": "2022-12-06T15:21:44.913Z"
   },
   {
    "duration": 5,
    "start_time": "2022-12-06T15:21:45.273Z"
   },
   {
    "duration": 13,
    "start_time": "2022-12-06T15:23:23.489Z"
   },
   {
    "duration": 20,
    "start_time": "2022-12-06T15:23:24.504Z"
   },
   {
    "duration": 7,
    "start_time": "2022-12-06T15:23:30.843Z"
   },
   {
    "duration": 38,
    "start_time": "2022-12-06T15:23:31.045Z"
   },
   {
    "duration": 20,
    "start_time": "2022-12-06T15:23:31.224Z"
   },
   {
    "duration": 5,
    "start_time": "2022-12-06T15:23:31.392Z"
   },
   {
    "duration": 7,
    "start_time": "2022-12-06T15:23:31.560Z"
   },
   {
    "duration": 11,
    "start_time": "2022-12-06T15:23:31.902Z"
   },
   {
    "duration": 13,
    "start_time": "2022-12-06T15:23:32.079Z"
   },
   {
    "duration": 4,
    "start_time": "2022-12-06T15:23:32.621Z"
   },
   {
    "duration": 8,
    "start_time": "2022-12-06T15:23:32.814Z"
   },
   {
    "duration": 8,
    "start_time": "2022-12-06T15:23:33.003Z"
   },
   {
    "duration": 6,
    "start_time": "2022-12-06T15:23:33.177Z"
   },
   {
    "duration": 7,
    "start_time": "2022-12-06T15:23:33.359Z"
   },
   {
    "duration": 5,
    "start_time": "2022-12-06T15:23:33.554Z"
   },
   {
    "duration": 6,
    "start_time": "2022-12-06T15:23:33.732Z"
   },
   {
    "duration": 22,
    "start_time": "2022-12-06T15:23:33.913Z"
   },
   {
    "duration": 16,
    "start_time": "2022-12-06T15:23:34.127Z"
   },
   {
    "duration": 73,
    "start_time": "2022-12-06T15:23:34.316Z"
   },
   {
    "duration": 5,
    "start_time": "2022-12-06T15:23:34.729Z"
   },
   {
    "duration": 5,
    "start_time": "2022-12-06T15:23:34.962Z"
   },
   {
    "duration": 14,
    "start_time": "2022-12-06T15:23:35.205Z"
   },
   {
    "duration": 22,
    "start_time": "2022-12-06T15:23:35.436Z"
   },
   {
    "duration": 6,
    "start_time": "2022-12-06T15:24:06.328Z"
   },
   {
    "duration": 5,
    "start_time": "2022-12-06T15:24:15.290Z"
   },
   {
    "duration": 11,
    "start_time": "2022-12-06T15:24:20.262Z"
   },
   {
    "duration": 15,
    "start_time": "2022-12-06T15:24:20.335Z"
   },
   {
    "duration": 2,
    "start_time": "2022-12-06T15:25:15.112Z"
   },
   {
    "duration": 15,
    "start_time": "2022-12-06T15:25:17.396Z"
   },
   {
    "duration": 4,
    "start_time": "2022-12-06T15:25:30.823Z"
   },
   {
    "duration": 5,
    "start_time": "2022-12-06T15:25:31.420Z"
   },
   {
    "duration": 3,
    "start_time": "2022-12-06T15:25:31.706Z"
   },
   {
    "duration": 18,
    "start_time": "2022-12-06T15:25:35.629Z"
   },
   {
    "duration": 4,
    "start_time": "2022-12-06T15:27:22.333Z"
   },
   {
    "duration": 4,
    "start_time": "2022-12-06T15:27:22.776Z"
   },
   {
    "duration": 17,
    "start_time": "2022-12-06T15:27:26.044Z"
   },
   {
    "duration": 5,
    "start_time": "2022-12-06T15:28:14.204Z"
   },
   {
    "duration": 17,
    "start_time": "2022-12-06T15:28:14.871Z"
   },
   {
    "duration": 5,
    "start_time": "2022-12-06T15:28:18.902Z"
   },
   {
    "duration": 5,
    "start_time": "2022-12-06T15:28:19.160Z"
   },
   {
    "duration": 2,
    "start_time": "2022-12-06T15:28:19.379Z"
   },
   {
    "duration": 4,
    "start_time": "2022-12-06T15:28:19.625Z"
   },
   {
    "duration": 17,
    "start_time": "2022-12-06T15:28:20.032Z"
   },
   {
    "duration": 6,
    "start_time": "2022-12-06T15:28:38.287Z"
   },
   {
    "duration": 38,
    "start_time": "2022-12-06T15:28:38.473Z"
   },
   {
    "duration": 20,
    "start_time": "2022-12-06T15:28:38.672Z"
   },
   {
    "duration": 5,
    "start_time": "2022-12-06T15:28:38.827Z"
   },
   {
    "duration": 7,
    "start_time": "2022-12-06T15:28:39.012Z"
   },
   {
    "duration": 13,
    "start_time": "2022-12-06T15:28:39.356Z"
   },
   {
    "duration": 13,
    "start_time": "2022-12-06T15:28:39.522Z"
   },
   {
    "duration": 4,
    "start_time": "2022-12-06T15:28:40.097Z"
   },
   {
    "duration": 9,
    "start_time": "2022-12-06T15:28:40.303Z"
   },
   {
    "duration": 8,
    "start_time": "2022-12-06T15:28:40.531Z"
   },
   {
    "duration": 6,
    "start_time": "2022-12-06T15:28:40.770Z"
   },
   {
    "duration": 7,
    "start_time": "2022-12-06T15:28:41.042Z"
   },
   {
    "duration": 5,
    "start_time": "2022-12-06T15:28:41.341Z"
   },
   {
    "duration": 5,
    "start_time": "2022-12-06T15:28:41.614Z"
   },
   {
    "duration": 21,
    "start_time": "2022-12-06T15:28:41.874Z"
   },
   {
    "duration": 16,
    "start_time": "2022-12-06T15:28:42.147Z"
   },
   {
    "duration": 17,
    "start_time": "2022-12-06T15:28:42.421Z"
   },
   {
    "duration": 4,
    "start_time": "2022-12-06T15:28:43.008Z"
   },
   {
    "duration": 6,
    "start_time": "2022-12-06T15:28:43.341Z"
   },
   {
    "duration": 4,
    "start_time": "2022-12-06T15:28:43.798Z"
   },
   {
    "duration": 5,
    "start_time": "2022-12-06T15:28:44.177Z"
   },
   {
    "duration": 28,
    "start_time": "2022-12-06T15:28:44.732Z"
   },
   {
    "duration": 5,
    "start_time": "2022-12-06T15:28:52.595Z"
   },
   {
    "duration": 13,
    "start_time": "2022-12-06T15:29:52.306Z"
   },
   {
    "duration": 6,
    "start_time": "2022-12-06T15:30:45.678Z"
   },
   {
    "duration": 5,
    "start_time": "2022-12-06T15:30:49.561Z"
   },
   {
    "duration": 11,
    "start_time": "2022-12-06T15:31:28.594Z"
   },
   {
    "duration": 5,
    "start_time": "2022-12-06T15:31:48.342Z"
   },
   {
    "duration": 5,
    "start_time": "2022-12-06T15:31:56.232Z"
   },
   {
    "duration": 6,
    "start_time": "2022-12-06T15:31:59.455Z"
   },
   {
    "duration": 6,
    "start_time": "2022-12-06T15:31:59.669Z"
   },
   {
    "duration": 5,
    "start_time": "2022-12-06T15:31:59.902Z"
   },
   {
    "duration": 6,
    "start_time": "2022-12-06T15:32:02.795Z"
   },
   {
    "duration": 38,
    "start_time": "2022-12-06T15:32:02.976Z"
   },
   {
    "duration": 20,
    "start_time": "2022-12-06T15:32:03.173Z"
   },
   {
    "duration": 6,
    "start_time": "2022-12-06T15:32:03.611Z"
   },
   {
    "duration": 9,
    "start_time": "2022-12-06T15:32:05.009Z"
   },
   {
    "duration": 12,
    "start_time": "2022-12-06T15:32:05.602Z"
   },
   {
    "duration": 15,
    "start_time": "2022-12-06T15:32:05.954Z"
   },
   {
    "duration": 6,
    "start_time": "2022-12-06T15:32:06.578Z"
   },
   {
    "duration": 6,
    "start_time": "2022-12-06T15:32:07.817Z"
   },
   {
    "duration": 6,
    "start_time": "2022-12-06T15:32:08.056Z"
   },
   {
    "duration": 4,
    "start_time": "2022-12-06T15:32:09.339Z"
   },
   {
    "duration": 7,
    "start_time": "2022-12-06T15:32:09.502Z"
   },
   {
    "duration": 7,
    "start_time": "2022-12-06T15:32:09.716Z"
   },
   {
    "duration": 6,
    "start_time": "2022-12-06T15:32:09.891Z"
   },
   {
    "duration": 6,
    "start_time": "2022-12-06T15:32:10.087Z"
   },
   {
    "duration": 4,
    "start_time": "2022-12-06T15:32:10.301Z"
   },
   {
    "duration": 6,
    "start_time": "2022-12-06T15:32:10.516Z"
   },
   {
    "duration": 21,
    "start_time": "2022-12-06T15:32:10.722Z"
   },
   {
    "duration": 17,
    "start_time": "2022-12-06T15:32:11.014Z"
   },
   {
    "duration": 17,
    "start_time": "2022-12-06T15:32:11.293Z"
   },
   {
    "duration": 4,
    "start_time": "2022-12-06T15:32:11.825Z"
   },
   {
    "duration": 5,
    "start_time": "2022-12-06T15:32:12.151Z"
   },
   {
    "duration": 4,
    "start_time": "2022-12-06T15:32:12.464Z"
   },
   {
    "duration": 5,
    "start_time": "2022-12-06T15:32:13.409Z"
   },
   {
    "duration": 5,
    "start_time": "2022-12-06T15:32:13.787Z"
   },
   {
    "duration": 24,
    "start_time": "2022-12-06T15:32:14.321Z"
   },
   {
    "duration": 5,
    "start_time": "2022-12-06T15:33:07.366Z"
   },
   {
    "duration": 5,
    "start_time": "2022-12-06T15:33:07.702Z"
   },
   {
    "duration": 6,
    "start_time": "2022-12-06T15:33:51.761Z"
   },
   {
    "duration": 10,
    "start_time": "2022-12-06T15:34:05.371Z"
   },
   {
    "duration": 6,
    "start_time": "2022-12-06T15:34:11.200Z"
   },
   {
    "duration": 6,
    "start_time": "2022-12-06T15:34:22.384Z"
   },
   {
    "duration": 6,
    "start_time": "2022-12-06T15:34:27.296Z"
   },
   {
    "duration": 10,
    "start_time": "2022-12-06T15:34:31.971Z"
   },
   {
    "duration": 5,
    "start_time": "2022-12-06T15:35:00.445Z"
   },
   {
    "duration": 5,
    "start_time": "2022-12-06T15:35:00.818Z"
   },
   {
    "duration": 61,
    "start_time": "2022-12-06T15:36:44.615Z"
   },
   {
    "duration": 22,
    "start_time": "2022-12-06T15:37:16.093Z"
   },
   {
    "duration": 72,
    "start_time": "2022-12-06T15:41:13.888Z"
   },
   {
    "duration": 71,
    "start_time": "2022-12-06T15:42:09.153Z"
   },
   {
    "duration": 3052,
    "start_time": "2022-12-06T15:42:39.175Z"
   },
   {
    "duration": 2607,
    "start_time": "2022-12-06T15:43:27.792Z"
   },
   {
    "duration": 45,
    "start_time": "2022-12-06T15:44:06.904Z"
   },
   {
    "duration": 703,
    "start_time": "2022-12-06T15:45:31.986Z"
   },
   {
    "duration": 6,
    "start_time": "2022-12-06T15:45:58.908Z"
   },
   {
    "duration": 37,
    "start_time": "2022-12-06T15:45:59.182Z"
   },
   {
    "duration": 20,
    "start_time": "2022-12-06T15:45:59.434Z"
   },
   {
    "duration": 6,
    "start_time": "2022-12-06T15:45:59.688Z"
   },
   {
    "duration": 7,
    "start_time": "2022-12-06T15:46:00.123Z"
   },
   {
    "duration": 12,
    "start_time": "2022-12-06T15:46:01.081Z"
   },
   {
    "duration": 15,
    "start_time": "2022-12-06T15:46:01.721Z"
   },
   {
    "duration": 5,
    "start_time": "2022-12-06T15:46:02.923Z"
   },
   {
    "duration": 5,
    "start_time": "2022-12-06T15:46:03.877Z"
   },
   {
    "duration": 5,
    "start_time": "2022-12-06T15:46:04.368Z"
   },
   {
    "duration": 5,
    "start_time": "2022-12-06T15:46:05.585Z"
   },
   {
    "duration": 8,
    "start_time": "2022-12-06T15:46:06.047Z"
   },
   {
    "duration": 7,
    "start_time": "2022-12-06T15:46:06.458Z"
   },
   {
    "duration": 6,
    "start_time": "2022-12-06T15:46:07.035Z"
   },
   {
    "duration": 6,
    "start_time": "2022-12-06T15:46:07.366Z"
   },
   {
    "duration": 4,
    "start_time": "2022-12-06T15:46:07.641Z"
   },
   {
    "duration": 6,
    "start_time": "2022-12-06T15:46:07.908Z"
   },
   {
    "duration": 20,
    "start_time": "2022-12-06T15:46:08.218Z"
   },
   {
    "duration": 16,
    "start_time": "2022-12-06T15:46:08.890Z"
   },
   {
    "duration": 15,
    "start_time": "2022-12-06T15:46:09.633Z"
   },
   {
    "duration": 26,
    "start_time": "2022-12-06T15:46:10.221Z"
   },
   {
    "duration": 71,
    "start_time": "2022-12-06T15:46:11.229Z"
   },
   {
    "duration": 2501,
    "start_time": "2022-12-06T15:46:12.271Z"
   },
   {
    "duration": 8,
    "start_time": "2022-12-06T15:46:18.809Z"
   },
   {
    "duration": 8,
    "start_time": "2022-12-06T15:46:26.354Z"
   },
   {
    "duration": 33,
    "start_time": "2022-12-06T15:50:39.413Z"
   },
   {
    "duration": 37,
    "start_time": "2022-12-06T15:50:54.837Z"
   },
   {
    "duration": 102,
    "start_time": "2022-12-06T15:51:08.991Z"
   },
   {
    "duration": 4006,
    "start_time": "2022-12-06T15:51:23.063Z"
   },
   {
    "duration": 14,
    "start_time": "2022-12-06T15:52:01.617Z"
   },
   {
    "duration": 18,
    "start_time": "2022-12-06T15:52:10.677Z"
   },
   {
    "duration": 37,
    "start_time": "2022-12-06T15:52:19.074Z"
   },
   {
    "duration": 1788,
    "start_time": "2022-12-06T15:52:54.060Z"
   },
   {
    "duration": 382,
    "start_time": "2022-12-06T15:53:18.013Z"
   },
   {
    "duration": 294,
    "start_time": "2022-12-06T15:54:47.687Z"
   },
   {
    "duration": 10,
    "start_time": "2022-12-06T15:58:12.616Z"
   },
   {
    "duration": 9,
    "start_time": "2022-12-06T15:58:33.501Z"
   },
   {
    "duration": 6,
    "start_time": "2022-12-06T15:59:15.583Z"
   },
   {
    "duration": 39,
    "start_time": "2022-12-06T15:59:15.857Z"
   },
   {
    "duration": 23,
    "start_time": "2022-12-06T15:59:16.097Z"
   },
   {
    "duration": 6,
    "start_time": "2022-12-06T15:59:16.306Z"
   },
   {
    "duration": 7,
    "start_time": "2022-12-06T15:59:16.514Z"
   },
   {
    "duration": 6,
    "start_time": "2022-12-06T15:59:30.897Z"
   },
   {
    "duration": 39,
    "start_time": "2022-12-06T15:59:31.783Z"
   },
   {
    "duration": 21,
    "start_time": "2022-12-06T15:59:31.983Z"
   },
   {
    "duration": 7,
    "start_time": "2022-12-06T15:59:32.160Z"
   },
   {
    "duration": 7,
    "start_time": "2022-12-06T15:59:32.321Z"
   },
   {
    "duration": 10,
    "start_time": "2022-12-06T15:59:32.648Z"
   },
   {
    "duration": 12,
    "start_time": "2022-12-06T15:59:32.813Z"
   },
   {
    "duration": 5,
    "start_time": "2022-12-06T15:59:32.980Z"
   },
   {
    "duration": 4,
    "start_time": "2022-12-06T15:59:33.153Z"
   },
   {
    "duration": 6,
    "start_time": "2022-12-06T15:59:33.331Z"
   },
   {
    "duration": 5,
    "start_time": "2022-12-06T15:59:33.844Z"
   },
   {
    "duration": 8,
    "start_time": "2022-12-06T15:59:34.111Z"
   },
   {
    "duration": 7,
    "start_time": "2022-12-06T15:59:34.307Z"
   },
   {
    "duration": 6,
    "start_time": "2022-12-06T15:59:34.517Z"
   },
   {
    "duration": 6,
    "start_time": "2022-12-06T15:59:34.721Z"
   },
   {
    "duration": 6,
    "start_time": "2022-12-06T15:59:34.929Z"
   },
   {
    "duration": 7,
    "start_time": "2022-12-06T15:59:35.105Z"
   },
   {
    "duration": 27,
    "start_time": "2022-12-06T15:59:35.295Z"
   },
   {
    "duration": 18,
    "start_time": "2022-12-06T15:59:35.487Z"
   },
   {
    "duration": 17,
    "start_time": "2022-12-06T15:59:35.681Z"
   },
   {
    "duration": 28,
    "start_time": "2022-12-06T15:59:35.864Z"
   },
   {
    "duration": 82,
    "start_time": "2022-12-06T15:59:36.449Z"
   },
   {
    "duration": 2643,
    "start_time": "2022-12-06T15:59:36.924Z"
   },
   {
    "duration": 7,
    "start_time": "2022-12-06T15:59:39.569Z"
   },
   {
    "duration": 16,
    "start_time": "2022-12-06T15:59:39.577Z"
   },
   {
    "duration": 31,
    "start_time": "2022-12-06T15:59:39.595Z"
   },
   {
    "duration": 202,
    "start_time": "2022-12-06T15:59:39.680Z"
   },
   {
    "duration": 3975,
    "start_time": "2022-12-06T15:59:39.884Z"
   },
   {
    "duration": 12,
    "start_time": "2022-12-06T15:59:43.861Z"
   },
   {
    "duration": 15,
    "start_time": "2022-12-06T15:59:43.874Z"
   },
   {
    "duration": 213,
    "start_time": "2022-12-06T15:59:43.891Z"
   },
   {
    "duration": 1795,
    "start_time": "2022-12-06T15:59:44.106Z"
   },
   {
    "duration": 393,
    "start_time": "2022-12-06T15:59:45.902Z"
   },
   {
    "duration": 300,
    "start_time": "2022-12-06T15:59:46.296Z"
   },
   {
    "duration": 16788,
    "start_time": "2022-12-06T15:59:46.598Z"
   },
   {
    "duration": 4,
    "start_time": "2022-12-06T16:00:03.387Z"
   },
   {
    "duration": 26,
    "start_time": "2022-12-06T16:00:54.474Z"
   },
   {
    "duration": 354,
    "start_time": "2022-12-06T16:01:03.658Z"
   },
   {
    "duration": 37638,
    "start_time": "2022-12-06T16:01:28.572Z"
   },
   {
    "duration": 4,
    "start_time": "2022-12-06T16:02:06.212Z"
   },
   {
    "duration": 284,
    "start_time": "2022-12-06T16:02:32.985Z"
   },
   {
    "duration": 3,
    "start_time": "2022-12-06T16:03:09.566Z"
   },
   {
    "duration": 3220,
    "start_time": "2022-12-06T16:03:19.284Z"
   },
   {
    "duration": 9999,
    "start_time": "2022-12-06T16:03:41.153Z"
   },
   {
    "duration": 4,
    "start_time": "2022-12-06T16:03:56.159Z"
   },
   {
    "duration": 1454,
    "start_time": "2022-12-06T16:05:42.563Z"
   },
   {
    "duration": 38,
    "start_time": "2022-12-06T16:05:44.019Z"
   },
   {
    "duration": 27,
    "start_time": "2022-12-06T16:05:44.058Z"
   },
   {
    "duration": 24,
    "start_time": "2022-12-06T16:05:44.087Z"
   },
   {
    "duration": 17,
    "start_time": "2022-12-06T16:05:44.113Z"
   },
   {
    "duration": 12,
    "start_time": "2022-12-06T16:05:44.132Z"
   },
   {
    "duration": 11,
    "start_time": "2022-12-06T16:05:44.145Z"
   },
   {
    "duration": 4,
    "start_time": "2022-12-06T16:05:44.158Z"
   },
   {
    "duration": 6,
    "start_time": "2022-12-06T16:05:44.164Z"
   },
   {
    "duration": 9,
    "start_time": "2022-12-06T16:05:44.171Z"
   },
   {
    "duration": 11,
    "start_time": "2022-12-06T16:05:44.182Z"
   },
   {
    "duration": 8,
    "start_time": "2022-12-06T16:05:44.195Z"
   },
   {
    "duration": 12,
    "start_time": "2022-12-06T16:05:44.204Z"
   },
   {
    "duration": 6,
    "start_time": "2022-12-06T16:05:44.218Z"
   },
   {
    "duration": 5,
    "start_time": "2022-12-06T16:05:44.225Z"
   },
   {
    "duration": 7,
    "start_time": "2022-12-06T16:05:44.231Z"
   },
   {
    "duration": 8,
    "start_time": "2022-12-06T16:05:44.239Z"
   },
   {
    "duration": 30,
    "start_time": "2022-12-06T16:05:44.249Z"
   },
   {
    "duration": 17,
    "start_time": "2022-12-06T16:05:44.282Z"
   },
   {
    "duration": 19,
    "start_time": "2022-12-06T16:05:44.301Z"
   },
   {
    "duration": 67,
    "start_time": "2022-12-06T16:05:44.322Z"
   },
   {
    "duration": 158,
    "start_time": "2022-12-06T16:05:44.391Z"
   },
   {
    "duration": 2749,
    "start_time": "2022-12-06T16:05:44.551Z"
   },
   {
    "duration": 7,
    "start_time": "2022-12-06T16:05:47.301Z"
   },
   {
    "duration": 15,
    "start_time": "2022-12-06T16:05:47.309Z"
   },
   {
    "duration": 61,
    "start_time": "2022-12-06T16:05:47.325Z"
   },
   {
    "duration": 211,
    "start_time": "2022-12-06T16:05:47.388Z"
   },
   {
    "duration": 4271,
    "start_time": "2022-12-06T16:05:47.601Z"
   },
   {
    "duration": 12,
    "start_time": "2022-12-06T16:05:51.874Z"
   },
   {
    "duration": 24,
    "start_time": "2022-12-06T16:05:51.888Z"
   },
   {
    "duration": 202,
    "start_time": "2022-12-06T16:05:51.914Z"
   },
   {
    "duration": 1865,
    "start_time": "2022-12-06T16:05:52.118Z"
   },
   {
    "duration": 462,
    "start_time": "2022-12-06T16:05:53.988Z"
   },
   {
    "duration": 381,
    "start_time": "2022-12-06T16:05:54.452Z"
   },
   {
    "duration": 14952,
    "start_time": "2022-12-06T16:05:54.835Z"
   },
   {
    "duration": 4,
    "start_time": "2022-12-06T16:06:09.789Z"
   },
   {
    "duration": 52,
    "start_time": "2022-12-06T16:06:09.794Z"
   },
   {
    "duration": 39388,
    "start_time": "2022-12-06T16:06:09.877Z"
   },
   {
    "duration": 3,
    "start_time": "2022-12-06T16:06:49.266Z"
   },
   {
    "duration": 348,
    "start_time": "2022-12-06T16:06:49.276Z"
   },
   {
    "duration": 2,
    "start_time": "2022-12-06T16:06:49.628Z"
   },
   {
    "duration": 3450,
    "start_time": "2022-12-06T16:06:49.631Z"
   },
   {
    "duration": 8951,
    "start_time": "2022-12-06T16:06:53.083Z"
   },
   {
    "duration": 4,
    "start_time": "2022-12-06T16:07:02.035Z"
   },
   {
    "duration": 4520,
    "start_time": "2022-12-06T16:15:10.434Z"
   },
   {
    "duration": 11,
    "start_time": "2022-12-06T16:20:17.282Z"
   },
   {
    "duration": 2285,
    "start_time": "2022-12-06T16:20:42.172Z"
   },
   {
    "duration": 9,
    "start_time": "2022-12-06T16:23:42.032Z"
   },
   {
    "duration": 207,
    "start_time": "2022-12-06T16:52:59.231Z"
   },
   {
    "duration": 146,
    "start_time": "2022-12-06T16:53:28.303Z"
   },
   {
    "duration": 14,
    "start_time": "2022-12-06T16:55:16.794Z"
   },
   {
    "duration": 11,
    "start_time": "2022-12-06T16:56:38.227Z"
   },
   {
    "duration": 105,
    "start_time": "2022-12-06T16:56:52.676Z"
   },
   {
    "duration": 36,
    "start_time": "2022-12-06T16:56:52.919Z"
   },
   {
    "duration": 1831,
    "start_time": "2022-12-06T16:56:53.538Z"
   },
   {
    "duration": 258,
    "start_time": "2022-12-06T16:58:58.277Z"
   },
   {
    "duration": 155,
    "start_time": "2022-12-06T16:59:08.706Z"
   },
   {
    "duration": 332,
    "start_time": "2022-12-06T17:00:03.146Z"
   },
   {
    "duration": 434,
    "start_time": "2022-12-06T17:00:19.646Z"
   },
   {
    "duration": 292,
    "start_time": "2022-12-06T17:01:02.588Z"
   },
   {
    "duration": 17513,
    "start_time": "2022-12-06T17:03:13.672Z"
   },
   {
    "duration": 17088,
    "start_time": "2022-12-06T17:03:42.889Z"
   },
   {
    "duration": 4,
    "start_time": "2022-12-06T17:05:05.460Z"
   },
   {
    "duration": 27,
    "start_time": "2022-12-06T17:05:19.584Z"
   },
   {
    "duration": 36107,
    "start_time": "2022-12-06T17:06:25.542Z"
   },
   {
    "duration": 3,
    "start_time": "2022-12-06T17:07:01.651Z"
   },
   {
    "duration": 278,
    "start_time": "2022-12-06T17:07:07.091Z"
   },
   {
    "duration": 3,
    "start_time": "2022-12-06T17:07:59.403Z"
   },
   {
    "duration": 3,
    "start_time": "2022-12-06T17:08:20.330Z"
   },
   {
    "duration": 3897,
    "start_time": "2022-12-06T17:10:16.227Z"
   },
   {
    "duration": 13,
    "start_time": "2022-12-06T17:10:48.657Z"
   },
   {
    "duration": 2447,
    "start_time": "2022-12-06T17:10:49.311Z"
   },
   {
    "duration": 10,
    "start_time": "2022-12-06T17:11:18.344Z"
   },
   {
    "duration": 2317,
    "start_time": "2022-12-06T17:12:07.309Z"
   },
   {
    "duration": 1323,
    "start_time": "2022-12-06T17:14:10.968Z"
   },
   {
    "duration": 38,
    "start_time": "2022-12-06T17:14:12.293Z"
   },
   {
    "duration": 24,
    "start_time": "2022-12-06T17:14:12.333Z"
   },
   {
    "duration": 8,
    "start_time": "2022-12-06T17:14:12.358Z"
   },
   {
    "duration": 25,
    "start_time": "2022-12-06T17:14:12.368Z"
   },
   {
    "duration": 31,
    "start_time": "2022-12-06T17:14:12.394Z"
   },
   {
    "duration": 27,
    "start_time": "2022-12-06T17:14:12.427Z"
   },
   {
    "duration": 28,
    "start_time": "2022-12-06T17:14:12.456Z"
   },
   {
    "duration": 44,
    "start_time": "2022-12-06T17:14:12.485Z"
   },
   {
    "duration": 15,
    "start_time": "2022-12-06T17:14:12.531Z"
   },
   {
    "duration": 21,
    "start_time": "2022-12-06T17:14:12.547Z"
   },
   {
    "duration": 26,
    "start_time": "2022-12-06T17:14:12.570Z"
   },
   {
    "duration": 29,
    "start_time": "2022-12-06T17:14:12.597Z"
   },
   {
    "duration": 40,
    "start_time": "2022-12-06T17:14:12.629Z"
   },
   {
    "duration": 18,
    "start_time": "2022-12-06T17:14:12.670Z"
   },
   {
    "duration": 27,
    "start_time": "2022-12-06T17:14:12.690Z"
   },
   {
    "duration": 27,
    "start_time": "2022-12-06T17:14:12.718Z"
   },
   {
    "duration": 46,
    "start_time": "2022-12-06T17:14:12.746Z"
   },
   {
    "duration": 14,
    "start_time": "2022-12-06T17:14:12.793Z"
   },
   {
    "duration": 40,
    "start_time": "2022-12-06T17:14:12.808Z"
   },
   {
    "duration": 28,
    "start_time": "2022-12-06T17:14:12.850Z"
   },
   {
    "duration": 260,
    "start_time": "2022-12-06T17:14:12.882Z"
   },
   {
    "duration": 2714,
    "start_time": "2022-12-06T17:14:13.144Z"
   },
   {
    "duration": 7,
    "start_time": "2022-12-06T17:14:15.860Z"
   },
   {
    "duration": 14,
    "start_time": "2022-12-06T17:14:15.869Z"
   },
   {
    "duration": 30,
    "start_time": "2022-12-06T17:14:15.885Z"
   },
   {
    "duration": 184,
    "start_time": "2022-12-06T17:14:15.980Z"
   },
   {
    "duration": 3899,
    "start_time": "2022-12-06T17:14:16.176Z"
   },
   {
    "duration": 12,
    "start_time": "2022-12-06T17:14:20.076Z"
   },
   {
    "duration": 16,
    "start_time": "2022-12-06T17:14:20.089Z"
   },
   {
    "duration": 124,
    "start_time": "2022-12-06T17:14:20.176Z"
   },
   {
    "duration": 1717,
    "start_time": "2022-12-06T17:14:20.301Z"
   },
   {
    "duration": 384,
    "start_time": "2022-12-06T17:14:22.019Z"
   },
   {
    "duration": 289,
    "start_time": "2022-12-06T17:14:22.404Z"
   },
   {
    "duration": 16588,
    "start_time": "2022-12-06T17:14:22.695Z"
   },
   {
    "duration": 5,
    "start_time": "2022-12-06T17:14:39.284Z"
   },
   {
    "duration": 34,
    "start_time": "2022-12-06T17:14:39.290Z"
   },
   {
    "duration": 38865,
    "start_time": "2022-12-06T17:14:39.378Z"
   },
   {
    "duration": 3,
    "start_time": "2022-12-06T17:15:18.245Z"
   },
   {
    "duration": 317,
    "start_time": "2022-12-06T17:15:18.250Z"
   },
   {
    "duration": 4287,
    "start_time": "2022-12-06T17:15:18.575Z"
   },
   {
    "duration": 10,
    "start_time": "2022-12-06T17:15:22.864Z"
   },
   {
    "duration": 2610,
    "start_time": "2022-12-06T17:15:22.876Z"
   },
   {
    "duration": 8,
    "start_time": "2022-12-06T17:15:25.488Z"
   },
   {
    "duration": 11,
    "start_time": "2022-12-06T17:15:25.497Z"
   },
   {
    "duration": 42,
    "start_time": "2022-12-06T17:15:25.509Z"
   },
   {
    "duration": 22,
    "start_time": "2022-12-06T17:15:25.553Z"
   },
   {
    "duration": 20,
    "start_time": "2022-12-06T17:15:25.577Z"
   },
   {
    "duration": 24,
    "start_time": "2022-12-06T17:15:25.598Z"
   },
   {
    "duration": 13,
    "start_time": "2022-12-06T17:18:28.261Z"
   },
   {
    "duration": 5,
    "start_time": "2022-12-06T17:18:30.159Z"
   },
   {
    "duration": 5,
    "start_time": "2022-12-06T17:18:31.390Z"
   },
   {
    "duration": 5,
    "start_time": "2022-12-06T17:18:32.913Z"
   },
   {
    "duration": 5,
    "start_time": "2022-12-06T17:18:34.362Z"
   },
   {
    "duration": 9,
    "start_time": "2022-12-06T17:18:34.838Z"
   },
   {
    "duration": 8,
    "start_time": "2022-12-06T17:18:35.314Z"
   },
   {
    "duration": 6,
    "start_time": "2022-12-06T17:18:35.953Z"
   },
   {
    "duration": 6,
    "start_time": "2022-12-06T17:18:36.300Z"
   },
   {
    "duration": 5,
    "start_time": "2022-12-06T17:18:36.625Z"
   },
   {
    "duration": 5,
    "start_time": "2022-12-06T17:18:36.912Z"
   },
   {
    "duration": 22,
    "start_time": "2022-12-06T17:18:37.364Z"
   },
   {
    "duration": 16,
    "start_time": "2022-12-06T17:18:37.951Z"
   },
   {
    "duration": 18,
    "start_time": "2022-12-06T17:18:38.766Z"
   },
   {
    "duration": 26,
    "start_time": "2022-12-06T17:18:39.687Z"
   },
   {
    "duration": 70,
    "start_time": "2022-12-06T17:18:40.843Z"
   },
   {
    "duration": 48,
    "start_time": "2022-12-07T17:23:08.081Z"
   },
   {
    "duration": 1670,
    "start_time": "2022-12-07T17:23:13.790Z"
   },
   {
    "duration": 92,
    "start_time": "2022-12-07T17:23:15.462Z"
   },
   {
    "duration": 25,
    "start_time": "2022-12-07T17:23:15.555Z"
   },
   {
    "duration": 5,
    "start_time": "2022-12-07T17:23:15.582Z"
   },
   {
    "duration": 14,
    "start_time": "2022-12-07T17:23:15.588Z"
   },
   {
    "duration": 50,
    "start_time": "2022-12-07T17:23:15.607Z"
   },
   {
    "duration": 16,
    "start_time": "2022-12-07T17:23:15.658Z"
   },
   {
    "duration": 40,
    "start_time": "2022-12-07T17:23:15.676Z"
   },
   {
    "duration": 13,
    "start_time": "2022-12-07T17:23:15.718Z"
   },
   {
    "duration": 25,
    "start_time": "2022-12-07T17:23:15.734Z"
   },
   {
    "duration": 14,
    "start_time": "2022-12-07T17:23:15.760Z"
   },
   {
    "duration": 10,
    "start_time": "2022-12-07T17:23:15.775Z"
   },
   {
    "duration": 8,
    "start_time": "2022-12-07T17:23:15.786Z"
   },
   {
    "duration": 24,
    "start_time": "2022-12-07T17:23:15.795Z"
   },
   {
    "duration": 7,
    "start_time": "2022-12-07T17:23:15.820Z"
   },
   {
    "duration": 6,
    "start_time": "2022-12-07T17:23:15.829Z"
   },
   {
    "duration": 12,
    "start_time": "2022-12-07T17:23:15.836Z"
   },
   {
    "duration": 34,
    "start_time": "2022-12-07T17:23:15.849Z"
   },
   {
    "duration": 17,
    "start_time": "2022-12-07T17:23:15.884Z"
   },
   {
    "duration": 16,
    "start_time": "2022-12-07T17:23:15.902Z"
   },
   {
    "duration": 78,
    "start_time": "2022-12-07T17:23:15.920Z"
   },
   {
    "duration": 165,
    "start_time": "2022-12-07T17:23:16.000Z"
   },
   {
    "duration": 5576,
    "start_time": "2022-12-07T17:23:16.166Z"
   },
   {
    "duration": 7,
    "start_time": "2022-12-07T17:23:21.744Z"
   },
   {
    "duration": 19,
    "start_time": "2022-12-07T17:23:21.752Z"
   },
   {
    "duration": 34,
    "start_time": "2022-12-07T17:23:21.773Z"
   },
   {
    "duration": 267,
    "start_time": "2022-12-07T17:23:21.808Z"
   },
   {
    "duration": 4963,
    "start_time": "2022-12-07T17:23:22.078Z"
   },
   {
    "duration": 11,
    "start_time": "2022-12-07T17:23:27.043Z"
   },
   {
    "duration": 15,
    "start_time": "2022-12-07T17:23:27.056Z"
   },
   {
    "duration": 149,
    "start_time": "2022-12-07T17:23:27.072Z"
   },
   {
    "duration": 2025,
    "start_time": "2022-12-07T17:23:27.223Z"
   },
   {
    "duration": 384,
    "start_time": "2022-12-07T17:23:29.250Z"
   },
   {
    "duration": 389,
    "start_time": "2022-12-07T17:23:29.636Z"
   },
   {
    "duration": 12984,
    "start_time": "2022-12-07T17:23:30.028Z"
   },
   {
    "duration": 3,
    "start_time": "2022-12-07T17:23:43.014Z"
   },
   {
    "duration": 86,
    "start_time": "2022-12-07T17:23:43.019Z"
   },
   {
    "duration": 38739,
    "start_time": "2022-12-07T17:23:43.110Z"
   },
   {
    "duration": 5,
    "start_time": "2022-12-07T17:24:21.851Z"
   },
   {
    "duration": 326,
    "start_time": "2022-12-07T17:24:21.858Z"
   },
   {
    "duration": 4672,
    "start_time": "2022-12-07T17:24:22.186Z"
   },
   {
    "duration": 10,
    "start_time": "2022-12-07T17:24:26.860Z"
   },
   {
    "duration": 2771,
    "start_time": "2022-12-07T17:24:26.872Z"
   },
   {
    "duration": 9,
    "start_time": "2022-12-07T17:24:29.645Z"
   },
   {
    "duration": 85,
    "start_time": "2022-12-07T17:31:59.669Z"
   },
   {
    "duration": 39,
    "start_time": "2022-12-07T17:32:08.166Z"
   },
   {
    "duration": 87,
    "start_time": "2022-12-07T17:37:47.046Z"
   },
   {
    "duration": 2881,
    "start_time": "2022-12-07T17:38:02.929Z"
   },
   {
    "duration": 76,
    "start_time": "2022-12-07T17:38:21.223Z"
   },
   {
    "duration": 23,
    "start_time": "2022-12-07T17:38:41.977Z"
   },
   {
    "duration": 79,
    "start_time": "2022-12-07T17:38:46.141Z"
   },
   {
    "duration": 2667,
    "start_time": "2022-12-07T17:38:52.874Z"
   },
   {
    "duration": 4027,
    "start_time": "2022-12-07T17:40:16.608Z"
   },
   {
    "duration": 4043,
    "start_time": "2022-12-07T17:44:18.290Z"
   },
   {
    "duration": 8,
    "start_time": "2022-12-07T17:44:39.872Z"
   },
   {
    "duration": 76,
    "start_time": "2022-12-10T07:38:26.503Z"
   },
   {
    "duration": 1642,
    "start_time": "2022-12-10T07:38:33.469Z"
   },
   {
    "duration": 158,
    "start_time": "2022-12-10T07:38:35.113Z"
   },
   {
    "duration": 41,
    "start_time": "2022-12-10T07:38:35.272Z"
   },
   {
    "duration": 5,
    "start_time": "2022-12-10T07:38:35.315Z"
   },
   {
    "duration": 15,
    "start_time": "2022-12-10T07:38:35.323Z"
   },
   {
    "duration": 16,
    "start_time": "2022-12-10T07:38:35.340Z"
   },
   {
    "duration": 30,
    "start_time": "2022-12-10T07:38:35.358Z"
   },
   {
    "duration": 18,
    "start_time": "2022-12-10T07:38:35.390Z"
   },
   {
    "duration": 14,
    "start_time": "2022-12-10T07:38:35.409Z"
   },
   {
    "duration": 10,
    "start_time": "2022-12-10T07:38:35.425Z"
   },
   {
    "duration": 12,
    "start_time": "2022-12-10T07:38:35.437Z"
   },
   {
    "duration": 17,
    "start_time": "2022-12-10T07:38:35.451Z"
   },
   {
    "duration": 11,
    "start_time": "2022-12-10T07:38:35.470Z"
   },
   {
    "duration": 7,
    "start_time": "2022-12-10T07:38:35.486Z"
   },
   {
    "duration": 9,
    "start_time": "2022-12-10T07:38:35.494Z"
   },
   {
    "duration": 8,
    "start_time": "2022-12-10T07:38:35.505Z"
   },
   {
    "duration": 15,
    "start_time": "2022-12-10T07:38:35.516Z"
   },
   {
    "duration": 24,
    "start_time": "2022-12-10T07:38:35.533Z"
   },
   {
    "duration": 30,
    "start_time": "2022-12-10T07:38:35.559Z"
   },
   {
    "duration": 17,
    "start_time": "2022-12-10T07:38:35.590Z"
   },
   {
    "duration": 83,
    "start_time": "2022-12-10T07:38:35.609Z"
   },
   {
    "duration": 260,
    "start_time": "2022-12-10T07:38:35.693Z"
   },
   {
    "duration": 2968,
    "start_time": "2022-12-10T07:38:35.955Z"
   },
   {
    "duration": 9,
    "start_time": "2022-12-10T07:38:38.925Z"
   },
   {
    "duration": 15,
    "start_time": "2022-12-10T07:38:38.936Z"
   },
   {
    "duration": 47,
    "start_time": "2022-12-10T07:38:38.953Z"
   },
   {
    "duration": 276,
    "start_time": "2022-12-10T07:38:39.002Z"
   },
   {
    "duration": 4540,
    "start_time": "2022-12-10T07:38:39.280Z"
   },
   {
    "duration": 19,
    "start_time": "2022-12-10T07:38:43.823Z"
   },
   {
    "duration": 37,
    "start_time": "2022-12-10T07:38:43.844Z"
   },
   {
    "duration": 259,
    "start_time": "2022-12-10T07:38:43.883Z"
   },
   {
    "duration": 2291,
    "start_time": "2022-12-10T07:38:44.145Z"
   },
   {
    "duration": 421,
    "start_time": "2022-12-10T07:38:46.437Z"
   },
   {
    "duration": 414,
    "start_time": "2022-12-10T07:38:46.859Z"
   },
   {
    "duration": 4428,
    "start_time": "2022-12-10T07:38:47.277Z"
   },
   {
    "duration": 4573,
    "start_time": "2022-12-10T07:38:51.707Z"
   },
   {
    "duration": 9,
    "start_time": "2022-12-10T07:38:56.282Z"
   },
   {
    "duration": 111,
    "start_time": "2022-12-10T07:54:29.450Z"
   },
   {
    "duration": 13,
    "start_time": "2022-12-10T07:54:43.716Z"
   },
   {
    "duration": 117,
    "start_time": "2022-12-10T07:59:42.872Z"
   },
   {
    "duration": 33,
    "start_time": "2022-12-10T07:59:56.262Z"
   },
   {
    "duration": 49,
    "start_time": "2022-12-11T08:41:30.570Z"
   },
   {
    "duration": 1509,
    "start_time": "2022-12-11T08:41:36.916Z"
   },
   {
    "duration": 88,
    "start_time": "2022-12-11T08:41:38.427Z"
   },
   {
    "duration": 25,
    "start_time": "2022-12-11T08:41:38.516Z"
   },
   {
    "duration": 5,
    "start_time": "2022-12-11T08:41:38.542Z"
   },
   {
    "duration": 15,
    "start_time": "2022-12-11T08:41:38.549Z"
   },
   {
    "duration": 18,
    "start_time": "2022-12-11T08:41:38.565Z"
   },
   {
    "duration": 13,
    "start_time": "2022-12-11T08:41:38.584Z"
   },
   {
    "duration": 5,
    "start_time": "2022-12-11T08:41:38.598Z"
   },
   {
    "duration": 18,
    "start_time": "2022-12-11T08:41:38.604Z"
   },
   {
    "duration": 5,
    "start_time": "2022-12-11T08:41:38.624Z"
   },
   {
    "duration": 9,
    "start_time": "2022-12-11T08:41:38.630Z"
   },
   {
    "duration": 10,
    "start_time": "2022-12-11T08:41:38.641Z"
   },
   {
    "duration": 6,
    "start_time": "2022-12-11T08:41:38.653Z"
   },
   {
    "duration": 6,
    "start_time": "2022-12-11T08:41:38.661Z"
   },
   {
    "duration": 5,
    "start_time": "2022-12-11T08:41:38.668Z"
   },
   {
    "duration": 4,
    "start_time": "2022-12-11T08:41:38.675Z"
   },
   {
    "duration": 6,
    "start_time": "2022-12-11T08:41:38.680Z"
   },
   {
    "duration": 49,
    "start_time": "2022-12-11T08:41:38.687Z"
   },
   {
    "duration": 14,
    "start_time": "2022-12-11T08:41:38.737Z"
   },
   {
    "duration": 14,
    "start_time": "2022-12-11T08:41:38.752Z"
   },
   {
    "duration": 60,
    "start_time": "2022-12-11T08:41:38.767Z"
   },
   {
    "duration": 195,
    "start_time": "2022-12-11T08:41:38.828Z"
   },
   {
    "duration": 0,
    "start_time": "2022-12-11T08:41:39.024Z"
   },
   {
    "duration": 0,
    "start_time": "2022-12-11T08:41:39.025Z"
   },
   {
    "duration": 0,
    "start_time": "2022-12-11T08:41:39.027Z"
   },
   {
    "duration": 0,
    "start_time": "2022-12-11T08:41:39.028Z"
   },
   {
    "duration": 0,
    "start_time": "2022-12-11T08:41:39.029Z"
   },
   {
    "duration": 0,
    "start_time": "2022-12-11T08:41:39.030Z"
   },
   {
    "duration": 0,
    "start_time": "2022-12-11T08:41:39.031Z"
   },
   {
    "duration": 0,
    "start_time": "2022-12-11T08:41:39.032Z"
   },
   {
    "duration": 0,
    "start_time": "2022-12-11T08:41:39.033Z"
   },
   {
    "duration": 0,
    "start_time": "2022-12-11T08:41:39.034Z"
   },
   {
    "duration": 0,
    "start_time": "2022-12-11T08:41:39.035Z"
   },
   {
    "duration": 0,
    "start_time": "2022-12-11T08:41:39.036Z"
   },
   {
    "duration": 0,
    "start_time": "2022-12-11T08:41:39.037Z"
   },
   {
    "duration": 0,
    "start_time": "2022-12-11T08:41:39.038Z"
   },
   {
    "duration": 0,
    "start_time": "2022-12-11T08:41:39.039Z"
   },
   {
    "duration": 0,
    "start_time": "2022-12-11T08:41:39.040Z"
   },
   {
    "duration": 127,
    "start_time": "2022-12-11T08:53:03.656Z"
   },
   {
    "duration": 12303,
    "start_time": "2022-12-11T08:54:09.119Z"
   },
   {
    "duration": 12213,
    "start_time": "2022-12-11T08:54:43.320Z"
   },
   {
    "duration": 9,
    "start_time": "2022-12-11T08:57:33.124Z"
   },
   {
    "duration": 1951,
    "start_time": "2022-12-11T08:57:53.728Z"
   },
   {
    "duration": 9,
    "start_time": "2022-12-11T08:58:21.661Z"
   },
   {
    "duration": 41,
    "start_time": "2022-12-11T08:59:34.173Z"
   },
   {
    "duration": 8,
    "start_time": "2022-12-11T09:00:23.951Z"
   },
   {
    "duration": 1335,
    "start_time": "2022-12-11T09:00:55.402Z"
   },
   {
    "duration": 38,
    "start_time": "2022-12-11T09:00:56.739Z"
   },
   {
    "duration": 23,
    "start_time": "2022-12-11T09:00:56.778Z"
   },
   {
    "duration": 5,
    "start_time": "2022-12-11T09:00:56.803Z"
   },
   {
    "duration": 9,
    "start_time": "2022-12-11T09:00:56.809Z"
   },
   {
    "duration": 12,
    "start_time": "2022-12-11T09:00:56.820Z"
   },
   {
    "duration": 12,
    "start_time": "2022-12-11T09:00:56.833Z"
   },
   {
    "duration": 10,
    "start_time": "2022-12-11T09:00:56.846Z"
   },
   {
    "duration": 6,
    "start_time": "2022-12-11T09:00:56.857Z"
   },
   {
    "duration": 6,
    "start_time": "2022-12-11T09:00:56.865Z"
   },
   {
    "duration": 7,
    "start_time": "2022-12-11T09:00:56.872Z"
   },
   {
    "duration": 7,
    "start_time": "2022-12-11T09:00:56.880Z"
   },
   {
    "duration": 7,
    "start_time": "2022-12-11T09:00:56.888Z"
   },
   {
    "duration": 29,
    "start_time": "2022-12-11T09:00:56.896Z"
   },
   {
    "duration": 7,
    "start_time": "2022-12-11T09:00:56.926Z"
   },
   {
    "duration": 4,
    "start_time": "2022-12-11T09:00:56.935Z"
   },
   {
    "duration": 5,
    "start_time": "2022-12-11T09:00:56.941Z"
   },
   {
    "duration": 24,
    "start_time": "2022-12-11T09:00:56.947Z"
   },
   {
    "duration": 16,
    "start_time": "2022-12-11T09:00:56.973Z"
   },
   {
    "duration": 42,
    "start_time": "2022-12-11T09:00:56.990Z"
   },
   {
    "duration": 24,
    "start_time": "2022-12-11T09:00:57.033Z"
   },
   {
    "duration": 14182,
    "start_time": "2022-12-11T09:00:57.121Z"
   },
   {
    "duration": 0,
    "start_time": "2022-12-11T09:01:11.305Z"
   },
   {
    "duration": 0,
    "start_time": "2022-12-11T09:01:11.306Z"
   },
   {
    "duration": 0,
    "start_time": "2022-12-11T09:01:11.321Z"
   },
   {
    "duration": 0,
    "start_time": "2022-12-11T09:01:11.323Z"
   },
   {
    "duration": 0,
    "start_time": "2022-12-11T09:01:11.324Z"
   },
   {
    "duration": 0,
    "start_time": "2022-12-11T09:01:11.325Z"
   },
   {
    "duration": 0,
    "start_time": "2022-12-11T09:01:11.327Z"
   },
   {
    "duration": 0,
    "start_time": "2022-12-11T09:01:11.328Z"
   },
   {
    "duration": 0,
    "start_time": "2022-12-11T09:01:11.329Z"
   },
   {
    "duration": 0,
    "start_time": "2022-12-11T09:01:11.331Z"
   },
   {
    "duration": 0,
    "start_time": "2022-12-11T09:01:11.332Z"
   },
   {
    "duration": 0,
    "start_time": "2022-12-11T09:01:11.333Z"
   },
   {
    "duration": 0,
    "start_time": "2022-12-11T09:01:11.334Z"
   },
   {
    "duration": 0,
    "start_time": "2022-12-11T09:01:11.335Z"
   },
   {
    "duration": 0,
    "start_time": "2022-12-11T09:01:11.336Z"
   },
   {
    "duration": 0,
    "start_time": "2022-12-11T09:01:11.337Z"
   },
   {
    "duration": 7,
    "start_time": "2022-12-11T09:01:26.128Z"
   },
   {
    "duration": 37,
    "start_time": "2022-12-11T09:01:26.834Z"
   },
   {
    "duration": 6,
    "start_time": "2022-12-11T09:03:06.954Z"
   },
   {
    "duration": 37,
    "start_time": "2022-12-11T09:03:07.708Z"
   },
   {
    "duration": 20,
    "start_time": "2022-12-11T09:03:17.432Z"
   },
   {
    "duration": 6,
    "start_time": "2022-12-11T09:03:21.854Z"
   },
   {
    "duration": 8,
    "start_time": "2022-12-11T09:04:24.425Z"
   },
   {
    "duration": 10,
    "start_time": "2022-12-11T09:04:26.079Z"
   },
   {
    "duration": 18,
    "start_time": "2022-12-11T09:04:59.376Z"
   },
   {
    "duration": 5,
    "start_time": "2022-12-11T09:05:31.022Z"
   },
   {
    "duration": 4,
    "start_time": "2022-12-11T09:05:32.223Z"
   },
   {
    "duration": 19,
    "start_time": "2022-12-11T09:08:51.613Z"
   },
   {
    "duration": 6,
    "start_time": "2022-12-11T09:08:52.393Z"
   },
   {
    "duration": 6,
    "start_time": "2022-12-11T09:08:52.865Z"
   },
   {
    "duration": 12,
    "start_time": "2022-12-11T09:08:53.322Z"
   },
   {
    "duration": 13,
    "start_time": "2022-12-11T09:08:53.533Z"
   },
   {
    "duration": 5,
    "start_time": "2022-12-11T09:08:54.011Z"
   },
   {
    "duration": 5,
    "start_time": "2022-12-11T09:08:54.414Z"
   },
   {
    "duration": 5,
    "start_time": "2022-12-11T09:08:55.054Z"
   },
   {
    "duration": 5,
    "start_time": "2022-12-11T09:08:56.377Z"
   },
   {
    "duration": 7,
    "start_time": "2022-12-11T09:08:56.656Z"
   },
   {
    "duration": 6,
    "start_time": "2022-12-11T09:08:57.311Z"
   },
   {
    "duration": 6,
    "start_time": "2022-12-11T09:08:57.617Z"
   },
   {
    "duration": 6,
    "start_time": "2022-12-11T09:08:57.890Z"
   },
   {
    "duration": 4,
    "start_time": "2022-12-11T09:08:58.378Z"
   },
   {
    "duration": 6,
    "start_time": "2022-12-11T09:08:58.615Z"
   },
   {
    "duration": 20,
    "start_time": "2022-12-11T09:08:58.849Z"
   },
   {
    "duration": 16,
    "start_time": "2022-12-11T09:08:59.463Z"
   },
   {
    "duration": 16,
    "start_time": "2022-12-11T09:08:59.788Z"
   },
   {
    "duration": 67,
    "start_time": "2022-12-11T09:09:00.453Z"
   },
   {
    "duration": 84,
    "start_time": "2022-12-11T09:09:46.698Z"
   },
   {
    "duration": 2696,
    "start_time": "2022-12-11T09:09:50.182Z"
   },
   {
    "duration": 8,
    "start_time": "2022-12-11T09:10:12.797Z"
   },
   {
    "duration": 14,
    "start_time": "2022-12-11T09:10:14.436Z"
   },
   {
    "duration": 64,
    "start_time": "2022-12-11T09:10:15.958Z"
   },
   {
    "duration": 101,
    "start_time": "2022-12-11T09:10:16.313Z"
   },
   {
    "duration": 4069,
    "start_time": "2022-12-11T09:10:16.768Z"
   },
   {
    "duration": 10,
    "start_time": "2022-12-11T09:10:25.827Z"
   },
   {
    "duration": 14,
    "start_time": "2022-12-11T09:10:27.603Z"
   },
   {
    "duration": 34,
    "start_time": "2022-12-11T09:10:28.113Z"
   },
   {
    "duration": 1800,
    "start_time": "2022-12-11T09:10:28.907Z"
   },
   {
    "duration": 379,
    "start_time": "2022-12-11T09:10:42.971Z"
   },
   {
    "duration": 376,
    "start_time": "2022-12-11T09:10:45.892Z"
   },
   {
    "duration": 4143,
    "start_time": "2022-12-11T09:11:02.325Z"
   },
   {
    "duration": 8,
    "start_time": "2022-12-11T09:11:15.166Z"
   },
   {
    "duration": 8,
    "start_time": "2022-12-11T09:11:18.366Z"
   },
   {
    "duration": 8,
    "start_time": "2022-12-11T09:15:19.169Z"
   },
   {
    "duration": 7,
    "start_time": "2022-12-11T09:15:19.978Z"
   },
   {
    "duration": 8,
    "start_time": "2022-12-11T09:15:57.873Z"
   },
   {
    "duration": 8,
    "start_time": "2022-12-11T09:15:58.500Z"
   },
   {
    "duration": 47944,
    "start_time": "2022-12-11T10:52:25.981Z"
   },
   {
    "duration": 50833,
    "start_time": "2022-12-11T10:54:37.592Z"
   },
   {
    "duration": 26,
    "start_time": "2022-12-11T10:56:54.768Z"
   },
   {
    "duration": 73,
    "start_time": "2022-12-11T10:57:20.049Z"
   },
   {
    "duration": 45947,
    "start_time": "2022-12-11T10:57:20.583Z"
   },
   {
    "duration": 203,
    "start_time": "2022-12-11T10:58:06.532Z"
   },
   {
    "duration": 1316,
    "start_time": "2022-12-11T10:59:32.836Z"
   },
   {
    "duration": 39,
    "start_time": "2022-12-11T10:59:34.154Z"
   },
   {
    "duration": 27,
    "start_time": "2022-12-11T10:59:34.195Z"
   },
   {
    "duration": 6,
    "start_time": "2022-12-11T10:59:34.224Z"
   },
   {
    "duration": 34,
    "start_time": "2022-12-11T10:59:34.231Z"
   },
   {
    "duration": 25,
    "start_time": "2022-12-11T10:59:34.266Z"
   },
   {
    "duration": 13,
    "start_time": "2022-12-11T10:59:34.292Z"
   },
   {
    "duration": 10,
    "start_time": "2022-12-11T10:59:34.306Z"
   },
   {
    "duration": 7,
    "start_time": "2022-12-11T10:59:34.317Z"
   },
   {
    "duration": 7,
    "start_time": "2022-12-11T10:59:34.326Z"
   },
   {
    "duration": 11,
    "start_time": "2022-12-11T10:59:34.335Z"
   },
   {
    "duration": 13,
    "start_time": "2022-12-11T10:59:34.348Z"
   },
   {
    "duration": 10,
    "start_time": "2022-12-11T10:59:34.362Z"
   },
   {
    "duration": 8,
    "start_time": "2022-12-11T10:59:34.374Z"
   },
   {
    "duration": 11,
    "start_time": "2022-12-11T10:59:34.384Z"
   },
   {
    "duration": 10,
    "start_time": "2022-12-11T10:59:34.397Z"
   },
   {
    "duration": 31,
    "start_time": "2022-12-11T10:59:34.409Z"
   },
   {
    "duration": 30,
    "start_time": "2022-12-11T10:59:34.441Z"
   },
   {
    "duration": 15,
    "start_time": "2022-12-11T10:59:34.472Z"
   },
   {
    "duration": 21,
    "start_time": "2022-12-11T10:59:34.488Z"
   },
   {
    "duration": 58220,
    "start_time": "2022-12-11T10:59:34.510Z"
   },
   {
    "duration": 118,
    "start_time": "2022-12-11T11:00:32.825Z"
   },
   {
    "duration": 171,
    "start_time": "2022-12-11T11:00:33.025Z"
   },
   {
    "duration": 2810,
    "start_time": "2022-12-11T11:00:33.197Z"
   },
   {
    "duration": 8,
    "start_time": "2022-12-11T11:00:36.008Z"
   },
   {
    "duration": 13,
    "start_time": "2022-12-11T11:00:36.018Z"
   },
   {
    "duration": 88,
    "start_time": "2022-12-11T11:00:36.032Z"
   },
   {
    "duration": 202,
    "start_time": "2022-12-11T11:00:36.125Z"
   },
   {
    "duration": 4028,
    "start_time": "2022-12-11T11:00:36.329Z"
   },
   {
    "duration": 11,
    "start_time": "2022-12-11T11:00:40.359Z"
   },
   {
    "duration": 52,
    "start_time": "2022-12-11T11:00:40.372Z"
   },
   {
    "duration": 216,
    "start_time": "2022-12-11T11:00:40.429Z"
   },
   {
    "duration": 2079,
    "start_time": "2022-12-11T11:00:40.647Z"
   },
   {
    "duration": 442,
    "start_time": "2022-12-11T11:00:42.728Z"
   },
   {
    "duration": 396,
    "start_time": "2022-12-11T11:00:43.172Z"
   },
   {
    "duration": 4829,
    "start_time": "2022-12-11T11:00:43.570Z"
   },
   {
    "duration": 9,
    "start_time": "2022-12-11T11:00:48.401Z"
   },
   {
    "duration": 9,
    "start_time": "2022-12-11T11:00:48.411Z"
   },
   {
    "duration": 45301,
    "start_time": "2022-12-11T11:03:12.430Z"
   },
   {
    "duration": 25061,
    "start_time": "2022-12-11T11:07:29.733Z"
   },
   {
    "duration": 89,
    "start_time": "2022-12-11T11:08:26.694Z"
   },
   {
    "duration": 90,
    "start_time": "2022-12-11T11:08:33.265Z"
   },
   {
    "duration": 113,
    "start_time": "2022-12-11T11:10:35.852Z"
   },
   {
    "duration": 25338,
    "start_time": "2022-12-11T11:11:50.817Z"
   },
   {
    "duration": 24753,
    "start_time": "2022-12-11T11:12:53.641Z"
   },
   {
    "duration": 91,
    "start_time": "2022-12-11T11:13:18.396Z"
   },
   {
    "duration": 68210,
    "start_time": "2022-12-11T11:23:23.750Z"
   },
   {
    "duration": 0,
    "start_time": "2022-12-11T11:34:51.921Z"
   },
   {
    "duration": 322423,
    "start_time": "2022-12-11T11:37:44.642Z"
   },
   {
    "duration": 1456,
    "start_time": "2022-12-11T11:52:03.354Z"
   },
   {
    "duration": 47,
    "start_time": "2022-12-11T11:52:04.812Z"
   },
   {
    "duration": 35,
    "start_time": "2022-12-11T11:52:04.861Z"
   },
   {
    "duration": 5,
    "start_time": "2022-12-11T11:52:04.898Z"
   },
   {
    "duration": 18,
    "start_time": "2022-12-11T11:52:04.905Z"
   },
   {
    "duration": 25,
    "start_time": "2022-12-11T11:52:04.926Z"
   },
   {
    "duration": 17,
    "start_time": "2022-12-11T11:52:04.953Z"
   },
   {
    "duration": 14,
    "start_time": "2022-12-11T11:52:04.973Z"
   },
   {
    "duration": 30,
    "start_time": "2022-12-11T11:52:04.989Z"
   },
   {
    "duration": 18,
    "start_time": "2022-12-11T11:52:05.023Z"
   },
   {
    "duration": 7,
    "start_time": "2022-12-11T11:52:05.043Z"
   },
   {
    "duration": 19,
    "start_time": "2022-12-11T11:52:05.051Z"
   },
   {
    "duration": 11,
    "start_time": "2022-12-11T11:52:05.072Z"
   },
   {
    "duration": 12,
    "start_time": "2022-12-11T11:52:05.085Z"
   },
   {
    "duration": 12,
    "start_time": "2022-12-11T11:52:05.099Z"
   },
   {
    "duration": 21,
    "start_time": "2022-12-11T11:52:05.112Z"
   },
   {
    "duration": 15,
    "start_time": "2022-12-11T11:52:05.135Z"
   },
   {
    "duration": 28,
    "start_time": "2022-12-11T11:52:05.152Z"
   },
   {
    "duration": 14,
    "start_time": "2022-12-11T11:52:05.182Z"
   },
   {
    "duration": 28,
    "start_time": "2022-12-11T11:52:05.198Z"
   },
   {
    "duration": 88500,
    "start_time": "2022-12-11T11:52:05.228Z"
   },
   {
    "duration": 200,
    "start_time": "2022-12-11T11:53:33.730Z"
   },
   {
    "duration": 26209,
    "start_time": "2022-12-11T11:53:33.932Z"
   },
   {
    "duration": 95,
    "start_time": "2022-12-11T11:54:00.143Z"
   },
   {
    "duration": 1630,
    "start_time": "2022-12-11T12:00:24.222Z"
   },
   {
    "duration": 43,
    "start_time": "2022-12-11T12:00:25.854Z"
   },
   {
    "duration": 27,
    "start_time": "2022-12-11T12:00:25.899Z"
   },
   {
    "duration": 6,
    "start_time": "2022-12-11T12:00:25.928Z"
   },
   {
    "duration": 9,
    "start_time": "2022-12-11T12:00:25.936Z"
   },
   {
    "duration": 24,
    "start_time": "2022-12-11T12:00:25.946Z"
   },
   {
    "duration": 17,
    "start_time": "2022-12-11T12:00:25.972Z"
   },
   {
    "duration": 33,
    "start_time": "2022-12-11T12:00:25.990Z"
   },
   {
    "duration": 5,
    "start_time": "2022-12-11T12:00:26.025Z"
   },
   {
    "duration": 16,
    "start_time": "2022-12-11T12:00:26.034Z"
   },
   {
    "duration": 8,
    "start_time": "2022-12-11T12:00:26.052Z"
   },
   {
    "duration": 17,
    "start_time": "2022-12-11T12:00:26.062Z"
   },
   {
    "duration": 9,
    "start_time": "2022-12-11T12:00:26.081Z"
   },
   {
    "duration": 10,
    "start_time": "2022-12-11T12:00:26.092Z"
   },
   {
    "duration": 9,
    "start_time": "2022-12-11T12:00:26.121Z"
   },
   {
    "duration": 7,
    "start_time": "2022-12-11T12:00:26.132Z"
   },
   {
    "duration": 9,
    "start_time": "2022-12-11T12:00:26.141Z"
   },
   {
    "duration": 31,
    "start_time": "2022-12-11T12:00:26.152Z"
   },
   {
    "duration": 45,
    "start_time": "2022-12-11T12:00:26.185Z"
   },
   {
    "duration": 16,
    "start_time": "2022-12-11T12:00:26.232Z"
   },
   {
    "duration": 104876,
    "start_time": "2022-12-11T12:00:26.250Z"
   },
   {
    "duration": 113,
    "start_time": "2022-12-11T12:02:11.128Z"
   },
   {
    "duration": 28085,
    "start_time": "2022-12-11T12:02:11.322Z"
   },
   {
    "duration": 114,
    "start_time": "2022-12-11T12:02:39.410Z"
   },
   {
    "duration": 3710,
    "start_time": "2022-12-11T12:02:39.527Z"
   },
   {
    "duration": 9,
    "start_time": "2022-12-11T12:02:43.239Z"
   },
   {
    "duration": 35,
    "start_time": "2022-12-11T12:02:43.250Z"
   },
   {
    "duration": 57,
    "start_time": "2022-12-11T12:02:43.290Z"
   },
   {
    "duration": 203,
    "start_time": "2022-12-11T12:02:43.429Z"
   },
   {
    "duration": 5807,
    "start_time": "2022-12-11T12:02:43.634Z"
   },
   {
    "duration": 14,
    "start_time": "2022-12-11T12:02:49.444Z"
   },
   {
    "duration": 64,
    "start_time": "2022-12-11T12:02:49.459Z"
   },
   {
    "duration": 109,
    "start_time": "2022-12-11T12:02:49.528Z"
   },
   {
    "duration": 2572,
    "start_time": "2022-12-11T12:02:49.643Z"
   },
   {
    "duration": 545,
    "start_time": "2022-12-11T12:02:52.217Z"
   },
   {
    "duration": 429,
    "start_time": "2022-12-11T12:02:52.763Z"
   },
   {
    "duration": 5583,
    "start_time": "2022-12-11T12:02:53.194Z"
   },
   {
    "duration": 8,
    "start_time": "2022-12-11T12:02:58.779Z"
   },
   {
    "duration": 18,
    "start_time": "2022-12-11T12:02:58.790Z"
   },
   {
    "duration": 3493,
    "start_time": "2022-12-11T12:05:06.379Z"
   },
   {
    "duration": 1863,
    "start_time": "2022-12-11T20:32:01.400Z"
   },
   {
    "duration": 104,
    "start_time": "2022-12-11T20:32:03.265Z"
   },
   {
    "duration": 35,
    "start_time": "2022-12-11T20:32:03.371Z"
   },
   {
    "duration": 7,
    "start_time": "2022-12-11T20:32:03.408Z"
   },
   {
    "duration": 35,
    "start_time": "2022-12-11T20:32:03.422Z"
   },
   {
    "duration": 19,
    "start_time": "2022-12-11T20:32:03.459Z"
   },
   {
    "duration": 20,
    "start_time": "2022-12-11T20:32:03.480Z"
   },
   {
    "duration": 6,
    "start_time": "2022-12-11T20:32:03.502Z"
   },
   {
    "duration": 9,
    "start_time": "2022-12-11T20:32:03.510Z"
   },
   {
    "duration": 30,
    "start_time": "2022-12-11T20:32:03.520Z"
   },
   {
    "duration": 7,
    "start_time": "2022-12-11T20:32:03.552Z"
   },
   {
    "duration": 15,
    "start_time": "2022-12-11T20:32:03.561Z"
   },
   {
    "duration": 9,
    "start_time": "2022-12-11T20:32:03.578Z"
   },
   {
    "duration": 7,
    "start_time": "2022-12-11T20:32:03.592Z"
   },
   {
    "duration": 10,
    "start_time": "2022-12-11T20:32:03.618Z"
   },
   {
    "duration": 17,
    "start_time": "2022-12-11T20:32:03.630Z"
   },
   {
    "duration": 7,
    "start_time": "2022-12-11T20:32:03.648Z"
   },
   {
    "duration": 24,
    "start_time": "2022-12-11T20:32:03.657Z"
   },
   {
    "duration": 18,
    "start_time": "2022-12-11T20:32:03.683Z"
   },
   {
    "duration": 34,
    "start_time": "2022-12-11T20:32:03.702Z"
   },
   {
    "duration": 105,
    "start_time": "2022-12-11T20:32:03.738Z"
   },
   {
    "duration": 83875,
    "start_time": "2022-12-11T20:32:03.846Z"
   },
   {
    "duration": 205,
    "start_time": "2022-12-11T20:33:27.723Z"
   },
   {
    "duration": 27640,
    "start_time": "2022-12-11T20:33:27.939Z"
   },
   {
    "duration": 105,
    "start_time": "2022-12-11T20:33:55.581Z"
   },
   {
    "duration": 3757,
    "start_time": "2022-12-11T20:33:55.688Z"
   },
   {
    "duration": 7,
    "start_time": "2022-12-11T20:33:59.447Z"
   },
   {
    "duration": 16,
    "start_time": "2022-12-11T20:33:59.455Z"
   },
   {
    "duration": 53,
    "start_time": "2022-12-11T20:33:59.473Z"
   },
   {
    "duration": 110,
    "start_time": "2022-12-11T20:33:59.530Z"
   },
   {
    "duration": 5269,
    "start_time": "2022-12-11T20:33:59.644Z"
   },
   {
    "duration": 26,
    "start_time": "2022-12-11T20:34:04.915Z"
   },
   {
    "duration": 23,
    "start_time": "2022-12-11T20:34:04.944Z"
   },
   {
    "duration": 72,
    "start_time": "2022-12-11T20:34:04.969Z"
   },
   {
    "duration": 2464,
    "start_time": "2022-12-11T20:34:05.130Z"
   },
   {
    "duration": 462,
    "start_time": "2022-12-11T20:34:07.596Z"
   },
   {
    "duration": 403,
    "start_time": "2022-12-11T20:34:08.060Z"
   },
   {
    "duration": 4890,
    "start_time": "2022-12-11T20:34:08.465Z"
   },
   {
    "duration": 7,
    "start_time": "2022-12-11T20:34:13.357Z"
   },
   {
    "duration": 11,
    "start_time": "2022-12-11T20:34:13.365Z"
   },
   {
    "duration": 57,
    "start_time": "2022-12-11T22:36:21.603Z"
   },
   {
    "duration": 1699,
    "start_time": "2022-12-11T22:36:27.575Z"
   },
   {
    "duration": 101,
    "start_time": "2022-12-11T22:36:29.276Z"
   },
   {
    "duration": 30,
    "start_time": "2022-12-11T22:36:29.379Z"
   },
   {
    "duration": 8,
    "start_time": "2022-12-11T22:36:29.411Z"
   },
   {
    "duration": 32,
    "start_time": "2022-12-11T22:36:29.421Z"
   },
   {
    "duration": 23,
    "start_time": "2022-12-11T22:36:29.455Z"
   },
   {
    "duration": 14,
    "start_time": "2022-12-11T22:36:29.480Z"
   },
   {
    "duration": 14,
    "start_time": "2022-12-11T22:36:29.497Z"
   },
   {
    "duration": 14,
    "start_time": "2022-12-11T22:36:29.513Z"
   },
   {
    "duration": 21,
    "start_time": "2022-12-11T22:36:29.530Z"
   },
   {
    "duration": 11,
    "start_time": "2022-12-11T22:36:29.553Z"
   },
   {
    "duration": 14,
    "start_time": "2022-12-11T22:36:29.566Z"
   },
   {
    "duration": 11,
    "start_time": "2022-12-11T22:36:29.584Z"
   },
   {
    "duration": 8,
    "start_time": "2022-12-11T22:36:29.597Z"
   },
   {
    "duration": 8,
    "start_time": "2022-12-11T22:36:29.607Z"
   },
   {
    "duration": 29,
    "start_time": "2022-12-11T22:36:29.617Z"
   },
   {
    "duration": 18,
    "start_time": "2022-12-11T22:36:29.648Z"
   },
   {
    "duration": 28,
    "start_time": "2022-12-11T22:36:29.668Z"
   },
   {
    "duration": 18,
    "start_time": "2022-12-11T22:36:29.698Z"
   },
   {
    "duration": 29,
    "start_time": "2022-12-11T22:36:29.718Z"
   },
   {
    "duration": 107,
    "start_time": "2022-12-11T22:36:29.752Z"
   },
   {
    "duration": 85878,
    "start_time": "2022-12-11T22:36:29.861Z"
   },
   {
    "duration": 188,
    "start_time": "2022-12-11T22:37:55.748Z"
   },
   {
    "duration": 29992,
    "start_time": "2022-12-11T22:37:55.939Z"
   },
   {
    "duration": 113,
    "start_time": "2022-12-11T22:38:25.943Z"
   },
   {
    "duration": 3562,
    "start_time": "2022-12-11T22:38:26.058Z"
   },
   {
    "duration": 8,
    "start_time": "2022-12-11T22:38:29.621Z"
   },
   {
    "duration": 23,
    "start_time": "2022-12-11T22:38:29.632Z"
   },
   {
    "duration": 77,
    "start_time": "2022-12-11T22:38:29.657Z"
   },
   {
    "duration": 122,
    "start_time": "2022-12-11T22:38:29.736Z"
   },
   {
    "duration": 5318,
    "start_time": "2022-12-11T22:38:29.861Z"
   },
   {
    "duration": 13,
    "start_time": "2022-12-11T22:38:35.180Z"
   },
   {
    "duration": 27,
    "start_time": "2022-12-11T22:38:35.195Z"
   },
   {
    "duration": 122,
    "start_time": "2022-12-11T22:38:35.245Z"
   },
   {
    "duration": 2436,
    "start_time": "2022-12-11T22:38:35.443Z"
   },
   {
    "duration": 435,
    "start_time": "2022-12-11T22:38:37.882Z"
   },
   {
    "duration": 524,
    "start_time": "2022-12-11T22:38:38.320Z"
   },
   {
    "duration": 5205,
    "start_time": "2022-12-11T22:38:38.846Z"
   },
   {
    "duration": 8,
    "start_time": "2022-12-11T22:38:44.053Z"
   },
   {
    "duration": 12,
    "start_time": "2022-12-11T22:38:44.063Z"
   },
   {
    "duration": 3280,
    "start_time": "2022-12-11T22:42:38.231Z"
   },
   {
    "duration": 125,
    "start_time": "2022-12-11T22:42:56.731Z"
   },
   {
    "duration": 57,
    "start_time": "2022-12-11T22:43:04.795Z"
   },
   {
    "duration": 48,
    "start_time": "2022-12-11T22:43:10.292Z"
   },
   {
    "duration": 151,
    "start_time": "2022-12-11T22:43:27.790Z"
   },
   {
    "duration": 101,
    "start_time": "2022-12-11T22:43:32.348Z"
   },
   {
    "duration": 5305,
    "start_time": "2022-12-11T22:43:36.225Z"
   },
   {
    "duration": 26,
    "start_time": "2022-12-11T22:44:13.515Z"
   },
   {
    "duration": 49,
    "start_time": "2022-12-11T22:44:18.291Z"
   },
   {
    "duration": 2403,
    "start_time": "2022-12-11T22:44:21.936Z"
   },
   {
    "duration": 460,
    "start_time": "2022-12-11T22:45:09.986Z"
   },
   {
    "duration": 459,
    "start_time": "2022-12-11T22:45:17.801Z"
   },
   {
    "duration": 5218,
    "start_time": "2022-12-11T22:45:35.004Z"
   },
   {
    "duration": 55,
    "start_time": "2022-12-11T22:47:18.009Z"
   },
   {
    "duration": 80660,
    "start_time": "2022-12-11T22:49:45.381Z"
   },
   {
    "duration": 110337,
    "start_time": "2022-12-11T22:51:59.405Z"
   },
   {
    "duration": 50,
    "start_time": "2022-12-11T22:55:21.518Z"
   },
   {
    "duration": 122,
    "start_time": "2022-12-11T22:55:26.980Z"
   },
   {
    "duration": 45137,
    "start_time": "2022-12-11T22:55:33.552Z"
   },
   {
    "duration": 1153,
    "start_time": "2022-12-11T22:56:37.472Z"
   },
   {
    "duration": 66037,
    "start_time": "2022-12-11T22:56:47.715Z"
   },
   {
    "duration": 1348,
    "start_time": "2022-12-11T22:57:53.754Z"
   },
   {
    "duration": 62,
    "start_time": "2022-12-11T22:58:06.605Z"
   },
   {
    "duration": 12959,
    "start_time": "2022-12-11T22:58:08.050Z"
   },
   {
    "duration": 362,
    "start_time": "2022-12-11T23:00:41.461Z"
   },
   {
    "duration": 1537,
    "start_time": "2022-12-11T23:03:04.690Z"
   },
   {
    "duration": 63,
    "start_time": "2022-12-11T23:03:06.229Z"
   },
   {
    "duration": 29,
    "start_time": "2022-12-11T23:03:06.294Z"
   },
   {
    "duration": 5,
    "start_time": "2022-12-11T23:03:06.326Z"
   },
   {
    "duration": 35,
    "start_time": "2022-12-11T23:03:06.333Z"
   },
   {
    "duration": 20,
    "start_time": "2022-12-11T23:03:06.370Z"
   },
   {
    "duration": 16,
    "start_time": "2022-12-11T23:03:06.392Z"
   },
   {
    "duration": 8,
    "start_time": "2022-12-11T23:03:06.410Z"
   },
   {
    "duration": 13,
    "start_time": "2022-12-11T23:03:06.419Z"
   },
   {
    "duration": 24,
    "start_time": "2022-12-11T23:03:06.436Z"
   },
   {
    "duration": 9,
    "start_time": "2022-12-11T23:03:06.462Z"
   },
   {
    "duration": 13,
    "start_time": "2022-12-11T23:03:06.473Z"
   },
   {
    "duration": 13,
    "start_time": "2022-12-11T23:03:06.488Z"
   },
   {
    "duration": 22,
    "start_time": "2022-12-11T23:03:06.502Z"
   },
   {
    "duration": 16,
    "start_time": "2022-12-11T23:03:06.526Z"
   },
   {
    "duration": 15,
    "start_time": "2022-12-11T23:03:06.550Z"
   },
   {
    "duration": 10,
    "start_time": "2022-12-11T23:03:06.567Z"
   },
   {
    "duration": 33,
    "start_time": "2022-12-11T23:03:06.578Z"
   },
   {
    "duration": 17,
    "start_time": "2022-12-11T23:03:06.613Z"
   },
   {
    "duration": 24,
    "start_time": "2022-12-11T23:03:06.631Z"
   },
   {
    "duration": 83693,
    "start_time": "2022-12-11T23:03:06.657Z"
   },
   {
    "duration": 285,
    "start_time": "2022-12-11T23:04:30.357Z"
   },
   {
    "duration": 28464,
    "start_time": "2022-12-11T23:04:30.644Z"
   },
   {
    "duration": 131,
    "start_time": "2022-12-11T23:04:59.110Z"
   },
   {
    "duration": 3799,
    "start_time": "2022-12-11T23:04:59.247Z"
   },
   {
    "duration": 11,
    "start_time": "2022-12-11T23:05:03.049Z"
   },
   {
    "duration": 28,
    "start_time": "2022-12-11T23:05:03.062Z"
   },
   {
    "duration": 112659,
    "start_time": "2022-12-11T23:05:03.094Z"
   },
   {
    "duration": 281,
    "start_time": "2022-12-11T23:06:55.755Z"
   },
   {
    "duration": 44615,
    "start_time": "2022-12-11T23:06:56.039Z"
   },
   {
    "duration": 1113,
    "start_time": "2022-12-11T23:07:40.656Z"
   },
   {
    "duration": 4954,
    "start_time": "2022-12-11T23:07:41.771Z"
   },
   {
    "duration": 18,
    "start_time": "2022-12-11T23:07:46.727Z"
   },
   {
    "duration": 66196,
    "start_time": "2022-12-11T23:07:46.764Z"
   },
   {
    "duration": 191,
    "start_time": "2022-12-11T23:08:52.962Z"
   },
   {
    "duration": 12507,
    "start_time": "2022-12-11T23:08:53.154Z"
   },
   {
    "duration": 390,
    "start_time": "2022-12-11T23:09:05.664Z"
   },
   {
    "duration": 2343,
    "start_time": "2022-12-11T23:09:06.057Z"
   },
   {
    "duration": 478,
    "start_time": "2022-12-11T23:09:08.401Z"
   },
   {
    "duration": 439,
    "start_time": "2022-12-11T23:09:08.881Z"
   },
   {
    "duration": 5334,
    "start_time": "2022-12-11T23:09:09.322Z"
   },
   {
    "duration": 11,
    "start_time": "2022-12-11T23:09:14.657Z"
   },
   {
    "duration": 18,
    "start_time": "2022-12-11T23:09:14.669Z"
   }
  ],
  "kernelspec": {
   "display_name": "Python 3 (ipykernel)",
   "language": "python",
   "name": "python3"
  },
  "language_info": {
   "codemirror_mode": {
    "name": "ipython",
    "version": 3
   },
   "file_extension": ".py",
   "mimetype": "text/x-python",
   "name": "python",
   "nbconvert_exporter": "python",
   "pygments_lexer": "ipython3",
   "version": "3.10.7"
  },
  "toc": {
   "base_numbering": 1,
   "nav_menu": {},
   "number_sections": true,
   "sideBar": true,
   "skip_h1_title": true,
   "title_cell": "Содержание",
   "title_sidebar": "Contents",
   "toc_cell": true,
   "toc_position": {
    "height": "calc(100% - 180px)",
    "left": "10px",
    "top": "150px",
    "width": "165px"
   },
   "toc_section_display": true,
   "toc_window_display": true
  }
 },
 "nbformat": 4,
 "nbformat_minor": 2
}
