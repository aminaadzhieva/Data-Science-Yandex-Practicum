{
 "cells": [
  {
   "cell_type": "markdown",
   "metadata": {
    "toc": true
   },
   "source": [
    "<h1>Содержание<span class=\"tocSkip\"></span></h1>\n",
    "<div class=\"toc\"><ul class=\"toc-item\"><li><span><a href=\"#Загрузка-данных\" data-toc-modified-id=\"Загрузка-данных-1\"><span class=\"toc-item-num\">1&nbsp;&nbsp;</span>Загрузка данных</a></span></li><li><span><a href=\"#Умножение-матриц\" data-toc-modified-id=\"Умножение-матриц-2\"><span class=\"toc-item-num\">2&nbsp;&nbsp;</span>Умножение матриц</a></span></li><li><span><a href=\"#Алгоритм-преобразования\" data-toc-modified-id=\"Алгоритм-преобразования-3\"><span class=\"toc-item-num\">3&nbsp;&nbsp;</span>Алгоритм преобразования</a></span></li><li><span><a href=\"#Проверка-алгоритма\" data-toc-modified-id=\"Проверка-алгоритма-4\"><span class=\"toc-item-num\">4&nbsp;&nbsp;</span>Проверка алгоритма</a></span></li><li><span><a href=\"#Чек-лист-проверки\" data-toc-modified-id=\"Чек-лист-проверки-5\"><span class=\"toc-item-num\">5&nbsp;&nbsp;</span>Чек-лист проверки</a></span></li></ul></div>"
   ]
  },
  {
   "cell_type": "markdown",
   "metadata": {},
   "source": [
    "# Защита персональных данных клиентов"
   ]
  },
  {
   "cell_type": "markdown",
   "metadata": {},
   "source": [
    "Вам нужно защитить данные клиентов страховой компании «Хоть потоп». Разработайте такой метод преобразования данных, чтобы по ним было сложно восстановить персональную информацию. Обоснуйте корректность его работы.\n",
    "\n",
    "Нужно защитить данные, чтобы при преобразовании качество моделей машинного обучения не ухудшилось. Подбирать наилучшую модель не требуется."
   ]
  },
  {
   "cell_type": "markdown",
   "metadata": {},
   "source": [
    "## Импорт и изучение данных:"
   ]
  },
  {
   "cell_type": "code",
   "execution_count": 1,
   "metadata": {},
   "outputs": [],
   "source": [
    "# Импортирую сразу все библиотеки, которые понадобятся в этом проекте:\n",
    "import pandas as pd\n",
    "import numpy as np\n",
    "from sklearn.model_selection import train_test_split\n",
    "from sklearn.linear_model import LinearRegression\n",
    "import warnings\n",
    "warnings.filterwarnings('ignore')\n",
    "from sklearn.metrics import r2_score"
   ]
  },
  {
   "cell_type": "code",
   "execution_count": 4,
   "metadata": {},
   "outputs": [],
   "source": [
    "# Прочитаем файл:\n",
    "df = pd.read_csv('https://code.s3.yandex.net/datasets/insurance.csv')"
   ]
  },
  {
   "cell_type": "markdown",
   "metadata": {},
   "source": [
    "Изучим данные:"
   ]
  },
  {
   "cell_type": "code",
   "execution_count": 5,
   "metadata": {},
   "outputs": [
    {
     "name": "stdout",
     "output_type": "stream",
     "text": [
      "<class 'pandas.core.frame.DataFrame'>\n",
      "RangeIndex: 5000 entries, 0 to 4999\n",
      "Data columns (total 5 columns):\n",
      " #   Column             Non-Null Count  Dtype  \n",
      "---  ------             --------------  -----  \n",
      " 0   Пол                5000 non-null   int64  \n",
      " 1   Возраст            5000 non-null   float64\n",
      " 2   Зарплата           5000 non-null   float64\n",
      " 3   Члены семьи        5000 non-null   int64  \n",
      " 4   Страховые выплаты  5000 non-null   int64  \n",
      "dtypes: float64(2), int64(3)\n",
      "memory usage: 195.4 KB\n"
     ]
    }
   ],
   "source": [
    "df.info()"
   ]
  },
  {
   "cell_type": "code",
   "execution_count": 6,
   "metadata": {
    "scrolled": false
   },
   "outputs": [
    {
     "data": {
      "text/html": [
       "<div>\n",
       "<style scoped>\n",
       "    .dataframe tbody tr th:only-of-type {\n",
       "        vertical-align: middle;\n",
       "    }\n",
       "\n",
       "    .dataframe tbody tr th {\n",
       "        vertical-align: top;\n",
       "    }\n",
       "\n",
       "    .dataframe thead th {\n",
       "        text-align: right;\n",
       "    }\n",
       "</style>\n",
       "<table border=\"1\" class=\"dataframe\">\n",
       "  <thead>\n",
       "    <tr style=\"text-align: right;\">\n",
       "      <th></th>\n",
       "      <th>Пол</th>\n",
       "      <th>Возраст</th>\n",
       "      <th>Зарплата</th>\n",
       "      <th>Члены семьи</th>\n",
       "      <th>Страховые выплаты</th>\n",
       "    </tr>\n",
       "  </thead>\n",
       "  <tbody>\n",
       "    <tr>\n",
       "      <th>0</th>\n",
       "      <td>1</td>\n",
       "      <td>41.0</td>\n",
       "      <td>49600.0</td>\n",
       "      <td>1</td>\n",
       "      <td>0</td>\n",
       "    </tr>\n",
       "    <tr>\n",
       "      <th>1</th>\n",
       "      <td>0</td>\n",
       "      <td>46.0</td>\n",
       "      <td>38000.0</td>\n",
       "      <td>1</td>\n",
       "      <td>1</td>\n",
       "    </tr>\n",
       "    <tr>\n",
       "      <th>2</th>\n",
       "      <td>0</td>\n",
       "      <td>29.0</td>\n",
       "      <td>21000.0</td>\n",
       "      <td>0</td>\n",
       "      <td>0</td>\n",
       "    </tr>\n",
       "    <tr>\n",
       "      <th>3</th>\n",
       "      <td>0</td>\n",
       "      <td>21.0</td>\n",
       "      <td>41700.0</td>\n",
       "      <td>2</td>\n",
       "      <td>0</td>\n",
       "    </tr>\n",
       "    <tr>\n",
       "      <th>4</th>\n",
       "      <td>1</td>\n",
       "      <td>28.0</td>\n",
       "      <td>26100.0</td>\n",
       "      <td>0</td>\n",
       "      <td>0</td>\n",
       "    </tr>\n",
       "  </tbody>\n",
       "</table>\n",
       "</div>"
      ],
      "text/plain": [
       "   Пол  Возраст  Зарплата  Члены семьи  Страховые выплаты\n",
       "0    1     41.0   49600.0            1                  0\n",
       "1    0     46.0   38000.0            1                  1\n",
       "2    0     29.0   21000.0            0                  0\n",
       "3    0     21.0   41700.0            2                  0\n",
       "4    1     28.0   26100.0            0                  0"
      ]
     },
     "execution_count": 6,
     "metadata": {},
     "output_type": "execute_result"
    }
   ],
   "source": [
    "df.head()"
   ]
  },
  {
   "cell_type": "code",
   "execution_count": 7,
   "metadata": {},
   "outputs": [
    {
     "data": {
      "text/html": [
       "<div>\n",
       "<style scoped>\n",
       "    .dataframe tbody tr th:only-of-type {\n",
       "        vertical-align: middle;\n",
       "    }\n",
       "\n",
       "    .dataframe tbody tr th {\n",
       "        vertical-align: top;\n",
       "    }\n",
       "\n",
       "    .dataframe thead th {\n",
       "        text-align: right;\n",
       "    }\n",
       "</style>\n",
       "<table border=\"1\" class=\"dataframe\">\n",
       "  <thead>\n",
       "    <tr style=\"text-align: right;\">\n",
       "      <th></th>\n",
       "      <th>Пол</th>\n",
       "      <th>Возраст</th>\n",
       "      <th>Зарплата</th>\n",
       "      <th>Члены семьи</th>\n",
       "      <th>Страховые выплаты</th>\n",
       "    </tr>\n",
       "  </thead>\n",
       "  <tbody>\n",
       "    <tr>\n",
       "      <th>count</th>\n",
       "      <td>5000.000000</td>\n",
       "      <td>5000.000000</td>\n",
       "      <td>5000.000000</td>\n",
       "      <td>5000.000000</td>\n",
       "      <td>5000.000000</td>\n",
       "    </tr>\n",
       "    <tr>\n",
       "      <th>mean</th>\n",
       "      <td>0.499000</td>\n",
       "      <td>30.952800</td>\n",
       "      <td>39916.360000</td>\n",
       "      <td>1.194200</td>\n",
       "      <td>0.148000</td>\n",
       "    </tr>\n",
       "    <tr>\n",
       "      <th>std</th>\n",
       "      <td>0.500049</td>\n",
       "      <td>8.440807</td>\n",
       "      <td>9900.083569</td>\n",
       "      <td>1.091387</td>\n",
       "      <td>0.463183</td>\n",
       "    </tr>\n",
       "    <tr>\n",
       "      <th>min</th>\n",
       "      <td>0.000000</td>\n",
       "      <td>18.000000</td>\n",
       "      <td>5300.000000</td>\n",
       "      <td>0.000000</td>\n",
       "      <td>0.000000</td>\n",
       "    </tr>\n",
       "    <tr>\n",
       "      <th>25%</th>\n",
       "      <td>0.000000</td>\n",
       "      <td>24.000000</td>\n",
       "      <td>33300.000000</td>\n",
       "      <td>0.000000</td>\n",
       "      <td>0.000000</td>\n",
       "    </tr>\n",
       "    <tr>\n",
       "      <th>50%</th>\n",
       "      <td>0.000000</td>\n",
       "      <td>30.000000</td>\n",
       "      <td>40200.000000</td>\n",
       "      <td>1.000000</td>\n",
       "      <td>0.000000</td>\n",
       "    </tr>\n",
       "    <tr>\n",
       "      <th>75%</th>\n",
       "      <td>1.000000</td>\n",
       "      <td>37.000000</td>\n",
       "      <td>46600.000000</td>\n",
       "      <td>2.000000</td>\n",
       "      <td>0.000000</td>\n",
       "    </tr>\n",
       "    <tr>\n",
       "      <th>max</th>\n",
       "      <td>1.000000</td>\n",
       "      <td>65.000000</td>\n",
       "      <td>79000.000000</td>\n",
       "      <td>6.000000</td>\n",
       "      <td>5.000000</td>\n",
       "    </tr>\n",
       "  </tbody>\n",
       "</table>\n",
       "</div>"
      ],
      "text/plain": [
       "               Пол      Возраст      Зарплата  Члены семьи  Страховые выплаты\n",
       "count  5000.000000  5000.000000   5000.000000  5000.000000        5000.000000\n",
       "mean      0.499000    30.952800  39916.360000     1.194200           0.148000\n",
       "std       0.500049     8.440807   9900.083569     1.091387           0.463183\n",
       "min       0.000000    18.000000   5300.000000     0.000000           0.000000\n",
       "25%       0.000000    24.000000  33300.000000     0.000000           0.000000\n",
       "50%       0.000000    30.000000  40200.000000     1.000000           0.000000\n",
       "75%       1.000000    37.000000  46600.000000     2.000000           0.000000\n",
       "max       1.000000    65.000000  79000.000000     6.000000           5.000000"
      ]
     },
     "execution_count": 7,
     "metadata": {},
     "output_type": "execute_result"
    }
   ],
   "source": [
    "df.describe()"
   ]
  },
  {
   "cell_type": "markdown",
   "metadata": {},
   "source": [
    "Вывод: тип данных в столбце \"возраст\" не совсем корректный, можно было бы поменять на инт, но у нас в этом нет необходимости."
   ]
  },
  {
   "cell_type": "markdown",
   "metadata": {},
   "source": [
    "## Умножение матриц:"
   ]
  },
  {
   "cell_type": "markdown",
   "metadata": {},
   "source": [
    "Предсказания:\n",
    "\n",
    "$$\n",
    "a = Xw\n",
    "$$\n",
    "\n",
    "Задача обучения:\n",
    "\n",
    "$$\n",
    "w = \\arg\\min_w MSE(Xw, y)\n",
    "$$\n",
    "\n",
    "Формула обучения:\n",
    "\n",
    "$$\n",
    "w = (X^T X)^{-1} X^T y\n",
    "$$"
   ]
  },
  {
   "cell_type": "markdown",
   "metadata": {},
   "source": [
    "Основные свойства матриц, необходимые для доказательства:\n",
    "\n",
    "$$\n",
    "1. A A^-1 = E\n",
    "$$\n",
    "$$\n",
    "2. (A B)^T = B^T A^T\n",
    "$$\n",
    "$$\n",
    "3. (AB)^-1 = B^-1 A^-1\n",
    "$$\n",
    "\n",
    "Дано условие:\n",
    "$$\n",
    "Х' = XP \n",
    "$$\n",
    "\n",
    "Нужно доказать, что:\n",
    "$$\n",
    "a = Xw = X'w' = a'\n",
    "$$"
   ]
  },
  {
   "cell_type": "markdown",
   "metadata": {},
   "source": [
    "Подставлю под формулу весов новую матрицу и проведу математические преобразования:\n",
    "\n",
    "$$\n",
    "a' = XP((XP)^T XP)^-1 (XP)^T y = XP (P^TX^T XP)^-1 (XP)^T y = XPP^-1(P^TX^TX)^-1 (XP)^T y = XE (P^TX^TX)^-1 (XP)^T y = X (P^TX^TX)^-1 (XP)^T y = X (X^TX)^-1 (P^T)^-1 P^T X^T y = X(X^T X)^-1X^Ty \n",
    "$$"
   ]
  },
  {
   "cell_type": "markdown",
   "metadata": {},
   "source": [
    "Все P сократились по правилу PP^-1 = E, а так как Е - это единичная матрица, как умножение на 1Б можно сократить."
   ]
  },
  {
   "cell_type": "markdown",
   "metadata": {},
   "source": [
    "$$\n",
    "a = X(X^T X)^-1X^Ty = a'\n",
    "$$"
   ]
  },
  {
   "cell_type": "markdown",
   "metadata": {},
   "source": [
    "Что значит: качество линейной регрессии не изменится, если признаки умножить на обратимую матрицу."
   ]
  },
  {
   "cell_type": "markdown",
   "metadata": {},
   "source": [
    "## Алгоритм преобразования:"
   ]
  },
  {
   "cell_type": "markdown",
   "metadata": {},
   "source": [
    "Для шифрования данных застрахованных умножим матрицу с данными на радомную обратимую матрицу. Обоснованием является глава 2(выше) и свойство умножения матриц.\n",
    "\n",
    "**Алгоритм**\n",
    "1. Создать рандомную матрицу\n",
    "2. Проверить ее на обратимость\n",
    "3. Умножить данные на эту новую матрицу\n",
    "4. Сравнить метрики качества MSE и R2 до и после преобразования данных."
   ]
  },
  {
   "cell_type": "markdown",
   "metadata": {},
   "source": [
    "Создадим модель по исходным формулам для предсказания значений по неизменённым признакам:"
   ]
  },
  {
   "cell_type": "markdown",
   "metadata": {},
   "source": [
    "## Проверка алгоритма:"
   ]
  },
  {
   "cell_type": "markdown",
   "metadata": {},
   "source": [
    "Разделю дату на таргет и признаки:"
   ]
  },
  {
   "cell_type": "code",
   "execution_count": 8,
   "metadata": {},
   "outputs": [],
   "source": [
    "target = df['Страховые выплаты']\n",
    "features = df.drop(['Страховые выплаты'], axis = 1)"
   ]
  },
  {
   "cell_type": "markdown",
   "metadata": {},
   "source": [
    "Разделю получившееся на тестовую и тренировочную выборки:"
   ]
  },
  {
   "cell_type": "code",
   "execution_count": 9,
   "metadata": {},
   "outputs": [],
   "source": [
    "features_train, features_test, target_train, target_test = train_test_split(features, target, test_size=0.25, random_state=254)"
   ]
  },
  {
   "cell_type": "markdown",
   "metadata": {},
   "source": [
    "Посчитаем R2 у данных без преобразований:"
   ]
  },
  {
   "cell_type": "code",
   "execution_count": 10,
   "metadata": {},
   "outputs": [
    {
     "name": "stdout",
     "output_type": "stream",
     "text": [
      "R2 = 0.41668703426036524\n"
     ]
    }
   ],
   "source": [
    "#Качество обучения модели без шифрования:\n",
    "model = LinearRegression()\n",
    "model.fit(features_train, target_train)\n",
    "R2_original = r2_score(target_test, model.predict(features_test))\n",
    "print(\"R2 =\", R2_original)"
   ]
  },
  {
   "cell_type": "markdown",
   "metadata": {},
   "source": [
    "Создадим рандомную матрицу, размер возьмем нашей матрицы благодаря методу shape."
   ]
  },
  {
   "cell_type": "code",
   "execution_count": 11,
   "metadata": {},
   "outputs": [],
   "source": [
    "#Узнаем размер нашей матрицы:\n",
    "m = features.shape[1]\n",
    "#Создаем рандомную:\n",
    "random_m = np.random.randint(1,10, size = (m,m))"
   ]
  },
  {
   "cell_type": "code",
   "execution_count": 12,
   "metadata": {},
   "outputs": [
    {
     "data": {
      "text/plain": [
       "array([[8, 7, 9, 9],\n",
       "       [6, 5, 4, 6],\n",
       "       [7, 4, 9, 4],\n",
       "       [9, 3, 4, 2]])"
      ]
     },
     "execution_count": 12,
     "metadata": {},
     "output_type": "execute_result"
    }
   ],
   "source": [
    "random_m"
   ]
  },
  {
   "cell_type": "code",
   "execution_count": 13,
   "metadata": {
    "scrolled": true
   },
   "outputs": [
    {
     "data": {
      "text/plain": [
       "array([[ 0.49382716, -0.60493827, -0.39506173,  0.38271605],\n",
       "       [-2.69135802,  3.24691358,  1.75308642, -1.13580247],\n",
       "       [ 0.04938272, -0.16049383,  0.16049383, -0.0617284 ],\n",
       "       [ 1.71604938, -1.82716049, -1.17283951,  0.60493827]])"
      ]
     },
     "execution_count": 13,
     "metadata": {},
     "output_type": "execute_result"
    }
   ],
   "source": [
    "#Проверим ее на обратимость:\n",
    "np.linalg.inv(random_m)"
   ]
  },
  {
   "cell_type": "markdown",
   "metadata": {},
   "source": [
    "Матрица обратима. Можно умножать!"
   ]
  },
  {
   "cell_type": "code",
   "execution_count": 14,
   "metadata": {
    "scrolled": false
   },
   "outputs": [
    {
     "data": {
      "text/html": [
       "<div>\n",
       "<style scoped>\n",
       "    .dataframe tbody tr th:only-of-type {\n",
       "        vertical-align: middle;\n",
       "    }\n",
       "\n",
       "    .dataframe tbody tr th {\n",
       "        vertical-align: top;\n",
       "    }\n",
       "\n",
       "    .dataframe thead th {\n",
       "        text-align: right;\n",
       "    }\n",
       "</style>\n",
       "<table border=\"1\" class=\"dataframe\">\n",
       "  <thead>\n",
       "    <tr style=\"text-align: right;\">\n",
       "      <th></th>\n",
       "      <th>0</th>\n",
       "      <th>1</th>\n",
       "      <th>2</th>\n",
       "      <th>3</th>\n",
       "    </tr>\n",
       "  </thead>\n",
       "  <tbody>\n",
       "    <tr>\n",
       "      <th>0</th>\n",
       "      <td>347463.0</td>\n",
       "      <td>198615.0</td>\n",
       "      <td>446577.0</td>\n",
       "      <td>198657.0</td>\n",
       "    </tr>\n",
       "    <tr>\n",
       "      <th>1</th>\n",
       "      <td>266285.0</td>\n",
       "      <td>152233.0</td>\n",
       "      <td>342188.0</td>\n",
       "      <td>152278.0</td>\n",
       "    </tr>\n",
       "    <tr>\n",
       "      <th>2</th>\n",
       "      <td>147174.0</td>\n",
       "      <td>84145.0</td>\n",
       "      <td>189116.0</td>\n",
       "      <td>84174.0</td>\n",
       "    </tr>\n",
       "    <tr>\n",
       "      <th>3</th>\n",
       "      <td>292044.0</td>\n",
       "      <td>166911.0</td>\n",
       "      <td>375392.0</td>\n",
       "      <td>166930.0</td>\n",
       "    </tr>\n",
       "    <tr>\n",
       "      <th>4</th>\n",
       "      <td>182876.0</td>\n",
       "      <td>104547.0</td>\n",
       "      <td>235021.0</td>\n",
       "      <td>104577.0</td>\n",
       "    </tr>\n",
       "    <tr>\n",
       "      <th>...</th>\n",
       "      <td>...</td>\n",
       "      <td>...</td>\n",
       "      <td>...</td>\n",
       "      <td>...</td>\n",
       "    </tr>\n",
       "    <tr>\n",
       "      <th>4995</th>\n",
       "      <td>250086.0</td>\n",
       "      <td>142946.0</td>\n",
       "      <td>321420.0</td>\n",
       "      <td>142972.0</td>\n",
       "    </tr>\n",
       "    <tr>\n",
       "      <th>4996</th>\n",
       "      <td>367013.0</td>\n",
       "      <td>209773.0</td>\n",
       "      <td>471740.0</td>\n",
       "      <td>209806.0</td>\n",
       "    </tr>\n",
       "    <tr>\n",
       "      <th>4997</th>\n",
       "      <td>237438.0</td>\n",
       "      <td>135706.0</td>\n",
       "      <td>305188.0</td>\n",
       "      <td>135724.0</td>\n",
       "    </tr>\n",
       "    <tr>\n",
       "      <th>4998</th>\n",
       "      <td>229067.0</td>\n",
       "      <td>130926.0</td>\n",
       "      <td>294409.0</td>\n",
       "      <td>130947.0</td>\n",
       "    </tr>\n",
       "    <tr>\n",
       "      <th>4999</th>\n",
       "      <td>284385.0</td>\n",
       "      <td>162550.0</td>\n",
       "      <td>365525.0</td>\n",
       "      <td>162579.0</td>\n",
       "    </tr>\n",
       "  </tbody>\n",
       "</table>\n",
       "<p>5000 rows × 4 columns</p>\n",
       "</div>"
      ],
      "text/plain": [
       "             0         1         2         3\n",
       "0     347463.0  198615.0  446577.0  198657.0\n",
       "1     266285.0  152233.0  342188.0  152278.0\n",
       "2     147174.0   84145.0  189116.0   84174.0\n",
       "3     292044.0  166911.0  375392.0  166930.0\n",
       "4     182876.0  104547.0  235021.0  104577.0\n",
       "...        ...       ...       ...       ...\n",
       "4995  250086.0  142946.0  321420.0  142972.0\n",
       "4996  367013.0  209773.0  471740.0  209806.0\n",
       "4997  237438.0  135706.0  305188.0  135724.0\n",
       "4998  229067.0  130926.0  294409.0  130947.0\n",
       "4999  284385.0  162550.0  365525.0  162579.0\n",
       "\n",
       "[5000 rows x 4 columns]"
      ]
     },
     "execution_count": 14,
     "metadata": {},
     "output_type": "execute_result"
    }
   ],
   "source": [
    "encrypted_m = features.dot(random_m)\n",
    "encrypted_m"
   ]
  },
  {
   "cell_type": "code",
   "execution_count": 15,
   "metadata": {},
   "outputs": [],
   "source": [
    "features_train, features_test, target_train, target_test = train_test_split(encrypted_m, target, test_size=0.25, random_state=254)"
   ]
  },
  {
   "cell_type": "markdown",
   "metadata": {},
   "source": [
    "Все необходимые преобразования сделали, теперь посчитаем R2 и сравним ее:"
   ]
  },
  {
   "cell_type": "code",
   "execution_count": 16,
   "metadata": {},
   "outputs": [
    {
     "name": "stdout",
     "output_type": "stream",
     "text": [
      "R2 = 0.4166870342604748\n"
     ]
    }
   ],
   "source": [
    "#Качество обучения модели после шифрования:\n",
    "model = LinearRegression()\n",
    "model.fit(features_train, target_train)\n",
    "R2_encrypted = r2_score(target_test, model.predict(features_test))\n",
    "print(\"R2 =\", R2_encrypted)"
   ]
  },
  {
   "cell_type": "code",
   "execution_count": 17,
   "metadata": {},
   "outputs": [
    {
     "data": {
      "text/plain": [
       "0.41668703426036524"
      ]
     },
     "metadata": {},
     "output_type": "display_data"
    },
    {
     "data": {
      "text/plain": [
       "0.4166870342604748"
      ]
     },
     "metadata": {},
     "output_type": "display_data"
    }
   ],
   "source": [
    "display(R2_original)\n",
    "display(R2_encrypted)"
   ]
  },
  {
   "cell_type": "markdown",
   "metadata": {},
   "source": [
    "Вывод: качество обучения модели не изменилось после шифрования данных методом умножения датасета на случайную обратимую матрицу."
   ]
  }
 ],
 "metadata": {
  "ExecuteTimeLog": [
   {
    "duration": 395,
    "start_time": "2023-01-28T06:51:27.393Z"
   },
   {
    "duration": 2,
    "start_time": "2023-01-28T06:51:34.195Z"
   },
   {
    "duration": 99,
    "start_time": "2023-01-28T06:52:30.698Z"
   },
   {
    "duration": 27,
    "start_time": "2023-01-28T06:52:36.234Z"
   },
   {
    "duration": 14,
    "start_time": "2023-01-28T06:52:55.390Z"
   },
   {
    "duration": 20,
    "start_time": "2023-01-28T06:53:22.187Z"
   },
   {
    "duration": 48,
    "start_time": "2023-01-29T05:35:51.233Z"
   },
   {
    "duration": 6,
    "start_time": "2023-01-29T05:36:01.753Z"
   },
   {
    "duration": 419,
    "start_time": "2023-01-29T05:36:09.091Z"
   },
   {
    "duration": 88,
    "start_time": "2023-01-29T05:36:09.512Z"
   },
   {
    "duration": 17,
    "start_time": "2023-01-29T05:36:09.602Z"
   },
   {
    "duration": 16,
    "start_time": "2023-01-29T05:36:09.621Z"
   },
   {
    "duration": 4,
    "start_time": "2023-01-29T05:36:09.638Z"
   },
   {
    "duration": 3,
    "start_time": "2023-01-29T05:36:15.303Z"
   },
   {
    "duration": 27,
    "start_time": "2023-01-29T05:36:15.639Z"
   },
   {
    "duration": 11,
    "start_time": "2023-01-29T05:36:15.911Z"
   },
   {
    "duration": 9,
    "start_time": "2023-01-29T05:36:16.171Z"
   },
   {
    "duration": 4,
    "start_time": "2023-01-29T05:36:16.753Z"
   },
   {
    "duration": 60,
    "start_time": "2023-01-29T05:39:25.210Z"
   },
   {
    "duration": 1122,
    "start_time": "2023-01-29T05:39:43.573Z"
   },
   {
    "duration": 4,
    "start_time": "2023-01-29T05:40:18.539Z"
   },
   {
    "duration": 28,
    "start_time": "2023-01-29T05:40:18.881Z"
   },
   {
    "duration": 11,
    "start_time": "2023-01-29T05:40:19.145Z"
   },
   {
    "duration": 9,
    "start_time": "2023-01-29T05:40:19.371Z"
   },
   {
    "duration": 4,
    "start_time": "2023-01-29T05:40:19.808Z"
   },
   {
    "duration": 5,
    "start_time": "2023-01-29T05:40:20.152Z"
   },
   {
    "duration": 1264,
    "start_time": "2023-01-29T14:38:31.549Z"
   },
   {
    "duration": 28,
    "start_time": "2023-01-29T14:38:32.815Z"
   },
   {
    "duration": 11,
    "start_time": "2023-01-29T14:38:32.844Z"
   },
   {
    "duration": 14,
    "start_time": "2023-01-29T14:38:32.857Z"
   },
   {
    "duration": 6,
    "start_time": "2023-01-29T14:38:32.872Z"
   },
   {
    "duration": 8,
    "start_time": "2023-01-29T14:38:32.879Z"
   },
   {
    "duration": 16,
    "start_time": "2023-01-29T14:38:32.889Z"
   },
   {
    "duration": 79,
    "start_time": "2023-01-29T14:38:32.907Z"
   },
   {
    "duration": 3,
    "start_time": "2023-01-29T14:38:51.042Z"
   },
   {
    "duration": 26,
    "start_time": "2023-01-29T14:38:51.335Z"
   },
   {
    "duration": 10,
    "start_time": "2023-01-29T14:38:51.633Z"
   },
   {
    "duration": 9,
    "start_time": "2023-01-29T14:38:51.969Z"
   },
   {
    "duration": 3,
    "start_time": "2023-01-29T14:38:52.870Z"
   },
   {
    "duration": 4,
    "start_time": "2023-01-29T14:38:53.559Z"
   },
   {
    "duration": 4,
    "start_time": "2023-01-29T14:38:56.188Z"
   },
   {
    "duration": 83,
    "start_time": "2023-01-29T14:43:44.775Z"
   },
   {
    "duration": 85,
    "start_time": "2023-01-29T14:44:41.946Z"
   },
   {
    "duration": 3,
    "start_time": "2023-01-29T14:44:48.958Z"
   },
   {
    "duration": 26,
    "start_time": "2023-01-29T14:44:49.326Z"
   },
   {
    "duration": 10,
    "start_time": "2023-01-29T14:44:49.578Z"
   },
   {
    "duration": 9,
    "start_time": "2023-01-29T14:44:49.883Z"
   },
   {
    "duration": 3,
    "start_time": "2023-01-29T14:44:50.471Z"
   },
   {
    "duration": 4,
    "start_time": "2023-01-29T14:44:51.094Z"
   },
   {
    "duration": 4,
    "start_time": "2023-01-29T14:44:53.200Z"
   },
   {
    "duration": 102,
    "start_time": "2023-01-29T14:44:54.402Z"
   },
   {
    "duration": 96,
    "start_time": "2023-01-29T14:48:06.390Z"
   },
   {
    "duration": 85,
    "start_time": "2023-01-29T14:48:13.643Z"
   },
   {
    "duration": 83,
    "start_time": "2023-01-29T14:48:44.314Z"
   },
   {
    "duration": 4,
    "start_time": "2023-01-29T14:49:21.034Z"
   },
   {
    "duration": 99,
    "start_time": "2023-01-29T14:49:22.634Z"
   },
   {
    "duration": 100,
    "start_time": "2023-01-29T14:51:15.171Z"
   },
   {
    "duration": 4,
    "start_time": "2023-01-29T14:51:24.451Z"
   },
   {
    "duration": 87,
    "start_time": "2023-01-29T14:51:25.274Z"
   },
   {
    "duration": 1727,
    "start_time": "2023-01-30T17:07:21.730Z"
   },
   {
    "duration": 100,
    "start_time": "2023-01-30T17:07:23.459Z"
   },
   {
    "duration": 17,
    "start_time": "2023-01-30T17:07:23.561Z"
   },
   {
    "duration": 58,
    "start_time": "2023-01-30T17:07:23.581Z"
   },
   {
    "duration": 36,
    "start_time": "2023-01-30T17:07:23.641Z"
   },
   {
    "duration": 44,
    "start_time": "2023-01-30T17:07:23.679Z"
   },
   {
    "duration": 33,
    "start_time": "2023-01-30T17:07:23.725Z"
   },
   {
    "duration": 190,
    "start_time": "2023-01-30T17:07:23.760Z"
   },
   {
    "duration": 4,
    "start_time": "2023-01-30T17:07:28.124Z"
   },
   {
    "duration": 25,
    "start_time": "2023-01-30T17:07:28.522Z"
   },
   {
    "duration": 15,
    "start_time": "2023-01-30T17:07:28.883Z"
   },
   {
    "duration": 11,
    "start_time": "2023-01-30T17:07:29.283Z"
   },
   {
    "duration": 4,
    "start_time": "2023-01-30T17:07:30.003Z"
   },
   {
    "duration": 7,
    "start_time": "2023-01-30T17:07:30.563Z"
   },
   {
    "duration": 5,
    "start_time": "2023-01-30T17:07:32.363Z"
   },
   {
    "duration": 59,
    "start_time": "2023-01-30T17:07:34.067Z"
   },
   {
    "duration": 63,
    "start_time": "2023-01-30T17:48:11.795Z"
   },
   {
    "duration": 3,
    "start_time": "2023-01-30T18:53:04.314Z"
   },
   {
    "duration": 4,
    "start_time": "2023-01-30T18:53:49.526Z"
   },
   {
    "duration": 3,
    "start_time": "2023-01-30T18:54:06.803Z"
   },
   {
    "duration": 5,
    "start_time": "2023-01-30T18:54:07.104Z"
   },
   {
    "duration": 4,
    "start_time": "2023-01-30T18:54:09.682Z"
   },
   {
    "duration": 8,
    "start_time": "2023-01-30T18:54:09.970Z"
   },
   {
    "duration": 4,
    "start_time": "2023-01-30T18:54:40.695Z"
   },
   {
    "duration": 6,
    "start_time": "2023-01-30T18:54:41.008Z"
   },
   {
    "duration": 9,
    "start_time": "2023-01-30T18:54:46.171Z"
   },
   {
    "duration": 5,
    "start_time": "2023-01-30T18:54:46.422Z"
   },
   {
    "duration": 6,
    "start_time": "2023-01-30T18:55:11.372Z"
   },
   {
    "duration": 12,
    "start_time": "2023-01-30T18:55:11.757Z"
   },
   {
    "duration": 4,
    "start_time": "2023-01-30T18:55:36.212Z"
   },
   {
    "duration": 6,
    "start_time": "2023-01-30T18:55:36.425Z"
   },
   {
    "duration": 17,
    "start_time": "2023-01-30T18:55:57.892Z"
   },
   {
    "duration": 14,
    "start_time": "2023-01-30T18:56:03.512Z"
   },
   {
    "duration": 6,
    "start_time": "2023-01-30T18:56:08.989Z"
   },
   {
    "duration": 21,
    "start_time": "2023-01-30T18:56:09.271Z"
   },
   {
    "duration": 28,
    "start_time": "2023-01-30T18:56:09.969Z"
   },
   {
    "duration": 12,
    "start_time": "2023-01-30T18:56:14.581Z"
   },
   {
    "duration": 14,
    "start_time": "2023-01-30T18:56:19.278Z"
   },
   {
    "duration": 11,
    "start_time": "2023-01-30T18:58:28.432Z"
   },
   {
    "duration": 11,
    "start_time": "2023-01-30T18:58:42.520Z"
   },
   {
    "duration": 11,
    "start_time": "2023-01-30T18:59:06.371Z"
   },
   {
    "duration": 6,
    "start_time": "2023-01-30T18:59:09.967Z"
   },
   {
    "duration": 27,
    "start_time": "2023-01-30T18:59:10.181Z"
   },
   {
    "duration": 14,
    "start_time": "2023-01-30T18:59:10.486Z"
   },
   {
    "duration": 9,
    "start_time": "2023-01-30T18:59:10.692Z"
   },
   {
    "duration": 6,
    "start_time": "2023-01-30T18:59:11.320Z"
   },
   {
    "duration": 6,
    "start_time": "2023-01-30T18:59:11.821Z"
   },
   {
    "duration": 5,
    "start_time": "2023-01-30T18:59:15.480Z"
   },
   {
    "duration": 6,
    "start_time": "2023-01-30T18:59:15.776Z"
   },
   {
    "duration": 6,
    "start_time": "2023-01-30T18:59:16.184Z"
   },
   {
    "duration": 17,
    "start_time": "2023-01-30T18:59:18.574Z"
   },
   {
    "duration": 20,
    "start_time": "2023-01-30T18:59:49.843Z"
   },
   {
    "duration": 5,
    "start_time": "2023-01-30T18:59:50.290Z"
   },
   {
    "duration": 4,
    "start_time": "2023-01-30T19:00:17.382Z"
   },
   {
    "duration": 12,
    "start_time": "2023-01-30T19:00:18.067Z"
   },
   {
    "duration": 6,
    "start_time": "2023-01-30T19:00:18.589Z"
   },
   {
    "duration": 21,
    "start_time": "2023-01-30T19:00:19.484Z"
   },
   {
    "duration": 17,
    "start_time": "2023-01-30T19:01:26.468Z"
   },
   {
    "duration": 4,
    "start_time": "2023-01-30T19:01:55.895Z"
   },
   {
    "duration": 5,
    "start_time": "2023-01-30T19:01:56.384Z"
   },
   {
    "duration": 5,
    "start_time": "2023-01-30T19:01:58.515Z"
   },
   {
    "duration": 14,
    "start_time": "2023-01-30T19:02:45.774Z"
   },
   {
    "duration": 19,
    "start_time": "2023-01-30T19:03:17.337Z"
   },
   {
    "duration": 6,
    "start_time": "2023-01-30T19:03:17.984Z"
   },
   {
    "duration": 8,
    "start_time": "2023-01-30T19:03:24.674Z"
   },
   {
    "duration": 28,
    "start_time": "2023-01-30T19:03:26.031Z"
   },
   {
    "duration": 22,
    "start_time": "2023-01-30T19:03:59.030Z"
   },
   {
    "duration": 14,
    "start_time": "2023-01-30T19:04:18.116Z"
   },
   {
    "duration": 4,
    "start_time": "2023-01-30T19:05:04.303Z"
   },
   {
    "duration": 5,
    "start_time": "2023-01-30T19:05:04.806Z"
   },
   {
    "duration": 6,
    "start_time": "2023-01-30T19:05:05.091Z"
   },
   {
    "duration": 13,
    "start_time": "2023-01-30T19:05:05.996Z"
   },
   {
    "duration": 26,
    "start_time": "2023-01-30T19:06:17.364Z"
   },
   {
    "duration": 15,
    "start_time": "2023-01-30T19:06:32.290Z"
   },
   {
    "duration": 7,
    "start_time": "2023-01-30T19:07:09.924Z"
   },
   {
    "duration": 8,
    "start_time": "2023-01-30T19:08:09.481Z"
   },
   {
    "duration": 5,
    "start_time": "2023-01-30T19:08:12.293Z"
   },
   {
    "duration": 50,
    "start_time": "2023-01-30T19:08:12.521Z"
   },
   {
    "duration": 24,
    "start_time": "2023-01-30T19:08:12.966Z"
   },
   {
    "duration": 9,
    "start_time": "2023-01-30T19:08:13.202Z"
   },
   {
    "duration": 3,
    "start_time": "2023-01-30T19:08:13.791Z"
   },
   {
    "duration": 8,
    "start_time": "2023-01-30T19:08:14.280Z"
   },
   {
    "duration": 3,
    "start_time": "2023-01-30T19:08:17.730Z"
   },
   {
    "duration": 3,
    "start_time": "2023-01-30T19:08:24.493Z"
   },
   {
    "duration": 7,
    "start_time": "2023-01-30T19:08:24.786Z"
   },
   {
    "duration": 8,
    "start_time": "2023-01-30T19:08:25.025Z"
   },
   {
    "duration": 22,
    "start_time": "2023-01-30T19:08:25.565Z"
   },
   {
    "duration": 11,
    "start_time": "2023-01-30T19:08:25.868Z"
   },
   {
    "duration": 5,
    "start_time": "2023-01-30T19:08:42.018Z"
   },
   {
    "duration": 16,
    "start_time": "2023-01-30T19:18:24.291Z"
   },
   {
    "duration": 4,
    "start_time": "2023-01-30T19:18:43.293Z"
   },
   {
    "duration": 37,
    "start_time": "2023-01-30T19:18:43.525Z"
   },
   {
    "duration": 23,
    "start_time": "2023-01-30T19:18:43.729Z"
   },
   {
    "duration": 10,
    "start_time": "2023-01-30T19:18:43.954Z"
   },
   {
    "duration": 5,
    "start_time": "2023-01-30T19:18:44.404Z"
   },
   {
    "duration": 15,
    "start_time": "2023-01-30T19:18:44.936Z"
   },
   {
    "duration": 11,
    "start_time": "2023-01-30T19:18:48.336Z"
   },
   {
    "duration": 9,
    "start_time": "2023-01-30T19:18:48.546Z"
   },
   {
    "duration": 5,
    "start_time": "2023-01-30T19:18:48.786Z"
   },
   {
    "duration": 13,
    "start_time": "2023-01-30T19:18:49.262Z"
   },
   {
    "duration": 6,
    "start_time": "2023-01-30T19:18:49.529Z"
   },
   {
    "duration": 18,
    "start_time": "2023-01-30T19:18:50.242Z"
   },
   {
    "duration": 1416,
    "start_time": "2023-01-30T19:21:49.084Z"
   },
   {
    "duration": 27,
    "start_time": "2023-01-30T19:21:50.502Z"
   },
   {
    "duration": 44,
    "start_time": "2023-01-30T19:21:50.531Z"
   },
   {
    "duration": 30,
    "start_time": "2023-01-30T19:21:50.577Z"
   },
   {
    "duration": 38,
    "start_time": "2023-01-30T19:21:50.609Z"
   },
   {
    "duration": 52,
    "start_time": "2023-01-30T19:21:50.650Z"
   },
   {
    "duration": 152,
    "start_time": "2023-01-30T19:21:50.704Z"
   },
   {
    "duration": 0,
    "start_time": "2023-01-30T19:21:50.858Z"
   },
   {
    "duration": 0,
    "start_time": "2023-01-30T19:21:50.860Z"
   },
   {
    "duration": 0,
    "start_time": "2023-01-30T19:21:50.861Z"
   },
   {
    "duration": 0,
    "start_time": "2023-01-30T19:21:50.862Z"
   },
   {
    "duration": 0,
    "start_time": "2023-01-30T19:21:50.863Z"
   },
   {
    "duration": 4,
    "start_time": "2023-01-30T19:22:13.880Z"
   },
   {
    "duration": 36,
    "start_time": "2023-01-30T19:22:14.121Z"
   },
   {
    "duration": 11,
    "start_time": "2023-01-30T19:22:14.354Z"
   },
   {
    "duration": 10,
    "start_time": "2023-01-30T19:22:14.573Z"
   },
   {
    "duration": 5,
    "start_time": "2023-01-30T19:22:15.020Z"
   },
   {
    "duration": 5,
    "start_time": "2023-01-30T19:22:15.396Z"
   },
   {
    "duration": 16,
    "start_time": "2023-01-30T19:22:19.886Z"
   },
   {
    "duration": 4,
    "start_time": "2023-01-30T19:22:51.757Z"
   },
   {
    "duration": 4,
    "start_time": "2023-01-30T19:22:52.102Z"
   },
   {
    "duration": 7,
    "start_time": "2023-01-30T19:22:52.515Z"
   },
   {
    "duration": 14,
    "start_time": "2023-01-30T19:22:53.382Z"
   },
   {
    "duration": 8,
    "start_time": "2023-01-30T19:22:53.754Z"
   },
   {
    "duration": 4,
    "start_time": "2023-01-30T19:26:48.567Z"
   },
   {
    "duration": 6,
    "start_time": "2023-01-30T19:26:49.293Z"
   },
   {
    "duration": 14,
    "start_time": "2023-01-30T19:27:44.422Z"
   },
   {
    "duration": 5,
    "start_time": "2023-01-30T19:29:31.470Z"
   },
   {
    "duration": 1481,
    "start_time": "2023-01-30T19:30:36.739Z"
   },
   {
    "duration": 42,
    "start_time": "2023-01-30T19:30:38.222Z"
   },
   {
    "duration": 15,
    "start_time": "2023-01-30T19:30:38.267Z"
   },
   {
    "duration": 17,
    "start_time": "2023-01-30T19:30:38.285Z"
   },
   {
    "duration": 4,
    "start_time": "2023-01-30T19:30:38.304Z"
   },
   {
    "duration": 9,
    "start_time": "2023-01-30T19:30:38.309Z"
   },
   {
    "duration": 10,
    "start_time": "2023-01-30T19:30:38.320Z"
   },
   {
    "duration": 4,
    "start_time": "2023-01-30T19:30:38.340Z"
   },
   {
    "duration": 6,
    "start_time": "2023-01-30T19:30:38.347Z"
   },
   {
    "duration": 16,
    "start_time": "2023-01-30T19:30:38.356Z"
   },
   {
    "duration": 82,
    "start_time": "2023-01-30T19:30:38.374Z"
   },
   {
    "duration": 85,
    "start_time": "2023-01-30T19:30:38.459Z"
   },
   {
    "duration": 4,
    "start_time": "2023-01-30T19:30:41.824Z"
   },
   {
    "duration": 31,
    "start_time": "2023-01-30T19:30:42.128Z"
   },
   {
    "duration": 12,
    "start_time": "2023-01-30T19:30:42.686Z"
   },
   {
    "duration": 10,
    "start_time": "2023-01-30T19:30:43.029Z"
   },
   {
    "duration": 4,
    "start_time": "2023-01-30T19:30:46.825Z"
   },
   {
    "duration": 6,
    "start_time": "2023-01-30T19:30:47.477Z"
   },
   {
    "duration": 8,
    "start_time": "2023-01-30T19:30:48.456Z"
   },
   {
    "duration": 3,
    "start_time": "2023-01-30T19:30:49.348Z"
   },
   {
    "duration": 5,
    "start_time": "2023-01-30T19:30:49.682Z"
   },
   {
    "duration": 5,
    "start_time": "2023-01-30T19:30:49.951Z"
   },
   {
    "duration": 13,
    "start_time": "2023-01-30T19:30:51.195Z"
   },
   {
    "duration": 7,
    "start_time": "2023-01-30T19:30:51.772Z"
   },
   {
    "duration": 9,
    "start_time": "2023-01-30T19:32:23.852Z"
   },
   {
    "duration": 8,
    "start_time": "2023-01-30T19:32:50.652Z"
   },
   {
    "duration": 3,
    "start_time": "2023-01-30T19:32:51.230Z"
   },
   {
    "duration": 5,
    "start_time": "2023-01-30T19:32:51.738Z"
   },
   {
    "duration": 6,
    "start_time": "2023-01-30T19:32:52.270Z"
   },
   {
    "duration": 13,
    "start_time": "2023-01-30T19:32:52.916Z"
   },
   {
    "duration": 6,
    "start_time": "2023-01-30T19:32:53.261Z"
   },
   {
    "duration": 10,
    "start_time": "2023-01-30T19:32:53.964Z"
   },
   {
    "duration": 5,
    "start_time": "2023-01-30T19:33:40.000Z"
   },
   {
    "duration": 1437,
    "start_time": "2023-01-30T19:35:51.630Z"
   },
   {
    "duration": 27,
    "start_time": "2023-01-30T19:35:53.069Z"
   },
   {
    "duration": 12,
    "start_time": "2023-01-30T19:35:53.098Z"
   },
   {
    "duration": 15,
    "start_time": "2023-01-30T19:35:53.112Z"
   },
   {
    "duration": 4,
    "start_time": "2023-01-30T19:35:53.129Z"
   },
   {
    "duration": 10,
    "start_time": "2023-01-30T19:35:53.134Z"
   },
   {
    "duration": 11,
    "start_time": "2023-01-30T19:35:53.145Z"
   },
   {
    "duration": 3,
    "start_time": "2023-01-30T19:35:53.158Z"
   },
   {
    "duration": 9,
    "start_time": "2023-01-30T19:35:53.162Z"
   },
   {
    "duration": 8,
    "start_time": "2023-01-30T19:35:53.172Z"
   },
   {
    "duration": 70,
    "start_time": "2023-01-30T19:35:53.182Z"
   },
   {
    "duration": 88,
    "start_time": "2023-01-30T19:35:53.254Z"
   },
   {
    "duration": 10,
    "start_time": "2023-01-30T19:35:53.344Z"
   },
   {
    "duration": 5,
    "start_time": "2023-01-30T19:35:53.358Z"
   },
   {
    "duration": 5,
    "start_time": "2023-01-30T19:35:57.201Z"
   },
   {
    "duration": 25,
    "start_time": "2023-01-30T19:35:57.511Z"
   },
   {
    "duration": 10,
    "start_time": "2023-01-30T19:35:57.751Z"
   },
   {
    "duration": 14,
    "start_time": "2023-01-30T19:35:58.027Z"
   },
   {
    "duration": 4,
    "start_time": "2023-01-30T19:36:02.204Z"
   },
   {
    "duration": 5,
    "start_time": "2023-01-30T19:36:02.728Z"
   },
   {
    "duration": 9,
    "start_time": "2023-01-30T19:36:03.314Z"
   },
   {
    "duration": 4,
    "start_time": "2023-01-30T19:36:03.896Z"
   },
   {
    "duration": 4,
    "start_time": "2023-01-30T19:36:04.175Z"
   },
   {
    "duration": 5,
    "start_time": "2023-01-30T19:36:04.436Z"
   },
   {
    "duration": 12,
    "start_time": "2023-01-30T19:36:05.003Z"
   },
   {
    "duration": 5,
    "start_time": "2023-01-30T19:36:05.249Z"
   },
   {
    "duration": 8,
    "start_time": "2023-01-30T19:36:05.825Z"
   },
   {
    "duration": 5,
    "start_time": "2023-01-30T19:36:06.100Z"
   },
   {
    "duration": 1801,
    "start_time": "2023-01-30T19:52:42.832Z"
   },
   {
    "duration": 27,
    "start_time": "2023-01-30T19:52:44.635Z"
   },
   {
    "duration": 10,
    "start_time": "2023-01-30T19:52:44.664Z"
   },
   {
    "duration": 36,
    "start_time": "2023-01-30T19:52:44.676Z"
   },
   {
    "duration": 8,
    "start_time": "2023-01-30T19:52:44.713Z"
   },
   {
    "duration": 7,
    "start_time": "2023-01-30T19:52:44.722Z"
   },
   {
    "duration": 12,
    "start_time": "2023-01-30T19:52:44.731Z"
   },
   {
    "duration": 2,
    "start_time": "2023-01-30T19:52:44.745Z"
   },
   {
    "duration": 9,
    "start_time": "2023-01-30T19:52:44.748Z"
   },
   {
    "duration": 6,
    "start_time": "2023-01-30T19:52:44.759Z"
   },
   {
    "duration": 39,
    "start_time": "2023-01-30T19:52:44.767Z"
   },
   {
    "duration": 85,
    "start_time": "2023-01-30T19:52:44.808Z"
   },
   {
    "duration": 96,
    "start_time": "2023-01-30T19:52:44.895Z"
   },
   {
    "duration": 14,
    "start_time": "2023-01-30T19:52:44.993Z"
   },
   {
    "duration": 1691,
    "start_time": "2023-01-30T20:10:37.603Z"
   },
   {
    "duration": 27,
    "start_time": "2023-01-30T20:10:39.296Z"
   },
   {
    "duration": 10,
    "start_time": "2023-01-30T20:10:39.325Z"
   },
   {
    "duration": 13,
    "start_time": "2023-01-30T20:10:39.337Z"
   },
   {
    "duration": 3,
    "start_time": "2023-01-30T20:10:39.351Z"
   },
   {
    "duration": 16,
    "start_time": "2023-01-30T20:10:39.356Z"
   },
   {
    "duration": 13,
    "start_time": "2023-01-30T20:10:39.373Z"
   },
   {
    "duration": 5,
    "start_time": "2023-01-30T20:10:39.388Z"
   },
   {
    "duration": 7,
    "start_time": "2023-01-30T20:10:39.394Z"
   },
   {
    "duration": 8,
    "start_time": "2023-01-30T20:10:39.403Z"
   },
   {
    "duration": 87,
    "start_time": "2023-01-30T20:10:39.412Z"
   },
   {
    "duration": 6,
    "start_time": "2023-01-30T20:10:39.501Z"
   },
   {
    "duration": 89,
    "start_time": "2023-01-30T20:10:39.508Z"
   },
   {
    "duration": 7,
    "start_time": "2023-01-30T20:10:39.599Z"
   },
   {
    "duration": 48,
    "start_time": "2023-01-30T20:38:33.987Z"
   },
   {
    "duration": 165,
    "start_time": "2023-01-30T20:39:29.030Z"
   },
   {
    "duration": 26,
    "start_time": "2023-01-30T20:39:32.398Z"
   },
   {
    "duration": 5,
    "start_time": "2023-01-30T20:42:53.975Z"
   },
   {
    "duration": 39,
    "start_time": "2023-01-30T20:42:55.626Z"
   },
   {
    "duration": 18,
    "start_time": "2023-01-30T20:42:55.765Z"
   },
   {
    "duration": 14,
    "start_time": "2023-01-30T20:42:55.956Z"
   },
   {
    "duration": 32,
    "start_time": "2023-01-30T20:42:56.134Z"
   },
   {
    "duration": 7,
    "start_time": "2023-01-30T20:43:01.035Z"
   },
   {
    "duration": 6,
    "start_time": "2023-01-30T20:43:01.578Z"
   },
   {
    "duration": 14,
    "start_time": "2023-01-30T20:43:02.102Z"
   },
   {
    "duration": 4,
    "start_time": "2023-01-30T20:43:04.258Z"
   },
   {
    "duration": 5,
    "start_time": "2023-01-30T20:43:04.522Z"
   },
   {
    "duration": 6,
    "start_time": "2023-01-30T20:43:04.728Z"
   },
   {
    "duration": 15,
    "start_time": "2023-01-30T20:43:05.978Z"
   },
   {
    "duration": 6,
    "start_time": "2023-01-30T20:43:06.432Z"
   },
   {
    "duration": 9,
    "start_time": "2023-01-30T20:43:07.167Z"
   },
   {
    "duration": 7,
    "start_time": "2023-01-30T20:43:07.430Z"
   },
   {
    "duration": 1438,
    "start_time": "2023-01-30T20:55:56.606Z"
   },
   {
    "duration": 28,
    "start_time": "2023-01-30T20:55:58.045Z"
   },
   {
    "duration": 11,
    "start_time": "2023-01-30T20:55:58.075Z"
   },
   {
    "duration": 26,
    "start_time": "2023-01-30T20:55:58.088Z"
   },
   {
    "duration": 26,
    "start_time": "2023-01-30T20:55:58.115Z"
   },
   {
    "duration": 3,
    "start_time": "2023-01-30T20:55:58.143Z"
   },
   {
    "duration": 11,
    "start_time": "2023-01-30T20:55:58.147Z"
   },
   {
    "duration": 21,
    "start_time": "2023-01-30T20:55:58.160Z"
   },
   {
    "duration": 7,
    "start_time": "2023-01-30T20:55:58.183Z"
   },
   {
    "duration": 21,
    "start_time": "2023-01-30T20:55:58.192Z"
   },
   {
    "duration": 30,
    "start_time": "2023-01-30T20:55:58.215Z"
   },
   {
    "duration": 52,
    "start_time": "2023-01-30T20:55:58.246Z"
   },
   {
    "duration": 5,
    "start_time": "2023-01-30T20:55:58.300Z"
   },
   {
    "duration": 89,
    "start_time": "2023-01-30T20:55:58.307Z"
   },
   {
    "duration": 4,
    "start_time": "2023-01-30T20:55:58.397Z"
   }
  ],
  "kernelspec": {
   "display_name": "Python 3 (ipykernel)",
   "language": "python",
   "name": "python3"
  },
  "language_info": {
   "codemirror_mode": {
    "name": "ipython",
    "version": 3
   },
   "file_extension": ".py",
   "mimetype": "text/x-python",
   "name": "python",
   "nbconvert_exporter": "python",
   "pygments_lexer": "ipython3",
   "version": "3.10.7"
  },
  "toc": {
   "base_numbering": 1,
   "nav_menu": {},
   "number_sections": true,
   "sideBar": true,
   "skip_h1_title": true,
   "title_cell": "Содержание",
   "title_sidebar": "Contents",
   "toc_cell": true,
   "toc_position": {
    "height": "calc(100% - 180px)",
    "left": "10px",
    "top": "150px",
    "width": "165px"
   },
   "toc_section_display": true,
   "toc_window_display": false
  }
 },
 "nbformat": 4,
 "nbformat_minor": 2
}
