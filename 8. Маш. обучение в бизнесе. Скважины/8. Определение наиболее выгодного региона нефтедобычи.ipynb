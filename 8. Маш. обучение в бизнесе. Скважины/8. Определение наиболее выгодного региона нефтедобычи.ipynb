{
 "cells": [
  {
   "cell_type": "markdown",
   "metadata": {},
   "source": [
    "# Выбор локации для скважины"
   ]
  },
  {
   "cell_type": "markdown",
   "metadata": {},
   "source": [
    "Предоставлены пробы нефти в трёх регионах: в каждом 10 000 месторождений, где измерили качество нефти и объём её запасов. Нужно построить модель машинного обучения, которая поможет определить регион, где добыча принесёт наибольшую прибыль. Проанализировать возможную прибыль и риски техникой *Bootstrap.*\n",
    "\n",
    "Шаги для выбора локации:\n",
    "\n",
    "- В избранном регионе ищут месторождения, для каждого определяют значения признаков;\n",
    "- Строят модель и оценивают объём запасов;\n",
    "- Выбирают месторождения с самым высокими оценками значений. Количество месторождений зависит от бюджета компании и стоимости разработки одной скважины;\n",
    "- Прибыль равна суммарной прибыли отобранных месторождений."
   ]
  },
  {
   "cell_type": "markdown",
   "metadata": {},
   "source": [
    "План действий:\n",
    "\n",
    "После загрузки и подготовки данных, обучу модель для каждого региона, оценю RMSE этой модели. Затем проанализирую результаты и проведу расчет прибыли для каждого региона. Рассчитаю достаточный объем сырья для безубыточной разработки новой скважины. Сравню полученный объем сырья со средним запасом в каждом регионе. Далее буду работать со скважиной с максимальными значениями предсказаний. Рассчитаю прибыль для суммы объема сырья, соответствующего предсказаниям. Посчитаю риски и прибыль для каждого региона (Bootstraр, чтобы найти распределение прибыли.ю и найду среднюю прибыль, 95%-й доверительный интервал и риск убытков. После анализа и вывода о проделанной работе можно предложить регион для разработки скважин. "
   ]
  },
  {
   "cell_type": "markdown",
   "metadata": {},
   "source": [
    "## Импорт и изучение данных:"
   ]
  },
  {
   "cell_type": "code",
   "execution_count": 5,
   "metadata": {},
   "outputs": [],
   "source": [
    "# Импорт библиотек:\n",
    "import pandas as pd\n",
    "from sklearn.model_selection import train_test_split\n",
    "from matplotlib import pyplot as plt\n",
    "from sklearn.linear_model import LinearRegression\n",
    "from sklearn.model_selection import cross_val_score\n",
    "from sklearn.metrics import f1_score\n",
    "from sklearn.metrics import accuracy_score\n",
    "from sklearn.metrics import mean_squared_error\n",
    "from numpy.random import RandomState"
   ]
  },
  {
   "cell_type": "code",
   "execution_count": 3,
   "metadata": {},
   "outputs": [],
   "source": [
    "# Импорт данных:\n",
    "data_0 = pd.read_csv('https://code.s3.yandex.net/datasets/geo_data_0.csv')\n",
    "data_1 = pd.read_csv('https://code.s3.yandex.net/datasets/geo_data_1.csv')\n",
    "data_2 = pd.read_csv('https://code.s3.yandex.net/datasets/geo_data_2.csv')"
   ]
  },
  {
   "cell_type": "markdown",
   "metadata": {},
   "source": [
    "Изучим данные:"
   ]
  },
  {
   "cell_type": "code",
   "execution_count": 8,
   "metadata": {
    "scrolled": false
   },
   "outputs": [
    {
     "name": "stdout",
     "output_type": "stream",
     "text": [
      "<class 'pandas.core.frame.DataFrame'>\n",
      "RangeIndex: 100000 entries, 0 to 99999\n",
      "Data columns (total 5 columns):\n",
      " #   Column   Non-Null Count   Dtype  \n",
      "---  ------   --------------   -----  \n",
      " 0   id       100000 non-null  object \n",
      " 1   f0       100000 non-null  float64\n",
      " 2   f1       100000 non-null  float64\n",
      " 3   f2       100000 non-null  float64\n",
      " 4   product  100000 non-null  float64\n",
      "dtypes: float64(4), object(1)\n",
      "memory usage: 3.8+ MB\n",
      "<class 'pandas.core.frame.DataFrame'>\n",
      "RangeIndex: 100000 entries, 0 to 99999\n",
      "Data columns (total 5 columns):\n",
      " #   Column   Non-Null Count   Dtype  \n",
      "---  ------   --------------   -----  \n",
      " 0   id       100000 non-null  object \n",
      " 1   f0       100000 non-null  float64\n",
      " 2   f1       100000 non-null  float64\n",
      " 3   f2       100000 non-null  float64\n",
      " 4   product  100000 non-null  float64\n",
      "dtypes: float64(4), object(1)\n",
      "memory usage: 3.8+ MB\n",
      "<class 'pandas.core.frame.DataFrame'>\n",
      "RangeIndex: 100000 entries, 0 to 99999\n",
      "Data columns (total 5 columns):\n",
      " #   Column   Non-Null Count   Dtype  \n",
      "---  ------   --------------   -----  \n",
      " 0   id       100000 non-null  object \n",
      " 1   f0       100000 non-null  float64\n",
      " 2   f1       100000 non-null  float64\n",
      " 3   f2       100000 non-null  float64\n",
      " 4   product  100000 non-null  float64\n",
      "dtypes: float64(4), object(1)\n",
      "memory usage: 3.8+ MB\n"
     ]
    },
    {
     "data": {
      "text/plain": [
       "(None, None, None)"
      ]
     },
     "execution_count": 8,
     "metadata": {},
     "output_type": "execute_result"
    }
   ],
   "source": [
    "data_0.info(), data_1.info(), data_2.info()"
   ]
  },
  {
   "cell_type": "code",
   "execution_count": 9,
   "metadata": {},
   "outputs": [
    {
     "data": {
      "text/plain": [
       "(      id        f0        f1        f2     product\n",
       " 0  txEyH  0.705745 -0.497823  1.221170  105.280062\n",
       " 1  2acmU  1.334711 -0.340164  4.365080   73.037750\n",
       " 2  409Wp  1.022732  0.151990  1.419926   85.265647\n",
       " 3  iJLyR -0.032172  0.139033  2.978566  168.620776\n",
       " 4  Xdl7t  1.988431  0.155413  4.751769  154.036647,\n",
       "       id         f0         f1        f2     product\n",
       " 0  kBEdx -15.001348  -8.276000 -0.005876    3.179103\n",
       " 1  62mP7  14.272088  -3.475083  0.999183   26.953261\n",
       " 2  vyE1P   6.263187  -5.948386  5.001160  134.766305\n",
       " 3  KcrkZ -13.081196 -11.506057  4.999415  137.945408\n",
       " 4  AHL4O  12.702195  -8.147433  5.004363  134.766305,\n",
       "       id        f0        f1        f2     product\n",
       " 0  fwXo0 -1.146987  0.963328 -0.828965   27.758673\n",
       " 1  WJtFt  0.262778  0.269839 -2.530187   56.069697\n",
       " 2  ovLUW  0.194587  0.289035 -5.586433   62.871910\n",
       " 3  q6cA6  2.236060 -0.553760  0.930038  114.572842\n",
       " 4  WPMUX -0.515993  1.716266  5.899011  149.600746)"
      ]
     },
     "execution_count": 9,
     "metadata": {},
     "output_type": "execute_result"
    }
   ],
   "source": [
    "data_0.head(), data_1.head(), data_2.head()"
   ]
  },
  {
   "cell_type": "markdown",
   "metadata": {},
   "source": [
    "Вывод: Во всех 3 data по 100 тысяч строк, 5 колонок, а тип данных float64, кроме id, что есть норма. Пропусков в данных нет. Данные не нуждаются в подготовке. "
   ]
  },
  {
   "cell_type": "markdown",
   "metadata": {},
   "source": [
    "## Обучение и проверка модели:"
   ]
  },
  {
   "cell_type": "markdown",
   "metadata": {},
   "source": [
    "2.1 Разобьем данные на обучающую и валидационную выборки в соотношении 75:25:"
   ]
  },
  {
   "cell_type": "code",
   "execution_count": 10,
   "metadata": {},
   "outputs": [],
   "source": [
    "#Разделю дата на целевой признак и остальное:\n",
    "target_0 = data_0['product']\n",
    "features_0 = data_0.drop(['product', 'id'], axis=1)"
   ]
  },
  {
   "cell_type": "code",
   "execution_count": 11,
   "metadata": {},
   "outputs": [],
   "source": [
    "#Разобью данные на обучающую и валидационную выборки:\n",
    "features_train_0, features_valid_0, target_train_0,target_valid_0 = \\\n",
    "train_test_split(features_0, target_0, test_size=0.25, random_state=12345)"
   ]
  },
  {
   "cell_type": "markdown",
   "metadata": {},
   "source": [
    "Проделаю этот этап отдельно для каждого региона:"
   ]
  },
  {
   "cell_type": "code",
   "execution_count": 12,
   "metadata": {},
   "outputs": [],
   "source": [
    "#Разделю дата на целевой признак и остальное:\n",
    "target_1 = data_1['product']\n",
    "features_1 = data_1.drop(['product', 'id'], axis=1)\n",
    "#Разобью данные на обучающую и валидационную выборки:\n",
    "features_train_1, features_valid_1, target_train_1,target_valid_1 = \\\n",
    "train_test_split(features_1, target_1, test_size=0.25, random_state=12345)"
   ]
  },
  {
   "cell_type": "code",
   "execution_count": 13,
   "metadata": {},
   "outputs": [],
   "source": [
    "#Разделю дата на целевой признак и остальное:\n",
    "target_2 = data_2['product']\n",
    "features_2 = data_2.drop(['product', 'id'], axis=1)\n",
    "#Разобью данные на обучающую и валидационную выборки:\n",
    "features_train_2, features_valid_2, target_train_2,target_valid_2 = \\\n",
    "train_test_split(features_2, target_2, test_size=0.25, random_state=12345)"
   ]
  },
  {
   "cell_type": "markdown",
   "metadata": {},
   "source": [
    "2.2. Обучение модели и предсказание на валидационной выборке:"
   ]
  },
  {
   "cell_type": "code",
   "execution_count": 14,
   "metadata": {},
   "outputs": [],
   "source": [
    "#Обучу модель:\n",
    "model_0 = LinearRegression()\n",
    "model_0.fit(features_train_0, target_train_0)\n",
    "#Предсказания на валидационной выборке:\n",
    "predicted_valid_0 = model_0.predict(features_valid_0)"
   ]
  },
  {
   "cell_type": "code",
   "execution_count": 15,
   "metadata": {},
   "outputs": [],
   "source": [
    "#Обучу модель:\n",
    "model_1 = LinearRegression()\n",
    "model_1.fit(features_train_1, target_train_1)\n",
    "#Предсказания на валидационной выборке:\n",
    "predicted_valid_1 = model_1.predict(features_valid_1)"
   ]
  },
  {
   "cell_type": "code",
   "execution_count": 16,
   "metadata": {},
   "outputs": [],
   "source": [
    "#Обучу модель:\n",
    "model_2 = LinearRegression()\n",
    "model_2.fit(features_train_2, target_train_2)\n",
    "#Предсказания на валидационной выборке:\n",
    "predicted_valid_2 = model_2.predict(features_valid_2)"
   ]
  },
  {
   "cell_type": "markdown",
   "metadata": {},
   "source": [
    "2.3. Посчитаем средний запас предсказанного сырья и RMSE модели:"
   ]
  },
  {
   "cell_type": "code",
   "execution_count": 17,
   "metadata": {},
   "outputs": [],
   "source": [
    "# посчитаю rmse:\n",
    "rmse_0 = mean_squared_error(target_valid_0, predicted_valid_0)**0.5\n",
    "    \n",
    "# посчитаю средний запас сырья:\n",
    "predicted_valid_mean_0 = predicted_valid_0.sum()/len(predicted_valid_0)"
   ]
  },
  {
   "cell_type": "code",
   "execution_count": 18,
   "metadata": {},
   "outputs": [],
   "source": [
    "# посчитаю rmse:\n",
    "rmse_1 = mean_squared_error(target_valid_1, predicted_valid_1)**0.5\n",
    "    \n",
    "# посчитаю средний запас сырья:\n",
    "predicted_valid_mean_1 = predicted_valid_1.sum()/len(predicted_valid_1)"
   ]
  },
  {
   "cell_type": "code",
   "execution_count": 19,
   "metadata": {},
   "outputs": [],
   "source": [
    "# посчитаю rmse:\n",
    "rmse_2 = mean_squared_error(target_valid_2, predicted_valid_2)**0.5\n",
    "    \n",
    "# посчитаю средний запас сырья:\n",
    "predicted_valid_mean_2 = predicted_valid_2.sum()/len(predicted_valid_2)"
   ]
  },
  {
   "cell_type": "code",
   "execution_count": 20,
   "metadata": {},
   "outputs": [
    {
     "name": "stdout",
     "output_type": "stream",
     "text": [
      "Средний запас сырья в Регионе_0 = 92.59256778438035 rmse = 37.5794217150813\n",
      "Средний запас сырья в Регионе_1 = 68.72854689544602 rmse = 0.8930992867756165\n",
      "Средний запас сырья в Регионе_2 = 94.96504596800489 rmse = 40.02970873393434\n"
     ]
    }
   ],
   "source": [
    "#Напечатаю результат вместе:\n",
    "print('Средний запас сырья в Регионе_0 =', predicted_valid_mean_0, 'rmse =', rmse_0)\n",
    "print('Средний запас сырья в Регионе_1 =', predicted_valid_mean_1, 'rmse =', rmse_1)\n",
    "print('Средний запас сырья в Регионе_2 =', predicted_valid_mean_2, 'rmse =', rmse_2)"
   ]
  },
  {
   "cell_type": "markdown",
   "metadata": {},
   "source": [
    "Вывод: Средних запасов сырья больше всего в регионе_2, rmse так же выше всего в регионе_2."
   ]
  },
  {
   "cell_type": "markdown",
   "metadata": {},
   "source": [
    "## Подготовка к расчёту прибыли:"
   ]
  },
  {
   "cell_type": "markdown",
   "metadata": {},
   "source": [
    "3.1. Все ключевые значения для расчётов сохраним в отдельных переменных."
   ]
  },
  {
   "cell_type": "code",
   "execution_count": 22,
   "metadata": {},
   "outputs": [],
   "source": [
    "#Создам отдельные переменные для ключевых значения:\n",
    "#Бюджет на 200 скважин:\n",
    "budget_200 = 10*10**9\n",
    "#500 исследуемых очек:\n",
    "points_500 = 500 \n",
    "#Отобранные 200 лучших точек:\n",
    "points_200 = 200\n",
    "budget_point = budget_200 / points_200\n",
    "#Доход:\n",
    "profit = 450\n",
    "#Доход с каждого продукта:\n",
    "profit_1 = 450 * 10**3\n",
    "#Порог вероятности убытков:\n",
    "threshold = 2,5 "
   ]
  },
  {
   "cell_type": "markdown",
   "metadata": {},
   "source": [
    "3.2. Рассчитаем достаточный объём сырья для безубыточной разработки новой скважины. Сравним полученный объём сырья со средним запасом в каждом регионе."
   ]
  },
  {
   "cell_type": "code",
   "execution_count": 23,
   "metadata": {},
   "outputs": [],
   "source": [
    "#Объем сырья для безубыточной разработки скважин:\n",
    "volume_without_losses = budget_200 / points_200 / profit"
   ]
  },
  {
   "cell_type": "code",
   "execution_count": 24,
   "metadata": {
    "scrolled": true
   },
   "outputs": [
    {
     "name": "stdout",
     "output_type": "stream",
     "text": [
      "Достаточный объём сырья для безубыточной разработки новой скважины = 111.111\n"
     ]
    }
   ],
   "source": [
    "#Поделим на 1000, округлим до 3 цифр:\n",
    "print(f'Достаточный объём сырья для безубыточной разработки новой скважины = {round(volume_without_losses/1000, 3)}')"
   ]
  },
  {
   "cell_type": "code",
   "execution_count": 25,
   "metadata": {},
   "outputs": [
    {
     "name": "stdout",
     "output_type": "stream",
     "text": [
      "Разница среднего запаса сырья в Регионе_0 и достаточного объема сырья равна -18611.111111111095\n"
     ]
    }
   ],
   "source": [
    "print('Разница среднего запаса сырья в Регионе_0 и достаточного объема сырья равна', \\\n",
    "      data_0['product'].mean()*1000 - volume_without_losses)"
   ]
  },
  {
   "cell_type": "code",
   "execution_count": 26,
   "metadata": {
    "scrolled": true
   },
   "outputs": [
    {
     "name": "stdout",
     "output_type": "stream",
     "text": [
      "Разница среднего запаса сырья в Регионе_1 и достаточного объема сырья равна -42286.111111111095\n"
     ]
    }
   ],
   "source": [
    "print('Разница среднего запаса сырья в Регионе_1 и достаточного объема сырья равна', \\\n",
    "      data_1['product'].mean()*1000 - volume_without_losses)"
   ]
  },
  {
   "cell_type": "code",
   "execution_count": 27,
   "metadata": {
    "scrolled": true
   },
   "outputs": [
    {
     "name": "stdout",
     "output_type": "stream",
     "text": [
      "Разница среднего запаса сырья в Регионе_2 и достаточного объема сырья равна -16111.111111111066\n"
     ]
    }
   ],
   "source": [
    "print('Разница среднего запаса сырья в Регионе_2 и достаточного объема сырья равна', \\\n",
    "      data_2['product'].mean()*1000 - volume_without_losses)"
   ]
  },
  {
   "cell_type": "markdown",
   "metadata": {},
   "source": [
    "Вывод: \n",
    "По разнице среднего запаса сырья в каждом регионе и достаточного объема сырья для безубыточной разработки скважин можно выделить Регион_1 в отрицательную сторону, разница самая высокая, а привлекательным (пока что) кажется Регион_2."
   ]
  },
  {
   "cell_type": "markdown",
   "metadata": {},
   "source": [
    "3.3 Выберем скважины с максимальными значениями предсказаний. Просуммируем целевое значение объёма сырья, соответствующее этим предсказаниям. Рассчитаем прибыль для полученного объёма сырья."
   ]
  },
  {
   "cell_type": "code",
   "execution_count": 28,
   "metadata": {},
   "outputs": [],
   "source": [
    "#Напишу функцию расчета прибыли:\n",
    "def profit_all(target, probabilities, count, profit, budget_200):\n",
    "    sorted_probabilities = probabilities.sort_values(ascending=False)\n",
    "    target_selected = target[sorted_probabilities.index][:count]\n",
    "    return int(profit * target_selected.sum() - budget_200)"
   ]
  },
  {
   "cell_type": "markdown",
   "metadata": {},
   "source": [
    "## Расчёт прибыли и рисков:"
   ]
  },
  {
   "cell_type": "code",
   "execution_count": 29,
   "metadata": {},
   "outputs": [],
   "source": [
    "# метод для приведения к типу Series\n",
    "def series_type(target, pred):\n",
    "    target = target.reset_index(drop=True)\n",
    "    pred = pd.Series(pred)\n",
    "    return target, pred"
   ]
  },
  {
   "cell_type": "code",
   "execution_count": 30,
   "metadata": {},
   "outputs": [],
   "source": [
    "# приведем целевые и прогнозные значения по всем регионам к одному типу\n",
    "target_valid_0, predicted_valid_0 = series_type(target_valid_0, predicted_valid_0)\n",
    "target_valid_1, predicted_valid_1 = series_type(target_valid_1, predicted_valid_1)\n",
    "target_valid_2, predicted_valid_2 = series_type(target_valid_2, predicted_valid_2)"
   ]
  },
  {
   "cell_type": "markdown",
   "metadata": {},
   "source": [
    "5.1. Применю технику Bootstrap с 1000 выборок, чтобы найти распределение прибыли:"
   ]
  },
  {
   "cell_type": "code",
   "execution_count": 31,
   "metadata": {},
   "outputs": [],
   "source": [
    "# метод получения основных расчётных параметров с помощью будстрепа\n",
    "def bootstrap(target, predicted, points_200, profit_1, budget_200):\n",
    "    state = RandomState(12345)\n",
    "    values = []\n",
    "    for i in range(1000):\n",
    "        target_subsample = target.sample(n = points_500, replace=True, random_state=state)\n",
    "        pred_subsumple = predicted[target_subsample.index]\n",
    "\n",
    "        values.append(profit_all(target_subsample, pred_subsumple, points_200, profit_1, budget_200))\n",
    "    values = pd.Series(values)\n",
    "    values_mean = int(values.mean())\n",
    "    lower = int(values.quantile(q=0.025))\n",
    "    upper = int(values.quantile(q=0.975))\n",
    "    risk = int(len(values[values < 0]) / len(values) * 100)\n",
    "    return values_mean, lower, upper, risk"
   ]
  },
  {
   "cell_type": "code",
   "execution_count": 32,
   "metadata": {},
   "outputs": [],
   "source": [
    "#Посчитаем основные параметры для трёх регионов\n",
    "values_mean_0, lower_0, upper_0, risk_0  = bootstrap(target_valid_0, predicted_valid_0, points_200, profit_1, budget_200)\n",
    "values_mean_1, lower_1, upper_1, risk_1  = bootstrap(target_valid_1, predicted_valid_1, points_200, profit_1, budget_200)\n",
    "values_mean_2, lower_2, upper_2, risk_2  = bootstrap(target_valid_2, predicted_valid_2, points_200, profit_1, budget_200)"
   ]
  },
  {
   "cell_type": "markdown",
   "metadata": {},
   "source": [
    "5.2. Найду среднюю прибыль, 95%-й доверительный интервал и риск убытков:"
   ]
  },
  {
   "cell_type": "code",
   "execution_count": 33,
   "metadata": {},
   "outputs": [
    {
     "name": "stdout",
     "output_type": "stream",
     "text": [
      "Средняя прибыль лучших месторождений региона_0 равна 425938526\n",
      "Средняя прибыль лучших месторождений региона_1 равна 515222772\n",
      "Средняя прибыль лучших месторождений региона_2 равна 435008362\n"
     ]
    }
   ],
   "source": [
    "print('Средняя прибыль лучших месторождений региона_0 равна', values_mean_0)\n",
    "print('Средняя прибыль лучших месторождений региона_1 равна', values_mean_1)\n",
    "print('Средняя прибыль лучших месторождений региона_2 равна', values_mean_2)"
   ]
  },
  {
   "cell_type": "code",
   "execution_count": 34,
   "metadata": {},
   "outputs": [
    {
     "name": "stdout",
     "output_type": "stream",
     "text": [
      "95% доверительный интервал для средней прибыли 200 лучших месторождений региона_0 -102090093 947976352\n",
      "95% доверительный интервал для средней прибыли 200 лучших месторождений региона_1 68873225 931547590\n",
      "95% доверительный интервал для средней прибыли 200 лучших месторождений региона_2 -128880546 969706953\n"
     ]
    }
   ],
   "source": [
    "print('95% доверительный интервал для средней прибыли 200 лучших месторождений региона_0', lower_0, upper_0)\n",
    "print('95% доверительный интервал для средней прибыли 200 лучших месторождений региона_1', lower_1, upper_1)\n",
    "print('95% доверительный интервал для средней прибыли 200 лучших месторождений региона_2', lower_2, upper_2)"
   ]
  },
  {
   "cell_type": "code",
   "execution_count": 35,
   "metadata": {},
   "outputs": [
    {
     "name": "stdout",
     "output_type": "stream",
     "text": [
      "Риск убытков региона_0 равен 6 %\n",
      "Риск убытков региона_1 равен 1 %\n",
      "Риск убытков региона_2 равен 6 %\n"
     ]
    }
   ],
   "source": [
    "print('Риск убытков региона_0 равен', risk_0, '%')\n",
    "print('Риск убытков региона_1 равен', risk_1, '%')\n",
    "print('Риск убытков региона_2 равен', risk_2, '%')"
   ]
  },
  {
   "cell_type": "markdown",
   "metadata": {},
   "source": [
    "Вывод: Я загрузила данные, и все необходимые библиотеки. Изучида и подготовила данные, обучила модель линейной регресии, подготовила прогноз для скважин трех регионов. Средних запасов сырья было больше во во 2-м регионе, так же, как и RMSE было выше всего. \n",
    "\n",
    "Так же я сделала вывод, что достаточный объем сырья для безубыточной разработки новой скважиный равен 111.111 тыс. баррелей. \n",
    "\n",
    "Применила Bootstrap с 1000 выборок, для нахождения распределения прибыли, 95%-го доверительного интервала, риска убытков региона - для этого создала функцию, чтобы не дублировать код. \n",
    "\n",
    "После всей проведенной работы рекомендую Регион_1 для разработки скважин: так, как и средняя прибыль выше остальных (515 222 772 руб.), и 95% доверительный интервал лучше(68873225, 931547590), и риск убытков региона меньше(1%)."
   ]
  }
 ],
 "metadata": {
  "ExecuteTimeLog": [
   {
    "duration": 49,
    "start_time": "2022-12-15T20:56:54.417Z"
   },
   {
    "duration": 46,
    "start_time": "2022-12-15T20:57:07.382Z"
   },
   {
    "duration": 1519,
    "start_time": "2022-12-15T21:06:16.016Z"
   },
   {
    "duration": 612,
    "start_time": "2022-12-15T21:06:59.771Z"
   },
   {
    "duration": 40,
    "start_time": "2022-12-15T21:07:29.258Z"
   },
   {
    "duration": 12,
    "start_time": "2022-12-15T21:10:13.092Z"
   },
   {
    "duration": 5,
    "start_time": "2022-12-15T21:16:12.999Z"
   },
   {
    "duration": 13,
    "start_time": "2022-12-15T21:17:22.178Z"
   },
   {
    "duration": 6,
    "start_time": "2022-12-15T21:17:52.994Z"
   },
   {
    "duration": 13,
    "start_time": "2022-12-15T21:18:21.549Z"
   },
   {
    "duration": 52,
    "start_time": "2022-12-15T21:18:58.708Z"
   },
   {
    "duration": 99,
    "start_time": "2022-12-15T21:19:16.943Z"
   },
   {
    "duration": 51,
    "start_time": "2022-12-15T21:19:30.912Z"
   },
   {
    "duration": 49,
    "start_time": "2022-12-15T21:19:35.163Z"
   },
   {
    "duration": 14,
    "start_time": "2022-12-15T21:19:47.482Z"
   },
   {
    "duration": 15,
    "start_time": "2022-12-15T21:20:11.749Z"
   },
   {
    "duration": 18,
    "start_time": "2022-12-15T21:21:04.862Z"
   },
   {
    "duration": 107,
    "start_time": "2022-12-15T21:23:34.305Z"
   },
   {
    "duration": 12,
    "start_time": "2022-12-15T21:24:55.466Z"
   },
   {
    "duration": 14,
    "start_time": "2022-12-15T21:24:57.469Z"
   },
   {
    "duration": 15,
    "start_time": "2022-12-15T21:24:57.773Z"
   },
   {
    "duration": 14,
    "start_time": "2022-12-15T21:24:58.074Z"
   },
   {
    "duration": 14,
    "start_time": "2022-12-15T21:25:00.549Z"
   },
   {
    "duration": 14,
    "start_time": "2022-12-15T21:25:03.674Z"
   },
   {
    "duration": 15,
    "start_time": "2022-12-15T21:25:05.744Z"
   },
   {
    "duration": 13,
    "start_time": "2022-12-15T21:25:07.492Z"
   },
   {
    "duration": 14,
    "start_time": "2022-12-15T21:25:09.144Z"
   },
   {
    "duration": 14,
    "start_time": "2022-12-15T21:25:10.749Z"
   },
   {
    "duration": 19,
    "start_time": "2022-12-15T21:25:11.050Z"
   },
   {
    "duration": 20,
    "start_time": "2022-12-15T21:25:14.852Z"
   },
   {
    "duration": 4,
    "start_time": "2022-12-15T21:26:43.367Z"
   },
   {
    "duration": 5,
    "start_time": "2022-12-15T21:26:53.048Z"
   },
   {
    "duration": 4,
    "start_time": "2022-12-15T21:26:57.548Z"
   },
   {
    "duration": 5,
    "start_time": "2022-12-15T21:27:19.195Z"
   },
   {
    "duration": 4,
    "start_time": "2022-12-15T21:27:37.959Z"
   },
   {
    "duration": 4,
    "start_time": "2022-12-15T21:28:37.885Z"
   },
   {
    "duration": 56,
    "start_time": "2022-12-16T19:57:04.785Z"
   },
   {
    "duration": 1514,
    "start_time": "2022-12-16T19:57:09.502Z"
   },
   {
    "duration": 1651,
    "start_time": "2022-12-16T19:57:11.018Z"
   },
   {
    "duration": 36,
    "start_time": "2022-12-16T19:57:12.671Z"
   },
   {
    "duration": 13,
    "start_time": "2022-12-16T19:57:12.708Z"
   },
   {
    "duration": 22,
    "start_time": "2022-12-16T19:57:12.723Z"
   },
   {
    "duration": 34,
    "start_time": "2022-12-16T19:57:12.746Z"
   },
   {
    "duration": 17,
    "start_time": "2022-12-16T19:57:12.782Z"
   },
   {
    "duration": 18,
    "start_time": "2022-12-16T19:57:12.800Z"
   },
   {
    "duration": 116,
    "start_time": "2022-12-16T19:57:12.820Z"
   },
   {
    "duration": 104,
    "start_time": "2022-12-16T19:57:12.941Z"
   },
   {
    "duration": 176,
    "start_time": "2022-12-16T19:57:13.047Z"
   },
   {
    "duration": 102,
    "start_time": "2022-12-16T19:57:13.224Z"
   },
   {
    "duration": 7,
    "start_time": "2022-12-16T19:57:13.336Z"
   },
   {
    "duration": 5,
    "start_time": "2022-12-16T19:57:13.345Z"
   },
   {
    "duration": 9,
    "start_time": "2022-12-16T19:57:13.351Z"
   },
   {
    "duration": 103,
    "start_time": "2022-12-16T19:57:13.361Z"
   },
   {
    "duration": 3,
    "start_time": "2022-12-16T19:58:16.284Z"
   },
   {
    "duration": 10,
    "start_time": "2022-12-16T19:58:48.075Z"
   },
   {
    "duration": 2,
    "start_time": "2022-12-16T20:01:18.933Z"
   },
   {
    "duration": 8,
    "start_time": "2022-12-16T20:02:51.311Z"
   },
   {
    "duration": 9,
    "start_time": "2022-12-16T20:03:26.148Z"
   },
   {
    "duration": 3,
    "start_time": "2022-12-16T20:03:39.916Z"
   },
   {
    "duration": 5,
    "start_time": "2022-12-16T20:15:19.646Z"
   },
   {
    "duration": 4,
    "start_time": "2022-12-16T20:15:38.039Z"
   },
   {
    "duration": 80,
    "start_time": "2022-12-16T20:17:05.072Z"
   },
   {
    "duration": 83,
    "start_time": "2022-12-16T20:17:18.183Z"
   },
   {
    "duration": 4,
    "start_time": "2022-12-16T20:17:49.210Z"
   },
   {
    "duration": 74,
    "start_time": "2022-12-16T20:17:51.535Z"
   },
   {
    "duration": 71,
    "start_time": "2022-12-16T20:18:25.856Z"
   },
   {
    "duration": 363,
    "start_time": "2022-12-16T20:18:31.845Z"
   },
   {
    "duration": 3,
    "start_time": "2022-12-16T20:19:20.840Z"
   },
   {
    "duration": 4,
    "start_time": "2022-12-16T20:19:55.738Z"
   },
   {
    "duration": 3,
    "start_time": "2022-12-16T20:20:19.353Z"
   },
   {
    "duration": 5,
    "start_time": "2022-12-16T20:20:49.849Z"
   },
   {
    "duration": 3,
    "start_time": "2022-12-16T20:20:52.191Z"
   },
   {
    "duration": 3,
    "start_time": "2022-12-16T20:21:27.444Z"
   },
   {
    "duration": 5,
    "start_time": "2022-12-16T20:24:00.473Z"
   },
   {
    "duration": 4,
    "start_time": "2022-12-16T20:24:09.147Z"
   },
   {
    "duration": 3,
    "start_time": "2022-12-16T20:24:10.547Z"
   },
   {
    "duration": 5,
    "start_time": "2022-12-16T20:24:11.070Z"
   },
   {
    "duration": 13,
    "start_time": "2022-12-16T20:24:49.723Z"
   },
   {
    "duration": 3,
    "start_time": "2022-12-16T20:24:59.084Z"
   },
   {
    "duration": 4,
    "start_time": "2022-12-16T20:25:07.280Z"
   },
   {
    "duration": 10,
    "start_time": "2022-12-16T20:25:50.619Z"
   },
   {
    "duration": 3,
    "start_time": "2022-12-16T20:36:33.460Z"
   },
   {
    "duration": 4,
    "start_time": "2022-12-16T20:36:46.605Z"
   },
   {
    "duration": 6,
    "start_time": "2022-12-16T20:38:34.256Z"
   },
   {
    "duration": 1531,
    "start_time": "2022-12-22T08:10:24.011Z"
   },
   {
    "duration": 738,
    "start_time": "2022-12-22T08:10:25.544Z"
   },
   {
    "duration": 46,
    "start_time": "2022-12-22T08:10:26.285Z"
   },
   {
    "duration": 16,
    "start_time": "2022-12-22T08:10:26.334Z"
   },
   {
    "duration": 10,
    "start_time": "2022-12-22T08:10:26.352Z"
   },
   {
    "duration": 24,
    "start_time": "2022-12-22T08:10:26.364Z"
   },
   {
    "duration": 35,
    "start_time": "2022-12-22T08:10:26.390Z"
   },
   {
    "duration": 23,
    "start_time": "2022-12-22T08:10:26.427Z"
   },
   {
    "duration": 64,
    "start_time": "2022-12-22T08:10:26.452Z"
   },
   {
    "duration": 193,
    "start_time": "2022-12-22T08:10:26.519Z"
   },
   {
    "duration": 99,
    "start_time": "2022-12-22T08:10:26.714Z"
   },
   {
    "duration": 5,
    "start_time": "2022-12-22T08:10:26.816Z"
   },
   {
    "duration": 91,
    "start_time": "2022-12-22T08:10:26.823Z"
   },
   {
    "duration": 97,
    "start_time": "2022-12-22T08:10:26.916Z"
   },
   {
    "duration": 38,
    "start_time": "2022-12-22T08:10:27.015Z"
   },
   {
    "duration": 37,
    "start_time": "2022-12-22T08:10:27.055Z"
   },
   {
    "duration": 39,
    "start_time": "2022-12-22T08:10:27.093Z"
   },
   {
    "duration": 152,
    "start_time": "2022-12-22T08:10:27.133Z"
   },
   {
    "duration": 0,
    "start_time": "2022-12-22T08:10:27.287Z"
   },
   {
    "duration": 0,
    "start_time": "2022-12-22T08:10:27.289Z"
   },
   {
    "duration": 0,
    "start_time": "2022-12-22T08:10:27.290Z"
   },
   {
    "duration": 0,
    "start_time": "2022-12-22T08:10:27.291Z"
   },
   {
    "duration": 0,
    "start_time": "2022-12-22T08:10:27.293Z"
   },
   {
    "duration": 2,
    "start_time": "2022-12-22T08:12:07.941Z"
   },
   {
    "duration": 4,
    "start_time": "2022-12-22T08:12:12.843Z"
   },
   {
    "duration": 5,
    "start_time": "2022-12-22T08:12:26.919Z"
   },
   {
    "duration": 7,
    "start_time": "2022-12-22T08:15:45.065Z"
   },
   {
    "duration": 48,
    "start_time": "2022-12-22T08:16:20.121Z"
   },
   {
    "duration": 16,
    "start_time": "2022-12-22T08:18:14.175Z"
   },
   {
    "duration": 14,
    "start_time": "2022-12-22T08:18:23.968Z"
   },
   {
    "duration": 16,
    "start_time": "2022-12-22T08:18:31.420Z"
   },
   {
    "duration": 1341,
    "start_time": "2022-12-22T08:18:38.097Z"
   },
   {
    "duration": 371,
    "start_time": "2022-12-22T08:18:39.441Z"
   },
   {
    "duration": 39,
    "start_time": "2022-12-22T08:18:39.814Z"
   },
   {
    "duration": 14,
    "start_time": "2022-12-22T08:18:39.854Z"
   },
   {
    "duration": 6,
    "start_time": "2022-12-22T08:18:39.871Z"
   },
   {
    "duration": 40,
    "start_time": "2022-12-22T08:18:39.878Z"
   },
   {
    "duration": 17,
    "start_time": "2022-12-22T08:18:39.920Z"
   },
   {
    "duration": 16,
    "start_time": "2022-12-22T08:18:39.939Z"
   },
   {
    "duration": 59,
    "start_time": "2022-12-22T08:18:39.957Z"
   },
   {
    "duration": 105,
    "start_time": "2022-12-22T08:18:40.018Z"
   },
   {
    "duration": 189,
    "start_time": "2022-12-22T08:18:40.128Z"
   },
   {
    "duration": 97,
    "start_time": "2022-12-22T08:18:40.319Z"
   },
   {
    "duration": 102,
    "start_time": "2022-12-22T08:18:40.417Z"
   },
   {
    "duration": 5,
    "start_time": "2022-12-22T08:18:40.522Z"
   },
   {
    "duration": 13,
    "start_time": "2022-12-22T08:18:40.528Z"
   },
   {
    "duration": 5,
    "start_time": "2022-12-22T08:18:40.542Z"
   },
   {
    "duration": 10,
    "start_time": "2022-12-22T08:18:40.549Z"
   },
   {
    "duration": 115,
    "start_time": "2022-12-22T08:18:40.560Z"
   },
   {
    "duration": 0,
    "start_time": "2022-12-22T08:18:40.676Z"
   },
   {
    "duration": 0,
    "start_time": "2022-12-22T08:18:40.677Z"
   },
   {
    "duration": 1,
    "start_time": "2022-12-22T08:18:40.678Z"
   },
   {
    "duration": 0,
    "start_time": "2022-12-22T08:18:40.680Z"
   },
   {
    "duration": 0,
    "start_time": "2022-12-22T08:18:40.682Z"
   },
   {
    "duration": 0,
    "start_time": "2022-12-22T08:18:40.683Z"
   },
   {
    "duration": 0,
    "start_time": "2022-12-22T08:18:40.685Z"
   },
   {
    "duration": 0,
    "start_time": "2022-12-22T08:18:40.685Z"
   },
   {
    "duration": 10,
    "start_time": "2022-12-22T08:19:38.421Z"
   },
   {
    "duration": 3,
    "start_time": "2022-12-22T08:21:11.131Z"
   },
   {
    "duration": 4,
    "start_time": "2022-12-22T08:21:11.878Z"
   },
   {
    "duration": 4,
    "start_time": "2022-12-22T08:21:12.971Z"
   },
   {
    "duration": 4,
    "start_time": "2022-12-22T08:21:13.429Z"
   },
   {
    "duration": 5,
    "start_time": "2022-12-22T08:21:13.901Z"
   },
   {
    "duration": 3,
    "start_time": "2022-12-22T08:21:15.854Z"
   },
   {
    "duration": 4,
    "start_time": "2022-12-22T08:21:16.387Z"
   },
   {
    "duration": 6,
    "start_time": "2022-12-22T08:21:16.647Z"
   },
   {
    "duration": 5,
    "start_time": "2022-12-22T08:21:17.179Z"
   },
   {
    "duration": 11,
    "start_time": "2022-12-22T08:21:17.454Z"
   },
   {
    "duration": 19,
    "start_time": "2022-12-22T08:21:39.677Z"
   },
   {
    "duration": 19,
    "start_time": "2022-12-22T08:21:52.365Z"
   },
   {
    "duration": 5,
    "start_time": "2022-12-22T08:22:07.689Z"
   },
   {
    "duration": 19,
    "start_time": "2022-12-22T08:22:08.493Z"
   },
   {
    "duration": 5,
    "start_time": "2022-12-22T08:25:49.630Z"
   },
   {
    "duration": 4247,
    "start_time": "2022-12-22T08:25:57.303Z"
   },
   {
    "duration": 5,
    "start_time": "2022-12-22T08:26:16.418Z"
   },
   {
    "duration": 5,
    "start_time": "2022-12-22T08:26:32.523Z"
   },
   {
    "duration": 6,
    "start_time": "2022-12-22T08:26:49.058Z"
   }
  ],
  "kernelspec": {
   "display_name": "Python 3 (ipykernel)",
   "language": "python",
   "name": "python3"
  },
  "language_info": {
   "codemirror_mode": {
    "name": "ipython",
    "version": 3
   },
   "file_extension": ".py",
   "mimetype": "text/x-python",
   "name": "python",
   "nbconvert_exporter": "python",
   "pygments_lexer": "ipython3",
   "version": "3.10.7"
  },
  "toc": {
   "base_numbering": 1,
   "nav_menu": {},
   "number_sections": true,
   "sideBar": true,
   "skip_h1_title": true,
   "title_cell": "Table of Contents",
   "title_sidebar": "Contents",
   "toc_cell": false,
   "toc_position": {},
   "toc_section_display": true,
   "toc_window_display": false
  }
 },
 "nbformat": 4,
 "nbformat_minor": 2
}
